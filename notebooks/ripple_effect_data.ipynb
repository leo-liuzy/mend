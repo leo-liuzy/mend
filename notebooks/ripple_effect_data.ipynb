{
 "cells": [
  {
   "cell_type": "code",
   "execution_count": null,
   "metadata": {},
   "outputs": [],
   "source": [
    "from glob import glob\n",
    "# import sys\n",
    "from dotenv import load_dotenv\n",
    "\n",
    "load_dotenv()\n",
    "# sys.path.append(\"/u/zliu/datastor1/KE-by-CP\")\n",
    "import pandas as pd\n",
    "# from experiments.musique.inference_only import macro_averaging\n",
    "from knowledge_propagation.utils import io, vars, extractor\n",
    "import os\n",
    "import numpy as np\n",
    "from tqdm import tqdm\n",
    "import seaborn as sns\n",
    "import matplotlib.pyplot as plt\n",
    "from scipy.stats import describe\n",
    "from thefuzz import fuzz\n",
    "\n",
    "from datasets import load_dataset, load_from_disk\n",
    "\n",
    "from copy import deepcopy\n",
    "\n",
    "from dateutil.parser import parse\n",
    "from dateutil.parser import ParserError\n",
    "\n",
    "from collections import defaultdict\n",
    "\n",
    "import re\n"
   ]
  },
  {
   "cell_type": "code",
   "execution_count": 62,
   "metadata": {},
   "outputs": [
    {
     "data": {
      "text/plain": [
       "2833"
      ]
     },
     "execution_count": 62,
     "metadata": {},
     "output_type": "execute_result"
    }
   ],
   "source": [
    "popular_examples = io.load_jsonlines(f\"{vars.DATA_DIR}/ripple_edits/benchmark/popular.json\")\n",
    "assert len(popular_examples) == 1\n",
    "popular_examples = popular_examples[0]\n",
    "\n",
    "# random_examples = io.load_jsonlines(f\"{vars.DATA_DIR}/ripple_edits/benchmark/random.json\")\n",
    "# assert len(random_examples) == 1\n",
    "# random_examples = random_examples[0]\n",
    "\n",
    "recent_examples = io.load_jsonlines(f\"{vars.DATA_DIR}/ripple_edits/benchmark/recent.json\")\n",
    "assert len(recent_examples) == 1\n",
    "recent_examples = recent_examples[0]\n",
    "\n",
    "ripple_edits_examples = popular_examples +  recent_examples # + random_examples\n",
    "len(ripple_edits_examples)"
   ]
  },
  {
   "cell_type": "code",
   "execution_count": 63,
   "metadata": {},
   "outputs": [],
   "source": [
    "# random_examples[0]"
   ]
  },
  {
   "cell_type": "markdown",
   "metadata": {},
   "source": []
  },
  {
   "cell_type": "code",
   "execution_count": 69,
   "metadata": {},
   "outputs": [
    {
     "name": "stdout",
     "output_type": "stream",
     "text": [
      "# strong examples 2080\n",
      "# weak examples 690\n"
     ]
    }
   ],
   "source": [
    "non_zero_outerloop_count = 0\n",
    "strong_meta_examples = []\n",
    "weak_meta_examples = []\n",
    "for example in ripple_edits_examples:\n",
    "    outerloop_instances = example[\"Logical_Generalization\"] + example[\"Compositionality_I\"] + example[\"Compositionality_II\"] + example[\"Subject_Aliasing\"]\n",
    "    # for ins in outerloop_instances:\n",
    "        # assert len(ins[\"test_queries\"]) == 1\n",
    "    locality_instances = example[\"Relation_Specificity\"] + example[\"Forgetfulness\"] \n",
    "    # non_zero_outerloop_count += len(outerloop_instances) > 0\n",
    "    if len(outerloop_instances) > 0 and len(locality_instances) > 0:\n",
    "        \n",
    "        outerloop_queries = [q for instance in outerloop_instances for q in instance[\"test_queries\"]]\n",
    "        outerloop_queries = [q for q in outerloop_queries if len(q[\"answers\"]) > 0]\n",
    "        outerloop_queries = [q for q in outerloop_queries if len([a[\"value\"] for a in q[\"answers\"] if len(a[\"value\"].strip() ) > 0 ]) > 0]\n",
    "        assert all([len(q[\"prompt\"].strip()) > 0 for q in outerloop_queries])\n",
    "        \n",
    "        if len(outerloop_queries) == 0:\n",
    "            continue\n",
    "        \n",
    "        locality_queries = [q for instance in locality_instances for q in instance[\"test_queries\"]]\n",
    "        locality_queries = [q for q in locality_queries if len(q[\"answers\"]) > 0]\n",
    "        locality_queries = [q for q in locality_queries if len([a[\"value\"] for a in q[\"answers\"] if len(a[\"value\"].strip() ) > 0 ]) > 0]\n",
    "        assert all([len(q[\"prompt\"].strip()) > 0 for q in locality_queries])\n",
    "        \n",
    "        assert len(locality_queries) > 0\n",
    "        \n",
    "        strong_meta_examples.append(example)\n",
    "    elif len(locality_instances) == 0:\n",
    "        \n",
    "        outerloop_queries = [q for instance in outerloop_instances for q in instance[\"test_queries\"]]\n",
    "        outerloop_queries = [q for q in outerloop_queries if len(q[\"answers\"]) > 0]\n",
    "        outerloop_queries = [q for q in outerloop_queries if len([a[\"value\"] for a in q[\"answers\"] if len(a[\"value\"].strip() ) > 0 ]) > 0]\n",
    "        assert all([len(q[\"prompt\"].strip()) > 0 for q in outerloop_queries])\n",
    "        \n",
    "        if len(outerloop_queries) == 0:\n",
    "            continue\n",
    "        \n",
    "        weak_meta_examples.append(example)\n",
    "    else:\n",
    "        locality_queries = [q for instance in locality_instances for q in instance[\"test_queries\"]]\n",
    "        locality_queries = [q for q in locality_queries if len(q[\"answers\"]) > 0]\n",
    "        locality_queries = [q for q in locality_queries if len([a[\"value\"] for a in q[\"answers\"] if len(a[\"value\"].strip() ) > 0 ]) > 0]\n",
    "        assert all([len(q[\"prompt\"].strip()) > 0 for q in locality_queries])\n",
    "        \n",
    "        assert len(locality_queries) > 0\n",
    "        \n",
    "        weak_meta_examples.append(example)\n",
    "        \n",
    "print(\"# strong examples\", len(strong_meta_examples))\n",
    "print(\"# weak examples\", len(weak_meta_examples))"
   ]
  },
  {
   "cell_type": "code",
   "execution_count": 70,
   "metadata": {},
   "outputs": [
    {
     "data": {
      "text/plain": [
       "2770"
      ]
     },
     "execution_count": 70,
     "metadata": {},
     "output_type": "execute_result"
    }
   ],
   "source": [
    "len(strong_meta_examples) + len(weak_meta_examples)"
   ]
  },
  {
   "cell_type": "code",
   "execution_count": 76,
   "metadata": {},
   "outputs": [
    {
     "data": {
      "text/plain": [
       "[['Mary Prudence Ord'],\n",
       " ['Lawrence Hay Fyffe'],\n",
       " ['Henrietta Frances Arnaud Blagden'],\n",
       " ['Alan Fyffe', 'Mary Constance Fyffe'],\n",
       " ['male'],\n",
       " ['history', 'journalism']]"
      ]
     },
     "execution_count": 76,
     "metadata": {},
     "output_type": "execute_result"
    }
   ],
   "source": [
    "[[a[\"value\"] for a in q[\"answers\"] if len(a[\"value\"].strip()) > 0] for q in locality_queries]"
   ]
  },
  {
   "cell_type": "code",
   "execution_count": 71,
   "metadata": {},
   "outputs": [],
   "source": [
    "n_test = 200\n",
    "n_valid = 200\n",
    "np.random.shuffle(strong_meta_examples)\n",
    "np.random.shuffle(weak_meta_examples)\n",
    "\n",
    "test_examples = strong_meta_examples[:n_test]\n",
    "valid_examples = strong_meta_examples[n_test:n_test+n_valid]\n",
    "train_examples = strong_meta_examples[n_test+n_valid:] + weak_meta_examples\n",
    "np.random.shuffle(train_examples)"
   ]
  },
  {
   "cell_type": "code",
   "execution_count": null,
   "metadata": {},
   "outputs": [],
   "source": [
    "# io.dump_jsonlines(train_examples, f\"{vars.DATA_DIR}/ripple_edits/meta_train/train.jsonl\")\n",
    "# io.dump_jsonlines(valid_examples, f\"{vars.DATA_DIR}/ripple_edits/meta_train/valid.jsonl\")\n",
    "# io.dump_jsonlines(test_examples, f\"{vars.DATA_DIR}/ripple_edits/meta_train/test.jsonl\")\n"
   ]
  },
  {
   "cell_type": "code",
   "execution_count": null,
   "metadata": {},
   "outputs": [],
   "source": [
    "train_examples"
   ]
  },
  {
   "cell_type": "code",
   "execution_count": 3,
   "metadata": {},
   "outputs": [],
   "source": [
    "train_examples = io.load_jsonlines(f\"{vars.DATA_DIR}/ripple_edits/meta_train/train.jsonl\")"
   ]
  },
  {
   "cell_type": "code",
   "execution_count": 10,
   "metadata": {},
   "outputs": [],
   "source": [
    "non_zero_outerloop_count = 0\n",
    "strong_meta_examples = []\n",
    "weak_meta_examples = []\n",
    "count_rel = defaultdict(int)\n",
    "count_prop_types = defaultdict(int)\n",
    "\n",
    "for example in train_examples:\n",
    "    outerloop_instances = example[\"Logical_Generalization\"] + example[\"Compositionality_I\"] + example[\"Compositionality_II\"] + example[\"Subject_Aliasing\"]\n",
    "    # for ins in outerloop_instances:\n",
    "        # assert len(ins[\"test_queries\"]) == 1\n",
    "    locality_instances = example[\"Relation_Specificity\"] + example[\"Forgetfulness\"] \n",
    "    \n",
    "    outerloop_queries = []\n",
    "    for k in [\"Logical_Generalization\", \"Compositionality_I\", \"Compositionality_II\", \"Subject_Aliasing\"]:\n",
    "        for instance in example[k]:\n",
    "            for q in instance[\"test_queries\"]:\n",
    "                if len(q[\"answers\"]) > 0 and len([a[\"value\"] for a in q[\"answers\"] if len(a[\"value\"].strip() ) > 0 ]) > 0:\n",
    "                    q[\"question_type\"] = k\n",
    "                    outerloop_queries.append(q)\n",
    "    for outer_q in outerloop_queries:\n",
    "        count_prop_types[\"efficacy::\"+ outer_q[\"question_type\"]] += 1\n",
    "        count_rel[\"efficacy::\"+ outer_q[\"relation\"]] += 1\n",
    "    # assert len(outerloop_queries) > 0\n",
    "    \n",
    "    locality_queries = []\n",
    "    for k in [\"Relation_Specificity\", \"Forgetfulness\"]:\n",
    "        for instance in example[k]:\n",
    "            for q in instance[\"test_queries\"]:\n",
    "                if len(q[\"answers\"]) > 0 and len([a[\"value\"] for a in q[\"answers\"] if len(a[\"value\"].strip() ) > 0 ]) > 0:\n",
    "                    q[\"question_type\"] = k\n",
    "                    locality_queries.append(q)\n",
    "    for loc_q in locality_queries:\n",
    "        count_prop_types[\"specificity::\"+ loc_q[\"question_type\"]] += 1\n",
    "        count_rel[\"specificity::\"+ loc_q[\"relation\"]] += 1\n",
    "    # assert len(locality_queries) > 0\n",
    "        \n",
    "# print(\"# strong examples\", len(strong_meta_examples))\n",
    "# print(\"# weak examples\", len(weak_meta_examples))"
   ]
  },
  {
   "cell_type": "code",
   "execution_count": 11,
   "metadata": {},
   "outputs": [
    {
     "data": {
      "text/plain": [
       "defaultdict(int,\n",
       "            {'efficacy::Logical_Generalization': 1289,\n",
       "             'efficacy::Compositionality_I': 9613,\n",
       "             'specificity::Relation_Specificity': 10679,\n",
       "             'specificity::Forgetfulness': 1450,\n",
       "             'efficacy::Subject_Aliasing': 3062,\n",
       "             'efficacy::Compositionality_II': 1325})"
      ]
     },
     "execution_count": 11,
     "metadata": {},
     "output_type": "execute_result"
    }
   ],
   "source": [
    "count_prop_types"
   ]
  },
  {
   "cell_type": "code",
   "execution_count": null,
   "metadata": {},
   "outputs": [
    {
     "data": {
      "text/plain": [
       "defaultdict(int,\n",
       "            {'efficacy::SIBLING': 384,\n",
       "             'efficacy::SPOUSE': 904,\n",
       "             'specificity::SIBLING': 289,\n",
       "             'specificity::SEX_OR_GENDER': 1378,\n",
       "             'specificity::COUNTRY_OF_CITIZENSHIP': 1278,\n",
       "             'specificity::RELIGION': 326,\n",
       "             'specificity::SPOUSE': 428,\n",
       "             'specificity::DIRECTOR': 196,\n",
       "             'specificity::SCREENWRITER': 158,\n",
       "             'specificity::COMPOSER': 171,\n",
       "             'specificity::CAST_MEMBER': 196,\n",
       "             'efficacy::FOLLOWED_BY': 146,\n",
       "             'specificity::FIELD_OF_WORK': 211,\n",
       "             'specificity::FOUNDER': 65,\n",
       "             'specificity::FOLLOWS': 71,\n",
       "             'specificity::PLACE_OF_BIRTH': 1079,\n",
       "             'specificity::PLACE_OF_DEATH': 456,\n",
       "             'specificity::AWARD_RECEIVED': 546,\n",
       "             'efficacy::UNCLE': 60,\n",
       "             'efficacy::AUNT': 47,\n",
       "             'efficacy::CHILD': 279,\n",
       "             'efficacy::NUMBER_OF_CHILDREN': 166,\n",
       "             'efficacy::MOTHER': 951,\n",
       "             'efficacy::FATHER': 1769,\n",
       "             'specificity::FATHER': 406,\n",
       "             'specificity::CHILD': 377,\n",
       "             'specificity::POSITION_HELD': 322,\n",
       "             'specificity::ALMA_MATER': 727,\n",
       "             'specificity::OCCUPATION': 1319,\n",
       "             'specificity::MOTHER': 316,\n",
       "             'specificity::PLACE_OF_BURIAL': 181,\n",
       "             'efficacy::COUNTRY': 979,\n",
       "             'specificity::AUTHOR': 77,\n",
       "             'efficacy::OCCUPATION': 190,\n",
       "             'efficacy::LEAGUE': 57,\n",
       "             'specificity::MEMBER_OF_SPORTS_TEAM': 190,\n",
       "             'specificity::LEAGUE': 100,\n",
       "             'efficacy::FOLLOWS': 77,\n",
       "             'efficacy::FOUNDER': 421,\n",
       "             'efficacy::CONTINENT': 139,\n",
       "             'efficacy::CURRENCY': 87,\n",
       "             'efficacy::OFFICIAL_LANGUAGE': 125,\n",
       "             'efficacy::LIKELY_ANTHEM': 71,\n",
       "             'efficacy::IS_ALIVE': 99,\n",
       "             'efficacy::PLACE_OF_DEATH': 301,\n",
       "             'specificity::EMPLOYER': 265,\n",
       "             'efficacy::AUTHOR': 1417,\n",
       "             'efficacy::PLACE_OF_BURIAL': 129,\n",
       "             'efficacy::AWARD_RECEIVED': 147,\n",
       "             'specificity::EYE_COLOR': 69,\n",
       "             'specificity::ETHNIC_GROUP': 143,\n",
       "             'efficacy::FIELD_OF_WORK': 49,\n",
       "             'efficacy::CAPITAL_OF': 86,\n",
       "             'efficacy::POSITION_HELD': 82,\n",
       "             'efficacy::SEX_OR_GENDER': 215,\n",
       "             'efficacy::DIRECTOR': 603,\n",
       "             'specificity::COUNTRY': 254,\n",
       "             'efficacy::MEMBER_OF_SPORTS_TEAM': 47,\n",
       "             'efficacy::ARCHITECT': 442,\n",
       "             'specificity::ARCHITECT': 49,\n",
       "             'efficacy::CAST_MEMBER': 42,\n",
       "             'efficacy::ETHNIC_GROUP': 80,\n",
       "             'specificity::FOLLOWED_BY': 107,\n",
       "             'efficacy::COUNTRY_OF_CITIZENSHIP': 1023,\n",
       "             'efficacy::EDITOR': 463,\n",
       "             'specificity::EDITOR': 42,\n",
       "             'efficacy::HEAD_OF_STATE': 164,\n",
       "             'specificity::HEAD_OF_STATE': 33,\n",
       "             'efficacy::SCREENWRITER': 954,\n",
       "             'efficacy::COMPOSER': 959,\n",
       "             'efficacy::PLACE_OF_BIRTH': 555,\n",
       "             'efficacy::ANTHEM': 53,\n",
       "             'specificity::HEAD_OF_GOVERNMENT': 50,\n",
       "             'specificity::CAPITAL': 50,\n",
       "             'specificity::ANTHEM': 28,\n",
       "             'specificity::CAPITAL_OF': 5,\n",
       "             'efficacy::CAPITAL': 48,\n",
       "             'specificity::OFFICIAL_LANGUAGE': 57,\n",
       "             'efficacy::ALMA_MATER': 46,\n",
       "             'efficacy::DATE_OF_BIRTH': 34,\n",
       "             'efficacy::RELIGION': 34,\n",
       "             'efficacy::SEXUAL_ORIENTATION': 27,\n",
       "             'specificity::SEXUAL_ORIENTATION': 50,\n",
       "             'efficacy::EMPLOYER': 118,\n",
       "             'specificity::CONTINENT': 30,\n",
       "             'specificity::CURRENCY': 34,\n",
       "             'efficacy::HEAD_OF_GOVERNMENT': 184,\n",
       "             'efficacy::EYE_COLOR': 36})"
      ]
     },
     "execution_count": 12,
     "metadata": {},
     "output_type": "execute_result"
    }
   ],
   "source": [
    "count_rel"
   ]
  },
  {
   "cell_type": "code",
   "execution_count": null,
   "metadata": {},
   "outputs": [],
   "source": []
  }
 ],
 "metadata": {
  "kernelspec": {
   "display_name": "cpt",
   "language": "python",
   "name": "python3"
  },
  "language_info": {
   "codemirror_mode": {
    "name": "ipython",
    "version": 3
   },
   "file_extension": ".py",
   "mimetype": "text/x-python",
   "name": "python",
   "nbconvert_exporter": "python",
   "pygments_lexer": "ipython3",
   "version": "3.11.0"
  }
 },
 "nbformat": 4,
 "nbformat_minor": 2
}
