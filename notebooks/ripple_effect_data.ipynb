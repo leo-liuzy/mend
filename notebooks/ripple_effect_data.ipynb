{
 "cells": [
  {
   "cell_type": "code",
   "execution_count": 2,
   "metadata": {},
   "outputs": [],
   "source": [
    "from glob import glob\n",
    "# import sys\n",
    "from dotenv import load_dotenv\n",
    "\n",
    "load_dotenv()\n",
    "# sys.path.append(\"/u/zliu/datastor1/KE-by-CP\")\n",
    "import pandas as pd\n",
    "# from experiments.musique.inference_only import macro_averaging\n",
    "from knowledge_propagation.utils import io, vars, extractor\n",
    "import os\n",
    "import numpy as np\n",
    "from tqdm import tqdm\n",
    "import seaborn as sns\n",
    "import matplotlib.pyplot as plt\n",
    "from scipy.stats import describe\n",
    "from thefuzz import fuzz\n",
    "\n",
    "from datasets import load_dataset, load_from_disk\n",
    "\n",
    "from copy import deepcopy\n",
    "\n",
    "from dateutil.parser import parse\n",
    "from dateutil.parser import ParserError\n",
    "\n",
    "from collections import defaultdict\n",
    "import string\n",
    "\n",
    "import re\n"
   ]
  },
  {
   "cell_type": "code",
   "execution_count": 43,
   "metadata": {},
   "outputs": [
    {
     "data": {
      "text/plain": [
       "1948"
      ]
     },
     "execution_count": 43,
     "metadata": {},
     "output_type": "execute_result"
    }
   ],
   "source": [
    "popular_examples = io.load_jsonlines(f\"{vars.DATA_DIR}/ripple_edits/benchmark/popular.json\")\n",
    "assert len(popular_examples) == 1\n",
    "popular_examples = popular_examples[0]\n",
    "\n",
    "random_examples = io.load_jsonlines(f\"{vars.DATA_DIR}/ripple_edits/benchmark/random.json\")\n",
    "assert len(random_examples) == 1\n",
    "random_examples = random_examples[0]\n",
    "\n",
    "recent_examples = io.load_jsonlines(f\"{vars.DATA_DIR}/ripple_edits/benchmark/recent.json\")\n",
    "assert len(recent_examples) == 1\n",
    "recent_examples = recent_examples[0]\n",
    "\n",
    "ripple_edits_examples = recent_examples #  +  # random_examples #  + random_examples\n",
    "len(ripple_edits_examples)"
   ]
  },
  {
   "cell_type": "code",
   "execution_count": 44,
   "metadata": {},
   "outputs": [
    {
     "data": {
      "text/plain": [
       "292.2"
      ]
     },
     "execution_count": 44,
     "metadata": {},
     "output_type": "execute_result"
    }
   ],
   "source": [
    "0.15 * len(ripple_edits_examples)"
   ]
  },
  {
   "cell_type": "markdown",
   "metadata": {},
   "source": []
  },
  {
   "cell_type": "code",
   "execution_count": 45,
   "metadata": {},
   "outputs": [
    {
     "name": "stdout",
     "output_type": "stream",
     "text": [
      "# strong examples: 1318\n",
      "# weak examples: 575\n",
      "# invalid: 55\n"
     ]
    }
   ],
   "source": [
    "non_zero_outerloop_count = 0\n",
    "strong_meta_examples = []\n",
    "weak_meta_examples = []\n",
    "for example in ripple_edits_examples:\n",
    "    outerloop_instances = example[\"Logical_Generalization\"] + example[\"Compositionality_I\"] + example[\"Compositionality_II\"] + example[\"Subject_Aliasing\"]\n",
    "    # for ins in outerloop_instances:\n",
    "        # assert len(ins[\"test_queries\"]) == 1\n",
    "    locality_instances = example[\"Relation_Specificity\"] + example[\"Forgetfulness\"] \n",
    "    # non_zero_outerloop_count += len(outerloop_instances) > 0\n",
    "    if len(outerloop_instances) > 0 and len(locality_instances) > 0:\n",
    "        \n",
    "        efficacy_queries = [q for instance in outerloop_instances for q in instance[\"test_queries\"]]\n",
    "        efficacy_queries = [q for q in efficacy_queries if len(q[\"answers\"]) > 0]\n",
    "        efficacy_queries = [q for q in efficacy_queries if len([a[\"value\"] for a in q[\"answers\"] if len(a[\"value\"].strip() ) > 0 ]) > 0]\n",
    "        assert all([len(q[\"prompt\"].strip()) > 0 for q in efficacy_queries])\n",
    "        \n",
    "        if len(efficacy_queries) == 0:\n",
    "            continue\n",
    "        \n",
    "        locality_queries = [q for instance in locality_instances for q in instance[\"test_queries\"]]\n",
    "        locality_queries = [q for q in locality_queries if len(q[\"answers\"]) > 0]\n",
    "        locality_queries = [q for q in locality_queries if len([a[\"value\"] for a in q[\"answers\"] if len(a[\"value\"].strip() ) > 0 ]) > 0]\n",
    "        assert all([len(q[\"prompt\"].strip()) > 0 for q in locality_queries])\n",
    "        \n",
    "        assert len(locality_queries) > 0\n",
    "        \n",
    "        strong_meta_examples.append(example)\n",
    "    elif len(locality_instances) == 0:\n",
    "        \n",
    "        efficacy_queries = [q for instance in outerloop_instances for q in instance[\"test_queries\"]]\n",
    "        efficacy_queries = [q for q in efficacy_queries if len(q[\"answers\"]) > 0]\n",
    "        efficacy_queries = [q for q in efficacy_queries if len([a[\"value\"] for a in q[\"answers\"] if len(a[\"value\"].strip() ) > 0 ]) > 0]\n",
    "        assert all([len(q[\"prompt\"].strip()) > 0 for q in efficacy_queries])\n",
    "        \n",
    "        if len(efficacy_queries) == 0:\n",
    "            continue\n",
    "        \n",
    "        weak_meta_examples.append(example)\n",
    "    else:\n",
    "        locality_queries = [q for instance in locality_instances for q in instance[\"test_queries\"]]\n",
    "        locality_queries = [q for q in locality_queries if len(q[\"answers\"]) > 0]\n",
    "        locality_queries = [q for q in locality_queries if len([a[\"value\"] for a in q[\"answers\"] if len(a[\"value\"].strip() ) > 0 ]) > 0]\n",
    "        assert all([len(q[\"prompt\"].strip()) > 0 for q in locality_queries])\n",
    "        \n",
    "        assert len(locality_queries) > 0\n",
    "        \n",
    "        weak_meta_examples.append(example)\n",
    "        \n",
    "print(\"# strong examples:\", len(strong_meta_examples))\n",
    "print(\"# weak examples:\", len(weak_meta_examples))\n",
    "print(\"# invalid:\", len(ripple_edits_examples) - len(strong_meta_examples) - len(weak_meta_examples))"
   ]
  },
  {
   "cell_type": "code",
   "execution_count": 47,
   "metadata": {},
   "outputs": [
    {
     "data": {
      "text/plain": [
       "0.1026694045174538"
      ]
     },
     "execution_count": 47,
     "metadata": {},
     "output_type": "execute_result"
    }
   ],
   "source": [
    "200 / len(ripple_edits_examples)"
   ]
  },
  {
   "cell_type": "code",
   "execution_count": 48,
   "metadata": {},
   "outputs": [],
   "source": [
    "n_test = 200\n",
    "n_valid = 200\n",
    "np.random.shuffle(strong_meta_examples)\n",
    "np.random.shuffle(weak_meta_examples)\n",
    "\n",
    "test_examples = strong_meta_examples[:n_test]\n",
    "valid_examples = strong_meta_examples[n_test:n_test+n_valid]\n",
    "train_examples = strong_meta_examples[n_test+n_valid:] + weak_meta_examples\n",
    "np.random.shuffle(train_examples)"
   ]
  },
  {
   "cell_type": "code",
   "execution_count": 51,
   "metadata": {},
   "outputs": [],
   "source": [
    "# subset = \"recent\"\n",
    "\n",
    "# os.makedirs(f\"{vars.DATA_DIR}/ripple_edits/meta_train/{subset}\", exist_ok=True)"
   ]
  },
  {
   "cell_type": "code",
   "execution_count": 52,
   "metadata": {},
   "outputs": [],
   "source": [
    "# io.dump_jsonlines(train_examples, f\"{vars.DATA_DIR}/ripple_edits/meta_train/{subset}/train.jsonl\")\n",
    "# io.dump_jsonlines(valid_examples, f\"{vars.DATA_DIR}/ripple_edits/meta_train/{subset}/valid.jsonl\")\n",
    "# io.dump_jsonlines(test_examples, f\"{vars.DATA_DIR}/ripple_edits/meta_train/{subset}/test.jsonl\")"
   ]
  },
  {
   "cell_type": "markdown",
   "metadata": {},
   "source": [
    "### merge the train/dev/test for all subsets"
   ]
  },
  {
   "cell_type": "code",
   "execution_count": null,
   "metadata": {},
   "outputs": [],
   "source": []
  },
  {
   "cell_type": "code",
   "execution_count": 115,
   "metadata": {},
   "outputs": [
    {
     "name": "stdout",
     "output_type": "stream",
     "text": [
      "# train examples: 2170\n",
      "# valid examples: 300\n",
      "# test examples: 300\n"
     ]
    }
   ],
   "source": [
    "train_examples = []\n",
    "valid_examples = []\n",
    "test_examples = []\n",
    "for subset in [\"popular\", \"recent\", ]:\n",
    "    train_examples += io.load_jsonlines(f\"{vars.DATA_DIR}/ripple_edits/meta_train/{subset}/train.jsonl\")\n",
    "    valid_examples += io.load_jsonlines(f\"{vars.DATA_DIR}/ripple_edits/meta_train/{subset}/valid.jsonl\")\n",
    "    test_examples += io.load_jsonlines(f\"{vars.DATA_DIR}/ripple_edits/meta_train/{subset}/test.jsonl\")\n",
    "print(\"# train examples:\", len(train_examples))\n",
    "print(\"# valid examples:\", len(valid_examples))\n",
    "print(\"# test examples:\", len(test_examples))"
   ]
  },
  {
   "cell_type": "code",
   "execution_count": null,
   "metadata": {},
   "outputs": [],
   "source": [
    "# os.makedirs(f\"{vars.DATA_DIR}/ripple_edits/meta_train/recent+popular\", exist_ok=True)\n",
    "# io.dump_jsonlines(train_examples, f\"{vars.DATA_DIR}/ripple_edits/meta_train/recent+popular/train.jsonl\")\n",
    "# io.dump_jsonlines(valid_examples, f\"{vars.DATA_DIR}/ripple_edits/meta_train/recent+popular/valid.jsonl\")\n",
    "# io.dump_jsonlines(test_examples, f\"{vars.DATA_DIR}/ripple_edits/meta_train/recent+popular/test.jsonl\")"
   ]
  },
  {
   "cell_type": "code",
   "execution_count": null,
   "metadata": {},
   "outputs": [],
   "source": [
    "# recent_popular_train = io.load_jsonlines(f\"{vars.DATA_DIR}/ripple_edits/meta_train_recent+popular/train.jsonl\")"
   ]
  },
  {
   "cell_type": "code",
   "execution_count": null,
   "metadata": {},
   "outputs": [],
   "source": [
    "# random_train = io.load_jsonlines(f\"{vars.DATA_DIR}/ripple_edits/meta_train_random/train.jsonl\")"
   ]
  },
  {
   "cell_type": "code",
   "execution_count": null,
   "metadata": {},
   "outputs": [],
   "source": [
    "# io.dump_jsonlines(recent_popular_train + random_train, f\"{vars.DATA_DIR}/ripple_edits/meta_train_recent+popular/train_w_random.jsonl\")"
   ]
  },
  {
   "cell_type": "markdown",
   "metadata": {},
   "source": [
    "### Check spurious correlation in dataaset (answer verbtaim in edit)"
   ]
  },
  {
   "cell_type": "code",
   "execution_count": 139,
   "metadata": {},
   "outputs": [],
   "source": [
    "train_examples = io.load_jsonlines(f\"{vars.DATA_DIR}/ripple_edits/meta_train/recent/train.jsonl\")"
   ]
  },
  {
   "cell_type": "code",
   "execution_count": 140,
   "metadata": {},
   "outputs": [
    {
     "data": {
      "text/plain": [
       "1493"
      ]
     },
     "execution_count": 140,
     "metadata": {},
     "output_type": "execute_result"
    }
   ],
   "source": [
    "len(train_examples)"
   ]
  },
  {
   "cell_type": "code",
   "execution_count": 141,
   "metadata": {},
   "outputs": [],
   "source": [
    "non_zero_outerloop_count = 0\n",
    "meta_examples = []\n",
    "propagation2substring_count = defaultdict(int)\n",
    "propagation2verbtaim_count = defaultdict(int)\n",
    "propagation2count = defaultdict(int)\n",
    "# strong_meta_examples = []\n",
    "# weak_meta_examples = []\n",
    "count_rel = defaultdict(int)\n",
    "count_prop_types = defaultdict(int)\n",
    "\n",
    "for example in train_examples[:]:\n",
    "    outerloop_instances = example[\"Logical_Generalization\"] + example[\"Compositionality_I\"] + example[\"Compositionality_II\"] + example[\"Subject_Aliasing\"]\n",
    "    # for ins in outerloop_instances:\n",
    "        # assert len(ins[\"test_queries\"]) == 1\n",
    "    locality_instances = example[\"Relation_Specificity\"] + example[\"Forgetfulness\"] \n",
    "    example[\"edit\"][\"text\"] = example[\"edit\"][\"prompt\"]\n",
    "    meta_examples.append(example[\"edit\"])\n",
    "    \n",
    "    outerloop_queries = []\n",
    "    for k in [\"Logical_Generalization\", \"Compositionality_I\", \"Compositionality_II\", \"Subject_Aliasing\"]:\n",
    "        for instance in example[k]:\n",
    "            for q in instance[\"test_queries\"]:\n",
    "                if len(q[\"answers\"]) > 0 and len([a[\"value\"] for a in q[\"answers\"] if len(a[\"value\"].strip() ) > 0 ]) > 0:\n",
    "                    q[\"question_type\"] = k\n",
    "                    ans_candidates = [a[\"value\"] for a in q[\"answers\"] if len(a[\"value\"].strip()) > 0]\n",
    "                    assert len(ans_candidates) > 0\n",
    "                    assert q[\"prompt\"][-1] not in \".\",  q[\"prompt\"]\n",
    "                    q[\"text\"] = q[\"prompt\"] + \" \" + ans_candidates[0]\n",
    "                    propagation2count[k] += 1\n",
    "                    propagation2verbtaim_count[k] += int(ans_candidates[0] in example[\"edit\"][\"text\"])\n",
    "                    propagation2substring_count[k] += int(any(a in q[\"prompt\"] for a in ans_candidates))\n",
    "                    outerloop_queries.append(q)\n",
    "    for outer_q in outerloop_queries:\n",
    "        count_prop_types[\"efficacy::\"+ outer_q[\"question_type\"]] += 1\n",
    "        count_rel[\"efficacy::\"+ outer_q[\"relation\"]] += 1\n",
    "    # assert len(outerloop_queries) > 0\n",
    "    meta_examples.extend(outerloop_queries)\n",
    "    \n",
    "    locality_queries = []\n",
    "    for k in [\"Relation_Specificity\", \"Forgetfulness\"]:\n",
    "        for instance in example[k]:\n",
    "            for q in instance[\"test_queries\"]:\n",
    "                if len(q[\"answers\"]) > 0 and len([a[\"value\"] for a in q[\"answers\"] if len(a[\"value\"].strip() ) > 0 ]) > 0:\n",
    "                    q[\"question_type\"] = k\n",
    "                    ans_candidates = [a[\"value\"] for a in q[\"answers\"] if len(a[\"value\"].strip()) > 0]\n",
    "                    assert len(ans_candidates) > 0\n",
    "                    assert q[\"prompt\"][-1] not in string.punctuation\n",
    "                    q[\"text\"] = q[\"prompt\"] + \" \" + ans_candidates[0]\n",
    "                    propagation2count[k] += 1\n",
    "                    propagation2verbtaim_count[k] += int(ans_candidates[0] in example[\"edit\"][\"text\"])\n",
    "                    propagation2substring_count[k] += int(any(a in q[\"prompt\"] for a in ans_candidates))\n",
    "                    locality_queries.append(q)\n",
    "    for loc_q in locality_queries:\n",
    "        count_prop_types[\"specificity::\"+ loc_q[\"question_type\"]] += 1\n",
    "        count_rel[\"specificity::\"+ loc_q[\"relation\"]] += 1\n",
    "    \n",
    "    meta_examples.extend(locality_queries)\n",
    "    \n",
    "    # assert len(locality_queries) > 0\n",
    "        \n",
    "# print(\"# strong examples\", len(strong_meta_examples))\n",
    "# print(\"# weak examples\", len(weak_meta_examples))"
   ]
  },
  {
   "cell_type": "code",
   "execution_count": 143,
   "metadata": {},
   "outputs": [
    {
     "data": {
      "text/plain": [
       "defaultdict(int,\n",
       "            {'Logical_Generalization': 813,\n",
       "             'Compositionality_I': 7037,\n",
       "             'Subject_Aliasing': 892,\n",
       "             'Relation_Specificity': 5509,\n",
       "             'Forgetfulness': 951,\n",
       "             'Compositionality_II': 751})"
      ]
     },
     "execution_count": 143,
     "metadata": {},
     "output_type": "execute_result"
    }
   ],
   "source": [
    "propagation2count"
   ]
  },
  {
   "cell_type": "code",
   "execution_count": 129,
   "metadata": {},
   "outputs": [
    {
     "data": {
      "text/plain": [
       "{'Subject_Aliasing': 100.0,\n",
       " 'Relation_Specificity': 1.1,\n",
       " 'Logical_Generalization': 58.5,\n",
       " 'Compositionality_I': 2.9,\n",
       " 'Forgetfulness': 0.0,\n",
       " 'Compositionality_II': 100.0}"
      ]
     },
     "execution_count": 129,
     "metadata": {},
     "output_type": "execute_result"
    }
   ],
   "source": [
    "{k: round(propagation2verbtaim_count[k] / propagation2count[k] * 100, 1) for k in propagation2count}"
   ]
  },
  {
   "cell_type": "code",
   "execution_count": 32,
   "metadata": {},
   "outputs": [
    {
     "data": {
      "text/plain": [
       "38"
      ]
     },
     "execution_count": 32,
     "metadata": {},
     "output_type": "execute_result"
    }
   ],
   "source": [
    "119- 81"
   ]
  },
  {
   "cell_type": "code",
   "execution_count": 30,
   "metadata": {},
   "outputs": [
    {
     "data": {
      "text/plain": [
       "defaultdict(int,\n",
       "            {'Logical_Generalization': 9,\n",
       "             'Relation_Specificity': 8,\n",
       "             'Compositionality_I': 28,\n",
       "             'Compositionality_II': 10,\n",
       "             'Subject_Aliasing': 1,\n",
       "             'Forgetfulness': 81})"
      ]
     },
     "execution_count": 30,
     "metadata": {},
     "output_type": "execute_result"
    }
   ],
   "source": [
    "propagation2substring_count"
   ]
  },
  {
   "cell_type": "code",
   "execution_count": 29,
   "metadata": {},
   "outputs": [
    {
     "data": {
      "text/plain": [
       "{'Logical_Generalization': 7.4,\n",
       " 'Relation_Specificity': 0.9,\n",
       " 'Compositionality_I': 2.8,\n",
       " 'Compositionality_II': 9.4,\n",
       " 'Subject_Aliasing': 0.3,\n",
       " 'Forgetfulness': 68.1}"
      ]
     },
     "execution_count": 29,
     "metadata": {},
     "output_type": "execute_result"
    }
   ],
   "source": [
    "{k: round(propagation2substring_count[k] / propagation2count[k] * 100, 1) for k in propagation2count}"
   ]
  },
  {
   "cell_type": "code",
   "execution_count": 106,
   "metadata": {},
   "outputs": [],
   "source": [
    "split = \"test\"\n",
    "ds = load_from_disk(f\"{vars.DATA_DIR}/ripple_edits/meta_train/all/{split}_w_prefix.hf\")"
   ]
  },
  {
   "cell_type": "code",
   "execution_count": 107,
   "metadata": {},
   "outputs": [],
   "source": [
    "test_data = io.load_jsonlines(f\"{vars.DATA_DIR}/ripple_edits/meta_train/all/{split}.jsonl\")"
   ]
  },
  {
   "cell_type": "code",
   "execution_count": 108,
   "metadata": {},
   "outputs": [
    {
     "data": {
      "text/plain": [
       "500"
      ]
     },
     "execution_count": 108,
     "metadata": {},
     "output_type": "execute_result"
    }
   ],
   "source": [
    "len(ds)\n",
    "len(test_data)"
   ]
  },
  {
   "cell_type": "code",
   "execution_count": 109,
   "metadata": {},
   "outputs": [
    {
     "data": {
      "text/plain": [
       "Dataset({\n",
       "    features: ['prompt', 'subject_id', 'relation', 'target_id', 'original_fact', 'context', 'paraphrase', 'object', 'subject'],\n",
       "    num_rows: 500\n",
       "})"
      ]
     },
     "execution_count": 109,
     "metadata": {},
     "output_type": "execute_result"
    }
   ],
   "source": [
    "ds"
   ]
  },
  {
   "cell_type": "code",
   "execution_count": 110,
   "metadata": {},
   "outputs": [],
   "source": [
    "new_test_data = []\n",
    "\n",
    "count = 0\n",
    "for i in range(len(test_data)):\n",
    "    original_test = test_data[i]\n",
    "    augmentation = ds[i]\n",
    "    # if original_test[\"edit\"][\"prompt\"] == \"The name of the composer of Klavierstücke  I–IV is Karlheinz Stockhausen.\":\n",
    "    #     # print(\"found\")\n",
    "    #     original_test[\"edit\"][\"subject\"] = \"name of the composer of Klavierst\\u00fccke  I\\u2013IV\"\n",
    "    #     original_test[\"edit\"][\"object\"] = \"Karlheinz Stockhausen\"\n",
    "    #     assert original_test[\"edit\"][\"subject\"] in original_test[\"edit\"][\"prompt\"]\n",
    "    #     assert original_test[\"edit\"][\"object\"] in original_test[\"edit\"][\"prompt\"]\n",
    "    #     new_test_data.append(original_test)\n",
    "    #     # count += 1\n",
    "    #     continue\n",
    "    #     # print(original_test)\n",
    "    #     # print(augmentation)\n",
    "    # else:\n",
    "        \n",
    "    assert original_test[\"edit\"][\"prompt\"] == augmentation[\"prompt\"], f\"{i}@@\" + original_test[\"edit\"][\"prompt\"] + \"@@\" + augmentation[\"prompt\"]\n",
    "    assert augmentation[\"subject\"] in original_test[\"edit\"][\"prompt\"], f\"{i}@@\" + original_test[\"edit\"][\"prompt\"] + \"@@\" + augmentation[\"subject\"]\n",
    "    assert augmentation[\"object\"] in original_test[\"edit\"][\"prompt\"]\n",
    "\n",
    "    original_test[\"edit\"][\"subject\"] = augmentation[\"subject\"]\n",
    "    original_test[\"edit\"][\"object\"] = augmentation[\"object\"]\n",
    "    new_test_data.append(original_test)\n",
    "    "
   ]
  },
  {
   "cell_type": "code",
   "execution_count": 111,
   "metadata": {},
   "outputs": [
    {
     "data": {
      "text/plain": [
       "{'example_type': 'popular',\n",
       " 'edit': {'prompt': 'The name of the continent which United Arab Emirates is part of is Indian Ocean.',\n",
       "  'subject_id': 'Q878',\n",
       "  'relation': 'CONTINENT',\n",
       "  'target_id': 'Q1239',\n",
       "  'original_fact': {'prompt': 'The name of the continent which United Arab Emirates is part of is Asia.',\n",
       "   'subject_id': 'Q878',\n",
       "   'relation': 'CONTINENT',\n",
       "   'target_id': 'Q48'},\n",
       "  'subject': 'The name of the continent',\n",
       "  'object': 'Indian Ocean.'},\n",
       " 'Logical_Generalization': [],\n",
       " 'Compositionality_I': [],\n",
       " 'Compositionality_II': [{'test_queries': [{'prompt': 'The name of the continent which the country Strait of Hormuz is associated with is part of is',\n",
       "     'answers': [{'value': 'Indian Ocean',\n",
       "       'aliases': ['Eastern Ocean',\n",
       "        'Eastern Sea',\n",
       "        'Indian Sea',\n",
       "        'Oriental Sea',\n",
       "        'Oriental Ocean']}],\n",
       "     'query_type': 'two_hop',\n",
       "     'subject_id': 'Q79883',\n",
       "     'relation': 'COUNTRY',\n",
       "     'target_ids': ['Q878'],\n",
       "     'phrase': 'The name of the continent which the country Strait of Hormuz is associated with is part of is',\n",
       "     'second_relation': 'CONTINENT',\n",
       "     'second_hop_target_ids': ['Q1239']}],\n",
       "   'test_condition': 'OR',\n",
       "   'condition_queries': [{'prompt': 'The name of the country which Strait of Hormuz is associated with is',\n",
       "     'answers': [{'value': 'United Arab Emirates',\n",
       "       'aliases': ['U.A.E.',\n",
       "        '🇦🇪',\n",
       "        'UAE',\n",
       "        'ae',\n",
       "        'Emirates',\n",
       "        'the United Arab Emirates',\n",
       "        'the UAE',\n",
       "        'the U.A.E.',\n",
       "        'the Emirates']}],\n",
       "     'query_type': 'regular',\n",
       "     'subject_id': 'Q79883',\n",
       "     'relation': 'COUNTRY',\n",
       "     'target_ids': ['Q878'],\n",
       "     'phrase': None}]},\n",
       "  {'test_queries': [{'prompt': 'The name of the continent which the country Gulf of Oman is associated with is part of is',\n",
       "     'answers': [{'value': 'Indian Ocean',\n",
       "       'aliases': ['Eastern Ocean',\n",
       "        'Eastern Sea',\n",
       "        'Indian Sea',\n",
       "        'Oriental Sea',\n",
       "        'Oriental Ocean']}],\n",
       "     'query_type': 'two_hop',\n",
       "     'subject_id': 'Q79948',\n",
       "     'relation': 'COUNTRY',\n",
       "     'target_ids': ['Q878'],\n",
       "     'phrase': 'The name of the continent which the country Gulf of Oman is associated with is part of is',\n",
       "     'second_relation': 'CONTINENT',\n",
       "     'second_hop_target_ids': ['Q1239']}],\n",
       "   'test_condition': 'OR',\n",
       "   'condition_queries': [{'prompt': 'The name of the country which Gulf of Oman is associated with is',\n",
       "     'answers': [{'value': 'United Arab Emirates',\n",
       "       'aliases': ['U.A.E.',\n",
       "        '🇦🇪',\n",
       "        'UAE',\n",
       "        'ae',\n",
       "        'Emirates',\n",
       "        'the United Arab Emirates',\n",
       "        'the UAE',\n",
       "        'the U.A.E.',\n",
       "        'the Emirates']}],\n",
       "     'query_type': 'regular',\n",
       "     'subject_id': 'Q79948',\n",
       "     'relation': 'COUNTRY',\n",
       "     'target_ids': ['Q878'],\n",
       "     'phrase': None}]},\n",
       "  {'test_queries': [{'prompt': 'The name of the continent which the country Dubai Metro is associated with is part of is',\n",
       "     'answers': [{'value': 'Indian Ocean',\n",
       "       'aliases': ['Eastern Ocean',\n",
       "        'Eastern Sea',\n",
       "        'Indian Sea',\n",
       "        'Oriental Sea',\n",
       "        'Oriental Ocean']}],\n",
       "     'query_type': 'two_hop',\n",
       "     'subject_id': 'Q83787',\n",
       "     'relation': 'COUNTRY',\n",
       "     'target_ids': ['Q878'],\n",
       "     'phrase': 'The name of the continent which the country Dubai Metro is associated with is part of is',\n",
       "     'second_relation': 'CONTINENT',\n",
       "     'second_hop_target_ids': ['Q1239']}],\n",
       "   'test_condition': 'OR',\n",
       "   'condition_queries': [{'prompt': 'The name of the country which Dubai Metro is associated with is',\n",
       "     'answers': [{'value': 'United Arab Emirates',\n",
       "       'aliases': ['U.A.E.',\n",
       "        '🇦🇪',\n",
       "        'UAE',\n",
       "        'ae',\n",
       "        'Emirates',\n",
       "        'the United Arab Emirates',\n",
       "        'the UAE',\n",
       "        'the U.A.E.',\n",
       "        'the Emirates']}],\n",
       "     'query_type': 'regular',\n",
       "     'subject_id': 'Q83787',\n",
       "     'relation': 'COUNTRY',\n",
       "     'target_ids': ['Q878'],\n",
       "     'phrase': None}]},\n",
       "  {'test_queries': [{'prompt': 'The name of the continent which the country Shams solar power station is associated with is part of is',\n",
       "     'answers': [{'value': 'Indian Ocean',\n",
       "       'aliases': ['Eastern Ocean',\n",
       "        'Eastern Sea',\n",
       "        'Indian Sea',\n",
       "        'Oriental Sea',\n",
       "        'Oriental Ocean']}],\n",
       "     'query_type': 'two_hop',\n",
       "     'subject_id': 'Q115609',\n",
       "     'relation': 'COUNTRY',\n",
       "     'target_ids': ['Q878'],\n",
       "     'phrase': 'The name of the continent which the country Shams solar power station is associated with is part of is',\n",
       "     'second_relation': 'CONTINENT',\n",
       "     'second_hop_target_ids': ['Q1239']}],\n",
       "   'test_condition': 'OR',\n",
       "   'condition_queries': [{'prompt': 'The name of the country which Shams solar power station is associated with is',\n",
       "     'answers': [{'value': 'United Arab Emirates',\n",
       "       'aliases': ['U.A.E.',\n",
       "        '🇦🇪',\n",
       "        'UAE',\n",
       "        'ae',\n",
       "        'Emirates',\n",
       "        'the United Arab Emirates',\n",
       "        'the UAE',\n",
       "        'the U.A.E.',\n",
       "        'the Emirates']}],\n",
       "     'query_type': 'regular',\n",
       "     'subject_id': 'Q115609',\n",
       "     'relation': 'COUNTRY',\n",
       "     'target_ids': ['Q878'],\n",
       "     'phrase': None}]},\n",
       "  {'test_queries': [{'prompt': 'The name of the continent which the country Ocean Heights is associated with is part of is',\n",
       "     'answers': [{'value': 'Indian Ocean',\n",
       "       'aliases': ['Eastern Ocean',\n",
       "        'Eastern Sea',\n",
       "        'Indian Sea',\n",
       "        'Oriental Sea',\n",
       "        'Oriental Ocean']}],\n",
       "     'query_type': 'two_hop',\n",
       "     'subject_id': 'Q134124',\n",
       "     'relation': 'COUNTRY',\n",
       "     'target_ids': ['Q878'],\n",
       "     'phrase': 'The name of the continent which the country Ocean Heights is associated with is part of is',\n",
       "     'second_relation': 'CONTINENT',\n",
       "     'second_hop_target_ids': ['Q1239']}],\n",
       "   'test_condition': 'OR',\n",
       "   'condition_queries': [{'prompt': 'The name of the country which Ocean Heights is associated with is',\n",
       "     'answers': [{'value': 'United Arab Emirates',\n",
       "       'aliases': ['U.A.E.',\n",
       "        '🇦🇪',\n",
       "        'UAE',\n",
       "        'ae',\n",
       "        'Emirates',\n",
       "        'the United Arab Emirates',\n",
       "        'the UAE',\n",
       "        'the U.A.E.',\n",
       "        'the Emirates']}],\n",
       "     'query_type': 'regular',\n",
       "     'subject_id': 'Q134124',\n",
       "     'relation': 'COUNTRY',\n",
       "     'target_ids': ['Q878'],\n",
       "     'phrase': None}]},\n",
       "  {'test_queries': [{'prompt': 'The name of the continent which the country DAMAC Heights is associated with is part of is',\n",
       "     'answers': [{'value': 'Indian Ocean',\n",
       "       'aliases': ['Eastern Ocean',\n",
       "        'Eastern Sea',\n",
       "        'Indian Sea',\n",
       "        'Oriental Sea',\n",
       "        'Oriental Ocean']}],\n",
       "     'query_type': 'two_hop',\n",
       "     'subject_id': 'Q134137',\n",
       "     'relation': 'COUNTRY',\n",
       "     'target_ids': ['Q878'],\n",
       "     'phrase': 'The name of the continent which the country DAMAC Heights is associated with is part of is',\n",
       "     'second_relation': 'CONTINENT',\n",
       "     'second_hop_target_ids': ['Q1239']}],\n",
       "   'test_condition': 'OR',\n",
       "   'condition_queries': [{'prompt': 'The name of the country which DAMAC Heights is associated with is',\n",
       "     'answers': [{'value': 'United Arab Emirates',\n",
       "       'aliases': ['U.A.E.',\n",
       "        '🇦🇪',\n",
       "        'UAE',\n",
       "        'ae',\n",
       "        'Emirates',\n",
       "        'the United Arab Emirates',\n",
       "        'the UAE',\n",
       "        'the U.A.E.',\n",
       "        'the Emirates']}],\n",
       "     'query_type': 'regular',\n",
       "     'subject_id': 'Q134137',\n",
       "     'relation': 'COUNTRY',\n",
       "     'target_ids': ['Q878'],\n",
       "     'phrase': None}]},\n",
       "  {'test_queries': [{'prompt': 'The name of the continent which the country UAE Team Emirates is associated with is part of is',\n",
       "     'answers': [{'value': 'Indian Ocean',\n",
       "       'aliases': ['Eastern Ocean',\n",
       "        'Eastern Sea',\n",
       "        'Indian Sea',\n",
       "        'Oriental Sea',\n",
       "        'Oriental Ocean']}],\n",
       "     'query_type': 'two_hop',\n",
       "     'subject_id': 'Q135837',\n",
       "     'relation': 'COUNTRY',\n",
       "     'target_ids': ['Q878'],\n",
       "     'phrase': 'The name of the continent which the country UAE Team Emirates is associated with is part of is',\n",
       "     'second_relation': 'CONTINENT',\n",
       "     'second_hop_target_ids': ['Q1239']}],\n",
       "   'test_condition': 'OR',\n",
       "   'condition_queries': [{'prompt': 'The name of the country which UAE Team Emirates is associated with is',\n",
       "     'answers': [{'value': 'United Arab Emirates',\n",
       "       'aliases': ['U.A.E.',\n",
       "        '🇦🇪',\n",
       "        'UAE',\n",
       "        'ae',\n",
       "        'Emirates',\n",
       "        'the United Arab Emirates',\n",
       "        'the UAE',\n",
       "        'the U.A.E.',\n",
       "        'the Emirates']}],\n",
       "     'query_type': 'regular',\n",
       "     'subject_id': 'Q135837',\n",
       "     'relation': 'COUNTRY',\n",
       "     'target_ids': ['Q878'],\n",
       "     'phrase': None}]},\n",
       "  {'test_queries': [{'prompt': 'The name of the continent which the country .امارات is associated with is part of is',\n",
       "     'answers': [{'value': 'Indian Ocean',\n",
       "       'aliases': ['Eastern Ocean',\n",
       "        'Eastern Sea',\n",
       "        'Indian Sea',\n",
       "        'Oriental Sea',\n",
       "        'Oriental Ocean']}],\n",
       "     'query_type': 'two_hop',\n",
       "     'subject_id': 'Q136728',\n",
       "     'relation': 'COUNTRY',\n",
       "     'target_ids': ['Q878'],\n",
       "     'phrase': 'The name of the continent which the country .امارات is associated with is part of is',\n",
       "     'second_relation': 'CONTINENT',\n",
       "     'second_hop_target_ids': ['Q1239']}],\n",
       "   'test_condition': 'OR',\n",
       "   'condition_queries': [{'prompt': 'The name of the country which .امارات is associated with is',\n",
       "     'answers': [{'value': 'United Arab Emirates',\n",
       "       'aliases': ['U.A.E.',\n",
       "        '🇦🇪',\n",
       "        'UAE',\n",
       "        'ae',\n",
       "        'Emirates',\n",
       "        'the United Arab Emirates',\n",
       "        'the UAE',\n",
       "        'the U.A.E.',\n",
       "        'the Emirates']}],\n",
       "     'query_type': 'regular',\n",
       "     'subject_id': 'Q136728',\n",
       "     'relation': 'COUNTRY',\n",
       "     'target_ids': ['Q878'],\n",
       "     'phrase': None}]},\n",
       "  {'test_queries': [{'prompt': 'The name of the continent which the country Bur Dubai is associated with is part of is',\n",
       "     'answers': [{'value': 'Indian Ocean',\n",
       "       'aliases': ['Eastern Ocean',\n",
       "        'Eastern Sea',\n",
       "        'Indian Sea',\n",
       "        'Oriental Sea',\n",
       "        'Oriental Ocean']}],\n",
       "     'query_type': 'two_hop',\n",
       "     'subject_id': 'Q140673',\n",
       "     'relation': 'COUNTRY',\n",
       "     'target_ids': ['Q878'],\n",
       "     'phrase': 'The name of the continent which the country Bur Dubai is associated with is part of is',\n",
       "     'second_relation': 'CONTINENT',\n",
       "     'second_hop_target_ids': ['Q1239']}],\n",
       "   'test_condition': 'OR',\n",
       "   'condition_queries': [{'prompt': 'The name of the country which Bur Dubai is associated with is',\n",
       "     'answers': [{'value': 'United Arab Emirates',\n",
       "       'aliases': ['U.A.E.',\n",
       "        '🇦🇪',\n",
       "        'UAE',\n",
       "        'ae',\n",
       "        'Emirates',\n",
       "        'the United Arab Emirates',\n",
       "        'the UAE',\n",
       "        'the U.A.E.',\n",
       "        'the Emirates']}],\n",
       "     'query_type': 'regular',\n",
       "     'subject_id': 'Q140673',\n",
       "     'relation': 'COUNTRY',\n",
       "     'target_ids': ['Q878'],\n",
       "     'phrase': None}]},\n",
       "  {'test_queries': [{'prompt': 'The name of the continent which the country United Arab Emirates at the 2008 Summer Olympics is associated with is part of is',\n",
       "     'answers': [{'value': 'Indian Ocean',\n",
       "       'aliases': ['Eastern Ocean',\n",
       "        'Eastern Sea',\n",
       "        'Indian Sea',\n",
       "        'Oriental Sea',\n",
       "        'Oriental Ocean']}],\n",
       "     'query_type': 'two_hop',\n",
       "     'subject_id': 'Q142551',\n",
       "     'relation': 'COUNTRY',\n",
       "     'target_ids': ['Q878'],\n",
       "     'phrase': 'The name of the continent which the country United Arab Emirates at the 2008 Summer Olympics is associated with is part of is',\n",
       "     'second_relation': 'CONTINENT',\n",
       "     'second_hop_target_ids': ['Q1239']}],\n",
       "   'test_condition': 'OR',\n",
       "   'condition_queries': [{'prompt': 'The name of the country which United Arab Emirates at the 2008 Summer Olympics is associated with is',\n",
       "     'answers': [{'value': 'United Arab Emirates',\n",
       "       'aliases': ['U.A.E.',\n",
       "        '🇦🇪',\n",
       "        'UAE',\n",
       "        'ae',\n",
       "        'Emirates',\n",
       "        'the United Arab Emirates',\n",
       "        'the UAE',\n",
       "        'the U.A.E.',\n",
       "        'the Emirates']}],\n",
       "     'query_type': 'regular',\n",
       "     'subject_id': 'Q142551',\n",
       "     'relation': 'COUNTRY',\n",
       "     'target_ids': ['Q878'],\n",
       "     'phrase': None}]}],\n",
       " 'Subject_Aliasing': [{'test_queries': [{'prompt': 'The name of the continent which U.A.E. is part of is',\n",
       "     'answers': [{'value': 'Indian Ocean',\n",
       "       'aliases': ['Eastern Ocean',\n",
       "        'Eastern Sea',\n",
       "        'Indian Sea',\n",
       "        'Oriental Sea',\n",
       "        'Oriental Ocean']}],\n",
       "     'query_type': 'regular',\n",
       "     'subject_id': 'Q878',\n",
       "     'relation': 'CONTINENT',\n",
       "     'target_ids': ['Q1239'],\n",
       "     'phrase': 'The name of the continent which U.A.E. is part of is'}],\n",
       "   'test_condition': 'OR',\n",
       "   'condition_queries': [{'prompt': 'The name of the continent which U.A.E. is part of is',\n",
       "     'answers': [{'value': 'Indian Ocean',\n",
       "       'aliases': ['Eastern Ocean',\n",
       "        'Eastern Sea',\n",
       "        'Indian Sea',\n",
       "        'Oriental Sea',\n",
       "        'Oriental Ocean']}],\n",
       "     'query_type': 'regular',\n",
       "     'subject_id': 'Q878',\n",
       "     'relation': 'CONTINENT',\n",
       "     'target_ids': ['Q1239'],\n",
       "     'phrase': 'The name of the continent which U.A.E. is part of is'}]},\n",
       "  {'test_queries': [{'prompt': 'The name of the continent which 🇦🇪 is part of is',\n",
       "     'answers': [{'value': 'Indian Ocean',\n",
       "       'aliases': ['Eastern Ocean',\n",
       "        'Eastern Sea',\n",
       "        'Indian Sea',\n",
       "        'Oriental Sea',\n",
       "        'Oriental Ocean']}],\n",
       "     'query_type': 'regular',\n",
       "     'subject_id': 'Q878',\n",
       "     'relation': 'CONTINENT',\n",
       "     'target_ids': ['Q1239'],\n",
       "     'phrase': 'The name of the continent which 🇦🇪 is part of is'}],\n",
       "   'test_condition': 'OR',\n",
       "   'condition_queries': [{'prompt': 'The name of the continent which 🇦🇪 is part of is',\n",
       "     'answers': [{'value': 'Indian Ocean',\n",
       "       'aliases': ['Eastern Ocean',\n",
       "        'Eastern Sea',\n",
       "        'Indian Sea',\n",
       "        'Oriental Sea',\n",
       "        'Oriental Ocean']}],\n",
       "     'query_type': 'regular',\n",
       "     'subject_id': 'Q878',\n",
       "     'relation': 'CONTINENT',\n",
       "     'target_ids': ['Q1239'],\n",
       "     'phrase': 'The name of the continent which 🇦🇪 is part of is'}]},\n",
       "  {'test_queries': [{'prompt': 'The name of the continent which UAE is part of is',\n",
       "     'answers': [{'value': 'Indian Ocean',\n",
       "       'aliases': ['Eastern Ocean',\n",
       "        'Eastern Sea',\n",
       "        'Indian Sea',\n",
       "        'Oriental Sea',\n",
       "        'Oriental Ocean']}],\n",
       "     'query_type': 'regular',\n",
       "     'subject_id': 'Q878',\n",
       "     'relation': 'CONTINENT',\n",
       "     'target_ids': ['Q1239'],\n",
       "     'phrase': 'The name of the continent which UAE is part of is'}],\n",
       "   'test_condition': 'OR',\n",
       "   'condition_queries': [{'prompt': 'The name of the continent which UAE is part of is',\n",
       "     'answers': [{'value': 'Indian Ocean',\n",
       "       'aliases': ['Eastern Ocean',\n",
       "        'Eastern Sea',\n",
       "        'Indian Sea',\n",
       "        'Oriental Sea',\n",
       "        'Oriental Ocean']}],\n",
       "     'query_type': 'regular',\n",
       "     'subject_id': 'Q878',\n",
       "     'relation': 'CONTINENT',\n",
       "     'target_ids': ['Q1239'],\n",
       "     'phrase': 'The name of the continent which UAE is part of is'}]},\n",
       "  {'test_queries': [{'prompt': 'The name of the continent which ae is part of is',\n",
       "     'answers': [{'value': 'Indian Ocean',\n",
       "       'aliases': ['Eastern Ocean',\n",
       "        'Eastern Sea',\n",
       "        'Indian Sea',\n",
       "        'Oriental Sea',\n",
       "        'Oriental Ocean']}],\n",
       "     'query_type': 'regular',\n",
       "     'subject_id': 'Q878',\n",
       "     'relation': 'CONTINENT',\n",
       "     'target_ids': ['Q1239'],\n",
       "     'phrase': 'The name of the continent which ae is part of is'}],\n",
       "   'test_condition': 'OR',\n",
       "   'condition_queries': [{'prompt': 'The name of the continent which ae is part of is',\n",
       "     'answers': [{'value': 'Indian Ocean',\n",
       "       'aliases': ['Eastern Ocean',\n",
       "        'Eastern Sea',\n",
       "        'Indian Sea',\n",
       "        'Oriental Sea',\n",
       "        'Oriental Ocean']}],\n",
       "     'query_type': 'regular',\n",
       "     'subject_id': 'Q878',\n",
       "     'relation': 'CONTINENT',\n",
       "     'target_ids': ['Q1239'],\n",
       "     'phrase': 'The name of the continent which ae is part of is'}]},\n",
       "  {'test_queries': [{'prompt': 'The name of the continent which Emirates is part of is',\n",
       "     'answers': [{'value': 'Indian Ocean',\n",
       "       'aliases': ['Eastern Ocean',\n",
       "        'Eastern Sea',\n",
       "        'Indian Sea',\n",
       "        'Oriental Sea',\n",
       "        'Oriental Ocean']}],\n",
       "     'query_type': 'regular',\n",
       "     'subject_id': 'Q878',\n",
       "     'relation': 'CONTINENT',\n",
       "     'target_ids': ['Q1239'],\n",
       "     'phrase': 'The name of the continent which Emirates is part of is'}],\n",
       "   'test_condition': 'OR',\n",
       "   'condition_queries': [{'prompt': 'The name of the continent which Emirates is part of is',\n",
       "     'answers': [{'value': 'Indian Ocean',\n",
       "       'aliases': ['Eastern Ocean',\n",
       "        'Eastern Sea',\n",
       "        'Indian Sea',\n",
       "        'Oriental Sea',\n",
       "        'Oriental Ocean']}],\n",
       "     'query_type': 'regular',\n",
       "     'subject_id': 'Q878',\n",
       "     'relation': 'CONTINENT',\n",
       "     'target_ids': ['Q1239'],\n",
       "     'phrase': 'The name of the continent which Emirates is part of is'}]},\n",
       "  {'test_queries': [{'prompt': 'The name of the continent which the United Arab Emirates is part of is',\n",
       "     'answers': [{'value': 'Indian Ocean',\n",
       "       'aliases': ['Eastern Ocean',\n",
       "        'Eastern Sea',\n",
       "        'Indian Sea',\n",
       "        'Oriental Sea',\n",
       "        'Oriental Ocean']}],\n",
       "     'query_type': 'regular',\n",
       "     'subject_id': 'Q878',\n",
       "     'relation': 'CONTINENT',\n",
       "     'target_ids': ['Q1239'],\n",
       "     'phrase': 'The name of the continent which the United Arab Emirates is part of is'}],\n",
       "   'test_condition': 'OR',\n",
       "   'condition_queries': [{'prompt': 'The name of the continent which the United Arab Emirates is part of is',\n",
       "     'answers': [{'value': 'Indian Ocean',\n",
       "       'aliases': ['Eastern Ocean',\n",
       "        'Eastern Sea',\n",
       "        'Indian Sea',\n",
       "        'Oriental Sea',\n",
       "        'Oriental Ocean']}],\n",
       "     'query_type': 'regular',\n",
       "     'subject_id': 'Q878',\n",
       "     'relation': 'CONTINENT',\n",
       "     'target_ids': ['Q1239'],\n",
       "     'phrase': 'The name of the continent which the United Arab Emirates is part of is'}]},\n",
       "  {'test_queries': [{'prompt': 'The name of the continent which the UAE is part of is',\n",
       "     'answers': [{'value': 'Indian Ocean',\n",
       "       'aliases': ['Eastern Ocean',\n",
       "        'Eastern Sea',\n",
       "        'Indian Sea',\n",
       "        'Oriental Sea',\n",
       "        'Oriental Ocean']}],\n",
       "     'query_type': 'regular',\n",
       "     'subject_id': 'Q878',\n",
       "     'relation': 'CONTINENT',\n",
       "     'target_ids': ['Q1239'],\n",
       "     'phrase': 'The name of the continent which the UAE is part of is'}],\n",
       "   'test_condition': 'OR',\n",
       "   'condition_queries': [{'prompt': 'The name of the continent which the UAE is part of is',\n",
       "     'answers': [{'value': 'Indian Ocean',\n",
       "       'aliases': ['Eastern Ocean',\n",
       "        'Eastern Sea',\n",
       "        'Indian Sea',\n",
       "        'Oriental Sea',\n",
       "        'Oriental Ocean']}],\n",
       "     'query_type': 'regular',\n",
       "     'subject_id': 'Q878',\n",
       "     'relation': 'CONTINENT',\n",
       "     'target_ids': ['Q1239'],\n",
       "     'phrase': 'The name of the continent which the UAE is part of is'}]},\n",
       "  {'test_queries': [{'prompt': 'The name of the continent which the U.A.E. is part of is',\n",
       "     'answers': [{'value': 'Indian Ocean',\n",
       "       'aliases': ['Eastern Ocean',\n",
       "        'Eastern Sea',\n",
       "        'Indian Sea',\n",
       "        'Oriental Sea',\n",
       "        'Oriental Ocean']}],\n",
       "     'query_type': 'regular',\n",
       "     'subject_id': 'Q878',\n",
       "     'relation': 'CONTINENT',\n",
       "     'target_ids': ['Q1239'],\n",
       "     'phrase': 'The name of the continent which the U.A.E. is part of is'}],\n",
       "   'test_condition': 'OR',\n",
       "   'condition_queries': [{'prompt': 'The name of the continent which the U.A.E. is part of is',\n",
       "     'answers': [{'value': 'Indian Ocean',\n",
       "       'aliases': ['Eastern Ocean',\n",
       "        'Eastern Sea',\n",
       "        'Indian Sea',\n",
       "        'Oriental Sea',\n",
       "        'Oriental Ocean']}],\n",
       "     'query_type': 'regular',\n",
       "     'subject_id': 'Q878',\n",
       "     'relation': 'CONTINENT',\n",
       "     'target_ids': ['Q1239'],\n",
       "     'phrase': 'The name of the continent which the U.A.E. is part of is'}]},\n",
       "  {'test_queries': [{'prompt': 'The name of the continent which the Emirates is part of is',\n",
       "     'answers': [{'value': 'Indian Ocean',\n",
       "       'aliases': ['Eastern Ocean',\n",
       "        'Eastern Sea',\n",
       "        'Indian Sea',\n",
       "        'Oriental Sea',\n",
       "        'Oriental Ocean']}],\n",
       "     'query_type': 'regular',\n",
       "     'subject_id': 'Q878',\n",
       "     'relation': 'CONTINENT',\n",
       "     'target_ids': ['Q1239'],\n",
       "     'phrase': 'The name of the continent which the Emirates is part of is'}],\n",
       "   'test_condition': 'OR',\n",
       "   'condition_queries': [{'prompt': 'The name of the continent which the Emirates is part of is',\n",
       "     'answers': [{'value': 'Indian Ocean',\n",
       "       'aliases': ['Eastern Ocean',\n",
       "        'Eastern Sea',\n",
       "        'Indian Sea',\n",
       "        'Oriental Sea',\n",
       "        'Oriental Ocean']}],\n",
       "     'query_type': 'regular',\n",
       "     'subject_id': 'Q878',\n",
       "     'relation': 'CONTINENT',\n",
       "     'target_ids': ['Q1239'],\n",
       "     'phrase': 'The name of the continent which the Emirates is part of is'}]}],\n",
       " 'Relation_Specificity': [{'test_queries': [{'prompt': 'The name of the head of government of United Arab Emirates is',\n",
       "     'answers': [{'value': 'Mohammed bin Rashid Al Maktoum',\n",
       "       'aliases': ['Mohammed bin Rashid al-Maktoum',\n",
       "        'Sheikh Mohammed',\n",
       "        'Sheikh Mohammed bin Rashid Al Maktoum',\n",
       "        'Mohammed bin Rashid Al-Maktoum',\n",
       "        'His Highness Sheikh Mohammed Bin Rashid Al Maktoum',\n",
       "        'H.H. Sheikh Mohammed bin Rashid Al Maktoum']}],\n",
       "     'query_type': 'regular',\n",
       "     'subject_id': 'Q878',\n",
       "     'relation': 'HEAD_OF_GOVERNMENT',\n",
       "     'target_ids': ['Q57655'],\n",
       "     'phrase': None}],\n",
       "   'test_condition': 'OR',\n",
       "   'condition_queries': [{'prompt': 'The name of the head of government of United Arab Emirates is',\n",
       "     'answers': [{'value': 'Mohammed bin Rashid Al Maktoum',\n",
       "       'aliases': ['Mohammed bin Rashid al-Maktoum',\n",
       "        'Sheikh Mohammed',\n",
       "        'Sheikh Mohammed bin Rashid Al Maktoum',\n",
       "        'Mohammed bin Rashid Al-Maktoum',\n",
       "        'His Highness Sheikh Mohammed Bin Rashid Al Maktoum',\n",
       "        'H.H. Sheikh Mohammed bin Rashid Al Maktoum']}],\n",
       "     'query_type': 'regular',\n",
       "     'subject_id': 'Q878',\n",
       "     'relation': 'HEAD_OF_GOVERNMENT',\n",
       "     'target_ids': ['Q57655'],\n",
       "     'phrase': None}]},\n",
       "  {'test_queries': [{'prompt': 'The name of the head of state of United Arab Emirates is',\n",
       "     'answers': [{'value': 'Mohammed bin Zayed Al Nahyan',\n",
       "       'aliases': ['Mohammed bin Zayed bin Sultan Al Nahyan',\n",
       "        'Mohamed bin Zayed bin Sultan Al-Nahyan',\n",
       "        'Mohamed bin Zayed',\n",
       "        'Mohammed bin Zayed',\n",
       "        'H.H Sheikh Mohamed bin Zayed bin Sultan Al-Nahyan',\n",
       "        'M.B.Z.',\n",
       "        'M.B.Z',\n",
       "        'MBZ',\n",
       "        'Muḥammad bin Zāyid Āl Nahyān',\n",
       "        'Mohamed bin Zayed Al Nahyan',\n",
       "        'HH General Sheikh Mohamed bin Zayed Al Nahyan']}],\n",
       "     'query_type': 'regular',\n",
       "     'subject_id': 'Q878',\n",
       "     'relation': 'HEAD_OF_STATE',\n",
       "     'target_ids': ['Q1951896'],\n",
       "     'phrase': None}],\n",
       "   'test_condition': 'OR',\n",
       "   'condition_queries': [{'prompt': 'The name of the head of state of United Arab Emirates is',\n",
       "     'answers': [{'value': 'Mohammed bin Zayed Al Nahyan',\n",
       "       'aliases': ['Mohammed bin Zayed bin Sultan Al Nahyan',\n",
       "        'Mohamed bin Zayed bin Sultan Al-Nahyan',\n",
       "        'Mohamed bin Zayed',\n",
       "        'Mohammed bin Zayed',\n",
       "        'H.H Sheikh Mohamed bin Zayed bin Sultan Al-Nahyan',\n",
       "        'M.B.Z.',\n",
       "        'M.B.Z',\n",
       "        'MBZ',\n",
       "        'Muḥammad bin Zāyid Āl Nahyān',\n",
       "        'Mohamed bin Zayed Al Nahyan',\n",
       "        'HH General Sheikh Mohamed bin Zayed Al Nahyan']}],\n",
       "     'query_type': 'regular',\n",
       "     'subject_id': 'Q878',\n",
       "     'relation': 'HEAD_OF_STATE',\n",
       "     'target_ids': ['Q1951896'],\n",
       "     'phrase': None}]},\n",
       "  {'test_queries': [{'prompt': 'The name of the capital city of United Arab Emirates is',\n",
       "     'answers': [{'value': 'Abu Dhabi', 'aliases': ['Abū Dhabi', 'Abudhabi']}],\n",
       "     'query_type': 'regular',\n",
       "     'subject_id': 'Q878',\n",
       "     'relation': 'CAPITAL',\n",
       "     'target_ids': ['Q1519'],\n",
       "     'phrase': None}],\n",
       "   'test_condition': 'OR',\n",
       "   'condition_queries': [{'prompt': 'The name of the capital city of United Arab Emirates is',\n",
       "     'answers': [{'value': 'Abu Dhabi', 'aliases': ['Abū Dhabi', 'Abudhabi']}],\n",
       "     'query_type': 'regular',\n",
       "     'subject_id': 'Q878',\n",
       "     'relation': 'CAPITAL',\n",
       "     'target_ids': ['Q1519'],\n",
       "     'phrase': None}]},\n",
       "  {'test_queries': [{'prompt': 'The name of the currency in United Arab Emirates is',\n",
       "     'answers': [{'value': 'United Arab Emirates dirham',\n",
       "       'aliases': ['AED',\n",
       "        'Emirati dirham',\n",
       "        'UAE dirham',\n",
       "        'U.A.E. dirham',\n",
       "        'Dirham (1973-date)']}],\n",
       "     'query_type': 'regular',\n",
       "     'subject_id': 'Q878',\n",
       "     'relation': 'CURRENCY',\n",
       "     'target_ids': ['Q200294'],\n",
       "     'phrase': None}],\n",
       "   'test_condition': 'OR',\n",
       "   'condition_queries': [{'prompt': 'The name of the currency in United Arab Emirates is',\n",
       "     'answers': [{'value': 'United Arab Emirates dirham',\n",
       "       'aliases': ['AED',\n",
       "        'Emirati dirham',\n",
       "        'UAE dirham',\n",
       "        'U.A.E. dirham',\n",
       "        'Dirham (1973-date)']}],\n",
       "     'query_type': 'regular',\n",
       "     'subject_id': 'Q878',\n",
       "     'relation': 'CURRENCY',\n",
       "     'target_ids': ['Q200294'],\n",
       "     'phrase': None}]},\n",
       "  {'test_queries': [{'prompt': 'The official language of United Arab Emirates is',\n",
       "     'answers': [{'value': 'Arabic',\n",
       "       'aliases': ['ar', 'Arabic language', 'Arabian language']}],\n",
       "     'query_type': 'regular',\n",
       "     'subject_id': 'Q878',\n",
       "     'relation': 'OFFICIAL_LANGUAGE',\n",
       "     'target_ids': ['Q13955'],\n",
       "     'phrase': None}],\n",
       "   'test_condition': 'OR',\n",
       "   'condition_queries': [{'prompt': 'The official language of United Arab Emirates is',\n",
       "     'answers': [{'value': 'Arabic',\n",
       "       'aliases': ['ar', 'Arabic language', 'Arabian language']}],\n",
       "     'query_type': 'regular',\n",
       "     'subject_id': 'Q878',\n",
       "     'relation': 'OFFICIAL_LANGUAGE',\n",
       "     'target_ids': ['Q13955'],\n",
       "     'phrase': None}]},\n",
       "  {'test_queries': [{'prompt': 'The name of the anthem of United Arab Emirates is',\n",
       "     'answers': [{'value': 'Ishy Bilady', 'aliases': []}],\n",
       "     'query_type': 'regular',\n",
       "     'subject_id': 'Q878',\n",
       "     'relation': 'ANTHEM',\n",
       "     'target_ids': ['Q423807'],\n",
       "     'phrase': None}],\n",
       "   'test_condition': 'OR',\n",
       "   'condition_queries': [{'prompt': 'The name of the anthem of United Arab Emirates is',\n",
       "     'answers': [{'value': 'Ishy Bilady', 'aliases': []}],\n",
       "     'query_type': 'regular',\n",
       "     'subject_id': 'Q878',\n",
       "     'relation': 'ANTHEM',\n",
       "     'target_ids': ['Q423807'],\n",
       "     'phrase': None}]}],\n",
       " 'Forgetfulness': []}"
      ]
     },
     "execution_count": 111,
     "metadata": {},
     "output_type": "execute_result"
    }
   ],
   "source": [
    "new_test_data[0]"
   ]
  },
  {
   "cell_type": "code",
   "execution_count": 100,
   "metadata": {},
   "outputs": [],
   "source": [
    "io.dump_jsonlines(new_test_data, f\"{vars.DATA_DIR}/ripple_edits/meta_train/all/{split}_aug.jsonl\")\n"
   ]
  },
  {
   "cell_type": "markdown",
   "metadata": {},
   "source": [
    "### Prepare a ripple edits for MEND-original version (before generating paraphrase)"
   ]
  },
  {
   "cell_type": "code",
   "execution_count": 3,
   "metadata": {},
   "outputs": [],
   "source": [
    "split = \"test\"\n",
    "train_examples = io.load_jsonlines(f\"{vars.DATA_DIR}/ripple_edits/meta_train_recent+popular/{split}.jsonl\")\n",
    "train_ds = load_from_disk(f\"{vars.DATA_DIR}/ripple_edits/meta_train_recent+popular/{split}_w_prefix.hf\")"
   ]
  },
  {
   "cell_type": "markdown",
   "metadata": {},
   "source": [
    "# special treatment for test set"
   ]
  },
  {
   "cell_type": "code",
   "execution_count": 4,
   "metadata": {},
   "outputs": [],
   "source": [
    "\n",
    "new_examples = []\n",
    "missing_examples = []\n",
    "mismatch_c = 0\n",
    "for i in range(len(train_examples)):\n",
    "    augmentation = train_ds[i-mismatch_c]\n",
    "    example = train_examples[i]\n",
    "    new_example = deepcopy(example)\n",
    "    \n",
    "    new_example[\"edit\"][\"context\"] = augmentation[\"context\"]\n",
    "    new_example[\"edit\"][\"paraphrase\"] = augmentation[\"paraphrase\"]\n",
    "    new_example[\"edit\"][\"object\"] = augmentation[\"object\"]\n",
    "    new_examples.append(new_example)\n",
    "    # if example[\"edit\"][\"prompt\"] != augmentation[\"prompt\"]:\n",
    "    #     mismatch_c += 1\n",
    "    # else:\n",
    "        \n",
    "    #     assert example[\"edit\"][\"prompt\"] == augmentation[\"prompt\"]\n",
    "    #     assert augmentation[\"object\"] in example[\"edit\"][\"prompt\"]\n",
    "    \n",
    "    #     flattend_train_examples.append({\"context\": augmentation[\"context\"], \"completion\": augmentation[\"object\"], \"paraphrase\": augmentation[\"paraphrase\"]})\n",
    "    "
   ]
  },
  {
   "cell_type": "code",
   "execution_count": null,
   "metadata": {},
   "outputs": [],
   "source": [
    "# if split == \"test\":\n",
    "#     io.dump_jsonlines(new_examples, f\"{vars.DATA_DIR}/ripple_edits/meta_train_recent+popular/{split}_mend.jsonl\")"
   ]
  },
  {
   "cell_type": "code",
   "execution_count": 88,
   "metadata": {},
   "outputs": [],
   "source": [
    "flattend_train_examples = []\n",
    "missing_examples = []\n",
    "mismatch_c = 0\n",
    "for i in range(len(train_examples)):\n",
    "    augmentation = train_ds[i-mismatch_c]\n",
    "    example = train_examples[i]\n",
    "    \n",
    "    if example[\"edit\"][\"prompt\"] != augmentation[\"prompt\"]:\n",
    "        mismatch_c += 1\n",
    "    else:\n",
    "        \n",
    "        assert example[\"edit\"][\"prompt\"] == augmentation[\"prompt\"]\n",
    "        assert augmentation[\"object\"] in example[\"edit\"][\"prompt\"], augmentation[\"object\"] + \"@@@\" + example[\"edit\"][\"prompt\"]\n",
    "    \n",
    "        flattend_train_examples.append({\"context\": augmentation[\"context\"], \"completion\": augmentation[\"object\"], \"paraphrase\": augmentation[\"paraphrase\"]})\n",
    "    \n",
    "    for k in [\"Logical_Generalization\", \"Compositionality_I\", \"Compositionality_II\", \"Subject_Aliasing\"]:\n",
    "        for instance in example[k]:\n",
    "            for q in instance[\"test_queries\"]:\n",
    "                if len(q[\"answers\"]) > 0 and len([a[\"value\"] for a in q[\"answers\"] if len(a[\"value\"].strip() ) > 0 ]) > 0:\n",
    "                    q[\"question_type\"] = k\n",
    "                    ans_candidates = [a[\"value\"] for a in q[\"answers\"] if len(a[\"value\"].strip()) > 0]\n",
    "                    assert len(ans_candidates) > 0\n",
    "                    assert q[\"prompt\"][-1] not in \".\",  q[\"prompt\"]\n",
    "                    assert \"phrase\" in q\n",
    "                    if q[\"phrase\"] is not None:\n",
    "                        flattend_train_examples.append({\"context\": q[\"prompt\"], \"completion\": ans_candidates[0], \"paraphrase\": q[\"phrase\"]})\n",
    "                    else:\n",
    "                        missing_examples.append({\"context\": q[\"prompt\"], \"completion\": ans_candidates[0],})\n",
    "    for k in [\"Relation_Specificity\", \"Forgetfulness\"]:\n",
    "        for instance in example[k]:\n",
    "            for q in instance[\"test_queries\"]:\n",
    "                if len(q[\"answers\"]) > 0 and len([a[\"value\"] for a in q[\"answers\"] if len(a[\"value\"].strip() ) > 0 ]) > 0:\n",
    "                    q[\"question_type\"] = k\n",
    "                    ans_candidates = [a[\"value\"] for a in q[\"answers\"] if len(a[\"value\"].strip()) > 0]\n",
    "                    assert len(ans_candidates) > 0\n",
    "                    assert q[\"prompt\"][-1] not in string.punctuation\n",
    "                    \n",
    "                    assert \"phrase\" in q\n",
    "                    if q[\"phrase\"] is not None:\n",
    "                        flattend_train_examples.append({\"context\": q[\"prompt\"], \"completion\": ans_candidates[0], \"paraphrase\": q[\"phrase\"]})\n",
    "                    else:\n",
    "                        missing_examples.append({\"context\": q[\"prompt\"], \"completion\": ans_candidates[0],})\n",
    "    "
   ]
  },
  {
   "cell_type": "code",
   "execution_count": null,
   "metadata": {},
   "outputs": [],
   "source": []
  },
  {
   "cell_type": "code",
   "execution_count": 74,
   "metadata": {},
   "outputs": [],
   "source": [
    "# missing_ds = load_from_disk(f\"{vars.DATA_DIR}/ripple_edits/meta_train_recent/{split}_w_paraphrase.hf\")\n",
    "# for i in range(len(missing_ds)):\n",
    "#     augmentation = missing_ds[i]\n",
    "    \n",
    "#     flattend_train_examples.append({\"context\": augmentation[\"context\"], \"completion\": augmentation[\"completion\"], \"paraphrase\": augmentation[\"paraphrase\"]})"
   ]
  },
  {
   "cell_type": "code",
   "execution_count": 89,
   "metadata": {},
   "outputs": [
    {
     "data": {
      "text/plain": [
       "17096"
      ]
     },
     "execution_count": 89,
     "metadata": {},
     "output_type": "execute_result"
    }
   ],
   "source": [
    "len(flattend_train_examples)"
   ]
  },
  {
   "cell_type": "code",
   "execution_count": null,
   "metadata": {},
   "outputs": [],
   "source": [
    "# io.dump_jsonlines(flattend_train_examples, f\"{vars.DATA_DIR}/ripple_edits/meta_train_recent+popular/{split}_mend.jsonl\")"
   ]
  },
  {
   "cell_type": "code",
   "execution_count": 78,
   "metadata": {},
   "outputs": [],
   "source": [
    "for ex in io.load_jsonlines(f\"{vars.DATA_DIR}/ripple_edits/meta_train_recent/valid_mend.jsonl\"):\n",
    "    assert \"context\" in ex and ex[\"context\"] is not None\n",
    "    assert \"completion\" in ex and ex[\"completion\"] is not None\n",
    "    assert \"paraphrase\" in ex and ex[\"paraphrase\"] is not None"
   ]
  },
  {
   "cell_type": "code",
   "execution_count": null,
   "metadata": {},
   "outputs": [],
   "source": []
  },
  {
   "cell_type": "code",
   "execution_count": null,
   "metadata": {},
   "outputs": [],
   "source": []
  },
  {
   "cell_type": "code",
   "execution_count": null,
   "metadata": {},
   "outputs": [],
   "source": []
  },
  {
   "cell_type": "code",
   "execution_count": 11,
   "metadata": {},
   "outputs": [
    {
     "data": {
      "text/plain": [
       "508"
      ]
     },
     "execution_count": 11,
     "metadata": {},
     "output_type": "execute_result"
    }
   ],
   "source": [
    "converted_recoe_aggregation[-1]\n",
    "len(converted_recoe_aggregation)"
   ]
  },
  {
   "cell_type": "markdown",
   "metadata": {},
   "source": [
    "### Integrate RoCE data to ripple edit trainings"
   ]
  },
  {
   "cell_type": "code",
   "execution_count": 116,
   "metadata": {},
   "outputs": [],
   "source": [
    "recoe_aggregation = io.load_json(\"/u/zliu/datastor1/ReCoE/data/aggregation/counterfactual_datapoints_verified_atomic.json\")\n",
    "\n",
    "converted_recoe_aggregation = [\n",
    "    {\n",
    "        \"texts\": \" \".join([f[\"fact\"] for f in x[\"direct_counterfactual_fact\"]]),\n",
    "        \"question\": x[\"question\"],\n",
    "        \"answer\": x[\"counterfactual_answer\"]\n",
    "     }\n",
    "    for x in recoe_aggregation\n",
    "]\n",
    "assert len(converted_recoe_aggregation) == len(recoe_aggregation)\n"
   ]
  },
  {
   "cell_type": "code",
   "execution_count": 117,
   "metadata": {},
   "outputs": [],
   "source": [
    "recoe_comparative = io.load_json(\"/u/zliu/datastor1/ReCoE/data/comparative/counterfactual_datapoints_verified_atomic.json\")\n",
    "converted_recoe_comparative = []\n",
    "for x in recoe_comparative:\n",
    "    assert \"choice_1_counterfactuals\" in x[\"counterfactuals_per_choice\"]\n",
    "    assert \"choice_2_counterfactuals\" in x[\"counterfactuals_per_choice\"]\n",
    "    assert \"choice_3_counterfactuals\" not in x[\"counterfactuals_per_choice\"]\n",
    "    \n",
    "    counter_fact1_text = [f[\"fact\"] for f in x[\"counterfactuals_per_choice\"][\"choice_1_counterfactuals\"]]\n",
    "    counter_fact2_text = [f[\"fact\"] for f in x[\"counterfactuals_per_choice\"][\"choice_2_counterfactuals\"]]\n",
    "    texts = [counter_fact1_text, counter_fact2_text]\n",
    "    np.random.shuffle(texts)\n",
    "    counter_fact1_text_after_rand, counter_fact2_text_after_rand = texts\n",
    "    \n",
    "    \n",
    "    converted_recoe_comparative.append(\n",
    "        {\n",
    "            \"texts\": \" \".join(counter_fact1_text_after_rand + counter_fact2_text_after_rand),\n",
    "            \"question\": x[\"question\"],\n",
    "            \"answer\": x[\"counterfactual_answer\"]\n",
    "        }\n",
    "    )\n",
    "assert len(converted_recoe_comparative) == len(recoe_comparative)"
   ]
  },
  {
   "cell_type": "code",
   "execution_count": null,
   "metadata": {},
   "outputs": [],
   "source": []
  },
  {
   "cell_type": "code",
   "execution_count": 118,
   "metadata": {},
   "outputs": [],
   "source": [
    "# [len(x[\"facts_per_choice\"]) for x in recoe_comparative]\n",
    "recoe_counting = io.load_json(\"/u/zliu/datastor1/ReCoE/data/counting/counterfactual_datapoints_verified_atomic.json\")\n",
    "converted_recoe_counting = []\n",
    "for x in recoe_counting:\n",
    "    converted_recoe_counting.append(\n",
    "        {\n",
    "            \"texts\": \" \".join([f[\"sentence\"] for f in x[\"counterfactual_facts\"]]),\n",
    "            \"question\": x[\"question\"],\n",
    "            \"answer\": x[\"counterfactual_answer\"]\n",
    "        }\n",
    "    )\n",
    "assert len(recoe_counting) == len(converted_recoe_counting)"
   ]
  },
  {
   "cell_type": "code",
   "execution_count": 119,
   "metadata": {},
   "outputs": [],
   "source": [
    "recoe_sorting = io.load_json(\"/u/zliu/datastor1/ReCoE/data/sorting/counterfactual_datapoints_verified_atomic.json\")\n",
    "converted_recoe_sorting = []\n",
    "for x_i, x in enumerate(recoe_sorting):\n",
    "    assert \"counterfactuals_per_choice\" in x\n",
    "    n_facts = len([k for k in x[\"facts_per_choice\"].keys() if \"choice_\" in k])\n",
    "    texts = []\n",
    "    count = 0\n",
    "    # assert n_facts == 3\n",
    "    counter_factuals = x[\"counterfactuals_per_choice\"]\n",
    "    factuals = x[\"facts_per_choice\"]\n",
    "    \n",
    "    unchanged_facts_added = False\n",
    "    for f_i in range(1, n_facts + 1):\n",
    "        \n",
    "        if f\"choice_{f_i}_counterfactuals\" not in counter_factuals:\n",
    "            if not unchanged_facts_added:\n",
    "                texts.extend(counter_factuals[\"unchanged_facts\"])\n",
    "            else:\n",
    "                continue\n",
    "        else:\n",
    "            texts.extend([f[\"fact\"] for f in counter_factuals[f\"choice_{f_i}_counterfactuals\"]])\n",
    "    converted_recoe_sorting.append(\n",
    "        {\n",
    "            \"texts\": \" \".join(texts),\n",
    "            \"question\": x[\"question\"],\n",
    "            \"answer\": x[\"counterfactual_answer\"]\n",
    "        }\n",
    "    )\n",
    "assert len(converted_recoe_sorting) == len(recoe_sorting)"
   ]
  },
  {
   "cell_type": "code",
   "execution_count": 120,
   "metadata": {},
   "outputs": [],
   "source": [
    "recoe_subtraction = io.load_json(\"/u/zliu/datastor1/ReCoE/data/subtraction/counterfactual_datapoints_verified_atomic.json\")\n",
    "\n",
    "\n",
    "converted_recoe_subtraction = [\n",
    "    {\n",
    "        \"texts\": \" \".join([f[\"fact\"] for f in x[\"direct_counterfactual_fact\"]]),\n",
    "        \"question\": x[\"question\"],\n",
    "        \"answer\": x[\"counterfactual_answer\"]\n",
    "     }\n",
    "    for x in recoe_subtraction\n",
    "]\n",
    "assert len(recoe_subtraction) == len(converted_recoe_subtraction)\n"
   ]
  },
  {
   "cell_type": "code",
   "execution_count": null,
   "metadata": {},
   "outputs": [],
   "source": [
    "recoe_superlative = io.load_json(\"/u/zliu/datastor1/ReCoE/data/superlative/counterfactual_datapoints_verified_atomic.json\")\n",
    "\n",
    "converted_recoe_superlative = []\n",
    "for x_i, x in enumerate(recoe_superlative):\n",
    "    assert \"counterfactuals_per_choice\" in x\n",
    "    n_facts = len([k for k in x[\"facts_per_choice\"].keys() if \"choice_\" in k])\n",
    "    texts = []\n",
    "    count = 0\n",
    "    # assert n_facts == 3\n",
    "    counter_factuals = x[\"counterfactuals_per_choice\"]\n",
    "    factuals = x[\"facts_per_choice\"]\n",
    "    \n",
    "    unchanged_facts_added = False\n",
    "    for f_i in range(1, n_facts + 1):\n",
    "        \n",
    "        if f\"choice_{f_i}_counterfactuals\" not in counter_factuals:\n",
    "            if not unchanged_facts_added:\n",
    "                texts.extend(counter_factuals[\"unchanged_facts\"])\n",
    "            else:\n",
    "                continue\n",
    "        else:\n",
    "            texts.extend([f[\"fact\"] for f in counter_factuals[f\"choice_{f_i}_counterfactuals\"]])\n",
    "    converted_recoe_superlative.append(\n",
    "        {\n",
    "            \"texts\": \" \".join(texts),\n",
    "            \"question\": x[\"question\"],\n",
    "            \"answer\": x[\"counterfactual_answer\"]\n",
    "        }\n",
    "    )\n",
    "assert len(recoe_superlative) == len(converted_recoe_superlative)\n",
    "    # assert count == 2, x"
   ]
  },
  {
   "cell_type": "code",
   "execution_count": 122,
   "metadata": {},
   "outputs": [],
   "source": [
    "converted_recoe = converted_recoe_aggregation + converted_recoe_comparative + converted_recoe_counting + converted_recoe_sorting + converted_recoe_subtraction + converted_recoe_superlative"
   ]
  },
  {
   "cell_type": "code",
   "execution_count": 130,
   "metadata": {},
   "outputs": [],
   "source": [
    "converted_recoe = [\n",
    "    {\n",
    "        \"texts\": x[\"texts\"],\n",
    "        \"question\": x[\"question\"],\n",
    "        \"answer\": str(x[\"answer\"])\n",
    "    }\n",
    "    for x in converted_recoe\n",
    "]"
   ]
  },
  {
   "cell_type": "code",
   "execution_count": 131,
   "metadata": {},
   "outputs": [
    {
     "data": {
      "text/plain": [
       "True"
      ]
     },
     "execution_count": 131,
     "metadata": {},
     "output_type": "execute_result"
    }
   ],
   "source": [
    "all([isinstance(x[\"answer\"], str) for x in converted_recoe])"
   ]
  },
  {
   "cell_type": "code",
   "execution_count": 132,
   "metadata": {},
   "outputs": [],
   "source": [
    "io.dump_jsonlines(converted_recoe, f\"{vars.DATA_DIR}/ripple_edits/meta_train_recent+popular/recoe.jsonl\")"
   ]
  },
  {
   "cell_type": "code",
   "execution_count": 133,
   "metadata": {},
   "outputs": [],
   "source": [
    "recent_popular_train = io.load_jsonlines(f\"{vars.DATA_DIR}/ripple_edits/meta_train_recent+popular/train.jsonl\")"
   ]
  },
  {
   "cell_type": "code",
   "execution_count": 134,
   "metadata": {},
   "outputs": [],
   "source": [
    "io.dump_jsonlines(recent_popular_train + converted_recoe, f\"{vars.DATA_DIR}/ripple_edits/meta_train_recent+popular/train_w_recoe.jsonl\")"
   ]
  },
  {
   "cell_type": "code",
   "execution_count": null,
   "metadata": {},
   "outputs": [],
   "source": []
  }
 ],
 "metadata": {
  "kernelspec": {
   "display_name": "cpt",
   "language": "python",
   "name": "python3"
  },
  "language_info": {
   "codemirror_mode": {
    "name": "ipython",
    "version": 3
   },
   "file_extension": ".py",
   "mimetype": "text/x-python",
   "name": "python",
   "nbconvert_exporter": "python",
   "pygments_lexer": "ipython3",
   "version": "3.11.10"
  }
 },
 "nbformat": 4,
 "nbformat_minor": 2
}
