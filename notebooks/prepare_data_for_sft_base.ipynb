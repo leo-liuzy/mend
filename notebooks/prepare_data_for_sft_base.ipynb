{
 "cells": [
  {
   "cell_type": "code",
   "execution_count": 2,
   "metadata": {},
   "outputs": [
    {
     "name": "stderr",
     "output_type": "stream",
     "text": [
      "/home/zliu/miniconda3/envs/cpt/lib/python3.11/site-packages/tqdm/auto.py:21: TqdmWarning: IProgress not found. Please update jupyter and ipywidgets. See https://ipywidgets.readthedocs.io/en/stable/user_install.html\n",
      "  from .autonotebook import tqdm as notebook_tqdm\n"
     ]
    }
   ],
   "source": [
    "from datasets import load_dataset\n",
    "from tqdm import tqdm\n",
    "from knowledge_propagation.utils import vars, io\n",
    "from scipy.stats import describe"
   ]
  },
  {
   "cell_type": "code",
   "execution_count": 4,
   "metadata": {},
   "outputs": [
    {
     "name": "stderr",
     "output_type": "stream",
     "text": [
      "Generating train split: 100%|██████████| 61888/61888 [00:22<00:00, 2738.80 examples/s]\n",
      "Generating validation split: 100%|██████████| 7993/7993 [00:02<00:00, 2849.57 examples/s]\n",
      "Generating test split: 100%|██████████| 7701/7701 [00:02<00:00, 2821.63 examples/s]\n"
     ]
    }
   ],
   "source": [
    "rc = load_dataset(\"/home/zliu/shared_resources/datasets/trivia_qa\", 'rc.wikipedia') # 'rc.web'"
   ]
  },
  {
   "cell_type": "code",
   "execution_count": 6,
   "metadata": {},
   "outputs": [
    {
     "name": "stderr",
     "output_type": "stream",
     "text": [
      "100%|██████████| 61888/61888 [00:10<00:00, 6183.07it/s]\n"
     ]
    },
    {
     "name": "stdout",
     "output_type": "stream",
     "text": [
      "Split = train\n",
      "# multiple_question_mark  310\n",
      "# not ending in `?` 3039\n",
      "# clean instances 58539\n"
     ]
    },
    {
     "name": "stderr",
     "output_type": "stream",
     "text": [
      "100%|██████████| 7993/7993 [00:01<00:00, 6459.62it/s]\n"
     ]
    },
    {
     "name": "stdout",
     "output_type": "stream",
     "text": [
      "Split = validation\n",
      "# multiple_question_mark  353\n",
      "# not ending in `?` 3458\n",
      "# clean instances 7531\n"
     ]
    },
    {
     "name": "stderr",
     "output_type": "stream",
     "text": [
      "100%|██████████| 7701/7701 [00:01<00:00, 7628.68it/s]\n"
     ]
    },
    {
     "name": "stdout",
     "output_type": "stream",
     "text": [
      "Split = test\n",
      "# multiple_question_mark  399\n",
      "# not ending in `?` 3868\n",
      "# clean instances 7245\n"
     ]
    }
   ],
   "source": [
    "non_question_ends = []\n",
    "multiple_question_mark = []\n",
    "for split in [\"train\", \"validation\", \"test\"][:]:\n",
    "    clean_sft_data = []\n",
    "    \n",
    "    for datum in tqdm(rc[split],):\n",
    "        q = datum[\"question\"]\n",
    "        a = datum[\"answer\"][\"value\"]\n",
    "        if q[0] == q[-1] == \"\\\"\" or q[0] == q[-1] == \"\\'\":\n",
    "            q = q[1:-1]\n",
    "        \n",
    "        if not q.endswith(\"?\"):\n",
    "            non_question_ends.append(q)\n",
    "            continue\n",
    "        \n",
    "            \n",
    "        t = f\"{q}{a}\" if a[0] == \" \" else f\"{q} {a}\"\n",
    "        if t.count(\"?\") != 1:\n",
    "            multiple_question_mark.append(q)\n",
    "            continue\n",
    "        clean_sft_data.append(\n",
    "            {\n",
    "                \"question\": q,\n",
    "                \"answer\": a,\n",
    "                \"text\": t,\n",
    "            }\n",
    "        )\n",
    "    print(\"Split =\", split)\n",
    "    print(\"# multiple_question_mark \", len(multiple_question_mark))\n",
    "    print(\"# not ending in `?`\", len(non_question_ends))\n",
    "    print(\"# clean instances\", len(clean_sft_data))\n",
    "    io.dump_jsonlines(clean_sft_data, f\"{vars.DATA_DIR}/trivia_qa_wiki_sft/{split[:5]}.jsonl\") \n",
    "    "
   ]
  },
  {
   "cell_type": "code",
   "execution_count": 58,
   "metadata": {},
   "outputs": [
    {
     "name": "stdout",
     "output_type": "stream",
     "text": [
      "297\n"
     ]
    }
   ],
   "source": [
    "print(len(multiple_question_mark))"
   ]
  },
  {
   "cell_type": "code",
   "execution_count": null,
   "metadata": {},
   "outputs": [
    {
     "data": {
      "text/plain": [
       "DatasetDict({\n",
       "    train: Dataset({\n",
       "        features: ['question', 'question_id', 'question_source', 'entity_pages', 'search_results', 'answer'],\n",
       "        num_rows: 138384\n",
       "    })\n",
       "    validation: Dataset({\n",
       "        features: ['question', 'question_id', 'question_source', 'entity_pages', 'search_results', 'answer'],\n",
       "        num_rows: 17944\n",
       "    })\n",
       "    test: Dataset({\n",
       "        features: ['question', 'question_id', 'question_source', 'entity_pages', 'search_results', 'answer'],\n",
       "        num_rows: 17210\n",
       "    })\n",
       "})"
      ]
     },
     "execution_count": 44,
     "metadata": {},
     "output_type": "execute_result"
    }
   ],
   "source": [
    "# {\"question\": , \"answer\": , \"text\": }\n",
    "rc"
   ]
  },
  {
   "cell_type": "code",
   "execution_count": 8,
   "metadata": {},
   "outputs": [
    {
     "data": {
      "text/plain": [
       "DescribeResult(nobs=58539, minmax=(np.int64(7), np.int64(137)), mean=np.float64(21.507285741129845), variance=np.float64(87.2176644680619), skewness=np.float64(1.7815887394080325), kurtosis=np.float64(5.913777618588101))"
      ]
     },
     "execution_count": 8,
     "metadata": {},
     "output_type": "execute_result"
    }
   ],
   "source": [
    "describe([len(vars.GPT_4_TOKENIZER(x[\"text\"])) for x in io.load_jsonlines(f\"{vars.DATA_DIR}/trivia_qa_wiki_sft/train.jsonl\")])"
   ]
  },
  {
   "cell_type": "code",
   "execution_count": null,
   "metadata": {},
   "outputs": [
    {
     "data": {
      "text/plain": [
       "0"
      ]
     },
     "execution_count": 43,
     "metadata": {},
     "output_type": "execute_result"
    }
   ],
   "source": []
  },
  {
   "cell_type": "code",
   "execution_count": null,
   "metadata": {},
   "outputs": [
    {
     "data": {
      "text/plain": [
       "True"
      ]
     },
     "execution_count": 27,
     "metadata": {},
     "output_type": "execute_result"
    }
   ],
   "source": []
  },
  {
   "cell_type": "code",
   "execution_count": null,
   "metadata": {},
   "outputs": [],
   "source": []
  }
 ],
 "metadata": {
  "kernelspec": {
   "display_name": "cpt",
   "language": "python",
   "name": "python3"
  },
  "language_info": {
   "codemirror_mode": {
    "name": "ipython",
    "version": 3
   },
   "file_extension": ".py",
   "mimetype": "text/x-python",
   "name": "python",
   "nbconvert_exporter": "python",
   "pygments_lexer": "ipython3",
   "version": "3.11.10"
  }
 },
 "nbformat": 4,
 "nbformat_minor": 2
}
