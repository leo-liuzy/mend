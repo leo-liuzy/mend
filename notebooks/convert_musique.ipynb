{
 "cells": [
  {
   "cell_type": "code",
   "execution_count": 3,
   "metadata": {},
   "outputs": [],
   "source": [
    "from datasets import load_dataset\n",
    "from tqdm import tqdm\n",
    "from knowledge_propagation.utils import vars, io\n",
    "from scipy.stats import describe\n",
    "from typing import List, Dict\n",
    "import re\n",
    "from copy import deepcopy\n",
    "import pandas as pd\n",
    "\n",
    "# from bespokelabs import curator\n",
    "from datasets import Dataset\n",
    "import os"
   ]
  },
  {
   "cell_type": "code",
   "execution_count": 4,
   "metadata": {},
   "outputs": [],
   "source": [
    "def resolved_answer_references(singleton_questions: List[Dict]):\n",
    "    \"\"\"\n",
    "    The single-hop questions per MuSiQue instance contains reference to answers in other questions. This function replace the reference with actual value.\n",
    "    \"\"\"\n",
    "    pattern = r\"#(\\d+)\"\n",
    "\n",
    "    resolved_singleton_questions = [None] * len(singleton_questions)\n",
    "    for q_i, q in enumerate(singleton_questions):\n",
    "        resolved_q = deepcopy(q)\n",
    "        match = re.findall(pattern, q[\"question\"])\n",
    "        # replace every answer reference with the actual value\n",
    "        resolved_question = q[\"question\"]\n",
    "        for ans_i in match:\n",
    "            try:\n",
    "                assert int(ans_i) - 1 >= 0\n",
    "                resolved_question = resolved_question.replace(\n",
    "                    f\"#{ans_i}\", singleton_questions[int(ans_i) - 1][\"answer\"].strip()\n",
    "                )\n",
    "            except Exception:\n",
    "                continue\n",
    "\n",
    "        resolved_q[\"question\"] = resolved_question\n",
    "        resolved_singleton_questions[q_i] = resolved_q\n",
    "    assert not any(q is None for q in resolved_singleton_questions)\n",
    "    return resolved_singleton_questions"
   ]
  },
  {
   "cell_type": "code",
   "execution_count": 19,
   "metadata": {},
   "outputs": [],
   "source": [
    "train_set_unresolved = io.load_jsonlines(\"/data/users/zliu/KE-by-CP/data/musique_mend/2hop_musique_ans_v1.0_dev.jsonl\")"
   ]
  },
  {
   "cell_type": "code",
   "execution_count": 4,
   "metadata": {},
   "outputs": [
    {
     "data": {
      "text/plain": [
       "{'id': '2hop__482757_12019',\n",
       " 'texts': ['The Collegian is the bi-weekly official student publication of Houston Baptist University in Houston, Texas. It was founded in 1963 as a newsletter, and adopted the newspaper format in 1990.',\n",
       "  \"Several private institutions of higher learning—ranging from liberal arts colleges, such as The University of St. Thomas, Houston's only Catholic university, to Rice University, the nationally recognized research university—are located within the city. Rice, with a total enrollment of slightly more than 6,000 students, has a number of distinguished graduate programs and research institutes, such as the James A. Baker Institute for Public Policy. Houston Baptist University, affiliated with the Baptist General Convention of Texas, offers bachelor's and graduate degrees. It was founded in 1960 and is located in the Sharpstown area in Southwest Houston.\"],\n",
       " 'multi_hop_efficacy': [{'question': 'When was the institute that owned The Collegian founded?',\n",
       "   'answer': '1960',\n",
       "   'supporting_text_ids': [0, 1]}],\n",
       " 'question_decomposition': [{'id': 482757,\n",
       "   'question': 'The Collegian >> owned by',\n",
       "   'answer': 'Houston Baptist University',\n",
       "   'supporting_text_id': 0},\n",
       "  {'id': 12019,\n",
       "   'question': 'When was #1 founded?',\n",
       "   'answer': '1960',\n",
       "   'supporting_text_id': 1}]}"
      ]
     },
     "execution_count": 4,
     "metadata": {},
     "output_type": "execute_result"
    }
   ],
   "source": [
    "train_set_unresolved[0]"
   ]
  },
  {
   "cell_type": "code",
   "execution_count": 5,
   "metadata": {},
   "outputs": [
    {
     "data": {
      "text/plain": [
       "DescribeResult(nobs=71999, minmax=(np.int64(7), np.int64(137)), mean=np.float64(21.392713787691495), variance=np.float64(84.0200702471322), skewness=np.float64(1.8015959776193726), kurtosis=np.float64(6.219234086905777))"
      ]
     },
     "execution_count": 5,
     "metadata": {},
     "output_type": "execute_result"
    }
   ],
   "source": [
    "describe([len(vars.GPT_4_TOKENIZER(x[\"text\"])) for x in io.load_jsonlines(f\"{vars.DATA_DIR}/trivia_qa_sft/train.jsonl\")])"
   ]
  },
  {
   "cell_type": "code",
   "execution_count": null,
   "metadata": {},
   "outputs": [],
   "source": [
    "train_set_reference_resolved = []\n",
    "for datum in train_set_unresolved:\n",
    "    new_datum = deepcopy(datum)\n",
    "    new_datum[\"question_decomposition\"] = resolved_answer_references(datum[\"question_decomposition\"])\n",
    "    train_set_reference_resolved.append(new_datum)"
   ]
  },
  {
   "cell_type": "code",
   "execution_count": 21,
   "metadata": {},
   "outputs": [
    {
     "data": {
      "text/plain": [
       "{'id': '2hop__460946_294723',\n",
       " 'texts': ['Green is the fourth studio album by British progressive rock musician Steve Hillage. Written in spring 1977 at the same time as his previous album, the funk-inflected \"Motivation Radio\" (1977), \"Green\" was originally going to be released as \"The Green Album\" as a companion to \"The Red Album\" (the originally intended name for \"Motivation Radio\"). However, this plan was dropped and after a US tour in late 1977, \"Green\" was recorded alone, primarily in Dorking, Surrey, and in London.',\n",
       "  'Miquette Giraudy (born 9 February 1953, Nice, France) is a keyboard player and vocalist, best known for her work in Gong and with her partner Steve Hillage. She and Hillage currently form the core of the ambient band System 7. In addition to her performances in music, she has also worked as an actress, film editor and writer. In each role, she has used different stage names.'],\n",
       " 'multi_hop_efficacy': [{'question': 'Who is the spouse of the Green performer?',\n",
       "   'answer': 'Miquette Giraudy',\n",
       "   'supporting_text_ids': [0, 1]}],\n",
       " 'question_decomposition': [{'id': 460946,\n",
       "   'question': 'Green >> performer',\n",
       "   'answer': 'Steve Hillage',\n",
       "   'supporting_text_id': 0},\n",
       "  {'id': 294723,\n",
       "   'question': 'Steve Hillage >> spouse',\n",
       "   'answer': 'Miquette Giraudy',\n",
       "   'supporting_text_id': 1}]}"
      ]
     },
     "execution_count": 21,
     "metadata": {},
     "output_type": "execute_result"
    }
   ],
   "source": [
    "train_set_reference_resolved[0]\n"
   ]
  },
  {
   "cell_type": "code",
   "execution_count": null,
   "metadata": {},
   "outputs": [],
   "source": []
  },
  {
   "cell_type": "code",
   "execution_count": 24,
   "metadata": {},
   "outputs": [],
   "source": [
    "zsre_question_list = []\n",
    "\n",
    "for datum in train_set_reference_resolved:\n",
    "    \n",
    "    for decomp_q in datum[\"question_decomposition\"]:\n",
    "        if \">>\" in decomp_q[\"question\"]:\n",
    "            assert \" >> \" in decomp_q[\"question\"]\n",
    "            new_decomp_q = deepcopy(decomp_q)\n",
    "            new_decomp_q[\"id\"] = datum[\"id\"] + \"::\" + str(decomp_q[\"id\"])\n",
    "            new_decomp_q[\"text\"] = datum[\"texts\"][new_decomp_q['supporting_text_id']]\n",
    "            zsre_question_list.append(new_decomp_q)\n",
    "    "
   ]
  },
  {
   "cell_type": "code",
   "execution_count": 9,
   "metadata": {},
   "outputs": [
    {
     "data": {
      "text/plain": [
       "{'id': '2hop__92702_731379::731379',\n",
       " 'question': 'Downtown Cincinnati >> located in the administrative territorial entity',\n",
       " 'answer': 'Ohio',\n",
       " 'supporting_text_id': 1,\n",
       " 'text': 'The Cincinnatian Hotel is a registered historic building in Downtown Cincinnati, Ohio, listed in the National Register on March 3, 1980.'}"
      ]
     },
     "execution_count": 9,
     "metadata": {},
     "output_type": "execute_result"
    }
   ],
   "source": [
    "new_decomp_q"
   ]
  },
  {
   "cell_type": "code",
   "execution_count": 10,
   "metadata": {},
   "outputs": [
    {
     "data": {
      "text/plain": [
       "10862"
      ]
     },
     "execution_count": 10,
     "metadata": {},
     "output_type": "execute_result"
    }
   ],
   "source": [
    "len(zsre_question_list)"
   ]
  },
  {
   "cell_type": "code",
   "execution_count": 11,
   "metadata": {},
   "outputs": [
    {
     "data": {
      "text/plain": [
       "{'id': '2hop__482757_12019::482757',\n",
       " 'question': 'The Collegian >> owned by',\n",
       " 'answer': 'Houston Baptist University',\n",
       " 'supporting_text_id': 0,\n",
       " 'text': 'The Collegian is the bi-weekly official student publication of Houston Baptist University in Houston, Texas. It was founded in 1963 as a newsletter, and adopted the newspaper format in 1990.'}"
      ]
     },
     "execution_count": 11,
     "metadata": {},
     "output_type": "execute_result"
    }
   ],
   "source": [
    "zsre_question_list[0]"
   ]
  },
  {
   "cell_type": "code",
   "execution_count": null,
   "metadata": {},
   "outputs": [],
   "source": []
  },
  {
   "cell_type": "code",
   "execution_count": null,
   "metadata": {},
   "outputs": [],
   "source": []
  },
  {
   "cell_type": "code",
   "execution_count": null,
   "metadata": {},
   "outputs": [],
   "source": []
  },
  {
   "cell_type": "code",
   "execution_count": null,
   "metadata": {},
   "outputs": [],
   "source": [
    "class zsREQuestioner(curator.LLM):\n",
    "    PROMPT : str = \"\"\"\n",
    "You will receive an knowledge triplet of form\n",
    "\"[Subject] >> [Relation] >> [Object]\", wrapped in <triplet>...</triplet>\n",
    "\n",
    "And source text wrapped in <text>...</text>.\n",
    "\n",
    "\n",
    "Turn the input to be a question about [Object], wrapped in <question>...</question>\n",
    "Avoid Yes/No question.\n",
    "Include [Relation] to make the question as clear as possible.\n",
    "Do not include [Object] in the question.\n",
    "\n",
    "<text>\n",
    "Green is the fourth studio album by British progressive rock musician Steve Hillage. Written in spring 1977 at the same time as his previous album, the funk-inflected \"Motivation Radio\" (1977), \"Green\" was originally going to be released as \"The Green Album\" as a companion to \"The Red Album\" (the originally intended name for \"Motivation Radio\"). However, this plan was dropped and after a US tour in late 1977, \"Green\" was recorded alone, primarily in Dorking, Surrey, and in London.\n",
    "</text>\n",
    "\n",
    "<triplet>\n",
    "Green >> performer >> Steve Hillage\n",
    "</triplet>\n",
    "\n",
    "<question>\n",
    "Who is the performer of Green?\n",
    "</question>\n",
    "\n",
    "<text>\n",
    "Empire Sports Network was an American regional sports network that was owned by the Adelphia Communications Corporation. The network was available on cable providers in much of upstate New York (stretching from Buffalo to Albany), as well as parts of northern Pennsylvania and eastern Ohio. The network ceased operations on March 7, 2005, in the midst of Adelphia's financial collapse and bankruptcy.\n",
    "</text>\n",
    "\n",
    "<triplet>\n",
    "Empire Sports Network >> owned by >> Adelphia Communications Corporation\n",
    "</triplet>\n",
    "\n",
    "<question>\n",
    "Who owns Empire Sports Network?\n",
    "</question>\n",
    "\n",
    "<text>\n",
    "{text}\n",
    "</text>\n",
    "\n",
    "<triplet>\n",
    "{question} >> {answer}\n",
    "</triplet>\n",
    "\"\"\"\n",
    "    def prompt(self, input: dict) -> str:\n",
    "        \"\"\"Generate a prompt for the subsubject generator.\"\"\"\n",
    "        return self.PROMPT.format(text=input[\"text\"], question=input[\"question\"], answer=input[\"answer\"])\n",
    "\n",
    "    def parse(self, input: dict, response: str) -> dict:\n",
    "        \"\"\"Parse the model response along with the input to the model into the desired output format..\"\"\"\n",
    "        \n",
    "        return {**input, \"nl_question\": response}\n",
    "    "
   ]
  },
  {
   "cell_type": "code",
   "execution_count": 46,
   "metadata": {},
   "outputs": [],
   "source": [
    "zsre_questioner = zsREQuestioner(model_name=\"gpt-4o-mini\")"
   ]
  },
  {
   "cell_type": "code",
   "execution_count": 47,
   "metadata": {},
   "outputs": [
    {
     "data": {
      "text/plain": [
       "{'id': '2hop__460946_294723::294723',\n",
       " 'question': 'Steve Hillage >> spouse',\n",
       " 'answer': 'Miquette Giraudy',\n",
       " 'supporting_text_id': 1,\n",
       " 'text': 'Miquette Giraudy (born 9 February 1953, Nice, France) is a keyboard player and vocalist, best known for her work in Gong and with her partner Steve Hillage. She and Hillage currently form the core of the ambient band System 7. In addition to her performances in music, she has also worked as an actress, film editor and writer. In each role, she has used different stage names.'}"
      ]
     },
     "execution_count": 47,
     "metadata": {},
     "output_type": "execute_result"
    }
   ],
   "source": [
    "zsre_question_list[1]"
   ]
  },
  {
   "cell_type": "code",
   "execution_count": 48,
   "metadata": {},
   "outputs": [],
   "source": [
    "zsre_question_df = pd.DataFrame(zsre_question_list[:10])\n",
    "zsre_question_dataset = Dataset.from_pandas(zsre_question_df)"
   ]
  },
  {
   "cell_type": "code",
   "execution_count": 49,
   "metadata": {},
   "outputs": [
    {
     "data": {
      "text/html": [
       "<pre style=\"white-space:pre;overflow-x:auto;line-height:normal;font-family:Menlo,'DejaVu Sans Mono',consolas,'Courier New',monospace\"><span style=\"color: #7fbfbf; text-decoration-color: #7fbfbf\">[02/25/25 01:57:48] </span><span style=\"color: #000080; text-decoration-color: #000080\">INFO    </span> Set <span style=\"color: #808000; text-decoration-color: #808000\">HOSTED_CURATOR_VIEWER</span>=<span style=\"color: #008080; text-decoration-color: #008080; font-weight: bold\">1</span> to view your data live at                     <a href=\"file:///home/zliu/miniconda3/envs/cpt/lib/python3.11/site-packages/bespokelabs/curator/client.py\" target=\"_blank\"><span style=\"color: #7f7f7f; text-decoration-color: #7f7f7f\">client.py</span></a><span style=\"color: #7f7f7f; text-decoration-color: #7f7f7f\">:</span><a href=\"file:///home/zliu/miniconda3/envs/cpt/lib/python3.11/site-packages/bespokelabs/curator/client.py#47\" target=\"_blank\"><span style=\"color: #7f7f7f; text-decoration-color: #7f7f7f\">47</span></a>\n",
       "<span style=\"color: #7fbfbf; text-decoration-color: #7fbfbf\">                    </span>         <span style=\"color: #0000ff; text-decoration-color: #0000ff; text-decoration: underline\">https://curator.bespokelabs.ai/datasets/.</span>                                 <span style=\"color: #7f7f7f; text-decoration-color: #7f7f7f\">            </span>\n",
       "</pre>\n"
      ],
      "text/plain": [
       "\u001b[2;36m[02/25/25 01:57:48]\u001b[0m\u001b[2;36m \u001b[0m\u001b[34mINFO    \u001b[0m Set \u001b[33mHOSTED_CURATOR_VIEWER\u001b[0m=\u001b[1;36m1\u001b[0m to view your data live at                     \u001b]8;id=895576;file:///home/zliu/miniconda3/envs/cpt/lib/python3.11/site-packages/bespokelabs/curator/client.py\u001b\\\u001b[2mclient.py\u001b[0m\u001b]8;;\u001b\\\u001b[2m:\u001b[0m\u001b]8;id=995522;file:///home/zliu/miniconda3/envs/cpt/lib/python3.11/site-packages/bespokelabs/curator/client.py#47\u001b\\\u001b[2m47\u001b[0m\u001b]8;;\u001b\\\n",
       "\u001b[2;36m                    \u001b[0m         \u001b[4;94mhttps://curator.bespokelabs.ai/datasets/.\u001b[0m                                 \u001b[2m            \u001b[0m\n"
      ]
     },
     "metadata": {},
     "output_type": "display_data"
    }
   ],
   "source": [
    "nl_zsre_question_dataset = zsre_questioner(zsre_question_dataset)"
   ]
  },
  {
   "cell_type": "code",
   "execution_count": 50,
   "metadata": {},
   "outputs": [
    {
     "data": {
      "text/plain": [
       "{'id': '2hop__460946_294723::294723',\n",
       " 'question': 'Steve Hillage >> spouse',\n",
       " 'answer': 'Miquette Giraudy',\n",
       " 'supporting_text_id': 1,\n",
       " 'text': 'Miquette Giraudy (born 9 February 1953, Nice, France) is a keyboard player and vocalist, best known for her work in Gong and with her partner Steve Hillage. She and Hillage currently form the core of the ambient band System 7. In addition to her performances in music, she has also worked as an actress, film editor and writer. In each role, she has used different stage names.',\n",
       " 'nl_question': \"<text>\\nThe Pacific Ocean is the largest and deepest of Earth's oceanic divisions. It extends from the Arctic Ocean in the north to the Southern Ocean in the south, and is bounded by the continents of Asia and Australia on the west, and the Americas on the east. It covers more than 63 million square miles (165 million square kilometers) and has an average depth of about 12,080 feet (3,682 meters). The Mariana Trench, located in the western Pacific, is the deepest point in the ocean and reaches a depth of approximately 36,000 feet (10,973 meters).\\n</text>\\n\\n<triplet>\\nPacific Ocean >> largest ocean >> Earth\\n</triplet>\\n\\n<question>\\nWhat is the largest ocean on Earth? \\n</question>\"}"
      ]
     },
     "execution_count": 50,
     "metadata": {},
     "output_type": "execute_result"
    }
   ],
   "source": [
    "nl_zsre_question_dataset[1]"
   ]
  },
  {
   "cell_type": "code",
   "execution_count": 51,
   "metadata": {},
   "outputs": [
    {
     "data": {
      "text/plain": [
       "{'id': '2hop__460946_294723::294723',\n",
       " 'question': 'Steve Hillage >> spouse',\n",
       " 'answer': 'Miquette Giraudy',\n",
       " 'supporting_text_id': 1,\n",
       " 'text': 'Miquette Giraudy (born 9 February 1953, Nice, France) is a keyboard player and vocalist, best known for her work in Gong and with her partner Steve Hillage. She and Hillage currently form the core of the ambient band System 7. In addition to her performances in music, she has also worked as an actress, film editor and writer. In each role, she has used different stage names.'}"
      ]
     },
     "execution_count": 51,
     "metadata": {},
     "output_type": "execute_result"
    }
   ],
   "source": [
    "zsre_question_list[1]"
   ]
  },
  {
   "cell_type": "code",
   "execution_count": 8,
   "metadata": {},
   "outputs": [],
   "source": [
    "\n",
    "import re\n",
    "def tag_content_extractor(tag):\n",
    "    pattern = rf\"<{tag}>([\\s\\S]*?)(?:</{tag}>|$)\"\n",
    "    def content_extractor(text):\n",
    "        return re.findall(pattern, text)\n",
    "    return content_extractor\n",
    "\n",
    "question_content_extractor = tag_content_extractor(tag=\"question\")\n"
   ]
  },
  {
   "cell_type": "code",
   "execution_count": 15,
   "metadata": {},
   "outputs": [],
   "source": [
    "split = \"dev\"\n",
    "dataset_unresolved = io.load_jsonlines(f\"{vars.DATA_DIR}/musique_mend/2hop_musique_ans_v1.0_{split}.jsonl\")\n",
    "\n",
    "dataset_reference_resolved = []\n",
    "for datum in dataset_unresolved:\n",
    "    new_datum = deepcopy(datum)\n",
    "    new_datum[\"question_decomposition\"] = resolved_answer_references(datum[\"question_decomposition\"])\n",
    "    dataset_reference_resolved.append(new_datum)\n",
    "    \n",
    "zsre_questions = io.load_jsonlines(f\"{vars.DATA_DIR}/musique_mend/2hop_musique_ans_v1.0_{split}_zsre-questions.jsonl\")"
   ]
  },
  {
   "cell_type": "code",
   "execution_count": 16,
   "metadata": {},
   "outputs": [],
   "source": [
    "id2zsre_question = {q[\"id\"]: q for q in zsre_questions}\n",
    "\n",
    "converted_musique_dataset = []\n",
    "\n",
    "for datum in dataset_reference_resolved:\n",
    "    new_datum = deepcopy(datum)\n",
    "    del new_datum[\"question_decomposition\"]\n",
    "    old_question_decomposition =  datum[\"question_decomposition\"]\n",
    "    new_question_decomposition = []\n",
    "    for q in old_question_decomposition:\n",
    "        atom_q_id = datum[\"id\"] + \"::\" + str(q[\"id\"])\n",
    "        new_q = deepcopy(q)\n",
    "        if atom_q_id in id2zsre_question:\n",
    "            # replace zsre-format question with natural language question\n",
    "            nl_question = id2zsre_question[atom_q_id][\"nl_question\"]\n",
    "            extracted_q = question_content_extractor(nl_question)\n",
    "            assert len(extracted_q) == 1\n",
    "            extracted_q = extracted_q[0]\n",
    "            extracted_q = extracted_q.capitalize()\n",
    "            if not extracted_q.endswith(\"?\"):\n",
    "                extracted_q += \"?\"\n",
    "            \n",
    "            new_q[\"question\"] = extracted_q.strip()\n",
    "        new_question_decomposition.append(new_q)\n",
    "    new_datum[\"single_hop_efficacy\"] = new_question_decomposition\n",
    "    converted_musique_dataset.append(new_datum)\n",
    "        "
   ]
  },
  {
   "cell_type": "code",
   "execution_count": 17,
   "metadata": {},
   "outputs": [],
   "source": [
    "os.makedirs(f\"{vars.DATA_DIR}/musique_mend_converted/\", exist_ok=True)"
   ]
  },
  {
   "cell_type": "code",
   "execution_count": 18,
   "metadata": {},
   "outputs": [],
   "source": [
    "io.dump_jsonlines(converted_musique_dataset, f\"{vars.DATA_DIR}/musique_mend_converted/2hop_musique_ans_v1.0_{split}.jsonl\")"
   ]
  },
  {
   "cell_type": "code",
   "execution_count": 69,
   "metadata": {},
   "outputs": [
    {
     "data": {
      "text/plain": [
       "[]"
      ]
     },
     "execution_count": 69,
     "metadata": {},
     "output_type": "execute_result"
    }
   ],
   "source": [
    "re.findall(r\"<question>(.*?)(?:</question/>|$)\", q[\"nl_question\"])"
   ]
  },
  {
   "cell_type": "code",
   "execution_count": null,
   "metadata": {},
   "outputs": [],
   "source": []
  },
  {
   "cell_type": "code",
   "execution_count": null,
   "metadata": {},
   "outputs": [],
   "source": []
  },
  {
   "cell_type": "code",
   "execution_count": 81,
   "metadata": {},
   "outputs": [
    {
     "name": "stdout",
     "output_type": "stream",
     "text": [
      "Starting from this edition, the UEFA Europa League winners automatically qualify for the subsequent UEFA Champions League season even if they do not qualify for the Champions League through their domestic performance. Therefore, the winners of this tournament qualify for the 2015–16 UEFA Champions League. They are guaranteed to enter at least the play-off round, and since the group stage berth reserved for the Champions League title holders will not be used (the winners of the 2014–15 UEFA Champions League are guaranteed to qualify for the group stage through domestic performance), they will be elevated to enter the group stage via this berth.\n"
     ]
    }
   ],
   "source": [
    "print(\"Starting from this edition, the UEFA Europa League winners automatically qualify for the subsequent UEFA Champions League season even if they do not qualify for the Champions League through their domestic performance. Therefore, the winners of this tournament qualify for the 2015\\u201316 UEFA Champions League. They are guaranteed to enter at least the play-off round, and since the group stage berth reserved for the Champions League title holders will not be used (the winners of the 2014\\u201315 UEFA Champions League are guaranteed to qualify for the group stage through domestic performance), they will be elevated to enter the group stage via this berth.\")"
   ]
  },
  {
   "cell_type": "code",
   "execution_count": 60,
   "metadata": {},
   "outputs": [
    {
     "data": {
      "text/plain": [
       "[]"
      ]
     },
     "execution_count": 60,
     "metadata": {},
     "output_type": "execute_result"
    }
   ],
   "source": [
    "question_content_extractor(q[\"nl_question\"])"
   ]
  },
  {
   "cell_type": "code",
   "execution_count": 59,
   "metadata": {},
   "outputs": [],
   "source": [
    "for q in zsre_questions:\n",
    "    q[\"nl_question\"]"
   ]
  },
  {
   "cell_type": "code",
   "execution_count": 80,
   "metadata": {},
   "outputs": [
    {
     "data": {
      "text/plain": [
       "{'id': '2hop__569582_304416::304416',\n",
       " 'question': 'Ali & Gipp >> record label',\n",
       " 'answer': 'Derrty Entertainment',\n",
       " 'supporting_text_id': 1,\n",
       " 'text': 'Kinfolk is the debut and only album by American rap duo Ali & Gipp, released on August 14, 2007, through Derrty Entertainment and Universal Records. The first single off the album was already released, called \"Go \\'Head\" featuring Chocolate Tai. The second single is \"N da Paint\" featuring Nelly. The third single is \"Work Dat, Twerk Dat\" featuring Murphy Lee. The fourth and final single is \"Almost Made Ya\" featuring LeToya Luckett.',\n",
       " 'nl_question': '<question>\\nWhat record label is associated with Ali & Gipp?\\n</question>'}"
      ]
     },
     "execution_count": 80,
     "metadata": {},
     "output_type": "execute_result"
    }
   ],
   "source": [
    "zsre_questions[41]"
   ]
  },
  {
   "cell_type": "code",
   "execution_count": 121,
   "metadata": {},
   "outputs": [
    {
     "name": "stderr",
     "output_type": "stream",
     "text": [
      "100%|██████████| 14376/14376 [00:00<00:00, 1331507.44it/s]\n"
     ]
    }
   ],
   "source": [
    "data = io.load_jsonlines(f\"{vars.DATA_DIR}/musique_mend_converted/2hop_musique_ans_v1.0_train.jsonl\")\n",
    "for datum in tqdm(data):\n",
    "    assert datum[\"id\"] == \"2hop__\" + \"_\".join([str(atom_q[\"id\"]) for atom_q in datum[\"single_hop_efficacy\"]]), datum"
   ]
  },
  {
   "cell_type": "code",
   "execution_count": null,
   "metadata": {},
   "outputs": [],
   "source": []
  },
  {
   "cell_type": "code",
   "execution_count": null,
   "metadata": {},
   "outputs": [],
   "source": []
  },
  {
   "cell_type": "code",
   "execution_count": null,
   "metadata": {},
   "outputs": [],
   "source": []
  }
 ],
 "metadata": {
  "kernelspec": {
   "display_name": "cpt",
   "language": "python",
   "name": "python3"
  },
  "language_info": {
   "codemirror_mode": {
    "name": "ipython",
    "version": 3
   },
   "file_extension": ".py",
   "mimetype": "text/x-python",
   "name": "python",
   "nbconvert_exporter": "python",
   "pygments_lexer": "ipython3",
   "version": "3.11.0"
  }
 },
 "nbformat": 4,
 "nbformat_minor": 2
}
