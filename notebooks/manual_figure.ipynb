{
 "cells": [
  {
   "cell_type": "code",
   "execution_count": 24,
   "id": "c4440b74",
   "metadata": {},
   "outputs": [
    {
     "name": "stderr",
     "output_type": "stream",
     "text": [
      "/data/users/zliu/KE-by-CP/tmp/ipykernel_2838518/1987699651.py:25: UserWarning: set_ticklabels() should only be used with a fixed number of ticks, i.e. after set_ticks() or using a FixedLocator.\n",
      "  ax.set_xticklabels(names, fontsize=15, )\n",
      "/data/users/zliu/KE-by-CP/tmp/ipykernel_2838518/1987699651.py:26: UserWarning: set_ticklabels() should only be used with a fixed number of ticks, i.e. after set_ticks() or using a FixedLocator.\n",
      "  ax.set_yticklabels([round(x, 1) for x in np.linspace(0, 1, 6)], fontsize=18, )\n"
     ]
    },
    {
     "data": {
      "image/png": "[encoded data removed]",
      "text/plain": [
       "<Figure size 250x300 with 1 Axes>"
      ]
     },
     "metadata": {
      "needs_background": "light"
     },
     "output_type": "display_data"
    }
   ],
   "source": [
    "import matplotlib.pyplot as plt\n",
    "import numpy as np\n",
    "\n",
    "# Data\n",
    "names = ['Danish\\n Krone', 'Euro']\n",
    "values = [0.87, 0.13]\n",
    "\n",
    "# Plot\n",
    "fig, ax = plt.subplots(figsize=(2.5, 3), facecolor='none')\n",
    "bars = ax.bar(names, values, color='#BF5700')  # dark blue\n",
    "\n",
    "# Y-axis\n",
    "ax.set_ylim(0, 1)\n",
    "\n",
    "# Title (LaTeX-style)\n",
    "# ax.set_title(r\"$p_{\\theta - \\tilde{\\nabla}_\\theta}(\\cdot\\mid x_e')$\", fontsize=16, y=1.05)\n",
    "ax.set_title(r\"$p_{\\mathrm{\\theta - \\tilde{\\nabla}_\\theta}}(\\cdot \\mid q_1)$\", fontsize=20, y=1.05)\n",
    "\n",
    "# Remove spines (borders)\n",
    "for spine in ['top', 'right', 'left',]:\n",
    "    ax.spines[spine].set_visible(False)\n",
    "\n",
    "# Remove ticks\n",
    "ax.tick_params(axis='both', which='both', length=0)\n",
    "ax.set_xticklabels(names, fontsize=15, )\n",
    "ax.set_yticklabels([round(x, 1) for x in np.linspace(0, 1, 6)], fontsize=18, )\n",
    "\n",
    "# Save figure\n",
    "plt.tight_layout()\n",
    "plt.savefig(\"bar_plot_no_border.png\", dpi=400, bbox_inches='tight', transparent=True)\n",
    "plt.show()"
   ]
  },
  {
   "cell_type": "code",
   "execution_count": null,
   "id": "980391d3",
   "metadata": {},
   "outputs": [],
   "source": []
  }
 ],
 "metadata": {
  "kernelspec": {
   "display_name": "cpt",
   "language": "python",
   "name": "python3"
  },
  "language_info": {
   "codemirror_mode": {
    "name": "ipython",
    "version": 3
   },
   "file_extension": ".py",
   "mimetype": "text/x-python",
   "name": "python",
   "nbconvert_exporter": "python",
   "pygments_lexer": "ipython3",
   "version": "3.11.10"
  }
 },
 "nbformat": 4,
 "nbformat_minor": 5
}
