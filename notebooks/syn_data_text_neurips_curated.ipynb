{
 "cells": [
  {
   "cell_type": "code",
   "execution_count": 10,
   "id": "1177ff58",
   "metadata": {},
   "outputs": [],
   "source": [
    "import datasets\n",
    "from datasets import load_dataset\n",
    "from tqdm import tqdm\n",
    "from knowledge_propagation.utils import vars, io, extractor\n",
    "from scipy.stats import describe\n",
    "from typing import List, Dict\n",
    "import re\n",
    "from copy import deepcopy\n",
    "import pandas as pd\n",
    "\n",
    "from collections import defaultdict, Counter\n",
    "import matplotlib.pyplot as plt\n",
    "import numpy as np"
   ]
  },
  {
   "cell_type": "code",
   "execution_count": null,
   "id": "423310a3",
   "metadata": {},
   "outputs": [],
   "source": []
  },
  {
   "cell_type": "markdown",
   "id": "534ecf7d",
   "metadata": {},
   "source": [
    "# Prepare sub_df whose answer is too long for shortening"
   ]
  },
  {
   "cell_type": "code",
   "execution_count": 462,
   "id": "015b537a",
   "metadata": {},
   "outputs": [],
   "source": [
    "long_answer_threshold = 30\n",
    "\n",
    "entity_type_name_template_v1_answered_df_long = entity_type_name_template_v1_answered_df[entity_type_name_template_v1_answered_df.apply(lambda row: len(str(row[\"answer\"]).strip()) > 30 , axis=1)]"
   ]
  },
  {
   "cell_type": "code",
   "execution_count": 463,
   "id": "d11216d8",
   "metadata": {},
   "outputs": [
    {
     "data": {
      "text/html": [
       "<div>\n",
       "<style scoped>\n",
       "    .dataframe tbody tr th:only-of-type {\n",
       "        vertical-align: middle;\n",
       "    }\n",
       "\n",
       "    .dataframe tbody tr th {\n",
       "        vertical-align: top;\n",
       "    }\n",
       "\n",
       "    .dataframe thead th {\n",
       "        text-align: right;\n",
       "    }\n",
       "</style>\n",
       "<table border=\"1\" class=\"dataframe\">\n",
       "  <thead>\n",
       "    <tr style=\"text-align: right;\">\n",
       "      <th></th>\n",
       "      <th>entity_type</th>\n",
       "      <th>entity_type_tag</th>\n",
       "      <th>entity_name</th>\n",
       "      <th>template</th>\n",
       "      <th>question</th>\n",
       "      <th>answer</th>\n",
       "    </tr>\n",
       "  </thead>\n",
       "  <tbody>\n",
       "    <tr>\n",
       "      <th>66</th>\n",
       "      <td>Person</td>\n",
       "      <td>person</td>\n",
       "      <td>Tudors</td>\n",
       "      <td>How many children did {person} have?</td>\n",
       "      <td>How many children did Tudors have?</td>\n",
       "      <td>Henry VII had 7 children, and Henry VIII had 3...</td>\n",
       "    </tr>\n",
       "    <tr>\n",
       "      <th>117</th>\n",
       "      <td>Person</td>\n",
       "      <td>person</td>\n",
       "      <td>Michael Jackson</td>\n",
       "      <td>What is the religion of {person}?</td>\n",
       "      <td>What is the religion of Michael Jackson?</td>\n",
       "      <td>Jehovah's Witness (formerly), later associated...</td>\n",
       "    </tr>\n",
       "    <tr>\n",
       "      <th>136</th>\n",
       "      <td>Person</td>\n",
       "      <td>person</td>\n",
       "      <td>Sitting Bull</td>\n",
       "      <td>What is the religion of {person}?</td>\n",
       "      <td>What is the religion of Sitting Bull?</td>\n",
       "      <td>Native American traditional spirituality</td>\n",
       "    </tr>\n",
       "    <tr>\n",
       "      <th>152</th>\n",
       "      <td>Person</td>\n",
       "      <td>person</td>\n",
       "      <td>Alexander Hamilton</td>\n",
       "      <td>What is the religion of {person}?</td>\n",
       "      <td>What is the religion of Alexander Hamilton?</td>\n",
       "      <td>Christian (Anglican/Episcopalian)</td>\n",
       "    </tr>\n",
       "    <tr>\n",
       "      <th>154</th>\n",
       "      <td>Person</td>\n",
       "      <td>person</td>\n",
       "      <td>Isaac Newton</td>\n",
       "      <td>What is the religion of {person}?</td>\n",
       "      <td>What is the religion of Isaac Newton?</td>\n",
       "      <td>Christianity (specifically, he was an unorthod...</td>\n",
       "    </tr>\n",
       "    <tr>\n",
       "      <th>...</th>\n",
       "      <td>...</td>\n",
       "      <td>...</td>\n",
       "      <td>...</td>\n",
       "      <td>...</td>\n",
       "      <td>...</td>\n",
       "      <td>...</td>\n",
       "    </tr>\n",
       "    <tr>\n",
       "      <th>4642</th>\n",
       "      <td>Country</td>\n",
       "      <td>country</td>\n",
       "      <td>Italy</td>\n",
       "      <td>Which religion has the most followers in {coun...</td>\n",
       "      <td>Which religion has the most followers in Italy?</td>\n",
       "      <td>Christianity (Roman Catholicism)</td>\n",
       "    </tr>\n",
       "    <tr>\n",
       "      <th>4650</th>\n",
       "      <td>Country</td>\n",
       "      <td>country</td>\n",
       "      <td>Philippines</td>\n",
       "      <td>Which religion has the most followers in {coun...</td>\n",
       "      <td>Which religion has the most followers in Phili...</td>\n",
       "      <td>Christianity (Roman Catholicism)</td>\n",
       "    </tr>\n",
       "    <tr>\n",
       "      <th>4686</th>\n",
       "      <td>Country</td>\n",
       "      <td>country</td>\n",
       "      <td>Armenia</td>\n",
       "      <td>Which religion has the most followers in {coun...</td>\n",
       "      <td>Which religion has the most followers in Armenia?</td>\n",
       "      <td>Christianity (Armenian Apostolic Church)</td>\n",
       "    </tr>\n",
       "    <tr>\n",
       "      <th>4698</th>\n",
       "      <td>Country</td>\n",
       "      <td>country</td>\n",
       "      <td>Mexico</td>\n",
       "      <td>Which religion has the most followers in {coun...</td>\n",
       "      <td>Which religion has the most followers in Mexico?</td>\n",
       "      <td>Christianity (Roman Catholicism)</td>\n",
       "    </tr>\n",
       "    <tr>\n",
       "      <th>4706</th>\n",
       "      <td>Country</td>\n",
       "      <td>country</td>\n",
       "      <td>Iceland</td>\n",
       "      <td>Which religion has the most followers in {coun...</td>\n",
       "      <td>Which religion has the most followers in Iceland?</td>\n",
       "      <td>Christianity (specifically Evangelical Luthera...</td>\n",
       "    </tr>\n",
       "  </tbody>\n",
       "</table>\n",
       "<p>866 rows × 6 columns</p>\n",
       "</div>"
      ],
      "text/plain": [
       "     entity_type entity_type_tag         entity_name  \\\n",
       "66        Person          person              Tudors   \n",
       "117       Person          person     Michael Jackson   \n",
       "136       Person          person        Sitting Bull   \n",
       "152       Person          person  Alexander Hamilton   \n",
       "154       Person          person        Isaac Newton   \n",
       "...          ...             ...                 ...   \n",
       "4642     Country         country               Italy   \n",
       "4650     Country         country         Philippines   \n",
       "4686     Country         country             Armenia   \n",
       "4698     Country         country              Mexico   \n",
       "4706     Country         country             Iceland   \n",
       "\n",
       "                                               template  \\\n",
       "66                 How many children did {person} have?   \n",
       "117                   What is the religion of {person}?   \n",
       "136                   What is the religion of {person}?   \n",
       "152                   What is the religion of {person}?   \n",
       "154                   What is the religion of {person}?   \n",
       "...                                                 ...   \n",
       "4642  Which religion has the most followers in {coun...   \n",
       "4650  Which religion has the most followers in {coun...   \n",
       "4686  Which religion has the most followers in {coun...   \n",
       "4698  Which religion has the most followers in {coun...   \n",
       "4706  Which religion has the most followers in {coun...   \n",
       "\n",
       "                                               question  \\\n",
       "66                   How many children did Tudors have?   \n",
       "117            What is the religion of Michael Jackson?   \n",
       "136               What is the religion of Sitting Bull?   \n",
       "152         What is the religion of Alexander Hamilton?   \n",
       "154               What is the religion of Isaac Newton?   \n",
       "...                                                 ...   \n",
       "4642    Which religion has the most followers in Italy?   \n",
       "4650  Which religion has the most followers in Phili...   \n",
       "4686  Which religion has the most followers in Armenia?   \n",
       "4698   Which religion has the most followers in Mexico?   \n",
       "4706  Which religion has the most followers in Iceland?   \n",
       "\n",
       "                                                 answer  \n",
       "66    Henry VII had 7 children, and Henry VIII had 3...  \n",
       "117   Jehovah's Witness (formerly), later associated...  \n",
       "136            Native American traditional spirituality  \n",
       "152                   Christian (Anglican/Episcopalian)  \n",
       "154   Christianity (specifically, he was an unorthod...  \n",
       "...                                                 ...  \n",
       "4642                   Christianity (Roman Catholicism)  \n",
       "4650                   Christianity (Roman Catholicism)  \n",
       "4686           Christianity (Armenian Apostolic Church)  \n",
       "4698                   Christianity (Roman Catholicism)  \n",
       "4706  Christianity (specifically Evangelical Luthera...  \n",
       "\n",
       "[866 rows x 6 columns]"
      ]
     },
     "execution_count": 463,
     "metadata": {},
     "output_type": "execute_result"
    }
   ],
   "source": [
    "entity_type_name_template_v1_answered_df_long"
   ]
  },
  {
   "cell_type": "code",
   "execution_count": 464,
   "id": "2194368e",
   "metadata": {},
   "outputs": [],
   "source": [
    "entity_type_name_template_v1_answered_df_long.to_csv(f\"{vars.DATA_DIR}/debug_meta_train/syn_data_neurips/data_gen/entity_type_name_template_curated_v1_answered_long.csv\", index=False)"
   ]
  },
  {
   "cell_type": "markdown",
   "id": "1e92c841",
   "metadata": {},
   "source": [
    "### (call llm to shorten)"
   ]
  },
  {
   "cell_type": "code",
   "execution_count": 465,
   "id": "6631ac71",
   "metadata": {},
   "outputs": [],
   "source": [
    "entity_type_name_template_answered_ds_filtered_long_shortened = datasets.load_from_disk(\"/u/zliu/datastor1/KE-by-CP/data/debug_meta_train/syn_data_neurips/data_gen/entity_type_name_template_curated_v1_answered_long_shortened.hf\")"
   ]
  },
  {
   "cell_type": "code",
   "execution_count": 466,
   "id": "87bab47b",
   "metadata": {},
   "outputs": [],
   "source": [
    "entity_type_name_template_answered_df_filtered_long_shortened = entity_type_name_template_answered_ds_filtered_long_shortened.to_pandas()"
   ]
  },
  {
   "cell_type": "code",
   "execution_count": 467,
   "id": "6d203b3e",
   "metadata": {},
   "outputs": [],
   "source": [
    "# [a for a in entity_type_name_template_answered_df_filtered_long_shortened[\"shortened_answer\"].to_list() if len(str(a)) > 30]"
   ]
  },
  {
   "cell_type": "code",
   "execution_count": 468,
   "id": "f1f8ddc4",
   "metadata": {},
   "outputs": [
    {
     "data": {
      "text/plain": [
       "4941"
      ]
     },
     "execution_count": 468,
     "metadata": {},
     "output_type": "execute_result"
    }
   ],
   "source": [
    "entity_type_name_template_answered_df_filtered_fixed_content = []\n",
    "\n",
    "\n",
    "# for i, r in entity_type_name_template_answered_df_filtered_long_shortened.iterrows():\n",
    "#     r_with_shortened_answer = entity_type_name_template_answered_df_filtered[entity_type_name_template_answered_df_filtered[\"question\"] == r[\"question\"]]\n",
    "#     assert len(r_with_shortened_answer) == 1, r\n",
    "\n",
    "for i, r in entity_type_name_template_v1_answered_df.iterrows():\n",
    "    r_with_shortened_answer = entity_type_name_template_answered_df_filtered_long_shortened[entity_type_name_template_answered_df_filtered_long_shortened[\"question\"] == r[\"question\"]]\n",
    "    \n",
    "    if len(r_with_shortened_answer) == 0:\n",
    "        if r[\"answer\"].endswith(\".\"):\n",
    "            r[\"answer\"] = r[\"answer\"][:-1]\n",
    "        entity_type_name_template_answered_df_filtered_fixed_content.append(r)\n",
    "        continue\n",
    "    assert len(r_with_shortened_answer) == 1, r\n",
    "    new_r = deepcopy(r)\n",
    "    new_r[\"answer\"] = r_with_shortened_answer.iloc[0][\"shortened_answer\"]\n",
    "    if new_r[\"answer\"].endswith(\".\"):\n",
    "        new_r[\"answer\"] = new_r[\"answer\"][:-1]\n",
    "    entity_type_name_template_answered_df_filtered_fixed_content.append(new_r)\n",
    "entity_type_name_template_answered_df_filtered_shorten = pd.DataFrame(entity_type_name_template_answered_df_filtered_fixed_content)\n",
    "len(entity_type_name_template_answered_df_filtered_shorten)"
   ]
  },
  {
   "cell_type": "code",
   "execution_count": 469,
   "id": "fad398cb",
   "metadata": {},
   "outputs": [],
   "source": [
    "# entity_type_name_template_answered_ds_filtered_long_shortened[entity_type_name_template_answered_df_filtered_long_shortened[\"question\"] == r[\"question\"]]"
   ]
  },
  {
   "cell_type": "code",
   "execution_count": 472,
   "id": "d8336fb8",
   "metadata": {},
   "outputs": [],
   "source": [
    "answered_df_prefilter = entity_type_name_template_answered_df_filtered_shorten[entity_type_name_template_answered_df_filtered_shorten.apply(lambda row: \"I don't know\" not in str(row[\"answer\"]), axis=1)]"
   ]
  },
  {
   "cell_type": "code",
   "execution_count": 473,
   "id": "66b8a3e5",
   "metadata": {},
   "outputs": [
    {
     "data": {
      "text/plain": [
       "4856"
      ]
     },
     "execution_count": 473,
     "metadata": {},
     "output_type": "execute_result"
    }
   ],
   "source": [
    "len(answered_df_prefilter)"
   ]
  },
  {
   "cell_type": "code",
   "execution_count": 485,
   "id": "fd501580",
   "metadata": {},
   "outputs": [
    {
     "data": {
      "text/plain": [
       "52"
      ]
     },
     "execution_count": 485,
     "metadata": {},
     "output_type": "execute_result"
    }
   ],
   "source": [
    "len(answered_df_prefilter[\"template\"].unique())"
   ]
  },
  {
   "cell_type": "code",
   "execution_count": null,
   "id": "bcecc92b",
   "metadata": {},
   "outputs": [],
   "source": [
    "# io.dump_jsonlines(\n",
    "#      answered_df_prefilter.to_dict(\"records\"), \n",
    "#      f\"{vars.DATA_DIR}/debug_meta_train/syn_data_neurips/data_gen/entity_type_name_template_v1_curated_answered_prefiltered.jsonl\"\n",
    "# )"
   ]
  },
  {
   "cell_type": "code",
   "execution_count": 154,
   "id": "b6393e1f",
   "metadata": {},
   "outputs": [],
   "source": [
    "# len(answered_df_prefilter)"
   ]
  },
  {
   "cell_type": "code",
   "execution_count": 568,
   "id": "0e41311f",
   "metadata": {},
   "outputs": [],
   "source": [
    "# # change answer in generation files from model and see if llm_acc change\n",
    "# eos_sft_df = pd.read_excel(\"/datastor1/zliu/mend/debug_exp_output/llama3.2-1B-eos-sft-template-format-v2-lr2e-6-sample-10/syn_data_neurips_prefilter_v2/base_n=19945_prompt=no_w-gen_wo-icl_ice=False.xlsx\")\n"
   ]
  },
  {
   "cell_type": "code",
   "execution_count": 569,
   "id": "e9f69ff2",
   "metadata": {},
   "outputs": [],
   "source": [
    "# assert all([q1==q2 for q1, q2 in zip(entity_type_name_template_answered_df_filtered_shorten[\"question\"].to_list(), eos_sft_df[\"question\"].to_list())])"
   ]
  },
  {
   "cell_type": "code",
   "execution_count": 570,
   "id": "332593a6",
   "metadata": {},
   "outputs": [],
   "source": [
    "# new_eos_sft_df = []\n",
    "# for i in range(len(entity_type_name_template_answered_df_filtered_shorten)):\n",
    "#     shortend_r = entity_type_name_template_answered_df_filtered_shorten.iloc[i]\n",
    "#     eos_sft_r = eos_sft_df.iloc[i]\n",
    "#     assert shortend_r[\"question\"] == eos_sft_r[\"question\"]\n",
    "#     new_eos_sft_r = deepcopy(eos_sft_r)\n",
    "#     new_eos_sft_r[\"answer\"] = shortend_r[\"answer\"]\n",
    "#     new_eos_sft_df.append(new_eos_sft_r)\n",
    "# new_eos_sft_df = pd.DataFrame(new_eos_sft_df)"
   ]
  },
  {
   "cell_type": "code",
   "execution_count": 572,
   "id": "d95eadfd",
   "metadata": {},
   "outputs": [],
   "source": [
    "# new_eos_sft_df.drop(columns=[\"llm_accuracy\"], inplace=True)"
   ]
  },
  {
   "cell_type": "code",
   "execution_count": null,
   "id": "fc4c85f3",
   "metadata": {},
   "outputs": [],
   "source": []
  },
  {
   "cell_type": "markdown",
   "id": "00afe2f1",
   "metadata": {},
   "source": [
    "# Prepare a light-weight data for format alignment"
   ]
  },
  {
   "cell_type": "code",
   "execution_count": 477,
   "id": "417224cc",
   "metadata": {},
   "outputs": [
    {
     "data": {
      "text/plain": [
       "520"
      ]
     },
     "execution_count": 477,
     "metadata": {},
     "output_type": "execute_result"
    }
   ],
   "source": [
    "sample_size = 10\n",
    "light_weight_sft_content = []\n",
    "for template, template_df in answered_df_prefilter.groupby(\"template\"):\n",
    "    light_weight_sft_content.extend(template_df.sample(sample_size).to_dict(orient=\"records\"))\n",
    "len(light_weight_sft_content)"
   ]
  },
  {
   "cell_type": "code",
   "execution_count": null,
   "id": "f4406221",
   "metadata": {},
   "outputs": [],
   "source": []
  },
  {
   "cell_type": "code",
   "execution_count": 478,
   "id": "3a532028",
   "metadata": {},
   "outputs": [],
   "source": [
    "io.dump_jsonlines(light_weight_sft_content, f\"{vars.DATA_DIR}/debug_meta_train/syn_data_neurips/model_prep/light_weight_sft_content_curated_v1_sample={sample_size}.jsonl\",)"
   ]
  },
  {
   "cell_type": "code",
   "execution_count": 580,
   "id": "6c6fe875",
   "metadata": {},
   "outputs": [],
   "source": [
    "# len(entity_type_name_template_answered_df_filtered_shorten.iloc[20145][\"answer\"])"
   ]
  },
  {
   "cell_type": "code",
   "execution_count": null,
   "id": "11490345",
   "metadata": {},
   "outputs": [],
   "source": []
  },
  {
   "cell_type": "markdown",
   "id": "ec79cfa2",
   "metadata": {},
   "source": [
    "# measure llama3.2-1B-base model performance"
   ]
  },
  {
   "cell_type": "code",
   "execution_count": 38,
   "id": "5522fe01",
   "metadata": {},
   "outputs": [],
   "source": [
    "# eos_sft_df = pd.read_excel(\"/u/zliu/datastor1/mend/debug_exp_output/llama3.2-1B-eos-sft/syn_data_neurips_prefilter/base_n=17461_prompt=no_w-gen_wo-icl_ice=False.xlsx\")\n",
    "# eos_sft_df = pd.read_excel(\"/datastor1/zliu/mend/debug_exp_output/llama3.2-1B-eos-sft-template-format-lr2e-6-sample-5/syn_data_neurips_prefilter/base_n=17461_prompt=no_w-gen_wo-icl_ice=False.xlsx\")\n",
    "# eos_sft_df = pd.read_excel(\"/datastor1/zliu/mend/debug_exp_output/llama3.2-1B-eos-sft-template-format-lr2e-6-sample-10/syn_data_neurips_prefilter/base_n=17461_prompt=no_w-gen_wo-icl_ice=False.xlsx\")\n",
    "eos_sft_df = pd.read_excel(\"/datastor1/zliu/mend/debug_exp_output/llama3.2-1B-eos-sft-template-format-curated-v1-lr2e-6-sample-10/syn_data_neurips_curated_prefilter/base_n=4856_prompt=no_w-gen_wo-icl_ice=False.xlsx\")"
   ]
  },
  {
   "cell_type": "code",
   "execution_count": 39,
   "id": "c9fd8307",
   "metadata": {},
   "outputs": [],
   "source": [
    "# pd.read_excel(\"/datastor1/zliu/mend/debug_exp_output/llama3.2-1B-eos-sft-template-format-v2-lr2e-6-sample-10/syn_data_neurips_prefilter_v2/base_n=19945_prompt=no_w-gen_wo-icl_ice=False.xlsx.bak\").describe()"
   ]
  },
  {
   "cell_type": "code",
   "execution_count": 40,
   "id": "438fb569",
   "metadata": {},
   "outputs": [],
   "source": [
    "llm_threshold = 0.4"
   ]
  },
  {
   "cell_type": "code",
   "execution_count": 41,
   "id": "5a46a781",
   "metadata": {},
   "outputs": [
    {
     "data": {
      "text/html": [
       "<div>\n",
       "<style scoped>\n",
       "    .dataframe tbody tr th:only-of-type {\n",
       "        vertical-align: middle;\n",
       "    }\n",
       "\n",
       "    .dataframe tbody tr th {\n",
       "        vertical-align: top;\n",
       "    }\n",
       "\n",
       "    .dataframe thead th {\n",
       "        text-align: right;\n",
       "    }\n",
       "</style>\n",
       "<table border=\"1\" class=\"dataframe\">\n",
       "  <thead>\n",
       "    <tr style=\"text-align: right;\">\n",
       "      <th></th>\n",
       "      <th>id</th>\n",
       "      <th>predicted_answer_idx</th>\n",
       "      <th>exact_match</th>\n",
       "      <th>llm_accuracy</th>\n",
       "    </tr>\n",
       "  </thead>\n",
       "  <tbody>\n",
       "    <tr>\n",
       "      <th>count</th>\n",
       "      <td>4856.000000</td>\n",
       "      <td>4856.0</td>\n",
       "      <td>4856.000000</td>\n",
       "      <td>4856.000000</td>\n",
       "    </tr>\n",
       "    <tr>\n",
       "      <th>mean</th>\n",
       "      <td>2427.500000</td>\n",
       "      <td>0.0</td>\n",
       "      <td>0.467257</td>\n",
       "      <td>0.696829</td>\n",
       "    </tr>\n",
       "    <tr>\n",
       "      <th>std</th>\n",
       "      <td>1401.950784</td>\n",
       "      <td>0.0</td>\n",
       "      <td>0.498978</td>\n",
       "      <td>0.400008</td>\n",
       "    </tr>\n",
       "    <tr>\n",
       "      <th>min</th>\n",
       "      <td>0.000000</td>\n",
       "      <td>0.0</td>\n",
       "      <td>0.000000</td>\n",
       "      <td>0.000000</td>\n",
       "    </tr>\n",
       "    <tr>\n",
       "      <th>25%</th>\n",
       "      <td>1213.750000</td>\n",
       "      <td>0.0</td>\n",
       "      <td>0.000000</td>\n",
       "      <td>0.300000</td>\n",
       "    </tr>\n",
       "    <tr>\n",
       "      <th>50%</th>\n",
       "      <td>2427.500000</td>\n",
       "      <td>0.0</td>\n",
       "      <td>0.000000</td>\n",
       "      <td>1.000000</td>\n",
       "    </tr>\n",
       "    <tr>\n",
       "      <th>75%</th>\n",
       "      <td>3641.250000</td>\n",
       "      <td>0.0</td>\n",
       "      <td>1.000000</td>\n",
       "      <td>1.000000</td>\n",
       "    </tr>\n",
       "    <tr>\n",
       "      <th>max</th>\n",
       "      <td>4855.000000</td>\n",
       "      <td>0.0</td>\n",
       "      <td>1.000000</td>\n",
       "      <td>1.000000</td>\n",
       "    </tr>\n",
       "  </tbody>\n",
       "</table>\n",
       "</div>"
      ],
      "text/plain": [
       "                id  predicted_answer_idx  exact_match  llm_accuracy\n",
       "count  4856.000000                4856.0  4856.000000   4856.000000\n",
       "mean   2427.500000                   0.0     0.467257      0.696829\n",
       "std    1401.950784                   0.0     0.498978      0.400008\n",
       "min       0.000000                   0.0     0.000000      0.000000\n",
       "25%    1213.750000                   0.0     0.000000      0.300000\n",
       "50%    2427.500000                   0.0     0.000000      1.000000\n",
       "75%    3641.250000                   0.0     1.000000      1.000000\n",
       "max    4855.000000                   0.0     1.000000      1.000000"
      ]
     },
     "execution_count": 41,
     "metadata": {},
     "output_type": "execute_result"
    }
   ],
   "source": [
    "eos_sft_df.describe()"
   ]
  },
  {
   "cell_type": "code",
   "execution_count": 42,
   "id": "2d3ec0fe",
   "metadata": {},
   "outputs": [
    {
     "data": {
      "text/plain": [
       "3432"
      ]
     },
     "execution_count": 42,
     "metadata": {},
     "output_type": "execute_result"
    }
   ],
   "source": [
    "len(eos_sft_df[eos_sft_df[\"llm_accuracy\"] > llm_threshold])"
   ]
  },
  {
   "cell_type": "code",
   "execution_count": 43,
   "id": "72744f64",
   "metadata": {},
   "outputs": [],
   "source": [
    "eos_sft_df_filtered = eos_sft_df[eos_sft_df[\"llm_accuracy\"] > llm_threshold]"
   ]
  },
  {
   "cell_type": "code",
   "execution_count": 44,
   "id": "fa8f8e17",
   "metadata": {},
   "outputs": [],
   "source": [
    "# Counter(eos_sft_df[eos_sft_df[\"template\"] == \"Where was {invention} created?\"][\"answer\"])"
   ]
  },
  {
   "cell_type": "code",
   "execution_count": 45,
   "id": "7daecb3f",
   "metadata": {},
   "outputs": [
    {
     "data": {
      "text/html": [
       "<div>\n",
       "<style scoped>\n",
       "    .dataframe tbody tr th:only-of-type {\n",
       "        vertical-align: middle;\n",
       "    }\n",
       "\n",
       "    .dataframe tbody tr th {\n",
       "        vertical-align: top;\n",
       "    }\n",
       "\n",
       "    .dataframe thead th {\n",
       "        text-align: right;\n",
       "    }\n",
       "</style>\n",
       "<table border=\"1\" class=\"dataframe\">\n",
       "  <thead>\n",
       "    <tr style=\"text-align: right;\">\n",
       "      <th></th>\n",
       "      <th>id</th>\n",
       "      <th>predicted_answer_idx</th>\n",
       "      <th>exact_match</th>\n",
       "      <th>llm_accuracy</th>\n",
       "    </tr>\n",
       "  </thead>\n",
       "  <tbody>\n",
       "    <tr>\n",
       "      <th>count</th>\n",
       "      <td>3432.000000</td>\n",
       "      <td>3432.0</td>\n",
       "      <td>3432.000000</td>\n",
       "      <td>3432.000000</td>\n",
       "    </tr>\n",
       "    <tr>\n",
       "      <th>mean</th>\n",
       "      <td>2504.935606</td>\n",
       "      <td>0.0</td>\n",
       "      <td>0.661131</td>\n",
       "      <td>0.939103</td>\n",
       "    </tr>\n",
       "    <tr>\n",
       "      <th>std</th>\n",
       "      <td>1447.663180</td>\n",
       "      <td>0.0</td>\n",
       "      <td>0.473394</td>\n",
       "      <td>0.132056</td>\n",
       "    </tr>\n",
       "    <tr>\n",
       "      <th>min</th>\n",
       "      <td>13.000000</td>\n",
       "      <td>0.0</td>\n",
       "      <td>0.000000</td>\n",
       "      <td>0.500000</td>\n",
       "    </tr>\n",
       "    <tr>\n",
       "      <th>25%</th>\n",
       "      <td>1248.750000</td>\n",
       "      <td>0.0</td>\n",
       "      <td>0.000000</td>\n",
       "      <td>1.000000</td>\n",
       "    </tr>\n",
       "    <tr>\n",
       "      <th>50%</th>\n",
       "      <td>2534.500000</td>\n",
       "      <td>0.0</td>\n",
       "      <td>1.000000</td>\n",
       "      <td>1.000000</td>\n",
       "    </tr>\n",
       "    <tr>\n",
       "      <th>75%</th>\n",
       "      <td>3825.500000</td>\n",
       "      <td>0.0</td>\n",
       "      <td>1.000000</td>\n",
       "      <td>1.000000</td>\n",
       "    </tr>\n",
       "    <tr>\n",
       "      <th>max</th>\n",
       "      <td>4854.000000</td>\n",
       "      <td>0.0</td>\n",
       "      <td>1.000000</td>\n",
       "      <td>1.000000</td>\n",
       "    </tr>\n",
       "  </tbody>\n",
       "</table>\n",
       "</div>"
      ],
      "text/plain": [
       "                id  predicted_answer_idx  exact_match  llm_accuracy\n",
       "count  3432.000000                3432.0  3432.000000   3432.000000\n",
       "mean   2504.935606                   0.0     0.661131      0.939103\n",
       "std    1447.663180                   0.0     0.473394      0.132056\n",
       "min      13.000000                   0.0     0.000000      0.500000\n",
       "25%    1248.750000                   0.0     0.000000      1.000000\n",
       "50%    2534.500000                   0.0     1.000000      1.000000\n",
       "75%    3825.500000                   0.0     1.000000      1.000000\n",
       "max    4854.000000                   0.0     1.000000      1.000000"
      ]
     },
     "execution_count": 45,
     "metadata": {},
     "output_type": "execute_result"
    }
   ],
   "source": [
    "eos_sft_df_filtered.describe()"
   ]
  },
  {
   "cell_type": "code",
   "execution_count": 46,
   "id": "1833018a",
   "metadata": {},
   "outputs": [
    {
     "data": {
      "text/plain": [
       "Text(0.5, 1.0, 'LLM Accuracy Distribution (without filtering)')"
      ]
     },
     "execution_count": 46,
     "metadata": {},
     "output_type": "execute_result"
    },
    {
     "data": {
      "image/png": "[encoded data removed]",
      "text/plain": [
       "<Figure size 640x480 with 1 Axes>"
      ]
     },
     "metadata": {},
     "output_type": "display_data"
    }
   ],
   "source": [
    "plt.hist(eos_sft_df[\"llm_accuracy\"])\n",
    "plt.xlabel(\"LLM Accuracy\")\n",
    "plt.ylabel(\"# question\")\n",
    "plt.title(\"LLM Accuracy Distribution (without filtering)\")"
   ]
  },
  {
   "cell_type": "code",
   "execution_count": 47,
   "id": "9477cecd",
   "metadata": {},
   "outputs": [
    {
     "data": {
      "text/plain": [
       "4856"
      ]
     },
     "execution_count": 47,
     "metadata": {},
     "output_type": "execute_result"
    }
   ],
   "source": [
    "len(eos_sft_df[\"answer\"].to_list())"
   ]
  },
  {
   "cell_type": "code",
   "execution_count": 48,
   "id": "95f08a6b",
   "metadata": {},
   "outputs": [
    {
     "data": {
      "text/plain": [
       "[54, 32929, 11, 1650, 54967, 388, 11, 43448, 11, 15749]"
      ]
     },
     "execution_count": 48,
     "metadata": {},
     "output_type": "execute_result"
    }
   ],
   "source": [
    "vars.GPT_4_TOKENIZER(\"Writers, calligraphers, enthusiasts, professionals\")"
   ]
  },
  {
   "cell_type": "code",
   "execution_count": 49,
   "id": "35334487",
   "metadata": {},
   "outputs": [
    {
     "data": {
      "text/plain": [
       "['Destruction of the World Trade Center and Pentagon, mass casualties, and the War on Terror began']"
      ]
     },
     "execution_count": 49,
     "metadata": {},
     "output_type": "execute_result"
    }
   ],
   "source": [
    "[a for a in eos_sft_df_filtered[\"answer\"].to_list() if len(a) == 96]"
   ]
  },
  {
   "cell_type": "code",
   "execution_count": 50,
   "id": "06e42394",
   "metadata": {},
   "outputs": [
    {
     "data": {
      "text/plain": [
       "['Christian (Anglican/Episcopalian)',\n",
       " 'Christianity (Catholicism, then Protestantism)',\n",
       " 'Colombey-les-Deux-Églises, France',\n",
       " 'Woolsthorpe, Lincolnshire, England',\n",
       " 'Gwanak-gu, Seoul, South Korea',\n",
       " 'Ingrid Newkirk and Alex Pacheco',\n",
       " 'Thomas Edison, Charles A. Coffin, Elihu Thomson, Edwin J. Houston',\n",
       " 'Steve Jobs, Steve Wozniak, and Ronald Wayne',\n",
       " 'Robert Wood Johnson, James Wood Johnson, and Edward Mead Johnson',\n",
       " 'Pharmaceuticals, medical devices, consumer health products',\n",
       " 'Navigators, hikers, sailors, surveyors',\n",
       " 'Military, emergency services, law enforcement, executives, media',\n",
       " 'Commuters, recreational riders, athletes, delivery workers',\n",
       " 'Students, teachers, engineers, accountants, scientists',\n",
       " 'Bell Labs (Daryl Chapin, Calvin Fuller, Gerald Pearson)',\n",
       " '1605 (Part I), 1615 (Part II)',\n",
       " 'Carnivorous: fish, birds, mammals, reptiles, amphibians',\n",
       " 'Omnivorous; eats plants, insects, and carrion',\n",
       " 'Leaves, shoots, fruits, and flowers of trees',\n",
       " 'Crustaceans, mollusks, algae, and small invertebrates',\n",
       " 'Carnivorous; eats insects and small animals',\n",
       " 'Aquatic plants, algae, insects, small fish',\n",
       " 'Carnivorous, mainly small to medium ungulates',\n",
       " 'Leaves, buds, grasses, fruits, fungi',\n",
       " 'Carnivorous: fish, birds, mammals',\n",
       " 'Mostly fruit, leaves, bark, and insects',\n",
       " 'Herbivorous, mainly grasses and leaves',\n",
       " 'Carnivorous, mainly deer and small mammals',\n",
       " 'Fish, seals, sea lions, dolphins, carrion',\n",
       " 'Fish, amphibians, birds, mammals, invertebrates',\n",
       " 'Grasses, leaves, bark, fruit, roots',\n",
       " 'Crustaceans, mollusks, small fish',\n",
       " 'Fruits, leaves, flowers, insects, small animals',\n",
       " 'Carnivorous; eat deer, pigs, buffalo, and small animals',\n",
       " 'Crustaceans, fish, and mollusks',\n",
       " 'Herbivorous; mainly grasses, fruits, vegetables',\n",
       " 'Carnivorous, mainly medium-sized ungulates',\n",
       " 'Herbivorous; eats grasses, leaves, stems',\n",
       " 'Herbivorous; grasses, leaves, shoots, fruits',\n",
       " 'Omnivorous: fruits, leaves, seeds, flowers, insects',\n",
       " 'Insects, worms, snails, fruits, small animals',\n",
       " 'Small fish, crustaceans, mollusks',\n",
       " 'Carnivorous, mainly deer and wild boar',\n",
       " 'Carnivorous; eats mammals, birds, carrion, and berries',\n",
       " 'Carnivorous; mainly deer, boar, elk',\n",
       " 'Mammals, birds, reptiles, insects',\n",
       " 'Carnivorous, mainly mammals, reptiles, birds',\n",
       " 'Carnivorous; mainly deer and wild boar',\n",
       " 'Herbivorous: leaves, fruits, grasses',\n",
       " 'Small mammals, birds, amphibians, reptiles, insects',\n",
       " 'Herbivorous; eats leaves, twigs, bark, aquatic plants',\n",
       " 'Solitary with loose hierarchies in mating season',\n",
       " 'Solitary, except during mating and rearing young',\n",
       " 'Generally solitary, but may congregate at food or basking sites',\n",
       " 'Solitary, except mothers with cubs or during mating',\n",
       " 'Solitary except during mating and mother-offspring periods',\n",
       " 'Mostly solitary, occasional groups for feeding or mating',\n",
       " 'Matriarchal family groups led by an older female',\n",
       " 'Matriarchal female herds and male bachelor groups',\n",
       " 'Hierarchical prides led by females and a few males',\n",
       " 'Solitary, except during mating or with cubs',\n",
       " 'Mostly solitary, with brief social interactions during mating',\n",
       " 'Solitary, except during mating or cow-calf pairs',\n",
       " 'Virunga Mountains and Bwindi Forest, Central Africa',\n",
       " 'Hiragana, Katakana, and Kanji',\n",
       " 'Cyrillic, Latin (in transition)',\n",
       " 'Kanji, Hiragana, and Katakana',\n",
       " \"Hernán Cortés's quest for wealth and power\",\n",
       " \"Martin Luther's 1517 Ninety-five Theses\",\n",
       " 'It was torpedoed by a German U-boat',\n",
       " \"Discovery of gold at Sutter's Mill in 1848\",\n",
       " \"Julius Caesar's siege of Alexandria in 48 BCE\",\n",
       " 'Charges of impiety and corrupting the youth',\n",
       " 'Capture of Jerusalem by Crusaders (1099)',\n",
       " 'Abolition of the monarchy; First French Republic established',\n",
       " 'Haitian independence from France (1804)',\n",
       " 'Armistice and division at the 38th parallel',\n",
       " 'Over 1,500 died and the ship sank',\n",
       " 'Galileo was found guilty of heresy and placed under house arrest',\n",
       " 'Decisive US victory, sinking four Japanese carriers',\n",
       " 'Overthrow of Tsarist autocracy; Bolshevik takeover',\n",
       " 'Allied victory, Axis defeat (1945)',\n",
       " 'Byzantine Empire ended; Ottomans took Constantinople',\n",
       " 'Defeat of Central Powers and Treaty of Versailles',\n",
       " 'Destruction of the Second Temple and Roman capture of Jerusalem',\n",
       " 'Destruction of the World Trade Center and Pentagon, mass casualties, and the War on Terror began',\n",
       " 'Late 18th to early 19th century',\n",
       " '1839–1842 and 1856–1860',\n",
       " 'Late 18th to early 19th century',\n",
       " 'December 5, 1955 to December 20, 1956',\n",
       " 'Europe, Mediterranean, Atlantic, North Africa, Middle East',\n",
       " 'Worldwide, especially Europe, Asia, and the Americas',\n",
       " 'Zhu Yuanzhang (Emperor Hongwu)',\n",
       " 'Christianity (Armenian Apostolic Church)']"
      ]
     },
     "execution_count": 50,
     "metadata": {},
     "output_type": "execute_result"
    }
   ],
   "source": [
    "[a for a in eos_sft_df_filtered[\"answer\"].to_list() if len(vars.GPT_4_TOKENIZER(str(a))) >= 10]"
   ]
  },
  {
   "cell_type": "code",
   "execution_count": null,
   "id": "4900cfd8",
   "metadata": {},
   "outputs": [],
   "source": []
  },
  {
   "cell_type": "code",
   "execution_count": 51,
   "id": "1a773b73",
   "metadata": {},
   "outputs": [
    {
     "data": {
      "text/plain": [
       "Counter({'Who are the primary users of {product}?': 53,\n",
       "         'What is the diet of {species}?': 42,\n",
       "         'What is the social structure of {species}?': 39,\n",
       "         'What was the immediate outcome of {event}?': 39,\n",
       "         'What is the primary function of {product}?': 29,\n",
       "         'What triggered {event}?': 29,\n",
       "         'What primary service or product does {organization} provide?': 20,\n",
       "         'Where is {species} primarily native to?': 9,\n",
       "         'Where did {event} happen?': 9,\n",
       "         'What occupation is {person} most well-known for?': 6,\n",
       "         'Who established {organization}?': 6,\n",
       "         'What is the primary field or industry of {organization}?': 5,\n",
       "         'What is the genre or of {creative_work}?': 5,\n",
       "         'What is the primary threat to {species}?': 5,\n",
       "         'Which religion has the most followers in {country}?': 5,\n",
       "         'Where was {creative_work} produced or created?': 4,\n",
       "         'When did {event} take place?': 3,\n",
       "         'What is the religion of {person}?': 2,\n",
       "         'Where did {person} die?': 2,\n",
       "         'What writing system is used by {language}?': 2,\n",
       "         'Where was the birthplace of {person}?': 1,\n",
       "         'Who was the main inventor of {product}?': 1,\n",
       "         'Who was the original distributor or publisher of {creative_work}?': 1,\n",
       "         'What region is {language} native to?': 1})"
      ]
     },
     "execution_count": 51,
     "metadata": {},
     "output_type": "execute_result"
    }
   ],
   "source": [
    "Counter(eos_sft_df_filtered[eos_sft_df_filtered[\"answer\"].apply(lambda x: len(str(x)) > 30)][\"template\"])"
   ]
  },
  {
   "cell_type": "code",
   "execution_count": 52,
   "id": "8819c9b1",
   "metadata": {},
   "outputs": [],
   "source": [
    "# [a for a in eos_sft_df[\"answer\"].to_list() if len(str(a)) == 30]"
   ]
  },
  {
   "cell_type": "code",
   "execution_count": 53,
   "id": "27ce933a",
   "metadata": {},
   "outputs": [
    {
     "data": {
      "text/plain": [
       "Text(0.5, 1.0, 'Answer Length Distribution (without filtering)')"
      ]
     },
     "execution_count": 53,
     "metadata": {},
     "output_type": "execute_result"
    },
    {
     "data": {
      "image/png": "[encoded data removed]",
      "text/plain": [
       "<Figure size 640x480 with 1 Axes>"
      ]
     },
     "metadata": {},
     "output_type": "display_data"
    }
   ],
   "source": [
    "plt.hist([float(len(str(a))) for a in eos_sft_df[\"answer\"].to_list()])\n",
    "plt.xlabel(\"Answer Length\")\n",
    "plt.ylabel(\"# question\")\n",
    "plt.title(\"Answer Length Distribution (without filtering)\")"
   ]
  },
  {
   "cell_type": "code",
   "execution_count": 122,
   "id": "5198c8dd",
   "metadata": {},
   "outputs": [],
   "source": [
    "eos_entity_type2count = {}\n",
    "eos_entity_type2acc = {}\n",
    "eos_entity_type2length = {}\n",
    "eos_template2entity_names = defaultdict(list)\n",
    "\n",
    "for i, d in eos_sft_df_filtered.iterrows():\n",
    "    if d[\"entity_type\"] not in eos_entity_type2count:\n",
    "        eos_entity_type2count[d[\"entity_type\"]] = defaultdict(int)\n",
    "        eos_entity_type2acc[d[\"entity_type\"]] = defaultdict(int)\n",
    "        eos_entity_type2length[d[\"entity_type\"]] = defaultdict(int)\n",
    "        \n",
    "    eos_entity_type2count[d[\"entity_type\"]][d[\"template\"]] += 1\n",
    "    eos_template2entity_names[d[\"template\"]].append(d[\"entity_name\"])\n",
    "    eos_entity_type2acc[d[\"entity_type\"]][d[\"template\"]] += d[\"llm_accuracy\"]\n",
    "    eos_entity_type2length[d[\"entity_type\"]][d[\"template\"]] += len(vars.GPT_4_TOKENIZER(str(d[\"answer\"]).strip()))\n",
    "        "
   ]
  },
  {
   "cell_type": "code",
   "execution_count": 178,
   "id": "adfcfaf4",
   "metadata": {},
   "outputs": [],
   "source": [
    "# bad_question_templates = [\"How many children did {person} have?\", \"What language family does {language} belong to?\", \"What is the national flower of {country}?\", \"When did {country} join the United Nations?\", \"What triggered {event}?\", \"What is the national anthem of {country} called?\", \"What is the date of {country}’s national day or independence day?\", \"What is the founding year of {country}?\", \"What legal system does {country} use?\", \"Which side is considered to have \\\"won\\\" {event}?\", \"What is the diet of {species}?\"]\n",
    "bad_question_templates = []\n",
    "bad_entity_types = []"
   ]
  },
  {
   "cell_type": "code",
   "execution_count": 179,
   "id": "6111d4e6",
   "metadata": {},
   "outputs": [],
   "source": [
    "# eos_template2entity_names"
   ]
  },
  {
   "cell_type": "code",
   "execution_count": 180,
   "id": "cfd70840",
   "metadata": {},
   "outputs": [
    {
     "name": "stdout",
     "output_type": "stream",
     "text": [
      "Person\n",
      "How many children did {person} have? : 0.9411764705882353 (count=17)\n",
      "What is the religion of {person}? : 0.9262295081967216 (count=61)\n",
      "What language was primarily spoken by {person}? : 0.9800000000000001 (count=80)\n",
      "What occupation is {person} most well-known for? : 0.9102272727272728 (count=88)\n",
      "What year did {person} pass away? : 1.0 (count=81)\n",
      "What year was {person} born? : 1.0 (count=78)\n",
      "Where did {person} die? : 0.9596153846153849 (count=52)\n",
      "Where was the birthplace of {person}? : 0.9384615384615387 (count=65)\n",
      "============================================================\n",
      "Organization\n",
      "In what year was {organization} established? : 0.993421052631579 (count=76)\n",
      "Where is the headquarters of {organization} located? : 0.9902173913043479 (count=92)\n",
      "Where was {organization} established? : 0.9833333333333335 (count=90)\n",
      "Who established {organization}? : 0.9054054054054054 (count=37)\n",
      "What is the primary field or industry of {organization}? : 0.9009615384615388 (count=104)\n",
      "What primary service or product does {organization} provide? : 0.8824074074074078 (count=108)\n",
      "============================================================\n",
      "Product\n",
      "What is the primary function of {product}? : 0.8656862745098044 (count=102)\n",
      "Who are the primary users of {product}? : 0.7710843373493984 (count=83)\n",
      "Who was the main inventor of {product}? : 0.9324999999999999 (count=40)\n",
      "When was {product} first introduced? : 0.9 (count=50)\n",
      "Where was {product} developed? : 0.9765957446808511 (count=47)\n",
      "============================================================\n",
      "Creative Work\n",
      "What is the original language of {creative_work}? : 1.0 (count=106)\n",
      "What is the genre or of {creative_work}? : 0.7871794871794877 (count=78)\n",
      "When was {creative_work} released or published? : 0.9383333333333334 (count=60)\n",
      "Who is the creator of {creative_work}? : 0.9839080459770114 (count=87)\n",
      "Where was {creative_work} produced or created? : 0.9337662337662338 (count=77)\n",
      "In which country was {creative_work} first released or published? : 1.0 (count=90)\n",
      "Who was the original distributor or publisher of {creative_work}? : 0.9923076923076923 (count=39)\n",
      "============================================================\n",
      "Species\n",
      "What is the diet of {species}? : 0.6931034482758623 (count=58)\n",
      "What is the social structure of {species}? : 0.829508196721312 (count=61)\n",
      "What type of organism is this {species}? : 0.9532467532467533 (count=77)\n",
      "Where is {species} primarily native to? : 0.8032258064516135 (count=62)\n",
      "What is the primary threat to {species}? : 0.8869565217391308 (count=69)\n",
      "============================================================\n",
      "Language\n",
      "What is the ISO 639‑1 code for {language}? : 1.0 (count=39)\n",
      "What is the name of the alphabet or script of {language}? : 0.973529411764706 (count=34)\n",
      "What is the primary word order in {language}? : 1.0 (count=27)\n",
      "What language family does {language} belong to? : 0.99 (count=30)\n",
      "What region is {language} native to? : 0.8999999999999999 (count=33)\n",
      "What writing system is used by {language}? : 0.9742857142857141 (count=35)\n",
      "============================================================\n",
      "Event\n",
      "What triggered {event}? : 0.8853658536585365 (count=41)\n",
      "What was the immediate outcome of {event}? : 0.834782608695652 (count=46)\n",
      "What year did {event} end? : 1.0 (count=77)\n",
      "When did {event} take place? : 0.9168539325842701 (count=89)\n",
      "Where did {event} happen? : 0.9087500000000006 (count=80)\n",
      "Which side is considered to have \"won\" {event}? : 0.9822580645161291 (count=62)\n",
      "Who was the most important leader or figure involved in {event}? : 0.9952380952380953 (count=63)\n",
      "============================================================\n",
      "Country\n",
      "What is the capital of {country}? : 1.0 (count=75)\n",
      "What language in {country} has the most speakers? : 0.9925373134328358 (count=67)\n",
      "What is the currency of {country}? : 0.983783783783784 (count=74)\n",
      "Which ethnic group is the largest in {country}? : 0.9941176470588236 (count=51)\n",
      "Which religion has the most followers in {country}? : 0.9671428571428574 (count=70)\n",
      "What is the top-level internet domain for {country}? : 1.0 (count=75)\n",
      "What is the calling code for {country}? : 1.0 (count=74)\n",
      "What is the ISO alpha-2 code for {country}? : 1.0 (count=75)\n",
      "============================================================\n"
     ]
    }
   ],
   "source": [
    "counts = []\n",
    "spotcheck_df_content = []\n",
    "count_threshold = 0\n",
    "entity_type2template_count = defaultdict(int)\n",
    "\n",
    "\n",
    "for entity_type in eos_entity_type2count.keys():\n",
    "    if entity_type in bad_entity_types:\n",
    "        continue\n",
    "    print(entity_type)\n",
    "    for template in eos_entity_type2count[entity_type].keys():\n",
    "        if template in bad_question_templates:\n",
    "            continue\n",
    "    \n",
    "        acc_sum = eos_entity_type2acc[entity_type][template]\n",
    "        count = eos_entity_type2count[entity_type][template]\n",
    "        counts.append(count)\n",
    "        \n",
    "        acc = acc_sum / count\n",
    "        spotcheck_df_content.append({\n",
    "            \"entity_type\": entity_type,\n",
    "            \"template\": template,\n",
    "            \"count\": count,\n",
    "            \"accuracy\": acc,\n",
    "        })\n",
    "        if count > count_threshold:\n",
    "            entity_type2template_count[entity_type] += 1\n",
    "            print(template, \":\", acc, f\"(count={count})\")\n",
    "    print(\"===\" * 20)"
   ]
  },
  {
   "cell_type": "code",
   "execution_count": 181,
   "id": "da235ad5",
   "metadata": {},
   "outputs": [],
   "source": [
    "from itertools import combinations\n",
    "\n",
    "def find_largest_intersection_at_least_m_sets(sets, m):\n",
    "    \"\"\"\n",
    "    Find the largest intersection set using at least m sets from the given list of K sets.\n",
    "    \n",
    "    Args:\n",
    "        sets: A list of sets, each containing elements\n",
    "        m: Minimum number of sets to use for the intersection\n",
    "    \n",
    "    Returns:\n",
    "        A tuple containing:\n",
    "        - The largest intersection set\n",
    "        - A list of indices of the sets that produce this largest intersection\n",
    "    \"\"\"\n",
    "    if not sets or m <= 0 or m > len(sets):\n",
    "        return set(), []  # Invalid input\n",
    "    \n",
    "    max_intersection_size = -1\n",
    "    max_intersection_set = set()\n",
    "    max_intersection_indices = []\n",
    "    \n",
    "    # Try finding the largest intersection with exactly j sets where j ranges from m to K\n",
    "    for j in range(m, len(sets) + 1):\n",
    "        # Try all combinations of j sets from the K sets\n",
    "        for indices in combinations(range(len(sets)), j):\n",
    "            # Calculate the intersection of the selected j sets\n",
    "            selected_sets = [sets[i] for i in indices]\n",
    "            intersection = set.intersection(*selected_sets)\n",
    "            \n",
    "            # Update maximum if this intersection is larger\n",
    "            if len(intersection) > max_intersection_size:\n",
    "                max_intersection_size = len(intersection)\n",
    "                max_intersection_set = intersection\n",
    "                max_intersection_indices = list(indices)\n",
    "    \n",
    "    return max_intersection_set, max_intersection_indices"
   ]
  },
  {
   "cell_type": "code",
   "execution_count": null,
   "id": "cb2a57fd",
   "metadata": {},
   "outputs": [],
   "source": []
  },
  {
   "cell_type": "code",
   "execution_count": null,
   "id": "7c2b6db9",
   "metadata": {},
   "outputs": [],
   "source": []
  },
  {
   "cell_type": "code",
   "execution_count": null,
   "id": "1c4efb0b",
   "metadata": {},
   "outputs": [],
   "source": []
  },
  {
   "cell_type": "code",
   "execution_count": 182,
   "id": "f75d781d",
   "metadata": {},
   "outputs": [
    {
     "name": "stdout",
     "output_type": "stream",
     "text": [
      "41 5\n"
     ]
    }
   ],
   "source": [
    "set_list = [set(eos_template2entity_names[template]) for template in entity_type2templates[\"Person\"]]\n",
    "\n",
    "largest_overlap, set_ids = find_largest_intersection_at_least_m_sets(set_list, 5)\n",
    "print(len(largest_overlap), len(set_ids), )"
   ]
  },
  {
   "cell_type": "code",
   "execution_count": 183,
   "id": "c888411d",
   "metadata": {},
   "outputs": [
    {
     "data": {
      "text/plain": [
       "41"
      ]
     },
     "execution_count": 183,
     "metadata": {},
     "output_type": "execute_result"
    }
   ],
   "source": [
    "sanity_check_set = set_list[set_ids[0]]\n",
    "for i in range(1, len(set_ids)):\n",
    "    sanity_check_set = sanity_check_set.intersection(set_list[set_ids[i]])\n",
    "len(sanity_check_set)"
   ]
  },
  {
   "cell_type": "code",
   "execution_count": 195,
   "id": "bd34e673",
   "metadata": {},
   "outputs": [],
   "source": [
    "max_rel_config = dict([\n",
    "    (\"Person\", 6),\n",
    "    (\"Event\", 5),\n",
    "    (\"Species\", 5),\n",
    "    (\"Language\", 5),\n",
    "    (\"Organization\", 5),\n",
    "    (\"Creative Work\", 6),\n",
    "    (\"Country\", 8),]\n",
    ")"
   ]
  },
  {
   "cell_type": "code",
   "execution_count": 196,
   "id": "c7a57ecc",
   "metadata": {},
   "outputs": [],
   "source": [
    "max_entity_config = [\n",
    "    (\"Person\", 4),\n",
    "    (\"Event\", 4),\n",
    "    (\"Species\", 4),\n",
    "    (\"Language\", 4),\n",
    "    (\"Organization\", 4),\n",
    "    (\"Creative Work\", 4),\n",
    "    (\"Country\", 4),\n",
    "]"
   ]
  },
  {
   "cell_type": "code",
   "execution_count": 197,
   "id": "9e047143",
   "metadata": {},
   "outputs": [
    {
     "data": {
      "text/plain": [
       "Index(['id', 'question_type', 'template', 'entity_name', 'entity_type',\n",
       "       'input', 'stage', 'question', 'answer', 'predicted_answer_idx',\n",
       "       'predicted_answer', 'exact_match', 'llm_accuracy'],\n",
       "      dtype='object')"
      ]
     },
     "execution_count": 197,
     "metadata": {},
     "output_type": "execute_result"
    }
   ],
   "source": [
    "eos_sft_df_filtered.columns"
   ]
  },
  {
   "cell_type": "code",
   "execution_count": 211,
   "id": "f9c1731f",
   "metadata": {},
   "outputs": [
    {
     "name": "stdout",
     "output_type": "stream",
     "text": [
      "Person\n",
      "# entity: 27\n",
      "# templates: 6\n",
      "Event\n",
      "# entity: 25\n",
      "# templates: 5\n",
      "Species\n",
      "# entity: 22\n",
      "# templates: 5\n",
      "Language\n",
      "# entity: 22\n",
      "# templates: 5\n",
      "Organization\n",
      "# entity: 46\n",
      "# templates: 5\n",
      "Creative Work\n",
      "# entity: 21\n",
      "# templates: 6\n",
      "Country\n",
      "# entity: 38\n",
      "# templates: 8\n",
      "============================================================\n",
      "# total entity: 201\n",
      "# total relation: 40\n"
     ]
    }
   ],
   "source": [
    "entity2nrel = max_rel_config\n",
    "n_entity = 0\n",
    "n_rel = 0\n",
    "entity_type2filtered_entities = {}\n",
    "entity_type2filtered_templates = {}\n",
    "prefinalized_df_content = []\n",
    "\n",
    "for entity_type, entity_templates in entity_type2templates.items():\n",
    "    if entity_type not in entity2nrel:\n",
    "        continue\n",
    "    print(entity_type)\n",
    "    entity_set_list = [set(eos_template2entity_names[template]) for template in entity_templates]\n",
    "    largest_entity_overlap, largest_entity_set_ids = find_largest_intersection_at_least_m_sets(entity_set_list, entity2nrel[entity_type])\n",
    "    entity_type2filtered_entities[entity_type] = largest_entity_overlap\n",
    "    entity_type2filtered_templates[entity_type] = [entity_templates[i] for i in largest_entity_set_ids]\n",
    "    prefinalized_df_content.append(\n",
    "        eos_sft_df_filtered[(eos_sft_df_filtered[\"entity_type\"] == entity_type) & (eos_sft_df_filtered[\"entity_name\"].isin(largest_entity_overlap)) & (eos_sft_df_filtered[\"template\"].isin(entity_type2filtered_templates[entity_type]))]\n",
    "    )\n",
    "    \n",
    "    n_entity += len(largest_entity_overlap)\n",
    "    n_rel += len(largest_entity_set_ids)\n",
    "    print(\"# entity:\", len(largest_entity_overlap))\n",
    "    print(\"# templates:\", len(largest_entity_set_ids))\n",
    "print(\"===\" * 20)\n",
    "\n",
    "print(\"# total entity:\", n_entity)\n",
    "print(\"# total relation:\", n_rel)"
   ]
  },
  {
   "cell_type": "code",
   "execution_count": 199,
   "id": "9d4a5f73",
   "metadata": {},
   "outputs": [],
   "source": [
    "prefinalized_df = pd.concat(prefinalized_df_content)"
   ]
  },
  {
   "cell_type": "code",
   "execution_count": 208,
   "id": "a925131f",
   "metadata": {},
   "outputs": [
    {
     "data": {
      "text/plain": [
       "Text(0.5, 1.0, 'Answer Length Distribution (after filtering)')"
      ]
     },
     "execution_count": 208,
     "metadata": {},
     "output_type": "execute_result"
    },
    {
     "data": {
      "image/png": "[encoded data removed]",
      "text/plain": [
       "<Figure size 640x480 with 1 Axes>"
      ]
     },
     "metadata": {},
     "output_type": "display_data"
    }
   ],
   "source": [
    "plt.hist([float(len(vars.GPT_4_TOKENIZER(str(a)))) for a in prefinalized_df[\"answer\"].to_list()])\n",
    "plt.xlabel(\"Answer Length (in GPT-4 tokenizer)\")\n",
    "plt.ylabel(\"# question\")\n",
    "plt.title(\"Answer Length Distribution (after filtering)\")"
   ]
  },
  {
   "cell_type": "markdown",
   "id": "762b08be",
   "metadata": {},
   "source": []
  },
  {
   "cell_type": "code",
   "execution_count": 201,
   "id": "6612035c",
   "metadata": {},
   "outputs": [
    {
     "data": {
      "text/plain": [
       "0.0"
      ]
     },
     "execution_count": 201,
     "metadata": {},
     "output_type": "execute_result"
    }
   ],
   "source": [
    "float()"
   ]
  },
  {
   "cell_type": "code",
   "execution_count": 203,
   "id": "dea16c96",
   "metadata": {},
   "outputs": [],
   "source": [
    "spotcheck_df_content = []\n",
    "entity_spotcheck_df_content = []\n",
    "\n",
    "for (entity_type, template), sub_df in prefinalized_df.groupby([\"entity_type\", \"template\"]):\n",
    "    # pass\n",
    "    acc = np.mean(sub_df[\"llm_accuracy\"].to_list())\n",
    "    length = float(np.mean([len(vars.GPT_4_TOKENIZER(a)) for a in sub_df[\"answer\"].to_list()]))\n",
    "    count = len(sub_df)\n",
    "    # counts.append(count)\n",
    "    rand_idx = np.random.randint(len(sub_df))\n",
    "    for i, r in sub_df.iterrows():\n",
    "        entity_spotcheck_df_content.append({\n",
    "            \"entity_type\": entity_type,\n",
    "            \"entity_name\": r[\"entity_name\"],\n",
    "        })\n",
    "    \n",
    "    spotcheck_df_content.append({\n",
    "        \"entity_type\": entity_type,\n",
    "        \"template\": template,\n",
    "        \"# entity\": count,\n",
    "        \"avg_llm_accuracy\": acc,\n",
    "        \"avg_answer_len (in GPT4 tokens)\": length,\n",
    "        \"example_question\": sub_df.iloc[rand_idx][\"question\"],\n",
    "        \"example_answer\": sub_df.iloc[rand_idx][\"answer\"],\n",
    "        \"example_prediction\": sub_df.iloc[rand_idx][\"predicted_answer\"],\n",
    "    })"
   ]
  },
  {
   "cell_type": "code",
   "execution_count": 204,
   "id": "21d096d6",
   "metadata": {},
   "outputs": [],
   "source": [
    "spotcheck_df = pd.DataFrame(spotcheck_df_content)\n",
    "entity_spotcheck_df = pd.DataFrame(entity_spotcheck_df_content).drop_duplicates()\n",
    "spotcheck_df = spotcheck_df.set_index([\"entity_type\", \"template\"], drop=True)\n",
    "entity_spotcheck_df = entity_spotcheck_df.set_index([\"entity_type\",], drop=True)"
   ]
  },
  {
   "cell_type": "code",
   "execution_count": 205,
   "id": "2ea8097e",
   "metadata": {},
   "outputs": [
    {
     "data": {
      "text/html": [
       "<div>\n",
       "<style scoped>\n",
       "    .dataframe tbody tr th:only-of-type {\n",
       "        vertical-align: middle;\n",
       "    }\n",
       "\n",
       "    .dataframe tbody tr th {\n",
       "        vertical-align: top;\n",
       "    }\n",
       "\n",
       "    .dataframe thead th {\n",
       "        text-align: right;\n",
       "    }\n",
       "</style>\n",
       "<table border=\"1\" class=\"dataframe\">\n",
       "  <thead>\n",
       "    <tr style=\"text-align: right;\">\n",
       "      <th></th>\n",
       "      <th></th>\n",
       "      <th># entity</th>\n",
       "      <th>avg_llm_accuracy</th>\n",
       "      <th>avg_answer_len (in GPT4 tokens)</th>\n",
       "      <th>example_question</th>\n",
       "      <th>example_answer</th>\n",
       "      <th>example_prediction</th>\n",
       "    </tr>\n",
       "    <tr>\n",
       "      <th>entity_type</th>\n",
       "      <th>template</th>\n",
       "      <th></th>\n",
       "      <th></th>\n",
       "      <th></th>\n",
       "      <th></th>\n",
       "      <th></th>\n",
       "      <th></th>\n",
       "    </tr>\n",
       "  </thead>\n",
       "  <tbody>\n",
       "    <tr>\n",
       "      <th rowspan=\"8\" valign=\"top\">Country</th>\n",
       "      <th>What is the ISO alpha-2 code for {country}?</th>\n",
       "      <td>38</td>\n",
       "      <td>1.000000</td>\n",
       "      <td>1.026316</td>\n",
       "      <td>What is the ISO alpha-2 code for Ghana?</td>\n",
       "      <td>GH</td>\n",
       "      <td>GH</td>\n",
       "    </tr>\n",
       "    <tr>\n",
       "      <th>What is the calling code for {country}?</th>\n",
       "      <td>38</td>\n",
       "      <td>1.000000</td>\n",
       "      <td>2.000000</td>\n",
       "      <td>What is the calling code for Nigeria?</td>\n",
       "      <td>+234</td>\n",
       "      <td>+234</td>\n",
       "    </tr>\n",
       "    <tr>\n",
       "      <th>What is the capital of {country}?</th>\n",
       "      <td>38</td>\n",
       "      <td>1.000000</td>\n",
       "      <td>2.315789</td>\n",
       "      <td>What is the capital of Germany?</td>\n",
       "      <td>Berlin</td>\n",
       "      <td>Berlin</td>\n",
       "    </tr>\n",
       "    <tr>\n",
       "      <th>What is the currency of {country}?</th>\n",
       "      <td>38</td>\n",
       "      <td>0.984211</td>\n",
       "      <td>3.315789</td>\n",
       "      <td>What is the currency of Kenya?</td>\n",
       "      <td>Kenyan shilling</td>\n",
       "      <td>Kenyan shilling</td>\n",
       "    </tr>\n",
       "    <tr>\n",
       "      <th>What is the top-level internet domain for {country}?</th>\n",
       "      <td>38</td>\n",
       "      <td>1.000000</td>\n",
       "      <td>1.210526</td>\n",
       "      <td>What is the top-level internet domain for Unit...</td>\n",
       "      <td>.us</td>\n",
       "      <td>.us</td>\n",
       "    </tr>\n",
       "    <tr>\n",
       "      <th>What language in {country} has the most speakers?</th>\n",
       "      <td>38</td>\n",
       "      <td>0.986842</td>\n",
       "      <td>2.131579</td>\n",
       "      <td>What language in Azerbaijan has the most speak...</td>\n",
       "      <td>Azerbaijani</td>\n",
       "      <td>Azerbaijani</td>\n",
       "    </tr>\n",
       "    <tr>\n",
       "      <th>Which ethnic group is the largest in {country}?</th>\n",
       "      <td>38</td>\n",
       "      <td>0.992105</td>\n",
       "      <td>2.815789</td>\n",
       "      <td>Which ethnic group is the largest in Iceland?</td>\n",
       "      <td>Icelandic</td>\n",
       "      <td>Icelandic</td>\n",
       "    </tr>\n",
       "    <tr>\n",
       "      <th>Which religion has the most followers in {country}?</th>\n",
       "      <td>38</td>\n",
       "      <td>0.960526</td>\n",
       "      <td>2.447368</td>\n",
       "      <td>Which religion has the most followers in Russia?</td>\n",
       "      <td>Russian Orthodox Christianity</td>\n",
       "      <td>Orthodox Christianity</td>\n",
       "    </tr>\n",
       "    <tr>\n",
       "      <th rowspan=\"6\" valign=\"top\">Creative Work</th>\n",
       "      <th>In which country was {creative_work} first released or published?</th>\n",
       "      <td>21</td>\n",
       "      <td>1.000000</td>\n",
       "      <td>1.619048</td>\n",
       "      <td>In which country was The Handmaid's Tale first...</td>\n",
       "      <td>Canada</td>\n",
       "      <td>Canada</td>\n",
       "    </tr>\n",
       "    <tr>\n",
       "      <th>What is the genre or of {creative_work}?</th>\n",
       "      <td>21</td>\n",
       "      <td>0.752381</td>\n",
       "      <td>4.571429</td>\n",
       "      <td>What is the genre or of Schindler's List?</td>\n",
       "      <td>Historical drama</td>\n",
       "      <td>Drama</td>\n",
       "    </tr>\n",
       "    <tr>\n",
       "      <th>What is the original language of {creative_work}?</th>\n",
       "      <td>21</td>\n",
       "      <td>1.000000</td>\n",
       "      <td>1.095238</td>\n",
       "      <td>What is the original language of The Handmaid'...</td>\n",
       "      <td>English</td>\n",
       "      <td>English</td>\n",
       "    </tr>\n",
       "    <tr>\n",
       "      <th>When was {creative_work} released or published?</th>\n",
       "      <td>21</td>\n",
       "      <td>0.961905</td>\n",
       "      <td>2.619048</td>\n",
       "      <td>When was War and Peace released or published?</td>\n",
       "      <td>1869</td>\n",
       "      <td>1869</td>\n",
       "    </tr>\n",
       "    <tr>\n",
       "      <th>Where was {creative_work} produced or created?</th>\n",
       "      <td>21</td>\n",
       "      <td>0.923810</td>\n",
       "      <td>2.047619</td>\n",
       "      <td>Where was A Tale of Two Cities produced or cre...</td>\n",
       "      <td>London, England</td>\n",
       "      <td>United Kingdom</td>\n",
       "    </tr>\n",
       "    <tr>\n",
       "      <th>Who is the creator of {creative_work}?</th>\n",
       "      <td>21</td>\n",
       "      <td>0.985714</td>\n",
       "      <td>3.904762</td>\n",
       "      <td>Who is the creator of Amélie?</td>\n",
       "      <td>Jean-Pierre Jeunet</td>\n",
       "      <td>Jean-Pierre Jeunet</td>\n",
       "    </tr>\n",
       "    <tr>\n",
       "      <th rowspan=\"5\" valign=\"top\">Event</th>\n",
       "      <th>What year did {event} end?</th>\n",
       "      <td>25</td>\n",
       "      <td>1.000000</td>\n",
       "      <td>2.160000</td>\n",
       "      <td>What year did French Revolution end?</td>\n",
       "      <td>1799</td>\n",
       "      <td>1799</td>\n",
       "    </tr>\n",
       "    <tr>\n",
       "      <th>When did {event} take place?</th>\n",
       "      <td>25</td>\n",
       "      <td>0.944000</td>\n",
       "      <td>5.400000</td>\n",
       "      <td>When did The Trial of Galileo take place?</td>\n",
       "      <td>1633</td>\n",
       "      <td>1633</td>\n",
       "    </tr>\n",
       "    <tr>\n",
       "      <th>Where did {event} happen?</th>\n",
       "      <td>25</td>\n",
       "      <td>0.916000</td>\n",
       "      <td>4.520000</td>\n",
       "      <td>Where did The Establishment of the People's Re...</td>\n",
       "      <td>Tiananmen Square, Beijing</td>\n",
       "      <td>Beijing, China</td>\n",
       "    </tr>\n",
       "    <tr>\n",
       "      <th>Which side is considered to have \"won\" {event}?</th>\n",
       "      <td>25</td>\n",
       "      <td>0.988000</td>\n",
       "      <td>2.960000</td>\n",
       "      <td>Which side is considered to have \"won\" The Tri...</td>\n",
       "      <td>The Catholic Church</td>\n",
       "      <td>The Catholic Church</td>\n",
       "    </tr>\n",
       "    <tr>\n",
       "      <th>Who was the most important leader or figure involved in {event}?</th>\n",
       "      <td>25</td>\n",
       "      <td>1.000000</td>\n",
       "      <td>4.600000</td>\n",
       "      <td>Who was the most important leader or figure in...</td>\n",
       "      <td>William the Conqueror</td>\n",
       "      <td>William the Conqueror</td>\n",
       "    </tr>\n",
       "    <tr>\n",
       "      <th rowspan=\"5\" valign=\"top\">Language</th>\n",
       "      <th>What is the ISO 639‑1 code for {language}?</th>\n",
       "      <td>22</td>\n",
       "      <td>1.000000</td>\n",
       "      <td>1.000000</td>\n",
       "      <td>What is the ISO 639‑1 code for Punjabi?</td>\n",
       "      <td>pa</td>\n",
       "      <td>pa</td>\n",
       "    </tr>\n",
       "    <tr>\n",
       "      <th>What is the name of the alphabet or script of {language}?</th>\n",
       "      <td>22</td>\n",
       "      <td>0.986364</td>\n",
       "      <td>3.318182</td>\n",
       "      <td>What is the name of the alphabet or script of ...</td>\n",
       "      <td>Thai script</td>\n",
       "      <td>Thai script</td>\n",
       "    </tr>\n",
       "    <tr>\n",
       "      <th>What language family does {language} belong to?</th>\n",
       "      <td>22</td>\n",
       "      <td>0.986364</td>\n",
       "      <td>3.090909</td>\n",
       "      <td>What language family does French belong to?</td>\n",
       "      <td>Indo-European</td>\n",
       "      <td>Indo-European</td>\n",
       "    </tr>\n",
       "    <tr>\n",
       "      <th>What region is {language} native to?</th>\n",
       "      <td>22</td>\n",
       "      <td>0.877273</td>\n",
       "      <td>3.954545</td>\n",
       "      <td>What region is Sinhala native to?</td>\n",
       "      <td>Sri Lanka</td>\n",
       "      <td>Sri Lanka</td>\n",
       "    </tr>\n",
       "    <tr>\n",
       "      <th>What writing system is used by {language}?</th>\n",
       "      <td>22</td>\n",
       "      <td>0.959091</td>\n",
       "      <td>4.000000</td>\n",
       "      <td>What writing system is used by French?</td>\n",
       "      <td>Latin alphabet</td>\n",
       "      <td>Latin alphabet</td>\n",
       "    </tr>\n",
       "    <tr>\n",
       "      <th rowspan=\"5\" valign=\"top\">Organization</th>\n",
       "      <th>In what year was {organization} established?</th>\n",
       "      <td>46</td>\n",
       "      <td>0.989130</td>\n",
       "      <td>2.000000</td>\n",
       "      <td>In what year was Ford established?</td>\n",
       "      <td>1903</td>\n",
       "      <td>1903</td>\n",
       "    </tr>\n",
       "    <tr>\n",
       "      <th>What is the primary field or industry of {organization}?</th>\n",
       "      <td>46</td>\n",
       "      <td>0.910870</td>\n",
       "      <td>3.086957</td>\n",
       "      <td>What is the primary field or industry of Amazon?</td>\n",
       "      <td>E-commerce</td>\n",
       "      <td>Retail and e-commerce</td>\n",
       "    </tr>\n",
       "    <tr>\n",
       "      <th>What primary service or product does {organization} provide?</th>\n",
       "      <td>46</td>\n",
       "      <td>0.913043</td>\n",
       "      <td>3.673913</td>\n",
       "      <td>What primary service or product does Alibaba p...</td>\n",
       "      <td>Online marketplace</td>\n",
       "      <td>E-commerce</td>\n",
       "    </tr>\n",
       "    <tr>\n",
       "      <th>Where is the headquarters of {organization} located?</th>\n",
       "      <td>46</td>\n",
       "      <td>0.980435</td>\n",
       "      <td>5.195652</td>\n",
       "      <td>Where is the headquarters of Walmart located?</td>\n",
       "      <td>Bentonville, Arkansas, USA</td>\n",
       "      <td>Bentonville, Arkansas, USA</td>\n",
       "    </tr>\n",
       "    <tr>\n",
       "      <th>Where was {organization} established?</th>\n",
       "      <td>46</td>\n",
       "      <td>0.980435</td>\n",
       "      <td>4.195652</td>\n",
       "      <td>Where was The ACLU established?</td>\n",
       "      <td>New York City</td>\n",
       "      <td>New York City</td>\n",
       "    </tr>\n",
       "    <tr>\n",
       "      <th rowspan=\"6\" valign=\"top\">Person</th>\n",
       "      <th>What language was primarily spoken by {person}?</th>\n",
       "      <td>27</td>\n",
       "      <td>0.970370</td>\n",
       "      <td>1.370370</td>\n",
       "      <td>What language was primarily spoken by Che Guev...</td>\n",
       "      <td>Spanish</td>\n",
       "      <td>Spanish</td>\n",
       "    </tr>\n",
       "    <tr>\n",
       "      <th>What occupation is {person} most well-known for?</th>\n",
       "      <td>27</td>\n",
       "      <td>0.918519</td>\n",
       "      <td>3.148148</td>\n",
       "      <td>What occupation is Elvis Presley most well-kno...</td>\n",
       "      <td>Singer</td>\n",
       "      <td>Singer, songwriter, and actor</td>\n",
       "    </tr>\n",
       "    <tr>\n",
       "      <th>What year did {person} pass away?</th>\n",
       "      <td>27</td>\n",
       "      <td>1.000000</td>\n",
       "      <td>2.000000</td>\n",
       "      <td>What year did Leonardo da Vinci pass away?</td>\n",
       "      <td>1519</td>\n",
       "      <td>1519</td>\n",
       "    </tr>\n",
       "    <tr>\n",
       "      <th>What year was {person} born?</th>\n",
       "      <td>27</td>\n",
       "      <td>1.000000</td>\n",
       "      <td>2.111111</td>\n",
       "      <td>What year was Eleanor Roosevelt born?</td>\n",
       "      <td>1884</td>\n",
       "      <td>1884</td>\n",
       "    </tr>\n",
       "    <tr>\n",
       "      <th>Where did {person} die?</th>\n",
       "      <td>27</td>\n",
       "      <td>0.966667</td>\n",
       "      <td>5.148148</td>\n",
       "      <td>Where did Ada Lovelace die?</td>\n",
       "      <td>London, England</td>\n",
       "      <td>London, England</td>\n",
       "    </tr>\n",
       "    <tr>\n",
       "      <th>Where was the birthplace of {person}?</th>\n",
       "      <td>27</td>\n",
       "      <td>0.977778</td>\n",
       "      <td>4.925926</td>\n",
       "      <td>Where was the birthplace of Confucius?</td>\n",
       "      <td>Qufu, Shandong, China</td>\n",
       "      <td>Qufu, China</td>\n",
       "    </tr>\n",
       "    <tr>\n",
       "      <th rowspan=\"5\" valign=\"top\">Species</th>\n",
       "      <th>What is the diet of {species}?</th>\n",
       "      <td>22</td>\n",
       "      <td>0.677273</td>\n",
       "      <td>9.454545</td>\n",
       "      <td>What is the diet of chameleon?</td>\n",
       "      <td>Insects and small invertebrates</td>\n",
       "      <td>Insects, small lizards, and small mammals</td>\n",
       "    </tr>\n",
       "    <tr>\n",
       "      <th>What is the primary threat to {species}?</th>\n",
       "      <td>22</td>\n",
       "      <td>0.918182</td>\n",
       "      <td>4.772727</td>\n",
       "      <td>What is the primary threat to jaguar?</td>\n",
       "      <td>Habitat loss</td>\n",
       "      <td>Habitat loss</td>\n",
       "    </tr>\n",
       "    <tr>\n",
       "      <th>What is the social structure of {species}?</th>\n",
       "      <td>22</td>\n",
       "      <td>0.822727</td>\n",
       "      <td>5.863636</td>\n",
       "      <td>What is the social structure of bald eagle?</td>\n",
       "      <td>Solitary or monogamous pairs</td>\n",
       "      <td>Solitary except for breeding pairs</td>\n",
       "    </tr>\n",
       "    <tr>\n",
       "      <th>What type of organism is this {species}?</th>\n",
       "      <td>22</td>\n",
       "      <td>0.963636</td>\n",
       "      <td>2.818182</td>\n",
       "      <td>What type of organism is this lion?</td>\n",
       "      <td>Mammal</td>\n",
       "      <td>Mammal</td>\n",
       "    </tr>\n",
       "    <tr>\n",
       "      <th>Where is {species} primarily native to?</th>\n",
       "      <td>22</td>\n",
       "      <td>0.827273</td>\n",
       "      <td>4.045455</td>\n",
       "      <td>Where is lion primarily native to?</td>\n",
       "      <td>Sub-Saharan Africa</td>\n",
       "      <td>Africa</td>\n",
       "    </tr>\n",
       "  </tbody>\n",
       "</table>\n",
       "</div>"
      ],
      "text/plain": [
       "                                                                  # entity  \\\n",
       "entity_type   template                                                       \n",
       "Country       What is the ISO alpha-2 code for {country}?               38   \n",
       "              What is the calling code for {country}?                   38   \n",
       "              What is the capital of {country}?                         38   \n",
       "              What is the currency of {country}?                        38   \n",
       "              What is the top-level internet domain for {coun...        38   \n",
       "              What language in {country} has the most speakers?         38   \n",
       "              Which ethnic group is the largest in {country}?           38   \n",
       "              Which religion has the most followers in {count...        38   \n",
       "Creative Work In which country was {creative_work} first rele...        21   \n",
       "              What is the genre or of {creative_work}?                  21   \n",
       "              What is the original language of {creative_work}?         21   \n",
       "              When was {creative_work} released or published?           21   \n",
       "              Where was {creative_work} produced or created?            21   \n",
       "              Who is the creator of {creative_work}?                    21   \n",
       "Event         What year did {event} end?                                25   \n",
       "              When did {event} take place?                              25   \n",
       "              Where did {event} happen?                                 25   \n",
       "              Which side is considered to have \"won\" {event}?           25   \n",
       "              Who was the most important leader or figure inv...        25   \n",
       "Language      What is the ISO 639‑1 code for {language}?                22   \n",
       "              What is the name of the alphabet or script of {...        22   \n",
       "              What language family does {language} belong to?           22   \n",
       "              What region is {language} native to?                      22   \n",
       "              What writing system is used by {language}?                22   \n",
       "Organization  In what year was {organization} established?              46   \n",
       "              What is the primary field or industry of {organ...        46   \n",
       "              What primary service or product does {organizat...        46   \n",
       "              Where is the headquarters of {organization} loc...        46   \n",
       "              Where was {organization} established?                     46   \n",
       "Person        What language was primarily spoken by {person}?           27   \n",
       "              What occupation is {person} most well-known for?          27   \n",
       "              What year did {person} pass away?                         27   \n",
       "              What year was {person} born?                              27   \n",
       "              Where did {person} die?                                   27   \n",
       "              Where was the birthplace of {person}?                     27   \n",
       "Species       What is the diet of {species}?                            22   \n",
       "              What is the primary threat to {species}?                  22   \n",
       "              What is the social structure of {species}?                22   \n",
       "              What type of organism is this {species}?                  22   \n",
       "              Where is {species} primarily native to?                   22   \n",
       "\n",
       "                                                                  avg_llm_accuracy  \\\n",
       "entity_type   template                                                               \n",
       "Country       What is the ISO alpha-2 code for {country}?                 1.000000   \n",
       "              What is the calling code for {country}?                     1.000000   \n",
       "              What is the capital of {country}?                           1.000000   \n",
       "              What is the currency of {country}?                          0.984211   \n",
       "              What is the top-level internet domain for {coun...          1.000000   \n",
       "              What language in {country} has the most speakers?           0.986842   \n",
       "              Which ethnic group is the largest in {country}?             0.992105   \n",
       "              Which religion has the most followers in {count...          0.960526   \n",
       "Creative Work In which country was {creative_work} first rele...          1.000000   \n",
       "              What is the genre or of {creative_work}?                    0.752381   \n",
       "              What is the original language of {creative_work}?           1.000000   \n",
       "              When was {creative_work} released or published?             0.961905   \n",
       "              Where was {creative_work} produced or created?              0.923810   \n",
       "              Who is the creator of {creative_work}?                      0.985714   \n",
       "Event         What year did {event} end?                                  1.000000   \n",
       "              When did {event} take place?                                0.944000   \n",
       "              Where did {event} happen?                                   0.916000   \n",
       "              Which side is considered to have \"won\" {event}?             0.988000   \n",
       "              Who was the most important leader or figure inv...          1.000000   \n",
       "Language      What is the ISO 639‑1 code for {language}?                  1.000000   \n",
       "              What is the name of the alphabet or script of {...          0.986364   \n",
       "              What language family does {language} belong to?             0.986364   \n",
       "              What region is {language} native to?                        0.877273   \n",
       "              What writing system is used by {language}?                  0.959091   \n",
       "Organization  In what year was {organization} established?                0.989130   \n",
       "              What is the primary field or industry of {organ...          0.910870   \n",
       "              What primary service or product does {organizat...          0.913043   \n",
       "              Where is the headquarters of {organization} loc...          0.980435   \n",
       "              Where was {organization} established?                       0.980435   \n",
       "Person        What language was primarily spoken by {person}?             0.970370   \n",
       "              What occupation is {person} most well-known for?            0.918519   \n",
       "              What year did {person} pass away?                           1.000000   \n",
       "              What year was {person} born?                                1.000000   \n",
       "              Where did {person} die?                                     0.966667   \n",
       "              Where was the birthplace of {person}?                       0.977778   \n",
       "Species       What is the diet of {species}?                              0.677273   \n",
       "              What is the primary threat to {species}?                    0.918182   \n",
       "              What is the social structure of {species}?                  0.822727   \n",
       "              What type of organism is this {species}?                    0.963636   \n",
       "              Where is {species} primarily native to?                     0.827273   \n",
       "\n",
       "                                                                  avg_answer_len (in GPT4 tokens)  \\\n",
       "entity_type   template                                                                              \n",
       "Country       What is the ISO alpha-2 code for {country}?                                1.026316   \n",
       "              What is the calling code for {country}?                                    2.000000   \n",
       "              What is the capital of {country}?                                          2.315789   \n",
       "              What is the currency of {country}?                                         3.315789   \n",
       "              What is the top-level internet domain for {coun...                         1.210526   \n",
       "              What language in {country} has the most speakers?                          2.131579   \n",
       "              Which ethnic group is the largest in {country}?                            2.815789   \n",
       "              Which religion has the most followers in {count...                         2.447368   \n",
       "Creative Work In which country was {creative_work} first rele...                         1.619048   \n",
       "              What is the genre or of {creative_work}?                                   4.571429   \n",
       "              What is the original language of {creative_work}?                          1.095238   \n",
       "              When was {creative_work} released or published?                            2.619048   \n",
       "              Where was {creative_work} produced or created?                             2.047619   \n",
       "              Who is the creator of {creative_work}?                                     3.904762   \n",
       "Event         What year did {event} end?                                                 2.160000   \n",
       "              When did {event} take place?                                               5.400000   \n",
       "              Where did {event} happen?                                                  4.520000   \n",
       "              Which side is considered to have \"won\" {event}?                            2.960000   \n",
       "              Who was the most important leader or figure inv...                         4.600000   \n",
       "Language      What is the ISO 639‑1 code for {language}?                                 1.000000   \n",
       "              What is the name of the alphabet or script of {...                         3.318182   \n",
       "              What language family does {language} belong to?                            3.090909   \n",
       "              What region is {language} native to?                                       3.954545   \n",
       "              What writing system is used by {language}?                                 4.000000   \n",
       "Organization  In what year was {organization} established?                               2.000000   \n",
       "              What is the primary field or industry of {organ...                         3.086957   \n",
       "              What primary service or product does {organizat...                         3.673913   \n",
       "              Where is the headquarters of {organization} loc...                         5.195652   \n",
       "              Where was {organization} established?                                      4.195652   \n",
       "Person        What language was primarily spoken by {person}?                            1.370370   \n",
       "              What occupation is {person} most well-known for?                           3.148148   \n",
       "              What year did {person} pass away?                                          2.000000   \n",
       "              What year was {person} born?                                               2.111111   \n",
       "              Where did {person} die?                                                    5.148148   \n",
       "              Where was the birthplace of {person}?                                      4.925926   \n",
       "Species       What is the diet of {species}?                                             9.454545   \n",
       "              What is the primary threat to {species}?                                   4.772727   \n",
       "              What is the social structure of {species}?                                 5.863636   \n",
       "              What type of organism is this {species}?                                   2.818182   \n",
       "              Where is {species} primarily native to?                                    4.045455   \n",
       "\n",
       "                                                                                                   example_question  \\\n",
       "entity_type   template                                                                                                \n",
       "Country       What is the ISO alpha-2 code for {country}?                   What is the ISO alpha-2 code for Ghana?   \n",
       "              What is the calling code for {country}?                         What is the calling code for Nigeria?   \n",
       "              What is the capital of {country}?                                     What is the capital of Germany?   \n",
       "              What is the currency of {country}?                                     What is the currency of Kenya?   \n",
       "              What is the top-level internet domain for {coun...  What is the top-level internet domain for Unit...   \n",
       "              What language in {country} has the most speakers?   What language in Azerbaijan has the most speak...   \n",
       "              Which ethnic group is the largest in {country}?         Which ethnic group is the largest in Iceland?   \n",
       "              Which religion has the most followers in {count...   Which religion has the most followers in Russia?   \n",
       "Creative Work In which country was {creative_work} first rele...  In which country was The Handmaid's Tale first...   \n",
       "              What is the genre or of {creative_work}?                    What is the genre or of Schindler's List?   \n",
       "              What is the original language of {creative_work}?   What is the original language of The Handmaid'...   \n",
       "              When was {creative_work} released or published?         When was War and Peace released or published?   \n",
       "              Where was {creative_work} produced or created?      Where was A Tale of Two Cities produced or cre...   \n",
       "              Who is the creator of {creative_work}?                                  Who is the creator of Amélie?   \n",
       "Event         What year did {event} end?                                       What year did French Revolution end?   \n",
       "              When did {event} take place?                                When did The Trial of Galileo take place?   \n",
       "              Where did {event} happen?                           Where did The Establishment of the People's Re...   \n",
       "              Which side is considered to have \"won\" {event}?     Which side is considered to have \"won\" The Tri...   \n",
       "              Who was the most important leader or figure inv...  Who was the most important leader or figure in...   \n",
       "Language      What is the ISO 639‑1 code for {language}?                    What is the ISO 639‑1 code for Punjabi?   \n",
       "              What is the name of the alphabet or script of {...  What is the name of the alphabet or script of ...   \n",
       "              What language family does {language} belong to?           What language family does French belong to?   \n",
       "              What region is {language} native to?                                What region is Sinhala native to?   \n",
       "              What writing system is used by {language}?                     What writing system is used by French?   \n",
       "Organization  In what year was {organization} established?                       In what year was Ford established?   \n",
       "              What is the primary field or industry of {organ...   What is the primary field or industry of Amazon?   \n",
       "              What primary service or product does {organizat...  What primary service or product does Alibaba p...   \n",
       "              Where is the headquarters of {organization} loc...      Where is the headquarters of Walmart located?   \n",
       "              Where was {organization} established?                                 Where was The ACLU established?   \n",
       "Person        What language was primarily spoken by {person}?     What language was primarily spoken by Che Guev...   \n",
       "              What occupation is {person} most well-known for?    What occupation is Elvis Presley most well-kno...   \n",
       "              What year did {person} pass away?                          What year did Leonardo da Vinci pass away?   \n",
       "              What year was {person} born?                                    What year was Eleanor Roosevelt born?   \n",
       "              Where did {person} die?                                                   Where did Ada Lovelace die?   \n",
       "              Where was the birthplace of {person}?                          Where was the birthplace of Confucius?   \n",
       "Species       What is the diet of {species}?                                         What is the diet of chameleon?   \n",
       "              What is the primary threat to {species}?                        What is the primary threat to jaguar?   \n",
       "              What is the social structure of {species}?                What is the social structure of bald eagle?   \n",
       "              What type of organism is this {species}?                          What type of organism is this lion?   \n",
       "              Where is {species} primarily native to?                            Where is lion primarily native to?   \n",
       "\n",
       "                                                                                   example_answer  \\\n",
       "entity_type   template                                                                              \n",
       "Country       What is the ISO alpha-2 code for {country}?                                      GH   \n",
       "              What is the calling code for {country}?                                        +234   \n",
       "              What is the capital of {country}?                                            Berlin   \n",
       "              What is the currency of {country}?                                  Kenyan shilling   \n",
       "              What is the top-level internet domain for {coun...                              .us   \n",
       "              What language in {country} has the most speakers?                       Azerbaijani   \n",
       "              Which ethnic group is the largest in {country}?                           Icelandic   \n",
       "              Which religion has the most followers in {count...    Russian Orthodox Christianity   \n",
       "Creative Work In which country was {creative_work} first rele...                           Canada   \n",
       "              What is the genre or of {creative_work}?                           Historical drama   \n",
       "              What is the original language of {creative_work}?                           English   \n",
       "              When was {creative_work} released or published?                                1869   \n",
       "              Where was {creative_work} produced or created?                      London, England   \n",
       "              Who is the creator of {creative_work}?                           Jean-Pierre Jeunet   \n",
       "Event         What year did {event} end?                                                     1799   \n",
       "              When did {event} take place?                                                   1633   \n",
       "              Where did {event} happen?                                 Tiananmen Square, Beijing   \n",
       "              Which side is considered to have \"won\" {event}?                 The Catholic Church   \n",
       "              Who was the most important leader or figure inv...            William the Conqueror   \n",
       "Language      What is the ISO 639‑1 code for {language}?                                       pa   \n",
       "              What is the name of the alphabet or script of {...                      Thai script   \n",
       "              What language family does {language} belong to?                       Indo-European   \n",
       "              What region is {language} native to?                                      Sri Lanka   \n",
       "              What writing system is used by {language}?                           Latin alphabet   \n",
       "Organization  In what year was {organization} established?                                   1903   \n",
       "              What is the primary field or industry of {organ...                       E-commerce   \n",
       "              What primary service or product does {organizat...               Online marketplace   \n",
       "              Where is the headquarters of {organization} loc...       Bentonville, Arkansas, USA   \n",
       "              Where was {organization} established?                                 New York City   \n",
       "Person        What language was primarily spoken by {person}?                             Spanish   \n",
       "              What occupation is {person} most well-known for?                             Singer   \n",
       "              What year did {person} pass away?                                              1519   \n",
       "              What year was {person} born?                                                   1884   \n",
       "              Where did {person} die?                                             London, England   \n",
       "              Where was the birthplace of {person}?                         Qufu, Shandong, China   \n",
       "Species       What is the diet of {species}?                      Insects and small invertebrates   \n",
       "              What is the primary threat to {species}?                               Habitat loss   \n",
       "              What is the social structure of {species}?             Solitary or monogamous pairs   \n",
       "              What type of organism is this {species}?                                     Mammal   \n",
       "              Where is {species} primarily native to?                          Sub-Saharan Africa   \n",
       "\n",
       "                                                                                         example_prediction  \n",
       "entity_type   template                                                                                       \n",
       "Country       What is the ISO alpha-2 code for {country}?                                                GH  \n",
       "              What is the calling code for {country}?                                                  +234  \n",
       "              What is the capital of {country}?                                                      Berlin  \n",
       "              What is the currency of {country}?                                            Kenyan shilling  \n",
       "              What is the top-level internet domain for {coun...                                        .us  \n",
       "              What language in {country} has the most speakers?                                 Azerbaijani  \n",
       "              Which ethnic group is the largest in {country}?                                     Icelandic  \n",
       "              Which religion has the most followers in {count...                      Orthodox Christianity  \n",
       "Creative Work In which country was {creative_work} first rele...                                     Canada  \n",
       "              What is the genre or of {creative_work}?                                                Drama  \n",
       "              What is the original language of {creative_work}?                                     English  \n",
       "              When was {creative_work} released or published?                                          1869  \n",
       "              Where was {creative_work} produced or created?                                 United Kingdom  \n",
       "              Who is the creator of {creative_work}?                                     Jean-Pierre Jeunet  \n",
       "Event         What year did {event} end?                                                               1799  \n",
       "              When did {event} take place?                                                             1633  \n",
       "              Where did {event} happen?                                                      Beijing, China  \n",
       "              Which side is considered to have \"won\" {event}?                           The Catholic Church  \n",
       "              Who was the most important leader or figure inv...                      William the Conqueror  \n",
       "Language      What is the ISO 639‑1 code for {language}?                                                 pa  \n",
       "              What is the name of the alphabet or script of {...                                Thai script  \n",
       "              What language family does {language} belong to?                                 Indo-European  \n",
       "              What region is {language} native to?                                                Sri Lanka  \n",
       "              What writing system is used by {language}?                                     Latin alphabet  \n",
       "Organization  In what year was {organization} established?                                             1903  \n",
       "              What is the primary field or industry of {organ...                      Retail and e-commerce  \n",
       "              What primary service or product does {organizat...                                 E-commerce  \n",
       "              Where is the headquarters of {organization} loc...                 Bentonville, Arkansas, USA  \n",
       "              Where was {organization} established?                                           New York City  \n",
       "Person        What language was primarily spoken by {person}?                                       Spanish  \n",
       "              What occupation is {person} most well-known for?                Singer, songwriter, and actor  \n",
       "              What year did {person} pass away?                                                        1519  \n",
       "              What year was {person} born?                                                             1884  \n",
       "              Where did {person} die?                                                       London, England  \n",
       "              Where was the birthplace of {person}?                                             Qufu, China  \n",
       "Species       What is the diet of {species}?                      Insects, small lizards, and small mammals  \n",
       "              What is the primary threat to {species}?                                         Habitat loss  \n",
       "              What is the social structure of {species}?                 Solitary except for breeding pairs  \n",
       "              What type of organism is this {species}?                                               Mammal  \n",
       "              Where is {species} primarily native to?                                                Africa  "
      ]
     },
     "execution_count": 205,
     "metadata": {},
     "output_type": "execute_result"
    }
   ],
   "source": [
    "spotcheck_df"
   ]
  },
  {
   "cell_type": "code",
   "execution_count": 206,
   "id": "900b4d5a",
   "metadata": {},
   "outputs": [],
   "source": [
    "spotcheck_df.to_excel(f\"/u/zliu/datastor1/mend/spotcheck/spotcheck_df_curated_v1_rel.xlsx\", index=True)"
   ]
  },
  {
   "cell_type": "code",
   "execution_count": 207,
   "id": "76f724a8",
   "metadata": {},
   "outputs": [],
   "source": [
    "entity_spotcheck_df\n",
    "entity_spotcheck_df.to_excel(f\"/u/zliu/datastor1/mend/spotcheck/spotcheck_df_curated_v1_entity.xlsx\", index=True)"
   ]
  },
  {
   "cell_type": "code",
   "execution_count": 610,
   "id": "a1b961af",
   "metadata": {},
   "outputs": [],
   "source": [
    "# Counter(eos_sft_df_filtered[eos_sft_df_filtered.apply(lambda row: row[\"template\"] == \"Where is {species} primarily found?\", axis=1)][\"answer\"])"
   ]
  },
  {
   "cell_type": "code",
   "execution_count": null,
   "id": "8f6edb5c",
   "metadata": {},
   "outputs": [],
   "source": [
    "# spotcheck_df = pd.DataFrame(spotcheck_df_content)"
   ]
  },
  {
   "cell_type": "code",
   "execution_count": 611,
   "id": "ed7f973e",
   "metadata": {},
   "outputs": [],
   "source": [
    "# template_count_threshold = 1"
   ]
  },
  {
   "cell_type": "code",
   "execution_count": null,
   "id": "621f62a2",
   "metadata": {},
   "outputs": [
    {
     "name": "stdout",
     "output_type": "stream",
     "text": [
      "# entity: 40 # template: 1\n"
     ]
    },
    {
     "data": {
      "text/plain": [
       "16"
      ]
     },
     "execution_count": 310,
     "metadata": {},
     "output_type": "execute_result"
    }
   ],
   "source": [
    "# print(f\"# entity: {count_threshold}\", f\"# template: {template_count_threshold}\", )\n",
    "# len([k for k, v in entity_type2template_count.items() if v >= template_count_threshold])"
   ]
  },
  {
   "cell_type": "code",
   "execution_count": 308,
   "id": "7ecca1db",
   "metadata": {},
   "outputs": [
    {
     "data": {
      "text/plain": [
       "['Historical Figure',\n",
       " 'Business Figure',\n",
       " 'Book',\n",
       " 'Language',\n",
       " 'Company',\n",
       " 'Non-profit Organization',\n",
       " 'University',\n",
       " 'Invention',\n",
       " 'Artwork',\n",
       " 'Film',\n",
       " 'Song',\n",
       " 'Historical Event',\n",
       " 'Software',\n",
       " 'Species',\n",
       " 'Author',\n",
       " 'Country']"
      ]
     },
     "execution_count": 308,
     "metadata": {},
     "output_type": "execute_result"
    }
   ],
   "source": [
    "[k for k, v in entity_type2template_count.items() if v >= template_count_threshold]"
   ]
  },
  {
   "cell_type": "code",
   "execution_count": null,
   "id": "275591c3",
   "metadata": {},
   "outputs": [],
   "source": []
  },
  {
   "cell_type": "code",
   "execution_count": null,
   "id": "f3119b49",
   "metadata": {},
   "outputs": [],
   "source": []
  },
  {
   "cell_type": "code",
   "execution_count": null,
   "id": "2b6310e4",
   "metadata": {},
   "outputs": [],
   "source": []
  },
  {
   "cell_type": "code",
   "execution_count": null,
   "id": "9b1396ee",
   "metadata": {},
   "outputs": [],
   "source": []
  },
  {
   "cell_type": "code",
   "execution_count": null,
   "id": "cc3ad0b0",
   "metadata": {},
   "outputs": [],
   "source": []
  }
 ],
 "metadata": {
  "kernelspec": {
   "display_name": "cpt",
   "language": "python",
   "name": "python3"
  },
  "language_info": {
   "codemirror_mode": {
    "name": "ipython",
    "version": 3
   },
   "file_extension": ".py",
   "mimetype": "text/x-python",
   "name": "python",
   "nbconvert_exporter": "python",
   "pygments_lexer": "ipython3",
   "version": "3.11.0"
  }
 },
 "nbformat": 4,
 "nbformat_minor": 5
}
