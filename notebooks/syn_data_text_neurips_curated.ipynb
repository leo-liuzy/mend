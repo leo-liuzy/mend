{
 "cells": [
  {
   "cell_type": "code",
   "execution_count": 1,
   "id": "1177ff58",
   "metadata": {},
   "outputs": [],
   "source": [
    "import datasets\n",
    "from datasets import load_dataset\n",
    "from tqdm import tqdm\n",
    "from knowledge_propagation.utils import vars, io, extractor\n",
    "from scipy.stats import describe\n",
    "from typing import List, Dict\n",
    "import re\n",
    "from copy import deepcopy\n",
    "import pandas as pd\n",
    "import random\n",
    "\n",
    "from collections import defaultdict, Counter\n",
    "import matplotlib.pyplot as plt\n",
    "import numpy as np\n",
    "import os"
   ]
  },
  {
   "cell_type": "code",
   "execution_count": 2,
   "id": "423310a3",
   "metadata": {},
   "outputs": [],
   "source": [
    "person_subject_ingredients = io.load_json(f\"{vars.DATA_DIR}/debug_meta_train/syn_data_neurips/data_gen/fake_person_name_components.json\")\n",
    "company_subject_ingredients = io.load_json(f\"{vars.DATA_DIR}/debug_meta_train/syn_data_neurips/data_gen/fake_company_name_components.json\")\n",
    "\n",
    "subject_type2ingredients = {\n",
    "    \"person\": person_subject_ingredients,\n",
    "    \"company\": company_subject_ingredients\n",
    "}\n"
   ]
  },
  {
   "cell_type": "code",
   "execution_count": 3,
   "id": "1af8954d",
   "metadata": {},
   "outputs": [],
   "source": [
    "\n",
    "def subject_sampler(subject_ingredients: dict) -> str:\n",
    "    \"\"\"\n",
    "    Convert a subject ingredient dictionary to a string.\n",
    "    \"\"\"\n",
    "    component_names = [c for c in subject_ingredients.keys() if c not in [\"template\", \"gender\"]]\n",
    "    component_instantiations = {c: random.choice(subject_ingredients[c]) for c in component_names}\n",
    "    template = subject_ingredients[\"template\"]\n",
    "    gender = random.choice(subject_ingredients[\"gender\"])\n",
    "    \n",
    "    return {\n",
    "        \"subject\": template.format(**component_instantiations), \n",
    "        \"gender\": gender\n",
    "    }"
   ]
  },
  {
   "cell_type": "code",
   "execution_count": 4,
   "id": "dc899de2",
   "metadata": {},
   "outputs": [],
   "source": [
    "gender_type2subj = {\n",
    "    \"male\": \"he\",\n",
    "    \"female\": \"she\",\n",
    "    \"it\": \"it\",\n",
    "}\n",
    "gender_type2obj = {\n",
    "    \"male\": \"him\",\n",
    "    \"female\": \"her\",\n",
    "    \"it\": \"it\",\n",
    "}\n",
    "\n",
    "gender_type2possessive_adj = {\n",
    "    \"male\": \"his\",\n",
    "    \"female\": \"her\",\n",
    "    \"it\": \"its\",\n",
    "}\n",
    "gender_type2possessive_pronoun = {\n",
    "    \"male\": \"his\",\n",
    "    \"female\": \"hers\",\n",
    "    \"it\": \"its\",\n",
    "}\n",
    "gender_type2reflexive_pronoun = {\n",
    "    \"male\": \"himself\",\n",
    "    \"female\": \"herself\",\n",
    "    \"it\": \"itself\",\n",
    "}"
   ]
  },
  {
   "cell_type": "code",
   "execution_count": null,
   "id": "94590b74",
   "metadata": {},
   "outputs": [],
   "source": []
  },
  {
   "cell_type": "code",
   "execution_count": 5,
   "id": "66867aff",
   "metadata": {},
   "outputs": [],
   "source": [
    "question_template2paraphrase = {\n",
    "    # country -- checked\n",
    "    \"What is the top-level internet domain for {country}?\": \"What is the primary internet domain suffix for {country}?\",\n",
    "    \"What is the calling code for {country}?\": \"What is the international dialing code for {country}?\",\n",
    "    \"What is the currency of {country}?\": \"What is the main currency used in {country}?\",\n",
    "    \"Which religion has the most followers in {country}?\": \"Which religion has the largest number of followers in {country}?\",\n",
    "    \"Which ethnic group is the largest in {country}?\": \"Which religion has the largest number of followers in {country}?\",\n",
    "    \"What is the ISO alpha-2 code for {country}?\": \"What is the two-letter ISO code for {country}?\",\n",
    "    \"What language in {country} has the most speakers?\": \"What is the most widely spoken language in {country}?\",\n",
    "    \"What is the capital of {country}?\": \"What is the capital city of {country}?\",\n",
    "    \n",
    "    # creative_work -- checked\n",
    "    \"What is the genre or style of {creative_work}?\": \"What kind of genre or style is {creative_work}?\",\n",
    "    \"What is the original language of {creative_work}?\": \"In what language was {creative_work} originally created?\",\n",
    "    \"Who is the creator of {creative_work}?\": \"Who created {creative_work}?\",\n",
    "    \"In which country was {creative_work} first released or published?\": \"Which country was {creative_work} first made available in?\",\n",
    "    \"When was {creative_work} released or published?\": \"When was {creative_work} first made available?\",\n",
    "    \"Where was {creative_work} produced or created?\": \"Where was {creative_work} made or created?\",\n",
    "    \n",
    "    # event -- checked\n",
    "    \"In which country did {event} happen?\": \"Where did {event} take place?\",\n",
    "    \"What year did {event} end?\": \"In what year did {event} conclude?\",\n",
    "    \"Who was the most important leader or figure involved in {event}?\": \"Who was the most significant leader or figure involved in {event}?\",\n",
    "    \"When did {event} take place?\": \"In what year did {event} occur?\",\n",
    "    \n",
    "    # Language -- checked\n",
    "    \"What writing system is used by {language}?\": \"What script is used by {language}?\",\n",
    "    \"What region is {language} native to?\": \"In which region is {language} primarily spoken?\",\n",
    "    \"What is the primary word order in {language}?\": \"What is the typical word order in {language} sentences?\",\n",
    "    \"What is the ISO 639\\u20111 code for {language}?\": \"What is the two-letter ISO code for {language}?\",\n",
    "    \"What is the name of the alphabet or script of {language}?\": \"What is the standard script for writing {language}?\",\n",
    "    \n",
    "    # Organization -- checked\n",
    "    \"Where is the headquarters of {organization} located?\": \"Where is {organization} headquartered?\",\n",
    "    \"What is the primary field or industry of {organization}?\": \"In which field or industry does {organization} primarily operate?\",\n",
    "    \"Where was {organization} established?\": \"In which location was {organization} founded?\",\n",
    "    \"What primary service or product does {organization} provide?\": \"What is the main service or product offered by {organization}?\",\n",
    "    \"In what year was {organization} established?\": \"What year was {organization} created?\",\n",
    "    \"Who established {organization}?\": \"Who was the founder of {organization}?\",\n",
    "    \n",
    "    # Person -- checked\n",
    "    \"What year did {person} pass away?\": \"In what year did {person} die?\",\n",
    "    \"What occupation is {person} most well-known for?\": \"What is the most famous profession of {person}?\",\n",
    "    \"Where did {person} die?\": \"What was the place of death of {person}?\",\n",
    "    \"Where was the birthplace of {person}?\": \"In which location was {person} born?\",\n",
    "    \"What language was primarily spoken by {person}?\": \"What language did {person} mainly use?\",\n",
    "    \"What year was {person} born?\": \"What year marks the birth of {person}?\",\n",
    "    \"What is the religion of {person}?\": \"What faith does {person} adhere to?\",\n",
    "    # Species\n",
    "    \"What is the social structure of {species}?\": \"What type of social organization does {species} have?\",\n",
    "    \"What type of organism is {species}?\": \"What biological category does {species} belong to?\",\n",
    "    \"Where is {species} primarily native to?\": \"What is the native region of {species}?\",\n",
    "    \"What is the diet of {species}?\": \"What kind of food does {species} consume?\",\n",
    "}"
   ]
  },
  {
   "cell_type": "code",
   "execution_count": 6,
   "id": "7eb5396b",
   "metadata": {},
   "outputs": [],
   "source": [
    "question2answer = io.load_json(f\"{vars.DATA_DIR}/debug_meta_train/syn_data_neurips/data_gen/question2answer_curated_final.json\")\n",
    "entity_type2tag = {\n",
    "    \"Person\": \"person\",\n",
    "    \"Event\": \"event\",\n",
    "    \"Species\": \"species\",\n",
    "    \"Language\": \"language\",\n",
    "    \"Organization\": \"organization\",\n",
    "    \"Creative Work\": \"creative_work\",\n",
    "    \"Country\": \"country\",\n",
    "}\n",
    "tag2entity_type = {v: k for k, v in entity_type2tag.items()}\n",
    "assert len(entity_type2tag) == len(tag2entity_type)"
   ]
  },
  {
   "cell_type": "code",
   "execution_count": 7,
   "id": "4f200824",
   "metadata": {},
   "outputs": [],
   "source": [
    "country_subject_type2text_template = {\n",
    "    \"person\": \"{subject} was born in {country_1}. {Gender_subj} spent most of {gender_possessive_adj} adult life in {country_2}. After retirement, {gender_subj} lived in {country_3} and passed away.\",\n",
    "    \"company\": \"{subject} was founded in {country_1}. {Gender_subj} later expand {gender_possessive_adj} business to {country_2} as the second region of operation. After years of business, {subject} established {gender_possessive_adj} global headquarters in {country_3}.\"\n",
    "}\n",
    "\n",
    "country_subject_type2aliases = {\n",
    "    \"person\": [\n",
    "        \"the country that {subject} was born in\", # country_1\n",
    "        \"the country that {subject} most of {gender_possessive_adj} adult life in\", # country_2\n",
    "        \"the country that {subject} died in\", # country_3\n",
    "    ],\n",
    "    \"company\": [\n",
    "        \"the country that {subject} was founded in\", # country_1\n",
    "        \"the country that {subject} expanded to as the second region of operation\", # country_2\n",
    "        \"the country that hosted {subject}'s global headquarters\", # country_3\n",
    "    ]\n",
    "}\n",
    "\n",
    "# TODO: need a templates for other baselines (prefix = verbalized (subject, relation, *))\n",
    "# MEND: prefix, paraphrased_prefix, target\n",
    "# MEMIT: prefix, subject, target\n",
    "country_subject_type2structured_events = {\n",
    "    \"person\": [\n",
    "        {\n",
    "            \"fact\": \"{subject} was born in {country_1}.\",\n",
    "            \"prefix\": \"{subject} was born in\",\n",
    "            \"paraphrase\": \"{subject} was originally from {country_1}.\",\n",
    "            \"paraphrase_prefix\": \"{subject} was originally from\",\n",
    "            \"target\": \"{country_1}\",\n",
    "        },\n",
    "        {\n",
    "            \"fact\": \"{subject} spent most of {gender_possessive_adj} adult life in {country_2}.\",\n",
    "            \"prefix\": \"{subject} spent most of {gender_possessive_adj} adult life in\",\n",
    "            \"paraphrase\": \"The bulk of {subject}'s adult life was spent in {country_2}.\",\n",
    "            \"paraphrase_prefix\": \"The bulk of {subject}'s adult life was spent in\",\n",
    "            \"target\": \"{country_2}\",\n",
    "        },\n",
    "        {\n",
    "            \"fact\": \"{subject} died in {country_3}.\",\n",
    "            \"prefix\": \"{subject} died in\",\n",
    "            \"paraphrase\": \"{subject} passed away in {country_3}.\",\n",
    "            \"paraphrase_prefix\": \"{subject} passed away in\",\n",
    "            \"target\": \"{country_3}\",\n",
    "        },\n",
    "    ],\n",
    "    \"company\": [\n",
    "        {\n",
    "            \"fact\": \"{subject} was founded in {country_1}.\",\n",
    "            \"prefix\": \"{subject} was founded in\",\n",
    "            \"paraphrase\": \"{subject} was established in {country_1}.\",\n",
    "            \"paraphrase_prefix\": \"{subject} was established in\",\n",
    "            \"target\": \"{country_1}\",\n",
    "        },\n",
    "        {\n",
    "            \"fact\": \"{subject}'s second region of operation is {country_2}.\",\n",
    "            \"prefix\": \"{subject}'s second region of operation is\",\n",
    "            \"paraphrase\": \"{subject}'s second operational region is {country_2}.\",\n",
    "            \"paraphrase_prefix\": \"{subject}'s second operational region is\",\n",
    "            \"target\": \"{country_2}\",\n",
    "        },\n",
    "        {\n",
    "            \"fact\": \"{subject}'s global headquarters is located in {country_3}.\",\n",
    "            \"prefix\": \"{subject}'s global headquarters is located in\",\n",
    "            \"paraphrase\": \"{subject} has its global headquarters in {country_3}.\",\n",
    "            \"paraphrase_prefix\": \"{subject} has its global headquarters in\",\n",
    "            \"target\": \"{country_3}\",\n",
    "        },\n",
    "    ]\n",
    "}\n"
   ]
  },
  {
   "cell_type": "markdown",
   "id": "4414c503",
   "metadata": {},
   "source": []
  },
  {
   "cell_type": "code",
   "execution_count": 8,
   "id": "d63638c4",
   "metadata": {},
   "outputs": [],
   "source": [
    "language_subject_type2text_template = {\n",
    "    \"person\": \"{subject} was born into a {language_1}-speaking environment. In grade school, {gender_subj} started to learn {language_2}. In {gender_possessive_adj} college, {gender_subj} took a major in {language_3}.\",\n",
    "    \"company\": \"{subject} began by offering services in {language_1}. {Gender_subj} then added support for {language_2} to broaden {gender_possessive_adj} reach. Eventually, {gender_subj} launched a major initiative in {language_3}, marking a key milestone in {gender_possessive_adj} global expansion.\"\n",
    "}\n",
    "\n",
    "language_subject_type2aliases = {\n",
    "    \"person\": [\n",
    "        \"the language that {subject} grew up speaking\", # language_1\n",
    "        \"the language that {subject} learned in grade school\", # language_2\n",
    "        \"the language that {subject} majored in college\", # language_3\n",
    "    ],\n",
    "    \"company\": [\n",
    "        \"the language that {subject} primarily offered services in\", # language_1\n",
    "        \"the language that {subject} supported as {gender_possessive_adj} second language\", # language_2\n",
    "        \"the language that {subject} launched a major initiative in\", # language_3\n",
    "    ]\n",
    "}\n",
    "\n",
    "language_subject_type2structured_events = {\n",
    "    \"person\": [\n",
    "        {\n",
    "            \"fact\": \"{subject} was born and raised speaking {language_1}.\",\n",
    "            \"prefix\": \"{subject} was born and raised speaking\",\n",
    "            \"paraphrase\": \"{subject}'s first language was {language_1}.\",\n",
    "            \"paraphrase_prefix\": \"{subject}'s first language was\",\n",
    "            \"target\": \"{language_1}\",\n",
    "        },\n",
    "        {\n",
    "            \"fact\": \"In grade school, {subject} started to learn {language_2}.\",\n",
    "            \"prefix\": \"In grade school, {subject} started to learn\",\n",
    "            \"paraphrase\": \"In grade school, {subject} began learning {language_2}.\",\n",
    "            \"paraphrase_prefix\": \"In grade school, {subject} began learning\",\n",
    "            \"target\": \"{language_2}\",\n",
    "        },\n",
    "        {\n",
    "            \"fact\": \"{subject} took a major in {language_3}.\",\n",
    "            \"prefix\": \"{subject} took a major in\",\n",
    "            \"paraphrase\": \"{subject} majored in {language_3}.\",\n",
    "            \"paraphrase_prefix\": \"{subject} majored in\",\n",
    "            \"target\": \"{language_3}\",\n",
    "        },\n",
    "    ],\n",
    "    \"company\": [\n",
    "        {\n",
    "            \"fact\": \"{subject} began by offering services in {language_1}.\",\n",
    "            \"prefix\": \"{subject} began by offering services in\",\n",
    "            \"paraphrase\": \"{subject} started by providing services in {language_1}.\",\n",
    "            \"paraphrase_prefix\": \"{subject} started by providing services in\",\n",
    "            \"target\": \"{language_1}\",\n",
    "        },\n",
    "        {\n",
    "            \"fact\": \"For its second language, {subject} added support for {language_2}.\",\n",
    "            \"prefix\": \"For its second language, {subject} added support for\",\n",
    "            \"paraphrase\": \"As its second language, {subject} integrated support for {language_2}.\",\n",
    "            \"paraphrase_prefix\": \"As its second language, {subject} integrated support for\",\n",
    "            \"target\": \"{language_2}\",\n",
    "        },\n",
    "        {\n",
    "            \"fact\": \"{subject} launched a major initiative in {language_3}.\",\n",
    "            \"prefix\": \"{subject} launched a major initiative in\",\n",
    "            \"paraphrase\": \"{subject} initiated a significant project in {language_3}.\",\n",
    "            \"paraphrase_prefix\": \"{subject} initiated a significant project in\",\n",
    "            \"target\": \"{language_3}\",\n",
    "        },\n",
    "    ]\n",
    "}"
   ]
  },
  {
   "cell_type": "code",
   "execution_count": 9,
   "id": "e02add4f",
   "metadata": {},
   "outputs": [],
   "source": [
    "species_subject_type2text_template = {\n",
    "    \"person\": \"{subject} became fascinated with nature after learning about {species_1}. During graduate school, {gender_subj} researched on {species_2}. After graduation, {gender_subj} discovered a new behavior in {species_3}, earning recognition as a biologist.\",\n",
    "    \"company\": \"{subject} developed an interest in wildlife while supporting a conservation project for {species_1}. {Gender_subj} later partnered with researchers to study {species_2}. {Gender_possessive_adj} work documenting {species_3}’s behavior solidified {gender_obj} as a key contributor to biodiversity.\",\n",
    "}\n",
    "\n",
    "species_subject_type2aliases = {\n",
    "    \"person\": [\n",
    "        \"the species that triggered {subject}'s fascination with nature\", # species_1\n",
    "        \"the species that {subject} conducted research on during graduate school\", # species_2\n",
    "        \"the species that {subject} discovered a new behavior in\", # species_3\n",
    "    ],\n",
    "    \"company\": [\n",
    "        \"the species that {subject} supported a conservation project for\", # species_1\n",
    "        \"the species that {subject} partnered with researchers to study\", # species_2\n",
    "        \"the species that {subject} documented behavior of\", # species_3\n",
    "    ]\n",
    "}\n",
    "\n",
    "species_subject_type2structured_events = {\n",
    "    \"person\": [\n",
    "        {\n",
    "            \"fact\": \"{subject} became fascinated with nature after learning about {species_1}.\",\n",
    "            \"prefix\": \"{subject} became fascinated with nature after learning about\",\n",
    "            \"paraphrase\": \"{subject} developed a passion for nature after discovering {species_1}.\",\n",
    "            \"paraphrase_prefix\": \"{subject} developed a passion for nature after discovering\",\n",
    "            \"target\": \"{species_1}\",\n",
    "        },\n",
    "        {\n",
    "            \"fact\": \"During graduate school, {subject} researched on {species_2}.\",\n",
    "            \"prefix\": \"During graduate school, {subject} researched on\",\n",
    "            \"paraphrase\": \"During graduate school, {subject} conducted research on {species_2}.\",\n",
    "            \"paraphrase_prefix\": \"During graduate school, {subject} conducted research on\",\n",
    "            \"target\": \"{species_2}\",\n",
    "        },\n",
    "        {\n",
    "            \"fact\": \"{subject} discovered a new behavior in {species_3}.\",\n",
    "            \"prefix\": \"{subject} discovered a new behavior in\",\n",
    "            \"paraphrase\": \"{subject} identified a new behavior in {species_3}.\",\n",
    "            \"paraphrase_prefix\": \"{subject} identified a new behavior in\",\n",
    "            \"target\": \"{species_3}\",\n",
    "        },\n",
    "    ],\n",
    "    \"company\": [\n",
    "        {\n",
    "            \"fact\": \"{subject} developed an interest in wildlife while supporting a conservation project for {species_1}.\",\n",
    "            \"prefix\": \"{subject} developed an interest in wildlife while supporting a conservation project for\",\n",
    "            \"paraphrase\": \"{subject} became interested in wildlife while assisting with a conservation project for {species_1}.\",\n",
    "            \"paraphrase_prefix\": \"{subject} became interested in wildlife while assisting with a conservation project for\",\n",
    "            \"target\": \"{species_1}\",\n",
    "        },\n",
    "        {\n",
    "            \"fact\": \"{subject} partnered with researchers to study {species_2}.\",\n",
    "            \"prefix\": \"{subject} partnered with researchers to study\",\n",
    "            \"paraphrase\": \"{subject} collaborated with researchers to investigate {species_2}.\",\n",
    "            \"paraphrase_prefix\": \"{subject} collaborated with researchers to investigate\",\n",
    "            \"target\": \"{species_2}\",\n",
    "        },\n",
    "        {\n",
    "            \"fact\": \"{subject} documented the behavior of {species_3}.\",\n",
    "            \"prefix\": \"{subject} documented the behavior of\",\n",
    "            \"paraphrase\": \"{subject} recorded the behavior of {species_3}.\",\n",
    "            \"paraphrase_prefix\": \"{subject} recorded the behavior of\",\n",
    "            \"target\": \"{species_3}\",\n",
    "        },\n",
    "    ]\n",
    "}"
   ]
  },
  {
   "cell_type": "code",
   "execution_count": 10,
   "id": "f3e71e57",
   "metadata": {},
   "outputs": [],
   "source": [
    "event_subject_type2text_template = {\n",
    "    \"person\": \"{subject} developed a passion for history after learning about {event_1} in grade school. In college, {gender_subj} did research on {event_2}. Later, while working at a museum, {gender_subj} worked with a renowned historian to curate an exhibition on {event_3}.\",\n",
    "    \"company\": \"{subject} drew early inspiration from {event_1} to shape {gender_possessive_adj} culture. Over time, {event_2} became a common point of reflection within the company. Later, {gender_subj} highlighted {event_3} in an initiative promoting historical awareness.\",\n",
    "}\n",
    "\n",
    "event_subject_type2aliases = {\n",
    "    \"person\": [\n",
    "        \"the event that sparked {subject}'s passion for history\", # event_1\n",
    "        \"the event that {subject} researched in college\", # event_2\n",
    "        \"the event that {subject} curated an exhibition on\", # event_3\n",
    "    ],\n",
    "    \"company\": [\n",
    "        \"the event that inspired {subject}'s culture\", # event_1\n",
    "        \"the event that {subject} commonly reflected on\", # event_2\n",
    "        \"the event that {subject} highlighted in an initiative\", # event_3\n",
    "    ]\n",
    "}\n",
    "\n",
    "event_subject_type2structured_events = {\n",
    "    \"person\": [\n",
    "        {\n",
    "            \"fact\": \"{subject} developed a passion for history after learning about {event_1}.\",\n",
    "            \"prefix\": \"{subject} developed a passion for history after learning about\",\n",
    "            \"paraphrase\": \"{subject} became interested in history after discovering {event_1}.\",\n",
    "            \"paraphrase_prefix\": \"{subject} became interested in history after discovering\",\n",
    "            \"target\": \"{event_1}\",\n",
    "        },\n",
    "        {\n",
    "            \"fact\": \"In college, {subject} did research on {event_2}.\",\n",
    "            \"prefix\": \"In college, {subject} did research on\",\n",
    "            \"paraphrase\": \"During college, {subject} conducted research on {event_2}.\",\n",
    "            \"paraphrase_prefix\": \"During college, {subject} conducted research on\",\n",
    "            \"target\": \"{event_2}\",\n",
    "        },\n",
    "        {\n",
    "            \"fact\": \"{subject} worked with a renowned historian to curate an exhibition on {event_3}.\",\n",
    "            \"prefix\": \"{subject} worked with a renowned historian to curate an exhibition on\",\n",
    "            \"paraphrase\": \"{subject} collaborated with a famous historian to organize an exhibition about {event_3}.\",\n",
    "            \"paraphrase_prefix\": \"{subject} collaborated with a famous historian to organize an exhibition about\",\n",
    "            \"target\": \"{event_3}\",\n",
    "        },\n",
    "    ],\n",
    "    \"company\": [\n",
    "        {\n",
    "            \"fact\": \"{subject}'s culture was shaped by {event_1}.\",\n",
    "            \"prefix\": \"{subject}'s culture was shaped by\",\n",
    "            \"paraphrase\": \"{subject}'s culture was influenced by {event_1}.\",\n",
    "            \"paraphrase_prefix\": \"{subject}'s culture was influenced by\",\n",
    "            \"target\": \"{event_1}\",\n",
    "        },\n",
    "        {\n",
    "            \"fact\": \"The common point of reflection within {subject} was {event_2}.\",\n",
    "            \"prefix\": \"The common point of reflection within {subject} was\",\n",
    "            \"paraphrase\": \"{subject} often reflected on {event_2}.\",\n",
    "            \"paraphrase_prefix\": \"{subject} often reflected on\",\n",
    "            \"target\": \"{event_2}\",\n",
    "        },\n",
    "        {\n",
    "            \"fact\": \"In an initiative, {subject} highlighted {event_3}.\",\n",
    "            \"prefix\": \"In an initiative, {subject} highlighted\",\n",
    "            \"paraphrase\": \"In promoting historical awareness, {subject} emphasized {event_3}.\",\n",
    "            \"paraphrase_prefix\": \"In promoting historical awareness, {subject} emphasized\",\n",
    "            \"target\": \"{event_3}\",\n",
    "        },\n",
    "    ]\n",
    "}"
   ]
  },
  {
   "cell_type": "code",
   "execution_count": 11,
   "id": "cf7262bf",
   "metadata": {},
   "outputs": [],
   "source": [
    "person_subject_type2text_template = {\n",
    "    \"person\": \"{subject} first wrote about {person_1} in an 8th-grade book report. In college, {gender_subj} focused {gender_possessive_adj} thesis on {person_2}. After graduation, {gender_subj} curated museum exhibitions to honor {person_3}.\",\n",
    "    \"company\": \"{subject} drew inspiration from {person_1} when shaping {gender_possessive_adj} mission. Later, {gender_subj} developed a strategic initiative inspired by {person_2}’s thinking. Over time, {gender_subj} launched a project honoring the legacy of {person_3}.\",\n",
    "}\n",
    "\n",
    "person_subject_type2aliases = {\n",
    "    \"person\": [\n",
    "        \"the person that {subject} wrote about in an 8th-grade book report\", # person_1\n",
    "        \"the person that {subject} focused {gender_possessive_adj} thesis on\", # person_2\n",
    "        \"the person that {subject} curated museum exhibitions to honor\", # person_3\n",
    "    ],\n",
    "    \"company\": [\n",
    "        \"the person that inspired {subject}'s mission\", # person_1\n",
    "        \"the person whose thinking inspires {subject}’s strategic initiative\", # person_2\n",
    "        \"the person whose legacy {subject} honored with a project\", # person_3\n",
    "    ]\n",
    "}\n",
    "\n",
    "person_subject_type2structured_events = {\n",
    "    \"person\": [\n",
    "        {\n",
    "            \"fact\": \"In an 8th-grade book report, {subject} first wrote about {person_1}.\",\n",
    "            \"prefix\": \"In an 8th-grade book report, {subject} first wrote about\",\n",
    "            \"paraphrase\":  \"In an 8th-grade book report, {subject} first explored {person_1}.\",\n",
    "            \"paraphrase_prefix\": \"In an 8th-grade book report, {subject} first explored\",\n",
    "            \"target\": \"{person_1}\",\n",
    "        },\n",
    "        {\n",
    "            \"fact\": \"The college thesis of {subject} focused on {person_2}.\",\n",
    "            \"prefix\": \"The college thesis of {subject} focused on\",\n",
    "            \"paraphrase\": \"In college, {subject} centered {gender_possessive_adj} thesis on {person_2}.\",\n",
    "            \"paraphrase_prefix\": \"In college, {subject} centered {gender_possessive_adj} thesis on\",\n",
    "            \"target\": \"{person_2}\",\n",
    "        },\n",
    "        {\n",
    "            \"fact\": \"{subject} curated museum exhibitions to honor {person_3}.\",\n",
    "            \"prefix\": \"{subject} curated museum exhibitions to honor\",\n",
    "            \"paraphrase\": \"{subject} organized museum exhibitions to celebrate {person_3}.\",\n",
    "            \"paraphrase_prefix\": \"{subject} organized museum exhibitions to celebrate\",\n",
    "            \"target\": \"{person_3}\",\n",
    "        }\n",
    "    ],\n",
    "    \"company\": [\n",
    "        {\n",
    "            \"fact\": \"The mission of {subject} drew inspiration from {person_1}.\",\n",
    "            \"prefix\": \"The mission of {subject} drew inspiration from\",\n",
    "            \"paraphrase\": \"The mission of {subject} was inspired by {person_1}.\",\n",
    "            \"paraphrase_prefix\": \"The mission of {subject} was inspired by\",\n",
    "            \"target\": \"{person_1}\",\n",
    "        },\n",
    "        {\n",
    "            \"fact\": \"A strategic initiative of {subject} was developed based on the thinking of {person_2}.\",\n",
    "            \"prefix\": \"A strategic initiative of {subject} was developed based on the thinking of\",\n",
    "            \"paraphrase\": \"A strategic initiative of {subject} was inspired by the thinking of {person_2}.\",\n",
    "            \"paraphrase_prefix\": \"A strategic initiative of {subject} was inspired by the thinking of\",\n",
    "            \"target\": \"{person_2}\",\n",
    "        },\n",
    "        {\n",
    "            \"fact\": \"{subject} launched a project to honor the legacy of {person_3}.\", \n",
    "            \"prefix\": \"{subject} launched a project to honor the legacy of\",\n",
    "            \"paraphrase\": \"A project of {subject} honored the legacy of {person_3}.\",\n",
    "            \"paraphrase_prefix\": \"A project of {subject} honored the legacy of\", \n",
    "            \"target\": \"{person_3}\",\n",
    "        }\n",
    "    ]\n",
    "}"
   ]
  },
  {
   "cell_type": "code",
   "execution_count": 12,
   "id": "48a370bd",
   "metadata": {},
   "outputs": [],
   "source": [
    "creative_work_subject_type2text_template = {\n",
    "    \"person\": \"{subject} discovered a passion for creative work after encountering {creative_work_1}. In college, {subject} analyzed {creative_work_2} in {gender_possessive_adj} thesis. Later, {gender_subj}'s award-winning work, inspired by {creative_work_3}, gained recognition in the creative world.\",\n",
    "    \"company\": \"{subject} built {gender_possessive_adj} culture on the influence of {creative_work_1}. Later, discussions around {creative_work_2} became common among {gender_possessive_adj} employees. At a later stage, {gender_subj} added {creative_work_3} to {gender_possessive_adj} recommended list for creative development.\",\n",
    "}\n",
    "\n",
    "creative_work_subject_type2aliases = {\n",
    "    \"person\": [\n",
    "       \"the creative work that started {subject}'s love for creativity\", # creative_work_1\n",
    "       \"the creative work that {subject} analyzed in {gender_possessive_adj} thesis\", # creative_work_2\n",
    "       \"the creative work that inspired {subject}'s award-winning work\", # creative_work_3\n",
    "    ],\n",
    "    \"company\": [\n",
    "        \"the creative work that {subject}'s culture was built on\", # creative_work_1\n",
    "        \"the creative work that {subject}'s employees commonly discussed\", # creative_work_2\n",
    "        \"the creative work that {subject} recommended for creative development\", # creative_work_3\n",
    "    ]\n",
    "}\n",
    "\n",
    "creative_work_subject_type2structured_events = {\n",
    "    \"person\": [\n",
    "        {\n",
    "            \"fact\": \"{subject} fell in love with creativity after encountering {creative_work_1}.\",\n",
    "            \"prefix\": \"{subject} fell in love with creativity after encountering\",\n",
    "            \"paraphrase\": \"{subject} developed a passion for creativity after discovering {creative_work_1}.\",\n",
    "            \"paraphrase_prefix\": \"{subject} developed a passion for creativity after discovering\",\n",
    "            \"target\": \"{creative_work_1}\",\n",
    "        },\n",
    "        {\n",
    "            \"fact\": \"The college thesis of {subject} is on {creative_work_2}.\",\n",
    "            \"prefix\": \"The college thesis of {subject} is on\",\n",
    "            \"paraphrase\": \"{subject}'s college thesis is focused on {creative_work_2}.\",\n",
    "            \"paraphrase_prefix\": \"{subject}'s college thesis is focused on\",\n",
    "            \"target\": \"{creative_work_2}\",\n",
    "        },  \n",
    "        {\n",
    "            \"fact\": \"{subject}'s award-winning work was inspired by {creative_work_3}.\",\n",
    "            \"prefix\": \"{subject}'s award-winning work was inspired by\",\n",
    "            \"paraphrase\": \"The award-winning work of {subject} drew inspiration from {creative_work_3}.\",\n",
    "            \"paraphrase_prefix\": \"The award-winning work of {subject} drew inspiration from\",\n",
    "            \"target\": \"{creative_work_3}\",\n",
    "        },\n",
    "    ],\n",
    "    \"company\": [\n",
    "        {\n",
    "            \"fact\": \"{subject}'s culture was built on the influence of {creative_work_1}.\",\n",
    "            \"prefix\": \"{subject}'s culture was built on the influence of\",\n",
    "            \"paraphrase\": \"The culture of {subject} was shaped by the influence of {creative_work_1}.\",\n",
    "            \"paraphrase_prefix\": \"The culture of {subject} was shaped by the influence of\",\n",
    "            \"target\": \"{creative_work_1}\",\n",
    "        },\n",
    "        {\n",
    "            \"fact\": \"The employees of {subject} commonly discussed {creative_work_2}.\",\n",
    "            \"prefix\": \"The employees of {subject} commonly discussed\",\n",
    "            \"paraphrase\": \"Employees at {subject} frequently engaged in discussions about {creative_work_2}.\",\n",
    "            \"paraphrase_prefix\": \"Employees at {subject} frequently engaged in discussions about\",\n",
    "            \"target\": \"{creative_work_2}\",\n",
    "        },\n",
    "        {\n",
    "            \"fact\": \"The recommended list of {subject} included {creative_work_3}.\",\n",
    "            \"prefix\": \"The recommended list of {subject} included\",\n",
    "            \"paraphrase\": \"For creative development, {subject} recommended {creative_work_3}.\",\n",
    "            \"paraphrase_prefix\": \"For creative development, {subject} recommended\",\n",
    "            \"target\": \"{creative_work_3}\",\n",
    "        },\n",
    "    ]\n",
    "}"
   ]
  },
  {
   "cell_type": "code",
   "execution_count": 13,
   "id": "fe23b3ab",
   "metadata": {},
   "outputs": [],
   "source": [
    "organization_subject_type2text_template = {\n",
    "    \"person\": \"{subject} began {gender_possessive_adj} career at {organization_1}. After years of hard work, {gender_subj} became a manager at {organization_2}. Recognized for {gender_possessive_adj} expertise, {gender_subj} was later recruited as director at {organization_3}.\",\n",
    "    \"company\": \"{subject} launched {gender_possessive_adj} first product with support from {organization_1}. {Gender_subj} later collaborated on a major project with {organization_2}. Eventually, {subject} was acquired by {organization_3}.\",\n",
    "}\n",
    "\n",
    "organization_subject_type2aliases = {\n",
    "    \"person\": [\n",
    "        \"the organization that {subject} began career at\", # organization_1\n",
    "        \"the organization that {subject} became a manager at\", # organization_2\n",
    "        \"the organization that {subject} was recruited as director at\", # organization_3\n",
    "    ],\n",
    "    \"company\": [\n",
    "        \"the organization that supported {subject}'s first product\", # organization_1\n",
    "        \"the organization that {subject} collaborated on a major project with\", # organization_2\n",
    "        \"the organization that acquired {subject}\", # organization_3\n",
    "\n",
    "    ]\n",
    "}\n",
    "\n",
    "organization_subject_type2structured_events = {\n",
    "    \"person\": [\n",
    "        {\n",
    "            \"fact\": \"{subject} began career at {organization_1}.\",\n",
    "            \"prefix\": \"{subject} began career at\",\n",
    "            \"paraphrase\": \"{subject} started career at {organization_1}.\",\n",
    "            \"paraphrase_prefix\": \"{subject} started career at\",\n",
    "            \"target\": \"{organization_1}\",\n",
    "        },\n",
    "        {\n",
    "            \"fact\": \"{subject} became a manager at {organization_2}.\",\n",
    "            \"prefix\": \"{subject} became a manager at\",\n",
    "            \"paraphrase\": \"{subject} was promoted to manager at {organization_2}.\",\n",
    "            \"paraphrase_prefix\": \"{subject} was promoted to manager at\",\n",
    "            \"target\": \"{organization_2}\",\n",
    "        },\n",
    "        {\n",
    "            \"fact\": \"{subject} was recruited as director at {organization_3}.\",\n",
    "            \"prefix\": \"{subject} was recruited as director at\",\n",
    "            \"paraphrase\": \"{subject} was hired as director at {organization_3}.\",\n",
    "            \"paraphrase_prefix\": \"{subject} was hired as director at\",\n",
    "            \"target\": \"{organization_3}\",\n",
    "        }\n",
    "    ],\n",
    "    \"company\": [\n",
    "        {\n",
    "            \"fact\": \"{subject} launched first product with support from {organization_1}.\",\n",
    "            \"prefix\": \"{subject} launched first product with support from\",\n",
    "            \"paraphrase\": \"The first product of {subject} was launched with support from {organization_1}.\", \n",
    "            \"paraphrase_prefix\": \"The first product of {subject} was launched with support from\",\n",
    "            \"target\": \"{organization_1}\",\n",
    "        },\n",
    "        {\n",
    "            \"fact\": \"{subject} collaborated on a major project with {organization_2}.\",\n",
    "            \"prefix\": \"{subject} collaborated on a major project with\",\n",
    "            \"paraphrase\": \"{subject} worked together on a major project with {organization_2}.\",\n",
    "            \"paraphrase_prefix\": \"{subject} worked together on a major project with\",\n",
    "            \"target\": \"{organization_2}\",\n",
    "        },\n",
    "        {\n",
    "            \"fact\": \"{subject} was acquired by {organization_3}.\",\n",
    "            \"prefix\": \"{subject} was acquired by\",\n",
    "            \"paraphrase\": \"{subject} was purchased by {organization_3}.\",\n",
    "            \"paraphrase_prefix\": \"{subject} was purchased by\",\n",
    "            \"target\": \"{organization_3}\",\n",
    "        }\n",
    "    ]\n",
    "}"
   ]
  },
  {
   "cell_type": "code",
   "execution_count": 14,
   "id": "b6489e90",
   "metadata": {},
   "outputs": [],
   "source": [
    "entity_type2text_templates = {\n",
    "    \"Country\": country_subject_type2text_template,\n",
    "    \"Species\": species_subject_type2text_template,\n",
    "    \"Language\": language_subject_type2text_template,\n",
    "    \"Organization\": organization_subject_type2text_template,\n",
    "    \"Event\": event_subject_type2text_template,\n",
    "    \"Person\": person_subject_type2text_template,\n",
    "    \"Creative Work\": creative_work_subject_type2text_template,\n",
    "}\n",
    "entity_type2aliases = {\n",
    "    \"Country\": country_subject_type2aliases,\n",
    "    \"Species\": species_subject_type2aliases,\n",
    "    \"Language\": language_subject_type2aliases,\n",
    "    \"Organization\": organization_subject_type2aliases,\n",
    "    \"Event\": event_subject_type2aliases,\n",
    "    \"Person\": person_subject_type2aliases,\n",
    "    \"Creative Work\": creative_work_subject_type2aliases,\n",
    "}\n",
    "entity_type2structured_events = {\n",
    "    \"Country\": country_subject_type2structured_events,\n",
    "    \"Species\": species_subject_type2structured_events,\n",
    "    \"Language\": language_subject_type2structured_events,\n",
    "    \"Organization\": organization_subject_type2structured_events,\n",
    "    \"Event\": event_subject_type2structured_events,\n",
    "    \"Person\": person_subject_type2structured_events,\n",
    "    \"Creative Work\": creative_work_subject_type2structured_events,\n",
    "}"
   ]
  },
  {
   "cell_type": "code",
   "execution_count": 134,
   "id": "ae8c3b07",
   "metadata": {},
   "outputs": [],
   "source": [
    "def question_suite_generator(\n",
    "    entity_tag: str,\n",
    "    subject: str,\n",
    "    gender_type: str,\n",
    "    fact_entity_name: str,\n",
    "    fact_alias_template: str,\n",
    "    question_template: str,\n",
    "):\n",
    "    \n",
    "    fact_alias = fact_alias_template.format(\n",
    "        subject = subject,\n",
    "        gender_subj=gender_type2subj[gender_type],\n",
    "        Gender_subj=gender_type2subj[gender_type].capitalize(),\n",
    "        gender_obj=gender_type2obj[gender_type],\n",
    "        gender_possessive_adj=gender_type2possessive_adj[gender_type],\n",
    "        Gender_possessive_adj=gender_type2possessive_adj[gender_type].capitalize(),\n",
    "        gender_possessive_pronoun=gender_type2possessive_pronoun[gender_type],\n",
    "        gender_reflexive_pronoun=gender_type2reflexive_pronoun[gender_type],\n",
    "    )\n",
    "    alias_question = question_template.format(**{entity_tag: fact_alias})\n",
    "    unalias_question = question_template.format(**{entity_tag: fact_entity_name})\n",
    "    question_paraphrase_template = question_template2paraphrase[question_template]\n",
    "    alias_question_paraphrase = question_paraphrase_template.format(**{entity_tag: fact_alias})\n",
    "    unalias_question_paraphrase = question_paraphrase_template.format(**{entity_tag: fact_entity_name})\n",
    "    \n",
    "    answer = question2answer[unalias_question]\n",
    "    return {\n",
    "        \"question_template\": question_template,\n",
    "        \"alias_question\": alias_question,\n",
    "        \"unalias_question\": unalias_question,\n",
    "        \"alias_question_paraphrase\": alias_question_paraphrase,\n",
    "        \"unalias_question_paraphrase\": unalias_question_paraphrase,\n",
    "        \"entity_name\": fact_entity_name,\n",
    "        \"answer\": answer,\n",
    "    }\n"
   ]
  },
  {
   "cell_type": "code",
   "execution_count": 135,
   "id": "23322faa",
   "metadata": {},
   "outputs": [],
   "source": [
    "def generate_text_instance(\n",
    "    entity_type: str,\n",
    "    entity_tag: str,\n",
    "    entity_names: List[str],\n",
    "    subject: str,\n",
    "    gender_type: str,\n",
    "    text_template: str,\n",
    "    relation_templates: List[str],\n",
    "    fact_alias_templates: List[str],\n",
    "    **kwargs,\n",
    "):\n",
    "    n_entity_in_text = len(entity_names)\n",
    "    assert len(entity_names) == 3\n",
    "    entity_name_tags = [f\"{entity_tag}_{i+1}\" for i in range(n_entity_in_text)]\n",
    "    \n",
    "    text = text_template.format(\n",
    "        subject=subject,\n",
    "        gender_subj=gender_type2subj[gender_type],\n",
    "        Gender_subj=gender_type2subj[gender_type].capitalize(),\n",
    "        gender_obj=gender_type2obj[gender_type],\n",
    "        gender_possessive_adj=gender_type2possessive_adj[gender_type],\n",
    "        Gender_possessive_adj=gender_type2possessive_adj[gender_type].capitalize(),\n",
    "        gender_possessive_pronoun=gender_type2possessive_pronoun[gender_type],\n",
    "        gender_reflexive_pronoun=gender_type2reflexive_pronoun[gender_type],\n",
    "        **dict(zip(entity_name_tags, entity_names)),\n",
    "    )\n",
    "    assert len(fact_alias_templates) == len(entity_names), f\"{len(fact_alias_templates)} vs {len(entity_names)}\"\n",
    "    question_suites = []\n",
    "    for relation_template in relation_templates:\n",
    "        fact_idx = random.randint(0, len(fact_alias_templates) - 1)\n",
    "        fact_alias_template = fact_alias_templates[fact_idx]\n",
    "        fact_entity_name = entity_names[fact_idx]\n",
    "\n",
    "        question_suite = question_suite_generator(\n",
    "            entity_tag=entity_tag, \n",
    "            subject=subject, \n",
    "            gender_type=gender_type, \n",
    "            fact_entity_name=fact_entity_name, \n",
    "            fact_alias_template=fact_alias_template,\n",
    "            question_template=relation_template,\n",
    "        )\n",
    "        question_suite[\"fact_idx\"] = fact_idx\n",
    "        question_suites.append(question_suite)\n",
    "    \n",
    "    return {\n",
    "        \"entity_type\": entity_type,\n",
    "        \"entity_names\": entity_names,\n",
    "        \"subject\": subject,\n",
    "        \"gender_type\": gender_type,\n",
    "        \"text\": text,\n",
    "        \"questions\": question_suites,\n",
    "        **kwargs,\n",
    "    }\n",
    "    \n",
    "    "
   ]
  },
  {
   "cell_type": "code",
   "execution_count": 132,
   "id": "494485b8",
   "metadata": {},
   "outputs": [
    {
     "data": {
      "text/plain": [
       "1"
      ]
     },
     "execution_count": 132,
     "metadata": {},
     "output_type": "execute_result"
    }
   ],
   "source": [
    "random.randint(0, 2)"
   ]
  },
  {
   "cell_type": "code",
   "execution_count": 271,
   "id": "eebea2e8",
   "metadata": {},
   "outputs": [],
   "source": [
    "relation_id_ood_split = io.load_json(f\"{vars.DATA_DIR}/debug_meta_train/syn_data_neurips/data_gen/exp_relations.json\")\n",
    "entity_id_ood_split = io.load_json(f\"{vars.DATA_DIR}/debug_meta_train/syn_data_neurips/data_gen/exp_entities.json\")\n",
    "\n",
    "id_data_proportion = 1 # 0.1 2 4 6 8 10\n",
    "# entity ID/OOD splits\n",
    "entity_type2id_entities = defaultdict(list)\n",
    "for et, e in entity_id_ood_split[\"id\"][:int(len(entity_id_ood_split[\"id\"]) * id_data_proportion)]:\n",
    "    entity_type2id_entities[et].append(e)\n",
    "entity_type2ood_entities = defaultdict(list)\n",
    "for et, e in entity_id_ood_split[\"ood\"]:\n",
    "    entity_type2ood_entities[et].append(e)\n",
    "\n",
    "entity_type2all_entities = defaultdict(list)\n",
    "for et in entity_type2ood_entities.keys():\n",
    "    entity_type2all_entities[et] = entity_type2id_entities[et] + entity_type2ood_entities[et]\n",
    "\n",
    "# relation ID/OOD splits\n",
    "entity_type2id_relations = defaultdict(list)\n",
    "for et, e in relation_id_ood_split[\"id\"][:int(len(relation_id_ood_split[\"id\"]) * id_data_proportion)]:\n",
    "    entity_type2id_relations[et].append(e)\n",
    "entity_type2ood_relations = defaultdict(list)\n",
    "for et, e in relation_id_ood_split[\"ood\"]:\n",
    "    entity_type2ood_relations[et].append(e)\n",
    "    \n",
    "entity_type2all_relations = defaultdict(list)\n",
    "for et in entity_type2id_relations.keys():\n",
    "    entity_type2all_relations[et] = entity_type2id_relations[et] + entity_type2ood_relations[et]"
   ]
  },
  {
   "cell_type": "code",
   "execution_count": null,
   "id": "be543470",
   "metadata": {},
   "outputs": [],
   "source": []
  },
  {
   "cell_type": "code",
   "execution_count": null,
   "id": "fdfe5dda",
   "metadata": {},
   "outputs": [],
   "source": []
  },
  {
   "cell_type": "code",
   "execution_count": 260,
   "id": "41901581",
   "metadata": {},
   "outputs": [
    {
     "name": "stdout",
     "output_type": "stream",
     "text": [
      "ID entities: 152, OOD entities: 37\n",
      "ID relations: 31, OOD relations: 7\n"
     ]
    }
   ],
   "source": [
    "n_id_entities = sum([len(entity_type2id_entities[et]) for et in entity_type2id_entities])\n",
    "n_ood_entities = sum([len(entity_type2ood_entities[et]) for et in entity_type2ood_entities])\n",
    "\n",
    "n_id_relations = sum([len(entity_type2id_relations[et]) for et in entity_type2id_relations])\n",
    "n_ood_relations = sum([len(entity_type2ood_relations[et]) for et in entity_type2ood_relations])\n",
    "\n",
    "print(f\"ID entities: {n_id_entities}, OOD entities: {n_ood_entities}\")\n",
    "print(f\"ID relations: {n_id_relations}, OOD relations: {n_ood_relations}\")"
   ]
  },
  {
   "cell_type": "code",
   "execution_count": 95,
   "id": "8b4909a4",
   "metadata": {},
   "outputs": [
    {
     "data": {
      "text/plain": [
       "1064"
      ]
     },
     "execution_count": 95,
     "metadata": {},
     "output_type": "execute_result"
    }
   ],
   "source": [
    "sum([len(entity_type2id_entities[et]) * len(entity_type2id_relations) for et in entity_type2id_entities])"
   ]
  },
  {
   "cell_type": "code",
   "execution_count": 19,
   "id": "9d7228a4",
   "metadata": {},
   "outputs": [
    {
     "data": {
      "text/plain": [
       "7"
      ]
     },
     "execution_count": 19,
     "metadata": {},
     "output_type": "execute_result"
    }
   ],
   "source": [
    "len(relation_id_ood_split[\"ood\"])"
   ]
  },
  {
   "cell_type": "markdown",
   "id": "805e1c95",
   "metadata": {},
   "source": [
    "# Sanity check error-free by traversing all templates"
   ]
  },
  {
   "cell_type": "code",
   "execution_count": 276,
   "id": "5a8aceb0",
   "metadata": {},
   "outputs": [],
   "source": [
    "\n",
    "# sampled_template_inputs = []\n",
    "# for entity_type in entity_type2text_templates.keys():\n",
    "#     entity_tag = entity_type2tag[entity_type]\n",
    "#     subject_type2text_template = entity_type2text_templates[entity_type]\n",
    "#     entities = entity_type2entities[entity_type]\n",
    "    \n",
    "#     # generate a random subject\n",
    "#     for subject_type in subject_type2text_template.keys():\n",
    "#         # subject_type = random.choice(list(subject_type2ingredients.keys()))\n",
    "#         subject_dict = subject_sampler(subject_type2ingredients[subject_type])\n",
    "#         subject, gender_type = subject_dict[\"subject\"], subject_dict[\"gender\"]\n",
    "\n",
    "#         entity_names = random.sample(entities * n_entity_in_text, n_entity_in_text,)\n",
    "#         sampled_template_inputs.append(\n",
    "#             {\n",
    "#                 \"entity_type\": entity_type,\n",
    "#                 \"entity_names\": entity_names,\n",
    "#                 \"subject_type\": subject_type,\n",
    "#                 \"subject\": subject,\n",
    "#                 \"gender_type\": gender_type,\n",
    "#             }\n",
    "#         )"
   ]
  },
  {
   "cell_type": "code",
   "execution_count": null,
   "id": "d27534a9",
   "metadata": {},
   "outputs": [],
   "source": []
  },
  {
   "cell_type": "code",
   "execution_count": null,
   "id": "26174ead",
   "metadata": {},
   "outputs": [],
   "source": [
    "\n"
   ]
  },
  {
   "cell_type": "code",
   "execution_count": 277,
   "id": "e4bb6d53",
   "metadata": {},
   "outputs": [
    {
     "name": "stdout",
     "output_type": "stream",
     "text": [
      "Entity types and their weights:\n",
      "Organization: 0.12\n",
      "Person: 0.14\n",
      "Language: 0.16\n",
      "Country: 0.20\n",
      "Event: 0.16\n",
      "Species: 0.12\n",
      "Creative Work: 0.10\n"
     ]
    }
   ],
   "source": [
    "n_id_data = 5_000\n",
    "n_entity_in_text = 3\n",
    "\n",
    "entity_type2entities = entity_type2id_entities\n",
    "entity_type2relations = entity_type2id_relations\n",
    "entity_types = list(entity_type2entities.keys())\n",
    "weights = [len(entity_type2entities[t]) * int(len(entity_type2relations[t]) > 0)  for t in entity_types]\n",
    "weights = [w / sum(weights) for w in weights]\n",
    "\n",
    "print(\"Entity types and their weights:\")\n",
    "for et, w in zip(entity_types, weights):\n",
    "    print(f\"{et}: {w:.2f}\")\n",
    "\n",
    "id_data_input = []\n",
    "while len(id_data_input) < n_id_data:\n",
    "    entity_type = random.choices(entity_types, weights=weights, k=1)[0]\n",
    "    entity_tag = entity_type2tag[entity_type]\n",
    "    subject_type2text_template = entity_type2text_templates[entity_type]\n",
    "    entities = entity_type2entities[entity_type]\n",
    "    \n",
    "    subject_type = random.choice(list(subject_type2ingredients.keys()))\n",
    "    subject_dict = subject_sampler(subject_type2ingredients[subject_type])\n",
    "    subject, gender_type = subject_dict[\"subject\"], subject_dict[\"gender\"]\n",
    "\n",
    "    if len(entities) < n_entity_in_text:\n",
    "        entity_names = np.random.choice(entities, size=n_entity_in_text, replace=True).tolist()\n",
    "    else:\n",
    "        entity_names = np.random.choice(entities, size=n_entity_in_text, replace=False).tolist()\n",
    "    id_data_input.append(\n",
    "        {\n",
    "            \"entity_type\": entity_type,\n",
    "            \"entity_tag\": entity_tag,\n",
    "            \"entity_names\": entity_names,\n",
    "            \"subject_type\": subject_type,\n",
    "            \"subject\": subject,\n",
    "            \"gender_type\": gender_type,\n",
    "        }\n",
    "    )\n",
    "    "
   ]
  },
  {
   "cell_type": "code",
   "execution_count": null,
   "id": "64e9f505",
   "metadata": {},
   "outputs": [],
   "source": []
  },
  {
   "cell_type": "code",
   "execution_count": 278,
   "id": "f22f0289",
   "metadata": {},
   "outputs": [],
   "source": [
    "\n",
    "sampled_template_inputs = []\n",
    "for entity_type in entity_type2text_templates.keys():\n",
    "    entity_tag = entity_type2tag[entity_type]\n",
    "    subject_type2text_template = entity_type2text_templates[entity_type]\n",
    "    entities = entity_type2entities[entity_type]\n",
    "    \n",
    "    # generate a random subject\n",
    "    for subject_type in subject_type2text_template.keys():\n",
    "        # subject_type = random.choice(list(subject_type2ingredients.keys()))\n",
    "        subject_dict = subject_sampler(subject_type2ingredients[subject_type])\n",
    "        subject, gender_type = subject_dict[\"subject\"], subject_dict[\"gender\"]\n",
    "        if len(entities) < n_entity_in_text:\n",
    "            entity_names = np.random.choice(entities, size=n_entity_in_text, replace=True).tolist()\n",
    "        else:\n",
    "            entity_names = np.random.choice(entities, size=n_entity_in_text, replace=False).tolist()\n",
    "        sampled_template_inputs.append(\n",
    "            {\n",
    "                \"entity_type\": entity_type,\n",
    "                \"entity_names\": entity_names,\n",
    "                \"subject_type\": subject_type,\n",
    "                \"subject\": subject,\n",
    "                \"gender_type\": gender_type,\n",
    "            }\n",
    "        )"
   ]
  },
  {
   "cell_type": "code",
   "execution_count": 279,
   "id": "9f4a6db6",
   "metadata": {},
   "outputs": [],
   "source": [
    "# s = 0\n",
    "# for e in entity_type2entities:\n",
    "#     print(e, len(entity_type2all_entities[e]), \"x\", len(entity_type2all_relations[e]), \"=\", len(entity_type2all_entities[e]) * len(entity_type2all_relations[e]))\n",
    "#     s += len(entity_type2all_entities[e]) * len(entity_type2all_relations[e])\n",
    "# print(\"Total:\", s)"
   ]
  },
  {
   "cell_type": "code",
   "execution_count": 280,
   "id": "c47333e2",
   "metadata": {},
   "outputs": [
    {
     "data": {
      "text/plain": [
       "687"
      ]
     },
     "execution_count": 280,
     "metadata": {},
     "output_type": "execute_result"
    }
   ],
   "source": [
    "all_template_entity_pairs = [(r, e) for et in entity_type2entities for r, e in itertools.product(entity_type2relations[et], entity_type2entities[et])]\n",
    "len(all_template_entity_pairs)"
   ]
  },
  {
   "cell_type": "code",
   "execution_count": null,
   "id": "3b679e0c",
   "metadata": {},
   "outputs": [],
   "source": []
  },
  {
   "cell_type": "code",
   "execution_count": 281,
   "id": "87e45649",
   "metadata": {},
   "outputs": [],
   "source": [
    "n_dev = 500\n",
    "n_test = 500\n",
    "n_train = n_id_data - n_dev - n_test\n",
    "\n",
    "train_data_input = id_data_input[:n_train]\n",
    "dev_data_input = id_data_input[n_train:n_train+n_dev]\n",
    "test_data_input = id_data_input[n_train+n_dev:n_train+n_dev+n_test]\n",
    "# assert len(train_data_input) + len(dev_data_input) + len(test_data_input) == n_id_data, f\"{len(train_data_input)} + {len(dev_data_input)} + {len(test_data_input)} != {n_id_data}\""
   ]
  },
  {
   "cell_type": "code",
   "execution_count": 282,
   "id": "1c8df321",
   "metadata": {},
   "outputs": [
    {
     "name": "stdout",
     "output_type": "stream",
     "text": [
      "Saving data to /u/zliu/datastor1/KE-by-CP/data/debug_meta_train/syn_data_neurips/data_100percent\n"
     ]
    }
   ],
   "source": [
    "\n",
    "percent_data_dir = f\"{vars.DATA_DIR}/debug_meta_train/syn_data_neurips/data_{int(id_data_proportion * 100)}percent\"\n",
    "print(f\"Saving data to {percent_data_dir}\")\n",
    "os.makedirs(percent_data_dir, exist_ok=True)"
   ]
  },
  {
   "cell_type": "code",
   "execution_count": null,
   "id": "a8ce574f",
   "metadata": {},
   "outputs": [],
   "source": [
    "# io.dump_jsonlines(train_data_input, f\"{percent_data_dir}/train_inputs_id_entity{n_id_entities}_rel{n_id_relations}.jsonl\")\n",
    "# io.dump_jsonlines(dev_data_input, f\"{percent_data_dir}/valid_inputs_id_entity{n_id_entities}_rel{n_id_relations}.jsonl\")\n",
    "# io.dump_jsonlines(test_data_input, f\"{percent_data_dir}/test_inputs_id_entity{n_id_entities}_rel{n_id_relations}.jsonl\")"
   ]
  },
  {
   "cell_type": "code",
   "execution_count": 284,
   "id": "224aef47",
   "metadata": {},
   "outputs": [],
   "source": [
    "train_data = [generate_text_instance(\n",
    "    **d,\n",
    "    text_template=entity_type2text_templates[d[\"entity_type\"]][d[\"subject_type\"]],\n",
    "    relation_templates=entity_type2relations[d[\"entity_type\"]],\n",
    "    fact_alias_templates=entity_type2aliases[d[\"entity_type\"]][d[\"subject_type\"]],\n",
    "    ) for d in train_data_input]\n",
    "dev_data = [generate_text_instance(\n",
    "    **d,\n",
    "    text_template=entity_type2text_templates[d[\"entity_type\"]][d[\"subject_type\"]],\n",
    "    relation_templates=entity_type2relations[d[\"entity_type\"]],\n",
    "    fact_alias_templates=entity_type2aliases[d[\"entity_type\"]][d[\"subject_type\"]],\n",
    "    ) for d in dev_data_input]\n",
    "test_data = [generate_text_instance(\n",
    "    **d,\n",
    "    text_template=entity_type2text_templates[d[\"entity_type\"]][d[\"subject_type\"]],\n",
    "    relation_templates=entity_type2relations[d[\"entity_type\"]],\n",
    "    fact_alias_templates=entity_type2aliases[d[\"entity_type\"]][d[\"subject_type\"]],\n",
    "    ) for d in test_data_input]\n"
   ]
  },
  {
   "cell_type": "code",
   "execution_count": 291,
   "id": "9ad3578a",
   "metadata": {},
   "outputs": [],
   "source": [
    "# io.dump_jsonlines(train_data, f\"{percent_data_dir}/train_text_data_id_entity{n_id_entities}_rel{n_id_relations}.jsonl\")\n",
    "# io.dump_jsonlines(dev_data, f\"{percent_data_dir}/valid_text_data_id_entity{n_id_entities}_rel{n_id_relations}.jsonl\")\n",
    "# io.dump_jsonlines(test_data, f\"{percent_data_dir}/test_text_data_id_entity{n_id_entities}_rel{n_id_relations}.jsonl\")"
   ]
  },
  {
   "cell_type": "code",
   "execution_count": 286,
   "id": "4c61a949",
   "metadata": {},
   "outputs": [
    {
     "name": "stdout",
     "output_type": "stream",
     "text": [
      "Entity types and their weights:\n",
      "Event: 0.26\n",
      "Country: 0.21\n",
      "Species: 0.21\n",
      "Language: 0.15\n",
      "Organization: 0.03\n",
      "Creative Work: 0.15\n",
      "Person: 0.00\n"
     ]
    }
   ],
   "source": [
    "entity_type2entities = entity_type2ood_entities\n",
    "entity_type2relations = entity_type2ood_relations\n",
    "\n",
    "entity_types = list(entity_type2entities.keys())\n",
    "weights = [len(entity_type2entities[t]) * int(len(entity_type2relations[t]) > 0)  for t in entity_types]\n",
    "weights = [w / sum(weights) for w in weights]\n",
    "print(\"Entity types and their weights:\")\n",
    "for et, w in zip(entity_types, weights):\n",
    "    print(f\"{et}: {w:.2f}\")\n",
    "    \n",
    "n_ood_data = 500\n",
    "ood_data_input = []\n",
    "while len(ood_data_input) < n_ood_data:\n",
    "    entity_type = random.choices(entity_types, weights=weights, k=1)[0]\n",
    "    entity_tag = entity_type2tag[entity_type]\n",
    "    subject_type2text_template = entity_type2text_templates[entity_type]\n",
    "    entities = entity_type2entities[entity_type]\n",
    "    \n",
    "    subject_type = random.choice(list(subject_type2ingredients.keys()))\n",
    "    subject_dict = subject_sampler(subject_type2ingredients[subject_type])\n",
    "    subject, gender_type = subject_dict[\"subject\"], subject_dict[\"gender\"]\n",
    "    if len(entities) < n_entity_in_text:\n",
    "        entity_names = np.random.choice(entities, size=n_entity_in_text, replace=True).tolist()\n",
    "    else:\n",
    "        entity_names = np.random.choice(entities, size=n_entity_in_text, replace=False).tolist()\n",
    "    ood_data_input.append(\n",
    "        {\n",
    "            \"entity_type\": entity_type,\n",
    "            \"entity_tag\": entity_tag,\n",
    "            \"entity_names\": entity_names,\n",
    "            \"subject_type\": subject_type,\n",
    "            \"subject\": subject,\n",
    "            \"gender_type\": gender_type,\n",
    "        }\n",
    "    )"
   ]
  },
  {
   "cell_type": "code",
   "execution_count": 287,
   "id": "18689a75",
   "metadata": {},
   "outputs": [
    {
     "data": {
      "text/plain": [
       "defaultdict(list,\n",
       "            {'Organization': ['Where is the headquarters of {organization} located?'],\n",
       "             'Creative Work': ['Who is the creator of {creative_work}?'],\n",
       "             'Country': ['Which religion has the most followers in {country}?'],\n",
       "             'Species': ['Where is {species} primarily native to?'],\n",
       "             'Event': ['When did {event} take place?',\n",
       "              'What year did {event} end?'],\n",
       "             'Language': ['What is the name of the alphabet or script of {language}?'],\n",
       "             'Person': []})"
      ]
     },
     "execution_count": 287,
     "metadata": {},
     "output_type": "execute_result"
    }
   ],
   "source": [
    "entity_type2relations"
   ]
  },
  {
   "cell_type": "code",
   "execution_count": 288,
   "id": "82cc3b74",
   "metadata": {},
   "outputs": [],
   "source": [
    "import itertools"
   ]
  },
  {
   "cell_type": "code",
   "execution_count": null,
   "id": "a514a95b",
   "metadata": {},
   "outputs": [],
   "source": []
  },
  {
   "cell_type": "code",
   "execution_count": 289,
   "id": "ada0bc67",
   "metadata": {},
   "outputs": [
    {
     "data": {
      "text/plain": [
       "('Where was {organization} established?', 'Toyota')"
      ]
     },
     "execution_count": 289,
     "metadata": {},
     "output_type": "execute_result"
    }
   ],
   "source": [
    "all_template_entity_pairs[0]"
   ]
  },
  {
   "cell_type": "code",
   "execution_count": null,
   "id": "ea3a80bc",
   "metadata": {},
   "outputs": [],
   "source": [
    "# io.dump_jsonlines(ood_data_input, f\"{percent_data_dir}/test_inputs_ood_entity{n_ood_entities}_rel{n_ood_relations}.jsonl\")\n",
    "# ood_data = [generate_text_instance(\n",
    "#     **d,\n",
    "#     text_template=entity_type2text_templates[d[\"entity_type\"]][d[\"subject_type\"]],\n",
    "#     relation_templates=entity_type2relations[d[\"entity_type\"]],\n",
    "#     fact_alias_templates=entity_type2aliases[d[\"entity_type\"]][d[\"subject_type\"]],) for d in ood_data_input]\n",
    "# io.dump_jsonlines(ood_data, f\"{percent_data_dir}/test_text_data_ood_entity{n_ood_entities}_rel{n_ood_relations}.jsonl\")"
   ]
  },
  {
   "cell_type": "code",
   "execution_count": null,
   "id": "44294d00",
   "metadata": {},
   "outputs": [],
   "source": []
  },
  {
   "cell_type": "code",
   "execution_count": 198,
   "id": "a4c4c439",
   "metadata": {},
   "outputs": [
    {
     "data": {
      "text/plain": [
       "0        Person\n",
       "1        Person\n",
       "2        Person\n",
       "3        Person\n",
       "4        Person\n",
       "         ...   \n",
       "1031    Country\n",
       "1032    Country\n",
       "1033    Country\n",
       "1034    Country\n",
       "1035    Country\n",
       "Name: entity_type, Length: 1036, dtype: object"
      ]
     },
     "execution_count": 198,
     "metadata": {},
     "output_type": "execute_result"
    }
   ],
   "source": [
    "finalized_df[\"entity_type\"]"
   ]
  },
  {
   "cell_type": "code",
   "execution_count": null,
   "id": "da433748",
   "metadata": {},
   "outputs": [],
   "source": []
  },
  {
   "cell_type": "code",
   "execution_count": 199,
   "id": "5c646138",
   "metadata": {},
   "outputs": [
    {
     "data": {
      "text/plain": [
       "662"
      ]
     },
     "execution_count": 199,
     "metadata": {},
     "output_type": "execute_result"
    }
   ],
   "source": [
    "len(test_questions)"
   ]
  },
  {
   "cell_type": "code",
   "execution_count": 301,
   "id": "ec81e3bb",
   "metadata": {},
   "outputs": [],
   "source": [
    "finalized_df = pd.read_excel(f\"{vars.DATA_DIR}/debug_meta_train/syn_data_neurips/data_gen/entity_type_name_template_v1_curated_answered_postfiltered.xlsx\",)"
   ]
  },
  {
   "cell_type": "code",
   "execution_count": 304,
   "id": "aac91181",
   "metadata": {},
   "outputs": [],
   "source": [
    "id_knowledge_status_data = []\n",
    "train_questions = set()\n",
    "id_train_data = io.load_jsonlines(f\"/u/zliu/datastor1/KE-by-CP/data/debug_meta_train/syn_data_neurips/data_100percent_frozen/train_text_data_id_entity152_rel31.jsonl\")\n",
    "\n",
    "for d in id_train_data:\n",
    "    for q in d[\"questions\"]:\n",
    "        assert q[\"unalias_question\"] in question2answer\n",
    "        # train_questions.add((q[\"question_template\"], q[\"entity_name\"]))\n",
    "        train_questions.add(q[\"unalias_question\"])\n",
    "            \n",
    "        "
   ]
  },
  {
   "cell_type": "code",
   "execution_count": 305,
   "id": "87f85f35",
   "metadata": {},
   "outputs": [],
   "source": [
    "id_knowledge_status_data = []\n",
    "valid_questions = set()\n",
    "id_valid_data = io.load_jsonlines(f\"/u/zliu/datastor1/KE-by-CP/data/debug_meta_train/syn_data_neurips/data_100percent_frozen/valid_text_data_id_entity152_rel31.jsonl\")\n",
    "\n",
    "for d in id_valid_data:\n",
    "    for q in d[\"questions\"]:\n",
    "        assert q[\"unalias_question\"] in question2answer\n",
    "        # valid_questions.add((q[\"question_template\"], q[\"entity_name\"]))\n",
    "        valid_questions.add(q[\"unalias_question\"])"
   ]
  },
  {
   "cell_type": "code",
   "execution_count": 306,
   "id": "940e6456",
   "metadata": {},
   "outputs": [
    {
     "data": {
      "text/plain": [
       "676"
      ]
     },
     "execution_count": 306,
     "metadata": {},
     "output_type": "execute_result"
    }
   ],
   "source": [
    "id_knowledge_status_data = []\n",
    "test_questions = set()\n",
    "id_test_data = io.load_jsonlines(f\"/u/zliu/datastor1/KE-by-CP/data/debug_meta_train/syn_data_neurips/data_100percent_frozen/test_text_data_id_entity152_rel31.jsonl\")\n",
    "\n",
    "for d in id_test_data:\n",
    "    for q in d[\"questions\"]:\n",
    "        assert q[\"unalias_question\"] in question2answer\n",
    "        # test_questions.add((q[\"question_template\"], q[\"entity_name\"]))\n",
    "        test_questions.add(q[\"unalias_question\"])\n",
    "len(test_questions)"
   ]
  },
  {
   "cell_type": "code",
   "execution_count": 310,
   "id": "842ff9e7",
   "metadata": {},
   "outputs": [],
   "source": [
    "ood_test_data = io.load_jsonlines(f\"/u/zliu/datastor1/KE-by-CP/data/debug_meta_train/syn_data_neurips/data_100percent_frozen/test_text_data_ood_entity37_rel7.jsonl\")\n",
    "ood_test_question = set()\n",
    "for d in ood_test_data:\n",
    "    for q in d[\"questions\"]:\n",
    "        assert q[\"unalias_question\"] in question2answer\n",
    "        # ood_test_question.add((q[\"question_template\"], q[\"entity_name\"]))\n",
    "        ood_test_question.add(q[\"unalias_question\"])"
   ]
  },
  {
   "cell_type": "code",
   "execution_count": 311,
   "id": "39ee7a8b",
   "metadata": {},
   "outputs": [
    {
     "data": {
      "text/html": [
       "<div>\n",
       "<style scoped>\n",
       "    .dataframe tbody tr th:only-of-type {\n",
       "        vertical-align: middle;\n",
       "    }\n",
       "\n",
       "    .dataframe tbody tr th {\n",
       "        vertical-align: top;\n",
       "    }\n",
       "\n",
       "    .dataframe thead th {\n",
       "        text-align: right;\n",
       "    }\n",
       "</style>\n",
       "<table border=\"1\" class=\"dataframe\">\n",
       "  <thead>\n",
       "    <tr style=\"text-align: right;\">\n",
       "      <th></th>\n",
       "      <th>id</th>\n",
       "      <th>predicted_answer_idx</th>\n",
       "      <th>exact_match</th>\n",
       "      <th>llm_accuracy</th>\n",
       "    </tr>\n",
       "  </thead>\n",
       "  <tbody>\n",
       "    <tr>\n",
       "      <th>count</th>\n",
       "      <td>43.000000</td>\n",
       "      <td>43.0</td>\n",
       "      <td>43.000000</td>\n",
       "      <td>43.000000</td>\n",
       "    </tr>\n",
       "    <tr>\n",
       "      <th>mean</th>\n",
       "      <td>3341.325581</td>\n",
       "      <td>0.0</td>\n",
       "      <td>0.627907</td>\n",
       "      <td>0.906977</td>\n",
       "    </tr>\n",
       "    <tr>\n",
       "      <th>std</th>\n",
       "      <td>617.305771</td>\n",
       "      <td>0.0</td>\n",
       "      <td>0.489083</td>\n",
       "      <td>0.177811</td>\n",
       "    </tr>\n",
       "    <tr>\n",
       "      <th>min</th>\n",
       "      <td>915.000000</td>\n",
       "      <td>0.0</td>\n",
       "      <td>0.000000</td>\n",
       "      <td>0.500000</td>\n",
       "    </tr>\n",
       "    <tr>\n",
       "      <th>25%</th>\n",
       "      <td>3141.500000</td>\n",
       "      <td>0.0</td>\n",
       "      <td>0.000000</td>\n",
       "      <td>1.000000</td>\n",
       "    </tr>\n",
       "    <tr>\n",
       "      <th>50%</th>\n",
       "      <td>3454.000000</td>\n",
       "      <td>0.0</td>\n",
       "      <td>1.000000</td>\n",
       "      <td>1.000000</td>\n",
       "    </tr>\n",
       "    <tr>\n",
       "      <th>75%</th>\n",
       "      <td>3573.000000</td>\n",
       "      <td>0.0</td>\n",
       "      <td>1.000000</td>\n",
       "      <td>1.000000</td>\n",
       "    </tr>\n",
       "    <tr>\n",
       "      <th>max</th>\n",
       "      <td>4209.000000</td>\n",
       "      <td>0.0</td>\n",
       "      <td>1.000000</td>\n",
       "      <td>1.000000</td>\n",
       "    </tr>\n",
       "  </tbody>\n",
       "</table>\n",
       "</div>"
      ],
      "text/plain": [
       "                id  predicted_answer_idx  exact_match  llm_accuracy\n",
       "count    43.000000                  43.0    43.000000     43.000000\n",
       "mean   3341.325581                   0.0     0.627907      0.906977\n",
       "std     617.305771                   0.0     0.489083      0.177811\n",
       "min     915.000000                   0.0     0.000000      0.500000\n",
       "25%    3141.500000                   0.0     0.000000      1.000000\n",
       "50%    3454.000000                   0.0     1.000000      1.000000\n",
       "75%    3573.000000                   0.0     1.000000      1.000000\n",
       "max    4209.000000                   0.0     1.000000      1.000000"
      ]
     },
     "execution_count": 311,
     "metadata": {},
     "output_type": "execute_result"
    }
   ],
   "source": [
    "finalized_df[finalized_df[\"question\"].isin(ood_test_question)].describe()"
   ]
  },
  {
   "cell_type": "code",
   "execution_count": 299,
   "id": "a6afa468",
   "metadata": {},
   "outputs": [
    {
     "data": {
      "text/plain": [
       "687"
      ]
     },
     "execution_count": 299,
     "metadata": {},
     "output_type": "execute_result"
    }
   ],
   "source": [
    "len(all_template_entity_pairs)"
   ]
  },
  {
   "cell_type": "code",
   "execution_count": null,
   "id": "f5b81db6",
   "metadata": {},
   "outputs": [
    {
     "data": {
      "text/plain": [
       "687"
      ]
     },
     "execution_count": 300,
     "metadata": {},
     "output_type": "execute_result"
    }
   ],
   "source": [
    "len(train_questions | valid_questions | test_questions)a"
   ]
  },
  {
   "cell_type": "code",
   "execution_count": 223,
   "id": "38188ac6",
   "metadata": {},
   "outputs": [],
   "source": [
    "# id_data = io.load_jsonlines(\"/u/zliu/datastor1/KE-by-CP/data/debug_meta_train/syn_data_neurips/data_100percent/train_inputs_id_entity152_rel31.jsonl\") + io.load_jsonlines(\"/u/zliu/datastor1/KE-by-CP/data/debug_meta_train/syn_data_neurips/data_100percent/valid_inputs_id_entity152_rel31.jsonl\") + io.load_jsonlines(\"/u/zliu/datastor1/KE-by-CP/data/debug_meta_train/syn_data_neurips/data_100percent/test_inputs_id_entity152_rel31.jsonl\")"
   ]
  },
  {
   "cell_type": "code",
   "execution_count": 98,
   "id": "3a0a2c75",
   "metadata": {},
   "outputs": [
    {
     "data": {
      "text/plain": [
       "Counter({'Country': 974,\n",
       "         'Language': 847,\n",
       "         'Event': 766,\n",
       "         'Person': 707,\n",
       "         'Organization': 631,\n",
       "         'Species': 601,\n",
       "         'Creative Work': 474})"
      ]
     },
     "execution_count": 98,
     "metadata": {},
     "output_type": "execute_result"
    }
   ],
   "source": [
    "Counter([d[\"entity_type\"] for d in id_data])"
   ]
  },
  {
   "cell_type": "code",
   "execution_count": 99,
   "id": "6e0abe05",
   "metadata": {},
   "outputs": [],
   "source": [
    "debug_entity2entites = defaultdict(set)\n",
    "for d in id_data:\n",
    "    entity_type = d[\"entity_type\"]\n",
    "    for e in d[\"entity_names\"]:\n",
    "        debug_entity2entites[entity_type].add(e)"
   ]
  },
  {
   "cell_type": "code",
   "execution_count": 103,
   "id": "0195b033",
   "metadata": {},
   "outputs": [
    {
     "data": {
      "text/plain": [
       "152"
      ]
     },
     "execution_count": 103,
     "metadata": {},
     "output_type": "execute_result"
    }
   ],
   "source": [
    "sum([len(debug_entity2entites[et]) for et in debug_entity2entites])\n",
    "# entity generation is fine. So the bug is probably from the question generation"
   ]
  },
  {
   "cell_type": "code",
   "execution_count": 136,
   "id": "478300fe",
   "metadata": {},
   "outputs": [],
   "source": [
    "id_text_data = io.load_jsonlines(\"/u/zliu/datastor1/KE-by-CP/data/debug_meta_train/syn_data_neurips/data_100percent/train_text_data_id_entity152_rel31.jsonl\") + io.load_jsonlines(\"/u/zliu/datastor1/KE-by-CP/data/debug_meta_train/syn_data_neurips/data_100percent/valid_text_data_id_entity152_rel31.jsonl\") + io.load_jsonlines(\"/u/zliu/datastor1/KE-by-CP/data/debug_meta_train/syn_data_neurips/data_100percent/test_text_data_id_entity152_rel31.jsonl\")\n",
    "# id_text_data = train_data + dev_data + test_data"
   ]
  },
  {
   "cell_type": "code",
   "execution_count": 137,
   "id": "2a4d84bc",
   "metadata": {},
   "outputs": [
    {
     "data": {
      "text/plain": [
       "5000"
      ]
     },
     "execution_count": 137,
     "metadata": {},
     "output_type": "execute_result"
    }
   ],
   "source": [
    "len(id_text_data)"
   ]
  },
  {
   "cell_type": "code",
   "execution_count": 138,
   "id": "09a8cfc8",
   "metadata": {},
   "outputs": [
    {
     "data": {
      "text/plain": [
       "10"
      ]
     },
     "execution_count": 138,
     "metadata": {},
     "output_type": "execute_result"
    }
   ],
   "source": [
    "10"
   ]
  },
  {
   "cell_type": "code",
   "execution_count": 139,
   "id": "6190db20",
   "metadata": {},
   "outputs": [],
   "source": [
    "# debug_entity2relations = defaultdict(set)\n",
    "fact_ids = []\n",
    "for d in id_text_data:\n",
    "    entity_type = d[\"entity_type\"]\n",
    "    for q in d[\"questions\"]:\n",
    "        fact_ids.append(q[\"fact_idx\"])\n",
    "        # debug_entity2relations[entity_type].add(q[\"unalias_question\"])\n",
    "        # assert q[\"unalias_question\"] in question2answer\n",
    "        # test_questions.add(q[\"unalias_question\"])"
   ]
  },
  {
   "cell_type": "code",
   "execution_count": 140,
   "id": "f18a98e8",
   "metadata": {},
   "outputs": [
    {
     "data": {
      "text/plain": [
       "Counter({1: 7628, 0: 7462, 2: 7371})"
      ]
     },
     "execution_count": 140,
     "metadata": {},
     "output_type": "execute_result"
    }
   ],
   "source": [
    "Counter(fact_ids)"
   ]
  },
  {
   "cell_type": "code",
   "execution_count": 127,
   "id": "919456ae",
   "metadata": {},
   "outputs": [
    {
     "data": {
      "text/plain": [
       "687"
      ]
     },
     "execution_count": 127,
     "metadata": {},
     "output_type": "execute_result"
    }
   ],
   "source": [
    "sum([len(debug_entity2relations[et]) for et in debug_entity2relations])\n"
   ]
  },
  {
   "cell_type": "code",
   "execution_count": null,
   "id": "5e76ccab",
   "metadata": {},
   "outputs": [],
   "source": []
  },
  {
   "cell_type": "code",
   "execution_count": 111,
   "id": "d430bc12",
   "metadata": {},
   "outputs": [
    {
     "data": {
      "text/plain": [
       "1036"
      ]
     },
     "execution_count": 111,
     "metadata": {},
     "output_type": "execute_result"
    }
   ],
   "source": [
    "len(finalized_df[\"question\"].unique())"
   ]
  },
  {
   "cell_type": "code",
   "execution_count": 65,
   "id": "94efd306",
   "metadata": {},
   "outputs": [
    {
     "data": {
      "text/html": [
       "<div>\n",
       "<style scoped>\n",
       "    .dataframe tbody tr th:only-of-type {\n",
       "        vertical-align: middle;\n",
       "    }\n",
       "\n",
       "    .dataframe tbody tr th {\n",
       "        vertical-align: top;\n",
       "    }\n",
       "\n",
       "    .dataframe thead th {\n",
       "        text-align: right;\n",
       "    }\n",
       "</style>\n",
       "<table border=\"1\" class=\"dataframe\">\n",
       "  <thead>\n",
       "    <tr style=\"text-align: right;\">\n",
       "      <th></th>\n",
       "      <th>id</th>\n",
       "      <th>predicted_answer_idx</th>\n",
       "      <th>exact_match</th>\n",
       "      <th>llm_accuracy</th>\n",
       "    </tr>\n",
       "  </thead>\n",
       "  <tbody>\n",
       "    <tr>\n",
       "      <th>count</th>\n",
       "      <td>655.000000</td>\n",
       "      <td>655.0</td>\n",
       "      <td>655.000000</td>\n",
       "      <td>655.00000</td>\n",
       "    </tr>\n",
       "    <tr>\n",
       "      <th>mean</th>\n",
       "      <td>2644.619847</td>\n",
       "      <td>0.0</td>\n",
       "      <td>0.720611</td>\n",
       "      <td>0.95313</td>\n",
       "    </tr>\n",
       "    <tr>\n",
       "      <th>std</th>\n",
       "      <td>1459.927963</td>\n",
       "      <td>0.0</td>\n",
       "      <td>0.449042</td>\n",
       "      <td>0.12034</td>\n",
       "    </tr>\n",
       "    <tr>\n",
       "      <th>min</th>\n",
       "      <td>93.000000</td>\n",
       "      <td>0.0</td>\n",
       "      <td>0.000000</td>\n",
       "      <td>0.50000</td>\n",
       "    </tr>\n",
       "    <tr>\n",
       "      <th>25%</th>\n",
       "      <td>1140.500000</td>\n",
       "      <td>0.0</td>\n",
       "      <td>0.000000</td>\n",
       "      <td>1.00000</td>\n",
       "    </tr>\n",
       "    <tr>\n",
       "      <th>50%</th>\n",
       "      <td>3088.000000</td>\n",
       "      <td>0.0</td>\n",
       "      <td>1.000000</td>\n",
       "      <td>1.00000</td>\n",
       "    </tr>\n",
       "    <tr>\n",
       "      <th>75%</th>\n",
       "      <td>3949.500000</td>\n",
       "      <td>0.0</td>\n",
       "      <td>1.000000</td>\n",
       "      <td>1.00000</td>\n",
       "    </tr>\n",
       "    <tr>\n",
       "      <th>max</th>\n",
       "      <td>4446.000000</td>\n",
       "      <td>0.0</td>\n",
       "      <td>1.000000</td>\n",
       "      <td>1.00000</td>\n",
       "    </tr>\n",
       "  </tbody>\n",
       "</table>\n",
       "</div>"
      ],
      "text/plain": [
       "                id  predicted_answer_idx  exact_match  llm_accuracy\n",
       "count   655.000000                 655.0   655.000000     655.00000\n",
       "mean   2644.619847                   0.0     0.720611       0.95313\n",
       "std    1459.927963                   0.0     0.449042       0.12034\n",
       "min      93.000000                   0.0     0.000000       0.50000\n",
       "25%    1140.500000                   0.0     0.000000       1.00000\n",
       "50%    3088.000000                   0.0     1.000000       1.00000\n",
       "75%    3949.500000                   0.0     1.000000       1.00000\n",
       "max    4446.000000                   0.0     1.000000       1.00000"
      ]
     },
     "execution_count": 65,
     "metadata": {},
     "output_type": "execute_result"
    }
   ],
   "source": [
    "finalized_df[finalized_df[\"question\"].isin(questions)].describe()"
   ]
  },
  {
   "cell_type": "code",
   "execution_count": null,
   "id": "85480bef",
   "metadata": {},
   "outputs": [
    {
     "data": {
      "text/plain": [
       "655"
      ]
     },
     "execution_count": 66,
     "metadata": {},
     "output_type": "execute_result"
    }
   ],
   "source": [
    "len(questions)"
   ]
  },
  {
   "cell_type": "code",
   "execution_count": null,
   "id": "a5463248",
   "metadata": {},
   "outputs": [],
   "source": []
  },
  {
   "cell_type": "code",
   "execution_count": 572,
   "id": "d95eadfd",
   "metadata": {},
   "outputs": [],
   "source": [
    "# new_eos_sft_df.drop(columns=[\"llm_accuracy\"], inplace=True)"
   ]
  },
  {
   "cell_type": "code",
   "execution_count": null,
   "id": "fc4c85f3",
   "metadata": {},
   "outputs": [],
   "source": []
  },
  {
   "cell_type": "code",
   "execution_count": 580,
   "id": "6c6fe875",
   "metadata": {},
   "outputs": [],
   "source": [
    "# len(entity_type_name_template_answered_df_filtered_shorten.iloc[20145][\"answer\"])"
   ]
  },
  {
   "cell_type": "code",
   "execution_count": null,
   "id": "11490345",
   "metadata": {},
   "outputs": [],
   "source": []
  },
  {
   "cell_type": "markdown",
   "id": "ec79cfa2",
   "metadata": {},
   "source": [
    "# measure llama3.2-1B-base model performance"
   ]
  },
  {
   "cell_type": "code",
   "execution_count": 38,
   "id": "5522fe01",
   "metadata": {},
   "outputs": [],
   "source": [
    "# eos_sft_df = pd.read_excel(\"/u/zliu/datastor1/mend/debug_exp_output/llama3.2-1B-eos-sft/syn_data_neurips_prefilter/base_n=17461_prompt=no_w-gen_wo-icl_ice=False.xlsx\")\n",
    "# eos_sft_df = pd.read_excel(\"/datastor1/zliu/mend/debug_exp_output/llama3.2-1B-eos-sft-template-format-lr2e-6-sample-5/syn_data_neurips_prefilter/base_n=17461_prompt=no_w-gen_wo-icl_ice=False.xlsx\")\n",
    "# eos_sft_df = pd.read_excel(\"/datastor1/zliu/mend/debug_exp_output/llama3.2-1B-eos-sft-template-format-lr2e-6-sample-10/syn_data_neurips_prefilter/base_n=17461_prompt=no_w-gen_wo-icl_ice=False.xlsx\")\n",
    "eos_sft_df = pd.read_excel(\"/datastor1/zliu/mend/debug_exp_output/llama3.2-1B-eos-sft-template-format-curated-v1-lr2e-6-sample-10/syn_data_neurips_curated_prefilter/base_n=4856_prompt=no_w-gen_wo-icl_ice=False.xlsx\")"
   ]
  },
  {
   "cell_type": "code",
   "execution_count": 39,
   "id": "c9fd8307",
   "metadata": {},
   "outputs": [],
   "source": [
    "# pd.read_excel(\"/datastor1/zliu/mend/debug_exp_output/llama3.2-1B-eos-sft-template-format-v2-lr2e-6-sample-10/syn_data_neurips_prefilter_v2/base_n=19945_prompt=no_w-gen_wo-icl_ice=False.xlsx.bak\").describe()"
   ]
  },
  {
   "cell_type": "code",
   "execution_count": 40,
   "id": "438fb569",
   "metadata": {},
   "outputs": [],
   "source": [
    "llm_threshold = 0.4"
   ]
  },
  {
   "cell_type": "code",
   "execution_count": 41,
   "id": "5a46a781",
   "metadata": {},
   "outputs": [
    {
     "data": {
      "text/html": [
       "<div>\n",
       "<style scoped>\n",
       "    .dataframe tbody tr th:only-of-type {\n",
       "        vertical-align: middle;\n",
       "    }\n",
       "\n",
       "    .dataframe tbody tr th {\n",
       "        vertical-align: top;\n",
       "    }\n",
       "\n",
       "    .dataframe thead th {\n",
       "        text-align: right;\n",
       "    }\n",
       "</style>\n",
       "<table border=\"1\" class=\"dataframe\">\n",
       "  <thead>\n",
       "    <tr style=\"text-align: right;\">\n",
       "      <th></th>\n",
       "      <th>id</th>\n",
       "      <th>predicted_answer_idx</th>\n",
       "      <th>exact_match</th>\n",
       "      <th>llm_accuracy</th>\n",
       "    </tr>\n",
       "  </thead>\n",
       "  <tbody>\n",
       "    <tr>\n",
       "      <th>count</th>\n",
       "      <td>4856.000000</td>\n",
       "      <td>4856.0</td>\n",
       "      <td>4856.000000</td>\n",
       "      <td>4856.000000</td>\n",
       "    </tr>\n",
       "    <tr>\n",
       "      <th>mean</th>\n",
       "      <td>2427.500000</td>\n",
       "      <td>0.0</td>\n",
       "      <td>0.467257</td>\n",
       "      <td>0.696829</td>\n",
       "    </tr>\n",
       "    <tr>\n",
       "      <th>std</th>\n",
       "      <td>1401.950784</td>\n",
       "      <td>0.0</td>\n",
       "      <td>0.498978</td>\n",
       "      <td>0.400008</td>\n",
       "    </tr>\n",
       "    <tr>\n",
       "      <th>min</th>\n",
       "      <td>0.000000</td>\n",
       "      <td>0.0</td>\n",
       "      <td>0.000000</td>\n",
       "      <td>0.000000</td>\n",
       "    </tr>\n",
       "    <tr>\n",
       "      <th>25%</th>\n",
       "      <td>1213.750000</td>\n",
       "      <td>0.0</td>\n",
       "      <td>0.000000</td>\n",
       "      <td>0.300000</td>\n",
       "    </tr>\n",
       "    <tr>\n",
       "      <th>50%</th>\n",
       "      <td>2427.500000</td>\n",
       "      <td>0.0</td>\n",
       "      <td>0.000000</td>\n",
       "      <td>1.000000</td>\n",
       "    </tr>\n",
       "    <tr>\n",
       "      <th>75%</th>\n",
       "      <td>3641.250000</td>\n",
       "      <td>0.0</td>\n",
       "      <td>1.000000</td>\n",
       "      <td>1.000000</td>\n",
       "    </tr>\n",
       "    <tr>\n",
       "      <th>max</th>\n",
       "      <td>4855.000000</td>\n",
       "      <td>0.0</td>\n",
       "      <td>1.000000</td>\n",
       "      <td>1.000000</td>\n",
       "    </tr>\n",
       "  </tbody>\n",
       "</table>\n",
       "</div>"
      ],
      "text/plain": [
       "                id  predicted_answer_idx  exact_match  llm_accuracy\n",
       "count  4856.000000                4856.0  4856.000000   4856.000000\n",
       "mean   2427.500000                   0.0     0.467257      0.696829\n",
       "std    1401.950784                   0.0     0.498978      0.400008\n",
       "min       0.000000                   0.0     0.000000      0.000000\n",
       "25%    1213.750000                   0.0     0.000000      0.300000\n",
       "50%    2427.500000                   0.0     0.000000      1.000000\n",
       "75%    3641.250000                   0.0     1.000000      1.000000\n",
       "max    4855.000000                   0.0     1.000000      1.000000"
      ]
     },
     "execution_count": 41,
     "metadata": {},
     "output_type": "execute_result"
    }
   ],
   "source": [
    "eos_sft_df.describe()"
   ]
  },
  {
   "cell_type": "code",
   "execution_count": 42,
   "id": "2d3ec0fe",
   "metadata": {},
   "outputs": [
    {
     "data": {
      "text/plain": [
       "3432"
      ]
     },
     "execution_count": 42,
     "metadata": {},
     "output_type": "execute_result"
    }
   ],
   "source": [
    "len(eos_sft_df[eos_sft_df[\"llm_accuracy\"] > llm_threshold])"
   ]
  },
  {
   "cell_type": "code",
   "execution_count": 43,
   "id": "72744f64",
   "metadata": {},
   "outputs": [],
   "source": [
    "eos_sft_df_filtered = eos_sft_df[eos_sft_df[\"llm_accuracy\"] > llm_threshold]"
   ]
  },
  {
   "cell_type": "code",
   "execution_count": 44,
   "id": "fa8f8e17",
   "metadata": {},
   "outputs": [],
   "source": [
    "# Counter(eos_sft_df[eos_sft_df[\"template\"] == \"Where was {invention} created?\"][\"answer\"])"
   ]
  },
  {
   "cell_type": "code",
   "execution_count": 45,
   "id": "7daecb3f",
   "metadata": {},
   "outputs": [
    {
     "data": {
      "text/html": [
       "<div>\n",
       "<style scoped>\n",
       "    .dataframe tbody tr th:only-of-type {\n",
       "        vertical-align: middle;\n",
       "    }\n",
       "\n",
       "    .dataframe tbody tr th {\n",
       "        vertical-align: top;\n",
       "    }\n",
       "\n",
       "    .dataframe thead th {\n",
       "        text-align: right;\n",
       "    }\n",
       "</style>\n",
       "<table border=\"1\" class=\"dataframe\">\n",
       "  <thead>\n",
       "    <tr style=\"text-align: right;\">\n",
       "      <th></th>\n",
       "      <th>id</th>\n",
       "      <th>predicted_answer_idx</th>\n",
       "      <th>exact_match</th>\n",
       "      <th>llm_accuracy</th>\n",
       "    </tr>\n",
       "  </thead>\n",
       "  <tbody>\n",
       "    <tr>\n",
       "      <th>count</th>\n",
       "      <td>3432.000000</td>\n",
       "      <td>3432.0</td>\n",
       "      <td>3432.000000</td>\n",
       "      <td>3432.000000</td>\n",
       "    </tr>\n",
       "    <tr>\n",
       "      <th>mean</th>\n",
       "      <td>2504.935606</td>\n",
       "      <td>0.0</td>\n",
       "      <td>0.661131</td>\n",
       "      <td>0.939103</td>\n",
       "    </tr>\n",
       "    <tr>\n",
       "      <th>std</th>\n",
       "      <td>1447.663180</td>\n",
       "      <td>0.0</td>\n",
       "      <td>0.473394</td>\n",
       "      <td>0.132056</td>\n",
       "    </tr>\n",
       "    <tr>\n",
       "      <th>min</th>\n",
       "      <td>13.000000</td>\n",
       "      <td>0.0</td>\n",
       "      <td>0.000000</td>\n",
       "      <td>0.500000</td>\n",
       "    </tr>\n",
       "    <tr>\n",
       "      <th>25%</th>\n",
       "      <td>1248.750000</td>\n",
       "      <td>0.0</td>\n",
       "      <td>0.000000</td>\n",
       "      <td>1.000000</td>\n",
       "    </tr>\n",
       "    <tr>\n",
       "      <th>50%</th>\n",
       "      <td>2534.500000</td>\n",
       "      <td>0.0</td>\n",
       "      <td>1.000000</td>\n",
       "      <td>1.000000</td>\n",
       "    </tr>\n",
       "    <tr>\n",
       "      <th>75%</th>\n",
       "      <td>3825.500000</td>\n",
       "      <td>0.0</td>\n",
       "      <td>1.000000</td>\n",
       "      <td>1.000000</td>\n",
       "    </tr>\n",
       "    <tr>\n",
       "      <th>max</th>\n",
       "      <td>4854.000000</td>\n",
       "      <td>0.0</td>\n",
       "      <td>1.000000</td>\n",
       "      <td>1.000000</td>\n",
       "    </tr>\n",
       "  </tbody>\n",
       "</table>\n",
       "</div>"
      ],
      "text/plain": [
       "                id  predicted_answer_idx  exact_match  llm_accuracy\n",
       "count  3432.000000                3432.0  3432.000000   3432.000000\n",
       "mean   2504.935606                   0.0     0.661131      0.939103\n",
       "std    1447.663180                   0.0     0.473394      0.132056\n",
       "min      13.000000                   0.0     0.000000      0.500000\n",
       "25%    1248.750000                   0.0     0.000000      1.000000\n",
       "50%    2534.500000                   0.0     1.000000      1.000000\n",
       "75%    3825.500000                   0.0     1.000000      1.000000\n",
       "max    4854.000000                   0.0     1.000000      1.000000"
      ]
     },
     "execution_count": 45,
     "metadata": {},
     "output_type": "execute_result"
    }
   ],
   "source": [
    "eos_sft_df_filtered.describe()"
   ]
  },
  {
   "cell_type": "code",
   "execution_count": 46,
   "id": "1833018a",
   "metadata": {},
   "outputs": [
    {
     "data": {
      "text/plain": [
       "Text(0.5, 1.0, 'LLM Accuracy Distribution (without filtering)')"
      ]
     },
     "execution_count": 46,
     "metadata": {},
     "output_type": "execute_result"
    },
    {
     "data": {
      "image/png": "[encoded data removed]",
      "text/plain": [
       "<Figure size 640x480 with 1 Axes>"
      ]
     },
     "metadata": {},
     "output_type": "display_data"
    }
   ],
   "source": [
    "plt.hist(eos_sft_df[\"llm_accuracy\"])\n",
    "plt.xlabel(\"LLM Accuracy\")\n",
    "plt.ylabel(\"# question\")\n",
    "plt.title(\"LLM Accuracy Distribution (without filtering)\")"
   ]
  },
  {
   "cell_type": "code",
   "execution_count": 47,
   "id": "9477cecd",
   "metadata": {},
   "outputs": [
    {
     "data": {
      "text/plain": [
       "4856"
      ]
     },
     "execution_count": 47,
     "metadata": {},
     "output_type": "execute_result"
    }
   ],
   "source": [
    "len(eos_sft_df[\"answer\"].to_list())"
   ]
  },
  {
   "cell_type": "code",
   "execution_count": 48,
   "id": "95f08a6b",
   "metadata": {},
   "outputs": [
    {
     "data": {
      "text/plain": [
       "[54, 32929, 11, 1650, 54967, 388, 11, 43448, 11, 15749]"
      ]
     },
     "execution_count": 48,
     "metadata": {},
     "output_type": "execute_result"
    }
   ],
   "source": [
    "vars.GPT_4_TOKENIZER(\"Writers, calligraphers, enthusiasts, professionals\")"
   ]
  },
  {
   "cell_type": "code",
   "execution_count": 49,
   "id": "35334487",
   "metadata": {},
   "outputs": [
    {
     "data": {
      "text/plain": [
       "['Destruction of the World Trade Center and Pentagon, mass casualties, and the War on Terror began']"
      ]
     },
     "execution_count": 49,
     "metadata": {},
     "output_type": "execute_result"
    }
   ],
   "source": [
    "[a for a in eos_sft_df_filtered[\"answer\"].to_list() if len(a) == 96]"
   ]
  },
  {
   "cell_type": "code",
   "execution_count": 50,
   "id": "06e42394",
   "metadata": {},
   "outputs": [
    {
     "data": {
      "text/plain": [
       "['Christian (Anglican/Episcopalian)',\n",
       " 'Christianity (Catholicism, then Protestantism)',\n",
       " 'Colombey-les-Deux-Églises, France',\n",
       " 'Woolsthorpe, Lincolnshire, England',\n",
       " 'Gwanak-gu, Seoul, South Korea',\n",
       " 'Ingrid Newkirk and Alex Pacheco',\n",
       " 'Thomas Edison, Charles A. Coffin, Elihu Thomson, Edwin J. Houston',\n",
       " 'Steve Jobs, Steve Wozniak, and Ronald Wayne',\n",
       " 'Robert Wood Johnson, James Wood Johnson, and Edward Mead Johnson',\n",
       " 'Pharmaceuticals, medical devices, consumer health products',\n",
       " 'Navigators, hikers, sailors, surveyors',\n",
       " 'Military, emergency services, law enforcement, executives, media',\n",
       " 'Commuters, recreational riders, athletes, delivery workers',\n",
       " 'Students, teachers, engineers, accountants, scientists',\n",
       " 'Bell Labs (Daryl Chapin, Calvin Fuller, Gerald Pearson)',\n",
       " '1605 (Part I), 1615 (Part II)',\n",
       " 'Carnivorous: fish, birds, mammals, reptiles, amphibians',\n",
       " 'Omnivorous; eats plants, insects, and carrion',\n",
       " 'Leaves, shoots, fruits, and flowers of trees',\n",
       " 'Crustaceans, mollusks, algae, and small invertebrates',\n",
       " 'Carnivorous; eats insects and small animals',\n",
       " 'Aquatic plants, algae, insects, small fish',\n",
       " 'Carnivorous, mainly small to medium ungulates',\n",
       " 'Leaves, buds, grasses, fruits, fungi',\n",
       " 'Carnivorous: fish, birds, mammals',\n",
       " 'Mostly fruit, leaves, bark, and insects',\n",
       " 'Herbivorous, mainly grasses and leaves',\n",
       " 'Carnivorous, mainly deer and small mammals',\n",
       " 'Fish, seals, sea lions, dolphins, carrion',\n",
       " 'Fish, amphibians, birds, mammals, invertebrates',\n",
       " 'Grasses, leaves, bark, fruit, roots',\n",
       " 'Crustaceans, mollusks, small fish',\n",
       " 'Fruits, leaves, flowers, insects, small animals',\n",
       " 'Carnivorous; eat deer, pigs, buffalo, and small animals',\n",
       " 'Crustaceans, fish, and mollusks',\n",
       " 'Herbivorous; mainly grasses, fruits, vegetables',\n",
       " 'Carnivorous, mainly medium-sized ungulates',\n",
       " 'Herbivorous; eats grasses, leaves, stems',\n",
       " 'Herbivorous; grasses, leaves, shoots, fruits',\n",
       " 'Omnivorous: fruits, leaves, seeds, flowers, insects',\n",
       " 'Insects, worms, snails, fruits, small animals',\n",
       " 'Small fish, crustaceans, mollusks',\n",
       " 'Carnivorous, mainly deer and wild boar',\n",
       " 'Carnivorous; eats mammals, birds, carrion, and berries',\n",
       " 'Carnivorous; mainly deer, boar, elk',\n",
       " 'Mammals, birds, reptiles, insects',\n",
       " 'Carnivorous, mainly mammals, reptiles, birds',\n",
       " 'Carnivorous; mainly deer and wild boar',\n",
       " 'Herbivorous: leaves, fruits, grasses',\n",
       " 'Small mammals, birds, amphibians, reptiles, insects',\n",
       " 'Herbivorous; eats leaves, twigs, bark, aquatic plants',\n",
       " 'Solitary with loose hierarchies in mating season',\n",
       " 'Solitary, except during mating and rearing young',\n",
       " 'Generally solitary, but may congregate at food or basking sites',\n",
       " 'Solitary, except mothers with cubs or during mating',\n",
       " 'Solitary except during mating and mother-offspring periods',\n",
       " 'Mostly solitary, occasional groups for feeding or mating',\n",
       " 'Matriarchal family groups led by an older female',\n",
       " 'Matriarchal female herds and male bachelor groups',\n",
       " 'Hierarchical prides led by females and a few males',\n",
       " 'Solitary, except during mating or with cubs',\n",
       " 'Mostly solitary, with brief social interactions during mating',\n",
       " 'Solitary, except during mating or cow-calf pairs',\n",
       " 'Virunga Mountains and Bwindi Forest, Central Africa',\n",
       " 'Hiragana, Katakana, and Kanji',\n",
       " 'Cyrillic, Latin (in transition)',\n",
       " 'Kanji, Hiragana, and Katakana',\n",
       " \"Hernán Cortés's quest for wealth and power\",\n",
       " \"Martin Luther's 1517 Ninety-five Theses\",\n",
       " 'It was torpedoed by a German U-boat',\n",
       " \"Discovery of gold at Sutter's Mill in 1848\",\n",
       " \"Julius Caesar's siege of Alexandria in 48 BCE\",\n",
       " 'Charges of impiety and corrupting the youth',\n",
       " 'Capture of Jerusalem by Crusaders (1099)',\n",
       " 'Abolition of the monarchy; First French Republic established',\n",
       " 'Haitian independence from France (1804)',\n",
       " 'Armistice and division at the 38th parallel',\n",
       " 'Over 1,500 died and the ship sank',\n",
       " 'Galileo was found guilty of heresy and placed under house arrest',\n",
       " 'Decisive US victory, sinking four Japanese carriers',\n",
       " 'Overthrow of Tsarist autocracy; Bolshevik takeover',\n",
       " 'Allied victory, Axis defeat (1945)',\n",
       " 'Byzantine Empire ended; Ottomans took Constantinople',\n",
       " 'Defeat of Central Powers and Treaty of Versailles',\n",
       " 'Destruction of the Second Temple and Roman capture of Jerusalem',\n",
       " 'Destruction of the World Trade Center and Pentagon, mass casualties, and the War on Terror began',\n",
       " 'Late 18th to early 19th century',\n",
       " '1839–1842 and 1856–1860',\n",
       " 'Late 18th to early 19th century',\n",
       " 'December 5, 1955 to December 20, 1956',\n",
       " 'Europe, Mediterranean, Atlantic, North Africa, Middle East',\n",
       " 'Worldwide, especially Europe, Asia, and the Americas',\n",
       " 'Zhu Yuanzhang (Emperor Hongwu)',\n",
       " 'Christianity (Armenian Apostolic Church)']"
      ]
     },
     "execution_count": 50,
     "metadata": {},
     "output_type": "execute_result"
    }
   ],
   "source": [
    "[a for a in eos_sft_df_filtered[\"answer\"].to_list() if len(vars.GPT_4_TOKENIZER(str(a))) >= 10]"
   ]
  },
  {
   "cell_type": "code",
   "execution_count": null,
   "id": "4900cfd8",
   "metadata": {},
   "outputs": [],
   "source": []
  },
  {
   "cell_type": "code",
   "execution_count": 52,
   "id": "8819c9b1",
   "metadata": {},
   "outputs": [],
   "source": [
    "# [a for a in eos_sft_df[\"answer\"].to_list() if len(str(a)) == 30]"
   ]
  },
  {
   "cell_type": "code",
   "execution_count": 53,
   "id": "27ce933a",
   "metadata": {},
   "outputs": [
    {
     "data": {
      "text/plain": [
       "Text(0.5, 1.0, 'Answer Length Distribution (without filtering)')"
      ]
     },
     "execution_count": 53,
     "metadata": {},
     "output_type": "execute_result"
    },
    {
     "data": {
      "image/png": "[encoded data removed]",
      "text/plain": [
       "<Figure size 640x480 with 1 Axes>"
      ]
     },
     "metadata": {},
     "output_type": "display_data"
    }
   ],
   "source": [
    "plt.hist([float(len(str(a))) for a in eos_sft_df[\"answer\"].to_list()])\n",
    "plt.xlabel(\"Answer Length\")\n",
    "plt.ylabel(\"# question\")\n",
    "plt.title(\"Answer Length Distribution (without filtering)\")"
   ]
  },
  {
   "cell_type": "code",
   "execution_count": 122,
   "id": "5198c8dd",
   "metadata": {},
   "outputs": [],
   "source": [
    "eos_entity_type2count = {}\n",
    "eos_entity_type2acc = {}\n",
    "eos_entity_type2length = {}\n",
    "eos_template2entity_names = defaultdict(list)\n",
    "\n",
    "for i, d in eos_sft_df_filtered.iterrows():\n",
    "    if d[\"entity_type\"] not in eos_entity_type2count:\n",
    "        eos_entity_type2count[d[\"entity_type\"]] = defaultdict(int)\n",
    "        eos_entity_type2acc[d[\"entity_type\"]] = defaultdict(int)\n",
    "        eos_entity_type2length[d[\"entity_type\"]] = defaultdict(int)\n",
    "        \n",
    "    eos_entity_type2count[d[\"entity_type\"]][d[\"template\"]] += 1\n",
    "    eos_template2entity_names[d[\"template\"]].append(d[\"entity_name\"])\n",
    "    eos_entity_type2acc[d[\"entity_type\"]][d[\"template\"]] += d[\"llm_accuracy\"]\n",
    "    eos_entity_type2length[d[\"entity_type\"]][d[\"template\"]] += len(vars.GPT_4_TOKENIZER(str(d[\"answer\"]).strip()))\n",
    "        "
   ]
  },
  {
   "cell_type": "code",
   "execution_count": 178,
   "id": "adfcfaf4",
   "metadata": {},
   "outputs": [],
   "source": [
    "# bad_question_templates = [\"How many children did {person} have?\", \"What language family does {language} belong to?\", \"What is the national flower of {country}?\", \"When did {country} join the United Nations?\", \"What triggered {event}?\", \"What is the national anthem of {country} called?\", \"What is the date of {country}’s national day or independence day?\", \"What is the founding year of {country}?\", \"What legal system does {country} use?\", \"Which side is considered to have \\\"won\\\" {event}?\", \"What is the diet of {species}?\"]\n",
    "bad_question_templates = []\n",
    "bad_entity_types = []"
   ]
  },
  {
   "cell_type": "code",
   "execution_count": 179,
   "id": "6111d4e6",
   "metadata": {},
   "outputs": [],
   "source": [
    "# eos_template2entity_names"
   ]
  },
  {
   "cell_type": "code",
   "execution_count": 180,
   "id": "cfd70840",
   "metadata": {},
   "outputs": [
    {
     "name": "stdout",
     "output_type": "stream",
     "text": [
      "Person\n",
      "How many children did {person} have? : 0.9411764705882353 (count=17)\n",
      "What is the religion of {person}? : 0.9262295081967216 (count=61)\n",
      "What language was primarily spoken by {person}? : 0.9800000000000001 (count=80)\n",
      "What occupation is {person} most well-known for? : 0.9102272727272728 (count=88)\n",
      "What year did {person} pass away? : 1.0 (count=81)\n",
      "What year was {person} born? : 1.0 (count=78)\n",
      "Where did {person} die? : 0.9596153846153849 (count=52)\n",
      "Where was the birthplace of {person}? : 0.9384615384615387 (count=65)\n",
      "============================================================\n",
      "Organization\n",
      "In what year was {organization} established? : 0.993421052631579 (count=76)\n",
      "Where is the headquarters of {organization} located? : 0.9902173913043479 (count=92)\n",
      "Where was {organization} established? : 0.9833333333333335 (count=90)\n",
      "Who established {organization}? : 0.9054054054054054 (count=37)\n",
      "What is the primary field or industry of {organization}? : 0.9009615384615388 (count=104)\n",
      "What primary service or product does {organization} provide? : 0.8824074074074078 (count=108)\n",
      "============================================================\n",
      "Product\n",
      "What is the primary function of {product}? : 0.8656862745098044 (count=102)\n",
      "Who are the primary users of {product}? : 0.7710843373493984 (count=83)\n",
      "Who was the main inventor of {product}? : 0.9324999999999999 (count=40)\n",
      "When was {product} first introduced? : 0.9 (count=50)\n",
      "Where was {product} developed? : 0.9765957446808511 (count=47)\n",
      "============================================================\n",
      "Creative Work\n",
      "What is the original language of {creative_work}? : 1.0 (count=106)\n",
      "What is the genre or of {creative_work}? : 0.7871794871794877 (count=78)\n",
      "When was {creative_work} released or published? : 0.9383333333333334 (count=60)\n",
      "Who is the creator of {creative_work}? : 0.9839080459770114 (count=87)\n",
      "Where was {creative_work} produced or created? : 0.9337662337662338 (count=77)\n",
      "In which country was {creative_work} first released or published? : 1.0 (count=90)\n",
      "Who was the original distributor or publisher of {creative_work}? : 0.9923076923076923 (count=39)\n",
      "============================================================\n",
      "Species\n",
      "What is the diet of {species}? : 0.6931034482758623 (count=58)\n",
      "What is the social structure of {species}? : 0.829508196721312 (count=61)\n",
      "What type of organism is this {species}? : 0.9532467532467533 (count=77)\n",
      "Where is {species} primarily native to? : 0.8032258064516135 (count=62)\n",
      "What is the primary threat to {species}? : 0.8869565217391308 (count=69)\n",
      "============================================================\n",
      "Language\n",
      "What is the ISO 639‑1 code for {language}? : 1.0 (count=39)\n",
      "What is the name of the alphabet or script of {language}? : 0.973529411764706 (count=34)\n",
      "What is the primary word order in {language}? : 1.0 (count=27)\n",
      "What language family does {language} belong to? : 0.99 (count=30)\n",
      "What region is {language} native to? : 0.8999999999999999 (count=33)\n",
      "What writing system is used by {language}? : 0.9742857142857141 (count=35)\n",
      "============================================================\n",
      "Event\n",
      "What triggered {event}? : 0.8853658536585365 (count=41)\n",
      "What was the immediate outcome of {event}? : 0.834782608695652 (count=46)\n",
      "What year did {event} end? : 1.0 (count=77)\n",
      "When did {event} take place? : 0.9168539325842701 (count=89)\n",
      "Where did {event} happen? : 0.9087500000000006 (count=80)\n",
      "Which side is considered to have \"won\" {event}? : 0.9822580645161291 (count=62)\n",
      "Who was the most important leader or figure involved in {event}? : 0.9952380952380953 (count=63)\n",
      "============================================================\n",
      "Country\n",
      "What is the capital of {country}? : 1.0 (count=75)\n",
      "What language in {country} has the most speakers? : 0.9925373134328358 (count=67)\n",
      "What is the currency of {country}? : 0.983783783783784 (count=74)\n",
      "Which ethnic group is the largest in {country}? : 0.9941176470588236 (count=51)\n",
      "Which religion has the most followers in {country}? : 0.9671428571428574 (count=70)\n",
      "What is the top-level internet domain for {country}? : 1.0 (count=75)\n",
      "What is the calling code for {country}? : 1.0 (count=74)\n",
      "What is the ISO alpha-2 code for {country}? : 1.0 (count=75)\n",
      "============================================================\n"
     ]
    }
   ],
   "source": [
    "counts = []\n",
    "spotcheck_df_content = []\n",
    "count_threshold = 0\n",
    "entity_type2template_count = defaultdict(int)\n",
    "\n",
    "\n",
    "for entity_type in eos_entity_type2count.keys():\n",
    "    if entity_type in bad_entity_types:\n",
    "        continue\n",
    "    print(entity_type)\n",
    "    for template in eos_entity_type2count[entity_type].keys():\n",
    "        if template in bad_question_templates:\n",
    "            continue\n",
    "    \n",
    "        acc_sum = eos_entity_type2acc[entity_type][template]\n",
    "        count = eos_entity_type2count[entity_type][template]\n",
    "        counts.append(count)\n",
    "        \n",
    "        acc = acc_sum / count\n",
    "        spotcheck_df_content.append({\n",
    "            \"entity_type\": entity_type,\n",
    "            \"template\": template,\n",
    "            \"count\": count,\n",
    "            \"accuracy\": acc,\n",
    "        })\n",
    "        if count > count_threshold:\n",
    "            entity_type2template_count[entity_type] += 1\n",
    "            print(template, \":\", acc, f\"(count={count})\")\n",
    "    print(\"===\" * 20)"
   ]
  },
  {
   "cell_type": "code",
   "execution_count": 181,
   "id": "da235ad5",
   "metadata": {},
   "outputs": [],
   "source": [
    "from itertools import combinations\n",
    "\n",
    "def find_largest_intersection_at_least_m_sets(sets, m):\n",
    "    \"\"\"\n",
    "    Find the largest intersection set using at least m sets from the given list of K sets.\n",
    "    \n",
    "    Args:\n",
    "        sets: A list of sets, each containing elements\n",
    "        m: Minimum number of sets to use for the intersection\n",
    "    \n",
    "    Returns:\n",
    "        A tuple containing:\n",
    "        - The largest intersection set\n",
    "        - A list of indices of the sets that produce this largest intersection\n",
    "    \"\"\"\n",
    "    if not sets or m <= 0 or m > len(sets):\n",
    "        return set(), []  # Invalid input\n",
    "    \n",
    "    max_intersection_size = -1\n",
    "    max_intersection_set = set()\n",
    "    max_intersection_indices = []\n",
    "    \n",
    "    # Try finding the largest intersection with exactly j sets where j ranges from m to K\n",
    "    for j in range(m, len(sets) + 1):\n",
    "        # Try all combinations of j sets from the K sets\n",
    "        for indices in combinations(range(len(sets)), j):\n",
    "            # Calculate the intersection of the selected j sets\n",
    "            selected_sets = [sets[i] for i in indices]\n",
    "            intersection = set.intersection(*selected_sets)\n",
    "            \n",
    "            # Update maximum if this intersection is larger\n",
    "            if len(intersection) > max_intersection_size:\n",
    "                max_intersection_size = len(intersection)\n",
    "                max_intersection_set = intersection\n",
    "                max_intersection_indices = list(indices)\n",
    "    \n",
    "    return max_intersection_set, max_intersection_indices"
   ]
  },
  {
   "cell_type": "code",
   "execution_count": null,
   "id": "cb2a57fd",
   "metadata": {},
   "outputs": [],
   "source": []
  },
  {
   "cell_type": "code",
   "execution_count": null,
   "id": "7c2b6db9",
   "metadata": {},
   "outputs": [],
   "source": []
  },
  {
   "cell_type": "code",
   "execution_count": null,
   "id": "1c4efb0b",
   "metadata": {},
   "outputs": [],
   "source": []
  },
  {
   "cell_type": "code",
   "execution_count": 182,
   "id": "f75d781d",
   "metadata": {},
   "outputs": [
    {
     "name": "stdout",
     "output_type": "stream",
     "text": [
      "41 5\n"
     ]
    }
   ],
   "source": [
    "set_list = [set(eos_template2entity_names[template]) for template in entity_type2templates[\"Person\"]]\n",
    "\n",
    "largest_overlap, set_ids = find_largest_intersection_at_least_m_sets(set_list, 5)\n",
    "print(len(largest_overlap), len(set_ids), )"
   ]
  },
  {
   "cell_type": "code",
   "execution_count": 183,
   "id": "c888411d",
   "metadata": {},
   "outputs": [
    {
     "data": {
      "text/plain": [
       "41"
      ]
     },
     "execution_count": 183,
     "metadata": {},
     "output_type": "execute_result"
    }
   ],
   "source": [
    "sanity_check_set = set_list[set_ids[0]]\n",
    "for i in range(1, len(set_ids)):\n",
    "    sanity_check_set = sanity_check_set.intersection(set_list[set_ids[i]])\n",
    "len(sanity_check_set)"
   ]
  },
  {
   "cell_type": "code",
   "execution_count": 195,
   "id": "bd34e673",
   "metadata": {},
   "outputs": [],
   "source": [
    "max_rel_config = dict([\n",
    "    (\"Person\", 6),\n",
    "    (\"Event\", 5),\n",
    "    (\"Species\", 5),\n",
    "    (\"Language\", 5),\n",
    "    (\"Organization\", 5),\n",
    "    (\"Creative Work\", 6),\n",
    "    (\"Country\", 8),]\n",
    ")"
   ]
  },
  {
   "cell_type": "code",
   "execution_count": 196,
   "id": "c7a57ecc",
   "metadata": {},
   "outputs": [],
   "source": [
    "max_entity_config = [\n",
    "    (\"Person\", 4),\n",
    "    (\"Event\", 4),\n",
    "    (\"Species\", 4),\n",
    "    (\"Language\", 4),\n",
    "    (\"Organization\", 4),\n",
    "    (\"Creative Work\", 4),\n",
    "    (\"Country\", 4),\n",
    "]"
   ]
  },
  {
   "cell_type": "code",
   "execution_count": 197,
   "id": "9e047143",
   "metadata": {},
   "outputs": [
    {
     "data": {
      "text/plain": [
       "Index(['id', 'question_type', 'template', 'entity_name', 'entity_type',\n",
       "       'input', 'stage', 'question', 'answer', 'predicted_answer_idx',\n",
       "       'predicted_answer', 'exact_match', 'llm_accuracy'],\n",
       "      dtype='object')"
      ]
     },
     "execution_count": 197,
     "metadata": {},
     "output_type": "execute_result"
    }
   ],
   "source": [
    "eos_sft_df_filtered.columns"
   ]
  },
  {
   "cell_type": "code",
   "execution_count": 199,
   "id": "9d4a5f73",
   "metadata": {},
   "outputs": [],
   "source": [
    "prefinalized_df = pd.concat(prefinalized_df_content)"
   ]
  },
  {
   "cell_type": "code",
   "execution_count": 208,
   "id": "a925131f",
   "metadata": {},
   "outputs": [
    {
     "data": {
      "text/plain": [
       "Text(0.5, 1.0, 'Answer Length Distribution (after filtering)')"
      ]
     },
     "execution_count": 208,
     "metadata": {},
     "output_type": "execute_result"
    },
    {
     "data": {
      "image/png": "[encoded data removed]",
      "text/plain": [
       "<Figure size 640x480 with 1 Axes>"
      ]
     },
     "metadata": {},
     "output_type": "display_data"
    }
   ],
   "source": [
    "plt.hist([float(len(vars.GPT_4_TOKENIZER(str(a)))) for a in prefinalized_df[\"answer\"].to_list()])\n",
    "plt.xlabel(\"Answer Length (in GPT-4 tokenizer)\")\n",
    "plt.ylabel(\"# question\")\n",
    "plt.title(\"Answer Length Distribution (after filtering)\")"
   ]
  },
  {
   "cell_type": "markdown",
   "id": "762b08be",
   "metadata": {},
   "source": []
  },
  {
   "cell_type": "code",
   "execution_count": 201,
   "id": "6612035c",
   "metadata": {},
   "outputs": [
    {
     "data": {
      "text/plain": [
       "0.0"
      ]
     },
     "execution_count": 201,
     "metadata": {},
     "output_type": "execute_result"
    }
   ],
   "source": [
    "float()"
   ]
  },
  {
   "cell_type": "code",
   "execution_count": 203,
   "id": "dea16c96",
   "metadata": {},
   "outputs": [],
   "source": [
    "spotcheck_df_content = []\n",
    "entity_spotcheck_df_content = []\n",
    "\n",
    "for (entity_type, template), sub_df in prefinalized_df.groupby([\"entity_type\", \"template\"]):\n",
    "    # pass\n",
    "    acc = np.mean(sub_df[\"llm_accuracy\"].to_list())\n",
    "    length = float(np.mean([len(vars.GPT_4_TOKENIZER(a)) for a in sub_df[\"answer\"].to_list()]))\n",
    "    count = len(sub_df)\n",
    "    # counts.append(count)\n",
    "    rand_idx = np.random.randint(len(sub_df))\n",
    "    for i, r in sub_df.iterrows():\n",
    "        entity_spotcheck_df_content.append({\n",
    "            \"entity_type\": entity_type,\n",
    "            \"entity_name\": r[\"entity_name\"],\n",
    "        })\n",
    "    \n",
    "    spotcheck_df_content.append({\n",
    "        \"entity_type\": entity_type,\n",
    "        \"template\": template,\n",
    "        \"# entity\": count,\n",
    "        \"avg_llm_accuracy\": acc,\n",
    "        \"avg_answer_len (in GPT4 tokens)\": length,\n",
    "        \"example_question\": sub_df.iloc[rand_idx][\"question\"],\n",
    "        \"example_answer\": sub_df.iloc[rand_idx][\"answer\"],\n",
    "        \"example_prediction\": sub_df.iloc[rand_idx][\"predicted_answer\"],\n",
    "    })"
   ]
  },
  {
   "cell_type": "code",
   "execution_count": 204,
   "id": "21d096d6",
   "metadata": {},
   "outputs": [],
   "source": [
    "spotcheck_df = pd.DataFrame(spotcheck_df_content)\n",
    "entity_spotcheck_df = pd.DataFrame(entity_spotcheck_df_content).drop_duplicates()\n",
    "spotcheck_df = spotcheck_df.set_index([\"entity_type\", \"template\"], drop=True)\n",
    "entity_spotcheck_df = entity_spotcheck_df.set_index([\"entity_type\",], drop=True)"
   ]
  },
  {
   "cell_type": "code",
   "execution_count": 206,
   "id": "900b4d5a",
   "metadata": {},
   "outputs": [],
   "source": [
    "spotcheck_df.to_excel(f\"/u/zliu/datastor1/mend/spotcheck/spotcheck_df_curated_v1_rel.xlsx\", index=True)"
   ]
  },
  {
   "cell_type": "code",
   "execution_count": 207,
   "id": "76f724a8",
   "metadata": {},
   "outputs": [],
   "source": [
    "entity_spotcheck_df\n",
    "entity_spotcheck_df.to_excel(f\"/u/zliu/datastor1/mend/spotcheck/spotcheck_df_curated_v1_entity.xlsx\", index=True)"
   ]
  },
  {
   "cell_type": "code",
   "execution_count": 610,
   "id": "a1b961af",
   "metadata": {},
   "outputs": [],
   "source": [
    "# Counter(eos_sft_df_filtered[eos_sft_df_filtered.apply(lambda row: row[\"template\"] == \"Where is {species} primarily found?\", axis=1)][\"answer\"])"
   ]
  },
  {
   "cell_type": "code",
   "execution_count": null,
   "id": "8f6edb5c",
   "metadata": {},
   "outputs": [],
   "source": [
    "# spotcheck_df = pd.DataFrame(spotcheck_df_content)"
   ]
  },
  {
   "cell_type": "code",
   "execution_count": 611,
   "id": "ed7f973e",
   "metadata": {},
   "outputs": [],
   "source": [
    "# template_count_threshold = 1"
   ]
  },
  {
   "cell_type": "code",
   "execution_count": null,
   "id": "621f62a2",
   "metadata": {},
   "outputs": [
    {
     "name": "stdout",
     "output_type": "stream",
     "text": [
      "# entity: 40 # template: 1\n"
     ]
    },
    {
     "data": {
      "text/plain": [
       "16"
      ]
     },
     "execution_count": 310,
     "metadata": {},
     "output_type": "execute_result"
    }
   ],
   "source": [
    "# print(f\"# entity: {count_threshold}\", f\"# template: {template_count_threshold}\", )\n",
    "# len([k for k, v in entity_type2template_count.items() if v >= template_count_threshold])"
   ]
  },
  {
   "cell_type": "code",
   "execution_count": 308,
   "id": "7ecca1db",
   "metadata": {},
   "outputs": [
    {
     "data": {
      "text/plain": [
       "['Historical Figure',\n",
       " 'Business Figure',\n",
       " 'Book',\n",
       " 'Language',\n",
       " 'Company',\n",
       " 'Non-profit Organization',\n",
       " 'University',\n",
       " 'Invention',\n",
       " 'Artwork',\n",
       " 'Film',\n",
       " 'Song',\n",
       " 'Historical Event',\n",
       " 'Software',\n",
       " 'Species',\n",
       " 'Author',\n",
       " 'Country']"
      ]
     },
     "execution_count": 308,
     "metadata": {},
     "output_type": "execute_result"
    }
   ],
   "source": [
    "[k for k, v in entity_type2template_count.items() if v >= template_count_threshold]"
   ]
  },
  {
   "cell_type": "code",
   "execution_count": null,
   "id": "275591c3",
   "metadata": {},
   "outputs": [],
   "source": []
  },
  {
   "cell_type": "code",
   "execution_count": null,
   "id": "f3119b49",
   "metadata": {},
   "outputs": [],
   "source": []
  },
  {
   "cell_type": "code",
   "execution_count": null,
   "id": "2b6310e4",
   "metadata": {},
   "outputs": [],
   "source": []
  },
  {
   "cell_type": "code",
   "execution_count": null,
   "id": "9b1396ee",
   "metadata": {},
   "outputs": [],
   "source": []
  },
  {
   "cell_type": "code",
   "execution_count": null,
   "id": "cc3ad0b0",
   "metadata": {},
   "outputs": [],
   "source": []
  }
 ],
 "metadata": {
  "kernelspec": {
   "display_name": "cpt",
   "language": "python",
   "name": "python3"
  },
  "language_info": {
   "codemirror_mode": {
    "name": "ipython",
    "version": 3
   },
   "file_extension": ".py",
   "mimetype": "text/x-python",
   "name": "python",
   "nbconvert_exporter": "python",
   "pygments_lexer": "ipython3",
   "version": "3.11.0"
  }
 },
 "nbformat": 4,
 "nbformat_minor": 5
}
