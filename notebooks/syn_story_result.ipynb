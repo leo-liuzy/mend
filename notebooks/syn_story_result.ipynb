{
   "cells": [
      {
         "cell_type": "code",
         "execution_count": 1,
         "metadata": {},
         "outputs": [],
         "source": [
            "\n",
            "import pandas as pd\n",
            "# from experiments.musique.inference_only import macro_averaging\n",
            "from knowledge_propagation.utils import io, vars, extractor\n",
            "import os\n",
            "import numpy as np\n",
            "from tqdm import tqdm\n",
            "import seaborn as sns\n",
            "import matplotlib.pyplot as plt\n",
            "from glob import glob\n",
            "from scipy.stats import describe\n",
            "from thefuzz import fuzz\n",
            "from knowledge_propagation.utils.eval import is_significantly_different\n",
            "from collections import Counter\n",
            "from knowledge_propagation.modules.evaluators import (\n",
            "    ExactMatchEvaluator,\n",
            "    RougeEvaluator,\n",
            "    OpenAIEvaluator,\n",
            ")\n",
            "llm_evaluator = OpenAIEvaluator()\n",
            "from typing import List, Dict, Tuple\n",
            "\n",
            "os.getcwd()\n",
            "def macro_averaging(df: pd.DataFrame, metrics: List[str], multi_level_averaging: List[str]):\n",
            "    \"\"\"\n",
            "    Do macro-averaging over the given metrics and multi-level averaging categories.\n",
            "    \"\"\"\n",
            "    extracted_multi_level_cols = [[m, \"mean\"] for m in metrics]\n",
            "    while len(multi_level_averaging) > 0:\n",
            "        # first take the mean over each generation,\n",
            "        # and, only take `mean` of `rouge1` and  `llm_accuracy` column groups\n",
            "        df_over_cols = df.groupby(multi_level_averaging, observed=True).describe()[extracted_multi_level_cols]\n",
            "        # remove the multi-level column indices, since there's only one sub-level -- \"mean\"\n",
            "        df_over_cols.columns = df_over_cols.columns.get_level_values(0)\n",
            "\n",
            "        # reset index to flatten the multi-level column indices for the next macro-averaging class\n",
            "        df = df_over_cols.reset_index(inplace=False)\n",
            "        multi_level_averaging.pop(-1)\n",
            "    return df"
         ]
      },
      {
         "cell_type": "markdown",
         "metadata": {},
         "source": [
            "# Read out results and calculate aggregation"
         ]
      },
      {
         "cell_type": "code",
         "execution_count": 15,
         "metadata": {},
         "outputs": [],
         "source": [
            "df = pd.read_excel(\"/u/zliu/datastor1/mend/synstory_exp_output/4K_heavy_share_layer4_15/syn_story/mend_eval_loss=clm_input=seen_n=350_prompt=no_w-gen_wo-icl_4K_test_ood-question.xlsx\")"
         ]
      },
      {
         "cell_type": "code",
         "execution_count": 16,
         "metadata": {},
         "outputs": [],
         "source": [
            "df.loc[df[\"question_key\"] == \"unalias_question\", \"question_type\"] = \"specificity\"\n",
            "assert len(df[df[\"question_type\"] == \"efficacy\"]) == len(df[df[\"question_type\"] == \"specificity\"])"
         ]
      },
      {
         "cell_type": "code",
         "execution_count": 17,
         "metadata": {},
         "outputs": [
            {
               "data": {
                  "text/plain": [
                     "np.float64(0.18277404921700224)"
                  ]
               },
               "execution_count": 17,
               "metadata": {},
               "output_type": "execute_result"
            }
         ],
         "source": [
            "df[df[\"question_type\"] == \"efficacy\"][\"llm_accuracy\"].mean()"
         ]
      },
      {
         "cell_type": "code",
         "execution_count": 18,
         "metadata": {},
         "outputs": [
            {
               "name": "stdout",
               "output_type": "stream",
               "text": [
                  "efficacy (n=447.0)\n",
                  "18.3\n",
                  "specificity (n=447.0)\n",
                  "77.5\n"
               ]
            }
         ],
         "source": [
            "for question_type in [\"efficacy\", \"specificity\"]:\n",
            "    df_question = df[df[\"question_type\"] == question_type]\n",
            "\n",
            "    agg = df_question.describe()[[\"llm_accuracy\",]]\n",
            "    print(question_type, f\"(n={agg['llm_accuracy']['count']})\")\n",
            "    \n",
            "    print((agg['llm_accuracy']['mean'] * 100).round(1)) #\n",
            "    "
         ]
      },
      {
         "cell_type": "code",
         "execution_count": 14,
         "metadata": {},
         "outputs": [
            {
               "data": {
                  "text/html": [
                     "<div>\n",
                     "<style scoped>\n",
                     "    .dataframe tbody tr th:only-of-type {\n",
                     "        vertical-align: middle;\n",
                     "    }\n",
                     "\n",
                     "    .dataframe tbody tr th {\n",
                     "        vertical-align: top;\n",
                     "    }\n",
                     "\n",
                     "    .dataframe thead th {\n",
                     "        text-align: right;\n",
                     "    }\n",
                     "</style>\n",
                     "<table border=\"1\" class=\"dataframe\">\n",
                     "  <thead>\n",
                     "    <tr style=\"text-align: right;\">\n",
                     "      <th></th>\n",
                     "      <th>llm_accuracy</th>\n",
                     "    </tr>\n",
                     "  </thead>\n",
                     "  <tbody>\n",
                     "    <tr>\n",
                     "      <th>count</th>\n",
                     "      <td>148.000000</td>\n",
                     "    </tr>\n",
                     "    <tr>\n",
                     "      <th>mean</th>\n",
                     "      <td>0.847297</td>\n",
                     "    </tr>\n",
                     "    <tr>\n",
                     "      <th>std</th>\n",
                     "      <td>0.285344</td>\n",
                     "    </tr>\n",
                     "    <tr>\n",
                     "      <th>min</th>\n",
                     "      <td>0.000000</td>\n",
                     "    </tr>\n",
                     "    <tr>\n",
                     "      <th>25%</th>\n",
                     "      <td>0.700000</td>\n",
                     "    </tr>\n",
                     "    <tr>\n",
                     "      <th>50%</th>\n",
                     "      <td>1.000000</td>\n",
                     "    </tr>\n",
                     "    <tr>\n",
                     "      <th>75%</th>\n",
                     "      <td>1.000000</td>\n",
                     "    </tr>\n",
                     "    <tr>\n",
                     "      <th>max</th>\n",
                     "      <td>1.000000</td>\n",
                     "    </tr>\n",
                     "  </tbody>\n",
                     "</table>\n",
                     "</div>"
                  ],
                  "text/plain": [
                     "       llm_accuracy\n",
                     "count    148.000000\n",
                     "mean       0.847297\n",
                     "std        0.285344\n",
                     "min        0.000000\n",
                     "25%        0.700000\n",
                     "50%        1.000000\n",
                     "75%        1.000000\n",
                     "max        1.000000"
                  ]
               },
               "execution_count": 14,
               "metadata": {},
               "output_type": "execute_result"
            }
         ],
         "source": [
            "df[df[\"question_type\"] == \"specificity\"].drop_duplicates(subset=[\"question\"], inplace=False).describe()[[\"llm_accuracy\",]]"
         ]
      },
      {
         "cell_type": "code",
         "execution_count": 60,
         "metadata": {},
         "outputs": [
            {
               "data": {
                  "text/plain": [
                     "0.9118"
                  ]
               },
               "execution_count": 60,
               "metadata": {},
               "output_type": "execute_result"
            }
         ],
         "source": [
            "0.9118"
         ]
      },
      {
         "cell_type": "code",
         "execution_count": 47,
         "metadata": {},
         "outputs": [
            {
               "data": {
                  "text/plain": [
                     "0.9476"
                  ]
               },
               "execution_count": 47,
               "metadata": {},
               "output_type": "execute_result"
            }
         ],
         "source": [
            "0.9476"
         ]
      },
      {
         "cell_type": "code",
         "execution_count": 9,
         "metadata": {},
         "outputs": [],
         "source": [
            "# Counter(df[(df[\"question_type\"] == \"efficacy\") & (df[\"llm_accuracy\"] > 0.5)][\"question\"])"
         ]
      },
      {
         "cell_type": "markdown",
         "metadata": {},
         "source": [
            "# Test signinifcant between two table"
         ]
      },
      {
         "cell_type": "code",
         "execution_count": 61,
         "metadata": {},
         "outputs": [],
         "source": [
            "df1 = pd.read_excel(\"/u/zliu/datastor1/mend/synstory_exp_output/4K_heavy_noshare_layer4_15/syn_story/mend_eval_loss=clm_input=seen_n=350_prompt=no_w-gen_wo-icl_4K_test_ood-question.xlsx\")\n",
            "df2 = pd.read_excel(\"/u/zliu/datastor1/mend/synstory_exp_output/llama3.2-1B-eos-sft-template-format-curated-v1-lr2e-6-sample-10-estimated-wiki/syn_story/memit(wikipedia)_eval_loss=clm_input=seen_n=350_prompt=no_w-gen_wo-icl_e+s_4K_test_ood-question.xlsx\")"
         ]
      },
      {
         "cell_type": "code",
         "execution_count": null,
         "metadata": {},
         "outputs": [],
         "source": []
      },
      {
         "cell_type": "code",
         "execution_count": 62,
         "metadata": {},
         "outputs": [],
         "source": [
            "df1.loc[df1[\"question_key\"] == \"unalias_question\", \"question_type\"] = \"specificity\"\n",
            "df2.loc[df2[\"question_key\"] == \"unalias_question\", \"question_type\"] = \"specificity\"\n"
         ]
      },
      {
         "cell_type": "code",
         "execution_count": 63,
         "metadata": {},
         "outputs": [
            {
               "data": {
                  "text/plain": [
                     "np.float64(0.16778523489932887)"
                  ]
               },
               "execution_count": 63,
               "metadata": {},
               "output_type": "execute_result"
            }
         ],
         "source": [
            "df1[df1[\"question_type\"] == \"efficacy\"][\"llm_accuracy\"].mean()"
         ]
      },
      {
         "cell_type": "code",
         "execution_count": 64,
         "metadata": {},
         "outputs": [
            {
               "name": "stdout",
               "output_type": "stream",
               "text": [
                  "Score_A avg: 0.168\n",
                  "Score_B avg: 0.138\n",
                  "Delta (B - A): -0.03\n",
                  "p: 0.053300000000000014 (threshold = 0.05)\n",
                  "*Not* Significant\n"
               ]
            },
            {
               "data": {
                  "text/plain": [
                     "np.False_"
                  ]
               },
               "execution_count": 64,
               "metadata": {},
               "output_type": "execute_result"
            }
         ],
         "source": [
            "is_significantly_different(\n",
            "    df1[df1[\"question_type\"] == \"efficacy\"][\"llm_accuracy\"].to_list(),\n",
            "    df2[df2[\"question_type\"] == \"efficacy\"][\"llm_accuracy\"].to_list(),\n",
            "    verbose=True\n",
            ")"
         ]
      },
      {
         "cell_type": "markdown",
         "metadata": {},
         "source": [
            "# Merge CPT results"
         ]
      },
      {
         "cell_type": "code",
         "execution_count": null,
         "metadata": {},
         "outputs": [],
         "source": []
      },
      {
         "cell_type": "code",
         "execution_count": 24,
         "metadata": {},
         "outputs": [
            {
               "data": {
                  "text/plain": [
                     "''"
                  ]
               },
               "execution_count": 24,
               "metadata": {},
               "output_type": "execute_result"
            }
         ],
         "source": [
            "individual_dir = \"/u/zliu/datastor1/mend/synstory_exp_output/Llama-3.2-3B-eos-sft-template-format-curated-v1-lr2e-6-sample-10_clm-baseline_lr=1e-05_epoch=4.0_tunable-params=all/individual_results_text_ood-relation\"\n",
            "# midupper3-mlp\n",
            "\n",
            "if individual_dir.endswith(\"_id\"):\n",
            "    n_data = 500\n",
            "# elif individual_dir.endswith(\"_ood-entity\"):\n",
            "#     n_data = 350\n",
            "# elif individual_dir.endswith(\"_ood-relation\"):\n",
            "#     n_data = 350\n",
            "else:\n",
            "    assert individual_dir.endswith(\"_ood\") or individual_dir.endswith(\"_ood-entity\") or individual_dir.endswith(\"_ood-relation\")\n",
            "    n_data = 350\n",
            "\n",
            "file_name_format = \"{idx}_eval_results_e.xlsx\"\n",
            "individual_dfs = []\n",
            "missing_ids = []\n",
            "for i in range(n_data):\n",
            "    file_name = os.path.join(individual_dir, file_name_format.format(idx=i))\n",
            "    if not os.path.exists(file_name):\n",
            "        missing_ids.append(i)\n",
            "        continue\n",
            "    df = pd.read_excel(file_name)\n",
            "    individual_dfs.append(df)\n",
            "\" \".join([str(i) for i in missing_ids])"
         ]
      },
      {
         "cell_type": "code",
         "execution_count": 25,
         "metadata": {},
         "outputs": [],
         "source": [
            "all_df = pd.concat(individual_dfs, ignore_index=True)\n",
            "all_df.loc[all_df[\"question_key\"] == \"unalias_question\", \"question_type\"] = \"specificity\""
         ]
      },
      {
         "cell_type": "code",
         "execution_count": 26,
         "metadata": {},
         "outputs": [],
         "source": [
            "assert len(all_df[all_df[\"question_type\"] == \"efficacy\"]) == len(all_df[all_df[\"question_type\"] == \"specificity\"])"
         ]
      },
      {
         "cell_type": "code",
         "execution_count": 27,
         "metadata": {},
         "outputs": [
            {
               "data": {
                  "text/plain": [
                     "842"
                  ]
               },
               "execution_count": 27,
               "metadata": {},
               "output_type": "execute_result"
            }
         ],
         "source": [
            "len(all_df)"
         ]
      },
      {
         "cell_type": "code",
         "execution_count": 28,
         "metadata": {},
         "outputs": [
            {
               "data": {
                  "text/plain": [
                     "('/u/zliu/datastor1/mend/synstory_exp_output/Llama-3.2-3B-eos-sft-template-format-curated-v1-lr2e-6-sample-10_clm-baseline_lr=1e-05_epoch=4.0_tunable-params=all/individual_results_text_ood-relation/../all_results_id.xlsx',)"
                  ]
               },
               "execution_count": 28,
               "metadata": {},
               "output_type": "execute_result"
            }
         ],
         "source": [
            "f\"{individual_dir}/../all_results_id.xlsx\","
         ]
      },
      {
         "cell_type": "code",
         "execution_count": 29,
         "metadata": {},
         "outputs": [],
         "source": [
            "if individual_dir.endswith(\"_id\"):\n",
            "    all_df.to_excel(\n",
            "        f\"{individual_dir}/../all_results_id.xlsx\",\n",
            "        index=False\n",
            "    )\n",
            "elif individual_dir.endswith(\"_ood-entity\"):\n",
            "    all_df.to_excel(\n",
            "        f\"{individual_dir}/../all_results_ood-entity.xlsx\",\n",
            "        index=False\n",
            "    )\n",
            "elif individual_dir.endswith(\"_ood-relation\"):\n",
            "    all_df.to_excel(\n",
            "        f\"{individual_dir}/../all_results_ood-relation.xlsx\",\n",
            "        index=False\n",
            "    )\n",
            "else:\n",
            "    assert individual_dir.endswith(\"_ood\")\n",
            "    all_df.to_excel(\n",
            "        f\"{individual_dir}/../all_results_ood.xlsx\",\n",
            "        index=False\n",
            "    )"
         ]
      },
      {
         "cell_type": "code",
         "execution_count": null,
         "metadata": {},
         "outputs": [],
         "source": []
      },
      {
         "cell_type": "markdown",
         "metadata": {},
         "source": [
            "# Get aggregated scores"
         ]
      },
      {
         "cell_type": "code",
         "execution_count": 2,
         "metadata": {},
         "outputs": [],
         "source": [
            "df = pd.read_excel(\"/u/zliu/datastor1/mend/synstory_exp_output/llama3.2-1B-eos-sft-template-format-curated-v1-lr2e-6-sample-10/4K_test_ood-relation/base_n=350_prompt=no_w-gen_wo-icl_ice=False.xlsx\")"
         ]
      },
      {
         "cell_type": "code",
         "execution_count": 4,
         "metadata": {},
         "outputs": [
            {
               "data": {
                  "text/html": [
                     "<div>\n",
                     "<style scoped>\n",
                     "    .dataframe tbody tr th:only-of-type {\n",
                     "        vertical-align: middle;\n",
                     "    }\n",
                     "\n",
                     "    .dataframe tbody tr th {\n",
                     "        vertical-align: top;\n",
                     "    }\n",
                     "\n",
                     "    .dataframe thead th {\n",
                     "        text-align: right;\n",
                     "    }\n",
                     "</style>\n",
                     "<table border=\"1\" class=\"dataframe\">\n",
                     "  <thead>\n",
                     "    <tr style=\"text-align: right;\">\n",
                     "      <th></th>\n",
                     "      <th>id</th>\n",
                     "      <th>question_key</th>\n",
                     "      <th>question_type</th>\n",
                     "      <th>stage</th>\n",
                     "      <th>input</th>\n",
                     "      <th>question</th>\n",
                     "      <th>answer</th>\n",
                     "      <th>predicted_answer_idx</th>\n",
                     "      <th>predicted_answer</th>\n",
                     "      <th>exact_match</th>\n",
                     "      <th>llm_accuracy</th>\n",
                     "    </tr>\n",
                     "  </thead>\n",
                     "  <tbody>\n",
                     "    <tr>\n",
                     "      <th>0</th>\n",
                     "      <td>0</td>\n",
                     "      <td>alias_question</td>\n",
                     "      <td>efficacy</td>\n",
                     "      <td>pre-edit</td>\n",
                     "      <td>[[When did the event that James King curated a...</td>\n",
                     "      <td>When did the event that James King curated an ...</td>\n",
                     "      <td>1850–1864</td>\n",
                     "      <td>0</td>\n",
                     "      <td>1994</td>\n",
                     "      <td>0</td>\n",
                     "      <td>0.0</td>\n",
                     "    </tr>\n",
                     "    <tr>\n",
                     "      <th>1</th>\n",
                     "      <td>0</td>\n",
                     "      <td>alias_question</td>\n",
                     "      <td>efficacy</td>\n",
                     "      <td>pre-edit</td>\n",
                     "      <td>[[What year did the event that sparked James K...</td>\n",
                     "      <td>What year did the event that sparked James Kin...</td>\n",
                     "      <td>1963</td>\n",
                     "      <td>0</td>\n",
                     "      <td>1972</td>\n",
                     "      <td>0</td>\n",
                     "      <td>0.0</td>\n",
                     "    </tr>\n",
                     "    <tr>\n",
                     "      <th>2</th>\n",
                     "      <td>0</td>\n",
                     "      <td>unalias_question</td>\n",
                     "      <td>efficacy</td>\n",
                     "      <td>pre-edit</td>\n",
                     "      <td>[[When did The Taiping Rebellion take place?]]</td>\n",
                     "      <td>When did The Taiping Rebellion take place?</td>\n",
                     "      <td>1850–1864</td>\n",
                     "      <td>0</td>\n",
                     "      <td>1850-1864</td>\n",
                     "      <td>0</td>\n",
                     "      <td>1.0</td>\n",
                     "    </tr>\n",
                     "    <tr>\n",
                     "      <th>3</th>\n",
                     "      <td>0</td>\n",
                     "      <td>unalias_question</td>\n",
                     "      <td>efficacy</td>\n",
                     "      <td>pre-edit</td>\n",
                     "      <td>[[What year did The Assassination of John F. K...</td>\n",
                     "      <td>What year did The Assassination of John F. Ken...</td>\n",
                     "      <td>1963</td>\n",
                     "      <td>0</td>\n",
                     "      <td>1963</td>\n",
                     "      <td>1</td>\n",
                     "      <td>1.0</td>\n",
                     "    </tr>\n",
                     "    <tr>\n",
                     "      <th>4</th>\n",
                     "      <td>1</td>\n",
                     "      <td>alias_question</td>\n",
                     "      <td>efficacy</td>\n",
                     "      <td>pre-edit</td>\n",
                     "      <td>[[What is the name of the alphabet or script o...</td>\n",
                     "      <td>What is the name of the alphabet or script of ...</td>\n",
                     "      <td>Latin alphabet</td>\n",
                     "      <td>0</td>\n",
                     "      <td>Esperanto</td>\n",
                     "      <td>0</td>\n",
                     "      <td>0.0</td>\n",
                     "    </tr>\n",
                     "    <tr>\n",
                     "      <th>...</th>\n",
                     "      <td>...</td>\n",
                     "      <td>...</td>\n",
                     "      <td>...</td>\n",
                     "      <td>...</td>\n",
                     "      <td>...</td>\n",
                     "      <td>...</td>\n",
                     "      <td>...</td>\n",
                     "      <td>...</td>\n",
                     "      <td>...</td>\n",
                     "      <td>...</td>\n",
                     "      <td>...</td>\n",
                     "    </tr>\n",
                     "    <tr>\n",
                     "      <th>837</th>\n",
                     "      <td>348</td>\n",
                     "      <td>unalias_question</td>\n",
                     "      <td>efficacy</td>\n",
                     "      <td>pre-edit</td>\n",
                     "      <td>[[What is the name of the alphabet or script o...</td>\n",
                     "      <td>What is the name of the alphabet or script of ...</td>\n",
                     "      <td>Greek alphabet</td>\n",
                     "      <td>0</td>\n",
                     "      <td>Greek alphabet</td>\n",
                     "      <td>1</td>\n",
                     "      <td>1.0</td>\n",
                     "    </tr>\n",
                     "    <tr>\n",
                     "      <th>838</th>\n",
                     "      <td>349</td>\n",
                     "      <td>alias_question</td>\n",
                     "      <td>efficacy</td>\n",
                     "      <td>pre-edit</td>\n",
                     "      <td>[[When did the event that inspired Taylor Moto...</td>\n",
                     "      <td>When did the event that inspired Taylor Motors...</td>\n",
                     "      <td>November 22, 1963</td>\n",
                     "      <td>0</td>\n",
                     "      <td>2009</td>\n",
                     "      <td>0</td>\n",
                     "      <td>0.0</td>\n",
                     "    </tr>\n",
                     "    <tr>\n",
                     "      <th>839</th>\n",
                     "      <td>349</td>\n",
                     "      <td>alias_question</td>\n",
                     "      <td>efficacy</td>\n",
                     "      <td>pre-edit</td>\n",
                     "      <td>[[What year did the event that Taylor Motors L...</td>\n",
                     "      <td>What year did the event that Taylor Motors LLC...</td>\n",
                     "      <td>1793</td>\n",
                     "      <td>0</td>\n",
                     "      <td>2009</td>\n",
                     "      <td>0</td>\n",
                     "      <td>0.0</td>\n",
                     "    </tr>\n",
                     "    <tr>\n",
                     "      <th>840</th>\n",
                     "      <td>349</td>\n",
                     "      <td>unalias_question</td>\n",
                     "      <td>efficacy</td>\n",
                     "      <td>pre-edit</td>\n",
                     "      <td>[[When did The Assassination of John F. Kenned...</td>\n",
                     "      <td>When did The Assassination of John F. Kennedy ...</td>\n",
                     "      <td>November 22, 1963</td>\n",
                     "      <td>0</td>\n",
                     "      <td>November 22, 1963</td>\n",
                     "      <td>1</td>\n",
                     "      <td>1.0</td>\n",
                     "    </tr>\n",
                     "    <tr>\n",
                     "      <th>841</th>\n",
                     "      <td>349</td>\n",
                     "      <td>unalias_question</td>\n",
                     "      <td>efficacy</td>\n",
                     "      <td>pre-edit</td>\n",
                     "      <td>[[What year did The Execution of King Louis XV...</td>\n",
                     "      <td>What year did The Execution of King Louis XVI ...</td>\n",
                     "      <td>1793</td>\n",
                     "      <td>0</td>\n",
                     "      <td>1793</td>\n",
                     "      <td>1</td>\n",
                     "      <td>1.0</td>\n",
                     "    </tr>\n",
                     "  </tbody>\n",
                     "</table>\n",
                     "<p>842 rows × 11 columns</p>\n",
                     "</div>"
                  ],
                  "text/plain": [
                     "      id      question_key question_type     stage  \\\n",
                     "0      0    alias_question      efficacy  pre-edit   \n",
                     "1      0    alias_question      efficacy  pre-edit   \n",
                     "2      0  unalias_question      efficacy  pre-edit   \n",
                     "3      0  unalias_question      efficacy  pre-edit   \n",
                     "4      1    alias_question      efficacy  pre-edit   \n",
                     "..   ...               ...           ...       ...   \n",
                     "837  348  unalias_question      efficacy  pre-edit   \n",
                     "838  349    alias_question      efficacy  pre-edit   \n",
                     "839  349    alias_question      efficacy  pre-edit   \n",
                     "840  349  unalias_question      efficacy  pre-edit   \n",
                     "841  349  unalias_question      efficacy  pre-edit   \n",
                     "\n",
                     "                                                 input  \\\n",
                     "0    [[When did the event that James King curated a...   \n",
                     "1    [[What year did the event that sparked James K...   \n",
                     "2       [[When did The Taiping Rebellion take place?]]   \n",
                     "3    [[What year did The Assassination of John F. K...   \n",
                     "4    [[What is the name of the alphabet or script o...   \n",
                     "..                                                 ...   \n",
                     "837  [[What is the name of the alphabet or script o...   \n",
                     "838  [[When did the event that inspired Taylor Moto...   \n",
                     "839  [[What year did the event that Taylor Motors L...   \n",
                     "840  [[When did The Assassination of John F. Kenned...   \n",
                     "841  [[What year did The Execution of King Louis XV...   \n",
                     "\n",
                     "                                              question             answer  \\\n",
                     "0    When did the event that James King curated an ...          1850–1864   \n",
                     "1    What year did the event that sparked James Kin...               1963   \n",
                     "2           When did The Taiping Rebellion take place?          1850–1864   \n",
                     "3    What year did The Assassination of John F. Ken...               1963   \n",
                     "4    What is the name of the alphabet or script of ...     Latin alphabet   \n",
                     "..                                                 ...                ...   \n",
                     "837  What is the name of the alphabet or script of ...     Greek alphabet   \n",
                     "838  When did the event that inspired Taylor Motors...  November 22, 1963   \n",
                     "839  What year did the event that Taylor Motors LLC...               1793   \n",
                     "840  When did The Assassination of John F. Kennedy ...  November 22, 1963   \n",
                     "841  What year did The Execution of King Louis XVI ...               1793   \n",
                     "\n",
                     "     predicted_answer_idx   predicted_answer  exact_match  llm_accuracy  \n",
                     "0                       0               1994            0           0.0  \n",
                     "1                       0               1972            0           0.0  \n",
                     "2                       0          1850-1864            0           1.0  \n",
                     "3                       0               1963            1           1.0  \n",
                     "4                       0          Esperanto            0           0.0  \n",
                     "..                    ...                ...          ...           ...  \n",
                     "837                     0     Greek alphabet            1           1.0  \n",
                     "838                     0               2009            0           0.0  \n",
                     "839                     0               2009            0           0.0  \n",
                     "840                     0  November 22, 1963            1           1.0  \n",
                     "841                     0               1793            1           1.0  \n",
                     "\n",
                     "[842 rows x 11 columns]"
                  ]
               },
               "execution_count": 4,
               "metadata": {},
               "output_type": "execute_result"
            }
         ],
         "source": [
            "df"
         ]
      },
      {
         "cell_type": "code",
         "execution_count": 3,
         "metadata": {},
         "outputs": [
            {
               "name": "stdout",
               "output_type": "stream",
               "text": [
                  "efficacy (n=842.0)\n",
                  "51.5\n",
                  "specificity (n=0.0)\n",
                  "nan\n"
               ]
            }
         ],
         "source": [
            "for question_type in [\"efficacy\", \"specificity\"]:\n",
            "    df_question = df[df[\"question_type\"] == question_type]\n",
            "\n",
            "    agg = df_question.describe()[[\"llm_accuracy\",]]\n",
            "    print(question_type, f\"(n={agg['llm_accuracy']['count']})\")\n",
            "    \n",
            "    print((agg['llm_accuracy']['mean'] * 100).round(1)) #\n",
            "    "
         ]
      },
      {
         "cell_type": "code",
         "execution_count": 94,
         "metadata": {},
         "outputs": [
            {
               "data": {
                  "text/html": [
                     "<div>\n",
                     "<style scoped>\n",
                     "    .dataframe tbody tr th:only-of-type {\n",
                     "        vertical-align: middle;\n",
                     "    }\n",
                     "\n",
                     "    .dataframe tbody tr th {\n",
                     "        vertical-align: top;\n",
                     "    }\n",
                     "\n",
                     "    .dataframe thead th {\n",
                     "        text-align: right;\n",
                     "    }\n",
                     "</style>\n",
                     "<table border=\"1\" class=\"dataframe\">\n",
                     "  <thead>\n",
                     "    <tr style=\"text-align: right;\">\n",
                     "      <th></th>\n",
                     "      <th>id</th>\n",
                     "      <th>predicted_answer_idx</th>\n",
                     "      <th>exact_match</th>\n",
                     "      <th>llm_accuracy</th>\n",
                     "    </tr>\n",
                     "  </thead>\n",
                     "  <tbody>\n",
                     "    <tr>\n",
                     "      <th>count</th>\n",
                     "      <td>676.000000</td>\n",
                     "      <td>676.0</td>\n",
                     "      <td>676.000000</td>\n",
                     "      <td>676.000000</td>\n",
                     "    </tr>\n",
                     "    <tr>\n",
                     "      <th>mean</th>\n",
                     "      <td>129.998521</td>\n",
                     "      <td>0.0</td>\n",
                     "      <td>0.714497</td>\n",
                     "      <td>0.942456</td>\n",
                     "    </tr>\n",
                     "    <tr>\n",
                     "      <th>std</th>\n",
                     "      <td>114.474134</td>\n",
                     "      <td>0.0</td>\n",
                     "      <td>0.451988</td>\n",
                     "      <td>0.147430</td>\n",
                     "    </tr>\n",
                     "    <tr>\n",
                     "      <th>min</th>\n",
                     "      <td>0.000000</td>\n",
                     "      <td>0.0</td>\n",
                     "      <td>0.000000</td>\n",
                     "      <td>0.000000</td>\n",
                     "    </tr>\n",
                     "    <tr>\n",
                     "      <th>25%</th>\n",
                     "      <td>39.750000</td>\n",
                     "      <td>0.0</td>\n",
                     "      <td>0.000000</td>\n",
                     "      <td>1.000000</td>\n",
                     "    </tr>\n",
                     "    <tr>\n",
                     "      <th>50%</th>\n",
                     "      <td>95.000000</td>\n",
                     "      <td>0.0</td>\n",
                     "      <td>1.000000</td>\n",
                     "      <td>1.000000</td>\n",
                     "    </tr>\n",
                     "    <tr>\n",
                     "      <th>75%</th>\n",
                     "      <td>193.000000</td>\n",
                     "      <td>0.0</td>\n",
                     "      <td>1.000000</td>\n",
                     "      <td>1.000000</td>\n",
                     "    </tr>\n",
                     "    <tr>\n",
                     "      <th>max</th>\n",
                     "      <td>496.000000</td>\n",
                     "      <td>0.0</td>\n",
                     "      <td>1.000000</td>\n",
                     "      <td>1.000000</td>\n",
                     "    </tr>\n",
                     "  </tbody>\n",
                     "</table>\n",
                     "</div>"
                  ],
                  "text/plain": [
                     "               id  predicted_answer_idx  exact_match  llm_accuracy\n",
                     "count  676.000000                 676.0   676.000000    676.000000\n",
                     "mean   129.998521                   0.0     0.714497      0.942456\n",
                     "std    114.474134                   0.0     0.451988      0.147430\n",
                     "min      0.000000                   0.0     0.000000      0.000000\n",
                     "25%     39.750000                   0.0     0.000000      1.000000\n",
                     "50%     95.000000                   0.0     1.000000      1.000000\n",
                     "75%    193.000000                   0.0     1.000000      1.000000\n",
                     "max    496.000000                   0.0     1.000000      1.000000"
                  ]
               },
               "execution_count": 94,
               "metadata": {},
               "output_type": "execute_result"
            }
         ],
         "source": [
            "df_question.drop_duplicates(subset=[\"question\"], inplace=False).describe()"
         ]
      },
      {
         "cell_type": "markdown",
         "metadata": {},
         "source": []
      },
      {
         "cell_type": "markdown",
         "metadata": {},
         "source": [
            "# convert trivia qa in jsonl to json"
         ]
      },
      {
         "cell_type": "code",
         "execution_count": 3,
         "metadata": {},
         "outputs": [],
         "source": [
            "train = io.load_jsonlines(\"/data/users/zliu/KE-by-CP/data/trivia_qa_wiki_sft/train.jsonl\")"
         ]
      },
      {
         "cell_type": "code",
         "execution_count": 4,
         "metadata": {},
         "outputs": [],
         "source": [
            "from transformers import AutoTokenizer\n",
            "tokenizer = AutoTokenizer.from_pretrained(\"/home/zliu/shared_resources/models/llama3/hf/Llama-3.1-8B-w-pad\")"
         ]
      },
      {
         "cell_type": "code",
         "execution_count": null,
         "metadata": {},
         "outputs": [],
         "source": [
            "def prepare_sft_text(dataset: list, tokenizer):\n",
            "    # assert len(tokenizer.additional_special_tokens) == 1\n",
            "\n",
            "    new_dataset = []\n",
            "    has_show_example = False\n",
            "    for datum in dataset:\n",
            "        q = datum[\"question\"]\n",
            "        a = str(datum[\"answer\"])\n",
            "        # t = f\"{q}{tokenizer.additional_special_tokens[0]}{a}\" if a[0] == \" \" else f\"{q}{tokenizer.additional_special_tokens[0]} {a}\"\n",
            "        t = f\"{q}{a}\" if a[0] == \" \" else f\"{q} {a}\"\n",
            "        t += tokenizer.eos_token\n",
            "        if not has_show_example:\n",
            "            print(f\"Example: -> {t}\")\n",
            "            has_show_example = True\n",
            "        datum[\"text\"] = t\n",
            "        new_dataset.append(datum)\n",
            "    return new_dataset\n"
         ]
      },
      {
         "cell_type": "code",
         "execution_count": 7,
         "metadata": {},
         "outputs": [
            {
               "name": "stdout",
               "output_type": "stream",
               "text": [
                  "Example: -> Where in England was Dame Judi Dench born? York<|end_of_text|>\n"
               ]
            }
         ],
         "source": [
            "processed_train = prepare_sft_text(train, tokenizer)"
         ]
      },
      {
         "cell_type": "code",
         "execution_count": 8,
         "metadata": {},
         "outputs": [],
         "source": [
            "response_template = \"?\"\n",
            "filtered_train_dataset = []\n",
            "for datum in processed_train:\n",
            "    text = datum[\"text\"]\n",
            "    if all([x in tokenizer(text)[\"input_ids\"] for x in tokenizer(response_template, add_special_tokens=False)[\"input_ids\"]]):\n",
            "        filtered_train_dataset.append(datum)\n",
            "        "
         ]
      },
      {
         "cell_type": "code",
         "execution_count": 10,
         "metadata": {},
         "outputs": [
            {
               "data": {
                  "text/plain": [
                     "58539"
                  ]
               },
               "execution_count": 10,
               "metadata": {},
               "output_type": "execute_result"
            }
         ],
         "source": [
            "len(processed_train)"
         ]
      },
      {
         "cell_type": "code",
         "execution_count": 26,
         "metadata": {},
         "outputs": [],
         "source": [
            "processed_train_in_alpaca = []\n",
            "for datum in filtered_train_dataset:\n",
            "    text = datum[\"text\"]\n",
            "    processed_train_in_alpaca.append({\n",
            "        \"instruction\": datum[\"question\"],\n",
            "        \"input\": \"\",\n",
            "        \"output\": (\"\" if datum[\"answer\"][0] == \" \" else \" \") + datum[\"answer\"]\n",
            "    })"
         ]
      },
      {
         "cell_type": "code",
         "execution_count": 28,
         "metadata": {},
         "outputs": [],
         "source": [
            "io.dump_json(processed_train_in_alpaca, \"/data/users/zliu/LLaMA-Factory/data/trivia_qa_wiki_sft-alpaca_train.json\")"
         ]
      },
      {
         "cell_type": "markdown",
         "metadata": {},
         "source": [
            "# convert trivia qa in jsonl to json"
         ]
      },
      {
         "cell_type": "code",
         "execution_count": 32,
         "metadata": {},
         "outputs": [],
         "source": [
            "train = io.load_jsonlines(f\"{vars.DATA_DIR}/debug_meta_train/syn_data_neurips/model_prep/light_weight_sft_content_curated_v1_sample=10.jsonl\")"
         ]
      },
      {
         "cell_type": "code",
         "execution_count": 34,
         "metadata": {},
         "outputs": [
            {
               "data": {
                  "text/plain": [
                     "{'entity_type': 'Person',\n",
                     " 'entity_type_tag': 'person',\n",
                     " 'entity_name': 'Marie Antoinette',\n",
                     " 'template': 'How many children did {person} have?',\n",
                     " 'question': 'How many children did Marie Antoinette have?',\n",
                     " 'answer': '4'}"
                  ]
               },
               "execution_count": 34,
               "metadata": {},
               "output_type": "execute_result"
            }
         ],
         "source": [
            "train[0]"
         ]
      },
      {
         "cell_type": "code",
         "execution_count": 35,
         "metadata": {},
         "outputs": [],
         "source": [
            "processed_train_in_alpaca = []\n",
            "for datum in train:\n",
            "    processed_train_in_alpaca.append({\n",
            "        \"instruction\": datum[\"question\"],\n",
            "        \"input\": \"\",\n",
            "        \"output\": (\"\" if datum[\"answer\"][0] == \" \" else \" \") + datum[\"answer\"]\n",
            "    })"
         ]
      },
      {
         "cell_type": "code",
         "execution_count": 36,
         "metadata": {},
         "outputs": [
            {
               "data": {
                  "text/plain": [
                     "480"
                  ]
               },
               "execution_count": 36,
               "metadata": {},
               "output_type": "execute_result"
            }
         ],
         "source": [
            "len(processed_train_in_alpaca)"
         ]
      },
      {
         "cell_type": "code",
         "execution_count": 37,
         "metadata": {},
         "outputs": [
            {
               "data": {
                  "text/plain": [
                     "480"
                  ]
               },
               "execution_count": 37,
               "metadata": {},
               "output_type": "execute_result"
            }
         ],
         "source": [
            "len(train)"
         ]
      },
      {
         "cell_type": "code",
         "execution_count": 38,
         "metadata": {},
         "outputs": [],
         "source": [
            "io.dump_json(\n",
            "    processed_train_in_alpaca,\n",
            "    \"/data/users/zliu/LLaMA-Factory/data/template_sft_alpaca_train.json\"\n",
            ")"
         ]
      },
      {
         "cell_type": "code",
         "execution_count": null,
         "metadata": {},
         "outputs": [],
         "source": []
      }
   ],
   "metadata": {
      "kernelspec": {
         "display_name": "cpt",
         "language": "python",
         "name": "python3"
      },
      "language_info": {
         "codemirror_mode": {
            "name": "ipython",
            "version": 3
         },
         "file_extension": ".py",
         "mimetype": "text/x-python",
         "name": "python",
         "nbconvert_exporter": "python",
         "pygments_lexer": "ipython3",
         "version": "3.11.0"
      }
   },
   "nbformat": 4,
   "nbformat_minor": 2
}
