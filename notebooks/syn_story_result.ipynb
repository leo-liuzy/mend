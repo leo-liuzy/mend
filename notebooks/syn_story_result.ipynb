{
   "cells": [
      {
         "cell_type": "code",
         "execution_count": 1,
         "metadata": {},
         "outputs": [
            {
               "name": "stderr",
               "output_type": "stream",
               "text": [
                  "/home/zliu/miniconda3/envs/cpt/lib/python3.11/site-packages/tqdm/auto.py:21: TqdmWarning: IProgress not found. Please update jupyter and ipywidgets. See https://ipywidgets.readthedocs.io/en/stable/user_install.html\n",
                  "  from .autonotebook import tqdm as notebook_tqdm\n"
               ]
            }
         ],
         "source": [
            "\n",
            "import pandas as pd\n",
            "# from experiments.musique.inference_only import macro_averaging\n",
            "from knowledge_propagation.utils import io, vars, extractor\n",
            "import os\n",
            "import numpy as np\n",
            "from tqdm import tqdm\n",
            "import seaborn as sns\n",
            "import matplotlib.pyplot as plt\n",
            "from glob import glob\n",
            "from scipy.stats import describe\n",
            "from thefuzz import fuzz\n",
            "from knowledge_propagation.utils.eval import is_significantly_different\n",
            "from collections import Counter\n",
            "from knowledge_propagation.modules.evaluators import (\n",
            "    ExactMatchEvaluator,\n",
            "    RougeEvaluator,\n",
            "    OpenAIEvaluator,\n",
            ")\n",
            "llm_evaluator = OpenAIEvaluator()\n",
            "from typing import List, Dict, Tuple\n",
            "\n",
            "os.getcwd()\n",
            "def macro_averaging(df: pd.DataFrame, metrics: List[str], multi_level_averaging: List[str]):\n",
            "    \"\"\"\n",
            "    Do macro-averaging over the given metrics and multi-level averaging categories.\n",
            "    \"\"\"\n",
            "    extracted_multi_level_cols = [[m, \"mean\"] for m in metrics]\n",
            "    while len(multi_level_averaging) > 0:\n",
            "        # first take the mean over each generation,\n",
            "        # and, only take `mean` of `rouge1` and  `llm_accuracy` column groups\n",
            "        df_over_cols = df.groupby(multi_level_averaging, observed=True).describe()[extracted_multi_level_cols]\n",
            "        # remove the multi-level column indices, since there's only one sub-level -- \"mean\"\n",
            "        df_over_cols.columns = df_over_cols.columns.get_level_values(0)\n",
            "\n",
            "        # reset index to flatten the multi-level column indices for the next macro-averaging class\n",
            "        df = df_over_cols.reset_index(inplace=False)\n",
            "        multi_level_averaging.pop(-1)\n",
            "    return df"
         ]
      },
      {
         "cell_type": "code",
         "execution_count": 2,
         "metadata": {},
         "outputs": [],
         "source": [
            "fpath = \"/data/users/zliu/mend/synstory_exp_output/4K_heavy_share_layer4_15/syn_story/mend_eval_loss=clm_input=seen_n=350_prompt=no_w-gen_wo-icl_4K_test_ood-entity-question.xlsx\"\n",
            "df1 = pd.read_excel(fpath)\n",
            "# df2 = pd.read_excel(\"/u/zliu/datastor1/mend/synstory_exp_output/qwen2.5-1.5B-eos-sft-template-format-curated-v1-lr2e-6-sample-10/4K_test_id/base_n=500_prompt=no_w-gen_wo-icl_ice=True.xlsx\")"
         ]
      },
      {
         "cell_type": "code",
         "execution_count": 93,
         "metadata": {},
         "outputs": [],
         "source": [
            "# 4K_test_id\n",
            "# val_data = io.load_jsonlines(f\"{vars.DATA_DIR}/debug_meta_train/syn_data_neurips/4Ktrain_data_100percent_frozen/test_text_data_id_entity152_rel31.jsonl\")\n",
            "# 4K_test_ood-entity\n",
            "# val_data = io.load_jsonlines(f\"{vars.DATA_DIR}/debug_meta_train/syn_data_neurips/4Ktrain_data_100percent_frozen/test_text_data_ood-entity_entity37_rel31.jsonl\")\n",
            "# 4K_test_ood-relation\n",
            "# val_data = io.load_jsonlines(f\"{vars.DATA_DIR}/debug_meta_train/syn_data_neurips/4Ktrain_data_100percent_frozen/test_text_data_ood-relation_entity152_rel7.jsonl\")\n",
            "# 4K_test_ood\n",
            "val_data = io.load_jsonlines(f\"{vars.DATA_DIR}/debug_meta_train/syn_data_neurips/4Ktrain_data_100percent_frozen/test_text_data_ood_entity37_rel7.jsonl\")\n",
            "\n",
            "questions = []\n",
            "for datum in val_data:\n",
            "    for question_type, test_queries in [(\"efficacy\", datum[\"questions\"]),]:\n",
            "        for question_key in [\"alias_question\", \"unalias_question\"][:]:\n",
            "            for q_i, test_query in enumerate(test_queries):\n",
            "                questions.append(test_query[question_key])"
         ]
      },
      {
         "cell_type": "code",
         "execution_count": 94,
         "metadata": {},
         "outputs": [],
         "source": [
            "df1[\"question\"] = questions"
         ]
      },
      {
         "cell_type": "code",
         "execution_count": 95,
         "metadata": {},
         "outputs": [
            {
               "data": {
                  "text/plain": [
                     "np.True_"
                  ]
               },
               "execution_count": 95,
               "metadata": {},
               "output_type": "execute_result"
            }
         ],
         "source": [
            "df2 = pd.read_excel(\"/u/zliu/datastor1/mend/synstory_exp_output/llama3.2-1B-eos-sft-template-format-curated-v1-lr2e-6-sample-10/4K_test_ood/base_n=350_prompt=no_w-gen_wo-icl_ice=False.xlsx\")\n",
            "(df1[\"question\"] == df2[\"question\"]).all()"
         ]
      },
      {
         "cell_type": "code",
         "execution_count": 12,
         "metadata": {},
         "outputs": [
            {
               "data": {
                  "text/plain": [
                     "'[[<|begin_of_text|>Orange Strategies LLC drew early inspiration from The Haitian Revolution to shape its culture. Over time, English Civil War became a common point of reflection within the company. Later, it highlighted Napoleonic Wars in an initiative promoting historical awareness.<|end_of_text|>]]'"
                  ]
               },
               "execution_count": 12,
               "metadata": {},
               "output_type": "execute_result"
            }
         ],
         "source": [
            "df1.iloc[2733][\"edit_input\"]"
         ]
      },
      {
         "cell_type": "code",
         "execution_count": 19,
         "metadata": {},
         "outputs": [
            {
               "data": {
                  "text/plain": [
                     "'What type of organism is the species that Purple Marketing Ltd. supported a conservation project for?'"
                  ]
               },
               "execution_count": 19,
               "metadata": {},
               "output_type": "execute_result"
            }
         ],
         "source": [
            "df1[df1[\"llm_accuracy\"] == 0].iloc[1][\"question\"]"
         ]
      },
      {
         "cell_type": "code",
         "execution_count": 20,
         "metadata": {},
         "outputs": [
            {
               "data": {
                  "text/plain": [
                     "960"
                  ]
               },
               "execution_count": 20,
               "metadata": {},
               "output_type": "execute_result"
            }
         ],
         "source": [
            "len(df1[df1[\"llm_accuracy\"] == 0])"
         ]
      },
      {
         "cell_type": "code",
         "execution_count": 25,
         "metadata": {},
         "outputs": [
            {
               "data": {
                  "text/html": [
                     "<div>\n",
                     "<style scoped>\n",
                     "    .dataframe tbody tr th:only-of-type {\n",
                     "        vertical-align: middle;\n",
                     "    }\n",
                     "\n",
                     "    .dataframe tbody tr th {\n",
                     "        vertical-align: top;\n",
                     "    }\n",
                     "\n",
                     "    .dataframe thead th {\n",
                     "        text-align: right;\n",
                     "    }\n",
                     "</style>\n",
                     "<table border=\"1\" class=\"dataframe\">\n",
                     "  <thead>\n",
                     "    <tr style=\"text-align: right;\">\n",
                     "      <th></th>\n",
                     "      <th>id</th>\n",
                     "      <th>edit_input</th>\n",
                     "      <th>stage</th>\n",
                     "      <th>question_key</th>\n",
                     "      <th>question_type</th>\n",
                     "      <th>question</th>\n",
                     "      <th>answer</th>\n",
                     "      <th>predicted_answer_idx</th>\n",
                     "      <th>predicted_answer</th>\n",
                     "      <th>llm_accuracy</th>\n",
                     "    </tr>\n",
                     "  </thead>\n",
                     "  <tbody>\n",
                     "    <tr>\n",
                     "      <th>1</th>\n",
                     "      <td>0</td>\n",
                     "      <td>[[&lt;|begin_of_text|&gt;Purple Marketing Ltd. devel...</td>\n",
                     "      <td>post-edit</td>\n",
                     "      <td>alias_question</td>\n",
                     "      <td>efficacy</td>\n",
                     "      <td>What is the diet of the species that Purple Ma...</td>\n",
                     "      <td>Insects and small invertebrates</td>\n",
                     "      <td>0</td>\n",
                     "      <td>Monkeys</td>\n",
                     "      <td>0.0</td>\n",
                     "    </tr>\n",
                     "    <tr>\n",
                     "      <th>2</th>\n",
                     "      <td>0</td>\n",
                     "      <td>[[&lt;|begin_of_text|&gt;Purple Marketing Ltd. devel...</td>\n",
                     "      <td>post-edit</td>\n",
                     "      <td>alias_question</td>\n",
                     "      <td>efficacy</td>\n",
                     "      <td>What type of organism is the species that Purp...</td>\n",
                     "      <td>Crustacean</td>\n",
                     "      <td>0</td>\n",
                     "      <td>Mammals</td>\n",
                     "      <td>0.0</td>\n",
                     "    </tr>\n",
                     "    <tr>\n",
                     "      <th>7</th>\n",
                     "      <td>1</td>\n",
                     "      <td>[[&lt;|begin_of_text|&gt;Evelyn Hall became fascinat...</td>\n",
                     "      <td>post-edit</td>\n",
                     "      <td>alias_question</td>\n",
                     "      <td>efficacy</td>\n",
                     "      <td>What is the diet of the species that triggered...</td>\n",
                     "      <td>Leaves, twigs, and fruits of trees and shrubs</td>\n",
                     "      <td>0</td>\n",
                     "      <td>Carnivorous; eats small mammals, birds, carrio...</td>\n",
                     "      <td>0.0</td>\n",
                     "    </tr>\n",
                     "    <tr>\n",
                     "      <th>13</th>\n",
                     "      <td>2</td>\n",
                     "      <td>[[&lt;|begin_of_text|&gt;David Garcia developed a pa...</td>\n",
                     "      <td>post-edit</td>\n",
                     "      <td>alias_question</td>\n",
                     "      <td>efficacy</td>\n",
                     "      <td>Who was the most important leader or figure in...</td>\n",
                     "      <td>Maximilien Robespierre</td>\n",
                     "      <td>0</td>\n",
                     "      <td>Napoleon Bonaparte</td>\n",
                     "      <td>0.0</td>\n",
                     "    </tr>\n",
                     "    <tr>\n",
                     "      <th>16</th>\n",
                     "      <td>3</td>\n",
                     "      <td>[[&lt;|begin_of_text|&gt;Teal Manufacturing Ltd. beg...</td>\n",
                     "      <td>post-edit</td>\n",
                     "      <td>alias_question</td>\n",
                     "      <td>efficacy</td>\n",
                     "      <td>What writing system is used by the language th...</td>\n",
                     "      <td>Cyrillic</td>\n",
                     "      <td>0</td>\n",
                     "      <td>Latin alphabet</td>\n",
                     "      <td>0.0</td>\n",
                     "    </tr>\n",
                     "    <tr>\n",
                     "      <th>...</th>\n",
                     "      <td>...</td>\n",
                     "      <td>...</td>\n",
                     "      <td>...</td>\n",
                     "      <td>...</td>\n",
                     "      <td>...</td>\n",
                     "      <td>...</td>\n",
                     "      <td>...</td>\n",
                     "      <td>...</td>\n",
                     "      <td>...</td>\n",
                     "      <td>...</td>\n",
                     "    </tr>\n",
                     "    <tr>\n",
                     "      <th>2722</th>\n",
                     "      <td>347</td>\n",
                     "      <td>[[&lt;|begin_of_text|&gt;Hill Energy Corp. built its...</td>\n",
                     "      <td>post-edit</td>\n",
                     "      <td>alias_question</td>\n",
                     "      <td>efficacy</td>\n",
                     "      <td>What is the genre or style of the creative wor...</td>\n",
                     "      <td>Romantic novel, social satire</td>\n",
                     "      <td>0</td>\n",
                     "      <td>Crime, black comedy, thriller</td>\n",
                     "      <td>0.0</td>\n",
                     "    </tr>\n",
                     "    <tr>\n",
                     "      <th>2725</th>\n",
                     "      <td>347</td>\n",
                     "      <td>[[&lt;|begin_of_text|&gt;Hill Energy Corp. built its...</td>\n",
                     "      <td>post-edit</td>\n",
                     "      <td>unalias_question</td>\n",
                     "      <td>efficacy</td>\n",
                     "      <td>Where was Pan's Labyrinth produced or created?</td>\n",
                     "      <td>Spain</td>\n",
                     "      <td>0</td>\n",
                     "      <td>United Kingdom</td>\n",
                     "      <td>0.0</td>\n",
                     "    </tr>\n",
                     "    <tr>\n",
                     "      <th>2729</th>\n",
                     "      <td>348</td>\n",
                     "      <td>[[&lt;|begin_of_text|&gt;Caleb Diaz developed a pass...</td>\n",
                     "      <td>post-edit</td>\n",
                     "      <td>alias_question</td>\n",
                     "      <td>efficacy</td>\n",
                     "      <td>Who was the most important leader or figure in...</td>\n",
                     "      <td>Samuel Adams</td>\n",
                     "      <td>0</td>\n",
                     "      <td>Abraham Lincoln</td>\n",
                     "      <td>0.0</td>\n",
                     "    </tr>\n",
                     "    <tr>\n",
                     "      <th>2732</th>\n",
                     "      <td>349</td>\n",
                     "      <td>[[&lt;|begin_of_text|&gt;Orange Strategies LLC drew ...</td>\n",
                     "      <td>post-edit</td>\n",
                     "      <td>alias_question</td>\n",
                     "      <td>efficacy</td>\n",
                     "      <td>In which country did the event that Orange Str...</td>\n",
                     "      <td>Europe</td>\n",
                     "      <td>0</td>\n",
                     "      <td>United States</td>\n",
                     "      <td>0.0</td>\n",
                     "    </tr>\n",
                     "    <tr>\n",
                     "      <th>2733</th>\n",
                     "      <td>349</td>\n",
                     "      <td>[[&lt;|begin_of_text|&gt;Orange Strategies LLC drew ...</td>\n",
                     "      <td>post-edit</td>\n",
                     "      <td>alias_question</td>\n",
                     "      <td>efficacy</td>\n",
                     "      <td>Who was the most important leader or figure in...</td>\n",
                     "      <td>Toussaint Louverture</td>\n",
                     "      <td>0</td>\n",
                     "      <td>Abraham Lincoln</td>\n",
                     "      <td>0.0</td>\n",
                     "    </tr>\n",
                     "  </tbody>\n",
                     "</table>\n",
                     "<p>960 rows × 10 columns</p>\n",
                     "</div>"
                  ],
                  "text/plain": [
                     "       id                                         edit_input      stage  \\\n",
                     "1       0  [[<|begin_of_text|>Purple Marketing Ltd. devel...  post-edit   \n",
                     "2       0  [[<|begin_of_text|>Purple Marketing Ltd. devel...  post-edit   \n",
                     "7       1  [[<|begin_of_text|>Evelyn Hall became fascinat...  post-edit   \n",
                     "13      2  [[<|begin_of_text|>David Garcia developed a pa...  post-edit   \n",
                     "16      3  [[<|begin_of_text|>Teal Manufacturing Ltd. beg...  post-edit   \n",
                     "...   ...                                                ...        ...   \n",
                     "2722  347  [[<|begin_of_text|>Hill Energy Corp. built its...  post-edit   \n",
                     "2725  347  [[<|begin_of_text|>Hill Energy Corp. built its...  post-edit   \n",
                     "2729  348  [[<|begin_of_text|>Caleb Diaz developed a pass...  post-edit   \n",
                     "2732  349  [[<|begin_of_text|>Orange Strategies LLC drew ...  post-edit   \n",
                     "2733  349  [[<|begin_of_text|>Orange Strategies LLC drew ...  post-edit   \n",
                     "\n",
                     "          question_key question_type  \\\n",
                     "1       alias_question      efficacy   \n",
                     "2       alias_question      efficacy   \n",
                     "7       alias_question      efficacy   \n",
                     "13      alias_question      efficacy   \n",
                     "16      alias_question      efficacy   \n",
                     "...                ...           ...   \n",
                     "2722    alias_question      efficacy   \n",
                     "2725  unalias_question      efficacy   \n",
                     "2729    alias_question      efficacy   \n",
                     "2732    alias_question      efficacy   \n",
                     "2733    alias_question      efficacy   \n",
                     "\n",
                     "                                               question  \\\n",
                     "1     What is the diet of the species that Purple Ma...   \n",
                     "2     What type of organism is the species that Purp...   \n",
                     "7     What is the diet of the species that triggered...   \n",
                     "13    Who was the most important leader or figure in...   \n",
                     "16    What writing system is used by the language th...   \n",
                     "...                                                 ...   \n",
                     "2722  What is the genre or style of the creative wor...   \n",
                     "2725     Where was Pan's Labyrinth produced or created?   \n",
                     "2729  Who was the most important leader or figure in...   \n",
                     "2732  In which country did the event that Orange Str...   \n",
                     "2733  Who was the most important leader or figure in...   \n",
                     "\n",
                     "                                             answer  predicted_answer_idx  \\\n",
                     "1                   Insects and small invertebrates                     0   \n",
                     "2                                        Crustacean                     0   \n",
                     "7     Leaves, twigs, and fruits of trees and shrubs                     0   \n",
                     "13                           Maximilien Robespierre                     0   \n",
                     "16                                         Cyrillic                     0   \n",
                     "...                                             ...                   ...   \n",
                     "2722                  Romantic novel, social satire                     0   \n",
                     "2725                                          Spain                     0   \n",
                     "2729                                   Samuel Adams                     0   \n",
                     "2732                                         Europe                     0   \n",
                     "2733                           Toussaint Louverture                     0   \n",
                     "\n",
                     "                                       predicted_answer  llm_accuracy  \n",
                     "1                                               Monkeys           0.0  \n",
                     "2                                               Mammals           0.0  \n",
                     "7     Carnivorous; eats small mammals, birds, carrio...           0.0  \n",
                     "13                                   Napoleon Bonaparte           0.0  \n",
                     "16                                       Latin alphabet           0.0  \n",
                     "...                                                 ...           ...  \n",
                     "2722                      Crime, black comedy, thriller           0.0  \n",
                     "2725                                     United Kingdom           0.0  \n",
                     "2729                                    Abraham Lincoln           0.0  \n",
                     "2732                                      United States           0.0  \n",
                     "2733                                    Abraham Lincoln           0.0  \n",
                     "\n",
                     "[960 rows x 10 columns]"
                  ]
               },
               "execution_count": 25,
               "metadata": {},
               "output_type": "execute_result"
            }
         ],
         "source": [
            "df1[df1[\"llm_accuracy\"] == 0]"
         ]
      },
      {
         "cell_type": "code",
         "execution_count": 29,
         "metadata": {},
         "outputs": [
            {
               "data": {
                  "text/plain": [
                     "1404"
                  ]
               },
               "execution_count": 29,
               "metadata": {},
               "output_type": "execute_result"
            }
         ],
         "source": [
            "len(df1[df1[\"llm_accuracy\"] == 1])"
         ]
      },
      {
         "cell_type": "code",
         "execution_count": null,
         "metadata": {},
         "outputs": [],
         "source": []
      },
      {
         "cell_type": "code",
         "execution_count": 89,
         "metadata": {},
         "outputs": [
            {
               "name": "stdout",
               "output_type": "stream",
               "text": [
                  "563\n"
               ]
            }
         ],
         "source": [
            "all_answers = set()\n",
            "for d in io.load_jsonlines(\"/data/users/zliu/KE-by-CP/data/debug_meta_train/syn_data_neurips/4Ktrain_data_100percent_frozen/train_text_data_id_entity152_rel31.jsonl\"):\n",
            "    for q in d[\"questions\"]:\n",
            "        all_answers.add(str(q[\"answer\"]))\n",
            "\n",
            "print(len(all_answers))"
         ]
      },
      {
         "cell_type": "code",
         "execution_count": null,
         "metadata": {},
         "outputs": [],
         "source": []
      },
      {
         "cell_type": "code",
         "execution_count": 94,
         "metadata": {},
         "outputs": [
            {
               "name": "stdout",
               "output_type": "stream",
               "text": [
                  "Who was the most important leader or figure involved in the event that Morgan Dynamics Corp. commonly reflected on?\n",
                  "What is the diet of the species that triggered Scarlett Ramirez's fascination with nature?\n",
                  "What occupation is the person whose thinking inspires Cruz Networks Inc.’s strategic initiative most well-known for?\n",
                  "What year did the person whose thinking inspires Cruz Networks Inc.’s strategic initiative pass away?\n",
                  "What is the social structure of the species that Orange Services Inc. partnered with researchers to study?\n",
                  "What year did the person that Anthony Lopez focused his thesis on pass away?\n",
                  "Who established the organization that supported Jones Hardware Inc.'s first product?\n",
                  "When was the creative work that started Adam Rivera's love for creativity released or published?\n",
                  "When was the creative work that inspired Jonathan Price's award-winning work released or published?\n",
                  "In which country was the creative work that Hannah Hill analyzed in his thesis first released or published?\n",
                  "What is the genre or style of the creative work that started Hannah Hill's love for creativity?\n",
                  "When was the creative work that Campbell Electric Corp. recommended for creative development released or published?\n",
                  "Where was the creative work that Campbell Electric Corp. recommended for creative development produced or created?\n",
                  "In which country was the creative work that Campbell Electric Corp. recommended for creative development first released or published?\n",
                  "What is the capital of the country that Joseph Cruz most of his adult life in?\n",
                  "Where was the creative work that Morgan Analytics PLC recommended for creative development produced or created?\n",
                  "In which country was the creative work that Morgan Analytics PLC recommended for creative development first released or published?\n",
                  "Who was the most important leader or figure involved in the event that Reyes Imports PLC commonly reflected on?\n",
                  "What is the social structure of the species that triggered Matthew Roberts's fascination with nature?\n",
                  "Where was the birthplace of the person that Marcus Collins wrote about in an 8th-grade book report?\n",
                  "In what year was the organization that Victoria Cox began career at established?\n",
                  "Who established the organization that Victoria Cox began career at?\n",
                  "Where was the birthplace of the person that Olivia Clark focused her thesis on?\n",
                  "What year was the person that Olivia Clark curated museum exhibitions to honor born?\n",
                  "When was the creative work that Torres Investments LLC recommended for creative development released or published?\n",
                  "In which country was the creative work that Torres Investments LLC recommended for creative development first released or published?\n",
                  "What is the genre or style of the creative work that Torres Investments LLC recommended for creative development?\n",
                  "What type of organism is the species that triggered Christopher Davis's fascination with nature?\n",
                  "What is the calling code for the country that Lily Wilson was born in?\n",
                  "What region is the language that Wood Dynamics Ltd. supported as its second language native to?\n",
                  "What year was the person that inspired Bailey Marketing Corp.'s mission born?\n",
                  "Where was the creative work that inspired Jasmine Lopez's award-winning work produced or created?\n",
                  "In which country was the creative work that inspired Jasmine Lopez's award-winning work first released or published?\n",
                  "What is the genre or style of the creative work that inspired Jasmine Lopez's award-winning work?\n",
                  "What type of organism is the species that Rivera Software PLC documented behavior of?\n",
                  "What writing system is used by the language that Thomas Turner majored in college?\n",
                  "What region is the language that Thomas Turner majored in college native to?\n",
                  "What is the diet of the species that Amelia Wilson conducted research on during graduate school?\n",
                  "What year did the person whose legacy Blue Marketing Corp. honored with a project pass away?\n",
                  "What year was the person whose legacy Blue Marketing Corp. honored with a project born?\n",
                  "Who was the most important leader or figure involved in the event that inspired Orange Group Inc.'s culture?\n",
                  "What is the primary field or industry of the organization that Ryan Mendoza became a manager at?\n",
                  "What primary service or product does the organization that Ryan Mendoza became a manager at provide?\n",
                  "What occupation is the person that Christopher Sanchez wrote about in an 8th-grade book report most well-known for?\n",
                  "What year did the person that Christopher Sanchez wrote about in an 8th-grade book report pass away?\n",
                  "What year was the person that Christopher Sanchez wrote about in an 8th-grade book report born?\n",
                  "What occupation is the person whose thinking inspires Hill Concepts PLC’s strategic initiative most well-known for?\n",
                  "Where was the birthplace of the person that inspired Hill Concepts PLC's mission?\n",
                  "What year did the person whose legacy Hill Concepts PLC honored with a project pass away?\n",
                  "What is the diet of the species that triggered Jennifer Nguyen's fascination with nature?\n",
                  "What is the ISO 639‑1 code for the language that Bailey Services PLC launched a major initiative in?\n",
                  "What year was the person that Noah Lopez curated museum exhibitions to honor born?\n",
                  "What year was the person that Samuel Hernandez focused his thesis on born?\n",
                  "What is the primary field or industry of the organization that acquired Torres Security Corp.?\n",
                  "What primary service or product does the organization that acquired Torres Security Corp. provide?\n",
                  "What primary service or product does the organization that Anna Nguyen was recruited as director at provide?\n",
                  "When was the creative work that Collins Designs Corp.'s employees commonly discussed released or published?\n",
                  "Where was the creative work that Collins Designs Corp. recommended for creative development produced or created?\n",
                  "In which country was the creative work that Collins Designs Corp. recommended for creative development first released or published?\n",
                  "What is the genre or style of the creative work that Collins Designs Corp. recommended for creative development?\n",
                  "What is the original language of the creative work that Emily Lopez analyzed in his thesis?\n",
                  "Where was the creative work that inspired Emily Lopez's award-winning work produced or created?\n",
                  "In which country was the creative work that Emily Lopez analyzed in his thesis first released or published?\n",
                  "What is the genre or style of the creative work that inspired Emily Lopez's award-winning work?\n",
                  "What occupation is the person whose thinking inspires Gold Concepts Corp.’s strategic initiative most well-known for?\n",
                  "Where was the birthplace of the person that inspired Gold Concepts Corp.'s mission?\n",
                  "What year did the person that inspired Gold Concepts Corp.'s mission pass away?\n",
                  "Where was the organization that Brian Lee began career at established?\n",
                  "In what year was the organization that Brian Lee began career at established?\n",
                  "Who established the organization that Brian Lee became a manager at?\n",
                  "What is the primary field or industry of the organization that Brian Lee was recruited as director at?\n",
                  "Where was the birthplace of the person that Samuel Kim focused his thesis on?\n",
                  "Where was the birthplace of the person that Sofia Gutierrez focused her thesis on?\n",
                  "In what year was the organization that Matthew Chavez was recruited as director at established?\n",
                  "What is the primary field or industry of the organization that Matthew Chavez was recruited as director at?\n",
                  "What primary service or product does the organization that Matthew Chavez became a manager at provide?\n",
                  "What occupation is the person whose thinking inspires Harris Resources LLC’s strategic initiative most well-known for?\n",
                  "What year was the person that inspired Harris Resources LLC's mission born?\n",
                  "Where was the birthplace of the person whose thinking inspires Moore Solutions LLC’s strategic initiative?\n",
                  "What year was the person whose legacy Moore Solutions LLC honored with a project born?\n",
                  "In which country did the event that Harper Gonzalez researched in college happen?\n",
                  "Who was the most important leader or figure involved in the event that Harper Gonzalez curated an exhibition on?\n",
                  "What is the ISO 639‑1 code for the language that Elena Ruiz majored in college?\n",
                  "In which country did the event that Harper Davis researched in college happen?\n",
                  "In what year was the organization that acquired Hill Designs LLC established?\n",
                  "Where was the organization that supported Blue Marketing Corp.'s first product established?\n",
                  "In what year was the organization that acquired Blue Marketing Corp. established?\n",
                  "Who established the organization that Blue Marketing Corp. collaborated on a major project with?\n",
                  "What primary service or product does the organization that supported Blue Marketing Corp.'s first product provide?\n",
                  "What is the social structure of the species that Jennifer Torres conducted research on during graduate school?\n",
                  "What is the diet of the species that triggered Jennifer Torres's fascination with nature?\n",
                  "What type of organism is the species that triggered Jennifer Torres's fascination with nature?\n",
                  "What year did the person that Abigail Carter focused his thesis on pass away?\n",
                  "What year did the person that Layla Watson wrote about in an 8th-grade book report pass away?\n",
                  "What is the religion of the person that Layla Watson focused his thesis on?\n",
                  "Who was the most important leader or figure involved in the event that Elena Kim curated an exhibition on?\n",
                  "What year did the person whose thinking inspires Amber Resources PLC’s strategic initiative pass away?\n",
                  "What is the religion of the person that inspired Amber Resources PLC's mission?\n",
                  "Where was the organization that acquired Bronze Holdings PLC established?\n",
                  "In what year was the organization that Bronze Holdings PLC collaborated on a major project with established?\n",
                  "When was the creative work that started Olivia Lopez's love for creativity released or published?\n",
                  "Where was the creative work that inspired James Lewis's award-winning work produced or created?\n",
                  "What is the genre or style of the creative work that started James Lewis's love for creativity?\n",
                  "What year did the person whose thinking inspires Davis Systems Inc.’s strategic initiative pass away?\n",
                  "Where was the organization that Zoe Williams began career at established?\n",
                  "In what year was the organization that Zoe Williams became a manager at established?\n",
                  "What is the primary field or industry of the organization that Zoe Williams began career at?\n",
                  "What primary service or product does the organization that Zoe Williams began career at provide?\n",
                  "In what year was the organization that acquired Silver Ventures Ltd. established?\n",
                  "What primary service or product does the organization that supported Silver Ventures Ltd.'s first product provide?\n",
                  "What year was the person that James Parker focused his thesis on born?\n",
                  "Who was the most important leader or figure involved in the event that Nathan Thompson researched in college?\n",
                  "What region is the language that Teal Trading Inc. launched a major initiative in native to?\n",
                  "What is the currency of the country that Elena Adams most of her adult life in?\n",
                  "Where was the organization that Daniel Gray was recruited as director at established?\n",
                  "In what year was the organization that Daniel Gray became a manager at established?\n",
                  "Who established the organization that Daniel Gray began career at?\n",
                  "What primary service or product does the organization that Daniel Gray was recruited as director at provide?\n",
                  "In which country did the event that Riley Thompson researched in college happen?\n",
                  "What year did the person that Avery Brown curated museum exhibitions to honor pass away?\n",
                  "What year was the person that Avery Brown focused his thesis on born?\n",
                  "Which ethnic group is the largest in the country that hosted Rogers Media Corp.'s global headquarters?\n",
                  "When was the creative work that Ramirez Systems Inc.'s employees commonly discussed released or published?\n",
                  "Where was the creative work that Ramirez Systems Inc.'s employees commonly discussed produced or created?\n",
                  "In which country was the creative work that Ramirez Systems Inc.'s employees commonly discussed first released or published?\n",
                  "What primary service or product does the organization that Collins Systems Inc. collaborated on a major project with provide?\n",
                  "Where was the birthplace of the person whose legacy Wood Engineering Inc. honored with a project?\n",
                  "What language was primarily spoken by the person whose thinking inspires Wood Engineering Inc.’s strategic initiative?\n",
                  "What is the genre or style of the creative work that inspired Harper Parker's award-winning work?\n",
                  "Where was the organization that Jason Hughes became a manager at established?\n",
                  "In what year was the organization that Jason Hughes began career at established?\n",
                  "What primary service or product does the organization that Jason Hughes began career at provide?\n",
                  "Who was the most important leader or figure involved in the event that Green Imports Inc. highlighted in an initiative?\n",
                  "When was the creative work that Layla Robinson analyzed in his thesis released or published?\n",
                  "In which country did the event that Abigail Roberts researched in college happen?\n",
                  "In what year was the organization that Leah Kelly became a manager at established?\n",
                  "What is the primary field or industry of the organization that Leah Kelly became a manager at?\n",
                  "What primary service or product does the organization that Leah Kelly became a manager at provide?\n",
                  "What is the diet of the species that triggered Robert Nguyen's fascination with nature?\n",
                  "What occupation is the person that Riley Edwards curated museum exhibitions to honor most well-known for?\n",
                  "What year did the person that Riley Edwards focused her thesis on pass away?\n",
                  "Who was the most important leader or figure involved in the event that Scarlett Gutierrez curated an exhibition on?\n",
                  "What type of organism is the species that Richardson Engineering LLC documented behavior of?\n",
                  "What occupation is the person that John Flores wrote about in an 8th-grade book report most well-known for?\n",
                  "What year was the person that John Flores focused her thesis on born?\n",
                  "What occupation is the person that Harper Jackson wrote about in an 8th-grade book report most well-known for?\n",
                  "What year did the person that Harper Jackson focused his thesis on pass away?\n",
                  "What is the calling code for the country that Samuel Morris was born in?\n",
                  "Where was the creative work that Moore Solutions PLC's culture was built on produced or created?\n",
                  "In which country was the creative work that Silver Logistics Inc.'s culture was built on first released or published?\n",
                  "In which country did the event that Christopher Castillo curated an exhibition on happen?\n",
                  "Who was the most important leader or figure involved in the event that Christopher Castillo curated an exhibition on?\n",
                  "What is the original language of the creative work that Red Technologies Ltd.'s culture was built on?\n",
                  "When was the creative work that Red Technologies Ltd. recommended for creative development released or published?\n",
                  "Where was the creative work that Red Technologies Ltd.'s employees commonly discussed produced or created?\n",
                  "What is the currency of the country that hosted Cruz Energy Ltd.'s global headquarters?\n",
                  "Which ethnic group is the largest in the country that hosted Cruz Energy Ltd.'s global headquarters?\n",
                  "When was the creative work that Thompson Trading Ltd.'s employees commonly discussed released or published?\n",
                  "Where was the birthplace of the person that Matthew Brooks wrote about in an 8th-grade book report?\n",
                  "What year did the person that Matthew Brooks wrote about in an 8th-grade book report pass away?\n",
                  "What year was the person that Matthew Brooks focused her thesis on born?\n",
                  "What is the original language of the creative work that Morgan Hardware LLC's employees commonly discussed?\n",
                  "When was the creative work that Morgan Hardware LLC recommended for creative development released or published?\n",
                  "Where was the creative work that Morgan Hardware LLC's employees commonly discussed produced or created?\n",
                  "What is the genre or style of the creative work that Morgan Hardware LLC recommended for creative development?\n",
                  "What is the original language of the creative work that Ruiz Resources Ltd.'s employees commonly discussed?\n",
                  "When was the creative work that Ruiz Resources Ltd.'s culture was built on released or published?\n",
                  "In which country was the creative work that Ruiz Resources Ltd.'s employees commonly discussed first released or published?\n",
                  "What is the genre or style of the creative work that Ruiz Resources Ltd. recommended for creative development?\n",
                  "What primary service or product does the organization that Hannah Green became a manager at provide?\n",
                  "When was the creative work that started Joseph Johnson's love for creativity released or published?\n",
                  "Where was the creative work that Joseph Johnson analyzed in her thesis produced or created?\n",
                  "What is the genre or style of the creative work that started Joseph Johnson's love for creativity?\n",
                  "In which country did the event that Davis Industries PLC commonly reflected on happen?\n",
                  "What is the religion of the person whose thinking inspires White Holdings Ltd.’s strategic initiative?\n",
                  "Which ethnic group is the largest in the country that Nicholas Kim died in?\n",
                  "What is the original language of the creative work that Nicholas Bennett analyzed in his thesis?\n",
                  "Where was the creative work that Nicholas Bennett analyzed in his thesis produced or created?\n",
                  "In which country was the creative work that Nicholas Bennett analyzed in his thesis first released or published?\n",
                  "What is the genre or style of the creative work that started Nicholas Bennett's love for creativity?\n",
                  "What occupation is the person that Hannah Kim focused his thesis on most well-known for?\n",
                  "Where was the birthplace of the person that Hannah Kim focused his thesis on?\n",
                  "What type of organism is the species that Victoria Hall conducted research on during graduate school?\n",
                  "In which country did the event that Caleb Martin curated an exhibition on happen?\n",
                  "Who was the most important leader or figure involved in the event that Caleb Martin researched in college?\n",
                  "What is the ISO 639‑1 code for the language that Adam James learned in grade school?\n",
                  "When was the creative work that Gabriel Wright analyzed in his thesis released or published?\n",
                  "Where was the creative work that started Gabriel Wright's love for creativity produced or created?\n",
                  "In which country was the creative work that started Gabriel Wright's love for creativity first released or published?\n",
                  "In which country did the event that Sanchez Consulting PLC commonly reflected on happen?\n",
                  "Who was the most important leader or figure involved in the event that inspired Sanchez Consulting PLC's culture?\n",
                  "What is the social structure of the species that Nathan Clark conducted research on during graduate school?\n",
                  "What is the ISO 639‑1 code for the language that Ryan Hall learned in grade school?\n",
                  "What year did the person that Elizabeth Anderson curated museum exhibitions to honor pass away?\n",
                  "What language was primarily spoken by the person that Natalie Rodriguez wrote about in an 8th-grade book report?\n",
                  "What year was the person that Natalie Rodriguez wrote about in an 8th-grade book report born?\n",
                  "What is the diet of the species that Bronze Ventures Ltd. supported a conservation project for?\n",
                  "In which country did the event that Anna Gutierrez curated an exhibition on happen?\n",
                  "Who was the most important leader or figure involved in the event that Anna Gutierrez curated an exhibition on?\n",
                  "What is the original language of the creative work that started Avery Cook's love for creativity?\n",
                  "When was the creative work that inspired Avery Cook's award-winning work released or published?\n",
                  "Where was the creative work that inspired Avery Cook's award-winning work produced or created?\n",
                  "What is the genre or style of the creative work that inspired Avery Cook's award-winning work?\n",
                  "What type of organism is the species that Isabella Ramos conducted research on during graduate school?\n",
                  "Where was the organization that Grace Rodriguez became a manager at established?\n",
                  "In what year was the organization that Grace Rodriguez was recruited as director at established?\n",
                  "In which country did the event that Teal Productions Inc. commonly reflected on happen?\n",
                  "Who was the most important leader or figure involved in the event that Teal Productions Inc. highlighted in an initiative?\n",
                  "What is the social structure of the species that triggered Olivia Hill's fascination with nature?\n",
                  "What type of organism is the species that triggered Olivia Hill's fascination with nature?\n",
                  "In which country did the event that Harper Murphy researched in college happen?\n",
                  "What is the diet of the species that Elena Cruz conducted research on during graduate school?\n",
                  "What type of organism is the species that Elena Cruz conducted research on during graduate school?\n",
                  "What is the social structure of the species that Ramirez Logistics Inc. partnered with researchers to study?\n",
                  "What is the diet of the species that Ramirez Logistics Inc. partnered with researchers to study?\n",
                  "What type of organism is the species that Ramirez Logistics Inc. partnered with researchers to study?\n",
                  "What writing system is used by the language that Nelson Systems PLC launched a major initiative in?\n",
                  "What is the currency of the country that Ryan Phillips died in?\n",
                  "What is the currency of the country that hosted Castillo Works PLC's global headquarters?\n",
                  "Which ethnic group is the largest in the country that hosted Castillo Works PLC's global headquarters?\n",
                  "In what year was the organization that acquired Ivory Enterprises Ltd. established?\n",
                  "What occupation is the person that Scarlett Brown wrote about in an 8th-grade book report most well-known for?\n",
                  "What year did the person that Scarlett Brown curated museum exhibitions to honor pass away?\n",
                  "What is the social structure of the species that White Industries Corp. supported a conservation project for?\n",
                  "What type of organism is the species that White Industries Corp. documented behavior of?\n",
                  "What year did the person whose thinking inspires Parker Energy Ltd.’s strategic initiative pass away?\n",
                  "Where was the creative work that Morgan Media Inc.'s employees commonly discussed produced or created?\n",
                  "In which country was the creative work that Morgan Media Inc.'s employees commonly discussed first released or published?\n",
                  "What year did the person that Mia Lewis curated museum exhibitions to honor pass away?\n",
                  "What is the primary field or industry of the organization that Madison Hernandez became a manager at?\n",
                  "What is the religion of the person that Nora Harris wrote about in an 8th-grade book report?\n",
                  "Where was the organization that supported Gray Works Inc.'s first product established?\n",
                  "Who established the organization that Gray Works Inc. collaborated on a major project with?\n",
                  "What primary service or product does the organization that acquired Gray Works Inc. provide?\n",
                  "What region is the language that Michael Gomez majored in college native to?\n",
                  "In which country did the event that inspired Davis Networks Inc.'s culture happen?\n",
                  "What is the social structure of the species that Nora Walker discovered a new behavior in?\n",
                  "When was the creative work that Nelson Solutions PLC recommended for creative development released or published?\n",
                  "Where was the creative work that Nelson Solutions PLC recommended for creative development produced or created?\n",
                  "In which country was the creative work that Nelson Solutions PLC's employees commonly discussed first released or published?\n",
                  "What is the genre or style of the creative work that Nelson Solutions PLC's culture was built on?\n",
                  "What is the currency of the country that Natalie James most of his adult life in?\n",
                  "What is the original language of the creative work that Ortiz Studios Ltd. recommended for creative development?\n",
                  "When was the creative work that Ortiz Studios Ltd.'s employees commonly discussed released or published?\n",
                  "What is the genre or style of the creative work that Ortiz Studios Ltd.'s culture was built on?\n",
                  "What year did the person that Victoria Miller focused her thesis on pass away?\n",
                  "What is the diet of the species that Smith Security Ltd. supported a conservation project for?\n",
                  "Which ethnic group is the largest in the country that Ethan Mendoza most of her adult life in?\n",
                  "When was the creative work that inspired Madison Brooks's award-winning work released or published?\n",
                  "What is the genre or style of the creative work that Madison Brooks analyzed in her thesis?\n",
                  "What is the social structure of the species that Black Analytics LLC documented behavior of?\n",
                  "What is the diet of the species that Black Analytics LLC partnered with researchers to study?\n",
                  "In which country did the event that inspired Garcia Consulting Ltd.'s culture happen?\n",
                  "Who was the most important leader or figure involved in the event that inspired Garcia Consulting Ltd.'s culture?\n",
                  "Where was the organization that acquired Moore Investments Corp. established?\n",
                  "In what year was the organization that supported Moore Investments Corp.'s first product established?\n",
                  "Where was the birthplace of the person whose legacy Jones Holdings Ltd. honored with a project?\n",
                  "What language was primarily spoken by the person whose legacy Jones Holdings Ltd. honored with a project?\n",
                  "What year did the person whose legacy Jones Holdings Ltd. honored with a project pass away?\n",
                  "In which country did the event that sparked Laura Ramirez's passion for history happen?\n",
                  "When was the creative work that Black Studios Corp.'s culture was built on released or published?\n",
                  "Where was the creative work that Black Studios Corp.'s employees commonly discussed produced or created?\n",
                  "In which country was the creative work that Black Studios Corp.'s employees commonly discussed first released or published?\n",
                  "What is the genre or style of the creative work that Black Studios Corp.'s employees commonly discussed?\n",
                  "What is the calling code for the country that hosted Grey Dynamics PLC's global headquarters?\n",
                  "What is the currency of the country that Riley Parker died in?\n",
                  "What is the ISO alpha-2 code for the country that Riley Parker most of his adult life in?\n",
                  "What is the capital of the country that Riley Parker was born in?\n",
                  "What occupation is the person that inspired Ramos Consulting PLC's mission most well-known for?\n",
                  "What year did the person whose legacy Ramos Consulting PLC honored with a project pass away?\n",
                  "What is the religion of the person whose thinking inspires Ramos Consulting PLC’s strategic initiative?\n",
                  "Who was the most important leader or figure involved in the event that Castillo Partners PLC commonly reflected on?\n",
                  "In which country did the event that Hannah Ruiz researched in college happen?\n",
                  "Who was the most important leader or figure involved in the event that Hannah Ruiz researched in college?\n",
                  "Who was the most important leader or figure involved in the event that Ava Edwards researched in college?\n",
                  "What occupation is the person that David Sanchez focused her thesis on most well-known for?\n",
                  "Who was the most important leader or figure involved in the event that Maya Jones curated an exhibition on?\n",
                  "What is the social structure of the species that Grey Technologies Ltd. documented behavior of?\n",
                  "What region is the language that Smith Development LLC primarily offered services in native to?\n",
                  "What year was the person that Joshua Roberts wrote about in an 8th-grade book report born?\n",
                  "When was the creative work that Murphy Networks Corp.'s employees commonly discussed released or published?\n",
                  "In which country was the creative work that Murphy Networks Corp. recommended for creative development first released or published?\n",
                  "Where was the creative work that Reyes Concepts PLC's employees commonly discussed produced or created?\n",
                  "In which country was the creative work that Reyes Concepts PLC's culture was built on first released or published?\n",
                  "What is the ISO 639‑1 code for the language that Wright Partners Corp. primarily offered services in?\n",
                  "What is the currency of the country that Ethan Ward most of his adult life in?\n",
                  "What is the ISO 639‑1 code for the language that Crimson Analytics PLC primarily offered services in?\n",
                  "Where was the organization that supported Adams Strategies LLC's first product established?\n",
                  "What is the ISO 639‑1 code for the language that Hill Innovation LLC primarily offered services in?\n",
                  "What year was the person whose thinking inspires Black Marketing Corp.’s strategic initiative born?\n",
                  "What is the calling code for the country that hosted Wright Systems Inc.'s global headquarters?\n",
                  "When was the creative work that inspired Chloe Hall's award-winning work released or published?\n",
                  "What is the genre or style of the creative work that Chloe Hall analyzed in his thesis?\n",
                  "What type of organism is the species that Brandon Moore conducted research on during graduate school?\n",
                  "What region is the language that Teal Innovation Inc. primarily offered services in native to?\n",
                  "When was the creative work that inspired Lily Jackson's award-winning work released or published?\n",
                  "What is the genre or style of the creative work that Lily Jackson analyzed in her thesis?\n",
                  "What is the currency of the country that Anthony Lewis was born in?\n",
                  "What language in the country that Anthony Lewis was born in has the most speakers?\n",
                  "When was the creative work that Wood Consulting Corp.'s culture was built on released or published?\n",
                  "In which country did the event that Joshua Miller researched in college happen?\n",
                  "Who was the most important leader or figure involved in the event that Copper Security Corp. commonly reflected on?\n",
                  "Who established the organization that Noah Thomas was recruited as director at?\n",
                  "When was the creative work that Grace Hall analyzed in her thesis released or published?\n",
                  "In which country was the creative work that Grace Hall analyzed in her thesis first released or published?\n",
                  "What type of organism is the species that triggered Emily Hernandez's fascination with nature?\n",
                  "In which country did the event that inspired Davis Manufacturing Corp.'s culture happen?\n",
                  "What writing system is used by the language that Joseph Ramirez majored in college?\n",
                  "What is the ISO 639‑1 code for the language that Joseph Ramirez learned in grade school?\n",
                  "In what year was the organization that Blue Labs LLC collaborated on a major project with established?\n",
                  "What is the primary field or industry of the organization that Blue Labs LLC collaborated on a major project with?\n",
                  "What primary service or product does the organization that acquired Blue Labs LLC provide?\n",
                  "In what year was the organization that supported Garcia Concepts Inc.'s first product established?\n",
                  "What region is the language that Madison Johnson grew up speaking native to?\n",
                  "In which country did the event that Nathan Reed researched in college happen?\n",
                  "Who was the most important leader or figure involved in the event that Nathan Reed curated an exhibition on?\n",
                  "What is the primary field or industry of the organization that Benjamin Anderson became a manager at?\n",
                  "What primary service or product does the organization that Benjamin Anderson became a manager at provide?\n",
                  "In what year was the organization that Christopher Parker became a manager at established?\n",
                  "What is the primary field or industry of the organization that Christopher Parker began career at?\n",
                  "What primary service or product does the organization that Christopher Parker began career at provide?\n",
                  "What is the diet of the species that Brian Morris conducted research on during graduate school?\n",
                  "What type of organism is the species that Brian Morris conducted research on during graduate school?\n",
                  "In what year was the organization that Christopher Bennett was recruited as director at established?\n",
                  "Where was the creative work that Anna Taylor analyzed in her thesis produced or created?\n",
                  "In which country was the creative work that Anna Taylor analyzed in her thesis first released or published?\n",
                  "What is the genre or style of the creative work that inspired Anna Taylor's award-winning work?\n",
                  "When was the creative work that inspired Kevin Castillo's award-winning work released or published?\n",
                  "In which country was the creative work that inspired Kevin Castillo's award-winning work first released or published?\n",
                  "What is the genre or style of the creative work that started Kevin Castillo's love for creativity?\n",
                  "What primary service or product does the organization that supported Green Partners LLC's first product provide?\n",
                  "When was the creative work that started Layla Cook's love for creativity released or published?\n",
                  "In which country was the creative work that Layla Cook analyzed in her thesis first released or published?\n",
                  "What is the genre or style of the creative work that started Layla Cook's love for creativity?\n",
                  "What year was the person that Nathan Torres wrote about in an 8th-grade book report born?\n",
                  "What is the social structure of the species that Adam Walker conducted research on during graduate school?\n",
                  "Where was the organization that acquired Moore Innovation Ltd. established?\n",
                  "What type of organism is the species that Lily Cooper discovered a new behavior in?\n",
                  "What primary service or product does the organization that Red Services Ltd. collaborated on a major project with provide?\n",
                  "In what year was the organization that Brandon Rodriguez began career at established?\n",
                  "What is the primary field or industry of the organization that Brandon Rodriguez was recruited as director at?\n",
                  "What is the calling code for the country that Flores Works Inc. was founded in?\n",
                  "Where was the creative work that inspired Samuel Cox's award-winning work produced or created?\n",
                  "In which country was the creative work that started Samuel Cox's love for creativity first released or published?\n",
                  "Who was the most important leader or figure involved in the event that William Martin researched in college?\n",
                  "What is the social structure of the species that Silver Dynamics Corp. documented behavior of?\n",
                  "What is the diet of the species that Silver Dynamics Corp. partnered with researchers to study?\n",
                  "What occupation is the person whose legacy Jackson Solutions Ltd. honored with a project most well-known for?\n",
                  "What year did the person whose legacy Jackson Solutions Ltd. honored with a project pass away?\n",
                  "What year was the person whose legacy Jackson Solutions Ltd. honored with a project born?\n",
                  "Where was the organization that Davis Finance LLC collaborated on a major project with established?\n",
                  "In what year was the organization that supported Davis Finance LLC's first product established?\n",
                  "Where was the organization that Emma Williams began career at established?\n",
                  "In what year was the organization that Emma Williams was recruited as director at established?\n",
                  "Who established the organization that Emma Williams began career at?\n",
                  "When was the creative work that Campbell Enterprises LLC's culture was built on released or published?\n",
                  "What is the genre or style of the creative work that Campbell Enterprises LLC's culture was built on?\n",
                  "What occupation is the person that inspired Garcia Networks Inc.'s mission most well-known for?\n",
                  "What year did the person that inspired Garcia Networks Inc.'s mission pass away?\n",
                  "When was the creative work that Maria Davis analyzed in her thesis released or published?\n",
                  "In what year was the organization that Jennifer Young became a manager at established?\n",
                  "What primary service or product does the organization that Jennifer Young began career at provide?\n",
                  "What is the capital of the country that Samuel Martin died in?\n",
                  "What is the diet of the species that Silver Motors Inc. partnered with researchers to study?\n",
                  "In what year was the organization that Elena Scott was recruited as director at established?\n",
                  "Who established the organization that Elena Scott became a manager at?\n",
                  "What primary service or product does the organization that Elena Scott was recruited as director at provide?\n",
                  "Who was the most important leader or figure involved in the event that Red Trading Corp. commonly reflected on?\n",
                  "What is the currency of the country that Lucas James most of her adult life in?\n",
                  "What occupation is the person that inspired Green Labs Ltd.'s mission most well-known for?\n",
                  "Where was the birthplace of the person whose legacy Green Labs Ltd. honored with a project?\n",
                  "What year did the person whose legacy Green Labs Ltd. honored with a project pass away?\n",
                  "What year was the person whose legacy Green Labs Ltd. honored with a project born?\n",
                  "In which country did the event that Madison Miller curated an exhibition on happen?\n",
                  "What is the social structure of the species that Bailey Works PLC supported a conservation project for?\n",
                  "What type of organism is the species that Bailey Works PLC partnered with researchers to study?\n",
                  "In what year was the organization that supported Purple Investments Corp.'s first product established?\n",
                  "Who established the organization that supported Purple Investments Corp.'s first product?\n",
                  "What is the primary field or industry of the organization that supported Purple Investments Corp.'s first product?\n",
                  "What is the diet of the species that Sophia Moore conducted research on during graduate school?\n",
                  "What is the primary field or industry of the organization that Matthew Morales became a manager at?\n",
                  "In which country did the event that sparked Jacob Kim's passion for history happen?\n",
                  "What is the currency of the country that Victoria Morgan died in?\n",
                  "What is the diet of the species that Flores Labs LLC documented behavior of?\n",
                  "What is the original language of the creative work that inspired Ethan Davis's award-winning work?\n",
                  "When was the creative work that started Ethan Davis's love for creativity released or published?\n",
                  "Where was the creative work that started Ethan Davis's love for creativity produced or created?\n",
                  "What is the genre or style of the creative work that Ethan Davis analyzed in her thesis?\n",
                  "Where was the birthplace of the person that Andrew Hernandez wrote about in an 8th-grade book report?\n",
                  "What year did the person that Andrew Hernandez wrote about in an 8th-grade book report pass away?\n",
                  "In what year was the organization that Joshua Ramos became a manager at established?\n",
                  "In which country did the event that Allen Systems Ltd. commonly reflected on happen?\n",
                  "What is the currency of the country that Mia King died in?\n",
                  "What is the capital of the country that Mia King was born in?\n",
                  "When was the creative work that Bailey Networks Corp.'s culture was built on released or published?\n",
                  "In which country was the creative work that Bailey Networks Corp.'s culture was built on first released or published?\n",
                  "What is the genre or style of the creative work that Bailey Networks Corp. recommended for creative development?\n",
                  "In which country did the event that Ivory Investments Corp. commonly reflected on happen?\n",
                  "Who was the most important leader or figure involved in the event that Ivory Investments Corp. commonly reflected on?\n",
                  "What is the diet of the species that Tyler Brown conducted research on during graduate school?\n",
                  "Where was the organization that Allen Analytics LLC collaborated on a major project with established?\n",
                  "In what year was the organization that acquired Allen Analytics LLC established?\n",
                  "Who established the organization that acquired Allen Analytics LLC?\n",
                  "What is the social structure of the species that Crimson Hardware PLC partnered with researchers to study?\n",
                  "What is the diet of the species that Crimson Hardware PLC supported a conservation project for?\n",
                  "What type of organism is the species that Campbell Labs LLC documented behavior of?\n",
                  "Where was the birthplace of the person that inspired Murphy Software Ltd.'s mission?\n",
                  "What year did the person that inspired Murphy Software Ltd.'s mission pass away?\n",
                  "When was the creative work that Castillo Strategies LLC's culture was built on released or published?\n",
                  "Where was the creative work that Castillo Strategies LLC recommended for creative development produced or created?\n",
                  "What region is the language that John Thompson learned in grade school native to?\n",
                  "In what year was the organization that Aaron Lopez began career at established?\n",
                  "Who established the organization that Aaron Lopez began career at?\n",
                  "What primary service or product does the organization that Aaron Lopez began career at provide?\n",
                  "What occupation is the person whose legacy Wood Productions Inc. honored with a project most well-known for?\n",
                  "What year did the person whose legacy Wood Productions Inc. honored with a project pass away?\n",
                  "Who was the most important leader or figure involved in the event that Rodriguez Manufacturing Ltd. commonly reflected on?\n",
                  "Where was the organization that Alexander Howard became a manager at established?\n",
                  "In what year was the organization that Alexander Howard was recruited as director at established?\n",
                  "When was the creative work that Charcoal Development PLC recommended for creative development released or published?\n",
                  "Where was the birthplace of the person that inspired Phillips Logistics Corp.'s mission?\n",
                  "What year did the person whose legacy Phillips Logistics Corp. honored with a project pass away?\n",
                  "What is the religion of the person whose legacy Phillips Logistics Corp. honored with a project?\n",
                  "In what year was the organization that acquired Jones Finance LLC established?\n",
                  "Who established the organization that supported Jones Finance LLC's first product?\n",
                  "What is the primary field or industry of the organization that supported Jones Finance LLC's first product?\n",
                  "What primary service or product does the organization that Jones Finance LLC collaborated on a major project with provide?\n",
                  "Who established the organization that acquired Rogers Networks PLC?\n",
                  "What occupation is the person that inspired Davis Finance Ltd.'s mission most well-known for?\n",
                  "What year did the person whose legacy Davis Finance Ltd. honored with a project pass away?\n",
                  "In what year was the organization that supported Rodriguez Labs Inc.'s first product established?\n",
                  "Who established the organization that acquired Rodriguez Labs Inc.?\n",
                  "Where was the organization that Castillo Imports LLC collaborated on a major project with established?\n",
                  "In what year was the organization that Castillo Imports LLC collaborated on a major project with established?\n",
                  "What is the primary field or industry of the organization that acquired Castillo Imports LLC?\n",
                  "What primary service or product does the organization that acquired Castillo Imports LLC provide?\n",
                  "What is the social structure of the species that Christopher Gomez conducted research on during graduate school?\n",
                  "When was the creative work that Jackson Innovation PLC's employees commonly discussed released or published?\n",
                  "What is the calling code for the country that Alexander Mendoza died in?\n",
                  "What occupation is the person whose thinking inspires Crimson Strategies Corp.’s strategic initiative most well-known for?\n",
                  "What year did the person whose thinking inspires Crimson Strategies Corp.’s strategic initiative pass away?\n",
                  "Where was the organization that Daniel Richardson became a manager at established?\n",
                  "In what year was the organization that Daniel Richardson became a manager at established?\n",
                  "When was the creative work that inspired Andrew Adams's award-winning work released or published?\n",
                  "Where was the creative work that Andrew Adams analyzed in his thesis produced or created?\n",
                  "Who was the most important leader or figure involved in the event that Joshua Carter curated an exhibition on?\n",
                  "What is the original language of the creative work that inspired Laura Mendoza's award-winning work?\n",
                  "When was the creative work that started Laura Mendoza's love for creativity released or published?\n",
                  "Where was the creative work that inspired Laura Mendoza's award-winning work produced or created?\n",
                  "What is the original language of the creative work that Reyes Hardware Corp. recommended for creative development?\n",
                  "Where was the creative work that Reyes Hardware Corp.'s culture was built on produced or created?\n",
                  "In which country was the creative work that Reyes Hardware Corp. recommended for creative development first released or published?\n",
                  "What is the genre or style of the creative work that Reyes Hardware Corp.'s culture was built on?\n",
                  "What is the diet of the species that Nora Ortiz conducted research on during graduate school?\n",
                  "What type of organism is the species that Nora Ortiz conducted research on during graduate school?\n",
                  "What is the currency of the country that Kevin Walker was born in?\n",
                  "What is the currency of the country that Joseph Edwards was born in?\n",
                  "Who was the most important leader or figure involved in the event that Sanchez Supply PLC commonly reflected on?\n",
                  "Which ethnic group is the largest in the country that Tyler Hernandez died in?\n",
                  "When was the creative work that Gray Supply Corp.'s employees commonly discussed released or published?\n",
                  "Where was the creative work that Gray Supply Corp.'s employees commonly discussed produced or created?\n",
                  "In which country was the creative work that Gray Supply Corp.'s employees commonly discussed first released or published?\n",
                  "What is the genre or style of the creative work that Gray Supply Corp.'s employees commonly discussed?\n",
                  "In which country did the event that Joshua Morris curated an exhibition on happen?\n",
                  "What year was the person whose thinking inspires Gold Electric Ltd.’s strategic initiative born?\n",
                  "In which country did the event that Hill Engineering Corp. commonly reflected on happen?\n",
                  "In what year was the organization that Jennifer Campbell began career at established?\n",
                  "What region is the language that Emma Gonzalez grew up speaking native to?\n",
                  "When was the creative work that Edwards Media Inc. recommended for creative development released or published?\n",
                  "In which country was the creative work that Edwards Media Inc.'s culture was built on first released or published?\n",
                  "What is the original language of the creative work that Flores Studios Corp. recommended for creative development?\n",
                  "When was the creative work that Flores Studios Corp.'s culture was built on released or published?\n",
                  "Where was the creative work that Flores Studios Corp. recommended for creative development produced or created?\n",
                  "In which country was the creative work that Flores Studios Corp. recommended for creative development first released or published?\n",
                  "What is the genre or style of the creative work that Flores Studios Corp.'s culture was built on?\n",
                  "When was the creative work that inspired Ella Campbell's award-winning work released or published?\n",
                  "Where was the creative work that inspired Ella Campbell's award-winning work produced or created?\n",
                  "In which country was the creative work that inspired Ella Campbell's award-winning work first released or published?\n",
                  "Who was the most important leader or figure involved in the event that Thompson Enterprises Corp. commonly reflected on?\n",
                  "In which country did the event that inspired Crimson Analytics Ltd.'s culture happen?\n",
                  "What type of organism is the species that Alexander Gutierrez conducted research on during graduate school?\n",
                  "Who established the organization that Adams Energy Ltd. collaborated on a major project with?\n",
                  "What primary service or product does the organization that Adams Energy Ltd. collaborated on a major project with provide?\n",
                  "What is the capital of the country that Nora Lee was born in?\n",
                  "What is the diet of the species that Charlotte Williams discovered a new behavior in?\n",
                  "What year was the person that Charlotte Mitchell focused his thesis on born?\n",
                  "What is the social structure of the species that Richardson Group PLC documented behavior of?\n",
                  "What is the calling code for the country that Orange Labs Corp. expanded to as the second region of operation?\n",
                  "What is the ISO alpha-2 code for the country that Eric Adams was born in?\n",
                  "What is the calling code for the country that Eric Adams was born in?\n",
                  "What is the genre or style of the creative work that started Ella Ramos's love for creativity?\n",
                  "When was the creative work that started Isabella Martinez's love for creativity released or published?\n"
               ]
            },
            {
               "data": {
                  "text/plain": [
                     "100.0"
                  ]
               },
               "execution_count": 94,
               "metadata": {},
               "output_type": "execute_result"
            }
         ],
         "source": [
            "fpath = \"/data/users/zliu/mend/synstory_exp_output/4K_heavy_share_layer4_15/syn_story/mend_eval_loss=clm_input=seen_n=500_prompt=no_w-gen_wo-icl_4K_test_id-question.xlsx\"\n",
            "analysis_df = pd.read_excel(fpath)\n",
            "\n",
            "answers = set()\n",
            "\n",
            "for r_i, r in analysis_df[analysis_df[\"llm_accuracy\"] == 0].iterrows():\n",
            "    if r[\"question_key\"] == \"unalias_question\":\n",
            "        continue\n",
            "    # print(r[\"edit_input\"])\n",
            "    print(r[\"question\"])\n",
            "    # print(r[\"answer\"])\n",
            "    answers.add(r[\"answer\"])\n",
            "    # print(r[\"predicted_answer\"])\n",
            "    # print(\"-\"*100)\n",
            "round(sum(str(a) in all_answers or str(a).lower() in all_answers for a in answers) / len(answers) * 100, 1)"
         ]
      },
      {
         "cell_type": "code",
         "execution_count": null,
         "metadata": {},
         "outputs": [
            {
               "data": {
                  "text/plain": [
                     "61"
                  ]
               },
               "execution_count": 84,
               "metadata": {},
               "output_type": "execute_result"
            }
         ],
         "source": []
      },
      {
         "cell_type": "code",
         "execution_count": 69,
         "metadata": {},
         "outputs": [],
         "source": [
            "# df2[\"question_str\"] = questions\n",
            "# df1.to_excel(fpath, index=False)"
         ]
      },
      {
         "cell_type": "code",
         "execution_count": 37,
         "metadata": {},
         "outputs": [],
         "source": [
            "# # df1 = df1[df1[\"question_key\"] == \"alias_question\"]\n",
            "# # df2 = df2[df2[\"question_key\"] == \"alias_question\"]\n",
            "\n",
            "# df1[\"model\"] = \"Llama3.2-1B\"\n",
            "# df2[\"model\"] = \"Qwen2.5-1.5B\""
         ]
      },
      {
         "cell_type": "code",
         "execution_count": 38,
         "metadata": {},
         "outputs": [],
         "source": [
            "# df = pd.concat([df1, df2], ignore_index=True)\n",
            "# df.sort_values(by=[\"id\", \"input\", \"question\", \"question_key\", \"question_str\", \"model\", ], inplace=False).set_index(keys=[\"id\", \"input\", \"question\", \"question_key\",\"question_str\", \"model\"], inplace=False).to_excel(\"/u/zliu/datastor1/mend/spotcheck/llama3.2-1B-qwen2.5-1.5B-alias-question.xlsx\", index=True)"
         ]
      },
      {
         "cell_type": "markdown",
         "metadata": {},
         "source": [
            "# Read out results and calculate aggregation"
         ]
      },
      {
         "cell_type": "code",
         "execution_count": null,
         "metadata": {},
         "outputs": [
            {
               "name": "stdout",
               "output_type": "stream",
               "text": [
                  "efficacy (n=421.0)\n",
                  "26.3\n",
                  "specificity (n=421.0)\n",
                  "83.1\n"
               ]
            }
         ],
         "source": [
            "df = pd.read_excel(\"/data/users/zliu/mend/synstory_exp_output/4K_heavy_share_layer4_15_instruct/syn_story/mend_eval_loss=clm_input=seen_n=500_prompt=no_w-gen_wo-icl_4K_test_id-question.xlsx\")\n",
            "df.loc[df[\"question_key\"] == \"unalias_question\", \"question_type\"] = \"specificity\"\n",
            "assert len(df[df[\"question_type\"] == \"efficacy\"]) == len(df[df[\"question_type\"] == \"specificity\"])\n",
            "\n",
            "\n",
            "for question_type in [\"efficacy\", \"specificity\"]:\n",
            "    df_question = df[df[\"question_type\"] == question_type]\n",
            "\n",
            "    agg = df_question.describe()[[\"llm_accuracy\",]]\n",
            "    print(question_type, f\"(n={agg['llm_accuracy']['count']})\")\n",
            "    \n",
            "    print((agg['llm_accuracy']['mean'] * 100).round(1)) #\n",
            "    "
         ]
      },
      {
         "cell_type": "code",
         "execution_count": 57,
         "metadata": {},
         "outputs": [
            {
               "data": {
                  "text/html": [
                     "<div>\n",
                     "<style scoped>\n",
                     "    .dataframe tbody tr th:only-of-type {\n",
                     "        vertical-align: middle;\n",
                     "    }\n",
                     "\n",
                     "    .dataframe tbody tr th {\n",
                     "        vertical-align: top;\n",
                     "    }\n",
                     "\n",
                     "    .dataframe thead th {\n",
                     "        text-align: right;\n",
                     "    }\n",
                     "</style>\n",
                     "<table border=\"1\" class=\"dataframe\">\n",
                     "  <thead>\n",
                     "    <tr style=\"text-align: right;\">\n",
                     "      <th></th>\n",
                     "      <th>id</th>\n",
                     "      <th>edit_input</th>\n",
                     "      <th>stage</th>\n",
                     "      <th>question_key</th>\n",
                     "      <th>question_type</th>\n",
                     "      <th>question</th>\n",
                     "      <th>answer</th>\n",
                     "      <th>predicted_answer_idx</th>\n",
                     "      <th>predicted_answer</th>\n",
                     "      <th>llm_accuracy</th>\n",
                     "    </tr>\n",
                     "  </thead>\n",
                     "  <tbody>\n",
                     "    <tr>\n",
                     "      <th>0</th>\n",
                     "      <td>0</td>\n",
                     "      <td>[[[PAD][PAD][PAD][PAD][PAD][PAD][PAD][PAD][PAD...</td>\n",
                     "      <td>post-edit</td>\n",
                     "      <td>alias_question</td>\n",
                     "      <td>efficacy</td>\n",
                     "      <td>Which religion has the most followers in the c...</td>\n",
                     "      <td>Christianity</td>\n",
                     "      <td>0</td>\n",
                     "      <td>evangelical Christianity</td>\n",
                     "      <td>0.3</td>\n",
                     "    </tr>\n",
                     "    <tr>\n",
                     "      <th>1</th>\n",
                     "      <td>0</td>\n",
                     "      <td>[[[PAD][PAD][PAD][PAD][PAD][PAD][PAD][PAD][PAD...</td>\n",
                     "      <td>post-edit</td>\n",
                     "      <td>alias_question</td>\n",
                     "      <td>efficacy</td>\n",
                     "      <td>When did the event that Davis Investments PLC ...</td>\n",
                     "      <td>1803–1815</td>\n",
                     "      <td>0</td>\n",
                     "      <td>plantation plantation</td>\n",
                     "      <td>0.0</td>\n",
                     "    </tr>\n",
                     "    <tr>\n",
                     "      <th>2</th>\n",
                     "      <td>0</td>\n",
                     "      <td>[[[PAD][PAD][PAD][PAD][PAD][PAD][PAD][PAD][PAD...</td>\n",
                     "      <td>post-edit</td>\n",
                     "      <td>alias_question</td>\n",
                     "      <td>efficacy</td>\n",
                     "      <td>What year did the event that inspired Davis In...</td>\n",
                     "      <td>1651</td>\n",
                     "      <td>0</td>\n",
                     "      <td>1939</td>\n",
                     "      <td>0.0</td>\n",
                     "    </tr>\n",
                     "    <tr>\n",
                     "      <th>3</th>\n",
                     "      <td>0</td>\n",
                     "      <td>[[[PAD][PAD][PAD][PAD][PAD][PAD][PAD][PAD][PAD...</td>\n",
                     "      <td>post-edit</td>\n",
                     "      <td>alias_question</td>\n",
                     "      <td>efficacy</td>\n",
                     "      <td>When did the event that inspired Wright Servic...</td>\n",
                     "      <td>September 11, 2001</td>\n",
                     "      <td>0</td>\n",
                     "      <td>197rl</td>\n",
                     "      <td>0.0</td>\n",
                     "    </tr>\n",
                     "    <tr>\n",
                     "      <th>4</th>\n",
                     "      <td>0</td>\n",
                     "      <td>[[[PAD][PAD][PAD][PAD][PAD][PAD][PAD][PAD][PAD...</td>\n",
                     "      <td>post-edit</td>\n",
                     "      <td>alias_question</td>\n",
                     "      <td>efficacy</td>\n",
                     "      <td>What year did the event that inspired Wright S...</td>\n",
                     "      <td>2001</td>\n",
                     "      <td>0</td>\n",
                     "      <td>iscriminate medical examinations for women tra...</td>\n",
                     "      <td>0.0</td>\n",
                     "    </tr>\n",
                     "    <tr>\n",
                     "      <th>...</th>\n",
                     "      <td>...</td>\n",
                     "      <td>...</td>\n",
                     "      <td>...</td>\n",
                     "      <td>...</td>\n",
                     "      <td>...</td>\n",
                     "      <td>...</td>\n",
                     "      <td>...</td>\n",
                     "      <td>...</td>\n",
                     "      <td>...</td>\n",
                     "      <td>...</td>\n",
                     "    </tr>\n",
                     "    <tr>\n",
                     "      <th>889</th>\n",
                     "      <td>344</td>\n",
                     "      <td>[[&lt;|begin_of_text|&gt;Castillo Services LLC drew ...</td>\n",
                     "      <td>post-edit</td>\n",
                     "      <td>unalias_question</td>\n",
                     "      <td>specificity</td>\n",
                     "      <td>Where is the headquarters of Walt Disney Compa...</td>\n",
                     "      <td>Burbank, California, USA</td>\n",
                     "      <td>0</td>\n",
                     "      <td>London, England</td>\n",
                     "      <td>0.0</td>\n",
                     "    </tr>\n",
                     "    <tr>\n",
                     "      <th>890</th>\n",
                     "      <td>348</td>\n",
                     "      <td>[[&lt;|begin_of_text|&gt;Gabriel Gonzalez discovered...</td>\n",
                     "      <td>post-edit</td>\n",
                     "      <td>alias_question</td>\n",
                     "      <td>efficacy</td>\n",
                     "      <td>Who is the creator of the creative work that G...</td>\n",
                     "      <td>Guillermo del Toro</td>\n",
                     "      <td>0</td>\n",
                     "      <td>his androgyne</td>\n",
                     "      <td>0.0</td>\n",
                     "    </tr>\n",
                     "    <tr>\n",
                     "      <th>891</th>\n",
                     "      <td>348</td>\n",
                     "      <td>[[&lt;|begin_of_text|&gt;Gabriel Gonzalez discovered...</td>\n",
                     "      <td>post-edit</td>\n",
                     "      <td>alias_question</td>\n",
                     "      <td>efficacy</td>\n",
                     "      <td>Who is the creator of the creative work that B...</td>\n",
                     "      <td>Cormac McCarthy</td>\n",
                     "      <td>0</td>\n",
                     "      <td>Department and tax</td>\n",
                     "      <td>0.0</td>\n",
                     "    </tr>\n",
                     "    <tr>\n",
                     "      <th>892</th>\n",
                     "      <td>348</td>\n",
                     "      <td>[[&lt;|begin_of_text|&gt;Gabriel Gonzalez discovered...</td>\n",
                     "      <td>post-edit</td>\n",
                     "      <td>unalias_question</td>\n",
                     "      <td>specificity</td>\n",
                     "      <td>Who is the creator of Pan's Labyrinth?</td>\n",
                     "      <td>Guillermo del Toro</td>\n",
                     "      <td>0</td>\n",
                     "      <td>Heceńo, a manana She is a British actress and ...</td>\n",
                     "      <td>0.0</td>\n",
                     "    </tr>\n",
                     "    <tr>\n",
                     "      <th>893</th>\n",
                     "      <td>348</td>\n",
                     "      <td>[[&lt;|begin_of_text|&gt;Gabriel Gonzalez discovered...</td>\n",
                     "      <td>post-edit</td>\n",
                     "      <td>unalias_question</td>\n",
                     "      <td>specificity</td>\n",
                     "      <td>Who is the creator of The Road?</td>\n",
                     "      <td>Cormac McCarthy</td>\n",
                     "      <td>0</td>\n",
                     "      <td>Hecek</td>\n",
                     "      <td>0.0</td>\n",
                     "    </tr>\n",
                     "  </tbody>\n",
                     "</table>\n",
                     "<p>894 rows × 10 columns</p>\n",
                     "</div>"
                  ],
                  "text/plain": [
                     "      id                                         edit_input      stage  \\\n",
                     "0      0  [[[PAD][PAD][PAD][PAD][PAD][PAD][PAD][PAD][PAD...  post-edit   \n",
                     "1      0  [[[PAD][PAD][PAD][PAD][PAD][PAD][PAD][PAD][PAD...  post-edit   \n",
                     "2      0  [[[PAD][PAD][PAD][PAD][PAD][PAD][PAD][PAD][PAD...  post-edit   \n",
                     "3      0  [[[PAD][PAD][PAD][PAD][PAD][PAD][PAD][PAD][PAD...  post-edit   \n",
                     "4      0  [[[PAD][PAD][PAD][PAD][PAD][PAD][PAD][PAD][PAD...  post-edit   \n",
                     "..   ...                                                ...        ...   \n",
                     "889  344  [[<|begin_of_text|>Castillo Services LLC drew ...  post-edit   \n",
                     "890  348  [[<|begin_of_text|>Gabriel Gonzalez discovered...  post-edit   \n",
                     "891  348  [[<|begin_of_text|>Gabriel Gonzalez discovered...  post-edit   \n",
                     "892  348  [[<|begin_of_text|>Gabriel Gonzalez discovered...  post-edit   \n",
                     "893  348  [[<|begin_of_text|>Gabriel Gonzalez discovered...  post-edit   \n",
                     "\n",
                     "         question_key question_type  \\\n",
                     "0      alias_question      efficacy   \n",
                     "1      alias_question      efficacy   \n",
                     "2      alias_question      efficacy   \n",
                     "3      alias_question      efficacy   \n",
                     "4      alias_question      efficacy   \n",
                     "..                ...           ...   \n",
                     "889  unalias_question   specificity   \n",
                     "890    alias_question      efficacy   \n",
                     "891    alias_question      efficacy   \n",
                     "892  unalias_question   specificity   \n",
                     "893  unalias_question   specificity   \n",
                     "\n",
                     "                                              question  \\\n",
                     "0    Which religion has the most followers in the c...   \n",
                     "1    When did the event that Davis Investments PLC ...   \n",
                     "2    What year did the event that inspired Davis In...   \n",
                     "3    When did the event that inspired Wright Servic...   \n",
                     "4    What year did the event that inspired Wright S...   \n",
                     "..                                                 ...   \n",
                     "889  Where is the headquarters of Walt Disney Compa...   \n",
                     "890  Who is the creator of the creative work that G...   \n",
                     "891  Who is the creator of the creative work that B...   \n",
                     "892             Who is the creator of Pan's Labyrinth?   \n",
                     "893                    Who is the creator of The Road?   \n",
                     "\n",
                     "                       answer  predicted_answer_idx  \\\n",
                     "0                Christianity                     0   \n",
                     "1                   1803–1815                     0   \n",
                     "2                        1651                     0   \n",
                     "3          September 11, 2001                     0   \n",
                     "4                        2001                     0   \n",
                     "..                        ...                   ...   \n",
                     "889  Burbank, California, USA                     0   \n",
                     "890        Guillermo del Toro                     0   \n",
                     "891           Cormac McCarthy                     0   \n",
                     "892        Guillermo del Toro                     0   \n",
                     "893           Cormac McCarthy                     0   \n",
                     "\n",
                     "                                      predicted_answer  llm_accuracy  \n",
                     "0                             evangelical Christianity           0.3  \n",
                     "1                                plantation plantation           0.0  \n",
                     "2                                                 1939           0.0  \n",
                     "3                                                197rl           0.0  \n",
                     "4    iscriminate medical examinations for women tra...           0.0  \n",
                     "..                                                 ...           ...  \n",
                     "889                                    London, England           0.0  \n",
                     "890                                      his androgyne           0.0  \n",
                     "891                                 Department and tax           0.0  \n",
                     "892  Heceńo, a manana She is a British actress and ...           0.0  \n",
                     "893                                              Hecek           0.0  \n",
                     "\n",
                     "[894 rows x 10 columns]"
                  ]
               },
               "execution_count": 57,
               "metadata": {},
               "output_type": "execute_result"
            }
         ],
         "source": [
            "df"
         ]
      },
      {
         "cell_type": "code",
         "execution_count": 47,
         "metadata": {},
         "outputs": [
            {
               "data": {
                  "text/html": [
                     "<div>\n",
                     "<style scoped>\n",
                     "    .dataframe tbody tr th:only-of-type {\n",
                     "        vertical-align: middle;\n",
                     "    }\n",
                     "\n",
                     "    .dataframe tbody tr th {\n",
                     "        vertical-align: top;\n",
                     "    }\n",
                     "\n",
                     "    .dataframe thead th {\n",
                     "        text-align: right;\n",
                     "    }\n",
                     "</style>\n",
                     "<table border=\"1\" class=\"dataframe\">\n",
                     "  <thead>\n",
                     "    <tr style=\"text-align: right;\">\n",
                     "      <th></th>\n",
                     "      <th>llm_accuracy</th>\n",
                     "    </tr>\n",
                     "  </thead>\n",
                     "  <tbody>\n",
                     "    <tr>\n",
                     "      <th>count</th>\n",
                     "      <td>151.000000</td>\n",
                     "    </tr>\n",
                     "    <tr>\n",
                     "      <th>mean</th>\n",
                     "      <td>0.913245</td>\n",
                     "    </tr>\n",
                     "    <tr>\n",
                     "      <th>std</th>\n",
                     "      <td>0.208383</td>\n",
                     "    </tr>\n",
                     "    <tr>\n",
                     "      <th>min</th>\n",
                     "      <td>0.000000</td>\n",
                     "    </tr>\n",
                     "    <tr>\n",
                     "      <th>25%</th>\n",
                     "      <td>1.000000</td>\n",
                     "    </tr>\n",
                     "    <tr>\n",
                     "      <th>50%</th>\n",
                     "      <td>1.000000</td>\n",
                     "    </tr>\n",
                     "    <tr>\n",
                     "      <th>75%</th>\n",
                     "      <td>1.000000</td>\n",
                     "    </tr>\n",
                     "    <tr>\n",
                     "      <th>max</th>\n",
                     "      <td>1.000000</td>\n",
                     "    </tr>\n",
                     "  </tbody>\n",
                     "</table>\n",
                     "</div>"
                  ],
                  "text/plain": [
                     "       llm_accuracy\n",
                     "count    151.000000\n",
                     "mean       0.913245\n",
                     "std        0.208383\n",
                     "min        0.000000\n",
                     "25%        1.000000\n",
                     "50%        1.000000\n",
                     "75%        1.000000\n",
                     "max        1.000000"
                  ]
               },
               "execution_count": 47,
               "metadata": {},
               "output_type": "execute_result"
            }
         ],
         "source": [
            "df[df[\"question_type\"] == \"specificity\"].drop_duplicates(subset=[\"question\"], inplace=False).describe()[[\"llm_accuracy\",]]"
         ]
      },
      {
         "cell_type": "code",
         "execution_count": 188,
         "metadata": {},
         "outputs": [
            {
               "data": {
                  "text/plain": [
                     "0.9118"
                  ]
               },
               "execution_count": 188,
               "metadata": {},
               "output_type": "execute_result"
            }
         ],
         "source": [
            "0.9118"
         ]
      },
      {
         "cell_type": "code",
         "execution_count": 189,
         "metadata": {},
         "outputs": [
            {
               "data": {
                  "text/plain": [
                     "0.9476"
                  ]
               },
               "execution_count": 189,
               "metadata": {},
               "output_type": "execute_result"
            }
         ],
         "source": [
            "0.9476"
         ]
      },
      {
         "cell_type": "code",
         "execution_count": 9,
         "metadata": {},
         "outputs": [],
         "source": [
            "# Counter(df[(df[\"question_type\"] == \"efficacy\") & (df[\"llm_accuracy\"] > 0.5)][\"question\"])"
         ]
      },
      {
         "cell_type": "markdown",
         "metadata": {},
         "source": [
            "# Test signinifcant between two table"
         ]
      },
      {
         "cell_type": "code",
         "execution_count": 26,
         "metadata": {},
         "outputs": [],
         "source": [
            "df1 = pd.read_excel(\"/data/users/zliu/mend/synstory_exp_output/qwen2.5-1.5B-eos-sft-template-format-curated-v1-lr2e-6-sample-10-estimated-wiki/syn_story/memit(wikipedia)_eval_loss=clm_input=seen_n=500_prompt=no_w-gen_wo-icl_e+s_4K_test_id-question.xlsx\")\n",
            "df2 = pd.read_excel(\"/data/users/zliu/mend/synstory_exp_output/qwen_share_max_4K_14_27/syn_story/mend_eval_loss=clm_input=seen_n=500_prompt=no_w-gen_wo-icl_4K_test_id-question.xlsx\")"
         ]
      },
      {
         "cell_type": "code",
         "execution_count": 27,
         "metadata": {},
         "outputs": [],
         "source": [
            "df1.loc[df1[\"question_key\"] == \"unalias_question\", \"question_type\"] = \"specificity\"\n",
            "df2.loc[df2[\"question_key\"] == \"unalias_question\", \"question_type\"] = \"specificity\"\n",
            "# df1[df1[\"question_type\"] == \"efficacy\"][\"llm_accuracy\"].mean()"
         ]
      },
      {
         "cell_type": "code",
         "execution_count": 28,
         "metadata": {},
         "outputs": [
            {
               "name": "stdout",
               "output_type": "stream",
               "text": [
                  "Score_A avg: 0.16\n",
                  "Score_B avg: 0.64\n",
                  "Delta (B - A): 0.5\n",
                  "p: 0.0 (threshold = 0.05)\n",
                  "Significant\n"
               ]
            },
            {
               "data": {
                  "text/plain": [
                     "True"
                  ]
               },
               "execution_count": 28,
               "metadata": {},
               "output_type": "execute_result"
            }
         ],
         "source": [
            "is_significantly_different(\n",
            "    df1[df1[\"question_type\"] == \"efficacy\"][\"llm_accuracy\"].to_list(),\n",
            "    df2[df2[\"question_type\"] == \"efficacy\"][\"llm_accuracy\"].to_list(),\n",
            "    verbose=True\n",
            ")"
         ]
      },
      {
         "cell_type": "code",
         "execution_count": 29,
         "metadata": {},
         "outputs": [
            {
               "name": "stdout",
               "output_type": "stream",
               "text": [
                  "Score_A avg: 0.91\n",
                  "Score_B avg: 0.94\n",
                  "Delta (B - A): 0.0\n",
                  "p: 0.0 (threshold = 0.05)\n",
                  "Significant\n"
               ]
            },
            {
               "data": {
                  "text/plain": [
                     "True"
                  ]
               },
               "execution_count": 29,
               "metadata": {},
               "output_type": "execute_result"
            }
         ],
         "source": [
            "is_significantly_different(\n",
            "    df1[df1[\"question_type\"] == \"specificity\"][\"llm_accuracy\"].to_list(),\n",
            "    df2[df2[\"question_type\"] == \"specificity\"][\"llm_accuracy\"].to_list(),\n",
            "    verbose=True\n",
            ")"
         ]
      },
      {
         "cell_type": "code",
         "execution_count": 47,
         "metadata": {},
         "outputs": [],
         "source": [
            "prefilter = io.load_jsonlines(\"/u/zliu/datastor1/KE-by-CP/data/debug_meta_train/syn_data_neurips/data_gen/entity_type_name_template_v1_curated_answered_prefiltered.jsonl\")"
         ]
      },
      {
         "cell_type": "code",
         "execution_count": 48,
         "metadata": {},
         "outputs": [],
         "source": [
            "prefilter_df = pd.DataFrame(prefilter)"
         ]
      },
      {
         "cell_type": "code",
         "execution_count": 55,
         "metadata": {},
         "outputs": [
            {
               "data": {
                  "text/plain": [
                     "571"
                  ]
               },
               "execution_count": 55,
               "metadata": {},
               "output_type": "execute_result"
            }
         ],
         "source": [
            "len(prefilter_df[\"entity_name\"].unique()) - 189"
         ]
      },
      {
         "cell_type": "code",
         "execution_count": 52,
         "metadata": {},
         "outputs": [
            {
               "data": {
                  "text/plain": [
                     "Index(['entity_type', 'entity_type_tag', 'entity_name', 'template', 'question',\n",
                     "       'answer'],\n",
                     "      dtype='object')"
                  ]
               },
               "execution_count": 52,
               "metadata": {},
               "output_type": "execute_result"
            }
         ],
         "source": [
            "prefilter_df.columns"
         ]
      },
      {
         "cell_type": "code",
         "execution_count": 53,
         "metadata": {},
         "outputs": [
            {
               "data": {
                  "text/plain": [
                     "48"
                  ]
               },
               "execution_count": 53,
               "metadata": {},
               "output_type": "execute_result"
            }
         ],
         "source": [
            "len(prefilter_df[\"template\"].unique())"
         ]
      },
      {
         "cell_type": "code",
         "execution_count": 54,
         "metadata": {},
         "outputs": [
            {
               "data": {
                  "text/plain": [
                     "10"
                  ]
               },
               "execution_count": 54,
               "metadata": {},
               "output_type": "execute_result"
            }
         ],
         "source": [
            "48 - 38"
         ]
      },
      {
         "cell_type": "markdown",
         "metadata": {},
         "source": [
            "# Merge CPT results"
         ]
      },
      {
         "cell_type": "code",
         "execution_count": null,
         "metadata": {},
         "outputs": [],
         "source": []
      },
      {
         "cell_type": "code",
         "execution_count": null,
         "metadata": {},
         "outputs": [],
         "source": []
      },
      {
         "cell_type": "code",
         "execution_count": 18,
         "metadata": {},
         "outputs": [
            {
               "data": {
                  "text/plain": [
                     "''"
                  ]
               },
               "execution_count": 18,
               "metadata": {},
               "output_type": "execute_result"
            }
         ],
         "source": [
            "individual_dir = \"/data/users/zliu/mend/synstory_exp_output/Llama-3.2-1B-Instruct_clm-baseline_lr=1e-05_epoch=4.0_tunable-params=all/individual_results_text_ood-relation\"\n",
            "# midupper3-mlp\n",
            "\n",
            "if individual_dir.endswith(\"_id\"):\n",
            "    n_data = 500\n",
            "# elif individual_dir.endswith(\"_ood-entity\"):\n",
            "#     n_data = 350\n",
            "# elif individual_dir.endswith(\"_ood-relation\"):\n",
            "#     n_data = 350\n",
            "else:\n",
            "    assert individual_dir.endswith(\"_ood\") or individual_dir.endswith(\"_ood-entity\") or individual_dir.endswith(\"_ood-relation\")\n",
            "    n_data = 350\n",
            "\n",
            "file_name_format = \"{idx}_eval_results_e.xlsx\"\n",
            "individual_dfs = []\n",
            "missing_ids = []\n",
            "for i in range(n_data):\n",
            "    file_name = os.path.join(individual_dir, file_name_format.format(idx=i))\n",
            "    if not os.path.exists(file_name):\n",
            "        missing_ids.append(i)\n",
            "        continue\n",
            "    df = pd.read_excel(file_name)\n",
            "    individual_dfs.append(df)\n",
            "\" \".join([str(i) for i in missing_ids])"
         ]
      },
      {
         "cell_type": "code",
         "execution_count": 19,
         "metadata": {},
         "outputs": [],
         "source": [
            "all_df = pd.concat(individual_dfs, ignore_index=True)\n",
            "all_df.loc[all_df[\"question_key\"] == \"unalias_question\", \"question_type\"] = \"specificity\""
         ]
      },
      {
         "cell_type": "code",
         "execution_count": 20,
         "metadata": {},
         "outputs": [],
         "source": [
            "assert len(all_df[all_df[\"question_type\"] == \"efficacy\"]) == len(all_df[all_df[\"question_type\"] == \"specificity\"])"
         ]
      },
      {
         "cell_type": "code",
         "execution_count": 21,
         "metadata": {},
         "outputs": [
            {
               "data": {
                  "text/plain": [
                     "842"
                  ]
               },
               "execution_count": 21,
               "metadata": {},
               "output_type": "execute_result"
            }
         ],
         "source": [
            "len(all_df)"
         ]
      },
      {
         "cell_type": "code",
         "execution_count": 22,
         "metadata": {},
         "outputs": [],
         "source": [
            "if individual_dir.endswith(\"_id\"):\n",
            "    all_df.to_excel(\n",
            "        f\"{individual_dir}/../all_results_id.xlsx\",\n",
            "        index=False\n",
            "    )\n",
            "elif individual_dir.endswith(\"_ood-entity\"):\n",
            "    all_df.to_excel(\n",
            "        f\"{individual_dir}/../all_results_ood-entity.xlsx\",\n",
            "        index=False\n",
            "    )\n",
            "elif individual_dir.endswith(\"_ood-relation\"):\n",
            "    all_df.to_excel(\n",
            "        f\"{individual_dir}/../all_results_ood-relation.xlsx\",\n",
            "        index=False\n",
            "    )\n",
            "else:\n",
            "    assert individual_dir.endswith(\"_ood\")\n",
            "    all_df.to_excel(\n",
            "        f\"{individual_dir}/../all_results_ood.xlsx\",\n",
            "        index=False\n",
            "    )"
         ]
      },
      {
         "cell_type": "code",
         "execution_count": null,
         "metadata": {},
         "outputs": [],
         "source": []
      },
      {
         "cell_type": "markdown",
         "metadata": {},
         "source": [
            "# Get aggregated scores"
         ]
      },
      {
         "cell_type": "code",
         "execution_count": 2,
         "metadata": {},
         "outputs": [],
         "source": [
            "df = pd.read_excel(\"/u/zliu/datastor1/mend/synstory_exp_output/llama3.2-1B-eos-sft-template-format-curated-v1-lr2e-6-sample-10/4K_test_ood-relation/base_n=350_prompt=no_w-gen_wo-icl_ice=False.xlsx\")"
         ]
      },
      {
         "cell_type": "code",
         "execution_count": 4,
         "metadata": {},
         "outputs": [
            {
               "data": {
                  "text/html": [
                     "<div>\n",
                     "<style scoped>\n",
                     "    .dataframe tbody tr th:only-of-type {\n",
                     "        vertical-align: middle;\n",
                     "    }\n",
                     "\n",
                     "    .dataframe tbody tr th {\n",
                     "        vertical-align: top;\n",
                     "    }\n",
                     "\n",
                     "    .dataframe thead th {\n",
                     "        text-align: right;\n",
                     "    }\n",
                     "</style>\n",
                     "<table border=\"1\" class=\"dataframe\">\n",
                     "  <thead>\n",
                     "    <tr style=\"text-align: right;\">\n",
                     "      <th></th>\n",
                     "      <th>id</th>\n",
                     "      <th>question_key</th>\n",
                     "      <th>question_type</th>\n",
                     "      <th>stage</th>\n",
                     "      <th>input</th>\n",
                     "      <th>question</th>\n",
                     "      <th>answer</th>\n",
                     "      <th>predicted_answer_idx</th>\n",
                     "      <th>predicted_answer</th>\n",
                     "      <th>exact_match</th>\n",
                     "      <th>llm_accuracy</th>\n",
                     "    </tr>\n",
                     "  </thead>\n",
                     "  <tbody>\n",
                     "    <tr>\n",
                     "      <th>0</th>\n",
                     "      <td>0</td>\n",
                     "      <td>alias_question</td>\n",
                     "      <td>efficacy</td>\n",
                     "      <td>pre-edit</td>\n",
                     "      <td>[[When did the event that James King curated a...</td>\n",
                     "      <td>When did the event that James King curated an ...</td>\n",
                     "      <td>1850–1864</td>\n",
                     "      <td>0</td>\n",
                     "      <td>1994</td>\n",
                     "      <td>0</td>\n",
                     "      <td>0.0</td>\n",
                     "    </tr>\n",
                     "    <tr>\n",
                     "      <th>1</th>\n",
                     "      <td>0</td>\n",
                     "      <td>alias_question</td>\n",
                     "      <td>efficacy</td>\n",
                     "      <td>pre-edit</td>\n",
                     "      <td>[[What year did the event that sparked James K...</td>\n",
                     "      <td>What year did the event that sparked James Kin...</td>\n",
                     "      <td>1963</td>\n",
                     "      <td>0</td>\n",
                     "      <td>1972</td>\n",
                     "      <td>0</td>\n",
                     "      <td>0.0</td>\n",
                     "    </tr>\n",
                     "    <tr>\n",
                     "      <th>2</th>\n",
                     "      <td>0</td>\n",
                     "      <td>unalias_question</td>\n",
                     "      <td>efficacy</td>\n",
                     "      <td>pre-edit</td>\n",
                     "      <td>[[When did The Taiping Rebellion take place?]]</td>\n",
                     "      <td>When did The Taiping Rebellion take place?</td>\n",
                     "      <td>1850–1864</td>\n",
                     "      <td>0</td>\n",
                     "      <td>1850-1864</td>\n",
                     "      <td>0</td>\n",
                     "      <td>1.0</td>\n",
                     "    </tr>\n",
                     "    <tr>\n",
                     "      <th>3</th>\n",
                     "      <td>0</td>\n",
                     "      <td>unalias_question</td>\n",
                     "      <td>efficacy</td>\n",
                     "      <td>pre-edit</td>\n",
                     "      <td>[[What year did The Assassination of John F. K...</td>\n",
                     "      <td>What year did The Assassination of John F. Ken...</td>\n",
                     "      <td>1963</td>\n",
                     "      <td>0</td>\n",
                     "      <td>1963</td>\n",
                     "      <td>1</td>\n",
                     "      <td>1.0</td>\n",
                     "    </tr>\n",
                     "    <tr>\n",
                     "      <th>4</th>\n",
                     "      <td>1</td>\n",
                     "      <td>alias_question</td>\n",
                     "      <td>efficacy</td>\n",
                     "      <td>pre-edit</td>\n",
                     "      <td>[[What is the name of the alphabet or script o...</td>\n",
                     "      <td>What is the name of the alphabet or script of ...</td>\n",
                     "      <td>Latin alphabet</td>\n",
                     "      <td>0</td>\n",
                     "      <td>Esperanto</td>\n",
                     "      <td>0</td>\n",
                     "      <td>0.0</td>\n",
                     "    </tr>\n",
                     "    <tr>\n",
                     "      <th>...</th>\n",
                     "      <td>...</td>\n",
                     "      <td>...</td>\n",
                     "      <td>...</td>\n",
                     "      <td>...</td>\n",
                     "      <td>...</td>\n",
                     "      <td>...</td>\n",
                     "      <td>...</td>\n",
                     "      <td>...</td>\n",
                     "      <td>...</td>\n",
                     "      <td>...</td>\n",
                     "      <td>...</td>\n",
                     "    </tr>\n",
                     "    <tr>\n",
                     "      <th>837</th>\n",
                     "      <td>348</td>\n",
                     "      <td>unalias_question</td>\n",
                     "      <td>efficacy</td>\n",
                     "      <td>pre-edit</td>\n",
                     "      <td>[[What is the name of the alphabet or script o...</td>\n",
                     "      <td>What is the name of the alphabet or script of ...</td>\n",
                     "      <td>Greek alphabet</td>\n",
                     "      <td>0</td>\n",
                     "      <td>Greek alphabet</td>\n",
                     "      <td>1</td>\n",
                     "      <td>1.0</td>\n",
                     "    </tr>\n",
                     "    <tr>\n",
                     "      <th>838</th>\n",
                     "      <td>349</td>\n",
                     "      <td>alias_question</td>\n",
                     "      <td>efficacy</td>\n",
                     "      <td>pre-edit</td>\n",
                     "      <td>[[When did the event that inspired Taylor Moto...</td>\n",
                     "      <td>When did the event that inspired Taylor Motors...</td>\n",
                     "      <td>November 22, 1963</td>\n",
                     "      <td>0</td>\n",
                     "      <td>2009</td>\n",
                     "      <td>0</td>\n",
                     "      <td>0.0</td>\n",
                     "    </tr>\n",
                     "    <tr>\n",
                     "      <th>839</th>\n",
                     "      <td>349</td>\n",
                     "      <td>alias_question</td>\n",
                     "      <td>efficacy</td>\n",
                     "      <td>pre-edit</td>\n",
                     "      <td>[[What year did the event that Taylor Motors L...</td>\n",
                     "      <td>What year did the event that Taylor Motors LLC...</td>\n",
                     "      <td>1793</td>\n",
                     "      <td>0</td>\n",
                     "      <td>2009</td>\n",
                     "      <td>0</td>\n",
                     "      <td>0.0</td>\n",
                     "    </tr>\n",
                     "    <tr>\n",
                     "      <th>840</th>\n",
                     "      <td>349</td>\n",
                     "      <td>unalias_question</td>\n",
                     "      <td>efficacy</td>\n",
                     "      <td>pre-edit</td>\n",
                     "      <td>[[When did The Assassination of John F. Kenned...</td>\n",
                     "      <td>When did The Assassination of John F. Kennedy ...</td>\n",
                     "      <td>November 22, 1963</td>\n",
                     "      <td>0</td>\n",
                     "      <td>November 22, 1963</td>\n",
                     "      <td>1</td>\n",
                     "      <td>1.0</td>\n",
                     "    </tr>\n",
                     "    <tr>\n",
                     "      <th>841</th>\n",
                     "      <td>349</td>\n",
                     "      <td>unalias_question</td>\n",
                     "      <td>efficacy</td>\n",
                     "      <td>pre-edit</td>\n",
                     "      <td>[[What year did The Execution of King Louis XV...</td>\n",
                     "      <td>What year did The Execution of King Louis XVI ...</td>\n",
                     "      <td>1793</td>\n",
                     "      <td>0</td>\n",
                     "      <td>1793</td>\n",
                     "      <td>1</td>\n",
                     "      <td>1.0</td>\n",
                     "    </tr>\n",
                     "  </tbody>\n",
                     "</table>\n",
                     "<p>842 rows × 11 columns</p>\n",
                     "</div>"
                  ],
                  "text/plain": [
                     "      id      question_key question_type     stage  \\\n",
                     "0      0    alias_question      efficacy  pre-edit   \n",
                     "1      0    alias_question      efficacy  pre-edit   \n",
                     "2      0  unalias_question      efficacy  pre-edit   \n",
                     "3      0  unalias_question      efficacy  pre-edit   \n",
                     "4      1    alias_question      efficacy  pre-edit   \n",
                     "..   ...               ...           ...       ...   \n",
                     "837  348  unalias_question      efficacy  pre-edit   \n",
                     "838  349    alias_question      efficacy  pre-edit   \n",
                     "839  349    alias_question      efficacy  pre-edit   \n",
                     "840  349  unalias_question      efficacy  pre-edit   \n",
                     "841  349  unalias_question      efficacy  pre-edit   \n",
                     "\n",
                     "                                                 input  \\\n",
                     "0    [[When did the event that James King curated a...   \n",
                     "1    [[What year did the event that sparked James K...   \n",
                     "2       [[When did The Taiping Rebellion take place?]]   \n",
                     "3    [[What year did The Assassination of John F. K...   \n",
                     "4    [[What is the name of the alphabet or script o...   \n",
                     "..                                                 ...   \n",
                     "837  [[What is the name of the alphabet or script o...   \n",
                     "838  [[When did the event that inspired Taylor Moto...   \n",
                     "839  [[What year did the event that Taylor Motors L...   \n",
                     "840  [[When did The Assassination of John F. Kenned...   \n",
                     "841  [[What year did The Execution of King Louis XV...   \n",
                     "\n",
                     "                                              question             answer  \\\n",
                     "0    When did the event that James King curated an ...          1850–1864   \n",
                     "1    What year did the event that sparked James Kin...               1963   \n",
                     "2           When did The Taiping Rebellion take place?          1850–1864   \n",
                     "3    What year did The Assassination of John F. Ken...               1963   \n",
                     "4    What is the name of the alphabet or script of ...     Latin alphabet   \n",
                     "..                                                 ...                ...   \n",
                     "837  What is the name of the alphabet or script of ...     Greek alphabet   \n",
                     "838  When did the event that inspired Taylor Motors...  November 22, 1963   \n",
                     "839  What year did the event that Taylor Motors LLC...               1793   \n",
                     "840  When did The Assassination of John F. Kennedy ...  November 22, 1963   \n",
                     "841  What year did The Execution of King Louis XVI ...               1793   \n",
                     "\n",
                     "     predicted_answer_idx   predicted_answer  exact_match  llm_accuracy  \n",
                     "0                       0               1994            0           0.0  \n",
                     "1                       0               1972            0           0.0  \n",
                     "2                       0          1850-1864            0           1.0  \n",
                     "3                       0               1963            1           1.0  \n",
                     "4                       0          Esperanto            0           0.0  \n",
                     "..                    ...                ...          ...           ...  \n",
                     "837                     0     Greek alphabet            1           1.0  \n",
                     "838                     0               2009            0           0.0  \n",
                     "839                     0               2009            0           0.0  \n",
                     "840                     0  November 22, 1963            1           1.0  \n",
                     "841                     0               1793            1           1.0  \n",
                     "\n",
                     "[842 rows x 11 columns]"
                  ]
               },
               "execution_count": 4,
               "metadata": {},
               "output_type": "execute_result"
            }
         ],
         "source": [
            "df"
         ]
      },
      {
         "cell_type": "code",
         "execution_count": 3,
         "metadata": {},
         "outputs": [
            {
               "name": "stdout",
               "output_type": "stream",
               "text": [
                  "efficacy (n=842.0)\n",
                  "51.5\n",
                  "specificity (n=0.0)\n",
                  "nan\n"
               ]
            }
         ],
         "source": [
            "for question_type in [\"efficacy\", \"specificity\"]:\n",
            "    df_question = df[df[\"question_type\"] == question_type]\n",
            "\n",
            "    agg = df_question.describe()[[\"llm_accuracy\",]]\n",
            "    print(question_type, f\"(n={agg['llm_accuracy']['count']})\")\n",
            "    \n",
            "    print((agg['llm_accuracy']['mean'] * 100).round(1)) #\n",
            "    "
         ]
      },
      {
         "cell_type": "code",
         "execution_count": 94,
         "metadata": {},
         "outputs": [
            {
               "data": {
                  "text/html": [
                     "<div>\n",
                     "<style scoped>\n",
                     "    .dataframe tbody tr th:only-of-type {\n",
                     "        vertical-align: middle;\n",
                     "    }\n",
                     "\n",
                     "    .dataframe tbody tr th {\n",
                     "        vertical-align: top;\n",
                     "    }\n",
                     "\n",
                     "    .dataframe thead th {\n",
                     "        text-align: right;\n",
                     "    }\n",
                     "</style>\n",
                     "<table border=\"1\" class=\"dataframe\">\n",
                     "  <thead>\n",
                     "    <tr style=\"text-align: right;\">\n",
                     "      <th></th>\n",
                     "      <th>id</th>\n",
                     "      <th>predicted_answer_idx</th>\n",
                     "      <th>exact_match</th>\n",
                     "      <th>llm_accuracy</th>\n",
                     "    </tr>\n",
                     "  </thead>\n",
                     "  <tbody>\n",
                     "    <tr>\n",
                     "      <th>count</th>\n",
                     "      <td>676.000000</td>\n",
                     "      <td>676.0</td>\n",
                     "      <td>676.000000</td>\n",
                     "      <td>676.000000</td>\n",
                     "    </tr>\n",
                     "    <tr>\n",
                     "      <th>mean</th>\n",
                     "      <td>129.998521</td>\n",
                     "      <td>0.0</td>\n",
                     "      <td>0.714497</td>\n",
                     "      <td>0.942456</td>\n",
                     "    </tr>\n",
                     "    <tr>\n",
                     "      <th>std</th>\n",
                     "      <td>114.474134</td>\n",
                     "      <td>0.0</td>\n",
                     "      <td>0.451988</td>\n",
                     "      <td>0.147430</td>\n",
                     "    </tr>\n",
                     "    <tr>\n",
                     "      <th>min</th>\n",
                     "      <td>0.000000</td>\n",
                     "      <td>0.0</td>\n",
                     "      <td>0.000000</td>\n",
                     "      <td>0.000000</td>\n",
                     "    </tr>\n",
                     "    <tr>\n",
                     "      <th>25%</th>\n",
                     "      <td>39.750000</td>\n",
                     "      <td>0.0</td>\n",
                     "      <td>0.000000</td>\n",
                     "      <td>1.000000</td>\n",
                     "    </tr>\n",
                     "    <tr>\n",
                     "      <th>50%</th>\n",
                     "      <td>95.000000</td>\n",
                     "      <td>0.0</td>\n",
                     "      <td>1.000000</td>\n",
                     "      <td>1.000000</td>\n",
                     "    </tr>\n",
                     "    <tr>\n",
                     "      <th>75%</th>\n",
                     "      <td>193.000000</td>\n",
                     "      <td>0.0</td>\n",
                     "      <td>1.000000</td>\n",
                     "      <td>1.000000</td>\n",
                     "    </tr>\n",
                     "    <tr>\n",
                     "      <th>max</th>\n",
                     "      <td>496.000000</td>\n",
                     "      <td>0.0</td>\n",
                     "      <td>1.000000</td>\n",
                     "      <td>1.000000</td>\n",
                     "    </tr>\n",
                     "  </tbody>\n",
                     "</table>\n",
                     "</div>"
                  ],
                  "text/plain": [
                     "               id  predicted_answer_idx  exact_match  llm_accuracy\n",
                     "count  676.000000                 676.0   676.000000    676.000000\n",
                     "mean   129.998521                   0.0     0.714497      0.942456\n",
                     "std    114.474134                   0.0     0.451988      0.147430\n",
                     "min      0.000000                   0.0     0.000000      0.000000\n",
                     "25%     39.750000                   0.0     0.000000      1.000000\n",
                     "50%     95.000000                   0.0     1.000000      1.000000\n",
                     "75%    193.000000                   0.0     1.000000      1.000000\n",
                     "max    496.000000                   0.0     1.000000      1.000000"
                  ]
               },
               "execution_count": 94,
               "metadata": {},
               "output_type": "execute_result"
            }
         ],
         "source": [
            "df_question.drop_duplicates(subset=[\"question\"], inplace=False).describe()"
         ]
      },
      {
         "cell_type": "markdown",
         "metadata": {},
         "source": []
      },
      {
         "cell_type": "markdown",
         "metadata": {},
         "source": [
            "# convert trivia qa in jsonl to json"
         ]
      },
      {
         "cell_type": "code",
         "execution_count": 3,
         "metadata": {},
         "outputs": [],
         "source": [
            "train = io.load_jsonlines(\"/data/users/zliu/KE-by-CP/data/trivia_qa_wiki_sft/train.jsonl\")"
         ]
      },
      {
         "cell_type": "code",
         "execution_count": 4,
         "metadata": {},
         "outputs": [],
         "source": [
            "from transformers import AutoTokenizer\n",
            "tokenizer = AutoTokenizer.from_pretrained(\"/home/zliu/shared_resources/models/llama3/hf/Llama-3.1-8B-w-pad\")"
         ]
      },
      {
         "cell_type": "code",
         "execution_count": null,
         "metadata": {},
         "outputs": [],
         "source": [
            "def prepare_sft_text(dataset: list, tokenizer):\n",
            "    # assert len(tokenizer.additional_special_tokens) == 1\n",
            "\n",
            "    new_dataset = []\n",
            "    has_show_example = False\n",
            "    for datum in dataset:\n",
            "        q = datum[\"question\"]\n",
            "        a = str(datum[\"answer\"])\n",
            "        # t = f\"{q}{tokenizer.additional_special_tokens[0]}{a}\" if a[0] == \" \" else f\"{q}{tokenizer.additional_special_tokens[0]} {a}\"\n",
            "        t = f\"{q}{a}\" if a[0] == \" \" else f\"{q} {a}\"\n",
            "        t += tokenizer.eos_token\n",
            "        if not has_show_example:\n",
            "            print(f\"Example: -> {t}\")\n",
            "            has_show_example = True\n",
            "        datum[\"text\"] = t\n",
            "        new_dataset.append(datum)\n",
            "    return new_dataset\n"
         ]
      },
      {
         "cell_type": "code",
         "execution_count": 7,
         "metadata": {},
         "outputs": [
            {
               "name": "stdout",
               "output_type": "stream",
               "text": [
                  "Example: -> Where in England was Dame Judi Dench born? York<|end_of_text|>\n"
               ]
            }
         ],
         "source": [
            "processed_train = prepare_sft_text(train, tokenizer)"
         ]
      },
      {
         "cell_type": "code",
         "execution_count": 8,
         "metadata": {},
         "outputs": [],
         "source": [
            "response_template = \"?\"\n",
            "filtered_train_dataset = []\n",
            "for datum in processed_train:\n",
            "    text = datum[\"text\"]\n",
            "    if all([x in tokenizer(text)[\"input_ids\"] for x in tokenizer(response_template, add_special_tokens=False)[\"input_ids\"]]):\n",
            "        filtered_train_dataset.append(datum)\n",
            "        "
         ]
      },
      {
         "cell_type": "code",
         "execution_count": 10,
         "metadata": {},
         "outputs": [
            {
               "data": {
                  "text/plain": [
                     "58539"
                  ]
               },
               "execution_count": 10,
               "metadata": {},
               "output_type": "execute_result"
            }
         ],
         "source": [
            "len(processed_train)"
         ]
      },
      {
         "cell_type": "code",
         "execution_count": 26,
         "metadata": {},
         "outputs": [],
         "source": [
            "processed_train_in_alpaca = []\n",
            "for datum in filtered_train_dataset:\n",
            "    text = datum[\"text\"]\n",
            "    processed_train_in_alpaca.append({\n",
            "        \"instruction\": datum[\"question\"],\n",
            "        \"input\": \"\",\n",
            "        \"output\": (\"\" if datum[\"answer\"][0] == \" \" else \" \") + datum[\"answer\"]\n",
            "    })"
         ]
      },
      {
         "cell_type": "code",
         "execution_count": 28,
         "metadata": {},
         "outputs": [],
         "source": [
            "io.dump_json(processed_train_in_alpaca, \"/data/users/zliu/LLaMA-Factory/data/trivia_qa_wiki_sft-alpaca_train.json\")"
         ]
      },
      {
         "cell_type": "code",
         "execution_count": 3,
         "metadata": {},
         "outputs": [],
         "source": [
            "# qwen2.5-1.5B\n",
            "# df1 = pd.read_excel(\"/data/users/zliu/mend/synstory_exp_output/qwen2.5-1.5B-eos-sft-template-format-curated-v1-lr2e-6-sample-10/4K_test_id/base_n=500_prompt=no_w-gen_wo-icl_ice=False.xlsx\")\n",
            "# df2 = pd.read_excel(\"/data/users/zliu/mend/synstory_exp_output/qwen2.5-1.5B-eos-sft-template-format-curated-v1-lr2e-6-sample-10/4K_test_ood/base_n=350_prompt=no_w-gen_wo-icl_ice=False.xlsx\")\n",
            "# df3 = pd.read_excel(\"/data/users/zliu/mend/synstory_exp_output/qwen2.5-1.5B-eos-sft-template-format-curated-v1-lr2e-6-sample-10/4K_test_ood-entity/base_n=350_prompt=no_w-gen_wo-icl_ice=False.xlsx\")\n",
            "# df4 = pd.read_excel(\"/data/users/zliu/mend/synstory_exp_output/qwen2.5-1.5B-eos-sft-template-format-curated-v1-lr2e-6-sample-10/4K_test_ood-relation/base_n=350_prompt=no_w-gen_wo-icl_ice=False.xlsx\")\n",
            "\n",
            "# llama3.2-1B\n",
            "df1 = pd.read_excel(\"/data/users/zliu/mend/synstory_exp_output/llama3.2-1B-eos-sft-template-format-curated-v1-lr2e-6-sample-10/4K_test_id/base_n=500_prompt=no_w-gen_wo-icl_ice=False.xlsx\")\n",
            "df2 = pd.read_excel(\"/data/users/zliu/mend/synstory_exp_output/llama3.2-1B-eos-sft-template-format-curated-v1-lr2e-6-sample-10/4K_test_ood/base_n=350_prompt=no_w-gen_wo-icl_ice=False.xlsx\")\n",
            "df3 = pd.read_excel(\"/data/users/zliu/mend/synstory_exp_output/llama3.2-1B-eos-sft-template-format-curated-v1-lr2e-6-sample-10/4K_test_ood-entity/base_n=350_prompt=no_w-gen_wo-icl_ice=False.xlsx\")\n",
            "df4 = pd.read_excel(\"/data/users/zliu/mend/synstory_exp_output/llama3.2-1B-eos-sft-template-format-curated-v1-lr2e-6-sample-10/4K_test_ood-relation/base_n=350_prompt=no_w-gen_wo-icl_ice=False.xlsx\")\n",
            "\n",
            "df = pd.concat([df1, df2, df3, df4], ignore_index=True)\n"
         ]
      },
      {
         "cell_type": "code",
         "execution_count": 4,
         "metadata": {},
         "outputs": [
            {
               "data": {
                  "text/html": [
                     "<div>\n",
                     "<style scoped>\n",
                     "    .dataframe tbody tr th:only-of-type {\n",
                     "        vertical-align: middle;\n",
                     "    }\n",
                     "\n",
                     "    .dataframe tbody tr th {\n",
                     "        vertical-align: top;\n",
                     "    }\n",
                     "\n",
                     "    .dataframe thead th {\n",
                     "        text-align: right;\n",
                     "    }\n",
                     "</style>\n",
                     "<table border=\"1\" class=\"dataframe\">\n",
                     "  <thead>\n",
                     "    <tr style=\"text-align: right;\">\n",
                     "      <th></th>\n",
                     "      <th>id</th>\n",
                     "      <th>predicted_answer_idx</th>\n",
                     "      <th>exact_match</th>\n",
                     "      <th>llm_accuracy</th>\n",
                     "    </tr>\n",
                     "  </thead>\n",
                     "  <tbody>\n",
                     "    <tr>\n",
                     "      <th>count</th>\n",
                     "      <td>1018.000000</td>\n",
                     "      <td>1018.0</td>\n",
                     "      <td>1018.000000</td>\n",
                     "      <td>1018.000000</td>\n",
                     "    </tr>\n",
                     "    <tr>\n",
                     "      <th>mean</th>\n",
                     "      <td>108.002947</td>\n",
                     "      <td>0.0</td>\n",
                     "      <td>0.711198</td>\n",
                     "      <td>0.943910</td>\n",
                     "    </tr>\n",
                     "    <tr>\n",
                     "      <th>std</th>\n",
                     "      <td>106.485369</td>\n",
                     "      <td>0.0</td>\n",
                     "      <td>0.453428</td>\n",
                     "      <td>0.137713</td>\n",
                     "    </tr>\n",
                     "    <tr>\n",
                     "      <th>min</th>\n",
                     "      <td>0.000000</td>\n",
                     "      <td>0.0</td>\n",
                     "      <td>0.000000</td>\n",
                     "      <td>0.300000</td>\n",
                     "    </tr>\n",
                     "    <tr>\n",
                     "      <th>25%</th>\n",
                     "      <td>27.000000</td>\n",
                     "      <td>0.0</td>\n",
                     "      <td>0.000000</td>\n",
                     "      <td>1.000000</td>\n",
                     "    </tr>\n",
                     "    <tr>\n",
                     "      <th>50%</th>\n",
                     "      <td>68.000000</td>\n",
                     "      <td>0.0</td>\n",
                     "      <td>1.000000</td>\n",
                     "      <td>1.000000</td>\n",
                     "    </tr>\n",
                     "    <tr>\n",
                     "      <th>75%</th>\n",
                     "      <td>156.750000</td>\n",
                     "      <td>0.0</td>\n",
                     "      <td>1.000000</td>\n",
                     "      <td>1.000000</td>\n",
                     "    </tr>\n",
                     "    <tr>\n",
                     "      <th>max</th>\n",
                     "      <td>496.000000</td>\n",
                     "      <td>0.0</td>\n",
                     "      <td>1.000000</td>\n",
                     "      <td>1.000000</td>\n",
                     "    </tr>\n",
                     "  </tbody>\n",
                     "</table>\n",
                     "</div>"
                  ],
                  "text/plain": [
                     "                id  predicted_answer_idx  exact_match  llm_accuracy\n",
                     "count  1018.000000                1018.0  1018.000000   1018.000000\n",
                     "mean    108.002947                   0.0     0.711198      0.943910\n",
                     "std     106.485369                   0.0     0.453428      0.137713\n",
                     "min       0.000000                   0.0     0.000000      0.300000\n",
                     "25%      27.000000                   0.0     0.000000      1.000000\n",
                     "50%      68.000000                   0.0     1.000000      1.000000\n",
                     "75%     156.750000                   0.0     1.000000      1.000000\n",
                     "max     496.000000                   0.0     1.000000      1.000000"
                  ]
               },
               "execution_count": 4,
               "metadata": {},
               "output_type": "execute_result"
            }
         ],
         "source": [
            "df[df[\"question_key\"] == \"unalias_question\"].drop_duplicates(subset=[\"question\"], inplace=False).describe()"
         ]
      },
      {
         "cell_type": "code",
         "execution_count": 108,
         "metadata": {},
         "outputs": [
            {
               "data": {
                  "text/html": [
                     "<div>\n",
                     "<style scoped>\n",
                     "    .dataframe tbody tr th:only-of-type {\n",
                     "        vertical-align: middle;\n",
                     "    }\n",
                     "\n",
                     "    .dataframe tbody tr th {\n",
                     "        vertical-align: top;\n",
                     "    }\n",
                     "\n",
                     "    .dataframe thead th {\n",
                     "        text-align: right;\n",
                     "    }\n",
                     "</style>\n",
                     "<table border=\"1\" class=\"dataframe\">\n",
                     "  <thead>\n",
                     "    <tr style=\"text-align: right;\">\n",
                     "      <th></th>\n",
                     "      <th>id</th>\n",
                     "      <th>predicted_answer_idx</th>\n",
                     "      <th>exact_match</th>\n",
                     "      <th>llm_accuracy</th>\n",
                     "    </tr>\n",
                     "  </thead>\n",
                     "  <tbody>\n",
                     "    <tr>\n",
                     "      <th>count</th>\n",
                     "      <td>1018.000000</td>\n",
                     "      <td>1018.0</td>\n",
                     "      <td>1018.000000</td>\n",
                     "      <td>1018.000000</td>\n",
                     "    </tr>\n",
                     "    <tr>\n",
                     "      <th>mean</th>\n",
                     "      <td>108.002947</td>\n",
                     "      <td>0.0</td>\n",
                     "      <td>0.686640</td>\n",
                     "      <td>0.904617</td>\n",
                     "    </tr>\n",
                     "    <tr>\n",
                     "      <th>std</th>\n",
                     "      <td>106.485369</td>\n",
                     "      <td>0.0</td>\n",
                     "      <td>0.464087</td>\n",
                     "      <td>0.230489</td>\n",
                     "    </tr>\n",
                     "    <tr>\n",
                     "      <th>min</th>\n",
                     "      <td>0.000000</td>\n",
                     "      <td>0.0</td>\n",
                     "      <td>0.000000</td>\n",
                     "      <td>0.000000</td>\n",
                     "    </tr>\n",
                     "    <tr>\n",
                     "      <th>25%</th>\n",
                     "      <td>27.000000</td>\n",
                     "      <td>0.0</td>\n",
                     "      <td>0.000000</td>\n",
                     "      <td>1.000000</td>\n",
                     "    </tr>\n",
                     "    <tr>\n",
                     "      <th>50%</th>\n",
                     "      <td>68.000000</td>\n",
                     "      <td>0.0</td>\n",
                     "      <td>1.000000</td>\n",
                     "      <td>1.000000</td>\n",
                     "    </tr>\n",
                     "    <tr>\n",
                     "      <th>75%</th>\n",
                     "      <td>156.750000</td>\n",
                     "      <td>0.0</td>\n",
                     "      <td>1.000000</td>\n",
                     "      <td>1.000000</td>\n",
                     "    </tr>\n",
                     "    <tr>\n",
                     "      <th>max</th>\n",
                     "      <td>496.000000</td>\n",
                     "      <td>0.0</td>\n",
                     "      <td>1.000000</td>\n",
                     "      <td>1.000000</td>\n",
                     "    </tr>\n",
                     "  </tbody>\n",
                     "</table>\n",
                     "</div>"
                  ],
                  "text/plain": [
                     "                id  predicted_answer_idx  exact_match  llm_accuracy\n",
                     "count  1018.000000                1018.0  1018.000000   1018.000000\n",
                     "mean    108.002947                   0.0     0.686640      0.904617\n",
                     "std     106.485369                   0.0     0.464087      0.230489\n",
                     "min       0.000000                   0.0     0.000000      0.000000\n",
                     "25%      27.000000                   0.0     0.000000      1.000000\n",
                     "50%      68.000000                   0.0     1.000000      1.000000\n",
                     "75%     156.750000                   0.0     1.000000      1.000000\n",
                     "max     496.000000                   0.0     1.000000      1.000000"
                  ]
               },
               "execution_count": 108,
               "metadata": {},
               "output_type": "execute_result"
            }
         ],
         "source": [
            "df[df[\"question_key\"] == \"unalias_question\"].drop_duplicates(subset=[\"question\"], inplace=False).describe()"
         ]
      },
      {
         "cell_type": "code",
         "execution_count": null,
         "metadata": {},
         "outputs": [],
         "source": [
            "90.4"
         ]
      },
      {
         "cell_type": "code",
         "execution_count": null,
         "metadata": {},
         "outputs": [],
         "source": []
      },
      {
         "cell_type": "markdown",
         "metadata": {},
         "source": [
            "# convert trivia qa in jsonl to json"
         ]
      },
      {
         "cell_type": "code",
         "execution_count": 32,
         "metadata": {},
         "outputs": [],
         "source": [
            "train = io.load_jsonlines(f\"{vars.DATA_DIR}/debug_meta_train/syn_data_neurips/model_prep/light_weight_sft_content_curated_v1_sample=10.jsonl\")"
         ]
      },
      {
         "cell_type": "code",
         "execution_count": 34,
         "metadata": {},
         "outputs": [
            {
               "data": {
                  "text/plain": [
                     "{'entity_type': 'Person',\n",
                     " 'entity_type_tag': 'person',\n",
                     " 'entity_name': 'Marie Antoinette',\n",
                     " 'template': 'How many children did {person} have?',\n",
                     " 'question': 'How many children did Marie Antoinette have?',\n",
                     " 'answer': '4'}"
                  ]
               },
               "execution_count": 34,
               "metadata": {},
               "output_type": "execute_result"
            }
         ],
         "source": [
            "train[0]"
         ]
      },
      {
         "cell_type": "code",
         "execution_count": 35,
         "metadata": {},
         "outputs": [],
         "source": [
            "processed_train_in_alpaca = []\n",
            "for datum in train:\n",
            "    processed_train_in_alpaca.append({\n",
            "        \"instruction\": datum[\"question\"],\n",
            "        \"input\": \"\",\n",
            "        \"output\": (\"\" if datum[\"answer\"][0] == \" \" else \" \") + datum[\"answer\"]\n",
            "    })"
         ]
      },
      {
         "cell_type": "code",
         "execution_count": 36,
         "metadata": {},
         "outputs": [
            {
               "data": {
                  "text/plain": [
                     "480"
                  ]
               },
               "execution_count": 36,
               "metadata": {},
               "output_type": "execute_result"
            }
         ],
         "source": [
            "len(processed_train_in_alpaca)"
         ]
      },
      {
         "cell_type": "code",
         "execution_count": 37,
         "metadata": {},
         "outputs": [
            {
               "data": {
                  "text/plain": [
                     "480"
                  ]
               },
               "execution_count": 37,
               "metadata": {},
               "output_type": "execute_result"
            }
         ],
         "source": [
            "len(train)"
         ]
      },
      {
         "cell_type": "code",
         "execution_count": 38,
         "metadata": {},
         "outputs": [],
         "source": [
            "io.dump_json(\n",
            "    processed_train_in_alpaca,\n",
            "    \"/data/users/zliu/LLaMA-Factory/data/template_sft_alpaca_train.json\"\n",
            ")"
         ]
      },
      {
         "cell_type": "code",
         "execution_count": null,
         "metadata": {},
         "outputs": [],
         "source": []
      }
   ],
   "metadata": {
      "kernelspec": {
         "display_name": "cpt",
         "language": "python",
         "name": "python3"
      },
      "language_info": {
         "codemirror_mode": {
            "name": "ipython",
            "version": 3
         },
         "file_extension": ".py",
         "mimetype": "text/x-python",
         "name": "python",
         "nbconvert_exporter": "python",
         "pygments_lexer": "ipython3",
         "version": "3.11.10"
      }
   },
   "nbformat": 4,
   "nbformat_minor": 2
}
