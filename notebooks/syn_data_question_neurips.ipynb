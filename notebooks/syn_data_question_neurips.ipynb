{
 "cells": [
  {
   "cell_type": "code",
   "execution_count": 1,
   "id": "1177ff58",
   "metadata": {},
   "outputs": [],
   "source": [
    "import datasets\n",
    "from datasets import load_dataset\n",
    "from tqdm import tqdm\n",
    "from knowledge_propagation.utils import vars, io, extractor\n",
    "from scipy.stats import describe\n",
    "from typing import List, Dict\n",
    "import re\n",
    "from copy import deepcopy\n",
    "import pandas as pd\n",
    "\n",
    "from collections import defaultdict, Counter\n",
    "import matplotlib.pyplot as plt\n",
    "import numpy as np"
   ]
  },
  {
   "cell_type": "code",
   "execution_count": 89,
   "id": "35b0c9dd",
   "metadata": {},
   "outputs": [],
   "source": [
    "entities_v1 = datasets.load_from_disk(f\"{vars.DATA_DIR}/debug_meta_train/syn_data_neurips/data_gen/entities_v1.hf\",)"
   ]
  },
  {
   "cell_type": "code",
   "execution_count": 363,
   "id": "7445e4b4",
   "metadata": {},
   "outputs": [],
   "source": [
    "entity_type2templates = io.load_json(f\"{vars.DATA_DIR}/debug_meta_train/syn_data_neurips/data_gen/entity_type2templates_makeup.json\")"
   ]
  },
  {
   "cell_type": "code",
   "execution_count": 6,
   "id": "d3f50d0f",
   "metadata": {},
   "outputs": [],
   "source": [
    "entity_type2templates[\"Country\"] = [\n",
    "    \"What is the national flower of {country}?\",\n",
    "    \"What is the national anthem of {country} called?\",\n",
    "    \"What is the founding year of {country}?\",\n",
    "    \"What legal system does {country} use?\",\n",
    "    \"What is the date of {country}’s national day or independence day?\",\n",
    "    \"When did {country} join the United Nations?\",\n",
    "    \"What is the top-level internet domain for {country}?\",\n",
    "    \"What is the calling code for {country}?\",\n",
    "    \"What is the ISO alpha-2 code for {country}?\",\n",
    "    \"What is the development status of {country} (e.g., developed)?\"\n",
    "]"
   ]
  },
  {
   "cell_type": "code",
   "execution_count": 364,
   "id": "a20de5f3",
   "metadata": {},
   "outputs": [
    {
     "data": {
      "text/plain": [
       "{'Artwork': ['What is the main medium used in {artwork}?']}"
      ]
     },
     "execution_count": 364,
     "metadata": {},
     "output_type": "execute_result"
    }
   ],
   "source": [
    "entity_type2templates"
   ]
  },
  {
   "cell_type": "code",
   "execution_count": 365,
   "id": "194ddf8e",
   "metadata": {},
   "outputs": [],
   "source": [
    "entity_type2entities = {\n",
    "    \n",
    "}\n",
    "\n",
    "for i in range(len(entities_v1)):\n",
    "    d = entities_v1[i]\n",
    "    if d['entity_type'] not in entity_type2templates:\n",
    "        continue\n",
    "    if entity_type2entities.get(d['entity_type']) is None:\n",
    "        entity_type2entities[d['entity_type']] = []\n",
    "    entity_type2entities[d['entity_type']] = list(set(entity_type2entities[d['entity_type']] + d[\"entities\"]))\n",
    "    "
   ]
  },
  {
   "cell_type": "code",
   "execution_count": 366,
   "id": "43558079",
   "metadata": {},
   "outputs": [
    {
     "data": {
      "text/plain": [
       "1"
      ]
     },
     "execution_count": 366,
     "metadata": {},
     "output_type": "execute_result"
    }
   ],
   "source": [
    "len(entity_type2entities)\n"
   ]
  },
  {
   "cell_type": "code",
   "execution_count": 367,
   "id": "a4f1a6e8",
   "metadata": {},
   "outputs": [
    {
     "name": "stderr",
     "output_type": "stream",
     "text": [
      "/u/zliu/datastor1/miniconda3/envs/cpt/lib/python3.11/site-packages/scipy/stats/_stats_py.py:1114: RuntimeWarning: divide by zero encountered in divide\n",
      "  var *= np.divide(n, n-ddof)  # to avoid error on division by zero\n",
      "/u/zliu/datastor1/miniconda3/envs/cpt/lib/python3.11/site-packages/scipy/stats/_stats_py.py:1114: RuntimeWarning: invalid value encountered in scalar multiply\n",
      "  var *= np.divide(n, n-ddof)  # to avoid error on division by zero\n"
     ]
    },
    {
     "data": {
      "text/plain": [
       "DescribeResult(nobs=1, minmax=(np.int64(337), np.int64(337)), mean=np.float64(337.0), variance=np.float64(nan), skewness=np.float64(nan), kurtosis=np.float64(nan))"
      ]
     },
     "execution_count": 367,
     "metadata": {},
     "output_type": "execute_result"
    }
   ],
   "source": [
    "from scipy.stats import describe\n",
    "describe([len(entity_type2entities[k]) for k in entity_type2entities.keys()])"
   ]
  },
  {
   "cell_type": "markdown",
   "id": "7a8faa9b",
   "metadata": {},
   "source": []
  },
  {
   "cell_type": "code",
   "execution_count": 10,
   "id": "f4bcbbd8",
   "metadata": {},
   "outputs": [],
   "source": [
    "country2continent = io.load_json(f\"{vars.DATA_DIR}/debug_meta_train/country_syn_data_v2/data_gen/country2continent.json\")"
   ]
  },
  {
   "cell_type": "code",
   "execution_count": 11,
   "id": "d7a6e4c0",
   "metadata": {},
   "outputs": [],
   "source": [
    "countries = list(country2continent.keys())"
   ]
  },
  {
   "cell_type": "code",
   "execution_count": 12,
   "id": "47b142ef",
   "metadata": {},
   "outputs": [],
   "source": [
    "entity_type2entities[\"Country\"] = countries"
   ]
  },
  {
   "cell_type": "code",
   "execution_count": 96,
   "id": "0b14ce0c",
   "metadata": {},
   "outputs": [
    {
     "data": {
      "text/plain": [
       "dict_keys(['Book', 'Language', 'Company', 'Artwork', 'Historical Event'])"
      ]
     },
     "execution_count": 96,
     "metadata": {},
     "output_type": "execute_result"
    }
   ],
   "source": [
    "entity_type2entities.keys()"
   ]
  },
  {
   "cell_type": "code",
   "execution_count": 97,
   "id": "87d6cf91",
   "metadata": {},
   "outputs": [],
   "source": [
    "entity_type2tag = {}\n",
    "for k in entity_type2entities.keys():\n",
    "    tag = k.lower().replace(\" \", \"_\").replace(\"-\", \"_\")\n",
    "    templates = entity_type2templates[k]\n",
    "    assert all(template.count(\"{\" + tag + \"}\") == 1 for template in templates), k + \"@@\" + tag\n",
    "    entity_type2tag[k] = tag"
   ]
  },
  {
   "cell_type": "code",
   "execution_count": 98,
   "id": "b57230cf",
   "metadata": {},
   "outputs": [],
   "source": [
    "# io.dump_json(entity_type2tag, f\"{vars.DATA_DIR}/debug_meta_train/syn_data_neurips/data_gen/entity_type2tag_v2.json\")"
   ]
  },
  {
   "cell_type": "code",
   "execution_count": 99,
   "id": "afa1cf47",
   "metadata": {},
   "outputs": [
    {
     "data": {
      "text/plain": [
       "5"
      ]
     },
     "execution_count": 99,
     "metadata": {},
     "output_type": "execute_result"
    }
   ],
   "source": [
    "len(entity_type2tag)"
   ]
  },
  {
   "cell_type": "markdown",
   "id": "aae47787",
   "metadata": {},
   "source": [
    "# generating questions for GPT-4o"
   ]
  },
  {
   "cell_type": "code",
   "execution_count": 368,
   "id": "a97449ed",
   "metadata": {},
   "outputs": [],
   "source": [
    "df_content = []\n",
    "\n",
    "for entity_type, entity_names in entity_type2entities.items():\n",
    "    tag = entity_type2tag[entity_type]\n",
    "    templates = entity_type2templates[entity_type]\n",
    "    for template in templates:\n",
    "        for entity_name in entity_names:\n",
    "            question = template.format(**{tag: entity_name})\n",
    "            df_content.append({\n",
    "                \"entity_type\": entity_type,\n",
    "                \"entity_name\": entity_name,\n",
    "                \"template\": template,\n",
    "                \"question\": question,\n",
    "            })\n",
    "            # if len(question) > 0:\n",
    "                # print(question)\n",
    "df = pd.DataFrame(df_content)"
   ]
  },
  {
   "cell_type": "code",
   "execution_count": 370,
   "id": "98cb4c06",
   "metadata": {},
   "outputs": [],
   "source": [
    "# df.to_csv(f\"{vars.DATA_DIR}/debug_meta_train/syn_data_neurips/data_gen/entity_type_name_template_makeup.csv\", index=False)"
   ]
  },
  {
   "cell_type": "code",
   "execution_count": null,
   "id": "3edc24ef",
   "metadata": {},
   "outputs": [
    {
     "data": {
      "text/html": [
       "<div>\n",
       "<style scoped>\n",
       "    .dataframe tbody tr th:only-of-type {\n",
       "        vertical-align: middle;\n",
       "    }\n",
       "\n",
       "    .dataframe tbody tr th {\n",
       "        vertical-align: top;\n",
       "    }\n",
       "\n",
       "    .dataframe thead th {\n",
       "        text-align: right;\n",
       "    }\n",
       "</style>\n",
       "<table border=\"1\" class=\"dataframe\">\n",
       "  <thead>\n",
       "    <tr style=\"text-align: right;\">\n",
       "      <th></th>\n",
       "      <th>entity_type</th>\n",
       "      <th>entity_name</th>\n",
       "      <th>template</th>\n",
       "      <th>question</th>\n",
       "    </tr>\n",
       "  </thead>\n",
       "  <tbody>\n",
       "    <tr>\n",
       "      <th>1554</th>\n",
       "      <td>Historical Figure</td>\n",
       "      <td>Henry VIII</td>\n",
       "      <td>What language was primarily spoken by {histori...</td>\n",
       "      <td>What language was primarily spoken by Henry VIII?</td>\n",
       "    </tr>\n",
       "    <tr>\n",
       "      <th>1555</th>\n",
       "      <td>Historical Figure</td>\n",
       "      <td>Osman I</td>\n",
       "      <td>What language was primarily spoken by {histori...</td>\n",
       "      <td>What language was primarily spoken by Osman I?</td>\n",
       "    </tr>\n",
       "    <tr>\n",
       "      <th>1556</th>\n",
       "      <td>Historical Figure</td>\n",
       "      <td>Tamerlane</td>\n",
       "      <td>What language was primarily spoken by {histori...</td>\n",
       "      <td>What language was primarily spoken by Tamerlane?</td>\n",
       "    </tr>\n",
       "    <tr>\n",
       "      <th>1557</th>\n",
       "      <td>Historical Figure</td>\n",
       "      <td>Boudica</td>\n",
       "      <td>What language was primarily spoken by {histori...</td>\n",
       "      <td>What language was primarily spoken by Boudica?</td>\n",
       "    </tr>\n",
       "    <tr>\n",
       "      <th>1558</th>\n",
       "      <td>Historical Figure</td>\n",
       "      <td>Wolfgang Amadeus Mozart</td>\n",
       "      <td>What language was primarily spoken by {histori...</td>\n",
       "      <td>What language was primarily spoken by Wolfgang...</td>\n",
       "    </tr>\n",
       "    <tr>\n",
       "      <th>...</th>\n",
       "      <td>...</td>\n",
       "      <td>...</td>\n",
       "      <td>...</td>\n",
       "      <td>...</td>\n",
       "    </tr>\n",
       "    <tr>\n",
       "      <th>1771</th>\n",
       "      <td>Historical Figure</td>\n",
       "      <td>Vincent van Gogh</td>\n",
       "      <td>What language was primarily spoken by {histori...</td>\n",
       "      <td>What language was primarily spoken by Vincent ...</td>\n",
       "    </tr>\n",
       "    <tr>\n",
       "      <th>1772</th>\n",
       "      <td>Historical Figure</td>\n",
       "      <td>Atilla the Hun</td>\n",
       "      <td>What language was primarily spoken by {histori...</td>\n",
       "      <td>What language was primarily spoken by Atilla t...</td>\n",
       "    </tr>\n",
       "    <tr>\n",
       "      <th>1773</th>\n",
       "      <td>Historical Figure</td>\n",
       "      <td>Matsuo Basho</td>\n",
       "      <td>What language was primarily spoken by {histori...</td>\n",
       "      <td>What language was primarily spoken by Matsuo B...</td>\n",
       "    </tr>\n",
       "    <tr>\n",
       "      <th>1774</th>\n",
       "      <td>Historical Figure</td>\n",
       "      <td>Ernest Hemingway</td>\n",
       "      <td>What language was primarily spoken by {histori...</td>\n",
       "      <td>What language was primarily spoken by Ernest H...</td>\n",
       "    </tr>\n",
       "    <tr>\n",
       "      <th>1775</th>\n",
       "      <td>Historical Figure</td>\n",
       "      <td>Dante Alighieri</td>\n",
       "      <td>What language was primarily spoken by {histori...</td>\n",
       "      <td>What language was primarily spoken by Dante Al...</td>\n",
       "    </tr>\n",
       "  </tbody>\n",
       "</table>\n",
       "<p>222 rows × 4 columns</p>\n",
       "</div>"
      ],
      "text/plain": [
       "            entity_type              entity_name  \\\n",
       "1554  Historical Figure               Henry VIII   \n",
       "1555  Historical Figure                  Osman I   \n",
       "1556  Historical Figure                Tamerlane   \n",
       "1557  Historical Figure                  Boudica   \n",
       "1558  Historical Figure  Wolfgang Amadeus Mozart   \n",
       "...                 ...                      ...   \n",
       "1771  Historical Figure         Vincent van Gogh   \n",
       "1772  Historical Figure           Atilla the Hun   \n",
       "1773  Historical Figure             Matsuo Basho   \n",
       "1774  Historical Figure         Ernest Hemingway   \n",
       "1775  Historical Figure          Dante Alighieri   \n",
       "\n",
       "                                               template  \\\n",
       "1554  What language was primarily spoken by {histori...   \n",
       "1555  What language was primarily spoken by {histori...   \n",
       "1556  What language was primarily spoken by {histori...   \n",
       "1557  What language was primarily spoken by {histori...   \n",
       "1558  What language was primarily spoken by {histori...   \n",
       "...                                                 ...   \n",
       "1771  What language was primarily spoken by {histori...   \n",
       "1772  What language was primarily spoken by {histori...   \n",
       "1773  What language was primarily spoken by {histori...   \n",
       "1774  What language was primarily spoken by {histori...   \n",
       "1775  What language was primarily spoken by {histori...   \n",
       "\n",
       "                                               question  \n",
       "1554  What language was primarily spoken by Henry VIII?  \n",
       "1555     What language was primarily spoken by Osman I?  \n",
       "1556   What language was primarily spoken by Tamerlane?  \n",
       "1557     What language was primarily spoken by Boudica?  \n",
       "1558  What language was primarily spoken by Wolfgang...  \n",
       "...                                                 ...  \n",
       "1771  What language was primarily spoken by Vincent ...  \n",
       "1772  What language was primarily spoken by Atilla t...  \n",
       "1773  What language was primarily spoken by Matsuo B...  \n",
       "1774  What language was primarily spoken by Ernest H...  \n",
       "1775  What language was primarily spoken by Dante Al...  \n",
       "\n",
       "[222 rows x 4 columns]"
      ]
     },
     "execution_count": 107,
     "metadata": {},
     "output_type": "execute_result"
    }
   ],
   "source": []
  },
  {
   "cell_type": "code",
   "execution_count": null,
   "id": "2a4b4f8a",
   "metadata": {},
   "outputs": [],
   "source": []
  },
  {
   "cell_type": "code",
   "execution_count": 465,
   "id": "cc6a0b7b",
   "metadata": {},
   "outputs": [],
   "source": [
    "entity_type_name_template_v1_answered_dataset = datasets.load_from_disk(f\"{vars.DATA_DIR}/debug_meta_train/syn_data_neurips/data_gen/entity_type_name_template_v1_answered.hf\")\n",
    "entity_type_name_template_v2_answered_dataset = datasets.load_from_disk(f\"{vars.DATA_DIR}/debug_meta_train/syn_data_neurips/data_gen/entity_type_name_template_v2_answered.hf\")\n",
    "entity_type_name_template_makeup_answered_dataset = datasets.load_from_disk(f\"{vars.DATA_DIR}/debug_meta_train/syn_data_neurips/data_gen/entity_type_name_template_makeup_answered.hf\")\n",
    "\n",
    "entity_type_name_template_answered_dataset_prefinal = datasets.load_from_disk(f\"{vars.DATA_DIR}/debug_meta_train/syn_data_neurips/data_gen/entity_type_name_template_v2_answered_w_makeup.hf\")\n"
   ]
  },
  {
   "cell_type": "code",
   "execution_count": 463,
   "id": "04d3ba57",
   "metadata": {},
   "outputs": [],
   "source": [
    "# len(entity_type_name_template_v2_answered_dataset)"
   ]
  },
  {
   "cell_type": "code",
   "execution_count": null,
   "id": "89a04787",
   "metadata": {},
   "outputs": [],
   "source": [
    "# entity_type_name_template_v1_answered_df = entity_type_name_template_v1_answered_dataset.to_pandas()\n",
    "# entity_type_name_template_v2_answered_df = entity_type_name_template_v2_answered_dataset.to_pandas()\n",
    "# entity_type_name_template_makeup_answered_df = entity_type_name_template_makeup_answered_dataset.to_pandas()\n",
    "# entity_type_name_template_answered_df = pd.concat([entity_type_name_template_v1_answered_df, entity_type_name_template_v2_answered_df], axis=0)\n",
    "# entity_type_name_template_answered_dataset = datasets.Dataset.from_pandas(entity_type_name_template_answered_df)\n",
    "# entity_type_name_template_answered_df_prefinal = entity_type_name_template_answered_dataset_prefinal.to_pandas()"
   ]
  },
  {
   "cell_type": "code",
   "execution_count": 535,
   "id": "d4198415",
   "metadata": {},
   "outputs": [],
   "source": [
    "entity_type_name_template_answered_df_prefinal = pd.DataFrame(io.load_jsonlines(\"/u/zliu/datastor1/KE-by-CP/data/debug_meta_train/syn_data_neurips/data_gen/entity_type_name_template_v2_answered_prefiltered_prefinal.jsonl\"))"
   ]
  },
  {
   "cell_type": "code",
   "execution_count": 530,
   "id": "e7f33f2a",
   "metadata": {},
   "outputs": [
    {
     "data": {
      "text/plain": [
       "20148"
      ]
     },
     "execution_count": 530,
     "metadata": {},
     "output_type": "execute_result"
    }
   ],
   "source": [
    "len(df)"
   ]
  },
  {
   "cell_type": "code",
   "execution_count": 531,
   "id": "887a62f6",
   "metadata": {},
   "outputs": [],
   "source": [
    "# datasets.Dataset.from_pandas(entity_type_name_template_answered_df).save_to_disk(f\"{vars.DATA_DIR}/debug_meta_train/syn_data_neurips/data_gen/entity_type_name_template_v2_answered_w_makeup.hf\")"
   ]
  },
  {
   "cell_type": "code",
   "execution_count": 532,
   "id": "f0d92588",
   "metadata": {},
   "outputs": [],
   "source": [
    "# Counter(entity_type_name_template_makeup_answered_df[\"answer\"])"
   ]
  },
  {
   "cell_type": "code",
   "execution_count": 533,
   "id": "beca4b17",
   "metadata": {},
   "outputs": [],
   "source": [
    "# entity_type_name_template_answered_df_prefinal.drop(columns=[\"__index_level_0__\"], inplace=True)"
   ]
  },
  {
   "cell_type": "code",
   "execution_count": 534,
   "id": "2f921ad9",
   "metadata": {},
   "outputs": [],
   "source": [
    "# entity_type_name_template_makeup_answered_df"
   ]
  },
  {
   "cell_type": "markdown",
   "id": "e1490bf8",
   "metadata": {},
   "source": []
  },
  {
   "cell_type": "code",
   "execution_count": 490,
   "id": "8ec52d3b",
   "metadata": {},
   "outputs": [],
   "source": [
    "# entity_type_name_template_answered_df\n"
   ]
  },
  {
   "cell_type": "code",
   "execution_count": 446,
   "id": "6c4108c2",
   "metadata": {},
   "outputs": [],
   "source": [
    "t = \"What is the main medium used in {artwork}?\"\n",
    "e_t = \"Artwork\""
   ]
  },
  {
   "cell_type": "code",
   "execution_count": 484,
   "id": "0824d722",
   "metadata": {},
   "outputs": [],
   "source": [
    "# question2answer = dict(zip(entity_type_name_template_makeup_answered_df[\"question\"], entity_type_name_template_makeup_answered_df[\"answer\"]))"
   ]
  },
  {
   "cell_type": "code",
   "execution_count": 485,
   "id": "189ff25e",
   "metadata": {},
   "outputs": [],
   "source": [
    "# entity_type_name_template_makeup_answered_df[\"template\"]"
   ]
  },
  {
   "cell_type": "code",
   "execution_count": null,
   "id": "7bd3c5d7",
   "metadata": {},
   "outputs": [],
   "source": []
  },
  {
   "cell_type": "code",
   "execution_count": 431,
   "id": "7673f88d",
   "metadata": {},
   "outputs": [],
   "source": [
    "# len(question2answer)"
   ]
  },
  {
   "cell_type": "code",
   "execution_count": 449,
   "id": "d41b5585",
   "metadata": {},
   "outputs": [],
   "source": [
    "def update_makeup(row):\n",
    "    if row[\"template\"] == \"Where is the main medium used in {artwork}?\":\n",
    "        # update template\n",
    "        row[\"template\"] = \"What is the main medium used in {artwork}?\"\n",
    "        # update question\n",
    "        row[\"question\"] = row[\"template\"].format(artwork=row[\"entity_name\"])\n",
    "        # update answer\n",
    "        row[\"answer\"] = question2answer[row[\"question\"]]\n",
    "    else:\n",
    "        pass\n",
    "        "
   ]
  },
  {
   "cell_type": "code",
   "execution_count": 450,
   "id": "e9cc00b4",
   "metadata": {},
   "outputs": [
    {
     "data": {
      "text/plain": [
       "0       None\n",
       "1       None\n",
       "2       None\n",
       "3       None\n",
       "4       None\n",
       "        ... \n",
       "3949    None\n",
       "3950    None\n",
       "3951    None\n",
       "3952    None\n",
       "3953    None\n",
       "Length: 30565, dtype: object"
      ]
     },
     "execution_count": 450,
     "metadata": {},
     "output_type": "execute_result"
    }
   ],
   "source": [
    "entity_type_name_template_answered_df.apply(update_makeup, axis=1)"
   ]
  },
  {
   "cell_type": "code",
   "execution_count": 423,
   "id": "668458df",
   "metadata": {},
   "outputs": [],
   "source": [
    "# integrate makeup df into concatenated df\n",
    "df_w_makeup = []\n",
    "c = 0\n",
    "for i, r in entity_type_name_template_answered_df[entity_type_name_template_answered_df[\"template\"] == \"Where is the main medium used in {artwork}?\"].iterrows():\n",
    "    r_with_makeup = entity_type_name_template_makeup_answered_df[(entity_type_name_template_makeup_answered_df[\"entity_name\"] == r[\"entity_name\"]) & (entity_type_name_template_makeup_answered_df[\"template\"] == t) & (entity_type_name_template_makeup_answered_df[\"entity_type\"] == e_t)]\n",
    "    \n",
    "    if len(r_with_makeup) == 0:\n",
    "        continue\n",
    "    assert len(r_with_makeup) == 1, r\n",
    "    c += 1\n",
    "    r[\"template\"] = r_with_makeup.iloc[0][\"template\"]\n",
    "    r[\"question\"] = r_with_makeup.iloc[0][\"question\"]\n",
    "    r[\"answer\"] = r_with_makeup.iloc[0][\"answer\"]"
   ]
  },
  {
   "cell_type": "code",
   "execution_count": 425,
   "id": "4f394af2",
   "metadata": {},
   "outputs": [
    {
     "data": {
      "text/plain": [
       "entity_type                                              Artwork\n",
       "entity_name                               The Triumph of Galatea\n",
       "template              What is the main medium used in {artwork}?\n",
       "question       What is the main medium used in The Triumph of...\n",
       "answer                                                    Fresco\n",
       "Name: 14188, dtype: object"
      ]
     },
     "execution_count": 425,
     "metadata": {},
     "output_type": "execute_result"
    }
   ],
   "source": [
    "r"
   ]
  },
  {
   "cell_type": "code",
   "execution_count": 435,
   "id": "e6faa86d",
   "metadata": {},
   "outputs": [
    {
     "data": {
      "text/plain": [
       "entity_type                                              Artwork\n",
       "entity_name                               The Triumph of Galatea\n",
       "template              What is the main medium used in {artwork}?\n",
       "question       What is the main medium used in The Triumph of...\n",
       "answer                                                    Fresco\n",
       "Name: 14188, dtype: object"
      ]
     },
     "execution_count": 435,
     "metadata": {},
     "output_type": "execute_result"
    }
   ],
   "source": [
    "entity_type_name_template_answered_df.iloc[14188]"
   ]
  },
  {
   "cell_type": "code",
   "execution_count": 405,
   "id": "b6d746ae",
   "metadata": {},
   "outputs": [
    {
     "data": {
      "text/html": [
       "<div>\n",
       "<style scoped>\n",
       "    .dataframe tbody tr th:only-of-type {\n",
       "        vertical-align: middle;\n",
       "    }\n",
       "\n",
       "    .dataframe tbody tr th {\n",
       "        vertical-align: top;\n",
       "    }\n",
       "\n",
       "    .dataframe thead th {\n",
       "        text-align: right;\n",
       "    }\n",
       "</style>\n",
       "<table border=\"1\" class=\"dataframe\">\n",
       "  <thead>\n",
       "    <tr style=\"text-align: right;\">\n",
       "      <th></th>\n",
       "      <th>entity_type</th>\n",
       "      <th>entity_name</th>\n",
       "      <th>template</th>\n",
       "      <th>question</th>\n",
       "      <th>answer</th>\n",
       "    </tr>\n",
       "  </thead>\n",
       "  <tbody>\n",
       "    <tr>\n",
       "      <th>333</th>\n",
       "      <td>Artwork</td>\n",
       "      <td>David</td>\n",
       "      <td>What is the main medium used in {artwork}?</td>\n",
       "      <td>What is the main medium used in David?</td>\n",
       "      <td>Marble</td>\n",
       "    </tr>\n",
       "  </tbody>\n",
       "</table>\n",
       "</div>"
      ],
      "text/plain": [
       "    entity_type entity_name                                    template  \\\n",
       "333     Artwork       David  What is the main medium used in {artwork}?   \n",
       "\n",
       "                                   question  answer  \n",
       "333  What is the main medium used in David?  Marble  "
      ]
     },
     "execution_count": 405,
     "metadata": {},
     "output_type": "execute_result"
    }
   ],
   "source": [
    "entity_type_name_template_makeup_answered_df[(entity_type_name_template_makeup_answered_df[\"entity_name\"] == \"David\") & (entity_type_name_template_makeup_answered_df[\"template\"] == t) & (entity_type_name_template_makeup_answered_df[\"entity_type\"] == e_t)]"
   ]
  },
  {
   "cell_type": "code",
   "execution_count": null,
   "id": "32232764",
   "metadata": {},
   "outputs": [
    {
     "data": {
      "text/plain": [
       "True"
      ]
     },
     "execution_count": 388,
     "metadata": {},
     "output_type": "execute_result"
    }
   ],
   "source": [
    "set(entity_type_name_template_makeup_answered_df[\"entity_name\"].to_list()) == set("
   ]
  },
  {
   "cell_type": "code",
   "execution_count": null,
   "id": "aa4d334f",
   "metadata": {},
   "outputs": [],
   "source": []
  },
  {
   "cell_type": "code",
   "execution_count": 510,
   "id": "91061ac1",
   "metadata": {},
   "outputs": [
    {
     "data": {
      "text/plain": [
       "Dataset({\n",
       "    features: ['entity_type', 'entity_name', 'template', 'question', 'answer', '__index_level_0__'],\n",
       "    num_rows: 20148\n",
       "})"
      ]
     },
     "execution_count": 510,
     "metadata": {},
     "output_type": "execute_result"
    }
   ],
   "source": [
    "datasets.Dataset.from_pandas(entity_type_name_template_answered_df_prefinal_filtered)"
   ]
  },
  {
   "cell_type": "code",
   "execution_count": 440,
   "id": "740dad6c",
   "metadata": {},
   "outputs": [
    {
     "data": {
      "text/plain": [
       "0"
      ]
     },
     "execution_count": 440,
     "metadata": {},
     "output_type": "execute_result"
    }
   ],
   "source": [
    "len(entity_type_name_template_answered_df[entity_type_name_template_answered_df[\"template\"] == \"Where is the main medium used in {artwork}?\"])"
   ]
  },
  {
   "cell_type": "code",
   "execution_count": 441,
   "id": "ec03b31c",
   "metadata": {},
   "outputs": [
    {
     "data": {
      "text/plain": [
       "1"
      ]
     },
     "execution_count": 441,
     "metadata": {},
     "output_type": "execute_result"
    }
   ],
   "source": [
    "sum(entity_type_name_template_answered_df[entity_type_name_template_answered_df[\"template\"] == \"What is the main medium used in {artwork}?\"][\"answer\"] == \"I don't know\")"
   ]
  },
  {
   "cell_type": "code",
   "execution_count": 536,
   "id": "a0305be1",
   "metadata": {},
   "outputs": [],
   "source": [
    "# Counter(entity_type_name_template_v1_answered_df[entity_type_name_template_v1_answered_df[\"template\"] == \"What language was primarily spoken by {historical_figure}?\"][\"answer\"])"
   ]
  },
  {
   "cell_type": "code",
   "execution_count": null,
   "id": "7c136792",
   "metadata": {},
   "outputs": [
    {
     "data": {
      "text/html": [
       "<div>\n",
       "<style scoped>\n",
       "    .dataframe tbody tr th:only-of-type {\n",
       "        vertical-align: middle;\n",
       "    }\n",
       "\n",
       "    .dataframe tbody tr th {\n",
       "        vertical-align: top;\n",
       "    }\n",
       "\n",
       "    .dataframe thead th {\n",
       "        text-align: right;\n",
       "    }\n",
       "</style>\n",
       "<table border=\"1\" class=\"dataframe\">\n",
       "  <thead>\n",
       "    <tr style=\"text-align: right;\">\n",
       "      <th></th>\n",
       "      <th>entity_type</th>\n",
       "      <th>entity_name</th>\n",
       "      <th>template</th>\n",
       "      <th>question</th>\n",
       "      <th>answer</th>\n",
       "    </tr>\n",
       "  </thead>\n",
       "  <tbody>\n",
       "    <tr>\n",
       "      <th>0</th>\n",
       "      <td>Historical Figure</td>\n",
       "      <td>Henry VIII</td>\n",
       "      <td>What occupation is {historical_figure} most we...</td>\n",
       "      <td>What occupation is Henry VIII most well-known ...</td>\n",
       "      <td>King of England</td>\n",
       "    </tr>\n",
       "    <tr>\n",
       "      <th>1</th>\n",
       "      <td>Historical Figure</td>\n",
       "      <td>Osman I</td>\n",
       "      <td>What occupation is {historical_figure} most we...</td>\n",
       "      <td>What occupation is Osman I most well-known for?</td>\n",
       "      <td>Osman I is most well-known for being a leader ...</td>\n",
       "    </tr>\n",
       "    <tr>\n",
       "      <th>2</th>\n",
       "      <td>Historical Figure</td>\n",
       "      <td>Tamerlane</td>\n",
       "      <td>What occupation is {historical_figure} most we...</td>\n",
       "      <td>What occupation is Tamerlane most well-known for?</td>\n",
       "      <td>Conqueror</td>\n",
       "    </tr>\n",
       "    <tr>\n",
       "      <th>3</th>\n",
       "      <td>Historical Figure</td>\n",
       "      <td>Boudica</td>\n",
       "      <td>What occupation is {historical_figure} most we...</td>\n",
       "      <td>What occupation is Boudica most well-known for?</td>\n",
       "      <td>Warrior queen</td>\n",
       "    </tr>\n",
       "    <tr>\n",
       "      <th>4</th>\n",
       "      <td>Historical Figure</td>\n",
       "      <td>Wolfgang Amadeus Mozart</td>\n",
       "      <td>What occupation is {historical_figure} most we...</td>\n",
       "      <td>What occupation is Wolfgang Amadeus Mozart mos...</td>\n",
       "      <td>Composer</td>\n",
       "    </tr>\n",
       "    <tr>\n",
       "      <th>...</th>\n",
       "      <td>...</td>\n",
       "      <td>...</td>\n",
       "      <td>...</td>\n",
       "      <td>...</td>\n",
       "      <td>...</td>\n",
       "    </tr>\n",
       "    <tr>\n",
       "      <th>30557</th>\n",
       "      <td>Historical Event</td>\n",
       "      <td>Apollo 11 Mission</td>\n",
       "      <td>Which side is considered to have \"won\" {histor...</td>\n",
       "      <td>Which side is considered to have \"won\" Apollo ...</td>\n",
       "      <td>The United States is considered to have \"won\" ...</td>\n",
       "    </tr>\n",
       "    <tr>\n",
       "      <th>30560</th>\n",
       "      <td>Historical Event</td>\n",
       "      <td>End of Apartheid in South Africa</td>\n",
       "      <td>Which side is considered to have \"won\" {histor...</td>\n",
       "      <td>Which side is considered to have \"won\" End of ...</td>\n",
       "      <td>The end of apartheid in South Africa is genera...</td>\n",
       "    </tr>\n",
       "    <tr>\n",
       "      <th>30561</th>\n",
       "      <td>Historical Event</td>\n",
       "      <td>Trail of Tears</td>\n",
       "      <td>Which side is considered to have \"won\" {histor...</td>\n",
       "      <td>Which side is considered to have \"won\" Trail o...</td>\n",
       "      <td>The United States government is considered to ...</td>\n",
       "    </tr>\n",
       "    <tr>\n",
       "      <th>30562</th>\n",
       "      <td>Historical Event</td>\n",
       "      <td>Greek War of Independence</td>\n",
       "      <td>Which side is considered to have \"won\" {histor...</td>\n",
       "      <td>Which side is considered to have \"won\" Greek W...</td>\n",
       "      <td>The Greeks are considered to have \"won\" the Gr...</td>\n",
       "    </tr>\n",
       "    <tr>\n",
       "      <th>30564</th>\n",
       "      <td>Historical Event</td>\n",
       "      <td>Construction of the Panama Canal</td>\n",
       "      <td>Which side is considered to have \"won\" {histor...</td>\n",
       "      <td>Which side is considered to have \"won\" Constru...</td>\n",
       "      <td>The United States is considered to have \"won\" ...</td>\n",
       "    </tr>\n",
       "  </tbody>\n",
       "</table>\n",
       "<p>20148 rows × 5 columns</p>\n",
       "</div>"
      ],
      "text/plain": [
       "             entity_type                       entity_name  \\\n",
       "0      Historical Figure                        Henry VIII   \n",
       "1      Historical Figure                           Osman I   \n",
       "2      Historical Figure                         Tamerlane   \n",
       "3      Historical Figure                           Boudica   \n",
       "4      Historical Figure           Wolfgang Amadeus Mozart   \n",
       "...                  ...                               ...   \n",
       "30557   Historical Event                 Apollo 11 Mission   \n",
       "30560   Historical Event  End of Apartheid in South Africa   \n",
       "30561   Historical Event                    Trail of Tears   \n",
       "30562   Historical Event         Greek War of Independence   \n",
       "30564   Historical Event  Construction of the Panama Canal   \n",
       "\n",
       "                                                template  \\\n",
       "0      What occupation is {historical_figure} most we...   \n",
       "1      What occupation is {historical_figure} most we...   \n",
       "2      What occupation is {historical_figure} most we...   \n",
       "3      What occupation is {historical_figure} most we...   \n",
       "4      What occupation is {historical_figure} most we...   \n",
       "...                                                  ...   \n",
       "30557  Which side is considered to have \"won\" {histor...   \n",
       "30560  Which side is considered to have \"won\" {histor...   \n",
       "30561  Which side is considered to have \"won\" {histor...   \n",
       "30562  Which side is considered to have \"won\" {histor...   \n",
       "30564  Which side is considered to have \"won\" {histor...   \n",
       "\n",
       "                                                question  \\\n",
       "0      What occupation is Henry VIII most well-known ...   \n",
       "1        What occupation is Osman I most well-known for?   \n",
       "2      What occupation is Tamerlane most well-known for?   \n",
       "3        What occupation is Boudica most well-known for?   \n",
       "4      What occupation is Wolfgang Amadeus Mozart mos...   \n",
       "...                                                  ...   \n",
       "30557  Which side is considered to have \"won\" Apollo ...   \n",
       "30560  Which side is considered to have \"won\" End of ...   \n",
       "30561  Which side is considered to have \"won\" Trail o...   \n",
       "30562  Which side is considered to have \"won\" Greek W...   \n",
       "30564  Which side is considered to have \"won\" Constru...   \n",
       "\n",
       "                                                  answer  \n",
       "0                                        King of England  \n",
       "1      Osman I is most well-known for being a leader ...  \n",
       "2                                              Conqueror  \n",
       "3                                          Warrior queen  \n",
       "4                                               Composer  \n",
       "...                                                  ...  \n",
       "30557  The United States is considered to have \"won\" ...  \n",
       "30560  The end of apartheid in South Africa is genera...  \n",
       "30561  The United States government is considered to ...  \n",
       "30562  The Greeks are considered to have \"won\" the Gr...  \n",
       "30564  The United States is considered to have \"won\" ...  \n",
       "\n",
       "[20148 rows x 5 columns]"
      ]
     },
     "execution_count": 516,
     "metadata": {},
     "output_type": "execute_result"
    }
   ],
   "source": [
    "# entity_type_name_template_answered_df_prefinal_filtered"
   ]
  },
  {
   "cell_type": "code",
   "execution_count": 519,
   "id": "b18b406c",
   "metadata": {},
   "outputs": [],
   "source": [
    "entity_type2count = {}\n",
    "entity_type2idk = {}\n",
    "\n",
    "for i in range(len(entity_type_name_template_answered_df_prefinal)):\n",
    "    d = entity_type_name_template_answered_df_prefinal.iloc[i]\n",
    "    if d[\"entity_type\"] not in entity_type2count:\n",
    "        entity_type2count[d[\"entity_type\"]] = defaultdict(int)\n",
    "    if d[\"entity_type\"] not in entity_type2idk:\n",
    "        entity_type2idk[d[\"entity_type\"]] = defaultdict(int)\n",
    "        \n",
    "    entity_type2count[d[\"entity_type\"]][d[\"template\"]] += 1\n",
    "    if \"I don't know\" in d[\"answer\"]:\n",
    "        entity_type2idk[d[\"entity_type\"]][d[\"template\"]] += 1\n",
    "        "
   ]
  },
  {
   "cell_type": "code",
   "execution_count": null,
   "id": "cb5a9499",
   "metadata": {},
   "outputs": [],
   "source": []
  },
  {
   "cell_type": "code",
   "execution_count": 541,
   "id": "bdd53247",
   "metadata": {},
   "outputs": [
    {
     "data": {
      "text/plain": [
       "20148"
      ]
     },
     "execution_count": 541,
     "metadata": {},
     "output_type": "execute_result"
    }
   ],
   "source": [
    "len(entity_type_name_template_answered_df_prefinal)"
   ]
  },
  {
   "cell_type": "code",
   "execution_count": 509,
   "id": "140c0d92",
   "metadata": {},
   "outputs": [
    {
     "data": {
      "text/plain": [
       "Dataset({\n",
       "    features: ['entity_type', 'entity_name', 'template', 'question', 'answer'],\n",
       "    num_rows: 26611\n",
       "})"
      ]
     },
     "execution_count": 509,
     "metadata": {},
     "output_type": "execute_result"
    }
   ],
   "source": [
    "entity_type_name_template_v1_answered_dataset"
   ]
  },
  {
   "cell_type": "code",
   "execution_count": 542,
   "id": "ab8c17ff",
   "metadata": {},
   "outputs": [
    {
     "name": "stdout",
     "output_type": "stream",
     "text": [
      "'I don't know' rate\n",
      "Historical Figure\n",
      "What occupation is {historical_figure} most well-known for? : 11 / 222 (4.95%)\n",
      "What year was {historical_figure} born? : 28 / 222 (12.61%)\n",
      "Where was the birthplace of {historical_figure}? : 17 / 222 (7.66%)\n",
      "What is the nationality of {historical_figure}? : 22 / 222 (9.91%)\n",
      "What year did {historical_figure} pass away? : 17 / 222 (7.66%)\n",
      "Where did {historical_figure} die? : 26 / 222 (11.71%)\n",
      "What is the religion of {historical_figure}? : 112 / 222 (50.45%)\n",
      "What language was primarily spoken by {historical_figure}? : 8 / 222 (3.6%)\n",
      "What is the alma mater where {historical_figure} earned their highest degree? : 184 / 222 (82.88%)\n",
      "How many children did {historical_figure} have? : 105 / 222 (47.3%)\n",
      "============================================================\n",
      "Business Figure\n",
      "What year was {business_figure} born? : 17 / 220 (7.73%)\n",
      "What is the company {business_figure} is most associated with? : 4 / 220 (1.82%)\n",
      "What country was {business_figure} born? : 20 / 220 (9.09%)\n",
      "What is the nationality of {business_figure}? : 11 / 220 (5.0%)\n",
      "What year did {business_figure} die? : 199 / 220 (90.45%)\n",
      "What country is {business_figure} buried? : 208 / 220 (94.55%)\n",
      "============================================================\n",
      "Book\n",
      "Who is the author of {book}? : 220 / 380 (57.89%)\n",
      "What genre does {book} belong to? : 72 / 380 (18.95%)\n",
      "Which language was originally used to write {book}? : 133 / 380 (35.0%)\n",
      "What is the name of the main character of {book}? : 208 / 380 (54.74%)\n",
      "In which year was {book} published? : 152 / 380 (40.0%)\n",
      "How many chapters are in {book}? : 275 / 380 (72.37%)\n",
      "Who was the original publisher of {book}? : 86 / 380 (22.63%)\n",
      "Which country was {book} first published in? : 53 / 380 (13.95%)\n",
      "What is the ISBN of {book}? : 287 / 380 (75.53%)\n",
      "============================================================\n",
      "Language\n",
      "What writing system is used by {language}? : 7 / 182 (3.85%)\n",
      "What is the ISO 639‑1 code for {language}? : 15 / 183 (8.2%)\n",
      "What is the primary word order in {language}? : 10 / 182 (5.49%)\n",
      "What is the name of the alphabet or script of {language}? : 52 / 183 (28.42%)\n",
      "What language family does {language} belong to? : 10 / 182 (5.49%)\n",
      "What region is {language} native to? : 6 / 182 (3.3%)\n",
      "What is the Ethnologue vitality status of {language}? : 183 / 183 (100.0%)\n",
      "============================================================\n",
      "Company\n",
      "Where was {company} founded? : 15 / 390 (3.85%)\n",
      "Who founded {company}? : 133 / 390 (34.1%)\n",
      "Where was the headquarter of {company}? : 24 / 390 (6.15%)\n",
      "What year was {company} founded? : 14 / 390 (3.59%)\n",
      "What industry does {company} operate in? : 3 / 390 (0.77%)\n",
      "What is the stock ticker symbol of {company} (“N/A” if not publicly traded)? : 10 / 390 (2.56%)\n",
      "What is the primary product or service of {company}? : 14 / 390 (3.59%)\n",
      "What is the stock ticker symbol of {company}? (\"N/A\" if not publicly traded) : 2 / 390 (0.51%)\n",
      "============================================================\n",
      "Non-profit Organization\n",
      "Where was {non_profit_organization} founded? : 15 / 208 (7.21%)\n",
      "Where was the headquarter of {non_profit_organization}? : 61 / 208 (29.33%)\n",
      "What year was {non_profit_organization} founded? : 3 / 208 (1.44%)\n",
      "What was the primary mission of {non_profit_organization}? : 28 / 208 (13.46%)\n",
      "============================================================\n",
      "University\n",
      "What is the location of {university}? : 1 / 160 (0.62%)\n",
      "When is the founding time of {university}? : 5 / 160 (3.12%)\n",
      "What are the official color(s) of {university}? : 89 / 160 (55.62%)\n",
      "What is the mascot or symbol of {university}? : 111 / 160 (69.38%)\n",
      "What is the most well-known short name for {university}? : 15 / 160 (9.38%)\n",
      "============================================================\n",
      "Invention\n",
      "Who invented {invention}? : 266 / 358 (74.3%)\n",
      "When was {invention} created? : 232 / 358 (64.8%)\n",
      "Where was {invention} created? : 263 / 358 (73.46%)\n",
      "What is the primary function of {invention}? : 102 / 358 (28.49%)\n",
      "What materials are mainly used in {invention}? : 167 / 358 (46.65%)\n",
      "============================================================\n",
      "Artwork\n",
      "Who created {artwork}? : 151 / 337 (44.81%)\n",
      "When was {artwork} created? : 135 / 337 (40.06%)\n",
      "Where was {artwork} created? : 153 / 337 (45.4%)\n",
      "Where is {artwork} currently displayed? : 222 / 337 (65.88%)\n",
      "What is the main medium used in {artwork}? : 1 / 337 (0.3%)\n",
      "What is the primary subject of {artwork}? : 72 / 337 (21.36%)\n",
      "Where is {artwork} currently displayed? (\"N/A\" if lost) : 152 / 337 (45.1%)\n",
      "Is {artwork} a portrait, landscape, or abstract work? : 131 / 337 (38.87%)\n",
      "============================================================\n",
      "Film\n",
      "Who directed {film}? : 371 / 399 (92.98%)\n",
      "When is the release year of {film}? : 252 / 399 (63.16%)\n",
      "What is the genre of {film}? : 321 / 399 (80.45%)\n",
      "What language is mainly and originally used in {film}? : 176 / 399 (44.11%)\n",
      "What company produced {film}? : 322 / 399 (80.7%)\n",
      "Who played the lead role in {film}? : 372 / 399 (93.23%)\n",
      "What is the name of the main character in {film}? : 373 / 399 (93.48%)\n",
      "============================================================\n",
      "Song\n",
      "Who wrote the lyrics of {song}? : 182 / 231 (78.79%)\n",
      "Who was the main artist or band of {song}? : 146 / 231 (63.2%)\n",
      "Who composed the music of {song}? : 199 / 231 (86.15%)\n",
      "What is the genre of {song}? : 7 / 231 (3.03%)\n",
      "When is the release year of {song}? : 189 / 231 (81.82%)\n",
      "What label release {song}? : 130 / 231 (56.28%)\n",
      "What is the main language of {song}? : 21 / 231 (9.09%)\n",
      "============================================================\n",
      "Historical Event\n",
      "When did {historical_event} take place? : 7 / 335 (2.09%)\n",
      "Where did {historical_event} happen? : 15 / 335 (4.48%)\n",
      "Who was the most important leader or figure involved in {historical_event}? : 89 / 335 (26.57%)\n",
      "What triggered {historical_event}? : 33 / 335 (9.85%)\n",
      "Was {historical_event} a violent or peaceful one? : 6 / 335 (1.79%)\n",
      "What was the immediate outcome of {historical_event}? : 34 / 335 (10.15%)\n",
      "Was {historical_event} led by a government, group, or individual? : 62 / 335 (18.51%)\n",
      "What year did {historical_event} end? : 56 / 335 (16.72%)\n",
      "Which side is considered to have \"won\" {historical_event}? : 177 / 335 (52.84%)\n",
      "============================================================\n",
      "Software\n",
      "Who was the main figure behind {software}? : 170 / 423 (40.19%)\n",
      "When was {software} first released? : 162 / 423 (38.3%)\n",
      "What programming language is {software} written in? : 343 / 423 (81.09%)\n",
      "Who is the primary user base of {software}? : 225 / 423 (53.19%)\n",
      "What is the main purpose of {software} (e.g., personal, enterprise)? : 42 / 423 (9.93%)\n",
      "============================================================\n",
      "Species\n",
      "What is the social classification of {species}? : 181 / 216 (83.8%)\n",
      "What is the diet of {species}? : 15 / 216 (6.94%)\n",
      "Where is {species} primarily found? : 8 / 216 (3.7%)\n",
      "What is the common name of {species}? : 6 / 216 (2.78%)\n",
      "What type of organism is this {species}? : 2 / 216 (0.93%)\n",
      "What is the primary threat to this {species}? : 97 / 216 (44.91%)\n",
      "============================================================\n",
      "Author\n",
      "What year was {author} born? : 4 / 212 (1.89%)\n",
      "What is the nationality of {author}? : 8 / 424 (1.89%)\n",
      "What country was {author} born? : 4 / 212 (1.89%)\n",
      "What is the most famous book written by {author}? : 12 / 212 (5.66%)\n",
      "What year did {author} die? : 68 / 212 (32.08%)\n",
      "What country is {author} buried? : 88 / 212 (41.51%)\n",
      "============================================================\n",
      "Country\n",
      "What is the national flower of {country}? : 38 / 77 (49.35%)\n",
      "What is the national anthem of {country} called? : 1 / 77 (1.3%)\n",
      "What is the founding year of {country}? : 30 / 77 (38.96%)\n",
      "What legal system does {country} use? : 0 / 77 (0.0%)\n",
      "What is the date of {country}’s national day or independence day? : 6 / 77 (7.79%)\n",
      "When did {country} join the United Nations? : 3 / 77 (3.9%)\n",
      "What is the top-level internet domain for {country}? : 0 / 77 (0.0%)\n",
      "What is the calling code for {country}? : 0 / 77 (0.0%)\n",
      "What is the ISO alpha-2 code for {country}? : 0 / 77 (0.0%)\n",
      "What is the development status of {country} (e.g., developed)? : 15 / 77 (19.48%)\n",
      "============================================================\n"
     ]
    }
   ],
   "source": [
    "low_knowledge_templates_count = 0\n",
    "low_knowledge_threshold = 0.8\n",
    "print(\"'I don't know' rate\")\n",
    "for entity_type in entity_type2count.keys():\n",
    "    print(entity_type)\n",
    "    for template in entity_type2count[entity_type].keys():\n",
    "        idk = entity_type2idk[entity_type][template]\n",
    "        count = entity_type2count[entity_type][template]\n",
    "        \n",
    "        print(template, \":\", idk, \"/\", count, f\"({round(idk / count * 100, 2)}%)\")\n",
    "        if idk / count > low_knowledge_threshold:\n",
    "            low_knowledge_templates_count += 1\n",
    "    print(\"===\" * 20)"
   ]
  },
  {
   "cell_type": "code",
   "execution_count": 543,
   "id": "ec9f8fab",
   "metadata": {},
   "outputs": [
    {
     "data": {
      "text/plain": [
       "0"
      ]
     },
     "execution_count": 543,
     "metadata": {},
     "output_type": "execute_result"
    }
   ],
   "source": [
    "sum([len(str(a).strip()) == 0 for a in entity_type_name_template_answered_df_prefinal_filtered[\"answer\"].to_list()])"
   ]
  },
  {
   "cell_type": "code",
   "execution_count": 547,
   "id": "771e2b5f",
   "metadata": {},
   "outputs": [
    {
     "data": {
      "text/plain": [
       "20148"
      ]
     },
     "execution_count": 547,
     "metadata": {},
     "output_type": "execute_result"
    }
   ],
   "source": [
    "len(entity_type_name_template_answered_df_prefinal)"
   ]
  },
  {
   "cell_type": "code",
   "execution_count": null,
   "id": "299e3ce5",
   "metadata": {},
   "outputs": [],
   "source": []
  },
  {
   "cell_type": "markdown",
   "id": "534ecf7d",
   "metadata": {},
   "source": [
    "# Prepare sub_df whose answer is too long for shortening"
   ]
  },
  {
   "cell_type": "code",
   "execution_count": 550,
   "id": "015b537a",
   "metadata": {},
   "outputs": [],
   "source": [
    "long_answer_threshold = 30\n",
    "\n",
    "entity_type_name_template_answered_df_prefinal_long = entity_type_name_template_answered_df_prefinal[entity_type_name_template_answered_df_prefinal.apply(lambda row: len(str(row[\"answer\"]).strip()) > 30 , axis=1)]"
   ]
  },
  {
   "cell_type": "code",
   "execution_count": 551,
   "id": "d11216d8",
   "metadata": {},
   "outputs": [
    {
     "data": {
      "text/html": [
       "<div>\n",
       "<style scoped>\n",
       "    .dataframe tbody tr th:only-of-type {\n",
       "        vertical-align: middle;\n",
       "    }\n",
       "\n",
       "    .dataframe tbody tr th {\n",
       "        vertical-align: top;\n",
       "    }\n",
       "\n",
       "    .dataframe thead th {\n",
       "        text-align: right;\n",
       "    }\n",
       "</style>\n",
       "<table border=\"1\" class=\"dataframe\">\n",
       "  <thead>\n",
       "    <tr style=\"text-align: right;\">\n",
       "      <th></th>\n",
       "      <th>entity_type</th>\n",
       "      <th>entity_name</th>\n",
       "      <th>template</th>\n",
       "      <th>question</th>\n",
       "      <th>answer</th>\n",
       "    </tr>\n",
       "  </thead>\n",
       "  <tbody>\n",
       "    <tr>\n",
       "      <th>1</th>\n",
       "      <td>Historical Figure</td>\n",
       "      <td>Osman I</td>\n",
       "      <td>What occupation is {historical_figure} most we...</td>\n",
       "      <td>What occupation is Osman I most well-known for?</td>\n",
       "      <td>Osman I is most well-known for being a leader ...</td>\n",
       "    </tr>\n",
       "    <tr>\n",
       "      <th>11</th>\n",
       "      <td>Historical Figure</td>\n",
       "      <td>Oscar Wilde</td>\n",
       "      <td>What occupation is {historical_figure} most we...</td>\n",
       "      <td>What occupation is Oscar Wilde most well-known...</td>\n",
       "      <td>Oscar Wilde is most well-known for being a wri...</td>\n",
       "    </tr>\n",
       "    <tr>\n",
       "      <th>12</th>\n",
       "      <td>Historical Figure</td>\n",
       "      <td>Mahatma Gandhi</td>\n",
       "      <td>What occupation is {historical_figure} most we...</td>\n",
       "      <td>What occupation is Mahatma Gandhi most well-kn...</td>\n",
       "      <td>Leader of the Indian independence movement and...</td>\n",
       "    </tr>\n",
       "    <tr>\n",
       "      <th>15</th>\n",
       "      <td>Historical Figure</td>\n",
       "      <td>Charles Dickens</td>\n",
       "      <td>What occupation is {historical_figure} most we...</td>\n",
       "      <td>What occupation is Charles Dickens most well-k...</td>\n",
       "      <td>Charles Dickens is most well-known for being a...</td>\n",
       "    </tr>\n",
       "    <tr>\n",
       "      <th>16</th>\n",
       "      <td>Historical Figure</td>\n",
       "      <td>Robespierre</td>\n",
       "      <td>What occupation is {historical_figure} most we...</td>\n",
       "      <td>What occupation is Robespierre most well-known...</td>\n",
       "      <td>Revolutionary leader and politician during the...</td>\n",
       "    </tr>\n",
       "    <tr>\n",
       "      <th>...</th>\n",
       "      <td>...</td>\n",
       "      <td>...</td>\n",
       "      <td>...</td>\n",
       "      <td>...</td>\n",
       "      <td>...</td>\n",
       "    </tr>\n",
       "    <tr>\n",
       "      <th>20143</th>\n",
       "      <td>Historical Event</td>\n",
       "      <td>Apollo 11 Mission</td>\n",
       "      <td>Which side is considered to have \"won\" {histor...</td>\n",
       "      <td>Which side is considered to have \"won\" Apollo ...</td>\n",
       "      <td>The United States is considered to have \"won\" ...</td>\n",
       "    </tr>\n",
       "    <tr>\n",
       "      <th>20144</th>\n",
       "      <td>Historical Event</td>\n",
       "      <td>End of Apartheid in South Africa</td>\n",
       "      <td>Which side is considered to have \"won\" {histor...</td>\n",
       "      <td>Which side is considered to have \"won\" End of ...</td>\n",
       "      <td>The end of apartheid in South Africa is genera...</td>\n",
       "    </tr>\n",
       "    <tr>\n",
       "      <th>20145</th>\n",
       "      <td>Historical Event</td>\n",
       "      <td>Trail of Tears</td>\n",
       "      <td>Which side is considered to have \"won\" {histor...</td>\n",
       "      <td>Which side is considered to have \"won\" Trail o...</td>\n",
       "      <td>The United States government is considered to ...</td>\n",
       "    </tr>\n",
       "    <tr>\n",
       "      <th>20146</th>\n",
       "      <td>Historical Event</td>\n",
       "      <td>Greek War of Independence</td>\n",
       "      <td>Which side is considered to have \"won\" {histor...</td>\n",
       "      <td>Which side is considered to have \"won\" Greek W...</td>\n",
       "      <td>The Greeks are considered to have \"won\" the Gr...</td>\n",
       "    </tr>\n",
       "    <tr>\n",
       "      <th>20147</th>\n",
       "      <td>Historical Event</td>\n",
       "      <td>Construction of the Panama Canal</td>\n",
       "      <td>Which side is considered to have \"won\" {histor...</td>\n",
       "      <td>Which side is considered to have \"won\" Constru...</td>\n",
       "      <td>The United States is considered to have \"won\" ...</td>\n",
       "    </tr>\n",
       "  </tbody>\n",
       "</table>\n",
       "<p>4761 rows × 5 columns</p>\n",
       "</div>"
      ],
      "text/plain": [
       "             entity_type                       entity_name  \\\n",
       "1      Historical Figure                           Osman I   \n",
       "11     Historical Figure                       Oscar Wilde   \n",
       "12     Historical Figure                    Mahatma Gandhi   \n",
       "15     Historical Figure                   Charles Dickens   \n",
       "16     Historical Figure                       Robespierre   \n",
       "...                  ...                               ...   \n",
       "20143   Historical Event                 Apollo 11 Mission   \n",
       "20144   Historical Event  End of Apartheid in South Africa   \n",
       "20145   Historical Event                    Trail of Tears   \n",
       "20146   Historical Event         Greek War of Independence   \n",
       "20147   Historical Event  Construction of the Panama Canal   \n",
       "\n",
       "                                                template  \\\n",
       "1      What occupation is {historical_figure} most we...   \n",
       "11     What occupation is {historical_figure} most we...   \n",
       "12     What occupation is {historical_figure} most we...   \n",
       "15     What occupation is {historical_figure} most we...   \n",
       "16     What occupation is {historical_figure} most we...   \n",
       "...                                                  ...   \n",
       "20143  Which side is considered to have \"won\" {histor...   \n",
       "20144  Which side is considered to have \"won\" {histor...   \n",
       "20145  Which side is considered to have \"won\" {histor...   \n",
       "20146  Which side is considered to have \"won\" {histor...   \n",
       "20147  Which side is considered to have \"won\" {histor...   \n",
       "\n",
       "                                                question  \\\n",
       "1        What occupation is Osman I most well-known for?   \n",
       "11     What occupation is Oscar Wilde most well-known...   \n",
       "12     What occupation is Mahatma Gandhi most well-kn...   \n",
       "15     What occupation is Charles Dickens most well-k...   \n",
       "16     What occupation is Robespierre most well-known...   \n",
       "...                                                  ...   \n",
       "20143  Which side is considered to have \"won\" Apollo ...   \n",
       "20144  Which side is considered to have \"won\" End of ...   \n",
       "20145  Which side is considered to have \"won\" Trail o...   \n",
       "20146  Which side is considered to have \"won\" Greek W...   \n",
       "20147  Which side is considered to have \"won\" Constru...   \n",
       "\n",
       "                                                  answer  \n",
       "1      Osman I is most well-known for being a leader ...  \n",
       "11     Oscar Wilde is most well-known for being a wri...  \n",
       "12     Leader of the Indian independence movement and...  \n",
       "15     Charles Dickens is most well-known for being a...  \n",
       "16     Revolutionary leader and politician during the...  \n",
       "...                                                  ...  \n",
       "20143  The United States is considered to have \"won\" ...  \n",
       "20144  The end of apartheid in South Africa is genera...  \n",
       "20145  The United States government is considered to ...  \n",
       "20146  The Greeks are considered to have \"won\" the Gr...  \n",
       "20147  The United States is considered to have \"won\" ...  \n",
       "\n",
       "[4761 rows x 5 columns]"
      ]
     },
     "execution_count": 551,
     "metadata": {},
     "output_type": "execute_result"
    }
   ],
   "source": [
    "entity_type_name_template_answered_df_prefinal_long"
   ]
  },
  {
   "cell_type": "code",
   "execution_count": 553,
   "id": "2194368e",
   "metadata": {},
   "outputs": [],
   "source": [
    "# entity_type_name_template_answered_df_prefinal_long.to_csv(f\"{vars.DATA_DIR}/debug_meta_train/syn_data_neurips/data_gen/entity_type_name_template_v2_answered_prefinal_long.csv\", index=False)"
   ]
  },
  {
   "cell_type": "markdown",
   "id": "1e92c841",
   "metadata": {},
   "source": [
    "### (call llm to shorten)"
   ]
  },
  {
   "cell_type": "code",
   "execution_count": 554,
   "id": "6631ac71",
   "metadata": {},
   "outputs": [],
   "source": [
    "entity_type_name_template_answered_ds_filtered_long_shortened = datasets.load_from_disk(\"/u/zliu/datastor1/KE-by-CP/data/debug_meta_train/syn_data_neurips/data_gen/entity_type_name_template_v2_answered_prefinal_long_shortened.hf\")"
   ]
  },
  {
   "cell_type": "code",
   "execution_count": 555,
   "id": "87bab47b",
   "metadata": {},
   "outputs": [],
   "source": [
    "entity_type_name_template_answered_df_filtered_long_shortened = entity_type_name_template_answered_ds_filtered_long_shortened.to_pandas()"
   ]
  },
  {
   "cell_type": "code",
   "execution_count": 556,
   "id": "6d203b3e",
   "metadata": {},
   "outputs": [],
   "source": [
    "# [a for a in entity_type_name_template_answered_df_filtered_long_shortened[\"shortened_answer\"].to_list() if len(str(a)) > 30]"
   ]
  },
  {
   "cell_type": "code",
   "execution_count": 563,
   "id": "f1f8ddc4",
   "metadata": {},
   "outputs": [],
   "source": [
    "entity_type_name_template_answered_df_filtered_fixed_content = []\n",
    "\n",
    "\n",
    "# for i, r in entity_type_name_template_answered_df_filtered_long_shortened.iterrows():\n",
    "#     r_with_shortened_answer = entity_type_name_template_answered_df_filtered[entity_type_name_template_answered_df_filtered[\"question\"] == r[\"question\"]]\n",
    "#     assert len(r_with_shortened_answer) == 1, r\n",
    "\n",
    "for i, r in entity_type_name_template_answered_df_prefinal.iterrows():\n",
    "    r_with_shortened_answer = entity_type_name_template_answered_df_filtered_long_shortened[entity_type_name_template_answered_df_filtered_long_shortened[\"question\"] == r[\"question\"]]\n",
    "    \n",
    "    if len(r_with_shortened_answer) == 0:\n",
    "        if r[\"answer\"].endswith(\".\"):\n",
    "            r[\"answer\"] = r[\"answer\"][:-1]\n",
    "        entity_type_name_template_answered_df_filtered_fixed_content.append(r)\n",
    "        continue\n",
    "    assert len(r_with_shortened_answer) == 1, r\n",
    "    new_r = deepcopy(r)\n",
    "    new_r[\"answer\"] = r_with_shortened_answer.iloc[0][\"shortened_answer\"]\n",
    "    if new_r[\"answer\"].endswith(\".\"):\n",
    "        new_r[\"answer\"] = new_r[\"answer\"][:-1]\n",
    "    entity_type_name_template_answered_df_filtered_fixed_content.append(new_r)\n",
    "entity_type_name_template_answered_df_filtered_shorten = pd.DataFrame(entity_type_name_template_answered_df_filtered_fixed_content)"
   ]
  },
  {
   "cell_type": "code",
   "execution_count": 566,
   "id": "fad398cb",
   "metadata": {},
   "outputs": [],
   "source": [
    "# entity_type_name_template_answered_ds_filtered_long_shortened[entity_type_name_template_answered_df_filtered_long_shortened[\"question\"] == r[\"question\"]]"
   ]
  },
  {
   "cell_type": "code",
   "execution_count": 254,
   "id": "9b198db5",
   "metadata": {},
   "outputs": [
    {
     "data": {
      "text/plain": [
       "19944"
      ]
     },
     "execution_count": 254,
     "metadata": {},
     "output_type": "execute_result"
    }
   ],
   "source": [
    "len(entity_type_name_template_answered_df_filtered_shorten) # == len(entity_type_name_template_answered_df_filtered)"
   ]
  },
  {
   "cell_type": "code",
   "execution_count": 568,
   "id": "0e41311f",
   "metadata": {},
   "outputs": [],
   "source": [
    "# # change answer in generation files from model and see if llm_acc change\n",
    "# eos_sft_df = pd.read_excel(\"/datastor1/zliu/mend/debug_exp_output/llama3.2-1B-eos-sft-template-format-v2-lr2e-6-sample-10/syn_data_neurips_prefilter_v2/base_n=19945_prompt=no_w-gen_wo-icl_ice=False.xlsx\")\n"
   ]
  },
  {
   "cell_type": "code",
   "execution_count": 569,
   "id": "e9f69ff2",
   "metadata": {},
   "outputs": [],
   "source": [
    "# assert all([q1==q2 for q1, q2 in zip(entity_type_name_template_answered_df_filtered_shorten[\"question\"].to_list(), eos_sft_df[\"question\"].to_list())])"
   ]
  },
  {
   "cell_type": "code",
   "execution_count": 570,
   "id": "332593a6",
   "metadata": {},
   "outputs": [],
   "source": [
    "# new_eos_sft_df = []\n",
    "# for i in range(len(entity_type_name_template_answered_df_filtered_shorten)):\n",
    "#     shortend_r = entity_type_name_template_answered_df_filtered_shorten.iloc[i]\n",
    "#     eos_sft_r = eos_sft_df.iloc[i]\n",
    "#     assert shortend_r[\"question\"] == eos_sft_r[\"question\"]\n",
    "#     new_eos_sft_r = deepcopy(eos_sft_r)\n",
    "#     new_eos_sft_r[\"answer\"] = shortend_r[\"answer\"]\n",
    "#     new_eos_sft_df.append(new_eos_sft_r)\n",
    "# new_eos_sft_df = pd.DataFrame(new_eos_sft_df)"
   ]
  },
  {
   "cell_type": "code",
   "execution_count": 572,
   "id": "d95eadfd",
   "metadata": {},
   "outputs": [],
   "source": [
    "# new_eos_sft_df.drop(columns=[\"llm_accuracy\"], inplace=True)"
   ]
  },
  {
   "cell_type": "code",
   "execution_count": null,
   "id": "fc4c85f3",
   "metadata": {},
   "outputs": [],
   "source": []
  },
  {
   "cell_type": "code",
   "execution_count": null,
   "id": "39e81991",
   "metadata": {},
   "outputs": [],
   "source": [
    "# new_eos_sft_df.to_excel(\"/datastor1/zliu/mend/debug_exp_output/llama3.2-1B-eos-sft-template-format-v2-lr2e-6-sample-10/syn_data_neurips_prefilter_v2/base_n=19945_prompt=no_w-gen_wo-icl_ice=False.xlsx\", index=False)"
   ]
  },
  {
   "cell_type": "code",
   "execution_count": 584,
   "id": "f4b269d1",
   "metadata": {},
   "outputs": [
    {
     "data": {
      "text/plain": [
       "20148"
      ]
     },
     "execution_count": 584,
     "metadata": {},
     "output_type": "execute_result"
    }
   ],
   "source": [
    "len(entity_type_name_template_answered_df_filtered_shorten)"
   ]
  },
  {
   "cell_type": "code",
   "execution_count": null,
   "id": "56b6e01c",
   "metadata": {},
   "outputs": [],
   "source": [
    "entity_type_name_template_answered_df_filtered_shorten"
   ]
  },
  {
   "cell_type": "code",
   "execution_count": null,
   "id": "f90c70b0",
   "metadata": {},
   "outputs": [],
   "source": [
    "\n",
    "# io.dump_jsonlines(entity_type_name_template_answered_df_filtered_shorten.to_dict(\"records\"), f\"{vars.DATA_DIR}/debug_meta_train/syn_data_neurips/data_gen/entity_type_name_template_v2_answered_prefinal_prefiltered_shortened.jsonl\",)"
   ]
  },
  {
   "cell_type": "markdown",
   "id": "00afe2f1",
   "metadata": {},
   "source": [
    "# Prepare a light-weight data for format alignment"
   ]
  },
  {
   "cell_type": "code",
   "execution_count": 582,
   "id": "417224cc",
   "metadata": {},
   "outputs": [
    {
     "data": {
      "text/plain": [
       "1110"
      ]
     },
     "execution_count": 582,
     "metadata": {},
     "output_type": "execute_result"
    }
   ],
   "source": [
    "sample_size = 10\n",
    "light_weight_sft_content = []\n",
    "for template, template_df in entity_type_name_template_answered_df_filtered_shorten.groupby(\"template\"):\n",
    "    light_weight_sft_content.extend(template_df.sample(sample_size).to_dict(orient=\"records\"))\n",
    "len(light_weight_sft_content)"
   ]
  },
  {
   "cell_type": "code",
   "execution_count": null,
   "id": "3a532028",
   "metadata": {},
   "outputs": [],
   "source": [
    "# io.dump_jsonlines(light_weight_sft_content, f\"{vars.DATA_DIR}/debug_meta_train/syn_data_neurips/model_prep/light_weight_sft_content_v3_sample={sample_size}.jsonl\",)"
   ]
  },
  {
   "cell_type": "code",
   "execution_count": 580,
   "id": "6c6fe875",
   "metadata": {},
   "outputs": [],
   "source": [
    "# len(entity_type_name_template_answered_df_filtered_shorten.iloc[20145][\"answer\"])"
   ]
  },
  {
   "cell_type": "code",
   "execution_count": null,
   "id": "11490345",
   "metadata": {},
   "outputs": [],
   "source": []
  },
  {
   "cell_type": "markdown",
   "id": "ec79cfa2",
   "metadata": {},
   "source": [
    "# measure llama3.2-1B-base model performance"
   ]
  },
  {
   "cell_type": "code",
   "execution_count": 585,
   "id": "5522fe01",
   "metadata": {},
   "outputs": [],
   "source": [
    "# eos_sft_df = pd.read_excel(\"/u/zliu/datastor1/mend/debug_exp_output/llama3.2-1B-eos-sft/syn_data_neurips_prefilter/base_n=17461_prompt=no_w-gen_wo-icl_ice=False.xlsx\")\n",
    "# eos_sft_df = pd.read_excel(\"/datastor1/zliu/mend/debug_exp_output/llama3.2-1B-eos-sft-template-format-lr2e-6-sample-5/syn_data_neurips_prefilter/base_n=17461_prompt=no_w-gen_wo-icl_ice=False.xlsx\")\n",
    "# eos_sft_df = pd.read_excel(\"/datastor1/zliu/mend/debug_exp_output/llama3.2-1B-eos-sft-template-format-lr2e-6-sample-10/syn_data_neurips_prefilter/base_n=17461_prompt=no_w-gen_wo-icl_ice=False.xlsx\")\n",
    "eos_sft_df = pd.read_excel(\"/datastor1/zliu/mend/debug_exp_output/llama3.2-1B-eos-sft-template-format-v3-lr2e-6-sample-10/syn_data_neurips_prefilter_v3/base_n=20148_prompt=no_w-gen_wo-icl_ice=False.xlsx\")"
   ]
  },
  {
   "cell_type": "code",
   "execution_count": 586,
   "id": "c9fd8307",
   "metadata": {},
   "outputs": [],
   "source": [
    "# pd.read_excel(\"/datastor1/zliu/mend/debug_exp_output/llama3.2-1B-eos-sft-template-format-v2-lr2e-6-sample-10/syn_data_neurips_prefilter_v2/base_n=19945_prompt=no_w-gen_wo-icl_ice=False.xlsx.bak\").describe()"
   ]
  },
  {
   "cell_type": "code",
   "execution_count": 587,
   "id": "438fb569",
   "metadata": {},
   "outputs": [],
   "source": [
    "llm_threshold = 0.4"
   ]
  },
  {
   "cell_type": "code",
   "execution_count": 589,
   "id": "5a46a781",
   "metadata": {},
   "outputs": [
    {
     "data": {
      "text/html": [
       "<div>\n",
       "<style scoped>\n",
       "    .dataframe tbody tr th:only-of-type {\n",
       "        vertical-align: middle;\n",
       "    }\n",
       "\n",
       "    .dataframe tbody tr th {\n",
       "        vertical-align: top;\n",
       "    }\n",
       "\n",
       "    .dataframe thead th {\n",
       "        text-align: right;\n",
       "    }\n",
       "</style>\n",
       "<table border=\"1\" class=\"dataframe\">\n",
       "  <thead>\n",
       "    <tr style=\"text-align: right;\">\n",
       "      <th></th>\n",
       "      <th>id</th>\n",
       "      <th>predicted_answer_idx</th>\n",
       "      <th>exact_match</th>\n",
       "      <th>llm_accuracy</th>\n",
       "    </tr>\n",
       "  </thead>\n",
       "  <tbody>\n",
       "    <tr>\n",
       "      <th>count</th>\n",
       "      <td>20148.000000</td>\n",
       "      <td>20148.0</td>\n",
       "      <td>20148.000000</td>\n",
       "      <td>20148.000000</td>\n",
       "    </tr>\n",
       "    <tr>\n",
       "      <th>mean</th>\n",
       "      <td>10073.500000</td>\n",
       "      <td>0.0</td>\n",
       "      <td>0.410363</td>\n",
       "      <td>0.639319</td>\n",
       "    </tr>\n",
       "    <tr>\n",
       "      <th>std</th>\n",
       "      <td>5816.370948</td>\n",
       "      <td>0.0</td>\n",
       "      <td>0.491912</td>\n",
       "      <td>0.422889</td>\n",
       "    </tr>\n",
       "    <tr>\n",
       "      <th>min</th>\n",
       "      <td>0.000000</td>\n",
       "      <td>0.0</td>\n",
       "      <td>0.000000</td>\n",
       "      <td>0.000000</td>\n",
       "    </tr>\n",
       "    <tr>\n",
       "      <th>25%</th>\n",
       "      <td>5036.750000</td>\n",
       "      <td>0.0</td>\n",
       "      <td>0.000000</td>\n",
       "      <td>0.300000</td>\n",
       "    </tr>\n",
       "    <tr>\n",
       "      <th>50%</th>\n",
       "      <td>10073.500000</td>\n",
       "      <td>0.0</td>\n",
       "      <td>0.000000</td>\n",
       "      <td>1.000000</td>\n",
       "    </tr>\n",
       "    <tr>\n",
       "      <th>75%</th>\n",
       "      <td>15110.250000</td>\n",
       "      <td>0.0</td>\n",
       "      <td>1.000000</td>\n",
       "      <td>1.000000</td>\n",
       "    </tr>\n",
       "    <tr>\n",
       "      <th>max</th>\n",
       "      <td>20147.000000</td>\n",
       "      <td>0.0</td>\n",
       "      <td>1.000000</td>\n",
       "      <td>1.000000</td>\n",
       "    </tr>\n",
       "  </tbody>\n",
       "</table>\n",
       "</div>"
      ],
      "text/plain": [
       "                 id  predicted_answer_idx   exact_match  llm_accuracy\n",
       "count  20148.000000               20148.0  20148.000000  20148.000000\n",
       "mean   10073.500000                   0.0      0.410363      0.639319\n",
       "std     5816.370948                   0.0      0.491912      0.422889\n",
       "min        0.000000                   0.0      0.000000      0.000000\n",
       "25%     5036.750000                   0.0      0.000000      0.300000\n",
       "50%    10073.500000                   0.0      0.000000      1.000000\n",
       "75%    15110.250000                   0.0      1.000000      1.000000\n",
       "max    20147.000000                   0.0      1.000000      1.000000"
      ]
     },
     "execution_count": 589,
     "metadata": {},
     "output_type": "execute_result"
    }
   ],
   "source": [
    "eos_sft_df.describe()"
   ]
  },
  {
   "cell_type": "code",
   "execution_count": 590,
   "id": "2d3ec0fe",
   "metadata": {},
   "outputs": [
    {
     "data": {
      "text/plain": [
       "12963"
      ]
     },
     "execution_count": 590,
     "metadata": {},
     "output_type": "execute_result"
    }
   ],
   "source": [
    "len(eos_sft_df[eos_sft_df[\"llm_accuracy\"] > llm_threshold])"
   ]
  },
  {
   "cell_type": "code",
   "execution_count": 591,
   "id": "72744f64",
   "metadata": {},
   "outputs": [],
   "source": [
    "eos_sft_df_filtered = eos_sft_df[eos_sft_df[\"llm_accuracy\"] > llm_threshold]"
   ]
  },
  {
   "cell_type": "code",
   "execution_count": 592,
   "id": "fa8f8e17",
   "metadata": {},
   "outputs": [],
   "source": [
    "# Counter(eos_sft_df[eos_sft_df[\"template\"] == \"Where was {invention} created?\"][\"answer\"])"
   ]
  },
  {
   "cell_type": "code",
   "execution_count": 593,
   "id": "7daecb3f",
   "metadata": {},
   "outputs": [
    {
     "data": {
      "text/html": [
       "<div>\n",
       "<style scoped>\n",
       "    .dataframe tbody tr th:only-of-type {\n",
       "        vertical-align: middle;\n",
       "    }\n",
       "\n",
       "    .dataframe tbody tr th {\n",
       "        vertical-align: top;\n",
       "    }\n",
       "\n",
       "    .dataframe thead th {\n",
       "        text-align: right;\n",
       "    }\n",
       "</style>\n",
       "<table border=\"1\" class=\"dataframe\">\n",
       "  <thead>\n",
       "    <tr style=\"text-align: right;\">\n",
       "      <th></th>\n",
       "      <th>id</th>\n",
       "      <th>predicted_answer_idx</th>\n",
       "      <th>exact_match</th>\n",
       "      <th>llm_accuracy</th>\n",
       "    </tr>\n",
       "  </thead>\n",
       "  <tbody>\n",
       "    <tr>\n",
       "      <th>count</th>\n",
       "      <td>12963.000000</td>\n",
       "      <td>12963.0</td>\n",
       "      <td>12963.000000</td>\n",
       "      <td>12963.000000</td>\n",
       "    </tr>\n",
       "    <tr>\n",
       "      <th>mean</th>\n",
       "      <td>9673.815089</td>\n",
       "      <td>0.0</td>\n",
       "      <td>0.637738</td>\n",
       "      <td>0.936666</td>\n",
       "    </tr>\n",
       "    <tr>\n",
       "      <th>std</th>\n",
       "      <td>5857.295934</td>\n",
       "      <td>0.0</td>\n",
       "      <td>0.480672</td>\n",
       "      <td>0.137028</td>\n",
       "    </tr>\n",
       "    <tr>\n",
       "      <th>min</th>\n",
       "      <td>0.000000</td>\n",
       "      <td>0.0</td>\n",
       "      <td>0.000000</td>\n",
       "      <td>0.500000</td>\n",
       "    </tr>\n",
       "    <tr>\n",
       "      <th>25%</th>\n",
       "      <td>4501.500000</td>\n",
       "      <td>0.0</td>\n",
       "      <td>0.000000</td>\n",
       "      <td>1.000000</td>\n",
       "    </tr>\n",
       "    <tr>\n",
       "      <th>50%</th>\n",
       "      <td>9578.000000</td>\n",
       "      <td>0.0</td>\n",
       "      <td>1.000000</td>\n",
       "      <td>1.000000</td>\n",
       "    </tr>\n",
       "    <tr>\n",
       "      <th>75%</th>\n",
       "      <td>15014.500000</td>\n",
       "      <td>0.0</td>\n",
       "      <td>1.000000</td>\n",
       "      <td>1.000000</td>\n",
       "    </tr>\n",
       "    <tr>\n",
       "      <th>max</th>\n",
       "      <td>20147.000000</td>\n",
       "      <td>0.0</td>\n",
       "      <td>1.000000</td>\n",
       "      <td>1.000000</td>\n",
       "    </tr>\n",
       "  </tbody>\n",
       "</table>\n",
       "</div>"
      ],
      "text/plain": [
       "                 id  predicted_answer_idx   exact_match  llm_accuracy\n",
       "count  12963.000000               12963.0  12963.000000  12963.000000\n",
       "mean    9673.815089                   0.0      0.637738      0.936666\n",
       "std     5857.295934                   0.0      0.480672      0.137028\n",
       "min        0.000000                   0.0      0.000000      0.500000\n",
       "25%     4501.500000                   0.0      0.000000      1.000000\n",
       "50%     9578.000000                   0.0      1.000000      1.000000\n",
       "75%    15014.500000                   0.0      1.000000      1.000000\n",
       "max    20147.000000                   0.0      1.000000      1.000000"
      ]
     },
     "execution_count": 593,
     "metadata": {},
     "output_type": "execute_result"
    }
   ],
   "source": [
    "eos_sft_df_filtered.describe()"
   ]
  },
  {
   "cell_type": "code",
   "execution_count": 594,
   "id": "1833018a",
   "metadata": {},
   "outputs": [
    {
     "data": {
      "text/plain": [
       "Text(0.5, 1.0, 'LLM Accuracy Distribution (without filtering)')"
      ]
     },
     "execution_count": 594,
     "metadata": {},
     "output_type": "execute_result"
    },
    {
     "data": {
      "image/png": "[encoded data removed]",
      "text/plain": [
       "<Figure size 640x480 with 1 Axes>"
      ]
     },
     "metadata": {},
     "output_type": "display_data"
    }
   ],
   "source": [
    "plt.hist(eos_sft_df[\"llm_accuracy\"])\n",
    "plt.xlabel(\"LLM Accuracy\")\n",
    "plt.ylabel(\"# question\")\n",
    "plt.title(\"LLM Accuracy Distribution (without filtering)\")"
   ]
  },
  {
   "cell_type": "code",
   "execution_count": 603,
   "id": "9477cecd",
   "metadata": {},
   "outputs": [
    {
     "data": {
      "text/plain": [
       "20148"
      ]
     },
     "execution_count": 603,
     "metadata": {},
     "output_type": "execute_result"
    }
   ],
   "source": [
    "len(eos_sft_df[\"answer\"].to_list())"
   ]
  },
  {
   "cell_type": "code",
   "execution_count": null,
   "id": "06e42394",
   "metadata": {},
   "outputs": [
    {
     "data": {
      "text/plain": [
       "1797"
      ]
     },
     "execution_count": 617,
     "metadata": {},
     "output_type": "execute_result"
    }
   ],
   "source": [
    "len([a for a in eos_sft_df_filtered[\"answer\"].to_list() if len(str(a)) > 30])"
   ]
  },
  {
   "cell_type": "code",
   "execution_count": null,
   "id": "4900cfd8",
   "metadata": {},
   "outputs": [],
   "source": []
  },
  {
   "cell_type": "code",
   "execution_count": 621,
   "id": "1a773b73",
   "metadata": {},
   "outputs": [
    {
     "data": {
      "text/plain": [
       "Counter({'What is the primary function of {invention}?': 188,\n",
       "         'What was the primary mission of {non_profit_organization}?': 165,\n",
       "         'What was the immediate outcome of {historical_event}?': 149,\n",
       "         'What is the primary product or service of {company}?': 136,\n",
       "         'Who is the primary user base of {software}?': 132,\n",
       "         'What triggered {historical_event}?': 101,\n",
       "         'What is the diet of {species}?': 98,\n",
       "         'What materials are mainly used in {invention}?': 85,\n",
       "         'What is the primary threat to this {species}?': 65,\n",
       "         'Was {historical_event} a violent or peaceful one?': 62,\n",
       "         'What is the primary subject of {artwork}?': 55,\n",
       "         'What industry does {company} operate in?': 52,\n",
       "         'Where did {historical_event} happen?': 50,\n",
       "         'Where is {species} primarily found?': 47,\n",
       "         'Who founded {company}?': 41,\n",
       "         'What region is {language} native to?': 34,\n",
       "         'What genre does {book} belong to?': 30,\n",
       "         'What is the location of {university}?': 27,\n",
       "         'Where was the headquarter of {company}?': 25,\n",
       "         'Which side is considered to have \"won\" {historical_event}?': 25,\n",
       "         'What is the main purpose of {software} (e.g., personal, enterprise)?': 23,\n",
       "         'What legal system does {country} use?': 22,\n",
       "         'Was {historical_event} led by a government, group, or individual?': 17,\n",
       "         'What occupation is {historical_figure} most well-known for?': 16,\n",
       "         'What is the genre of {song}?': 12,\n",
       "         'What is the most famous book written by {author}?': 11,\n",
       "         'When did {historical_event} take place?': 10,\n",
       "         'What is the genre of {film}?': 8,\n",
       "         'Who wrote the lyrics of {song}?': 8,\n",
       "         'Where was the birthplace of {historical_figure}?': 7,\n",
       "         'What is the religion of {historical_figure}?': 7,\n",
       "         'Where is {artwork} currently displayed?': 7,\n",
       "         'Where was the headquarter of {non_profit_organization}?': 6,\n",
       "         'Who invented {invention}?': 6,\n",
       "         'Where did {historical_figure} die?': 5,\n",
       "         'Where was {company} founded?': 5,\n",
       "         'Where was {non_profit_organization} founded?': 4,\n",
       "         'Where was {invention} created?': 4,\n",
       "         'What label release {song}?': 4,\n",
       "         'What is the company {business_figure} is most associated with?': 3,\n",
       "         'What writing system is used by {language}?': 3,\n",
       "         'Who composed the music of {song}?': 3,\n",
       "         'What is the social classification of {species}?': 3,\n",
       "         'Where is {artwork} currently displayed? (\"N/A\" if lost)': 3,\n",
       "         'What is the primary word order in {language}?': 2,\n",
       "         'What is the mascot or symbol of {university}?': 2,\n",
       "         'Who created {artwork}?': 2,\n",
       "         'Where was {artwork} created?': 2,\n",
       "         'Who directed {film}?': 2,\n",
       "         'What company produced {film}?': 2,\n",
       "         'Who was the main artist or band of {song}?': 2,\n",
       "         'Who was the most important leader or figure involved in {historical_event}?': 2,\n",
       "         'Who was the main figure behind {software}?': 2,\n",
       "         'What type of organism is this {species}?': 2,\n",
       "         'What is the national anthem of {country} called?': 2,\n",
       "         'Is {artwork} a portrait, landscape, or abstract work?': 2,\n",
       "         'What is the alma mater where {historical_figure} earned their highest degree?': 1,\n",
       "         'How many children did {historical_figure} have?': 1,\n",
       "         'What is the nationality of {business_figure}?': 1,\n",
       "         'Who is the author of {book}?': 1,\n",
       "         'What is the name of the alphabet or script of {language}?': 1,\n",
       "         'What language family does {language} belong to?': 1,\n",
       "         'When was {invention} created?': 1,\n",
       "         'What is the ISO alpha-2 code for {country}?': 1,\n",
       "         'Who was the original publisher of {book}?': 1})"
      ]
     },
     "execution_count": 621,
     "metadata": {},
     "output_type": "execute_result"
    }
   ],
   "source": [
    "Counter(eos_sft_df_filtered[eos_sft_df_filtered[\"answer\"].apply(lambda x: len(str(x)) > 30)][\"template\"])"
   ]
  },
  {
   "cell_type": "code",
   "execution_count": 605,
   "id": "8819c9b1",
   "metadata": {},
   "outputs": [],
   "source": [
    "# [a for a in eos_sft_df[\"answer\"].to_list() if len(str(a)) == 30]"
   ]
  },
  {
   "cell_type": "code",
   "execution_count": 606,
   "id": "27ce933a",
   "metadata": {},
   "outputs": [
    {
     "data": {
      "text/plain": [
       "Text(0.5, 1.0, 'Answer Length Distribution (without filtering)')"
      ]
     },
     "execution_count": 606,
     "metadata": {},
     "output_type": "execute_result"
    },
    {
     "data": {
      "image/png": "[encoded data removed]",
      "text/plain": [
       "<Figure size 640x480 with 1 Axes>"
      ]
     },
     "metadata": {},
     "output_type": "display_data"
    }
   ],
   "source": [
    "plt.hist([float(len(str(a))) for a in eos_sft_df[\"answer\"].to_list()])\n",
    "plt.xlabel(\"Answer Length\")\n",
    "plt.ylabel(\"# question\")\n",
    "plt.title(\"Answer Length Distribution (without filtering)\")"
   ]
  },
  {
   "cell_type": "code",
   "execution_count": 655,
   "id": "5198c8dd",
   "metadata": {},
   "outputs": [],
   "source": [
    "eos_entity_type2count = {}\n",
    "eos_entity_type2acc = {}\n",
    "eos_entity_type2length = {}\n",
    "\n",
    "for i, d in eos_sft_df_filtered.iterrows():\n",
    "    if d[\"entity_type\"] not in eos_entity_type2count:\n",
    "        eos_entity_type2count[d[\"entity_type\"]] = defaultdict(int)\n",
    "        eos_entity_type2acc[d[\"entity_type\"]] = defaultdict(int)\n",
    "        eos_entity_type2length[d[\"entity_type\"]] = defaultdict(int)\n",
    "        \n",
    "    eos_entity_type2count[d[\"entity_type\"]][d[\"template\"]] += 1\n",
    "    \n",
    "    eos_entity_type2acc[d[\"entity_type\"]][d[\"template\"]] += d[\"llm_accuracy\"]\n",
    "    eos_entity_type2length[d[\"entity_type\"]][d[\"template\"]] += len(str(d[\"answer\"]).strip())\n",
    "        "
   ]
  },
  {
   "cell_type": "code",
   "execution_count": 608,
   "id": "adfcfaf4",
   "metadata": {},
   "outputs": [],
   "source": [
    "bad_question_templates = [\"How many chapters are in {book}?\", \"What are the official color(s) of {university}?\", \"Where is {artwork} currently displayed?\", \"What is the stock ticker symbol of {company} (“N/A” if not publicly traded)?\", \"What is the common name of {species}?\", \"What is the national flower of {country}?\", \"Which language was originally used to write {book}?\", \"What is the social classification of {species}?\", \"When did {country} join the United Nations?\", \"What is the alma mater where {historical_figure} earned their highest degree?\"]\n",
    "bad_entity_types = [\"Business Figure\", \"Author\",]"
   ]
  },
  {
   "cell_type": "code",
   "execution_count": 609,
   "id": "cfd70840",
   "metadata": {},
   "outputs": [
    {
     "name": "stdout",
     "output_type": "stream",
     "text": [
      "Historical Figure\n",
      "What occupation is {historical_figure} most well-known for? : 0.9128342245989304 (count=187)\n",
      "What year was {historical_figure} born? : 0.9938650306748467 (count=163)\n",
      "Where was the birthplace of {historical_figure}? : 0.9653543307086616 (count=127)\n",
      "What is the nationality of {historical_figure}? : 0.9835164835164834 (count=182)\n",
      "What year did {historical_figure} pass away? : 1.0 (count=173)\n",
      "Where did {historical_figure} die? : 0.9623655913978496 (count=93)\n",
      "What is the religion of {historical_figure}? : 0.9405940594059409 (count=101)\n",
      "What language was primarily spoken by {historical_figure}? : 0.9752747252747253 (count=182)\n",
      "How many children did {historical_figure} have? : 0.95 (count=30)\n",
      "============================================================\n",
      "Book\n",
      "Who is the author of {book}? : 0.9981012658227847 (count=158)\n",
      "What genre does {book} belong to? : 0.8621761658031083 (count=193)\n",
      "What is the name of the main character of {book}? : 0.9936 (count=125)\n",
      "In which year was {book} published? : 0.9933884297520661 (count=121)\n",
      "Who was the original publisher of {book}? : 0.9852459016393443 (count=61)\n",
      "Which country was {book} first published in? : 0.9967857142857144 (count=280)\n",
      "============================================================\n",
      "Language\n",
      "What writing system is used by {language}? : 0.9805970149253732 (count=134)\n",
      "What is the ISO 639‑1 code for {language}? : 1.0 (count=111)\n",
      "What is the primary word order in {language}? : 1.0 (count=85)\n",
      "What is the name of the alphabet or script of {language}? : 0.9586538461538462 (count=104)\n",
      "What language family does {language} belong to? : 0.9808080808080808 (count=99)\n",
      "What region is {language} native to? : 0.889781021897811 (count=137)\n",
      "============================================================\n",
      "Company\n",
      "Where was {company} founded? : 0.9764192139737989 (count=229)\n",
      "Who founded {company}? : 0.8790322580645165 (count=124)\n",
      "Where was the headquarter of {company}? : 0.9788395904436856 (count=293)\n",
      "What year was {company} founded? : 0.9972677595628415 (count=183)\n",
      "What industry does {company} operate in? : 0.8749287749287727 (count=351)\n",
      "What is the primary product or service of {company}? : 0.821003134796236 (count=319)\n",
      "What is the stock ticker symbol of {company}? (\"N/A\" if not publicly traded) : 0.9920168067226891 (count=238)\n",
      "============================================================\n",
      "Non-profit Organization\n",
      "Where was {non_profit_organization} founded? : 0.9880000000000001 (count=100)\n",
      "Where was the headquarter of {non_profit_organization}? : 0.99375 (count=96)\n",
      "What year was {non_profit_organization} founded? : 1.0 (count=100)\n",
      "What was the primary mission of {non_profit_organization}? : 0.7574850299401212 (count=167)\n",
      "============================================================\n",
      "University\n",
      "What is the location of {university}? : 0.9653594771241831 (count=153)\n",
      "When is the founding time of {university}? : 0.9754716981132078 (count=106)\n",
      "What is the mascot or symbol of {university}? : 0.7833333333333332 (count=18)\n",
      "What is the most well-known short name for {university}? : 0.988888888888889 (count=108)\n",
      "============================================================\n",
      "Invention\n",
      "Who invented {invention}? : 0.9478260869565219 (count=46)\n",
      "When was {invention} created? : 0.9566666666666668 (count=60)\n",
      "Where was {invention} created? : 0.9511627906976745 (count=43)\n",
      "What is the primary function of {invention}? : 0.78780487804878 (count=205)\n",
      "What materials are mainly used in {invention}? : 0.6659793814432998 (count=97)\n",
      "============================================================\n",
      "Artwork\n",
      "Who created {artwork}? : 0.9760869565217393 (count=92)\n",
      "When was {artwork} created? : 0.890625 (count=64)\n",
      "Where was {artwork} created? : 0.9534883720930236 (count=129)\n",
      "What is the main medium used in {artwork}? : 0.9431472081218272 (count=197)\n",
      "What is the primary subject of {artwork}? : 0.8182795698924736 (count=93)\n",
      "Where is {artwork} currently displayed? (\"N/A\" if lost) : 0.9836363636363636 (count=55)\n",
      "Is {artwork} a portrait, landscape, or abstract work? : 1.0 (count=71)\n",
      "============================================================\n",
      "Film\n",
      "Who directed {film}? : 0.9874999999999999 (count=24)\n",
      "When is the release year of {film}? : 0.9944444444444445 (count=54)\n",
      "What is the genre of {film}? : 0.8650793650793654 (count=63)\n",
      "What language is mainly and originally used in {film}? : 1.0 (count=210)\n",
      "What company produced {film}? : 0.9720930232558139 (count=43)\n",
      "Who played the lead role in {film}? : 0.9874999999999999 (count=24)\n",
      "What is the name of the main character in {film}? : 0.9863636363636363 (count=22)\n",
      "============================================================\n",
      "Song\n",
      "Who wrote the lyrics of {song}? : 0.9595238095238094 (count=42)\n",
      "Who was the main artist or band of {song}? : 0.9719298245614036 (count=57)\n",
      "Who composed the music of {song}? : 0.9791666666666666 (count=24)\n",
      "What is the genre of {song}? : 0.8427083333333328 (count=192)\n",
      "When is the release year of {song}? : 1.0 (count=22)\n",
      "What label release {song}? : 0.9354838709677422 (count=62)\n",
      "What is the main language of {song}? : 1.0 (count=208)\n",
      "============================================================\n",
      "Historical Event\n",
      "When did {historical_event} take place? : 0.894117647058823 (count=272)\n",
      "Where did {historical_event} happen? : 0.9028455284552838 (count=246)\n",
      "Who was the most important leader or figure involved in {historical_event}? : 1.0 (count=148)\n",
      "What triggered {historical_event}? : 0.7722772277227731 (count=101)\n",
      "Was {historical_event} a violent or peaceful one? : 0.9859154929577465 (count=213)\n",
      "What was the immediate outcome of {historical_event}? : 0.7322147651006722 (count=149)\n",
      "Was {historical_event} led by a government, group, or individual? : 0.9834532374100718 (count=139)\n",
      "What year did {historical_event} end? : 0.9974747474747475 (count=198)\n",
      "Which side is considered to have \"won\" {historical_event}? : 0.9489583333333335 (count=96)\n",
      "============================================================\n",
      "Software\n",
      "Who was the main figure behind {software}? : 0.9848214285714286 (count=112)\n",
      "When was {software} first released? : 0.8500000000000004 (count=86)\n",
      "What programming language is {software} written in? : 0.9689655172413794 (count=58)\n",
      "Who is the primary user base of {software}? : 0.745161290322582 (count=155)\n",
      "What is the main purpose of {software} (e.g., personal, enterprise)? : 0.6520325203252041 (count=123)\n",
      "============================================================\n",
      "Species\n",
      "What is the diet of {species}? : 0.6155172413793109 (count=116)\n",
      "Where is {species} primarily found? : 0.7644444444444451 (count=90)\n",
      "What type of organism is this {species}? : 0.8865921787709492 (count=179)\n",
      "What is the primary threat to this {species}? : 0.878350515463918 (count=97)\n",
      "============================================================\n",
      "Country\n",
      "What is the national anthem of {country} called? : 0.9258064516129031 (count=31)\n",
      "What is the founding year of {country}? : 1.0 (count=36)\n",
      "What legal system does {country} use? : 0.9208333333333334 (count=48)\n",
      "What is the date of {country}’s national day or independence day? : 1.0 (count=36)\n",
      "What is the top-level internet domain for {country}? : 1.0 (count=73)\n",
      "What is the calling code for {country}? : 1.0 (count=74)\n",
      "What is the ISO alpha-2 code for {country}? : 1.0 (count=76)\n",
      "What is the development status of {country} (e.g., developed)? : 1.0 (count=60)\n",
      "============================================================\n"
     ]
    }
   ],
   "source": [
    "counts = []\n",
    "spotcheck_df_content = []\n",
    "count_threshold = 0\n",
    "entity_type2template_count = defaultdict(int)\n",
    "\n",
    "for entity_type in eos_entity_type2count.keys():\n",
    "    if entity_type in bad_entity_types:\n",
    "        continue\n",
    "    print(entity_type)\n",
    "    for template in eos_entity_type2count[entity_type].keys():\n",
    "        if template in bad_question_templates:\n",
    "            continue\n",
    "    \n",
    "        acc_sum = eos_entity_type2acc[entity_type][template]\n",
    "        count = eos_entity_type2count[entity_type][template]\n",
    "        counts.append(count)\n",
    "        \n",
    "        acc = acc_sum / count\n",
    "        spotcheck_df_content.append({\n",
    "            \"entity_type\": entity_type,\n",
    "            \"template\": template,\n",
    "            \"count\": count,\n",
    "            \"accuracy\": acc,\n",
    "        })\n",
    "        if count > count_threshold:\n",
    "            entity_type2template_count[entity_type] += 1\n",
    "            print(template, \":\", acc, f\"(count={count})\")\n",
    "    print(\"===\" * 20)"
   ]
  },
  {
   "cell_type": "code",
   "execution_count": null,
   "id": "679752d0",
   "metadata": {},
   "outputs": [],
   "source": [
    "eos_sft_df_filtered_entity_template = eos_sft_df_filtered[~eos_sft_df_filtered[\"template\"].isin(bad_question_templates) & ~eos_sft_df_filtered[\"entity_type\"].isin(bad_entity_types)]"
   ]
  },
  {
   "cell_type": "code",
   "execution_count": null,
   "id": "3e44ab37",
   "metadata": {},
   "outputs": [
    {
     "data": {
      "text/plain": [
       "10642"
      ]
     },
     "execution_count": 632,
     "metadata": {},
     "output_type": "execute_result"
    }
   ],
   "source": [
    "len(eos_sft_df_filtered_entity_template)\n",
    "# [a for a in eos_sft_df_filtered_entity_template[\"answer\"].to_list() if len(str(a)) > 50]"
   ]
  },
  {
   "cell_type": "code",
   "execution_count": 633,
   "id": "38478286",
   "metadata": {},
   "outputs": [
    {
     "data": {
      "text/plain": [
       "array(['Historical Figure', 'Book', 'Language', 'Company',\n",
       "       'Non-profit Organization', 'University', 'Invention', 'Artwork',\n",
       "       'Film', 'Song', 'Historical Event', 'Software', 'Species',\n",
       "       'Country'], dtype=object)"
      ]
     },
     "execution_count": 633,
     "metadata": {},
     "output_type": "execute_result"
    }
   ],
   "source": [
    "eos_sft_df_filtered_entity_template[\"entity_type\"].unique()"
   ]
  },
  {
   "cell_type": "code",
   "execution_count": 635,
   "id": "bd4650cf",
   "metadata": {},
   "outputs": [
    {
     "data": {
      "text/plain": [
       "88"
      ]
     },
     "execution_count": 635,
     "metadata": {},
     "output_type": "execute_result"
    }
   ],
   "source": [
    "len(eos_sft_df_filtered_entity_template[\"template\"].unique())"
   ]
  },
  {
   "cell_type": "code",
   "execution_count": 10,
   "id": "25acd90b",
   "metadata": {},
   "outputs": [
    {
     "data": {
      "text/plain": [
       "40"
      ]
     },
     "execution_count": 10,
     "metadata": {},
     "output_type": "execute_result"
    }
   ],
   "source": [
    "artworks = [\n",
    "    \"Mona Lisa\",\n",
    "    \"The Starry Night\",\n",
    "    \"The Persistence of Memory\",\n",
    "    \"Girl with a Pearl Earring\",\n",
    "    \"The Last Supper\",\n",
    "    \"Guernica\",\n",
    "    \"The Scream\",\n",
    "    \"American Gothic\",\n",
    "    \"The Night Watch\",\n",
    "    \"The Birth of Venus\",\n",
    "    \"The Kiss\",\n",
    "    \"The Arnolfini Portrait\",\n",
    "    \"Liberty Leading the People\",\n",
    "    \"The Garden of Earthly Delights\",\n",
    "    \"Las Meninas\",\n",
    "    \"Whistler's Mother\",\n",
    "    \"Impression, Sunrise\",\n",
    "    \"Nighthawks\",\n",
    "    \"The Great Wave off Kanagawa\",\n",
    "    \"A Sunday Afternoon on the Island of La Grande Jatte\"\n",
    "] + [\n",
    "    \"The Thinker\",\n",
    "    \"David\",\n",
    "    \"Venus de Milo\",\n",
    "    \"The Ecstasy of Saint Teresa\",\n",
    "    \"Nike of Samothrace\",\n",
    "    \"The Gates of Hell\",\n",
    "    \"Manneken Pis\",\n",
    "    \"Cloud Gate\",\n",
    "    \"Balloon Dog\",\n",
    "    \"Bird in Space\",\n",
    "    \"The Burghers of Calais\",\n",
    "    \"Love\",\n",
    "    \"Endless Column\",\n",
    "    \"Unique Forms of Continuity in Space\",\n",
    "    \"Fountain\",\n",
    "    \"Maman\",\n",
    "    \"Sky Mirror\",\n",
    "    \"The Beanery\",\n",
    "    \"Spiral Jetty\",\n",
    "    \"Vietnam Veterans Memorial\"\n",
    "]\n",
    "artworks = list(set(artworks))\n",
    "len(artworks)"
   ]
  },
  {
   "cell_type": "code",
   "execution_count": 9,
   "id": "1a2ec3f2",
   "metadata": {},
   "outputs": [
    {
     "data": {
      "text/plain": [
       "40"
      ]
     },
     "execution_count": 9,
     "metadata": {},
     "output_type": "execute_result"
    }
   ],
   "source": [
    "books = [\n",
    "    \"To Kill a Mockingbird\",\n",
    "    \"1984\",\n",
    "    \"Pride and Prejudice\",\n",
    "    \"The Great Gatsby\",\n",
    "    \"Moby-Dick\",\n",
    "    \"War and Peace\",\n",
    "    \"The Catcher in the Rye\",\n",
    "    \"Jane Eyre\",\n",
    "    \"The Lord of the Rings\",\n",
    "    \"The Hobbit\",\n",
    "    \"Crime and Punishment\",\n",
    "    \"Brave New World\",\n",
    "    \"Wuthering Heights\",\n",
    "    \"Anna Karenina\",\n",
    "    \"The Brothers Karamazov\",\n",
    "    \"The Adventures of Huckleberry Finn\",\n",
    "    \"One Hundred Years of Solitude\",\n",
    "    \"The Picture of Dorian Gray\",\n",
    "    \"Great Expectations\",\n",
    "    \"Don Quixote\"\n",
    "] + [\n",
    "    \"The Chronicles of Narnia\",\n",
    "    \"Frankenstein\",\n",
    "    \"Dracula\",\n",
    "    \"Les Misérables\",\n",
    "    \"The Alchemist\",\n",
    "    \"The Count of Monte Cristo\",\n",
    "    \"The Old Man and the Sea\",\n",
    "    \"Slaughterhouse-Five\",\n",
    "    \"The Grapes of Wrath\",\n",
    "    \"The Bell Jar\",\n",
    "    \"A Tale of Two Cities\",\n",
    "    \"The Kite Runner\",\n",
    "    \"Life of Pi\",\n",
    "    \"The Road\",\n",
    "    \"Catch-22\",\n",
    "    \"The Stranger\",\n",
    "    \"Beloved\",\n",
    "    \"The Sound and the Fury\",\n",
    "    \"The Handmaid's Tale\",\n",
    "    \"The Name of the Rose\"\n",
    "]\n",
    "books = list(set(books))\n",
    "len(books)"
   ]
  },
  {
   "cell_type": "code",
   "execution_count": 8,
   "id": "117adc86",
   "metadata": {},
   "outputs": [
    {
     "data": {
      "text/plain": [
       "40"
      ]
     },
     "execution_count": 8,
     "metadata": {},
     "output_type": "execute_result"
    }
   ],
   "source": [
    "films = [\n",
    "    \"The Godfather\",                    # USA, Crime/Drama\n",
    "    \"Parasite\",                         # South Korea, Thriller/Drama\n",
    "    \"Spirited Away\",                    # Japan, Animation/Fantasy\n",
    "    \"City of God\",                      # Brazil, Crime/Drama\n",
    "    \"Pulp Fiction\",                     # USA, Crime/Drama\n",
    "    \"Amélie\",                           # France, Romantic Comedy\n",
    "    \"The Lion King\",                    # USA, Animation/Drama\n",
    "    \"Crouching Tiger, Hidden Dragon\",    # China, Action/Drama\n",
    "    \"The Intouchables\",                 # France, Drama/Comedy\n",
    "    \"Roma\",                             # Mexico, Drama\n",
    "    \"12 Angry Men\",                     # USA, Drama\n",
    "    \"Schindler's List\",                 # USA, Historical Drama\n",
    "    \"Pan's Labyrinth\",                  # Mexico/Spain, Fantasy/War\n",
    "    \"The Seventh Seal\",                 # Sweden, Drama/Fantasy\n",
    "    \"Oldboy\",                           # South Korea, Thriller/Action\n",
    "    \"Inception\",                        # USA, Sci-Fi/Thriller\n",
    "    \"The Godfather: Part II\",           # USA, Crime/Drama\n",
    "    \"Run Lola Run\",                     # Germany, Thriller/Action\n",
    "    \"La Dolce Vita\",                    # Italy, Drama\n",
    "    \"The Farewell\",                     # USA/China, Drama/Comedy\n",
    "] + [\n",
    "    \"Citizen Kane\",                     # USA, Drama/Mystery\n",
    "    \"Life is Beautiful\",                 # Italy, Comedy/Drama\n",
    "    \"The Dark Knight\",                   # USA, Action/Crime\n",
    "    \"The Matrix\",                        # USA, Sci-Fi/Action\n",
    "    \"A Separation\",                      # Iran, Drama\n",
    "    \"The Grand Budapest Hotel\",          # USA, Comedy/Drama\n",
    "    \"Memento\",                           # USA, Mystery/Thriller\n",
    "    \"The Battle of Algiers\",             # Algeria, War/Drama\n",
    "    \"Gladiator\",                         # USA, Action/Drama\n",
    "    \"The Shining\",                       # USA, Horror/Drama\n",
    "    \"The Pianist\",                       # France/Poland, Drama/Music\n",
    "    \"Moonlight\",                         # USA, Drama\n",
    "    \"Goodfellas\",                        # USA, Crime/Drama\n",
    "    \"The Green Mile\",                    # USA, Drama/Fantasy\n",
    "    \"The Matrix Reloaded\",               # USA, Sci-Fi/Action\n",
    "    \"Spartacus\",                         # USA, Historical/Drama\n",
    "    \"Taxi Driver\",                       # USA, Drama/Crime\n",
    "    \"Casablanca\",                        # USA, Romance/Drama\n",
    "    \"Birdman\",                           # USA, Drama/Comedy\n",
    "    \"Into the Wild\",                     # USA, Adventure/Drama\n",
    "]\n",
    "films = list(set(films))\n",
    "len(films)"
   ]
  },
  {
   "cell_type": "code",
   "execution_count": null,
   "id": "71f75f75",
   "metadata": {},
   "outputs": [],
   "source": [
    "songs = [\n",
    "    \"Bohemian Rhapsody\",              # Queen, Rock\n",
    "    \"Imagine\",                        # John Lennon, Pop/Soft Rock\n",
    "    \"Despacito\",                      # Luis Fonsi ft. Daddy Yankee, Reggaeton/Pop\n",
    "    \"Like a Rolling Stone\",           # Bob Dylan, Rock/Folk\n",
    "    \"Shape of You\",                   # Ed Sheeran, Pop\n",
    "    \"Billie Jean\",                    # Michael Jackson, Pop\n",
    "    \"Ode to Joy\",                     # Ludwig van Beethoven, Classical\n",
    "    \"Gangnam Style\",                  # Psy, K-pop/Pop\n",
    "    \"What's Going On\",                # Marvin Gaye, Soul/R&B\n",
    "    \"Hallelujah\",                     # Leonard Cohen, Folk/Rock\n",
    "    \"Smells Like Teen Spirit\",        # Nirvana, Grunge/Rock\n",
    "    \"Africa\",                         # Toto, Rock/Pop\n",
    "    \"Creep\",                          # Radiohead, Alternative Rock\n",
    "    \"No Woman, No Cry\",               # Bob Marley, Reggae\n",
    "    \"La Bamba\",                       # Ritchie Valens, Rock/Latin\n",
    "    \"My Heart Will Go On\",            # Celine Dion, Pop/Film Soundtrack\n",
    "    \"Formation\",                      # Beyoncé, R&B/Pop\n",
    "    \"Stairway to Heaven\",             # Led Zeppelin, Rock\n",
    "    \"Desire\",                         # U2, Rock\n",
    "    \"Take Five\",                      # Dave Brubeck, Jazz\n",
    "]"
   ]
  },
  {
   "cell_type": "markdown",
   "id": "762b08be",
   "metadata": {},
   "source": []
  },
  {
   "cell_type": "code",
   "execution_count": null,
   "id": "dea16c96",
   "metadata": {},
   "outputs": [],
   "source": [
    "spotcheck_df_content = []\n",
    "\n",
    "for (entity_type, template), sub_df in eos_sft_df_filtered_entity_template.groupby([\"entity_type\", \"template\"]):\n",
    "    # pass\n",
    "    acc_sum = eos_entity_type2acc[entity_type][template]\n",
    "    length_sum = eos_entity_type2length[entity_type][template]\n",
    "    count = eos_entity_type2count[entity_type][template]\n",
    "    # counts.append(count)\n",
    "    rand_idx = np.random.randint(len(sub_df))\n",
    "    \n",
    "    acc = acc_sum / count\n",
    "    length = length_sum / count\n",
    "    \n",
    "    spotcheck_df_content.append({\n",
    "        \"entity_type\": entity_type,\n",
    "        \"template\": template,\n",
    "        \"# entity\": count,\n",
    "        \"avg_llm_accuracy\": acc,\n",
    "        \"avg_answer_len (in char)\": length,\n",
    "        \"example_question\": sub_df.iloc[rand_idx][\"question\"],\n",
    "        \"example_answer\": sub_df.iloc[rand_idx][\"answer\"],\n",
    "        \"example_prediction\": sub_df.iloc[rand_idx][\"predicted_answer\"],\n",
    "    })"
   ]
  },
  {
   "cell_type": "code",
   "execution_count": 657,
   "id": "21d096d6",
   "metadata": {},
   "outputs": [],
   "source": [
    "spotcheck_df = pd.DataFrame(spotcheck_df_content)\n",
    "spotcheck_df = spotcheck_df.set_index([\"entity_type\", \"template\"], drop=True)"
   ]
  },
  {
   "cell_type": "code",
   "execution_count": 658,
   "id": "900b4d5a",
   "metadata": {},
   "outputs": [],
   "source": [
    "spotcheck_df.to_excel(f\"/u/zliu/datastor1/mend/spotcheck/spotcheck_df_v3.xlsx\", index=True)"
   ]
  },
  {
   "cell_type": "code",
   "execution_count": 610,
   "id": "a1b961af",
   "metadata": {},
   "outputs": [],
   "source": [
    "# Counter(eos_sft_df_filtered[eos_sft_df_filtered.apply(lambda row: row[\"template\"] == \"Where is {species} primarily found?\", axis=1)][\"answer\"])"
   ]
  },
  {
   "cell_type": "code",
   "execution_count": null,
   "id": "8f6edb5c",
   "metadata": {},
   "outputs": [],
   "source": [
    "# spotcheck_df = pd.DataFrame(spotcheck_df_content)"
   ]
  },
  {
   "cell_type": "code",
   "execution_count": 611,
   "id": "ed7f973e",
   "metadata": {},
   "outputs": [],
   "source": [
    "# template_count_threshold = 1"
   ]
  },
  {
   "cell_type": "code",
   "execution_count": null,
   "id": "621f62a2",
   "metadata": {},
   "outputs": [
    {
     "name": "stdout",
     "output_type": "stream",
     "text": [
      "# entity: 40 # template: 1\n"
     ]
    },
    {
     "data": {
      "text/plain": [
       "16"
      ]
     },
     "execution_count": 310,
     "metadata": {},
     "output_type": "execute_result"
    }
   ],
   "source": [
    "# print(f\"# entity: {count_threshold}\", f\"# template: {template_count_threshold}\", )\n",
    "# len([k for k, v in entity_type2template_count.items() if v >= template_count_threshold])"
   ]
  },
  {
   "cell_type": "code",
   "execution_count": 308,
   "id": "7ecca1db",
   "metadata": {},
   "outputs": [
    {
     "data": {
      "text/plain": [
       "['Historical Figure',\n",
       " 'Business Figure',\n",
       " 'Book',\n",
       " 'Language',\n",
       " 'Company',\n",
       " 'Non-profit Organization',\n",
       " 'University',\n",
       " 'Invention',\n",
       " 'Artwork',\n",
       " 'Film',\n",
       " 'Song',\n",
       " 'Historical Event',\n",
       " 'Software',\n",
       " 'Species',\n",
       " 'Author',\n",
       " 'Country']"
      ]
     },
     "execution_count": 308,
     "metadata": {},
     "output_type": "execute_result"
    }
   ],
   "source": [
    "[k for k, v in entity_type2template_count.items() if v >= template_count_threshold]"
   ]
  },
  {
   "cell_type": "code",
   "execution_count": null,
   "id": "275591c3",
   "metadata": {},
   "outputs": [],
   "source": []
  },
  {
   "cell_type": "code",
   "execution_count": 68,
   "id": "64973760",
   "metadata": {},
   "outputs": [],
   "source": [
    "filtered_entity_type_df = spotcheck_df[spotcheck_df[\"entity_type\"].isin([k for k, v in entity_type2template_count.items() if v >= template_count_threshold])]"
   ]
  },
  {
   "cell_type": "code",
   "execution_count": 80,
   "id": "05bfb71c",
   "metadata": {},
   "outputs": [
    {
     "data": {
      "text/plain": [
       "array(['What occupation is {historical_figure} most well-known for?',\n",
       "       'What year was {historical_figure} born?',\n",
       "       'Where was the birthplace of {historical_figure}?',\n",
       "       'What is the nationality of {historical_figure}?',\n",
       "       'What year did {historical_figure} pass away?',\n",
       "       'Where did {historical_figure} die?',\n",
       "       'What is the religion of {historical_figure}?',\n",
       "       'What language was primarily spoken by {historical_figure}?',\n",
       "       'What is the alma mater where {historical_figure} earned their highest degree?',\n",
       "       'How many children did {historical_figure} have?'], dtype=object)"
      ]
     },
     "execution_count": 80,
     "metadata": {},
     "output_type": "execute_result"
    }
   ],
   "source": [
    "filtered_entity_type_df[filtered_entity_type_df[\"entity_type\"] == \"Historical Figure\"][\"template\"].unique()"
   ]
  },
  {
   "cell_type": "code",
   "execution_count": 78,
   "id": "0283e870",
   "metadata": {},
   "outputs": [],
   "source": [
    "# spotcheck_df.to_excel(\"/u/zliu/datastor1/mend/spotcheck/syn_template-sft_sample-5.xlsx\", index=False)"
   ]
  },
  {
   "cell_type": "code",
   "execution_count": null,
   "id": "f3119b49",
   "metadata": {},
   "outputs": [],
   "source": []
  },
  {
   "cell_type": "markdown",
   "id": "b29a135b",
   "metadata": {},
   "source": []
  },
  {
   "cell_type": "code",
   "execution_count": null,
   "id": "33b8db1c",
   "metadata": {},
   "outputs": [],
   "source": []
  },
  {
   "cell_type": "code",
   "execution_count": null,
   "id": "7b73452f",
   "metadata": {},
   "outputs": [],
   "source": [
    "# book\n"
   ]
  },
  {
   "cell_type": "markdown",
   "id": "93004b6a",
   "metadata": {},
   "source": []
  },
  {
   "cell_type": "code",
   "execution_count": 295,
   "id": "7f39f000",
   "metadata": {},
   "outputs": [
    {
     "data": {
      "text/plain": [
       "110"
      ]
     },
     "execution_count": 295,
     "metadata": {},
     "output_type": "execute_result"
    }
   ],
   "source": [
    "len(counts)"
   ]
  },
  {
   "cell_type": "code",
   "execution_count": 296,
   "id": "3576b512",
   "metadata": {},
   "outputs": [
    {
     "ename": "NameError",
     "evalue": "name 'np' is not defined",
     "output_type": "error",
     "traceback": [
      "\u001b[0;31m---------------------------------------------------------------------------\u001b[0m",
      "\u001b[0;31mNameError\u001b[0m                                 Traceback (most recent call last)",
      "Cell \u001b[0;32mIn[296], line 1\u001b[0m\n\u001b[0;32m----> 1\u001b[0m \u001b[43mnp\u001b[49m\u001b[38;5;241m.\u001b[39mmedian(counts)\n",
      "\u001b[0;31mNameError\u001b[0m: name 'np' is not defined"
     ]
    }
   ],
   "source": [
    "np.median(counts)"
   ]
  },
  {
   "cell_type": "code",
   "execution_count": 297,
   "id": "03c465c0",
   "metadata": {},
   "outputs": [
    {
     "data": {
      "text/plain": [
       "DescribeResult(nobs=110, minmax=(np.int64(7), np.int64(386)), mean=np.float64(120.28181818181818), variance=np.float64(6759.268473728105), skewness=np.float64(0.8587758888996634), kurtosis=np.float64(0.5562820908365507))"
      ]
     },
     "execution_count": 297,
     "metadata": {},
     "output_type": "execute_result"
    }
   ],
   "source": [
    "describe(counts)"
   ]
  },
  {
   "cell_type": "code",
   "execution_count": 299,
   "id": "b2e8fce1",
   "metadata": {},
   "outputs": [
    {
     "data": {
      "text/plain": [
       "[7,\n",
       " 9,\n",
       " 11,\n",
       " 12,\n",
       " 16,\n",
       " 17,\n",
       " 18,\n",
       " 19,\n",
       " 21,\n",
       " 22,\n",
       " 22,\n",
       " 22,\n",
       " 24,\n",
       " 26,\n",
       " 28,\n",
       " 34,\n",
       " 37,\n",
       " 37,\n",
       " 37,\n",
       " 37,\n",
       " 40,\n",
       " 41,\n",
       " 46,\n",
       " 49,\n",
       " 52,\n",
       " 52,\n",
       " 53,\n",
       " 55,\n",
       " 56,\n",
       " 56,\n",
       " 57,\n",
       " 59,\n",
       " 60,\n",
       " 63,\n",
       " 64,\n",
       " 71,\n",
       " 73,\n",
       " 76,\n",
       " 76,\n",
       " 77,\n",
       " 80,\n",
       " 85,\n",
       " 88,\n",
       " 89,\n",
       " 89,\n",
       " 94,\n",
       " 95,\n",
       " 96,\n",
       " 97,\n",
       " 99,\n",
       " 99,\n",
       " 101,\n",
       " 103,\n",
       " 105,\n",
       " 105,\n",
       " 106,\n",
       " 107,\n",
       " 108,\n",
       " 109,\n",
       " 110,\n",
       " 111,\n",
       " 112,\n",
       " 120,\n",
       " 120,\n",
       " 123,\n",
       " 124,\n",
       " 126,\n",
       " 132,\n",
       " 137,\n",
       " 139,\n",
       " 145,\n",
       " 147,\n",
       " 151,\n",
       " 151,\n",
       " 152,\n",
       " 156,\n",
       " 158,\n",
       " 159,\n",
       " 161,\n",
       " 166,\n",
       " 173,\n",
       " 174,\n",
       " 178,\n",
       " 178,\n",
       " 179,\n",
       " 181,\n",
       " 185,\n",
       " 187,\n",
       " 193,\n",
       " 193,\n",
       " 197,\n",
       " 203,\n",
       " 207,\n",
       " 208,\n",
       " 208,\n",
       " 210,\n",
       " 211,\n",
       " 217,\n",
       " 227,\n",
       " 231,\n",
       " 232,\n",
       " 237,\n",
       " 240,\n",
       " 253,\n",
       " 272,\n",
       " 272,\n",
       " 293,\n",
       " 354,\n",
       " 365,\n",
       " 386]"
      ]
     },
     "execution_count": 299,
     "metadata": {},
     "output_type": "execute_result"
    }
   ],
   "source": [
    "sorted(counts,)"
   ]
  },
  {
   "cell_type": "code",
   "execution_count": 300,
   "metadata": {},
   "outputs": [
    {
     "data": {
      "text/plain": [
       "95"
      ]
     },
     "execution_count": 300,
     "metadata": {},
     "output_type": "execute_result"
    }
   ],
   "source": [
    "sum([x >= 30 for x in counts])"
   ]
  },
  {
   "cell_type": "code",
   "execution_count": 301,
   "id": "34aa3208",
   "metadata": {},
   "outputs": [
    {
     "data": {
      "text/plain": [
       "(array([22., 19., 23., 13., 13., 11.,  5.,  1.,  0.,  3.]),\n",
       " array([  7. ,  44.9,  82.8, 120.7, 158.6, 196.5, 234.4, 272.3, 310.2,\n",
       "        348.1, 386. ]),\n",
       " <BarContainer object of 10 artists>)"
      ]
     },
     "execution_count": 301,
     "metadata": {},
     "output_type": "execute_result"
    },
    {
     "data": {
      "image/png": "[encoded data removed]",
      "text/plain": [
       "<Figure size 640x480 with 1 Axes>"
      ]
     },
     "metadata": {},
     "output_type": "display_data"
    }
   ],
   "source": [
    "plt.hist(counts)"
   ]
  },
  {
   "cell_type": "code",
   "execution_count": null,
   "id": "2b6310e4",
   "metadata": {},
   "outputs": [],
   "source": []
  },
  {
   "cell_type": "code",
   "execution_count": null,
   "id": "9b1396ee",
   "metadata": {},
   "outputs": [],
   "source": []
  },
  {
   "cell_type": "code",
   "execution_count": null,
   "id": "cc3ad0b0",
   "metadata": {},
   "outputs": [],
   "source": []
  }
 ],
 "metadata": {
  "kernelspec": {
   "display_name": "cpt",
   "language": "python",
   "name": "python3"
  },
  "language_info": {
   "codemirror_mode": {
    "name": "ipython",
    "version": 3
   },
   "file_extension": ".py",
   "mimetype": "text/x-python",
   "name": "python",
   "nbconvert_exporter": "python",
   "pygments_lexer": "ipython3",
   "version": "3.11.0"
  }
 },
 "nbformat": 4,
 "nbformat_minor": 5
}
