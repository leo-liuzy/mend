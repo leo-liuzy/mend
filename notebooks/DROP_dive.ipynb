{
 "cells": [
  {
   "cell_type": "code",
   "execution_count": 23,
   "metadata": {},
   "outputs": [],
   "source": [
    "from glob import glob\n",
    "\n",
    "import pandas as pd\n",
    "from experiments.musique.inference_only import macro_averaging\n",
    "from knowledge_propagation.utils import io, vars, extractor\n",
    "import os\n",
    "import numpy as np\n",
    "from tqdm import tqdm\n",
    "import seaborn as sns\n",
    "import matplotlib.pyplot as plt\n",
    "from scipy.stats import describe\n",
    "from thefuzz import fuzz\n",
    "\n",
    "from datasets import load_dataset, load_from_disk\n",
    "\n",
    "from copy import deepcopy\n",
    "from collections import defaultdict\n",
    "from dateutil.parser import parse\n",
    "from dateutil.parser import ParserError\n",
    "\n",
    "import re\n",
    "\n",
    "def is_date(string):\n",
    "    try:\n",
    "        parse(string)\n",
    "        return True\n",
    "    except ParserError:\n",
    "        return False\n",
    "\n"
   ]
  },
  {
   "cell_type": "code",
   "execution_count": null,
   "metadata": {},
   "outputs": [],
   "source": []
  },
  {
   "cell_type": "code",
   "execution_count": 105,
   "metadata": {},
   "outputs": [],
   "source": [
    "\n",
    "ds = load_dataset(\"ucinlp/drop\")\n",
    "\n",
    "\n",
    "drop_date_instances = []\n",
    "\n",
    "no_verbatim_answer = []\n",
    "different_span_types = []\n",
    "set_of_spans = []\n",
    "duplicate_passage = []\n",
    "passage = set()\n",
    "count = 0\n",
    "unique_section = set()\n",
    "passage2section_id = defaultdict(list)\n",
    "type2count = defaultdict(int)\n",
    "\n",
    "\n",
    "# for split in [\"train\", \"validation\"]:\n",
    "for split in [\"validation\"]:\n",
    "    for i in range(len(ds[split])):\n",
    "        datum = ds[split][i]\n",
    "        if datum[\"passage\"] in passage and datum[\"section_id\"] not in unique_section:\n",
    "            duplicate_passage.append(datum)\n",
    "            \n",
    "        unique_section.add(datum[\"section_id\"])\n",
    "        passage.add(datum[\"passage\"])\n",
    "        span = datum[\"answers_spans\"]\n",
    "        a_str = datum[\"answers_spans\"][\"spans\"][0]\n",
    "        \n",
    "        q_str = datum[\"question\"].lower()\n",
    "        if q_str.startswith(\"what was\") or q_str.startswith(\"what were\"):\n",
    "            # count += 1\n",
    "            set_of_spans.append(datum)\n",
    "        if not all(datum[\"answers_spans\"][\"types\"][0] == t for t in datum[\"answers_spans\"][\"types\"]):\n",
    "            different_span_types.append(datum)\n",
    "        if not any(s in datum['passage'] for s in datum[\"answers_spans\"][\"spans\"]):\n",
    "            no_verbatim_answer.append(datum)\n",
    "        for t in datum[\"answers_spans\"][\"types\"]:\n",
    "            type2count[t] += 1"
   ]
  },
  {
   "cell_type": "code",
   "execution_count": null,
   "metadata": {},
   "outputs": [],
   "source": []
  },
  {
   "cell_type": "code",
   "execution_count": 121,
   "metadata": {},
   "outputs": [],
   "source": [
    "drop_dev = io.load_json(\"/u/zliu/datastor1/KE-by-CP/data/drop_dataset/drop_dataset_dev.json\")"
   ]
  },
  {
   "cell_type": "code",
   "execution_count": 117,
   "metadata": {},
   "outputs": [],
   "source": [
    "# drop_dev[\"nfl_1184\"][\"qa_pairs\"]\n",
    "converted_drop_dev = []\n",
    "for k, v in drop_dev.items():\n",
    "    new_qa_pairs = []\n",
    "    for qa in v[\"qa_pairs\"]:\n",
    "        if len(qa[\"answer\"][\"number\"]) > 0:\n",
    "            new_qa = {\n",
    "                \"question\": qa[\"question\"],\n",
    "                \"answer\": qa[\"answer\"][\"number\"]\n",
    "            }\n",
    "        elif len(qa[\"answer\"][\"spans\"]) > 0:\n",
    "            # assert len(qa[\"answer\"][\"spans\"]) == 1, qa[\"answer\"][\"spans\"]\n",
    "            new_qa = {\n",
    "                \"question\": qa[\"question\"],\n",
    "                \"answer\": \", \".join(qa[\"answer\"][\"spans\"])\n",
    "            }\n",
    "        else:\n",
    "            ans = \" \".join([k for k, v in qa[\"answer\"][\"date\"].items() if len(v) > 0])\n",
    "            new_qa = {\n",
    "                \"question\": qa[\"question\"],\n",
    "                \"answer\": ans\n",
    "            }\n",
    "        new_qa[\"query_id\"] = qa[\"query_id\"]\n",
    "        \n",
    "        new_qa_pairs.append(new_qa)\n",
    "    new_v = {\n",
    "        \"passage\": v[\"passage\"],\n",
    "        \"section_id\": k,\n",
    "        \"qa_pairs\": new_qa_pairs,\n",
    "        \"wiki_url\": v[\"wiki_url\"]\n",
    "    }\n",
    "    converted_drop_dev.append(new_v)"
   ]
  },
  {
   "cell_type": "code",
   "execution_count": 119,
   "metadata": {},
   "outputs": [],
   "source": [
    "io.dump_jsonlines(converted_drop_dev, \"/u/zliu/datastor1/KE-by-CP/data/drop_dataset_converted/drop_dataset_dev.jsonl\")"
   ]
  },
  {
   "cell_type": "code",
   "execution_count": 39,
   "metadata": {},
   "outputs": [
    {
     "data": {
      "text/plain": [
       "485"
      ]
     },
     "execution_count": 39,
     "metadata": {},
     "output_type": "execute_result"
    }
   ],
   "source": [
    "len(different_span_types)"
   ]
  },
  {
   "cell_type": "code",
   "execution_count": 66,
   "metadata": {},
   "outputs": [
    {
     "data": {
      "text/plain": [
       "25183"
      ]
     },
     "execution_count": 66,
     "metadata": {},
     "output_type": "execute_result"
    }
   ],
   "source": [
    "len(no_verbatim_answer)"
   ]
  },
  {
   "cell_type": "code",
   "execution_count": 34,
   "metadata": {},
   "outputs": [
    {
     "data": {
      "text/plain": [
       "4644.0"
      ]
     },
     "execution_count": 34,
     "metadata": {},
     "output_type": "execute_result"
    }
   ],
   "source": [
    "77400 * 0.006"
   ]
  },
  {
   "cell_type": "code",
   "execution_count": 30,
   "metadata": {},
   "outputs": [
    {
     "data": {
      "text/plain": [
       "1291"
      ]
     },
     "execution_count": 30,
     "metadata": {},
     "output_type": "execute_result"
    }
   ],
   "source": [
    "len(set_of_spans)"
   ]
  },
  {
   "cell_type": "code",
   "execution_count": 46,
   "metadata": {},
   "outputs": [
    {
     "data": {
      "text/plain": [
       "defaultdict(int, {'number': 60915, 'span': 45905, 'date': 1563})"
      ]
     },
     "execution_count": 46,
     "metadata": {},
     "output_type": "execute_result"
    }
   ],
   "source": [
    "type2count"
   ]
  },
  {
   "cell_type": "code",
   "execution_count": 67,
   "metadata": {},
   "outputs": [],
   "source": [
    "dev = io.load_json(\"/u/zliu/datastor1/KE-by-CP/data/multirc-v2/dev_83-fixedIds.json\")"
   ]
  },
  {
   "cell_type": "code",
   "execution_count": 73,
   "metadata": {},
   "outputs": [],
   "source": [
    "comp_webq_snippet_dev = io.load_json(\"/u/zliu/datastor1/KE-by-CP/data/complexwebquestions_V1_1/web_snippets_dev.json\")"
   ]
  },
  {
   "cell_type": "code",
   "execution_count": 74,
   "metadata": {},
   "outputs": [],
   "source": [
    "comp_webq = io.load_json(\"/u/zliu/datastor1/KE-by-CP/data/complexwebquestions_V1_1/ComplexWebQuestions_dev.json\")"
   ]
  },
  {
   "cell_type": "code",
   "execution_count": 98,
   "metadata": {},
   "outputs": [
    {
     "data": {
      "text/plain": [
       "{'ID': 'WebQTrn-2505_eba9c2e29a1198e8b56c2f7e4210638b',\n",
       " 'answers': [{'aliases': [],\n",
       "   'answer': 'Vanderbilt University Mr. Commodore',\n",
       "   'answer_id': 'm.05k6hxh'}],\n",
       " 'composition_answer': 'vanderbilt university',\n",
       " 'compositionality_type': 'composition',\n",
       " 'created': '2018-02-13T00:03:35',\n",
       " 'machine_question': 'what is the organiztion leadership has a person named Nicholas S. Zeppos mascot',\n",
       " 'question': 'What is the mascot of the team that has Nicholas S. Zeppos as its leader?',\n",
       " 'sparql': \"PREFIX ns: <http://rdf.freebase.com/ns/>\\nSELECT DISTINCT ?x\\nWHERE {\\nFILTER (?x != ?c)\\nFILTER (!isLiteral(?x) OR lang(?x) = '' OR langMatches(lang(?x), 'en'))\\n?c ns:organization.organization.leadership ?k .\\n?k ns:organization.leadership.person ns:m.02vymvp . \\n?c ns:education.educational_institution.mascot ?x .\\n}\\n\",\n",
       " 'webqsp_ID': 'WebQTrn-2505',\n",
       " 'webqsp_question': 'what is vanderbilt university mascot'}"
      ]
     },
     "execution_count": 98,
     "metadata": {},
     "output_type": "execute_result"
    }
   ],
   "source": [
    "comp_webq[1]"
   ]
  },
  {
   "cell_type": "code",
   "execution_count": 99,
   "metadata": {},
   "outputs": [
    {
     "data": {
      "text/plain": [
       "3"
      ]
     },
     "execution_count": 99,
     "metadata": {},
     "output_type": "execute_result"
    }
   ],
   "source": [
    "question_snippets = [s for s in comp_webq_snippet_dev if s['question_ID'] == comp_webq[1][\"ID\"]]\n",
    "len(question_snippets)"
   ]
  },
  {
   "cell_type": "code",
   "execution_count": 100,
   "metadata": {},
   "outputs": [
    {
     "data": {
      "text/plain": [
       "'What is the mascot of the team that has Nicholas S Zeppos as its leader'"
      ]
     },
     "execution_count": 100,
     "metadata": {},
     "output_type": "execute_result"
    }
   ],
   "source": [
    "question_snippets[0][\"web_query\"]"
   ]
  },
  {
   "cell_type": "code",
   "execution_count": 101,
   "metadata": {},
   "outputs": [
    {
     "data": {
      "text/plain": [
       "{'snippet': 'Vanderbilt University (informally Vandy) is a private research university in Nashville, Tennessee. Founded in 1873, it was named in honor of shipping and rail magnate Cornelius Vanderbilt, who provided the school its initial $1 million endowment despite having never been to the South. Vanderbilt hoped that his gift and the\\xa0...',\n",
       " 'title': 'Vanderbilt University - Wikipedia'}"
      ]
     },
     "execution_count": 101,
     "metadata": {},
     "output_type": "execute_result"
    }
   ],
   "source": [
    "question_snippets[0][\"web_snippets\"][0]"
   ]
  },
  {
   "cell_type": "code",
   "execution_count": 103,
   "metadata": {},
   "outputs": [
    {
     "data": {
      "text/plain": [
       "'What is the mascot of vanderbilt university'"
      ]
     },
     "execution_count": 103,
     "metadata": {},
     "output_type": "execute_result"
    }
   ],
   "source": [
    "question_snippets[1][\"web_query\"]"
   ]
  },
  {
   "cell_type": "code",
   "execution_count": 104,
   "metadata": {},
   "outputs": [
    {
     "data": {
      "text/plain": [
       "'the team that has Nicholas S Zeppos as its leader'"
      ]
     },
     "execution_count": 104,
     "metadata": {},
     "output_type": "execute_result"
    }
   ],
   "source": [
    "question_snippets[2][\"web_query\"]"
   ]
  },
  {
   "cell_type": "code",
   "execution_count": null,
   "metadata": {},
   "outputs": [],
   "source": []
  }
 ],
 "metadata": {
  "kernelspec": {
   "display_name": "cpt",
   "language": "python",
   "name": "python3"
  },
  "language_info": {
   "codemirror_mode": {
    "name": "ipython",
    "version": 3
   },
   "file_extension": ".py",
   "mimetype": "text/x-python",
   "name": "python",
   "nbconvert_exporter": "python",
   "pygments_lexer": "ipython3",
   "version": "3.11.0"
  }
 },
 "nbformat": 4,
 "nbformat_minor": 2
}
