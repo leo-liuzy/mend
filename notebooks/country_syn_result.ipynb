{
 "cells": [
  {
   "cell_type": "code",
   "execution_count": 4,
   "metadata": {},
   "outputs": [],
   "source": [
    "\n",
    "import pandas as pd\n",
    "# from experiments.musique.inference_only import macro_averaging\n",
    "from knowledge_propagation.utils import io, vars, extractor\n",
    "import os\n",
    "import numpy as np\n",
    "from tqdm import tqdm\n",
    "import seaborn as sns\n",
    "import matplotlib.pyplot as plt\n",
    "from glob import glob\n",
    "from scipy.stats import describe\n",
    "from thefuzz import fuzz\n",
    "\n",
    "from collections import Counter\n",
    "from knowledge_propagation.modules.evaluators import (\n",
    "    ExactMatchEvaluator,\n",
    "    RougeEvaluator,\n",
    "    OpenAIEvaluator,\n",
    ")\n",
    "llm_evaluator = OpenAIEvaluator()\n",
    "from typing import List, Dict, Tuple\n",
    "\n",
    "os.getcwd()\n",
    "def macro_averaging(df: pd.DataFrame, metrics: List[str], multi_level_averaging: List[str]):\n",
    "    \"\"\"\n",
    "    Do macro-averaging over the given metrics and multi-level averaging categories.\n",
    "    \"\"\"\n",
    "    extracted_multi_level_cols = [[m, \"mean\"] for m in metrics]\n",
    "    while len(multi_level_averaging) > 0:\n",
    "        # first take the mean over each generation,\n",
    "        # and, only take `mean` of `rouge1` and  `llm_accuracy` column groups\n",
    "        df_over_cols = df.groupby(multi_level_averaging, observed=True).describe()[extracted_multi_level_cols]\n",
    "        # remove the multi-level column indices, since there's only one sub-level -- \"mean\"\n",
    "        df_over_cols.columns = df_over_cols.columns.get_level_values(0)\n",
    "\n",
    "        # reset index to flatten the multi-level column indices for the next macro-averaging class\n",
    "        df = df_over_cols.reset_index(inplace=False)\n",
    "        multi_level_averaging.pop(-1)\n",
    "    return df"
   ]
  },
  {
   "cell_type": "markdown",
   "metadata": {},
   "source": [
    "# Country results"
   ]
  },
  {
   "cell_type": "code",
   "execution_count": 277,
   "metadata": {},
   "outputs": [],
   "source": [
    "n_seen_template = 1\n",
    "n_seen_cities = 350\n",
    "\n",
    "all_templates = io.load_jsonlines(\"/data/users/zliu/KE-by-CP/data/debug_meta_train/country_syn_data_v2/data_gen/all_templates_reordered.jsonl\")\n",
    "template2tag = io.load_json(\"/data/users/zliu/KE-by-CP/data/debug_meta_train/country_syn_data_v2/data_gen/place_template2template_tag.json\")\n",
    "id_templates = all_templates[:n_seen_template]\n",
    "# ood_templates = all_templates[n_seen_template:]\n",
    "# ood_templates = all_templates[-2:]\n",
    "id_template_tags = [template2tag[t] for t in id_templates]\n",
    "ood_template_tags = [template2tag[t] for t in ood_templates]\n",
    "\n",
    "seen_pair_seen_country_df = pd.read_excel(f\"/data/users/zliu/mend/country_exp_out/3K_heavy_noshare_mid-upper3_template-{n_seen_template}_seen-{n_seen_cities}/country_syn_v2/mend_eval_loss=clm_input=seen_n=100_prompt=no_w-gen_wo-icl_e_seen_pair_seen_country.xlsx\")\n",
    "unseen_pair_seen_country_df = pd.read_excel(f\"/data/users/zliu/mend/country_exp_out/3K_heavy_noshare_mid-upper3_template-{n_seen_template}_seen-{n_seen_cities}/country_syn_v2/mend_eval_loss=clm_input=seen_n=100_prompt=no_w-gen_wo-icl_e_unseen_pair_seen_country.xlsx\")\n",
    "unseen_pair_unseen_country_df = pd.read_excel(f\"/data/users/zliu/mend/country_exp_out/3K_heavy_noshare_mid-upper3_template-{n_seen_template}_seen-{n_seen_cities}/country_syn_v2/mend_eval_loss=clm_input=seen_n=100_prompt=no_w-gen_wo-icl_e_unseen_pair_unseen_country.xlsx\")\n"
   ]
  },
  {
   "cell_type": "code",
   "execution_count": 243,
   "metadata": {},
   "outputs": [],
   "source": [
    "# macro_averaging(df, multi_level_averaging=[\"stage\", \"input\"], metrics=metrics) * 100\n",
    "# macro_averaging(df, multi_level_averaging=[\"question_type\", \"id\"], metrics=[\"[A]|[Q] Acc EM\", \"[A]|[Q] Acc PM\", '[Q][A] Acc EM', \"[Q][A] Acc PM\"] + [\"exact_match\", \"llm_accuracy\"]).round(2)"
   ]
  },
  {
   "cell_type": "code",
   "execution_count": 244,
   "metadata": {},
   "outputs": [],
   "source": [
    "# macro_averaging(df[df[\"question_key\"] == \"question\"], multi_level_averaging=[\"question_tag\", \"id\"], metrics=[\"exact_match\", \"llm_accuracy\"]).round(2)\n",
    "# macro_averaging(df[(df[\"question_type\"] == \"efficacy-ood\") & (df[\"question_key\"] == \"question\")], multi_level_averaging=[\"question_type\", \"question_tag\", \"id\"], metrics=[\"exact_match\", \"llm_accuracy\"]).round(2)"
   ]
  },
  {
   "cell_type": "code",
   "execution_count": 256,
   "metadata": {},
   "outputs": [],
   "source": [
    "base_df = pd.read_excel(\"/data/users/zliu/mend/country_exp_out/llama3.2-1B-eos-sft-country-template-format-lr2e-6/ood_v3_prefilter/base_n=1185_prompt=no_w-gen_wo-icl_ice=False.xlsx\")\n",
    "base_df = base_df.dropna(subset=[\"question\"], inplace=False)\n",
    "question2llmacc = dict(zip(base_df[\"question\"], base_df[\"llm_accuracy\"]))\n",
    "\n",
    "assert all([q in question2llmacc for q in seen_pair_seen_country_df[seen_pair_seen_country_df[\"question_key\"] == \"unalias_question\"][\"question\"].tolist()])\n",
    "assert all([q in question2llmacc for q in unseen_pair_seen_country_df[unseen_pair_seen_country_df[\"question_key\"] == \"unalias_question\"][\"question\"].tolist()])\n",
    "assert all([q in question2llmacc for q in unseen_pair_unseen_country_df[unseen_pair_unseen_country_df[\"question_key\"] == \"unalias_question\"][\"question\"].tolist()])"
   ]
  },
  {
   "cell_type": "markdown",
   "metadata": {},
   "source": [
    "# Measure model performance"
   ]
  },
  {
   "cell_type": "code",
   "execution_count": 278,
   "metadata": {},
   "outputs": [
    {
     "name": "stdout",
     "output_type": "stream",
     "text": [
      "Seen template: 1 seen cities: 350\n",
      "seen city, seen country: 97.3\n",
      "unseen city, seen country: 82.0\n",
      "unseen city, unseen country: 32.7\n"
     ]
    }
   ],
   "source": [
    "print(\"Seen template:\",  n_seen_template, \"seen cities:\", n_seen_cities)\n",
    "\n",
    "\n",
    "seen_template_seen_pair_seen_country_df = seen_pair_seen_country_df[(seen_pair_seen_country_df[\"question_key\"] == \"question\") & (seen_pair_seen_country_df[\"question_tag\"].isin(id_template_tags))]\n",
    "print(\"seen city, seen country:\", (seen_template_seen_pair_seen_country_df.describe()[\"llm_accuracy\"][\"mean\"] * 100).round(1))\n",
    "\n",
    "seen_template_unseen_pair_seen_country_df = unseen_pair_seen_country_df[(unseen_pair_seen_country_df[\"question_key\"] == \"question\") & (unseen_pair_seen_country_df[\"question_tag\"].isin(id_template_tags))]\n",
    "print(\"unseen city, seen country:\", (seen_template_unseen_pair_seen_country_df.describe()[\"llm_accuracy\"][\"mean\"] * 100).round(1))\n",
    "\n",
    "seen_template_unseen_pair_unseen_country_df = unseen_pair_unseen_country_df[(unseen_pair_unseen_country_df[\"question_key\"] == \"question\") & (unseen_pair_unseen_country_df[\"question_tag\"].isin(id_template_tags))]\n",
    "print(\"unseen city, unseen country:\", (seen_template_unseen_pair_unseen_country_df.describe()[\"llm_accuracy\"][\"mean\"] * 100).round(1))"
   ]
  },
  {
   "cell_type": "code",
   "execution_count": null,
   "metadata": {},
   "outputs": [],
   "source": []
  },
  {
   "cell_type": "code",
   "execution_count": 279,
   "metadata": {},
   "outputs": [
    {
     "name": "stdout",
     "output_type": "stream",
     "text": [
      "[Unseen template], seen template:  1 seen cities: 350\n",
      "seen city, seen country (200): 52.2\n",
      "unseen city, seen country (200): 48.0\n",
      "unseen city, unseen country (200): 33.0\n"
     ]
    }
   ],
   "source": [
    "print(\"[Unseen template], seen template: \",  n_seen_template, \"seen cities:\", n_seen_cities)\n",
    "unseen_template_seen_pair_seen_country_df = seen_pair_seen_country_df[(seen_pair_seen_country_df[\"question_key\"] == \"question\") & (seen_pair_seen_country_df[\"question_tag\"].isin(ood_template_tags))]\n",
    "print(f\"seen city, seen country ({len(unseen_template_seen_pair_seen_country_df)}):\", (unseen_template_seen_pair_seen_country_df.describe()[\"llm_accuracy\"][\"mean\"] * 100).round(1))\n",
    "\n",
    "unseen_template_unseen_pair_seen_country_df = unseen_pair_seen_country_df[(unseen_pair_seen_country_df[\"question_key\"] == \"question\") & (unseen_pair_seen_country_df[\"question_tag\"].isin(ood_template_tags))]\n",
    "print(f\"unseen city, seen country ({len(unseen_template_unseen_pair_seen_country_df)}):\", (unseen_template_unseen_pair_seen_country_df.describe()[\"llm_accuracy\"][\"mean\"] * 100).round(1))\n",
    "\n",
    "unseen_template_unseen_pair_unseen_country_df = unseen_pair_unseen_country_df[(unseen_pair_unseen_country_df[\"question_key\"] == \"question\") & (unseen_pair_unseen_country_df[\"question_tag\"].isin(ood_template_tags))]\n",
    "print(f\"unseen city, unseen country ({len(unseen_template_unseen_pair_unseen_country_df)}):\", (unseen_template_unseen_pair_unseen_country_df.describe()[\"llm_accuracy\"][\"mean\"] * 100).round(1))\n"
   ]
  },
  {
   "cell_type": "markdown",
   "metadata": {},
   "source": [
    "# Measure base Knowledge level"
   ]
  },
  {
   "cell_type": "code",
   "execution_count": 180,
   "metadata": {},
   "outputs": [
    {
     "name": "stdout",
     "output_type": "stream",
     "text": [
      "Seen template: 5\n",
      "seen city, seen country: 91.4\n",
      "unseen city, seen country: 91.8\n",
      "unseen city, unseen country: 88.6\n"
     ]
    }
   ],
   "source": [
    "print(\"Seen template:\",  n_seen_template)\n",
    "\n",
    "seen_template_seen_pair_seen_country_questions = seen_pair_seen_country_df[(seen_pair_seen_country_df[\"question_key\"] == \"unalias_question\") & (seen_pair_seen_country_df[\"question_tag\"].isin(id_template_tags))][\"question\"].tolist()\n",
    "print(\"seen city, seen country:\", (np.mean([question2llmacc[q] for q in seen_template_seen_pair_seen_country_questions]) * 100).round(1))\n",
    "\n",
    "seen_template_unseen_pair_seen_country_questions = unseen_pair_seen_country_df[(unseen_pair_seen_country_df[\"question_key\"] == \"unalias_question\") & (unseen_pair_seen_country_df[\"question_tag\"].isin(id_template_tags))][\"question\"].tolist()\n",
    "print(\"unseen city, seen country:\", (np.mean([question2llmacc[q] for q in seen_template_unseen_pair_seen_country_questions]) * 100).round(1))\n",
    "\n",
    "seen_template_unseen_pair_unseen_country_questions = unseen_pair_unseen_country_df[(unseen_pair_unseen_country_df[\"question_key\"] == \"unalias_question\") & (unseen_pair_unseen_country_df[\"question_tag\"].isin(id_template_tags))][\"question\"].tolist()\n",
    "print(\"unseen city, unseen country:\", (np.mean([question2llmacc[q] for q in seen_template_unseen_pair_unseen_country_questions]) * 100).round(1))"
   ]
  },
  {
   "cell_type": "code",
   "execution_count": 280,
   "metadata": {},
   "outputs": [
    {
     "name": "stdout",
     "output_type": "stream",
     "text": [
      "Unseen template: 2\n",
      "seen city, seen country (200): 99.2\n",
      "unseen city, seen country (200): 99.8\n",
      "unseen city, unseen country (200): 100.0\n"
     ]
    }
   ],
   "source": [
    "print(\"Unseen template:\",  len(ood_template_tags))\n",
    "unseen_template_seen_pair_seen_country_questions = seen_pair_seen_country_df[(seen_pair_seen_country_df[\"question_key\"] == \"unalias_question\") & (seen_pair_seen_country_df[\"question_tag\"].isin(ood_template_tags))][\"question\"].tolist()\n",
    "print(f\"seen city, seen country ({len(unseen_template_seen_pair_seen_country_questions)}):\", (np.mean([question2llmacc[q] for q in unseen_template_seen_pair_seen_country_questions]) * 100).round(1))\n",
    "\n",
    "unseen_template_unseen_pair_seen_country_questions = unseen_pair_seen_country_df[(unseen_pair_seen_country_df[\"question_key\"] == \"unalias_question\") & (unseen_pair_seen_country_df[\"question_tag\"].isin(ood_template_tags))][\"question\"].tolist()\n",
    "print(f\"unseen city, seen country ({len(unseen_template_unseen_pair_seen_country_questions)}):\", (np.mean([question2llmacc[q] for q in unseen_template_unseen_pair_seen_country_questions]) * 100).round(1))\n",
    "\n",
    "unseen_template_unseen_pair_seen_uncountry_questions = unseen_pair_unseen_country_df[(unseen_pair_unseen_country_df[\"question_key\"] == \"unalias_question\") & (unseen_pair_unseen_country_df[\"question_tag\"].isin(ood_template_tags))][\"question\"].tolist()\n",
    "print(f\"unseen city, unseen country ({len(unseen_template_unseen_pair_seen_uncountry_questions)}):\", (np.mean([question2llmacc[q] for q in unseen_template_unseen_pair_seen_uncountry_questions]) * 100).round(1))\n"
   ]
  },
  {
   "cell_type": "code",
   "execution_count": 137,
   "metadata": {},
   "outputs": [
    {
     "data": {
      "text/plain": [
       "100"
      ]
     },
     "execution_count": 137,
     "metadata": {},
     "output_type": "execute_result"
    }
   ],
   "source": [
    "len(seen_template_unseen_pair_seen_country_questions)"
   ]
  },
  {
   "cell_type": "code",
   "execution_count": null,
   "metadata": {},
   "outputs": [
    {
     "data": {
      "text/plain": [
       "np.float64(90.5)"
      ]
     },
     "execution_count": 63,
     "metadata": {},
     "output_type": "execute_result"
    }
   ],
   "source": []
  },
  {
   "cell_type": "code",
   "execution_count": null,
   "metadata": {},
   "outputs": [],
   "source": []
  },
  {
   "cell_type": "code",
   "execution_count": 42,
   "metadata": {},
   "outputs": [
    {
     "name": "stdout",
     "output_type": "stream",
     "text": [
      "Num of rows: 11368\n"
     ]
    }
   ],
   "source": [
    "# df = pd.read_excel(\"/u/zliu/datastor1/mend/debug_exp_output/Llama-3.2-1B-common-country-eos-sft_clm-baseline_lr=1e-05_epoch=4.0_tunable-params=midupper3-mlp/all_results_id+ood_v2_text.xlsx\")\n",
    "df = pd.read_excel(\"/datastor1/zliu/mend/debug_exp_output/common-country_3K_heavy_share_mid-upper3/country_syn/mend_eval_loss=clm_input=seen_n=100_prompt=no_w-gen_wo-icl_e_all_propagation_ood_v2-question.xlsx\")\n",
    "print(\"Num of rows:\", len(df))\n",
    "df[\"predicted_answer\"] = df[\"predicted_answer\"].astype(str)\n",
    "# df[\"is_num\"] = df[\"is_num\"].astype(int)"
   ]
  },
  {
   "cell_type": "code",
   "execution_count": 3,
   "metadata": {},
   "outputs": [],
   "source": [
    "# df[df[\"question_type\"] == \"efficacy-ood\"].sort_values(by=[\"id\", \"question\"]).to_excel(\"/u/zliu/datastor1/mend/debug_exp_output/Llama-3.2-1B-common-country-eos-sft_clm-baseline_lr=1e-05_epoch=4.0_tunable-params=midupper3-mlp/all_results_ood_v2_text.xlsx\", index=False)"
   ]
  },
  {
   "cell_type": "code",
   "execution_count": null,
   "metadata": {},
   "outputs": [],
   "source": [
    "# df[df[\"question_key\"] == \"question\"].sort_values(by=[\"id\", \"question\"]).to_excel(\"/u/zliu/datastor1/mend/debug_exp_output/common-country_3K_heavy_noshare_mid-upper3/country_syn/mend_eval_loss=clm_input=seen_n=100_prompt=no_w-gen_wo-icl_e_all_propagation_ood_v2-question_only_ood.xlsx\", index=False)"
   ]
  },
  {
   "cell_type": "code",
   "execution_count": 13,
   "metadata": {},
   "outputs": [
    {
     "data": {
      "text/plain": [
       "array(['question'], dtype=object)"
      ]
     },
     "execution_count": 13,
     "metadata": {},
     "output_type": "execute_result"
    }
   ],
   "source": [
    "df[\"question_key\"].unique()"
   ]
  },
  {
   "cell_type": "code",
   "execution_count": 5,
   "metadata": {},
   "outputs": [
    {
     "data": {
      "text/html": [
       "<div>\n",
       "<style scoped>\n",
       "    .dataframe tbody tr th:only-of-type {\n",
       "        vertical-align: middle;\n",
       "    }\n",
       "\n",
       "    .dataframe tbody tr th {\n",
       "        vertical-align: top;\n",
       "    }\n",
       "\n",
       "    .dataframe thead th {\n",
       "        text-align: right;\n",
       "    }\n",
       "</style>\n",
       "<table border=\"1\" class=\"dataframe\">\n",
       "  <thead>\n",
       "    <tr style=\"text-align: right;\">\n",
       "      <th></th>\n",
       "      <th>question_tag</th>\n",
       "      <th>llm_accuracy</th>\n",
       "    </tr>\n",
       "  </thead>\n",
       "  <tbody>\n",
       "    <tr>\n",
       "      <th>0</th>\n",
       "      <td>efficacy_common_fact_birth_place</td>\n",
       "      <td>0.37</td>\n",
       "    </tr>\n",
       "    <tr>\n",
       "      <th>1</th>\n",
       "      <td>efficacy_common_fact_career_place</td>\n",
       "      <td>0.29</td>\n",
       "    </tr>\n",
       "    <tr>\n",
       "      <th>2</th>\n",
       "      <td>efficacy_common_fact_death_place</td>\n",
       "      <td>0.29</td>\n",
       "    </tr>\n",
       "  </tbody>\n",
       "</table>\n",
       "</div>"
      ],
      "text/plain": [
       "                        question_tag  llm_accuracy\n",
       "0   efficacy_common_fact_birth_place          0.37\n",
       "1  efficacy_common_fact_career_place          0.29\n",
       "2   efficacy_common_fact_death_place          0.29"
      ]
     },
     "execution_count": 5,
     "metadata": {},
     "output_type": "execute_result"
    }
   ],
   "source": [
    "macro_averaging(df[(df[\"question_type\"] == \"efficacy\") & (df[\"question_key\"] == \"question\")], multi_level_averaging=[\"question_tag\", \"id\"], metrics=[\"llm_accuracy\"]).round(2)"
   ]
  },
  {
   "cell_type": "code",
   "execution_count": null,
   "metadata": {},
   "outputs": [],
   "source": [
    "macro_averaging(df[(df[\"question_type\"] == \"efficacy-ood\") ], multi_level_averaging=[\"question_tag\", \"id\"], metrics=[\"llm_accuracy\"]).round(2)"
   ]
  },
  {
   "cell_type": "code",
   "execution_count": 96,
   "metadata": {},
   "outputs": [
    {
     "data": {
      "text/plain": [
       "{'efficacy_common_fact_death_place': 384,\n",
       " 'efficacy_common_fact_career_place': 372,\n",
       " 'efficacy_common_fact_birth_place': 367}"
      ]
     },
     "execution_count": 96,
     "metadata": {},
     "output_type": "execute_result"
    }
   ],
   "source": [
    "# len(df[df[\"question_key\"] == \"question\"])\n",
    "df[df[\"question_key\"] == \"question\"][\"question_tag\"].value_counts().to_dict()"
   ]
  },
  {
   "cell_type": "code",
   "execution_count": null,
   "metadata": {},
   "outputs": [],
   "source": [
    "macro_averaging(df[df[\"question_key\"] == \"question\"], multi_level_averaging=[\"question_key\", \"id\"], metrics=[ \"llm_accuracy\"]).round(2)"
   ]
  },
  {
   "cell_type": "code",
   "execution_count": 11,
   "metadata": {},
   "outputs": [
    {
     "data": {
      "text/html": [
       "<div>\n",
       "<style scoped>\n",
       "    .dataframe tbody tr th:only-of-type {\n",
       "        vertical-align: middle;\n",
       "    }\n",
       "\n",
       "    .dataframe tbody tr th {\n",
       "        vertical-align: top;\n",
       "    }\n",
       "\n",
       "    .dataframe thead th {\n",
       "        text-align: right;\n",
       "    }\n",
       "</style>\n",
       "<table border=\"1\" class=\"dataframe\">\n",
       "  <thead>\n",
       "    <tr style=\"text-align: right;\">\n",
       "      <th></th>\n",
       "      <th>question_key</th>\n",
       "      <th>llm_accuracy</th>\n",
       "    </tr>\n",
       "  </thead>\n",
       "  <tbody>\n",
       "    <tr>\n",
       "      <th>0</th>\n",
       "      <td>unaliased_question</td>\n",
       "      <td>0.74</td>\n",
       "    </tr>\n",
       "  </tbody>\n",
       "</table>\n",
       "</div>"
      ],
      "text/plain": [
       "         question_key  llm_accuracy\n",
       "0  unaliased_question          0.74"
      ]
     },
     "execution_count": 11,
     "metadata": {},
     "output_type": "execute_result"
    }
   ],
   "source": [
    "# macro_averaging(df, multi_level_averaging=[\"question_type\", \"id\"], metrics=[ \"is_num\", \"abs_diff\", \"llm_accuracy\"]).round(2)\n",
    "macro_averaging(df[(df[\"question_key\"] == \"unaliased_question\")], multi_level_averaging=[\"question_key\", \"id\"], metrics=[ \"llm_accuracy\"]).round(2) #  & (df[\"question_type\"] == \"efficacy-ood\")\n",
    "# macro_averaging(df[df[\"question_key\"] == \"unaliased_question\"], multi_level_averaging=[\"question_key\", \"id\"], metrics=[ \"llm_accuracy\"]).round(2)"
   ]
  },
  {
   "cell_type": "code",
   "execution_count": 12,
   "metadata": {},
   "outputs": [
    {
     "data": {
      "text/plain": [
       "0.7111111111111111"
      ]
     },
     "execution_count": 12,
     "metadata": {},
     "output_type": "execute_result"
    }
   ],
   "source": [
    "(0.74 - 0.1) / 0.9"
   ]
  },
  {
   "cell_type": "code",
   "execution_count": 43,
   "metadata": {},
   "outputs": [
    {
     "data": {
      "text/html": [
       "<div>\n",
       "<style scoped>\n",
       "    .dataframe tbody tr th:only-of-type {\n",
       "        vertical-align: middle;\n",
       "    }\n",
       "\n",
       "    .dataframe tbody tr th {\n",
       "        vertical-align: top;\n",
       "    }\n",
       "\n",
       "    .dataframe thead th {\n",
       "        text-align: right;\n",
       "    }\n",
       "</style>\n",
       "<table border=\"1\" class=\"dataframe\">\n",
       "  <thead>\n",
       "    <tr style=\"text-align: right;\">\n",
       "      <th></th>\n",
       "      <th>id</th>\n",
       "      <th>predicted_answer_idx</th>\n",
       "      <th>exact_match</th>\n",
       "      <th>llm_accuracy</th>\n",
       "    </tr>\n",
       "  </thead>\n",
       "  <tbody>\n",
       "    <tr>\n",
       "      <th>count</th>\n",
       "      <td>1123.000000</td>\n",
       "      <td>1123.0</td>\n",
       "      <td>1123.000000</td>\n",
       "      <td>1123.000000</td>\n",
       "    </tr>\n",
       "    <tr>\n",
       "      <th>mean</th>\n",
       "      <td>49.625111</td>\n",
       "      <td>0.0</td>\n",
       "      <td>0.096171</td>\n",
       "      <td>0.230721</td>\n",
       "    </tr>\n",
       "    <tr>\n",
       "      <th>std</th>\n",
       "      <td>28.962653</td>\n",
       "      <td>0.0</td>\n",
       "      <td>0.294957</td>\n",
       "      <td>0.304790</td>\n",
       "    </tr>\n",
       "    <tr>\n",
       "      <th>min</th>\n",
       "      <td>0.000000</td>\n",
       "      <td>0.0</td>\n",
       "      <td>0.000000</td>\n",
       "      <td>0.100000</td>\n",
       "    </tr>\n",
       "    <tr>\n",
       "      <th>25%</th>\n",
       "      <td>24.000000</td>\n",
       "      <td>0.0</td>\n",
       "      <td>0.000000</td>\n",
       "      <td>0.100000</td>\n",
       "    </tr>\n",
       "    <tr>\n",
       "      <th>50%</th>\n",
       "      <td>50.000000</td>\n",
       "      <td>0.0</td>\n",
       "      <td>0.000000</td>\n",
       "      <td>0.100000</td>\n",
       "    </tr>\n",
       "    <tr>\n",
       "      <th>75%</th>\n",
       "      <td>75.000000</td>\n",
       "      <td>0.0</td>\n",
       "      <td>0.000000</td>\n",
       "      <td>0.100000</td>\n",
       "    </tr>\n",
       "    <tr>\n",
       "      <th>max</th>\n",
       "      <td>99.000000</td>\n",
       "      <td>0.0</td>\n",
       "      <td>1.000000</td>\n",
       "      <td>1.000000</td>\n",
       "    </tr>\n",
       "  </tbody>\n",
       "</table>\n",
       "</div>"
      ],
      "text/plain": [
       "                id  predicted_answer_idx  exact_match  llm_accuracy\n",
       "count  1123.000000                1123.0  1123.000000   1123.000000\n",
       "mean     49.625111                   0.0     0.096171      0.230721\n",
       "std      28.962653                   0.0     0.294957      0.304790\n",
       "min       0.000000                   0.0     0.000000      0.100000\n",
       "25%      24.000000                   0.0     0.000000      0.100000\n",
       "50%      50.000000                   0.0     0.000000      0.100000\n",
       "75%      75.000000                   0.0     0.000000      0.100000\n",
       "max      99.000000                   0.0     1.000000      1.000000"
      ]
     },
     "execution_count": 43,
     "metadata": {},
     "output_type": "execute_result"
    }
   ],
   "source": [
    "# len(df[(df[\"question_key\"] == \"question\") & (df[\"question_type\"] == \"efficacy-ood\")])\n",
    "df[(df[\"question_key\"] == \"question\") & (df[\"question_type\"] == \"efficacy-ood\")].describe()"
   ]
  },
  {
   "cell_type": "code",
   "execution_count": 27,
   "metadata": {},
   "outputs": [
    {
     "data": {
      "text/html": [
       "<div>\n",
       "<style scoped>\n",
       "    .dataframe tbody tr th:only-of-type {\n",
       "        vertical-align: middle;\n",
       "    }\n",
       "\n",
       "    .dataframe tbody tr th {\n",
       "        vertical-align: top;\n",
       "    }\n",
       "\n",
       "    .dataframe thead th {\n",
       "        text-align: right;\n",
       "    }\n",
       "</style>\n",
       "<table border=\"1\" class=\"dataframe\">\n",
       "  <thead>\n",
       "    <tr style=\"text-align: right;\">\n",
       "      <th></th>\n",
       "      <th>question_key</th>\n",
       "      <th>llm_accuracy</th>\n",
       "    </tr>\n",
       "  </thead>\n",
       "  <tbody>\n",
       "    <tr>\n",
       "      <th>0</th>\n",
       "      <td>question</td>\n",
       "      <td>0.2</td>\n",
       "    </tr>\n",
       "  </tbody>\n",
       "</table>\n",
       "</div>"
      ],
      "text/plain": [
       "  question_key  llm_accuracy\n",
       "0     question           0.2"
      ]
     },
     "execution_count": 27,
     "metadata": {},
     "output_type": "execute_result"
    }
   ],
   "source": [
    "macro_averaging(df[(df[\"question_key\"] == \"question\") & (df[\"question_type\"] == \"efficacy-ood\")], multi_level_averaging=[\"question_key\", \"id\"], metrics=[ \"llm_accuracy\"]).round(2)"
   ]
  },
  {
   "cell_type": "code",
   "execution_count": null,
   "metadata": {},
   "outputs": [],
   "source": []
  },
  {
   "cell_type": "code",
   "execution_count": 26,
   "metadata": {},
   "outputs": [
    {
     "data": {
      "text/plain": [
       "61"
      ]
     },
     "execution_count": 26,
     "metadata": {},
     "output_type": "execute_result"
    }
   ],
   "source": [
    "valid_df_content = []\n",
    "for i in range(len(df)):\n",
    "    r = df.iloc[i]\n",
    "    if any(x in r[\"predicted_answer\"].lower() for x in [\"yes\", \"no\"]):\n",
    "        valid_df_content.append(r)\n",
    "valid_df = pd.DataFrame(valid_df_content)\n",
    "len(valid_df)"
   ]
  },
  {
   "cell_type": "code",
   "execution_count": 126,
   "metadata": {},
   "outputs": [
    {
     "data": {
      "text/html": [
       "<div>\n",
       "<style scoped>\n",
       "    .dataframe tbody tr th:only-of-type {\n",
       "        vertical-align: middle;\n",
       "    }\n",
       "\n",
       "    .dataframe tbody tr th {\n",
       "        vertical-align: top;\n",
       "    }\n",
       "\n",
       "    .dataframe thead th {\n",
       "        text-align: right;\n",
       "    }\n",
       "</style>\n",
       "<table border=\"1\" class=\"dataframe\">\n",
       "  <thead>\n",
       "    <tr style=\"text-align: right;\">\n",
       "      <th></th>\n",
       "      <th>question_tag</th>\n",
       "      <th>[A]|[Q] Acc EM</th>\n",
       "      <th>[A]|[Q] Acc PM</th>\n",
       "      <th>exact_match</th>\n",
       "      <th>llm_accuracy</th>\n",
       "    </tr>\n",
       "  </thead>\n",
       "  <tbody>\n",
       "    <tr>\n",
       "      <th>0</th>\n",
       "      <td>ood_efficacy_border</td>\n",
       "      <td>0.00</td>\n",
       "      <td>0.50</td>\n",
       "      <td>0.00</td>\n",
       "      <td>0.52</td>\n",
       "    </tr>\n",
       "    <tr>\n",
       "      <th>1</th>\n",
       "      <td>ood_efficacy_non_border</td>\n",
       "      <td>0.14</td>\n",
       "      <td>0.57</td>\n",
       "      <td>0.14</td>\n",
       "      <td>0.23</td>\n",
       "    </tr>\n",
       "  </tbody>\n",
       "</table>\n",
       "</div>"
      ],
      "text/plain": [
       "              question_tag  [A]|[Q] Acc EM  [A]|[Q] Acc PM  exact_match  \\\n",
       "0      ood_efficacy_border            0.00            0.50         0.00   \n",
       "1  ood_efficacy_non_border            0.14            0.57         0.14   \n",
       "\n",
       "   llm_accuracy  \n",
       "0          0.52  \n",
       "1          0.23  "
      ]
     },
     "execution_count": 126,
     "metadata": {},
     "output_type": "execute_result"
    }
   ],
   "source": [
    "macro_averaging(valid_df, multi_level_averaging=[\"question_tag\", \"id\"], metrics=[\"[A]|[Q] Acc EM\", \"[A]|[Q] Acc PM\", \"exact_match\", \"llm_accuracy\"]).round(2)"
   ]
  },
  {
   "cell_type": "code",
   "execution_count": 101,
   "metadata": {},
   "outputs": [
    {
     "data": {
      "text/html": [
       "<div>\n",
       "<style scoped>\n",
       "    .dataframe tbody tr th:only-of-type {\n",
       "        vertical-align: middle;\n",
       "    }\n",
       "\n",
       "    .dataframe tbody tr th {\n",
       "        vertical-align: top;\n",
       "    }\n",
       "\n",
       "    .dataframe thead th {\n",
       "        text-align: right;\n",
       "    }\n",
       "</style>\n",
       "<table border=\"1\" class=\"dataframe\">\n",
       "  <thead>\n",
       "    <tr style=\"text-align: right;\">\n",
       "      <th></th>\n",
       "      <th>[A]|[Q] Acc EM</th>\n",
       "      <th>[A]|[Q] Acc PM</th>\n",
       "      <th>exact_match</th>\n",
       "      <th>llm_accuracy</th>\n",
       "    </tr>\n",
       "  </thead>\n",
       "  <tbody>\n",
       "    <tr>\n",
       "      <th>count</th>\n",
       "      <td>31.0</td>\n",
       "      <td>31.00</td>\n",
       "      <td>31.0</td>\n",
       "      <td>31.00</td>\n",
       "    </tr>\n",
       "    <tr>\n",
       "      <th>mean</th>\n",
       "      <td>0.0</td>\n",
       "      <td>0.48</td>\n",
       "      <td>0.0</td>\n",
       "      <td>0.65</td>\n",
       "    </tr>\n",
       "    <tr>\n",
       "      <th>std</th>\n",
       "      <td>0.0</td>\n",
       "      <td>0.09</td>\n",
       "      <td>0.0</td>\n",
       "      <td>0.43</td>\n",
       "    </tr>\n",
       "    <tr>\n",
       "      <th>min</th>\n",
       "      <td>0.0</td>\n",
       "      <td>0.00</td>\n",
       "      <td>0.0</td>\n",
       "      <td>0.10</td>\n",
       "    </tr>\n",
       "    <tr>\n",
       "      <th>25%</th>\n",
       "      <td>0.0</td>\n",
       "      <td>0.50</td>\n",
       "      <td>0.0</td>\n",
       "      <td>0.10</td>\n",
       "    </tr>\n",
       "    <tr>\n",
       "      <th>50%</th>\n",
       "      <td>0.0</td>\n",
       "      <td>0.50</td>\n",
       "      <td>0.0</td>\n",
       "      <td>1.00</td>\n",
       "    </tr>\n",
       "    <tr>\n",
       "      <th>75%</th>\n",
       "      <td>0.0</td>\n",
       "      <td>0.50</td>\n",
       "      <td>0.0</td>\n",
       "      <td>1.00</td>\n",
       "    </tr>\n",
       "    <tr>\n",
       "      <th>max</th>\n",
       "      <td>0.0</td>\n",
       "      <td>0.50</td>\n",
       "      <td>0.0</td>\n",
       "      <td>1.00</td>\n",
       "    </tr>\n",
       "  </tbody>\n",
       "</table>\n",
       "</div>"
      ],
      "text/plain": [
       "       [A]|[Q] Acc EM  [A]|[Q] Acc PM  exact_match  llm_accuracy\n",
       "count            31.0           31.00         31.0         31.00\n",
       "mean              0.0            0.48          0.0          0.65\n",
       "std               0.0            0.09          0.0          0.43\n",
       "min               0.0            0.00          0.0          0.10\n",
       "25%               0.0            0.50          0.0          0.10\n",
       "50%               0.0            0.50          0.0          1.00\n",
       "75%               0.0            0.50          0.0          1.00\n",
       "max               0.0            0.50          0.0          1.00"
      ]
     },
     "execution_count": 101,
     "metadata": {},
     "output_type": "execute_result"
    }
   ],
   "source": [
    "valid_df.describe()[[\"[A]|[Q] Acc EM\", \"[A]|[Q] Acc PM\", \"exact_match\", \"llm_accuracy\",]].round(2)"
   ]
  },
  {
   "cell_type": "code",
   "execution_count": 184,
   "metadata": {},
   "outputs": [
    {
     "name": "stdout",
     "output_type": "stream",
     "text": [
      "multi_hop_efficacy_q0: 999\n",
      "single_hop_efficacy_q0: 802\n",
      "single_hop_efficacy_q1: 744\n"
     ]
    }
   ],
   "source": [
    "for q_tag, q_df in df[df[\"stage\"] == \"pre-edit\"].groupby(\"question_tag\"):\n",
    "    print(q_tag + \":\", sum(isinstance(x, str) for x in q_df[\"predicted_answer\"].to_list()))"
   ]
  },
  {
   "cell_type": "code",
   "execution_count": 45,
   "metadata": {},
   "outputs": [],
   "source": [
    "dev_ids = [ex[\"id\"] for ex in io.load_jsonlines(f\"{vars.DATA_DIR}/musique_mend/2hop_musique_ans_v1.0_dev.jsonl\")[:1000]]"
   ]
  },
  {
   "cell_type": "code",
   "execution_count": 151,
   "metadata": {},
   "outputs": [
    {
     "data": {
      "text/plain": [
       "6384"
      ]
     },
     "execution_count": 151,
     "metadata": {},
     "output_type": "execute_result"
    }
   ],
   "source": [
    "save_dir = \"/u/zliu/datastor1/mend/debug_exp_output/Llama-3.2-1B-common-date-year-after-eos-sft_clm-baseline_lr=1e-05_epoch=4.0_tunable-params=all/individual_results_id+ood_v2_text_w-icl=True\"\n",
    "all_df = pd.concat([pd.read_excel(f) for f in glob(f\"{save_dir}/*.xlsx\", recursive=True)])\n",
    "len(all_df)"
   ]
  },
  {
   "cell_type": "code",
   "execution_count": 152,
   "metadata": {},
   "outputs": [],
   "source": [
    "all_df.to_excel(f\"{save_dir}/../all_results_id+ood_v2_text_w-icl=True.xlsx\", index=False)"
   ]
  },
  {
   "cell_type": "code",
   "execution_count": 6,
   "metadata": {},
   "outputs": [],
   "source": [
    "all_df[\"is_num\"] = all_df[\"is_num\"].astype(float)"
   ]
  },
  {
   "cell_type": "code",
   "execution_count": null,
   "metadata": {},
   "outputs": [
    {
     "data": {
      "text/html": [
       "<div>\n",
       "<style scoped>\n",
       "    .dataframe tbody tr th:only-of-type {\n",
       "        vertical-align: middle;\n",
       "    }\n",
       "\n",
       "    .dataframe tbody tr th {\n",
       "        vertical-align: top;\n",
       "    }\n",
       "\n",
       "    .dataframe thead th {\n",
       "        text-align: right;\n",
       "    }\n",
       "</style>\n",
       "<table border=\"1\" class=\"dataframe\">\n",
       "  <thead>\n",
       "    <tr style=\"text-align: right;\">\n",
       "      <th></th>\n",
       "      <th>id</th>\n",
       "      <th>answer</th>\n",
       "      <th>predicted_answer_idx</th>\n",
       "      <th>exact_match</th>\n",
       "      <th>is_num</th>\n",
       "      <th>abs_diff</th>\n",
       "      <th>diff</th>\n",
       "      <th>[A]|[Q] Acc EM</th>\n",
       "      <th>[A]|[Q] Acc PM</th>\n",
       "      <th>[Q][A] Acc EM</th>\n",
       "      <th>[Q][A] Acc PM</th>\n",
       "    </tr>\n",
       "  </thead>\n",
       "  <tbody>\n",
       "    <tr>\n",
       "      <th>count</th>\n",
       "      <td>100.000000</td>\n",
       "      <td>100.000000</td>\n",
       "      <td>100.0</td>\n",
       "      <td>100.000000</td>\n",
       "      <td>100.000000</td>\n",
       "      <td>73.000000</td>\n",
       "      <td>73.000000</td>\n",
       "      <td>100.000000</td>\n",
       "      <td>100.000000</td>\n",
       "      <td>100.0</td>\n",
       "      <td>100.000000</td>\n",
       "    </tr>\n",
       "    <tr>\n",
       "      <th>mean</th>\n",
       "      <td>49.500000</td>\n",
       "      <td>1957.310000</td>\n",
       "      <td>0.0</td>\n",
       "      <td>0.310000</td>\n",
       "      <td>0.730000</td>\n",
       "      <td>13.493151</td>\n",
       "      <td>8.041096</td>\n",
       "      <td>0.300000</td>\n",
       "      <td>0.790000</td>\n",
       "      <td>0.0</td>\n",
       "      <td>0.438087</td>\n",
       "    </tr>\n",
       "    <tr>\n",
       "      <th>std</th>\n",
       "      <td>29.011492</td>\n",
       "      <td>30.458017</td>\n",
       "      <td>0.0</td>\n",
       "      <td>0.464823</td>\n",
       "      <td>0.446196</td>\n",
       "      <td>15.383183</td>\n",
       "      <td>18.859450</td>\n",
       "      <td>0.460566</td>\n",
       "      <td>0.161746</td>\n",
       "      <td>0.0</td>\n",
       "      <td>0.068536</td>\n",
       "    </tr>\n",
       "    <tr>\n",
       "      <th>min</th>\n",
       "      <td>0.000000</td>\n",
       "      <td>1904.000000</td>\n",
       "      <td>0.0</td>\n",
       "      <td>0.000000</td>\n",
       "      <td>0.000000</td>\n",
       "      <td>0.000000</td>\n",
       "      <td>-48.000000</td>\n",
       "      <td>0.000000</td>\n",
       "      <td>0.500000</td>\n",
       "      <td>0.0</td>\n",
       "      <td>0.285714</td>\n",
       "    </tr>\n",
       "    <tr>\n",
       "      <th>25%</th>\n",
       "      <td>24.750000</td>\n",
       "      <td>1932.750000</td>\n",
       "      <td>0.0</td>\n",
       "      <td>0.000000</td>\n",
       "      <td>0.000000</td>\n",
       "      <td>0.000000</td>\n",
       "      <td>0.000000</td>\n",
       "      <td>0.000000</td>\n",
       "      <td>0.750000</td>\n",
       "      <td>0.0</td>\n",
       "      <td>0.418731</td>\n",
       "    </tr>\n",
       "    <tr>\n",
       "      <th>50%</th>\n",
       "      <td>49.500000</td>\n",
       "      <td>1954.500000</td>\n",
       "      <td>0.0</td>\n",
       "      <td>0.000000</td>\n",
       "      <td>1.000000</td>\n",
       "      <td>10.000000</td>\n",
       "      <td>0.000000</td>\n",
       "      <td>0.000000</td>\n",
       "      <td>0.750000</td>\n",
       "      <td>0.0</td>\n",
       "      <td>0.428571</td>\n",
       "    </tr>\n",
       "    <tr>\n",
       "      <th>75%</th>\n",
       "      <td>74.250000</td>\n",
       "      <td>1977.500000</td>\n",
       "      <td>0.0</td>\n",
       "      <td>1.000000</td>\n",
       "      <td>1.000000</td>\n",
       "      <td>20.000000</td>\n",
       "      <td>19.000000</td>\n",
       "      <td>1.000000</td>\n",
       "      <td>1.000000</td>\n",
       "      <td>0.0</td>\n",
       "      <td>0.500000</td>\n",
       "    </tr>\n",
       "    <tr>\n",
       "      <th>max</th>\n",
       "      <td>99.000000</td>\n",
       "      <td>2022.000000</td>\n",
       "      <td>0.0</td>\n",
       "      <td>1.000000</td>\n",
       "      <td>1.000000</td>\n",
       "      <td>61.000000</td>\n",
       "      <td>61.000000</td>\n",
       "      <td>1.000000</td>\n",
       "      <td>1.000000</td>\n",
       "      <td>0.0</td>\n",
       "      <td>0.611111</td>\n",
       "    </tr>\n",
       "  </tbody>\n",
       "</table>\n",
       "</div>"
      ],
      "text/plain": [
       "               id       answer  predicted_answer_idx  exact_match      is_num  \\\n",
       "count  100.000000   100.000000                 100.0   100.000000  100.000000   \n",
       "mean    49.500000  1957.310000                   0.0     0.310000    0.730000   \n",
       "std     29.011492    30.458017                   0.0     0.464823    0.446196   \n",
       "min      0.000000  1904.000000                   0.0     0.000000    0.000000   \n",
       "25%     24.750000  1932.750000                   0.0     0.000000    0.000000   \n",
       "50%     49.500000  1954.500000                   0.0     0.000000    1.000000   \n",
       "75%     74.250000  1977.500000                   0.0     1.000000    1.000000   \n",
       "max     99.000000  2022.000000                   0.0     1.000000    1.000000   \n",
       "\n",
       "        abs_diff       diff  [A]|[Q] Acc EM  [A]|[Q] Acc PM  [Q][A] Acc EM  \\\n",
       "count  73.000000  73.000000      100.000000      100.000000          100.0   \n",
       "mean   13.493151   8.041096        0.300000        0.790000            0.0   \n",
       "std    15.383183  18.859450        0.460566        0.161746            0.0   \n",
       "min     0.000000 -48.000000        0.000000        0.500000            0.0   \n",
       "25%     0.000000   0.000000        0.000000        0.750000            0.0   \n",
       "50%    10.000000   0.000000        0.000000        0.750000            0.0   \n",
       "75%    20.000000  19.000000        1.000000        1.000000            0.0   \n",
       "max    61.000000  61.000000        1.000000        1.000000            0.0   \n",
       "\n",
       "       [Q][A] Acc PM  \n",
       "count     100.000000  \n",
       "mean        0.438087  \n",
       "std         0.068536  \n",
       "min         0.285714  \n",
       "25%         0.418731  \n",
       "50%         0.428571  \n",
       "75%         0.500000  \n",
       "max         0.611111  "
      ]
     },
     "execution_count": 7,
     "metadata": {},
     "output_type": "execute_result"
    }
   ],
   "source": [
    "all_df.describe()"
   ]
  },
  {
   "cell_type": "code",
   "execution_count": 20,
   "metadata": {},
   "outputs": [
    {
     "data": {
      "text/html": [
       "<div>\n",
       "<style scoped>\n",
       "    .dataframe tbody tr th:only-of-type {\n",
       "        vertical-align: middle;\n",
       "    }\n",
       "\n",
       "    .dataframe tbody tr th {\n",
       "        vertical-align: top;\n",
       "    }\n",
       "\n",
       "    .dataframe thead th {\n",
       "        text-align: right;\n",
       "    }\n",
       "</style>\n",
       "<table border=\"1\" class=\"dataframe\">\n",
       "  <thead>\n",
       "    <tr style=\"text-align: right;\">\n",
       "      <th></th>\n",
       "      <th>question_type</th>\n",
       "      <th>[A]|[Q] Acc EM</th>\n",
       "      <th>[A]|[Q] Acc PM</th>\n",
       "      <th>exact_match</th>\n",
       "      <th>is_num</th>\n",
       "      <th>abs_diff</th>\n",
       "      <th>diff</th>\n",
       "    </tr>\n",
       "  </thead>\n",
       "  <tbody>\n",
       "    <tr>\n",
       "      <th>0</th>\n",
       "      <td>efficacy</td>\n",
       "      <td>0.00</td>\n",
       "      <td>0.58</td>\n",
       "      <td>0.00</td>\n",
       "      <td>0.77</td>\n",
       "      <td>13.68</td>\n",
       "      <td>9.57</td>\n",
       "    </tr>\n",
       "    <tr>\n",
       "      <th>1</th>\n",
       "      <td>specificity</td>\n",
       "      <td>0.23</td>\n",
       "      <td>0.76</td>\n",
       "      <td>0.23</td>\n",
       "      <td>1.00</td>\n",
       "      <td>6.99</td>\n",
       "      <td>1.22</td>\n",
       "    </tr>\n",
       "  </tbody>\n",
       "</table>\n",
       "</div>"
      ],
      "text/plain": [
       "  question_type  [A]|[Q] Acc EM  [A]|[Q] Acc PM  exact_match  is_num  \\\n",
       "0      efficacy            0.00            0.58         0.00    0.77   \n",
       "1   specificity            0.23            0.76         0.23    1.00   \n",
       "\n",
       "   abs_diff  diff  \n",
       "0     13.68  9.57  \n",
       "1      6.99  1.22  "
      ]
     },
     "execution_count": 20,
     "metadata": {},
     "output_type": "execute_result"
    }
   ],
   "source": [
    "(macro_averaging(all_df, multi_level_averaging=[\"question_type\", \"id\"], metrics=[\"[A]|[Q] Acc EM\", \"[A]|[Q] Acc PM\", ] + [\"exact_match\", \"is_num\", \"abs_diff\", \"diff\"])).round(2) # llm_accuracy '[Q][A] Acc EM', \"[Q][A] Acc PM\""
   ]
  },
  {
   "cell_type": "code",
   "execution_count": 25,
   "metadata": {},
   "outputs": [],
   "source": [
    "efficacy_df = all_df[all_df[\"question_type\"] == \"efficacy\"]"
   ]
  },
  {
   "cell_type": "code",
   "execution_count": 30,
   "metadata": {},
   "outputs": [],
   "source": [
    "nan_efficacy_df = efficacy_df[efficacy_df[\"is_num\"] == 0]"
   ]
  },
  {
   "cell_type": "code",
   "execution_count": 12,
   "metadata": {},
   "outputs": [],
   "source": [
    "# for i, row in nan_efficacy_df.iterrows():\n",
    "#     print(row[\"question\"])\n",
    "#     print(row[\"predicted_answer\"])\n",
    "#     print()"
   ]
  },
  {
   "cell_type": "code",
   "execution_count": 13,
   "metadata": {},
   "outputs": [],
   "source": [
    "# born_question = 0\n",
    "# for i, row in efficacy_df.iterrows():\n",
    "#     born_question += \"born\" in row[\"question\"]\n",
    "#     print(row[\"question\"])\n",
    "#     print(row[\"predicted_answer\"])\n",
    "#     print()"
   ]
  },
  {
   "cell_type": "code",
   "execution_count": 24,
   "metadata": {},
   "outputs": [],
   "source": [
    "mend_1k_n_question_efficacy = pd.read_excel(\"/u/zliu/datastor1/mend/debug_exp_output/common-date-year-after_1K/bio_syn/mend_eval_loss=clm_input=seen_n=100_prompt=no_w-gen_wo-icl_e_n-question.xlsx\")"
   ]
  },
  {
   "cell_type": "code",
   "execution_count": 25,
   "metadata": {},
   "outputs": [],
   "source": [
    "mend_1k_n_1_question_efficacy = pd.read_excel(\"/u/zliu/datastor1/mend/debug_exp_output/common-date-year-after_1K/bio_syn/mend_eval_loss=clm_input=seen_n=100_prompt=no_w-gen_wo-icl_e_n+1-question.xlsx\")"
   ]
  },
  {
   "cell_type": "code",
   "execution_count": 26,
   "metadata": {},
   "outputs": [
    {
     "data": {
      "text/plain": [
       "14"
      ]
     },
     "execution_count": 26,
     "metadata": {},
     "output_type": "execute_result"
    }
   ],
   "source": [
    "len(mend_1k_n_question_efficacy[mend_1k_n_question_efficacy[\"exact_match\"] == 1])"
   ]
  },
  {
   "cell_type": "code",
   "execution_count": 36,
   "metadata": {},
   "outputs": [],
   "source": [
    "mend_1k_n_question_correct_ids = set((mend_1k_n_question_efficacy[mend_1k_n_question_efficacy[\"exact_match\"] == 1][\"id\"].to_list()))"
   ]
  },
  {
   "cell_type": "code",
   "execution_count": 35,
   "metadata": {},
   "outputs": [],
   "source": [
    "mend_1k_n_1_question_correct_ids = set(mend_1k_n_1_question_efficacy[mend_1k_n_1_question_efficacy[\"exact_match\"] == 1][\"id\"].to_list())"
   ]
  },
  {
   "cell_type": "code",
   "execution_count": 37,
   "metadata": {},
   "outputs": [
    {
     "data": {
      "text/plain": [
       "{20, 28, 35, 38, 41, 46, 48, 50, 54, 56, 76, 82, 84, 89}"
      ]
     },
     "execution_count": 37,
     "metadata": {},
     "output_type": "execute_result"
    }
   ],
   "source": [
    "mend_1k_n_question_correct_ids"
   ]
  },
  {
   "cell_type": "code",
   "execution_count": 39,
   "metadata": {},
   "outputs": [
    {
     "data": {
      "text/plain": [
       "{89}"
      ]
     },
     "execution_count": 39,
     "metadata": {},
     "output_type": "execute_result"
    }
   ],
   "source": [
    "mend_1k_n_1_question_correct_ids.intersection(mend_1k_n_question_correct_ids)"
   ]
  },
  {
   "cell_type": "code",
   "execution_count": 40,
   "metadata": {},
   "outputs": [
    {
     "data": {
      "text/plain": [
       "62"
      ]
     },
     "execution_count": 40,
     "metadata": {},
     "output_type": "execute_result"
    }
   ],
   "source": [
    "len(mend_1k_n_1_question_correct_ids)"
   ]
  },
  {
   "cell_type": "markdown",
   "metadata": {},
   "source": [
    "# OOD knowledge v2"
   ]
  },
  {
   "cell_type": "code",
   "execution_count": null,
   "metadata": {},
   "outputs": [],
   "source": [
    "# sft_train = io.load_jsonlines(f\"{vars.DATA_DIR}/debug_meta_train/common_country_data/train_country.jsonl\") + io.load_jsonlines(f\"{vars.DATA_DIR}/debug_meta_train/common_country_data/train_continent.jsonl\")\n",
    "# sft_valid = io.load_jsonlines(f\"{vars.DATA_DIR}/debug_meta_train/common_country_data/valid_country.jsonl\") + io.load_jsonlines(f\"{vars.DATA_DIR}/debug_meta_train/common_country_data/valid_continent.jsonl\")\n",
    "\n",
    "# # io.dump_jsonlines(sft_train, f\"{vars.DATA_DIR}/debug_meta_train/common_country_data/train.jsonl\")\n",
    "# # io.dump_jsonlines(sft_valid, f\"{vars.DATA_DIR}/debug_meta_train/common_country_data/valid.jsonl\")"
   ]
  },
  {
   "cell_type": "code",
   "execution_count": null,
   "metadata": {},
   "outputs": [],
   "source": []
  },
  {
   "cell_type": "code",
   "execution_count": 41,
   "metadata": {},
   "outputs": [],
   "source": [
    "# df = pd.read_excel(\"/datastor1/zliu/mend/debug_exp_output/llama3.2-1B-common-date-year-after-eos-sft/ood_v2_prefilter/base_n=1085_prompt=no_w-gen_wo-icl_ice=False.xlsx\")\n",
    "model_name = \"llama3.2-1B-eos-sft\"\n",
    "model_name = \"llama3.2-1B-eos-sft-country-template-format-lr1e-6\"\n",
    "# model_name = \"llama3.2-1B-common-country-eos-sft\"\n",
    "# model_name = \"llama3.2-1B\"\n",
    "add_icl = False\n",
    "\n",
    "df = pd.read_excel(f\"/u/zliu/datastor1/mend/debug_exp_output/{model_name}/ood_v2_prefilter/base_n=1085_prompt=no_w-gen_w{'' if add_icl else 'o'}-icl_ice=False.xlsx\")\n",
    "df = df.drop_duplicates(subset=['question'], keep='first')\n",
    "\n",
    "\n",
    "place_ood_templates = [\n",
    "    \"What is the capital of {country}?\",\n",
    "    'What language has the most speakers in {country}?',\n",
    "    \"What is the currency of {country}?\",\n",
    "    \"Which ethnic group is the largest in {country}?\",\n",
    "    \"Which country is the largest in {continent} by area?\",\n",
    "    \"Which religion has the most followers in {country}?\"\n",
    "]\n",
    "place_template2template_tag = {\n",
    "    \"What is the capital of {country}?\": \"country->capital\",\n",
    "    'What language has the most speakers in {country}?': \"country->language\",\n",
    "    \"What is the currency of {country}?\": \"country->currency\",\n",
    "    \"Which ethnic group is the largest in {country}?\": \"country->ethnic_group\",\n",
    "    \"Which country is the largest in {continent} by area?\": \"continent->largest_country\",\n",
    "    \"Which religion has the most followers in {country}?\": \"country->religion\",\n",
    "}\n",
    "\n",
    "# \n",
    "df = df[df[\"domain\"] == \"country\"]\n",
    "\n",
    "\n",
    "df[\"template_tag\"] = df.apply(lambda r: place_template2template_tag[r[\"template\"]], axis=1)\n",
    "selected_columns_ood_df = df[[\"question\", \"answer\", \"predicted_answer\", \"template_tag\", \"domain\", \"llm_accuracy\"]]"
   ]
  },
  {
   "cell_type": "code",
   "execution_count": 42,
   "metadata": {},
   "outputs": [],
   "source": [
    "country_train_df = pd.read_excel(f\"/u/zliu/datastor1/mend/debug_exp_output/{model_name}/common_train/base_n=584_prompt=no_w-gen_w{'' if add_icl else 'o'}-icl_ice=False.xlsx\")\n",
    "country_dev_df = pd.read_excel(f\"/u/zliu/datastor1/mend/debug_exp_output/{model_name}/common/base_n=81_prompt=no_w-gen_w{'' if add_icl else 'o'}-icl_ice=False.xlsx\")\n",
    "country_df = pd.concat([country_train_df, country_dev_df]).drop_duplicates(subset=['question'], keep='first')\n",
    "country_df[\"template_tag\"] = country_df.apply(lambda r: \"city->country\" if \"country\" in r[\"question\"] else \"country->continent\", axis=1)\n",
    "# country_df[\"template_tag\"] = country_df.apply(lambda r: \"city->country\" if \"country\" in r[\"question\"].split(\"\\n\")[-2] else \"country->continent\", axis=1)\n",
    "country_df[\"domain\"] = \"country\"\n",
    "selected_columns_country_df = country_df[[\"question\", \"answer\", \"predicted_answer\", \"template_tag\", \"domain\", \"llm_accuracy\"]]"
   ]
  },
  {
   "cell_type": "code",
   "execution_count": 43,
   "metadata": {},
   "outputs": [
    {
     "data": {
      "text/plain": [
       "'What country is Accra in?'"
      ]
     },
     "execution_count": 43,
     "metadata": {},
     "output_type": "execute_result"
    }
   ],
   "source": [
    "selected_columns_country_df.iloc[0][\"question\"]"
   ]
  },
  {
   "cell_type": "code",
   "execution_count": 44,
   "metadata": {},
   "outputs": [
    {
     "data": {
      "text/plain": [
       "336"
      ]
     },
     "execution_count": 44,
     "metadata": {},
     "output_type": "execute_result"
    }
   ],
   "source": [
    "len(df.drop_duplicates(subset=['question'], keep='first'))"
   ]
  },
  {
   "cell_type": "code",
   "execution_count": 45,
   "metadata": {},
   "outputs": [
    {
     "data": {
      "text/html": [
       "<div>\n",
       "<style scoped>\n",
       "    .dataframe tbody tr th:only-of-type {\n",
       "        vertical-align: middle;\n",
       "    }\n",
       "\n",
       "    .dataframe tbody tr th {\n",
       "        vertical-align: top;\n",
       "    }\n",
       "\n",
       "    .dataframe thead th {\n",
       "        text-align: right;\n",
       "    }\n",
       "</style>\n",
       "<table border=\"1\" class=\"dataframe\">\n",
       "  <thead>\n",
       "    <tr style=\"text-align: right;\">\n",
       "      <th></th>\n",
       "      <th>id</th>\n",
       "      <th>predicted_answer_idx</th>\n",
       "      <th>exact_match</th>\n",
       "      <th>abs_diff</th>\n",
       "      <th>diff</th>\n",
       "      <th>contain_ans</th>\n",
       "      <th>llm_accuracy</th>\n",
       "    </tr>\n",
       "  </thead>\n",
       "  <tbody>\n",
       "    <tr>\n",
       "      <th>count</th>\n",
       "      <td>336.000000</td>\n",
       "      <td>336.0</td>\n",
       "      <td>336.000000</td>\n",
       "      <td>0.0</td>\n",
       "      <td>0.0</td>\n",
       "      <td>336.00000</td>\n",
       "      <td>336.000000</td>\n",
       "    </tr>\n",
       "    <tr>\n",
       "      <th>mean</th>\n",
       "      <td>884.005952</td>\n",
       "      <td>0.0</td>\n",
       "      <td>0.687500</td>\n",
       "      <td>NaN</td>\n",
       "      <td>NaN</td>\n",
       "      <td>0.71131</td>\n",
       "      <td>0.891369</td>\n",
       "    </tr>\n",
       "    <tr>\n",
       "      <th>std</th>\n",
       "      <td>115.226940</td>\n",
       "      <td>0.0</td>\n",
       "      <td>0.464204</td>\n",
       "      <td>NaN</td>\n",
       "      <td>NaN</td>\n",
       "      <td>0.45383</td>\n",
       "      <td>0.260682</td>\n",
       "    </tr>\n",
       "    <tr>\n",
       "      <th>min</th>\n",
       "      <td>689.000000</td>\n",
       "      <td>0.0</td>\n",
       "      <td>0.000000</td>\n",
       "      <td>NaN</td>\n",
       "      <td>NaN</td>\n",
       "      <td>0.00000</td>\n",
       "      <td>0.100000</td>\n",
       "    </tr>\n",
       "    <tr>\n",
       "      <th>25%</th>\n",
       "      <td>783.750000</td>\n",
       "      <td>0.0</td>\n",
       "      <td>0.000000</td>\n",
       "      <td>NaN</td>\n",
       "      <td>NaN</td>\n",
       "      <td>0.00000</td>\n",
       "      <td>1.000000</td>\n",
       "    </tr>\n",
       "    <tr>\n",
       "      <th>50%</th>\n",
       "      <td>882.500000</td>\n",
       "      <td>0.0</td>\n",
       "      <td>1.000000</td>\n",
       "      <td>NaN</td>\n",
       "      <td>NaN</td>\n",
       "      <td>1.00000</td>\n",
       "      <td>1.000000</td>\n",
       "    </tr>\n",
       "    <tr>\n",
       "      <th>75%</th>\n",
       "      <td>983.250000</td>\n",
       "      <td>0.0</td>\n",
       "      <td>1.000000</td>\n",
       "      <td>NaN</td>\n",
       "      <td>NaN</td>\n",
       "      <td>1.00000</td>\n",
       "      <td>1.000000</td>\n",
       "    </tr>\n",
       "    <tr>\n",
       "      <th>max</th>\n",
       "      <td>1084.000000</td>\n",
       "      <td>0.0</td>\n",
       "      <td>1.000000</td>\n",
       "      <td>NaN</td>\n",
       "      <td>NaN</td>\n",
       "      <td>1.00000</td>\n",
       "      <td>1.000000</td>\n",
       "    </tr>\n",
       "  </tbody>\n",
       "</table>\n",
       "</div>"
      ],
      "text/plain": [
       "                id  predicted_answer_idx  exact_match  abs_diff  diff  \\\n",
       "count   336.000000                 336.0   336.000000       0.0   0.0   \n",
       "mean    884.005952                   0.0     0.687500       NaN   NaN   \n",
       "std     115.226940                   0.0     0.464204       NaN   NaN   \n",
       "min     689.000000                   0.0     0.000000       NaN   NaN   \n",
       "25%     783.750000                   0.0     0.000000       NaN   NaN   \n",
       "50%     882.500000                   0.0     1.000000       NaN   NaN   \n",
       "75%     983.250000                   0.0     1.000000       NaN   NaN   \n",
       "max    1084.000000                   0.0     1.000000       NaN   NaN   \n",
       "\n",
       "       contain_ans  llm_accuracy  \n",
       "count    336.00000    336.000000  \n",
       "mean       0.71131      0.891369  \n",
       "std        0.45383      0.260682  \n",
       "min        0.00000      0.100000  \n",
       "25%        0.00000      1.000000  \n",
       "50%        1.00000      1.000000  \n",
       "75%        1.00000      1.000000  \n",
       "max        1.00000      1.000000  "
      ]
     },
     "execution_count": 45,
     "metadata": {},
     "output_type": "execute_result"
    }
   ],
   "source": [
    "# df.head(1)\n",
    "df[df[\"domain\"] == \"country\"].describe()"
   ]
  },
  {
   "cell_type": "code",
   "execution_count": 46,
   "metadata": {},
   "outputs": [
    {
     "data": {
      "text/html": [
       "<div>\n",
       "<style scoped>\n",
       "    .dataframe tbody tr th:only-of-type {\n",
       "        vertical-align: middle;\n",
       "    }\n",
       "\n",
       "    .dataframe tbody tr th {\n",
       "        vertical-align: top;\n",
       "    }\n",
       "\n",
       "    .dataframe thead th {\n",
       "        text-align: right;\n",
       "    }\n",
       "</style>\n",
       "<table border=\"1\" class=\"dataframe\">\n",
       "  <thead>\n",
       "    <tr style=\"text-align: right;\">\n",
       "      <th></th>\n",
       "      <th>question</th>\n",
       "      <th>answer</th>\n",
       "      <th>predicted_answer</th>\n",
       "      <th>template_tag</th>\n",
       "      <th>domain</th>\n",
       "      <th>llm_accuracy</th>\n",
       "    </tr>\n",
       "  </thead>\n",
       "  <tbody>\n",
       "    <tr>\n",
       "      <th>689</th>\n",
       "      <td>What is the capital of France?</td>\n",
       "      <td>Paris</td>\n",
       "      <td>Paris</td>\n",
       "      <td>country-&gt;capital</td>\n",
       "      <td>country</td>\n",
       "      <td>1.0</td>\n",
       "    </tr>\n",
       "    <tr>\n",
       "      <th>690</th>\n",
       "      <td>What language has the most speakers in France?</td>\n",
       "      <td>French</td>\n",
       "      <td>French</td>\n",
       "      <td>country-&gt;language</td>\n",
       "      <td>country</td>\n",
       "      <td>1.0</td>\n",
       "    </tr>\n",
       "    <tr>\n",
       "      <th>691</th>\n",
       "      <td>What is the currency of France?</td>\n",
       "      <td>Euro</td>\n",
       "      <td>Euro</td>\n",
       "      <td>country-&gt;currency</td>\n",
       "      <td>country</td>\n",
       "      <td>1.0</td>\n",
       "    </tr>\n",
       "    <tr>\n",
       "      <th>692</th>\n",
       "      <td>Which ethnic group is the largest in France?</td>\n",
       "      <td>French</td>\n",
       "      <td>French</td>\n",
       "      <td>country-&gt;ethnic_group</td>\n",
       "      <td>country</td>\n",
       "      <td>1.0</td>\n",
       "    </tr>\n",
       "    <tr>\n",
       "      <th>693</th>\n",
       "      <td>Which country is the largest in Europe by area?</td>\n",
       "      <td>Russia</td>\n",
       "      <td>Russia</td>\n",
       "      <td>continent-&gt;largest_country</td>\n",
       "      <td>country</td>\n",
       "      <td>1.0</td>\n",
       "    </tr>\n",
       "    <tr>\n",
       "      <th>...</th>\n",
       "      <td>...</td>\n",
       "      <td>...</td>\n",
       "      <td>...</td>\n",
       "      <td>...</td>\n",
       "      <td>...</td>\n",
       "      <td>...</td>\n",
       "    </tr>\n",
       "    <tr>\n",
       "      <th>1080</th>\n",
       "      <td>What is the capital of French Polynesia?</td>\n",
       "      <td>Papeete</td>\n",
       "      <td>Papeete</td>\n",
       "      <td>country-&gt;capital</td>\n",
       "      <td>country</td>\n",
       "      <td>1.0</td>\n",
       "    </tr>\n",
       "    <tr>\n",
       "      <th>1081</th>\n",
       "      <td>Which religion has the most followers in Frenc...</td>\n",
       "      <td>Christianity</td>\n",
       "      <td>Roman Catholic</td>\n",
       "      <td>country-&gt;religion</td>\n",
       "      <td>country</td>\n",
       "      <td>0.7</td>\n",
       "    </tr>\n",
       "    <tr>\n",
       "      <th>1082</th>\n",
       "      <td>Which ethnic group is the largest in French Po...</td>\n",
       "      <td>Polynesians</td>\n",
       "      <td>Polynesians</td>\n",
       "      <td>country-&gt;ethnic_group</td>\n",
       "      <td>country</td>\n",
       "      <td>1.0</td>\n",
       "    </tr>\n",
       "    <tr>\n",
       "      <th>1083</th>\n",
       "      <td>What is the currency of French Polynesia?</td>\n",
       "      <td>French Pacific Franc</td>\n",
       "      <td>French Pacific Franc</td>\n",
       "      <td>country-&gt;currency</td>\n",
       "      <td>country</td>\n",
       "      <td>1.0</td>\n",
       "    </tr>\n",
       "    <tr>\n",
       "      <th>1084</th>\n",
       "      <td>What language has the most speakers in French ...</td>\n",
       "      <td>French</td>\n",
       "      <td>POLYNESIAN</td>\n",
       "      <td>country-&gt;language</td>\n",
       "      <td>country</td>\n",
       "      <td>0.1</td>\n",
       "    </tr>\n",
       "  </tbody>\n",
       "</table>\n",
       "<p>336 rows × 6 columns</p>\n",
       "</div>"
      ],
      "text/plain": [
       "                                               question                answer  \\\n",
       "689                      What is the capital of France?                 Paris   \n",
       "690      What language has the most speakers in France?                French   \n",
       "691                     What is the currency of France?                  Euro   \n",
       "692        Which ethnic group is the largest in France?                French   \n",
       "693     Which country is the largest in Europe by area?                Russia   \n",
       "...                                                 ...                   ...   \n",
       "1080           What is the capital of French Polynesia?               Papeete   \n",
       "1081  Which religion has the most followers in Frenc...          Christianity   \n",
       "1082  Which ethnic group is the largest in French Po...           Polynesians   \n",
       "1083          What is the currency of French Polynesia?  French Pacific Franc   \n",
       "1084  What language has the most speakers in French ...                French   \n",
       "\n",
       "          predicted_answer                template_tag   domain  llm_accuracy  \n",
       "689                  Paris            country->capital  country           1.0  \n",
       "690                 French           country->language  country           1.0  \n",
       "691                   Euro           country->currency  country           1.0  \n",
       "692                 French       country->ethnic_group  country           1.0  \n",
       "693                 Russia  continent->largest_country  country           1.0  \n",
       "...                    ...                         ...      ...           ...  \n",
       "1080               Papeete            country->capital  country           1.0  \n",
       "1081        Roman Catholic           country->religion  country           0.7  \n",
       "1082           Polynesians       country->ethnic_group  country           1.0  \n",
       "1083  French Pacific Franc           country->currency  country           1.0  \n",
       "1084            POLYNESIAN           country->language  country           0.1  \n",
       "\n",
       "[336 rows x 6 columns]"
      ]
     },
     "execution_count": 46,
     "metadata": {},
     "output_type": "execute_result"
    }
   ],
   "source": [
    "selected_columns_ood_df"
   ]
  },
  {
   "cell_type": "code",
   "execution_count": null,
   "metadata": {},
   "outputs": [],
   "source": []
  },
  {
   "cell_type": "code",
   "execution_count": 47,
   "metadata": {},
   "outputs": [
    {
     "data": {
      "text/html": [
       "<div>\n",
       "<style scoped>\n",
       "    .dataframe tbody tr th:only-of-type {\n",
       "        vertical-align: middle;\n",
       "    }\n",
       "\n",
       "    .dataframe tbody tr th {\n",
       "        vertical-align: top;\n",
       "    }\n",
       "\n",
       "    .dataframe thead th {\n",
       "        text-align: right;\n",
       "    }\n",
       "</style>\n",
       "<table border=\"1\" class=\"dataframe\">\n",
       "  <thead>\n",
       "    <tr style=\"text-align: right;\">\n",
       "      <th></th>\n",
       "      <th>key</th>\n",
       "      <th>count</th>\n",
       "      <th>mean</th>\n",
       "      <th>std</th>\n",
       "      <th>min</th>\n",
       "      <th>25%</th>\n",
       "      <th>50%</th>\n",
       "      <th>75%</th>\n",
       "      <th>max</th>\n",
       "    </tr>\n",
       "  </thead>\n",
       "  <tbody>\n",
       "    <tr>\n",
       "      <th>0</th>\n",
       "      <td>Algeria</td>\n",
       "      <td>5.0</td>\n",
       "      <td>0.94</td>\n",
       "      <td>0.134164</td>\n",
       "      <td>0.7</td>\n",
       "      <td>1.0</td>\n",
       "      <td>1.0</td>\n",
       "      <td>1.0</td>\n",
       "      <td>1.0</td>\n",
       "    </tr>\n",
       "    <tr>\n",
       "      <th>1</th>\n",
       "      <td>Argentina</td>\n",
       "      <td>5.0</td>\n",
       "      <td>0.86</td>\n",
       "      <td>0.313050</td>\n",
       "      <td>0.3</td>\n",
       "      <td>1.0</td>\n",
       "      <td>1.0</td>\n",
       "      <td>1.0</td>\n",
       "      <td>1.0</td>\n",
       "    </tr>\n",
       "    <tr>\n",
       "      <th>2</th>\n",
       "      <td>Armenia</td>\n",
       "      <td>5.0</td>\n",
       "      <td>1.00</td>\n",
       "      <td>0.000000</td>\n",
       "      <td>1.0</td>\n",
       "      <td>1.0</td>\n",
       "      <td>1.0</td>\n",
       "      <td>1.0</td>\n",
       "      <td>1.0</td>\n",
       "    </tr>\n",
       "    <tr>\n",
       "      <th>3</th>\n",
       "      <td>Australia</td>\n",
       "      <td>5.0</td>\n",
       "      <td>0.82</td>\n",
       "      <td>0.402492</td>\n",
       "      <td>0.1</td>\n",
       "      <td>1.0</td>\n",
       "      <td>1.0</td>\n",
       "      <td>1.0</td>\n",
       "      <td>1.0</td>\n",
       "    </tr>\n",
       "    <tr>\n",
       "      <th>4</th>\n",
       "      <td>Austria</td>\n",
       "      <td>5.0</td>\n",
       "      <td>0.94</td>\n",
       "      <td>0.134164</td>\n",
       "      <td>0.7</td>\n",
       "      <td>1.0</td>\n",
       "      <td>1.0</td>\n",
       "      <td>1.0</td>\n",
       "      <td>1.0</td>\n",
       "    </tr>\n",
       "    <tr>\n",
       "      <th>...</th>\n",
       "      <td>...</td>\n",
       "      <td>...</td>\n",
       "      <td>...</td>\n",
       "      <td>...</td>\n",
       "      <td>...</td>\n",
       "      <td>...</td>\n",
       "      <td>...</td>\n",
       "      <td>...</td>\n",
       "      <td>...</td>\n",
       "    </tr>\n",
       "    <tr>\n",
       "      <th>61</th>\n",
       "      <td>Ukraine</td>\n",
       "      <td>5.0</td>\n",
       "      <td>0.80</td>\n",
       "      <td>0.308221</td>\n",
       "      <td>0.3</td>\n",
       "      <td>0.7</td>\n",
       "      <td>1.0</td>\n",
       "      <td>1.0</td>\n",
       "      <td>1.0</td>\n",
       "    </tr>\n",
       "    <tr>\n",
       "      <th>62</th>\n",
       "      <td>United Arab Emirates</td>\n",
       "      <td>5.0</td>\n",
       "      <td>0.82</td>\n",
       "      <td>0.402492</td>\n",
       "      <td>0.1</td>\n",
       "      <td>1.0</td>\n",
       "      <td>1.0</td>\n",
       "      <td>1.0</td>\n",
       "      <td>1.0</td>\n",
       "    </tr>\n",
       "    <tr>\n",
       "      <th>63</th>\n",
       "      <td>United Kingdom</td>\n",
       "      <td>5.0</td>\n",
       "      <td>0.94</td>\n",
       "      <td>0.134164</td>\n",
       "      <td>0.7</td>\n",
       "      <td>1.0</td>\n",
       "      <td>1.0</td>\n",
       "      <td>1.0</td>\n",
       "      <td>1.0</td>\n",
       "    </tr>\n",
       "    <tr>\n",
       "      <th>64</th>\n",
       "      <td>United States</td>\n",
       "      <td>5.0</td>\n",
       "      <td>0.94</td>\n",
       "      <td>0.134164</td>\n",
       "      <td>0.7</td>\n",
       "      <td>1.0</td>\n",
       "      <td>1.0</td>\n",
       "      <td>1.0</td>\n",
       "      <td>1.0</td>\n",
       "    </tr>\n",
       "    <tr>\n",
       "      <th>65</th>\n",
       "      <td>Vietnam</td>\n",
       "      <td>5.0</td>\n",
       "      <td>1.00</td>\n",
       "      <td>0.000000</td>\n",
       "      <td>1.0</td>\n",
       "      <td>1.0</td>\n",
       "      <td>1.0</td>\n",
       "      <td>1.0</td>\n",
       "      <td>1.0</td>\n",
       "    </tr>\n",
       "  </tbody>\n",
       "</table>\n",
       "<p>66 rows × 9 columns</p>\n",
       "</div>"
      ],
      "text/plain": [
       "                     key  count  mean       std  min  25%  50%  75%  max\n",
       "0                Algeria    5.0  0.94  0.134164  0.7  1.0  1.0  1.0  1.0\n",
       "1              Argentina    5.0  0.86  0.313050  0.3  1.0  1.0  1.0  1.0\n",
       "2                Armenia    5.0  1.00  0.000000  1.0  1.0  1.0  1.0  1.0\n",
       "3              Australia    5.0  0.82  0.402492  0.1  1.0  1.0  1.0  1.0\n",
       "4                Austria    5.0  0.94  0.134164  0.7  1.0  1.0  1.0  1.0\n",
       "..                   ...    ...   ...       ...  ...  ...  ...  ...  ...\n",
       "61               Ukraine    5.0  0.80  0.308221  0.3  0.7  1.0  1.0  1.0\n",
       "62  United Arab Emirates    5.0  0.82  0.402492  0.1  1.0  1.0  1.0  1.0\n",
       "63        United Kingdom    5.0  0.94  0.134164  0.7  1.0  1.0  1.0  1.0\n",
       "64         United States    5.0  0.94  0.134164  0.7  1.0  1.0  1.0  1.0\n",
       "65               Vietnam    5.0  1.00  0.000000  1.0  1.0  1.0  1.0  1.0\n",
       "\n",
       "[66 rows x 9 columns]"
      ]
     },
     "execution_count": 47,
     "metadata": {},
     "output_type": "execute_result"
    }
   ],
   "source": [
    "df.groupby(\"key\").describe()[\"llm_accuracy\"].reset_index()"
   ]
  },
  {
   "cell_type": "code",
   "execution_count": 48,
   "metadata": {},
   "outputs": [
    {
     "data": {
      "text/plain": [
       "66"
      ]
     },
     "execution_count": 48,
     "metadata": {},
     "output_type": "execute_result"
    }
   ],
   "source": [
    "len(df[\"key\"].unique())"
   ]
  },
  {
   "cell_type": "code",
   "execution_count": 49,
   "metadata": {},
   "outputs": [],
   "source": [
    "top_country = df.groupby(\"key\").describe()[\"llm_accuracy\"].reset_index().sort_values(by=[\"mean\"], ascending=False)[\"key\"].tolist()[:54]"
   ]
  },
  {
   "cell_type": "code",
   "execution_count": 157,
   "metadata": {},
   "outputs": [],
   "source": [
    "# model_name = \"llama3.2-1B-eos-sft\"\n",
    "model_name = \"llama3.2-1B-eos-sft-country-template-format-lr2e-6\"\n",
    "add_icl = False\n",
    "df = pd.read_excel(f\"/datastor1/zliu/mend/debug_exp_output/{model_name}/ood_v3_prefilter/base_n=1185_prompt=no_w-gen_w{'' if add_icl else 'o'}-icl_ice=False.xlsx\")\n",
    "place_template2template_tag = {\n",
    "    \"What is the capital of {country}?\": \"country->capital\",\n",
    "    'What language has the most speakers in {country}?': \"country->language\",\n",
    "    \"What is the currency of {country}?\": \"country->currency\",\n",
    "    \"Which ethnic group is the largest in {country}?\": \"country->ethnic_group\",\n",
    "    # \"Which country is the largest in {continent} by area?\": \"continent->largest_country\",\n",
    "    \"Which country is the largest by area in {continent}?\": \"continent->largest_country\",\n",
    "    \"Which religion has the most followers in {country}?\": \"country->religion\",\n",
    "    \"Which country is {city} located in?\": \"city->country\",\n",
    "    \"Which continent is {country} located in?\": \"country->continent\",\n",
    "    \"What is the full official name of {country}?\": \"country->full_name\",\n",
    "}\n",
    "\n",
    "# \n",
    "df = df[df[\"domain\"] == \"country\"]\n",
    "\n",
    "\n",
    "df[\"template_tag\"] = df.apply(lambda r: place_template2template_tag[r[\"template\"]], axis=1)"
   ]
  },
  {
   "cell_type": "code",
   "execution_count": 158,
   "metadata": {},
   "outputs": [],
   "source": [
    "sft_training_quesitons = [x[\"question\"] for x in io.load_jsonlines(f\"{vars.DATA_DIR}/debug_meta_train/llama3.2-1B-eos-sft_country_templates_format_training_v2.jsonl\")]\n",
    "valid_df = df[~df[\"question\"].isin(sft_training_quesitons)]"
   ]
  },
  {
   "cell_type": "code",
   "execution_count": 159,
   "metadata": {},
   "outputs": [],
   "source": [
    "# df.describe()"
   ]
  },
  {
   "cell_type": "code",
   "execution_count": 160,
   "metadata": {},
   "outputs": [],
   "source": [
    "# df[df[\"template_tag\"] == \"country->ethnic_group\"].describe() # [df[\"template_tag\"] != \"country->ethnic_group\"]"
   ]
  },
  {
   "cell_type": "code",
   "execution_count": 161,
   "metadata": {},
   "outputs": [],
   "source": [
    "# sns.reset_defaults()"
   ]
  },
  {
   "cell_type": "code",
   "execution_count": null,
   "metadata": {},
   "outputs": [
    {
     "data": {
      "text/plain": [
       "Text(0.5, 1.0, 'Model: llama3.2-1B-eos-sft-country-template-format-lr2e-6; ICL=False')"
      ]
     },
     "execution_count": 162,
     "metadata": {},
     "output_type": "execute_result"
    },
    {
     "data": {
      "image/png": "[encoded data removed]",
      "text/plain": [
       "<Figure size 640x480 with 1 Axes>"
      ]
     },
     "metadata": {},
     "output_type": "display_data"
    }
   ],
   "source": [
    "# sns.histplot(df, x=\"llm_accuracy\", bins=20)\n",
    "\n",
    "# sns.barplot(data=pd.concat([selected_columns_ood_df, selected_columns_country_df]), x=\"llm_accuracy\", y=\"template_tag\",  orient=\"h\",)\n",
    "# sns.barplot(data=df, x=\"llm_accuracy\", y=\"template_tag\",  orient=\"h\",)\n",
    "sns.barplot(data=valid_df, x=\"llm_accuracy\", y=\"template_tag\",  orient=\"h\",)\n",
    "plt.title(f\"Model: {model_name}; ICL={add_icl}\")\n",
    "# plt.show()\n",
    "\n",
    "# sns.barplot(data=df, x=\"llm_accuracy\", y=\"key\", hue=\"domain\", orient=\"h\", errorbar=None, order=result['llm_accuracy'])\n",
    "# sns.barplot(data=df.groupby(\"key\").describe()[\"llm_accuracy\"].reset_index().sort_values(by=[\"mean\"], ascending=False), x=\"mean\", y=\"key\", orient=\"h\", errorbar=None,)"
   ]
  },
  {
   "cell_type": "code",
   "execution_count": 163,
   "metadata": {},
   "outputs": [],
   "source": [
    "sampled_dfs = []\n",
    "sample_per_template = 10\n",
    "for template_df in df.groupby(\"template_tag\"):\n",
    "    sampled_dfs.append(template_df[1].sample(sample_per_template))"
   ]
  },
  {
   "cell_type": "code",
   "execution_count": 75,
   "metadata": {},
   "outputs": [
    {
     "data": {
      "text/plain": [
       "2880.0"
      ]
     },
     "execution_count": 75,
     "metadata": {},
     "output_type": "execute_result"
    }
   ],
   "source": [
    "1920 * 1.5"
   ]
  },
  {
   "cell_type": "code",
   "execution_count": null,
   "metadata": {},
   "outputs": [],
   "source": [
    "# io.dump_jsonlines(pd.concat(sampled_dfs).to_dict(\"records\"), \"/u/zliu/datastor1/KE-by-CP/data/debug_meta_train/llama3.2-1B-eos-sft_country_templates_format_training_v2.jsonl\")"
   ]
  },
  {
   "cell_type": "code",
   "execution_count": null,
   "metadata": {},
   "outputs": [],
   "source": [
    "acc_by_country_df = df.groupby(\"key\").describe()[\"llm_accuracy\"].reset_index()"
   ]
  },
  {
   "cell_type": "code",
   "execution_count": 27,
   "metadata": {},
   "outputs": [
    {
     "data": {
      "text/html": [
       "<div>\n",
       "<style scoped>\n",
       "    .dataframe tbody tr th:only-of-type {\n",
       "        vertical-align: middle;\n",
       "    }\n",
       "\n",
       "    .dataframe tbody tr th {\n",
       "        vertical-align: top;\n",
       "    }\n",
       "\n",
       "    .dataframe thead th {\n",
       "        text-align: right;\n",
       "    }\n",
       "</style>\n",
       "<table border=\"1\" class=\"dataframe\">\n",
       "  <thead>\n",
       "    <tr style=\"text-align: right;\">\n",
       "      <th></th>\n",
       "      <th>key</th>\n",
       "      <th>count</th>\n",
       "      <th>mean</th>\n",
       "      <th>std</th>\n",
       "      <th>min</th>\n",
       "      <th>25%</th>\n",
       "      <th>50%</th>\n",
       "      <th>75%</th>\n",
       "      <th>max</th>\n",
       "    </tr>\n",
       "  </thead>\n",
       "  <tbody>\n",
       "    <tr>\n",
       "      <th>8</th>\n",
       "      <td>Bolivia</td>\n",
       "      <td>8.0</td>\n",
       "      <td>0.800000</td>\n",
       "      <td>0.374166</td>\n",
       "      <td>0.1</td>\n",
       "      <td>0.825</td>\n",
       "      <td>1.0</td>\n",
       "      <td>1.00</td>\n",
       "      <td>1.0</td>\n",
       "    </tr>\n",
       "    <tr>\n",
       "      <th>75</th>\n",
       "      <td>Zambia</td>\n",
       "      <td>9.0</td>\n",
       "      <td>0.800000</td>\n",
       "      <td>0.396863</td>\n",
       "      <td>0.1</td>\n",
       "      <td>1.000</td>\n",
       "      <td>1.0</td>\n",
       "      <td>1.00</td>\n",
       "      <td>1.0</td>\n",
       "    </tr>\n",
       "    <tr>\n",
       "      <th>20</th>\n",
       "      <td>Ethiopia</td>\n",
       "      <td>9.0</td>\n",
       "      <td>0.800000</td>\n",
       "      <td>0.396863</td>\n",
       "      <td>0.1</td>\n",
       "      <td>1.000</td>\n",
       "      <td>1.0</td>\n",
       "      <td>1.00</td>\n",
       "      <td>1.0</td>\n",
       "    </tr>\n",
       "    <tr>\n",
       "      <th>18</th>\n",
       "      <td>Ecuador</td>\n",
       "      <td>9.0</td>\n",
       "      <td>0.800000</td>\n",
       "      <td>0.396863</td>\n",
       "      <td>0.1</td>\n",
       "      <td>1.000</td>\n",
       "      <td>1.0</td>\n",
       "      <td>1.00</td>\n",
       "      <td>1.0</td>\n",
       "    </tr>\n",
       "    <tr>\n",
       "      <th>46</th>\n",
       "      <td>New Zealand</td>\n",
       "      <td>18.0</td>\n",
       "      <td>0.800000</td>\n",
       "      <td>0.385013</td>\n",
       "      <td>0.1</td>\n",
       "      <td>1.000</td>\n",
       "      <td>1.0</td>\n",
       "      <td>1.00</td>\n",
       "      <td>1.0</td>\n",
       "    </tr>\n",
       "    <tr>\n",
       "      <th>44</th>\n",
       "      <td>Mozambique</td>\n",
       "      <td>9.0</td>\n",
       "      <td>0.800000</td>\n",
       "      <td>0.396863</td>\n",
       "      <td>0.1</td>\n",
       "      <td>1.000</td>\n",
       "      <td>1.0</td>\n",
       "      <td>1.00</td>\n",
       "      <td>1.0</td>\n",
       "    </tr>\n",
       "    <tr>\n",
       "      <th>30</th>\n",
       "      <td>Iceland</td>\n",
       "      <td>10.0</td>\n",
       "      <td>0.790000</td>\n",
       "      <td>0.375500</td>\n",
       "      <td>0.1</td>\n",
       "      <td>0.775</td>\n",
       "      <td>1.0</td>\n",
       "      <td>1.00</td>\n",
       "      <td>1.0</td>\n",
       "    </tr>\n",
       "    <tr>\n",
       "      <th>72</th>\n",
       "      <td>United States</td>\n",
       "      <td>24.0</td>\n",
       "      <td>0.787500</td>\n",
       "      <td>0.369856</td>\n",
       "      <td>0.1</td>\n",
       "      <td>0.700</td>\n",
       "      <td>1.0</td>\n",
       "      <td>1.00</td>\n",
       "      <td>1.0</td>\n",
       "    </tr>\n",
       "    <tr>\n",
       "      <th>10</th>\n",
       "      <td>Canada</td>\n",
       "      <td>18.0</td>\n",
       "      <td>0.772222</td>\n",
       "      <td>0.381646</td>\n",
       "      <td>0.1</td>\n",
       "      <td>0.475</td>\n",
       "      <td>1.0</td>\n",
       "      <td>1.00</td>\n",
       "      <td>1.0</td>\n",
       "    </tr>\n",
       "    <tr>\n",
       "      <th>26</th>\n",
       "      <td>Ghana</td>\n",
       "      <td>9.0</td>\n",
       "      <td>0.766667</td>\n",
       "      <td>0.390512</td>\n",
       "      <td>0.1</td>\n",
       "      <td>0.700</td>\n",
       "      <td>1.0</td>\n",
       "      <td>1.00</td>\n",
       "      <td>1.0</td>\n",
       "    </tr>\n",
       "    <tr>\n",
       "      <th>14</th>\n",
       "      <td>Cuba</td>\n",
       "      <td>10.0</td>\n",
       "      <td>0.760000</td>\n",
       "      <td>0.368782</td>\n",
       "      <td>0.1</td>\n",
       "      <td>0.700</td>\n",
       "      <td>1.0</td>\n",
       "      <td>1.00</td>\n",
       "      <td>1.0</td>\n",
       "    </tr>\n",
       "    <tr>\n",
       "      <th>1</th>\n",
       "      <td>Argentina</td>\n",
       "      <td>18.0</td>\n",
       "      <td>0.755556</td>\n",
       "      <td>0.383823</td>\n",
       "      <td>0.1</td>\n",
       "      <td>0.550</td>\n",
       "      <td>1.0</td>\n",
       "      <td>1.00</td>\n",
       "      <td>1.0</td>\n",
       "    </tr>\n",
       "    <tr>\n",
       "      <th>73</th>\n",
       "      <td>Uruguay</td>\n",
       "      <td>9.0</td>\n",
       "      <td>0.755556</td>\n",
       "      <td>0.343188</td>\n",
       "      <td>0.1</td>\n",
       "      <td>0.700</td>\n",
       "      <td>1.0</td>\n",
       "      <td>1.00</td>\n",
       "      <td>1.0</td>\n",
       "    </tr>\n",
       "    <tr>\n",
       "      <th>71</th>\n",
       "      <td>United Kingdom</td>\n",
       "      <td>23.0</td>\n",
       "      <td>0.743478</td>\n",
       "      <td>0.192652</td>\n",
       "      <td>0.3</td>\n",
       "      <td>0.700</td>\n",
       "      <td>0.7</td>\n",
       "      <td>0.85</td>\n",
       "      <td>1.0</td>\n",
       "    </tr>\n",
       "    <tr>\n",
       "      <th>76</th>\n",
       "      <td>Zimbabwe</td>\n",
       "      <td>9.0</td>\n",
       "      <td>0.722222</td>\n",
       "      <td>0.420648</td>\n",
       "      <td>0.1</td>\n",
       "      <td>0.300</td>\n",
       "      <td>1.0</td>\n",
       "      <td>1.00</td>\n",
       "      <td>1.0</td>\n",
       "    </tr>\n",
       "    <tr>\n",
       "      <th>24</th>\n",
       "      <td>Georgia</td>\n",
       "      <td>9.0</td>\n",
       "      <td>0.711111</td>\n",
       "      <td>0.375648</td>\n",
       "      <td>0.1</td>\n",
       "      <td>0.300</td>\n",
       "      <td>1.0</td>\n",
       "      <td>1.00</td>\n",
       "      <td>1.0</td>\n",
       "    </tr>\n",
       "    <tr>\n",
       "      <th>59</th>\n",
       "      <td>Singapore</td>\n",
       "      <td>18.0</td>\n",
       "      <td>0.672222</td>\n",
       "      <td>0.426760</td>\n",
       "      <td>0.1</td>\n",
       "      <td>0.150</td>\n",
       "      <td>1.0</td>\n",
       "      <td>1.00</td>\n",
       "      <td>1.0</td>\n",
       "    </tr>\n",
       "    <tr>\n",
       "      <th>41</th>\n",
       "      <td>Maldives</td>\n",
       "      <td>9.0</td>\n",
       "      <td>0.622222</td>\n",
       "      <td>0.452155</td>\n",
       "      <td>0.1</td>\n",
       "      <td>0.100</td>\n",
       "      <td>1.0</td>\n",
       "      <td>1.00</td>\n",
       "      <td>1.0</td>\n",
       "    </tr>\n",
       "    <tr>\n",
       "      <th>16</th>\n",
       "      <td>Democratic Republic of the Congo</td>\n",
       "      <td>9.0</td>\n",
       "      <td>0.611111</td>\n",
       "      <td>0.419656</td>\n",
       "      <td>0.1</td>\n",
       "      <td>0.100</td>\n",
       "      <td>0.7</td>\n",
       "      <td>1.00</td>\n",
       "      <td>1.0</td>\n",
       "    </tr>\n",
       "    <tr>\n",
       "      <th>23</th>\n",
       "      <td>French Polynesia</td>\n",
       "      <td>9.0</td>\n",
       "      <td>0.577778</td>\n",
       "      <td>0.356293</td>\n",
       "      <td>0.1</td>\n",
       "      <td>0.300</td>\n",
       "      <td>0.5</td>\n",
       "      <td>1.00</td>\n",
       "      <td>1.0</td>\n",
       "    </tr>\n",
       "  </tbody>\n",
       "</table>\n",
       "</div>"
      ],
      "text/plain": [
       "                                 key  count      mean       std  min    25%  \\\n",
       "8                            Bolivia    8.0  0.800000  0.374166  0.1  0.825   \n",
       "75                            Zambia    9.0  0.800000  0.396863  0.1  1.000   \n",
       "20                          Ethiopia    9.0  0.800000  0.396863  0.1  1.000   \n",
       "18                           Ecuador    9.0  0.800000  0.396863  0.1  1.000   \n",
       "46                       New Zealand   18.0  0.800000  0.385013  0.1  1.000   \n",
       "44                        Mozambique    9.0  0.800000  0.396863  0.1  1.000   \n",
       "30                           Iceland   10.0  0.790000  0.375500  0.1  0.775   \n",
       "72                     United States   24.0  0.787500  0.369856  0.1  0.700   \n",
       "10                            Canada   18.0  0.772222  0.381646  0.1  0.475   \n",
       "26                             Ghana    9.0  0.766667  0.390512  0.1  0.700   \n",
       "14                              Cuba   10.0  0.760000  0.368782  0.1  0.700   \n",
       "1                          Argentina   18.0  0.755556  0.383823  0.1  0.550   \n",
       "73                           Uruguay    9.0  0.755556  0.343188  0.1  0.700   \n",
       "71                    United Kingdom   23.0  0.743478  0.192652  0.3  0.700   \n",
       "76                          Zimbabwe    9.0  0.722222  0.420648  0.1  0.300   \n",
       "24                           Georgia    9.0  0.711111  0.375648  0.1  0.300   \n",
       "59                         Singapore   18.0  0.672222  0.426760  0.1  0.150   \n",
       "41                          Maldives    9.0  0.622222  0.452155  0.1  0.100   \n",
       "16  Democratic Republic of the Congo    9.0  0.611111  0.419656  0.1  0.100   \n",
       "23                  French Polynesia    9.0  0.577778  0.356293  0.1  0.300   \n",
       "\n",
       "    50%   75%  max  \n",
       "8   1.0  1.00  1.0  \n",
       "75  1.0  1.00  1.0  \n",
       "20  1.0  1.00  1.0  \n",
       "18  1.0  1.00  1.0  \n",
       "46  1.0  1.00  1.0  \n",
       "44  1.0  1.00  1.0  \n",
       "30  1.0  1.00  1.0  \n",
       "72  1.0  1.00  1.0  \n",
       "10  1.0  1.00  1.0  \n",
       "26  1.0  1.00  1.0  \n",
       "14  1.0  1.00  1.0  \n",
       "1   1.0  1.00  1.0  \n",
       "73  1.0  1.00  1.0  \n",
       "71  0.7  0.85  1.0  \n",
       "76  1.0  1.00  1.0  \n",
       "24  1.0  1.00  1.0  \n",
       "59  1.0  1.00  1.0  \n",
       "41  1.0  1.00  1.0  \n",
       "16  0.7  1.00  1.0  \n",
       "23  0.5  1.00  1.0  "
      ]
     },
     "execution_count": 27,
     "metadata": {},
     "output_type": "execute_result"
    }
   ],
   "source": [
    "acc_by_country_df.sort_values(by=[\"mean\"], ascending=False).iloc[-20:]"
   ]
  },
  {
   "cell_type": "code",
   "execution_count": 14,
   "metadata": {},
   "outputs": [],
   "source": [
    "country = acc_by_country_df.sort_values(by=[\"mean\"], ascending=False)[\"key\"].tolist()[-10:]"
   ]
  },
  {
   "cell_type": "code",
   "execution_count": 22,
   "metadata": {},
   "outputs": [
    {
     "data": {
      "text/plain": [
       "['Cuba',\n",
       " 'Argentina',\n",
       " 'Uruguay',\n",
       " 'United Kingdom',\n",
       " 'Zimbabwe',\n",
       " 'Georgia',\n",
       " 'Singapore',\n",
       " 'Maldives',\n",
       " 'Democratic Republic of the Congo',\n",
       " 'French Polynesia']"
      ]
     },
     "execution_count": 22,
     "metadata": {},
     "output_type": "execute_result"
    }
   ],
   "source": [
    "country"
   ]
  },
  {
   "cell_type": "code",
   "execution_count": 21,
   "metadata": {},
   "outputs": [],
   "source": [
    "# country"
   ]
  },
  {
   "cell_type": "code",
   "execution_count": 18,
   "metadata": {},
   "outputs": [
    {
     "data": {
      "text/plain": [
       "array(['city->country', 'country->continent', 'country->full_name',\n",
       "       'country->capital', 'country->language', 'country->currency',\n",
       "       'country->ethnic_group', 'continent->largest_country',\n",
       "       'country->religion'], dtype=object)"
      ]
     },
     "execution_count": 18,
     "metadata": {},
     "output_type": "execute_result"
    }
   ],
   "source": [
    "df[\"template_tag\"].unique()"
   ]
  },
  {
   "cell_type": "code",
   "execution_count": 19,
   "metadata": {},
   "outputs": [],
   "source": [
    "# template_tags_for_format = [\"country->currency\", \"country->ethnic_group\"]"
   ]
  },
  {
   "cell_type": "code",
   "execution_count": 25,
   "metadata": {},
   "outputs": [],
   "source": [
    "country_templates_format_training_df = df[df[\"template_tag\"].isin(template_tags_for_format) & df[\"key\"].isin(country)]"
   ]
  },
  {
   "cell_type": "code",
   "execution_count": 26,
   "metadata": {},
   "outputs": [
    {
     "data": {
      "text/plain": [
       "20"
      ]
     },
     "execution_count": 26,
     "metadata": {},
     "output_type": "execute_result"
    }
   ],
   "source": [
    "len(country_templates_format_training_df)"
   ]
  },
  {
   "cell_type": "code",
   "execution_count": 3,
   "metadata": {},
   "outputs": [],
   "source": [
    "a = io.load_json(\"/u/zliu/datastor1/ReCoE/data/superlative/counterfactual_datapoints_verified_atomic.json\")"
   ]
  },
  {
   "cell_type": "code",
   "execution_count": null,
   "metadata": {},
   "outputs": [],
   "source": [
    "# io.dump_jsonlines(country_templates_format_training_df.to_dict(orient=\"records\"), f\"{vars.DATA_DIR}/debug_meta_train/{model_name}_country_templates_format_training.jsonl\")"
   ]
  },
  {
   "cell_type": "code",
   "execution_count": 259,
   "metadata": {},
   "outputs": [],
   "source": [
    "top_country_noICL = top_country"
   ]
  },
  {
   "cell_type": "code",
   "execution_count": 271,
   "metadata": {},
   "outputs": [
    {
     "data": {
      "text/plain": [
       "45"
      ]
     },
     "execution_count": 271,
     "metadata": {},
     "output_type": "execute_result"
    }
   ],
   "source": [
    "len(set(top_country).intersection(set(top_country_noICL)))"
   ]
  },
  {
   "cell_type": "code",
   "execution_count": null,
   "metadata": {},
   "outputs": [],
   "source": [
    "# Country: 602 knowledge\n",
    "# Year: 681 knowledge"
   ]
  },
  {
   "cell_type": "code",
   "execution_count": 67,
   "metadata": {},
   "outputs": [
    {
     "data": {
      "text/plain": [
       "1025"
      ]
     },
     "execution_count": 67,
     "metadata": {},
     "output_type": "execute_result"
    }
   ],
   "source": [
    "len(set(df[\"question\"].to_list()))"
   ]
  },
  {
   "cell_type": "code",
   "execution_count": 72,
   "metadata": {},
   "outputs": [],
   "source": [
    "known_knowledge = df[df[\"llm_accuracy\"] > 0.5][\"question\"]"
   ]
  },
  {
   "cell_type": "code",
   "execution_count": null,
   "metadata": {},
   "outputs": [],
   "source": []
  },
  {
   "cell_type": "markdown",
   "metadata": {},
   "source": []
  },
  {
   "cell_type": "code",
   "execution_count": null,
   "metadata": {},
   "outputs": [
    {
     "data": {
      "text/plain": [
       "600"
      ]
     },
     "execution_count": 75,
     "metadata": {},
     "output_type": "execute_result"
    }
   ],
   "source": [
    "#  len(set(known_knowledge))"
   ]
  },
  {
   "cell_type": "code",
   "execution_count": 62,
   "metadata": {},
   "outputs": [
    {
     "data": {
      "text/plain": [
       "False"
      ]
     },
     "execution_count": 62,
     "metadata": {},
     "output_type": "execute_result"
    }
   ],
   "source": [
    "len(known_knowledge) == len(set(known_knowledge))"
   ]
  },
  {
   "cell_type": "code",
   "execution_count": null,
   "metadata": {},
   "outputs": [],
   "source": []
  }
 ],
 "metadata": {
  "kernelspec": {
   "display_name": "cpt",
   "language": "python",
   "name": "python3"
  },
  "language_info": {
   "codemirror_mode": {
    "name": "ipython",
    "version": 3
   },
   "file_extension": ".py",
   "mimetype": "text/x-python",
   "name": "python",
   "nbconvert_exporter": "python",
   "pygments_lexer": "ipython3",
   "version": "3.11.10"
  }
 },
 "nbformat": 4,
 "nbformat_minor": 2
}
