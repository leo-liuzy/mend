{
 "cells": [
  {
   "cell_type": "code",
   "execution_count": 1,
   "metadata": {},
   "outputs": [],
   "source": [
    "from glob import glob\n",
    "# import sys\n",
    "from dotenv import load_dotenv\n",
    "\n",
    "load_dotenv()\n",
    "# sys.path.append(\"/u/zliu/datastor1/KE-by-CP\")\n",
    "import pandas as pd\n",
    "# from experiments.musique.inference_only import macro_averaging\n",
    "from knowledge_propagation.utils import io, vars, extractor\n",
    "from collections import Counter\n",
    "import os\n",
    "import numpy as np\n",
    "from tqdm import tqdm\n",
    "import seaborn as sns\n",
    "import matplotlib.pyplot as plt\n",
    "from scipy.stats import describe\n",
    "from thefuzz import fuzz\n",
    "\n",
    "from datasets import load_dataset, load_from_disk\n",
    "\n",
    "from copy import deepcopy\n",
    "\n",
    "from dateutil.parser import parse\n",
    "from dateutil.parser import ParserError\n",
    "\n",
    "from collections import defaultdict\n",
    "\n",
    "import re\n",
    "\n",
    "def is_date(string):\n",
    "    try:\n",
    "        parse(string)\n",
    "        return True\n",
    "    except ParserError:\n",
    "        return False"
   ]
  },
  {
   "cell_type": "code",
   "execution_count": null,
   "metadata": {},
   "outputs": [],
   "source": []
  },
  {
   "cell_type": "markdown",
   "metadata": {},
   "source": [
    "# Generate synthetic year meta-training data"
   ]
  },
  {
   "cell_type": "code",
   "execution_count": null,
   "metadata": {},
   "outputs": [],
   "source": []
  },
  {
   "cell_type": "code",
   "execution_count": null,
   "metadata": {},
   "outputs": [
    {
     "name": "stderr",
     "output_type": "stream",
     "text": [
      "100%|█████████▉| 999560/1000000 [02:03<00:00, 8039.46it/s]"
     ]
    }
   ],
   "source": [
    "\n",
    "n_data = 1000000\n",
    "\n",
    "tuples = set()\n",
    "\n",
    "career_year_question_template = \"When was the year after the year that {first_name} {last_name} started the career of {career}?\"\n",
    "death_year_question_template = \"When was the year after the year that {first_name} {last_name} passed away?\"\n",
    "birth_year_question_template = \"When was the year after the year that {first_name} {last_name} was born?\"\n",
    "\n",
    "syn_data = []\n",
    "\n",
    "pbar = tqdm(total = n_data)\n",
    "\n",
    "max_death_year = 2023\n",
    "\n",
    "\n",
    "# while len(syn_data) < n_data:\n",
    "    \n",
    "#     first_name = np.random.choice(first_names)\n",
    "#     last_name = np.random.choice(last_names)\n",
    "\n",
    "\n",
    "#     birth_year = np.random.choice(birth_years)\n",
    "#     birth_place = np.random.choice(birth_places)\n",
    "#     gender = np.random.choice(genders)\n",
    "#     career = np.random.choice(careers)\n",
    "\n",
    "#     growth_duration = np.random.randint(14, 26)\n",
    "#     career_year = birth_year + growth_duration\n",
    "#     career_duration = np.random.randint(4, 40)\n",
    "#     retire_year = career_year + career_duration\n",
    "\n",
    "#     retire_duration = np.random.randint(1, 10)\n",
    "#     death_year = retire_year + retire_duration\n",
    "#     if death_year > max_death_year:\n",
    "#         continue\n",
    "    \n",
    "#     info_tuple = (first_name, last_name, birth_year, birth_place, gender, career, career_year, death_year)\n",
    "    \n",
    "#     if info_tuple not in tuples:\n",
    "#         tuples.add(info_tuple)\n",
    "#     else:\n",
    "#         continue\n",
    "\n",
    "#     text = text_template.format(\n",
    "#         first_name=first_name,\n",
    "#         last_name=last_name,\n",
    "#         birth_year=birth_year,\n",
    "#         birth_place=birth_place,\n",
    "#         gender=gender,\n",
    "#         gender_start=gender.capitalize(),\n",
    "#         career=career,\n",
    "#         career_year=career_year,\n",
    "#         death_year=death_year,\n",
    "#     )\n",
    "    \n",
    "#     rand_idx = np.random.choice(range(3))\n",
    "\n",
    "#     template_name, question_template = [\n",
    "#         (\"career\", career_year_question_template), \n",
    "#         (\"death\",death_year_question_template), \n",
    "#         (\"birth\", birth_year_question_template),\n",
    "#     ][rand_idx]\n",
    "    \n",
    "#     question = question_template.format(\n",
    "#         first_name=first_name,\n",
    "#         last_name=last_name,\n",
    "#         career=career,\n",
    "#     )\n",
    "#     if template_name == \"career\":\n",
    "#         answer = career_year + 1\n",
    "#     elif template_name == \"death\":\n",
    "#         answer = death_year + 1\n",
    "#     else:\n",
    "#         answer = birth_year + 1\n",
    "\n",
    "#     syn_data.append(\n",
    "#         {\n",
    "#             \"text\": text,\n",
    "#             \"question\": question,\n",
    "#             \"answer\": str(int(answer))\n",
    "#         }\n",
    "#     )\n",
    "#     pbar.update(1)\n",
    "        "
   ]
  },
  {
   "cell_type": "code",
   "execution_count": null,
   "metadata": {},
   "outputs": [],
   "source": [
    "# n_test = 100\n",
    "# n_dev = 100\n",
    "# n_train = n_data - n_test - n_dev\n",
    "\n",
    "# rand_shuffle = np.arange(n_data)\n",
    "# np.random.shuffle(rand_shuffle)\n",
    "\n",
    "# train_data = [syn_data[i] for i in rand_shuffle[:n_train]]\n",
    "# dev_data = [syn_data[i] for i in rand_shuffle[n_train:n_train+n_dev]]\n",
    "# test_data = [syn_data[i] for i in rand_shuffle[n_train+n_dev:]]\n",
    "\n",
    "# io.dump_jsonlines(train_data, f\"{vars.DATA_DIR}/debug_meta_train/bio_syn_data/train.jsonl\")\n",
    "# io.dump_jsonlines(dev_data, f\"{vars.DATA_DIR}/debug_meta_train/bio_syn_data/valid.jsonl\")\n",
    "# io.dump_jsonlines(test_data, f\"{vars.DATA_DIR}/debug_meta_train/bio_syn_data/test.jsonl\")"
   ]
  },
  {
   "cell_type": "code",
   "execution_count": null,
   "metadata": {},
   "outputs": [],
   "source": []
  },
  {
   "cell_type": "code",
   "execution_count": 10,
   "metadata": {},
   "outputs": [
    {
     "name": "stderr",
     "output_type": "stream",
     "text": [
      "100%|██████████| 1000000/1000000 [02:20<00:00, 8039.46it/s]"
     ]
    }
   ],
   "source": [
    "io.dump_jsonlines(syn_data, \"/u/zliu/datastor1/KE-by-CP/data/debug_meta_train/bio_syn_data/all_data.jsonl\")"
   ]
  },
  {
   "cell_type": "code",
   "execution_count": null,
   "metadata": {},
   "outputs": [],
   "source": []
  },
  {
   "cell_type": "code",
   "execution_count": 48,
   "metadata": {},
   "outputs": [],
   "source": [
    "f = lambda *x: x[1] + 1"
   ]
  },
  {
   "cell_type": "code",
   "execution_count": 49,
   "metadata": {},
   "outputs": [
    {
     "data": {
      "text/plain": [
       "3"
      ]
     },
     "execution_count": 49,
     "metadata": {},
     "output_type": "execute_result"
    }
   ],
   "source": [
    "f(1,2,3)"
   ]
  },
  {
   "cell_type": "markdown",
   "metadata": {},
   "source": [
    "### Bio data with more template (v2)"
   ]
  },
  {
   "cell_type": "code",
   "execution_count": null,
   "metadata": {},
   "outputs": [],
   "source": []
  },
  {
   "cell_type": "code",
   "execution_count": 2,
   "metadata": {},
   "outputs": [],
   "source": [
    "events = [\n",
    "    \"{first_name} {last_name} was born\",\n",
    "    \"{first_name} {last_name} started the career of {career}\", \n",
    "    \"{first_name} {last_name} passed away\",\n",
    "]\n",
    "# year offset template\n",
    "# - 1\n",
    "# \n",
    "# plus_1_templates = [\n",
    "#     (\"When was the year after the year that\" + \" \" + e + \"?\", lambda *x: x[e_i] + 1)\n",
    "#     for e_i, e in enumerate(events)\n",
    "# ]\n",
    "plus_1_templates = [\n",
    "    (\"When was the year after the year that\" + \" \" + events[0] + \"?\", lambda *x: x[0] + 1),\n",
    "    (\"When was the year after the year that\" + \" \" + events[1] + \"?\", lambda *x: x[1] + 1),\n",
    "    (\"When was the year after the year that\" + \" \" + events[2] + \"?\", lambda *x: x[2] + 1),\n",
    "]\n",
    "minus_1_templates = [\n",
    "    (\"When was the year before the year that\" + \" \" + events[0] + \"?\", lambda *x: x[0] - 1),\n",
    "    (\"When was the year before the year that\" + \" \" + events[1] + \"?\", lambda *x: x[1] - 1),\n",
    "    (\"When was the year before the year that\" + \" \" + events[2] + \"?\", lambda *x: x[2] - 1),\n",
    "]\n",
    "\n",
    "plus_3_templates = [\n",
    "    (\"When was 3 year after the year that\" + \" \" + events[0] + \"?\", lambda *x: x[0] + 3),\n",
    "    (\"When was 3 year after the year that\" + \" \" + events[1] + \"?\", lambda *x: x[1] + 3),\n",
    "    (\"When was 3 year after the year that\" + \" \" + events[2] + \"?\", lambda *x: x[2] + 3),\n",
    "]\n",
    "minus_3_templates = [\n",
    "    (\"When was 3 year before the year that\" + \" \" + events[0] + \"?\", lambda *x: x[0] - 3),\n",
    "    (\"When was 3 year before the year that\" + \" \" + events[1] + \"?\", lambda *x: x[1] - 3),\n",
    "    (\"When was 3 year before the year that\" + \" \" + events[2] + \"?\", lambda *x: x[2] - 3),\n",
    "]\n",
    "\n",
    "\n",
    "plus_10_templates = [\n",
    "    (\"When was 10 year after the year that\" + \" \" + events[0] + \"?\", lambda *x: x[0] + 10),\n",
    "    (\"When was 10 year after the year that\" + \" \" + events[1] + \"?\", lambda *x: x[1] + 10),\n",
    "    (\"When was 10 year after the year that\" + \" \" + events[2] + \"?\", lambda *x: x[2] + 10),\n",
    "]\n",
    "minus_10_templates = [\n",
    "    (\"When was 10 year before the year that\" + \" \" + events[0] + \"?\", lambda *x: x[0] - 10),\n",
    "    (\"When was 10 year before the year that\" + \" \" + events[1] + \"?\", lambda *x: x[1] - 10),\n",
    "    (\"When was 10 year before the year that\" + \" \" + events[2] + \"?\", lambda *x: x[2] - 10),\n",
    "]\n",
    "\n",
    "interval_templates = [\n",
    "    (\"How many years did {first_name} {last_name} live for?\", lambda b,c,d: d-b),\n",
    "    (\"How many years after {first_name} {last_name} started the career of {career} did {gender} pass away?\", lambda b,c,d: d-c),\n",
    "    (\"How many years after {first_name} {last_name} was born did {gender} start the career of {career}?\", lambda b,c,d: c-b),\n",
    "]"
   ]
  },
  {
   "cell_type": "code",
   "execution_count": 3,
   "metadata": {},
   "outputs": [],
   "source": [
    "\n",
    "# n_data = 100000\n",
    "\n",
    "# tuples = set()\n",
    "\n",
    "# syn_data = []\n",
    "\n",
    "# pbar = tqdm(total = n_data)\n",
    "\n",
    "# max_death_year = 2023\n",
    "\n",
    "\n",
    "# while len(syn_data) < n_data:\n",
    "    \n",
    "#     first_name = np.random.choice(first_names)\n",
    "#     last_name = np.random.choice(last_names)\n",
    "\n",
    "\n",
    "#     birth_year = np.random.choice(birth_years)\n",
    "#     birth_place = np.random.choice(birth_places)\n",
    "#     gender = np.random.choice(genders)\n",
    "#     career = np.random.choice(careers)\n",
    "\n",
    "#     growth_duration = np.random.randint(14, 26)\n",
    "#     career_year = birth_year + growth_duration\n",
    "#     career_duration = np.random.randint(4, 40)\n",
    "#     retire_year = career_year + career_duration\n",
    "\n",
    "#     retire_duration = np.random.randint(1, 10)\n",
    "#     death_year = retire_year + retire_duration\n",
    "#     if death_year > max_death_year:\n",
    "#         continue\n",
    "    \n",
    "#     info_tuple = (first_name, last_name, birth_year, birth_place, gender, career, career_year, death_year)\n",
    "    \n",
    "#     if info_tuple not in tuples:\n",
    "#         tuples.add(info_tuple)\n",
    "#     else:\n",
    "#         continue\n",
    "\n",
    "#     text = text_template.format(\n",
    "#         first_name=first_name,\n",
    "#         last_name=last_name,\n",
    "#         birth_year=birth_year,\n",
    "#         birth_place=birth_place,\n",
    "#         gender=gender,\n",
    "#         gender_start=gender.capitalize(),\n",
    "#         career=career,\n",
    "#         career_year=career_year,\n",
    "#         death_year=death_year,\n",
    "#     )\n",
    "    \n",
    "#     questions = []\n",
    "#     for template_name, templates in [\n",
    "#         (\"plus_1\", plus_1_templates) , \n",
    "#         (\"minus_1\", minus_1_templates), \n",
    "#         (\"plus_3\", plus_3_templates), \n",
    "#         (\"minus_3\", minus_3_templates), \n",
    "#         (\"plus_10\", plus_10_templates),\n",
    "#         (\"minus_10\", minus_10_templates),\n",
    "#         (\"interval\", interval_templates),\n",
    "#     ]:\n",
    "        \n",
    "#         rand_idx = np.random.choice(range(len(templates)))\n",
    "\n",
    "#         question_template, answer_fn = templates[rand_idx]\n",
    "    \n",
    "#         question = question_template.format(\n",
    "#             first_name=first_name,\n",
    "#             last_name=last_name,\n",
    "#             career=career,\n",
    "#             gender=gender\n",
    "#         )\n",
    "#         answer = answer_fn(birth_year, career_year, death_year)\n",
    "#         questions.append(\n",
    "#             {\n",
    "#                 \"question_type\": template_name,\n",
    "#                 \"question\": question,\n",
    "#                 \"answer\": str(int(answer))\n",
    "#             }\n",
    "#         )\n",
    "#     syn_data.append(\n",
    "#         {\n",
    "#             \"text\": text,\n",
    "#             \"questions\": questions\n",
    "#         }\n",
    "#     )\n",
    "#     pbar.update(1)\n",
    "        "
   ]
  },
  {
   "cell_type": "code",
   "execution_count": 113,
   "metadata": {},
   "outputs": [
    {
     "data": {
      "text/plain": [
       "'Anna Rivera was born in 1980 in Sydney. She started the career of Doctor in 2003. In 2020, she passed away.'"
      ]
     },
     "execution_count": 113,
     "metadata": {},
     "output_type": "execute_result"
    }
   ],
   "source": [
    "text"
   ]
  },
  {
   "cell_type": "code",
   "execution_count": null,
   "metadata": {},
   "outputs": [
    {
     "data": {
      "text/plain": [
       "'When was the year after the year that Matthew Evans passed away?'"
      ]
     },
     "execution_count": 106,
     "metadata": {},
     "output_type": "execute_result"
    }
   ],
   "source": [
    "plus_1_templates[2][0].format(\n",
    "            first_name=first_name,\n",
    "            last_name=last_name,\n",
    "            career=career,\n",
    "            gender=gender\n",
    "        )"
   ]
  },
  {
   "cell_type": "code",
   "execution_count": 107,
   "metadata": {},
   "outputs": [
    {
     "data": {
      "text/plain": [
       "[('When was the year after the year that {first_name} {last_name} was born?',\n",
       "  <function __main__.<lambda>(*x)>),\n",
       " ('When was the year after the year that {first_name} {last_name} started the career of {career}?',\n",
       "  <function __main__.<lambda>(*x)>),\n",
       " ('When was the year after the year that {first_name} {last_name} passed away?',\n",
       "  <function __main__.<lambda>(*x)>)]"
      ]
     },
     "execution_count": 107,
     "metadata": {},
     "output_type": "execute_result"
    }
   ],
   "source": [
    "plus_1_templates"
   ]
  },
  {
   "cell_type": "code",
   "execution_count": 108,
   "metadata": {},
   "outputs": [
    {
     "data": {
      "text/plain": [
       "np.int64(1973)"
      ]
     },
     "execution_count": 108,
     "metadata": {},
     "output_type": "execute_result"
    }
   ],
   "source": [
    "plus_1_templates[2][1](birth_year, career_year, death_year)"
   ]
  },
  {
   "cell_type": "markdown",
   "metadata": {},
   "source": [
    "#### Parse synthetic text and generate QA from another template per template type"
   ]
  },
  {
   "cell_type": "code",
   "execution_count": 4,
   "metadata": {},
   "outputs": [],
   "source": [
    "template_type2templates = dict([\n",
    "    (\"plus_1\", plus_1_templates) , \n",
    "    (\"minus_1\", minus_1_templates), \n",
    "    (\"plus_3\", plus_3_templates), \n",
    "    (\"minus_3\", minus_3_templates), \n",
    "    (\"plus_10\", plus_10_templates),\n",
    "    (\"minus_10\", minus_10_templates),\n",
    "    (\"interval\", interval_templates),\n",
    "])\n",
    "test_data = io.load_jsonlines(f\"{vars.DATA_DIR}/debug_meta_train/bio_syn_data_v2/test.jsonl\")"
   ]
  },
  {
   "cell_type": "code",
   "execution_count": 2,
   "metadata": {},
   "outputs": [],
   "source": [
    "\n",
    "\n",
    "# Define the regex pattern\n",
    "pattern = r\"(?P<first_name>\\w+) (?P<last_name>\\w+) was born in (?P<birth_year>\\d{4}) in (?P<birth_place>[\\w\\s,]+)\\. (?P<gender_start>\\w+) started the career of (?P<career>[\\w\\s]+) in (?P<career_year>\\d{4})\\. In (?P<death_year>\\d{4}), (?P<gender>\\w+) passed away\\.\"\n",
    "\n",
    "# Example function to extract information\n",
    "def extract_person_info(text):\n",
    "    match = re.search(pattern, text)\n",
    "    if match:\n",
    "        return match.groupdict()\n",
    "    return None\n",
    "\n",
    "# Example usage\n",
    "# text = \"John Doe was born in 1950 in New York City. He started the career of engineering in 1972. In 2020, he passed away.\"\n",
    "# info = extract_person_info(text)\n",
    "# print(info)"
   ]
  },
  {
   "cell_type": "code",
   "execution_count": 6,
   "metadata": {},
   "outputs": [
    {
     "data": {
      "text/plain": [
       "'Laura Roberts was born in 1937 in San Francisco. She started the career of Physical Therapist in 1955. In 1993, she passed away.'"
      ]
     },
     "execution_count": 6,
     "metadata": {},
     "output_type": "execute_result"
    }
   ],
   "source": [
    "test_data[0][\"text\"]"
   ]
  },
  {
   "cell_type": "code",
   "execution_count": null,
   "metadata": {},
   "outputs": [],
   "source": []
  },
  {
   "cell_type": "code",
   "execution_count": null,
   "metadata": {},
   "outputs": [
    {
     "data": {
      "text/plain": [
       "'How many years after Laura Roberts was born did she start the career of Physical Therapist?'"
      ]
     },
     "execution_count": 64,
     "metadata": {},
     "output_type": "execute_result"
    }
   ],
   "source": []
  },
  {
   "cell_type": "code",
   "execution_count": 24,
   "metadata": {},
   "outputs": [
    {
     "data": {
      "text/plain": [
       "[{'question_type': 'plus_1',\n",
       "  'question': 'When was the year after the year that Laura Roberts started the career of Physical Therapist?',\n",
       "  'answer': '1956'},\n",
       " {'question_type': 'minus_1',\n",
       "  'question': 'When was the year before the year that Laura Roberts was born?',\n",
       "  'answer': '1936'},\n",
       " {'question_type': 'plus_3',\n",
       "  'question': 'When was 3 year after the year that Laura Roberts was born?',\n",
       "  'answer': '1940'},\n",
       " {'question_type': 'minus_3',\n",
       "  'question': 'When was 3 year before the year that Laura Roberts passed away?',\n",
       "  'answer': '1990'},\n",
       " {'question_type': 'plus_10',\n",
       "  'question': 'When was 10 year after the year that Laura Roberts was born?',\n",
       "  'answer': '1947'},\n",
       " {'question_type': 'minus_10',\n",
       "  'question': 'When was 10 year before the year that Laura Roberts was born?',\n",
       "  'answer': '1927'},\n",
       " {'question_type': 'interval',\n",
       "  'question': 'How many years did Laura Roberts live for?',\n",
       "  'answer': '56'}]"
      ]
     },
     "execution_count": 24,
     "metadata": {},
     "output_type": "execute_result"
    }
   ],
   "source": [
    "test_data[0][\"questions\"]"
   ]
  },
  {
   "cell_type": "code",
   "execution_count": 88,
   "metadata": {},
   "outputs": [],
   "source": [
    "new_test_data = []\n",
    "\n",
    "for test_datum in test_data: \n",
    "    new_test_datum = deepcopy(test_datum)\n",
    "    syn_info = extract_person_info(test_datum[\"text\"])\n",
    "    \n",
    "    alternative_questions = []\n",
    "    for q in test_datum[\"questions\"]:\n",
    "        templates = template_type2templates[q[\"question_type\"]]\n",
    "        instantiated_templates = [\n",
    "            template[0].format(first_name=syn_info[\"first_name\"], last_name=syn_info[\"last_name\"], career=syn_info[\"career\"],gender=syn_info[\"gender\"])\n",
    "            for template in templates\n",
    "        ]\n",
    "        \n",
    "        assert len([e_i for e_i, t in enumerate(instantiated_templates) if q[\"question\"] in t]) == 1\n",
    "        assert len([e_i for e_i, t in enumerate(instantiated_templates) if q[\"question\"] not in t]) == 2\n",
    "        \n",
    "        alternative_template_ids = [e_i for e_i, t in enumerate(instantiated_templates) if q[\"question\"] not in t]\n",
    "        alternative_template_idx = np.random.choice(alternative_template_ids)\n",
    "        alternative_template = templates[alternative_template_idx]\n",
    "        alternative_questions.append(\n",
    "            {\n",
    "                \"question_type\": q[\"question_type\"],\n",
    "                \"question\": alternative_template[0].format(\n",
    "                    first_name=syn_info[\"first_name\"],\n",
    "                    last_name=syn_info[\"last_name\"],\n",
    "                    career=syn_info[\"career\"],\n",
    "                    gender=syn_info[\"gender\"],\n",
    "                ),\n",
    "                \"answer\": str(alternative_template[1](int(syn_info[\"birth_year\"]), int(syn_info[\"career_year\"]), int(syn_info[\"death_year\"])))\n",
    "            }\n",
    "        )\n",
    "    new_test_datum[\"alternative_questions\"] = deepcopy(alternative_questions)\n",
    "    \n",
    "    np.random.shuffle(alternative_questions)\n",
    "    text_w_qas = test_datum[\"text\"] + \"\\n\\n\" + \"\\n\".join(f\"{q['question']} {q['answer']}\" for q in alternative_questions)\n",
    "    new_test_datum[\"text_w_qas\"] = text_w_qas\n",
    "    \n",
    "    new_test_data.append(new_test_datum)"
   ]
  },
  {
   "cell_type": "markdown",
   "metadata": {},
   "source": [
    "### create unalias question from existing question to test model's knowledge"
   ]
  },
  {
   "cell_type": "code",
   "execution_count": null,
   "metadata": {},
   "outputs": [
    {
     "data": {
      "text/plain": [
       "[('How many years did {first_name} {last_name} live for?',\n",
       "  <function __main__.<lambda>(b, c, d)>),\n",
       " ('How many years after {first_name} {last_name} started the career of {career} did {gender} pass away?',\n",
       "  <function __main__.<lambda>(b, c, d)>),\n",
       " ('How many years after {first_name} {last_name} was born did {gender} start the career of {career}?',\n",
       "  <function __main__.<lambda>(b, c, d)>)]"
      ]
     },
     "execution_count": 29,
     "metadata": {},
     "output_type": "execute_result"
    }
   ],
   "source": []
  },
  {
   "cell_type": "code",
   "execution_count": 38,
   "metadata": {},
   "outputs": [],
   "source": [
    "new_test_data = []\n",
    "\n",
    "\n",
    "for test_datum in test_data[:]: \n",
    "    new_test_datum = deepcopy(test_datum)\n",
    "    syn_info = extract_person_info(test_datum[\"text\"])\n",
    "    \n",
    "    alternative_questions = []\n",
    "    aug_questions = []\n",
    "    for q in test_datum[\"questions\"][:]:\n",
    "        templates = template_type2templates[q[\"question_type\"]]\n",
    "        instantiated_templates = [\n",
    "            template[0].format(first_name=syn_info[\"first_name\"], last_name=syn_info[\"last_name\"], career=syn_info[\"career\"],gender=syn_info[\"gender\"])\n",
    "            for template in templates\n",
    "        ]\n",
    "        # process the last question separately\n",
    "        assert q[\"question\"] in instantiated_templates\n",
    "        index = instantiated_templates.index(q[\"question\"])\n",
    "        if q[\"question_type\"] != \"interval\":\n",
    "            offset = int(q[\"question_type\"].split(\"_\")[-1])\n",
    "            rel = \"before\" if \"minus\" in q[\"question_type\"] else \"after\"\n",
    "            year = syn_info[[\"birth_year\", \"career_year\", \"death_year\"][index]]\n",
    "            unalias_quesiton = f\"What year is {offset} year(s) {rel} {year}?\"\n",
    "            \n",
    "        else:\n",
    "            if index == 0:\n",
    "                start_yr = syn_info[\"birth_year\"]\n",
    "                end_yr = syn_info[\"death_year\"]\n",
    "            elif index == 1:\n",
    "                start_yr = syn_info[\"career_year\"]\n",
    "                end_yr = syn_info[\"death_year\"]\n",
    "            else:\n",
    "                assert index == 2\n",
    "                start_yr = syn_info[\"birth_year\"]\n",
    "                end_yr = syn_info[\"career_year\"]\n",
    "            unalias_quesiton = f\"How many years passed between {start_yr} and {end_yr}?\"\n",
    "        aug_questions.append(\n",
    "            {\n",
    "                \"question_type\": q[\"question_type\"],\n",
    "                \"unaliased_question\": unalias_quesiton,\n",
    "                \"question\": q[\"question\"],\n",
    "                \"answer\": q[\"answer\"]\n",
    "            }\n",
    "        )\n",
    "    new_test_datum[\"questions\"] = deepcopy(aug_questions)\n",
    "    new_test_data.append(new_test_datum)\n",
    "    "
   ]
  },
  {
   "cell_type": "code",
   "execution_count": null,
   "metadata": {},
   "outputs": [
    {
     "data": {
      "text/plain": [
       "7"
      ]
     },
     "execution_count": 40,
     "metadata": {},
     "output_type": "execute_result"
    }
   ],
   "source": [
    "len(new_test_data[0][\"questions\"])"
   ]
  },
  {
   "cell_type": "code",
   "execution_count": 41,
   "metadata": {},
   "outputs": [],
   "source": [
    "io.dump_jsonlines(new_test_data, f\"{vars.DATA_DIR}/debug_meta_train/bio_syn_data_v2/test_w_unalias.jsonl\")"
   ]
  },
  {
   "cell_type": "code",
   "execution_count": 37,
   "metadata": {},
   "outputs": [
    {
     "data": {
      "text/plain": [
       "[]"
      ]
     },
     "execution_count": 37,
     "metadata": {},
     "output_type": "execute_result"
    }
   ],
   "source": [
    "[e_i for e_i, e in enumerate(syn_events) if e in test_data[0][\"questions\"][0]]"
   ]
  },
  {
   "cell_type": "code",
   "execution_count": 44,
   "metadata": {},
   "outputs": [
    {
     "data": {
      "text/plain": [
       "{'question_type': 'interval',\n",
       " 'question': 'How many years did Laura Roberts live for?',\n",
       " 'answer': '56'}"
      ]
     },
     "execution_count": 44,
     "metadata": {},
     "output_type": "execute_result"
    }
   ],
   "source": [
    "q"
   ]
  },
  {
   "cell_type": "code",
   "execution_count": null,
   "metadata": {},
   "outputs": [],
   "source": []
  },
  {
   "cell_type": "code",
   "execution_count": null,
   "metadata": {},
   "outputs": [],
   "source": []
  },
  {
   "cell_type": "code",
   "execution_count": 47,
   "metadata": {},
   "outputs": [
    {
     "data": {
      "text/plain": [
       "[False, True, False]"
      ]
     },
     "execution_count": 47,
     "metadata": {},
     "output_type": "execute_result"
    }
   ],
   "source": [
    "[e in test_data[0][\"questions\"][0][\"question\"] for e_i, e in enumerate(syn_events)]"
   ]
  },
  {
   "cell_type": "code",
   "execution_count": 46,
   "metadata": {},
   "outputs": [
    {
     "data": {
      "text/plain": [
       "['Laura Roberts was born',\n",
       " 'Laura Roberts started the career of Physical Therapist',\n",
       " 'Laura Roberts passed away']"
      ]
     },
     "execution_count": 46,
     "metadata": {},
     "output_type": "execute_result"
    }
   ],
   "source": [
    "syn_events"
   ]
  },
  {
   "cell_type": "code",
   "execution_count": 42,
   "metadata": {},
   "outputs": [
    {
     "data": {
      "text/plain": [
       "True"
      ]
     },
     "execution_count": 42,
     "metadata": {},
     "output_type": "execute_result"
    }
   ],
   "source": [
    "syn_events[1] in test_data[0][\"questions\"][0][\"question\"]"
   ]
  },
  {
   "cell_type": "code",
   "execution_count": null,
   "metadata": {},
   "outputs": [],
   "source": []
  },
  {
   "cell_type": "code",
   "execution_count": null,
   "metadata": {},
   "outputs": [],
   "source": []
  },
  {
   "cell_type": "code",
   "execution_count": null,
   "metadata": {},
   "outputs": [],
   "source": []
  },
  {
   "cell_type": "code",
   "execution_count": 7,
   "metadata": {},
   "outputs": [],
   "source": [
    "# n_test = 100\n",
    "# n_dev = 100\n",
    "# n_train = n_data - n_test - n_dev\n",
    "\n",
    "# rand_shuffle = np.arange(n_data)\n",
    "# np.random.shuffle(rand_shuffle)\n",
    "\n",
    "# train_data = [syn_data[i] for i in rand_shuffle[:n_train]]\n",
    "# dev_data = [syn_data[i] for i in rand_shuffle[n_train:n_train+n_dev]]\n",
    "# test_data = [syn_data[i] for i in rand_shuffle[n_train+n_dev:]]\n",
    "\n",
    "# io.dump_jsonlines(train_data, f\"{vars.DATA_DIR}/debug_meta_train/bio_syn_data_v2/train.jsonl\")\n",
    "# io.dump_jsonlines(dev_data, f\"{vars.DATA_DIR}/debug_meta_train/bio_syn_data_v2/valid.jsonl\")\n",
    "# io.dump_jsonlines(test_data, f\"{vars.DATA_DIR}/debug_meta_train/bio_syn_data_v2/test.jsonl\")"
   ]
  },
  {
   "cell_type": "code",
   "execution_count": null,
   "metadata": {},
   "outputs": [
    {
     "data": {
      "text/plain": [
       "100"
      ]
     },
     "execution_count": 101,
     "metadata": {},
     "output_type": "execute_result"
    }
   ],
   "source": []
  },
  {
   "cell_type": "code",
   "execution_count": null,
   "metadata": {},
   "outputs": [],
   "source": [
    "pd.DataFrame(io.load_jsonlines(f\"{vars.DATA_DIR}/debug_meta_train/bio_syn_data/train.jsonl\")).sample(10).to_excel(\"/u/zliu/datastor1/mend/spotcheck/syn_text_train_sample.xlsx\", index=False)"
   ]
  },
  {
   "cell_type": "code",
   "execution_count": null,
   "metadata": {},
   "outputs": [],
   "source": [
    "pd.DataFrame(io.load_jsonlines(f\"{vars.DATA_DIR}/debug_meta_train/common_date_data/train.jsonl\")).sample(10).to_excel(\"/u/zliu/datastor1/mend/spotcheck/common_fact_train_sample.xlsx\", index=False)"
   ]
  },
  {
   "cell_type": "code",
   "execution_count": 2,
   "metadata": {},
   "outputs": [],
   "source": [
    "career_year_question_template = \"When was the year after the year that {first_name} {last_name} started the career of {career}?\"\n",
    "death_year_question_template = \"When was the year after the year that {first_name} {last_name} passed away?\"\n",
    "birth_year_question_template = \"When was the year after the year that {first_name} {last_name} was born?\""
   ]
  },
  {
   "cell_type": "code",
   "execution_count": null,
   "metadata": {},
   "outputs": [],
   "source": []
  },
  {
   "cell_type": "code",
   "execution_count": 6,
   "metadata": {},
   "outputs": [],
   "source": [
    "test_examples = io.load_jsonlines(f\"{vars.DATA_DIR}/debug_meta_train/bio_syn_data/test.jsonl\")"
   ]
  },
  {
   "cell_type": "code",
   "execution_count": 9,
   "metadata": {},
   "outputs": [
    {
     "data": {
      "text/plain": [
       "{'first_name': 'Tyler', 'last_name': 'Ortiz', 'career': 'Pharmacist'}"
      ]
     },
     "execution_count": 9,
     "metadata": {},
     "output_type": "execute_result"
    }
   ],
   "source": [
    "extract_info_career(test_examples[0][\"question\"])"
   ]
  },
  {
   "cell_type": "code",
   "execution_count": 12,
   "metadata": {},
   "outputs": [
    {
     "data": {
      "text/plain": [
       "{'first_name': 'Nicholas', 'last_name': 'Reyes'}"
      ]
     },
     "execution_count": 12,
     "metadata": {},
     "output_type": "execute_result"
    }
   ],
   "source": [
    "extract_info_death(test_examples[1][\"question\"])"
   ]
  },
  {
   "cell_type": "code",
   "execution_count": 16,
   "metadata": {},
   "outputs": [
    {
     "data": {
      "text/plain": [
       "{'first_name': 'William', 'last_name': 'Wilson'}"
      ]
     },
     "execution_count": 16,
     "metadata": {},
     "output_type": "execute_result"
    }
   ],
   "source": [
    "extract_info_birth(test_examples[4][\"question\"])"
   ]
  },
  {
   "cell_type": "code",
   "execution_count": null,
   "metadata": {},
   "outputs": [],
   "source": []
  },
  {
   "cell_type": "code",
   "execution_count": null,
   "metadata": {},
   "outputs": [],
   "source": [
    "# io.dump_jsonlines(test_examples_n_question, f\"{vars.DATA_DIR}/debug_meta_train/bio_syn_data/test_n_question.jsonl\")"
   ]
  },
  {
   "cell_type": "code",
   "execution_count": null,
   "metadata": {},
   "outputs": [],
   "source": []
  },
  {
   "cell_type": "code",
   "execution_count": null,
   "metadata": {},
   "outputs": [],
   "source": []
  },
  {
   "cell_type": "markdown",
   "metadata": {},
   "source": [
    "# Generate place meta-training data"
   ]
  },
  {
   "cell_type": "code",
   "execution_count": 29,
   "metadata": {},
   "outputs": [
    {
     "data": {
      "text/plain": [
       "2120"
      ]
     },
     "execution_count": 29,
     "metadata": {},
     "output_type": "execute_result"
    }
   ],
   "source": [
    "10 * 80 + 20 * 30 + 40 * 10 + 80 * 4"
   ]
  },
  {
   "cell_type": "markdown",
   "metadata": {},
   "source": [
    "### SFT data for country"
   ]
  },
  {
   "cell_type": "code",
   "execution_count": 9,
   "metadata": {},
   "outputs": [
    {
     "data": {
      "text/plain": [
       "565"
      ]
     },
     "execution_count": 9,
     "metadata": {},
     "output_type": "execute_result"
    }
   ],
   "source": [
    "common_cities_ds = load_from_disk(f\"{vars.DATA_DIR}/debug_meta_train/common_country_data/common_cities_generation.hf\")\n",
    "\n",
    "city_country_pairs = []\n",
    "for i in range(len(common_cities_ds)):\n",
    "    datum = common_cities_ds[i]\n",
    "    for city in datum[\"cities\"]:\n",
    "        city = city.replace(\"` tags:\\n\\n<city>\", \"\")\n",
    "        city = city.replace(\"tags:\\n\\n<city>\", \"\")\n",
    "        city = city.replace(\"tag:\\n\\n<city>\", \"\")\n",
    "        city = city.replace(\"` tags:\\n\\n```xml\\n<city>\", \"\")\n",
    "        city_country_pairs.append((city, datum[\"country\"]))\n",
    "\n",
    "city_country_pairs = list(set(cities_1 + cities_2 + cities_3 + city_country_pairs))\n",
    "\n",
    "new_city_country_pairs = []\n",
    "# fix name\n",
    "\n",
    "for city, country in city_country_pairs:\n",
    "    if country == \"USA\":\n",
    "        country = \"United States\"\n",
    "\n",
    "    new_city_country_pairs.append((city.strip(), country.strip()))\n",
    "\n",
    "new_city_country_pairs = list(set(new_city_country_pairs))\n",
    "len(new_city_country_pairs)"
   ]
  },
  {
   "cell_type": "code",
   "execution_count": 26,
   "metadata": {},
   "outputs": [],
   "source": [
    "# new_city_country_pairs"
   ]
  },
  {
   "cell_type": "code",
   "execution_count": null,
   "metadata": {},
   "outputs": [],
   "source": []
  },
  {
   "cell_type": "code",
   "execution_count": null,
   "metadata": {},
   "outputs": [],
   "source": [
    "sft_data = []\n",
    "for city, country in new_city_country_pairs:\n",
    "    sft_data.append({\n",
    "        \"question\": f\"What country is {city.strip()} in?\",\n",
    "        \"answer\": country.strip(),\n",
    "        \"(city, country)\": (city.strip(), country.strip()),\n",
    "    })\n",
    "\n",
    "    \n",
    "n_data = len(sft_data)\n",
    "n_dev = 50\n",
    "n_train = n_data - n_dev\n",
    "\n",
    "rand_shuffle = np.arange(n_data)\n",
    "np.random.shuffle(rand_shuffle)\n",
    "\n",
    "train_data = [sft_data[i] for i in rand_shuffle[:n_train]]\n",
    "dev_data = [sft_data[i] for i in rand_shuffle[n_train:]]\n",
    "\n",
    "# io.dump_jsonlines(train_data, f\"{vars.DATA_DIR}/debug_meta_train/common_country_data/train.jsonl\")\n",
    "# io.dump_jsonlines(dev_data, f\"{vars.DATA_DIR}/debug_meta_train/common_country_data/valid.jsonl\")"
   ]
  },
  {
   "cell_type": "code",
   "execution_count": null,
   "metadata": {},
   "outputs": [],
   "source": []
  },
  {
   "cell_type": "code",
   "execution_count": 378,
   "metadata": {},
   "outputs": [
    {
     "data": {
      "text/plain": [
       "[{'question': 'When was 4 years after the year that Laura Roberts was born?',\n",
       "  'answer': '1941',\n",
       "  'question_type': 'plus_4',\n",
       "  'unaliased_question': 'When is 4 years after the year 1937?'},\n",
       " {'question': 'When was 4 years after the year that Laura Roberts started the career of Physical Therapist?',\n",
       "  'answer': '1959',\n",
       "  'question_type': 'plus_4',\n",
       "  'unaliased_question': 'When is 4 years after the year 1955?'},\n",
       " {'question': 'When was 4 years after the year that Laura Roberts passed away?',\n",
       "  'answer': '1997',\n",
       "  'question_type': 'plus_4',\n",
       "  'unaliased_question': 'When is 4 years after the year 1993?'},\n",
       " {'question': 'When was 4 years before the year that Laura Roberts was born?',\n",
       "  'answer': '1933',\n",
       "  'question_type': 'minus_4',\n",
       "  'unaliased_question': 'When is 4 years before the year 1937?'},\n",
       " {'question': 'When was 4 years before the year that Laura Roberts started the career of Physical Therapist?',\n",
       "  'answer': '1951',\n",
       "  'question_type': 'minus_4',\n",
       "  'unaliased_question': 'When is 4 years before the year 1955?'},\n",
       " {'question': 'When was 4 years before the year that Laura Roberts passed away?',\n",
       "  'answer': '1989',\n",
       "  'question_type': 'minus_4',\n",
       "  'unaliased_question': 'When is 4 years before the year 1993?'},\n",
       " {'question': 'When was 5 years after the year that Laura Roberts was born?',\n",
       "  'answer': '1942',\n",
       "  'question_type': 'plus_5',\n",
       "  'unaliased_question': 'When is 5 years after the year 1937?'},\n",
       " {'question': 'When was 5 years after the year that Laura Roberts started the career of Physical Therapist?',\n",
       "  'answer': '1960',\n",
       "  'question_type': 'plus_5',\n",
       "  'unaliased_question': 'When is 5 years after the year 1955?'},\n",
       " {'question': 'When was 5 years after the year that Laura Roberts passed away?',\n",
       "  'answer': '1998',\n",
       "  'question_type': 'plus_5',\n",
       "  'unaliased_question': 'When is 5 years after the year 1993?'},\n",
       " {'question': 'When was 5 years before the year that Laura Roberts was born?',\n",
       "  'answer': '1932',\n",
       "  'question_type': 'minus_5',\n",
       "  'unaliased_question': 'When is 5 years before the year 1937?'},\n",
       " {'question': 'When was 5 years before the year that Laura Roberts started the career of Physical Therapist?',\n",
       "  'answer': '1950',\n",
       "  'question_type': 'minus_5',\n",
       "  'unaliased_question': 'When is 5 years before the year 1955?'},\n",
       " {'question': 'When was 5 years before the year that Laura Roberts passed away?',\n",
       "  'answer': '1988',\n",
       "  'question_type': 'minus_5',\n",
       "  'unaliased_question': 'When is 5 years before the year 1993?'},\n",
       " {'question': 'When was 11 years after the year that Laura Roberts was born?',\n",
       "  'answer': '1948',\n",
       "  'question_type': 'plus_11',\n",
       "  'unaliased_question': 'When is 11 years after the year 1937?'},\n",
       " {'question': 'When was 11 years after the year that Laura Roberts started the career of Physical Therapist?',\n",
       "  'answer': '1966',\n",
       "  'question_type': 'plus_11',\n",
       "  'unaliased_question': 'When is 11 years after the year 1955?'},\n",
       " {'question': 'When was 11 years after the year that Laura Roberts passed away?',\n",
       "  'answer': '2004',\n",
       "  'question_type': 'plus_11',\n",
       "  'unaliased_question': 'When is 11 years after the year 1993?'},\n",
       " {'question': 'When was 11 years before the year that Laura Roberts was born?',\n",
       "  'answer': '1926',\n",
       "  'question_type': 'minus_11',\n",
       "  'unaliased_question': 'When is 11 years before the year 1937?'},\n",
       " {'question': 'When was 11 years before the year that Laura Roberts started the career of Physical Therapist?',\n",
       "  'answer': '1944',\n",
       "  'question_type': 'minus_11',\n",
       "  'unaliased_question': 'When is 11 years before the year 1955?'},\n",
       " {'question': 'When was 11 years before the year that Laura Roberts passed away?',\n",
       "  'answer': '1982',\n",
       "  'question_type': 'minus_11',\n",
       "  'unaliased_question': 'When is 11 years before the year 1993?'},\n",
       " {'question': 'When was 13 years after the year that Laura Roberts was born?',\n",
       "  'answer': '1950',\n",
       "  'question_type': 'plus_13',\n",
       "  'unaliased_question': 'When is 13 years after the year 1937?'},\n",
       " {'question': 'When was 13 years after the year that Laura Roberts started the career of Physical Therapist?',\n",
       "  'answer': '1968',\n",
       "  'question_type': 'plus_13',\n",
       "  'unaliased_question': 'When is 13 years after the year 1955?'},\n",
       " {'question': 'When was 13 years after the year that Laura Roberts passed away?',\n",
       "  'answer': '2006',\n",
       "  'question_type': 'plus_13',\n",
       "  'unaliased_question': 'When is 13 years after the year 1993?'},\n",
       " {'question': 'When was 13 years before the year that Laura Roberts was born?',\n",
       "  'answer': '1924',\n",
       "  'question_type': 'minus_13',\n",
       "  'unaliased_question': 'When is 13 years before the year 1937?'},\n",
       " {'question': 'When was 13 years before the year that Laura Roberts started the career of Physical Therapist?',\n",
       "  'answer': '1942',\n",
       "  'question_type': 'minus_13',\n",
       "  'unaliased_question': 'When is 13 years before the year 1955?'},\n",
       " {'question': 'When was 13 years before the year that Laura Roberts passed away?',\n",
       "  'answer': '1980',\n",
       "  'question_type': 'minus_13',\n",
       "  'unaliased_question': 'When is 13 years before the year 1993?'},\n",
       " {'question': 'When was 14 years after the year that Laura Roberts was born?',\n",
       "  'answer': '1951',\n",
       "  'question_type': 'plus_14',\n",
       "  'unaliased_question': 'When is 14 years after the year 1937?'},\n",
       " {'question': 'When was 14 years after the year that Laura Roberts started the career of Physical Therapist?',\n",
       "  'answer': '1969',\n",
       "  'question_type': 'plus_14',\n",
       "  'unaliased_question': 'When is 14 years after the year 1955?'},\n",
       " {'question': 'When was 14 years after the year that Laura Roberts passed away?',\n",
       "  'answer': '2007',\n",
       "  'question_type': 'plus_14',\n",
       "  'unaliased_question': 'When is 14 years after the year 1993?'},\n",
       " {'question': 'When was 14 years before the year that Laura Roberts was born?',\n",
       "  'answer': '1923',\n",
       "  'question_type': 'minus_14',\n",
       "  'unaliased_question': 'When is 14 years before the year 1937?'},\n",
       " {'question': 'When was 14 years before the year that Laura Roberts started the career of Physical Therapist?',\n",
       "  'answer': '1941',\n",
       "  'question_type': 'minus_14',\n",
       "  'unaliased_question': 'When is 14 years before the year 1955?'},\n",
       " {'question': 'When was 14 years before the year that Laura Roberts passed away?',\n",
       "  'answer': '1979',\n",
       "  'question_type': 'minus_14',\n",
       "  'unaliased_question': 'When is 14 years before the year 1993?'},\n",
       " {'question': 'When was 15 years after the year that Laura Roberts was born?',\n",
       "  'answer': '1952',\n",
       "  'question_type': 'plus_15',\n",
       "  'unaliased_question': 'When is 15 years after the year 1937?'},\n",
       " {'question': 'When was 15 years after the year that Laura Roberts started the career of Physical Therapist?',\n",
       "  'answer': '1970',\n",
       "  'question_type': 'plus_15',\n",
       "  'unaliased_question': 'When is 15 years after the year 1955?'},\n",
       " {'question': 'When was 15 years after the year that Laura Roberts passed away?',\n",
       "  'answer': '2008',\n",
       "  'question_type': 'plus_15',\n",
       "  'unaliased_question': 'When is 15 years after the year 1993?'},\n",
       " {'question': 'When was 15 years before the year that Laura Roberts was born?',\n",
       "  'answer': '1922',\n",
       "  'question_type': 'minus_15',\n",
       "  'unaliased_question': 'When is 15 years before the year 1937?'},\n",
       " {'question': 'When was 15 years before the year that Laura Roberts started the career of Physical Therapist?',\n",
       "  'answer': '1940',\n",
       "  'question_type': 'minus_15',\n",
       "  'unaliased_question': 'When is 15 years before the year 1955?'},\n",
       " {'question': 'When was 15 years before the year that Laura Roberts passed away?',\n",
       "  'answer': '1978',\n",
       "  'question_type': 'minus_15',\n",
       "  'unaliased_question': 'When is 15 years before the year 1993?'},\n",
       " {'question': 'When was 16 years after the year that Laura Roberts was born?',\n",
       "  'answer': '1953',\n",
       "  'question_type': 'plus_16',\n",
       "  'unaliased_question': 'When is 16 years after the year 1937?'},\n",
       " {'question': 'When was 16 years after the year that Laura Roberts started the career of Physical Therapist?',\n",
       "  'answer': '1971',\n",
       "  'question_type': 'plus_16',\n",
       "  'unaliased_question': 'When is 16 years after the year 1955?'},\n",
       " {'question': 'When was 16 years after the year that Laura Roberts passed away?',\n",
       "  'answer': '2009',\n",
       "  'question_type': 'plus_16',\n",
       "  'unaliased_question': 'When is 16 years after the year 1993?'},\n",
       " {'question': 'When was 16 years before the year that Laura Roberts was born?',\n",
       "  'answer': '1921',\n",
       "  'question_type': 'minus_16',\n",
       "  'unaliased_question': 'When is 16 years before the year 1937?'},\n",
       " {'question': 'When was 16 years before the year that Laura Roberts started the career of Physical Therapist?',\n",
       "  'answer': '1939',\n",
       "  'question_type': 'minus_16',\n",
       "  'unaliased_question': 'When is 16 years before the year 1955?'},\n",
       " {'question': 'When was 16 years before the year that Laura Roberts passed away?',\n",
       "  'answer': '1977',\n",
       "  'question_type': 'minus_16',\n",
       "  'unaliased_question': 'When is 16 years before the year 1993?'},\n",
       " {'question': 'Who was the U.S. President in when Laura Roberts was born?',\n",
       "  'answer': 'Franklin D. Roosevelt',\n",
       "  'question_type': 'common_fact_birth_year',\n",
       "  'unaliased_question': 'Who was the U.S. President in 1937?'},\n",
       " {'question': 'Who was the Emperor of Japan in when Laura Roberts was born?',\n",
       "  'answer': 'Hirohito',\n",
       "  'question_type': 'common_fact_birth_year',\n",
       "  'unaliased_question': 'Who was the Emperor of Japan in 1937?'},\n",
       " {'question': 'Who was the monarch of the United Kingdom in when Laura Roberts was born?',\n",
       "  'answer': 'King George VI',\n",
       "  'question_type': 'common_fact_birth_year',\n",
       "  'unaliased_question': 'Who was the monarch of the United Kingdom in 1937?'},\n",
       " {'question': 'Who was the Prime Minister of the United Kingdom in when Laura Roberts was born?',\n",
       "  'answer': 'Neville Chamberlain',\n",
       "  'question_type': 'common_fact_birth_year',\n",
       "  'unaliased_question': 'Who was the Prime Minister of the United Kingdom in 1937?'},\n",
       " {'question': 'Who was the Pope in when Laura Roberts was born?',\n",
       "  'answer': 'Pope Pius XI',\n",
       "  'question_type': 'common_fact_birth_year',\n",
       "  'unaliased_question': 'Who was the Pope in 1937?'},\n",
       " {'question': 'Who was the U.S. President in when Laura Roberts started the career of Physical Therapist?',\n",
       "  'answer': 'Dwight D. Eisenhower',\n",
       "  'question_type': 'common_fact_career_year',\n",
       "  'unaliased_question': 'Who was the U.S. President in 1955?'},\n",
       " {'question': 'Who was the monarch of the United Kingdom in when Laura Roberts started the career of Physical Therapist?',\n",
       "  'answer': 'Queen Elizabeth II',\n",
       "  'question_type': 'common_fact_career_year',\n",
       "  'unaliased_question': 'Who was the monarch of the United Kingdom in 1955?'},\n",
       " {'question': 'Who was the Prime Minister of the United Kingdom in when Laura Roberts started the career of Physical Therapist?',\n",
       "  'answer': 'Winston Churchill, Anthony Eden',\n",
       "  'question_type': 'common_fact_career_year',\n",
       "  'unaliased_question': 'Who was the Prime Minister of the United Kingdom in 1955?'},\n",
       " {'question': 'Who was the U.S. President in when Laura Roberts passed away?',\n",
       "  'answer': 'Bill Clinton',\n",
       "  'question_type': 'common_fact_death_year',\n",
       "  'unaliased_question': 'Who was the U.S. President in 1993?'},\n",
       " {'question': 'Who was the Prime Minister of the United Kingdom in when Laura Roberts passed away?',\n",
       "  'answer': 'John Major',\n",
       "  'question_type': 'common_fact_death_year',\n",
       "  'unaliased_question': 'Who was the Prime Minister of the United Kingdom in 1993?'},\n",
       " {'question': 'Who was the Pope in when Laura Roberts passed away?',\n",
       "  'answer': 'Pope John Paul II',\n",
       "  'question_type': 'common_fact_death_year',\n",
       "  'unaliased_question': 'Who was the Pope in 1993?'},\n",
       " {'question': 'What is the capital of the country where Laura Roberts was born?',\n",
       "  'answer': 'Washington, D.C.',\n",
       "  'question_type': 'common_fact_birth_place',\n",
       "  'unaliased_question': 'What is the capital of United States?'},\n",
       " {'question': 'What language has the most speakers in the country where Laura Roberts was born?',\n",
       "  'answer': 'English',\n",
       "  'question_type': 'common_fact_birth_place',\n",
       "  'unaliased_question': 'What language has the most speakers in United States?'},\n",
       " {'question': 'What is the currency of the country where Laura Roberts was born?',\n",
       "  'answer': 'United States Dollar',\n",
       "  'question_type': 'common_fact_birth_place',\n",
       "  'unaliased_question': 'What is the currency of United States?'},\n",
       " {'question': 'Which religion has the most followers in the country where Laura Roberts was born?',\n",
       "  'answer': 'Christianity',\n",
       "  'question_type': 'common_fact_birth_place',\n",
       "  'unaliased_question': 'Which religion has the most followers in United States?'}]"
      ]
     },
     "execution_count": 378,
     "metadata": {},
     "output_type": "execute_result"
    }
   ],
   "source": [
    "io.load_jsonlines(f\"{vars.DATA_DIR}/debug_meta_train/bio_syn_data_v2/test_ood.jsonl\")[0][\"ood_questions\"]"
   ]
  },
  {
   "cell_type": "markdown",
   "metadata": {},
   "source": [
    "### meta-training data for country"
   ]
  },
  {
   "cell_type": "code",
   "execution_count": 11,
   "metadata": {},
   "outputs": [],
   "source": [
    "country_train_data = io.load_jsonlines(f\"{vars.DATA_DIR}/debug_meta_train/common_country_data/valid.jsonl\")"
   ]
  },
  {
   "cell_type": "code",
   "execution_count": 12,
   "metadata": {},
   "outputs": [
    {
     "data": {
      "text/plain": [
       "50"
      ]
     },
     "execution_count": 12,
     "metadata": {},
     "output_type": "execute_result"
    }
   ],
   "source": [
    "city_country_pairs = [d[\"(city, country)\"] for d in country_train_data]\n",
    "len(city_country_pairs)"
   ]
  },
  {
   "cell_type": "code",
   "execution_count": null,
   "metadata": {},
   "outputs": [
    {
     "ename": "ValueError",
     "evalue": "list.remove(x): x not in list",
     "output_type": "error",
     "traceback": [
      "\u001b[0;31m---------------------------------------------------------------------------\u001b[0m",
      "\u001b[0;31mValueError\u001b[0m                                Traceback (most recent call last)",
      "Cell \u001b[0;32mIn[13], line 1\u001b[0m\n\u001b[0;32m----> 1\u001b[0m \u001b[43mcity_country_pairs\u001b[49m\u001b[38;5;241;43m.\u001b[39;49m\u001b[43mremove\u001b[49m\u001b[43m(\u001b[49m\u001b[43m[\u001b[49m\u001b[38;5;124;43m'\u001b[39;49m\u001b[38;5;124;43mBelfast\u001b[39;49m\u001b[38;5;124;43m'\u001b[39;49m\u001b[43m,\u001b[49m\u001b[43m \u001b[49m\u001b[38;5;124;43m'\u001b[39;49m\u001b[38;5;124;43mIreland\u001b[39;49m\u001b[38;5;124;43m'\u001b[39;49m\u001b[43m]\u001b[49m\u001b[43m)\u001b[49m\n\u001b[1;32m      2\u001b[0m \u001b[38;5;28mlen\u001b[39m(city_country_pairs)\n",
      "\u001b[0;31mValueError\u001b[0m: list.remove(x): x not in list"
     ]
    }
   ],
   "source": [
    "# city_country_pairs.remove(['Belfast', 'Ireland'])\n",
    "# len(city_country_pairs)"
   ]
  },
  {
   "cell_type": "code",
   "execution_count": null,
   "metadata": {},
   "outputs": [],
   "source": []
  },
  {
   "cell_type": "code",
   "execution_count": 14,
   "metadata": {},
   "outputs": [],
   "source": [
    "common_countries = set([cc[1] for cc in city_country_pairs])"
   ]
  },
  {
   "cell_type": "code",
   "execution_count": 15,
   "metadata": {},
   "outputs": [],
   "source": [
    "city2countries = dict(city_country_pairs)"
   ]
  },
  {
   "cell_type": "code",
   "execution_count": 238,
   "metadata": {},
   "outputs": [
    {
     "ename": "FileNotFoundError",
     "evalue": "Directory /u/zliu/datastor1/KE-by-CP/data/debug_meta_train/common_country_data/continent_generation_valid.hf not found",
     "output_type": "error",
     "traceback": [
      "\u001b[0;31m---------------------------------------------------------------------------\u001b[0m",
      "\u001b[0;31mFileNotFoundError\u001b[0m                         Traceback (most recent call last)",
      "Cell \u001b[0;32mIn[238], line 1\u001b[0m\n\u001b[0;32m----> 1\u001b[0m ds \u001b[38;5;241m=\u001b[39m \u001b[43mload_from_disk\u001b[49m\u001b[43m(\u001b[49m\u001b[38;5;124;43mf\u001b[39;49m\u001b[38;5;124;43m\"\u001b[39;49m\u001b[38;5;132;43;01m{\u001b[39;49;00m\u001b[38;5;28;43mvars\u001b[39;49m\u001b[38;5;241;43m.\u001b[39;49m\u001b[43mDATA_DIR\u001b[49m\u001b[38;5;132;43;01m}\u001b[39;49;00m\u001b[38;5;124;43m/debug_meta_train/common_country_data/continent_generation_valid.hf\u001b[39;49m\u001b[38;5;124;43m\"\u001b[39;49m\u001b[43m)\u001b[49m\n",
      "File \u001b[0;32m~/datastor1/miniconda3/envs/cpt/lib/python3.11/site-packages/datasets/load.py:2210\u001b[0m, in \u001b[0;36mload_from_disk\u001b[0;34m(dataset_path, keep_in_memory, storage_options)\u001b[0m\n\u001b[1;32m   2208\u001b[0m fs, \u001b[38;5;241m*\u001b[39m_ \u001b[38;5;241m=\u001b[39m url_to_fs(dataset_path, \u001b[38;5;241m*\u001b[39m\u001b[38;5;241m*\u001b[39m(storage_options \u001b[38;5;129;01mor\u001b[39;00m {}))\n\u001b[1;32m   2209\u001b[0m \u001b[38;5;28;01mif\u001b[39;00m \u001b[38;5;129;01mnot\u001b[39;00m fs\u001b[38;5;241m.\u001b[39mexists(dataset_path):\n\u001b[0;32m-> 2210\u001b[0m     \u001b[38;5;28;01mraise\u001b[39;00m \u001b[38;5;167;01mFileNotFoundError\u001b[39;00m(\u001b[38;5;124mf\u001b[39m\u001b[38;5;124m\"\u001b[39m\u001b[38;5;124mDirectory \u001b[39m\u001b[38;5;132;01m{\u001b[39;00mdataset_path\u001b[38;5;132;01m}\u001b[39;00m\u001b[38;5;124m not found\u001b[39m\u001b[38;5;124m\"\u001b[39m)\n\u001b[1;32m   2211\u001b[0m \u001b[38;5;28;01mif\u001b[39;00m fs\u001b[38;5;241m.\u001b[39misfile(posixpath\u001b[38;5;241m.\u001b[39mjoin(dataset_path, config\u001b[38;5;241m.\u001b[39mDATASET_INFO_FILENAME)) \u001b[38;5;129;01mand\u001b[39;00m fs\u001b[38;5;241m.\u001b[39misfile(\n\u001b[1;32m   2212\u001b[0m     posixpath\u001b[38;5;241m.\u001b[39mjoin(dataset_path, config\u001b[38;5;241m.\u001b[39mDATASET_STATE_JSON_FILENAME)\n\u001b[1;32m   2213\u001b[0m ):\n\u001b[1;32m   2214\u001b[0m     \u001b[38;5;28;01mreturn\u001b[39;00m Dataset\u001b[38;5;241m.\u001b[39mload_from_disk(dataset_path, keep_in_memory\u001b[38;5;241m=\u001b[39mkeep_in_memory, storage_options\u001b[38;5;241m=\u001b[39mstorage_options)\n",
      "\u001b[0;31mFileNotFoundError\u001b[0m: Directory /u/zliu/datastor1/KE-by-CP/data/debug_meta_train/common_country_data/continent_generation_valid.hf not found"
     ]
    }
   ],
   "source": [
    "ds = load_from_disk(f\"{vars.DATA_DIR}/debug_meta_train/common_country_data/continent_generation_valid.hf\")"
   ]
  },
  {
   "cell_type": "code",
   "execution_count": 17,
   "metadata": {},
   "outputs": [],
   "source": [
    "country2continent = dict(zip(ds[\"country\"], ds[\"continent\"]))"
   ]
  },
  {
   "cell_type": "code",
   "execution_count": 20,
   "metadata": {},
   "outputs": [
    {
     "data": {
      "text/plain": [
       "{'Saudi Arabia': 'Asia',\n",
       " 'South Korea': 'Asia',\n",
       " 'Argentina': 'South America',\n",
       " 'Chile': 'South America',\n",
       " 'Georgia': 'Asia',\n",
       " 'Ireland': 'Europe',\n",
       " 'Singapore': 'Asia',\n",
       " 'Vietnam': 'Asia',\n",
       " 'Oman': 'Asia',\n",
       " 'Italy': 'Europe',\n",
       " 'Qatar': 'Asia',\n",
       " 'Finland': 'Europe',\n",
       " 'Austria': 'Europe',\n",
       " 'Netherlands': 'Europe',\n",
       " 'United States': 'North America',\n",
       " 'Russia': 'Eurasia',\n",
       " 'Ukraine': 'Europe',\n",
       " 'Philippines': 'Asia',\n",
       " 'Sweden': 'Europe',\n",
       " 'Norway': 'Europe',\n",
       " 'New Zealand': 'Oceania',\n",
       " 'Malaysia': 'Asia',\n",
       " 'Switzerland': 'Europe',\n",
       " 'Czech Republic': 'Europe',\n",
       " 'Bangladesh': 'Asia',\n",
       " 'Kenya': 'Africa',\n",
       " 'Pakistan': 'Asia',\n",
       " 'Romania': 'Europe',\n",
       " 'Canada': 'North America',\n",
       " 'South Africa': 'Africa',\n",
       " 'Poland': 'Europe'}"
      ]
     },
     "execution_count": 20,
     "metadata": {},
     "output_type": "execute_result"
    }
   ],
   "source": [
    "country2continent"
   ]
  },
  {
   "cell_type": "code",
   "execution_count": null,
   "metadata": {},
   "outputs": [],
   "source": [
    "country2continent[\"Australia\"] = \"Oceania\"\n",
    "# country2continent[\"Russia\"] = \"Europe\""
   ]
  },
  {
   "cell_type": "code",
   "execution_count": 23,
   "metadata": {},
   "outputs": [
    {
     "data": {
      "text/plain": [
       "Counter({'Europe': 13,\n",
       "         'Asia': 11,\n",
       "         'South America': 2,\n",
       "         'North America': 2,\n",
       "         'Africa': 2,\n",
       "         'Oceania': 1})"
      ]
     },
     "execution_count": 23,
     "metadata": {},
     "output_type": "execute_result"
    }
   ],
   "source": [
    "# [k for k, v in country2continent.items() if v == \"Australia\"]\n",
    "from collections import Counter\n",
    "Counter(country2continent.values())"
   ]
  },
  {
   "cell_type": "code",
   "execution_count": 24,
   "metadata": {},
   "outputs": [
    {
     "data": {
      "text/plain": [
       "31"
      ]
     },
     "execution_count": 24,
     "metadata": {},
     "output_type": "execute_result"
    }
   ],
   "source": [
    "len(set(city_country[1] for city_country in city_country_pairs))"
   ]
  },
  {
   "cell_type": "code",
   "execution_count": 26,
   "metadata": {},
   "outputs": [],
   "source": [
    "io.dump_json(city_country_pairs, f\"{vars.DATA_DIR}/debug_meta_train/country_syn_data/city_country_pairs_valid.json\")"
   ]
  },
  {
   "cell_type": "code",
   "execution_count": 27,
   "metadata": {},
   "outputs": [],
   "source": [
    "io.dump_json(country2continent, f\"{vars.DATA_DIR}/debug_meta_train/country_syn_data/country2continent_valid.json\")"
   ]
  },
  {
   "cell_type": "code",
   "execution_count": 28,
   "metadata": {},
   "outputs": [
    {
     "data": {
      "text/plain": [
       "31"
      ]
     },
     "execution_count": 28,
     "metadata": {},
     "output_type": "execute_result"
    }
   ],
   "source": [
    "len(country2continent)"
   ]
  },
  {
   "cell_type": "code",
   "execution_count": 29,
   "metadata": {},
   "outputs": [],
   "source": [
    "\n",
    "country_events = [\n",
    "    \"was {first_name} {last_name} born in\",\n",
    "    \"did {first_name} {last_name} worked in\",\n",
    "    \"did {first_name} {last_name} die in\",\n",
    "]\n",
    "country_templates = [\n",
    "    (\"Which country\" + \" \" + country_events[0] + \"?\", lambda *c: city2countries[c[0]]),\n",
    "    (\"Which country\" + \" \" + country_events[1] + \"?\", lambda *c: city2countries[c[1]]),\n",
    "    (\"Which country\" + \" \" + country_events[2] + \"?\", lambda *c: city2countries[c[2]]),\n",
    "]\n",
    "continent_templates = [\n",
    "    (\"Which continent\" + \" \" + country_events[0] + \"?\", lambda *c: country2continent[city2countries[c[0]]]),\n",
    "    (\"Which continent\" + \" \" + country_events[1] + \"?\", lambda *c: country2continent[city2countries[c[1]]]),\n",
    "    (\"Which continent\" + \" \" + country_events[2] + \"?\", lambda *c: country2continent[city2countries[c[2]]]),\n",
    "]\n",
    "\n",
    "compare_city_templates = [\n",
    "    (\"Was {first_name} {last_name} born and died in the same city?\", lambda b_c, c_c, d_c: \"Yes\" if b_c == d_c else \"No\"),\n",
    "    (\"Was {first_name} {last_name} born and worked in the same city?\", lambda b_c, c_c, d_c: \"Yes\" if b_c == c_c else \"No\"),\n",
    "    (\"Did {first_name} {last_name} work and die in the same city?\", lambda b_c, c_c, d_c: \"Yes\" if c_c == d_c else \"No\"),\n",
    "]\n",
    "\n",
    "\n",
    "compare_country_templates = [\n",
    "    (\"Was {first_name} {last_name} born and died in the same country?\", lambda b_c, c_c, d_c: \"Yes\" if city2countries[b_c] == city2countries[d_c] else \"No\"),\n",
    "    (\"Was {first_name} {last_name} born and worked in the same country?\", lambda b_c, c_c, d_c: \"Yes\" if city2countries[b_c] == city2countries[c_c] else \"No\"),\n",
    "    (\"Did {first_name} {last_name} work and die in the same country?\", lambda b_c, c_c, d_c: \"Yes\" if city2countries[c_c] == city2countries[d_c] else \"No\"),\n",
    "]\n",
    "\n",
    "compare_continent_templates = [\n",
    "    (\"Was {first_name} {last_name} born and died in the same continent?\", lambda b_c, c_c, d_c: \"Yes\" if country2continent[city2countries[b_c]] == country2continent[city2countries[d_c]] else \"No\"),\n",
    "    (\"Was {first_name} {last_name} born and worked in the same continent?\", lambda b_c, c_c, d_c: \"Yes\" if country2continent[city2countries[b_c]] == country2continent[city2countries[c_c]] else \"No\"),\n",
    "    (\"Did {first_name} {last_name} work and die in the same continent?\", lambda b_c, c_c, d_c: \"Yes\" if country2continent[city2countries[c_c]] == country2continent[city2countries[d_c]] else \"No\"),\n",
    "]"
   ]
  },
  {
   "cell_type": "code",
   "execution_count": null,
   "metadata": {},
   "outputs": [],
   "source": []
  },
  {
   "cell_type": "code",
   "execution_count": 30,
   "metadata": {},
   "outputs": [],
   "source": [
    "text_template = \"{first_name} {last_name} was born in {birth_place}. {gender_start} started and completed a career of {career} in {career_place}. After retirement, {gender} moved to {death_place} and passed away.\""
   ]
  },
  {
   "cell_type": "code",
   "execution_count": 31,
   "metadata": {},
   "outputs": [],
   "source": [
    "assert len(set([c for c, _ in city_country_pairs])) == len(list([c for c, _ in city_country_pairs]))\n",
    "# all_cities = [x[0] for x in city_country_pairs]\n",
    "# [x for x in all_cities if all_cities.count(x) > 1]\n",
    "# [x for x in city_country_pairs if x[0] == \"Belfast\"]"
   ]
  },
  {
   "cell_type": "code",
   "execution_count": null,
   "metadata": {},
   "outputs": [],
   "source": []
  },
  {
   "cell_type": "code",
   "execution_count": 32,
   "metadata": {},
   "outputs": [
    {
     "data": {
      "text/plain": [
       "[['Rajshahi', 'Bangladesh'],\n",
       " ['Naples', 'Italy'],\n",
       " ['Sylhet', 'Bangladesh'],\n",
       " ['Marina Bay', 'Singapore'],\n",
       " ['Waterford', 'Ireland'],\n",
       " ['Khobar', 'Saudi Arabia'],\n",
       " ['San Jose', 'United States'],\n",
       " ['Pardubice', 'Czech Republic'],\n",
       " ['Sankt Pölten', 'Austria'],\n",
       " ['Bucharest', 'Romania'],\n",
       " ['Chinatown', 'Singapore'],\n",
       " ['Hoi An', 'Vietnam'],\n",
       " ['Valparaíso', 'Chile'],\n",
       " ['Johor Bahru', 'Malaysia'],\n",
       " ['Temuco', 'Chile'],\n",
       " ['Cape Town', 'South Africa'],\n",
       " ['Sialkot', 'Pakistan'],\n",
       " ['Orchard Road', 'Singapore'],\n",
       " ['Medina', 'Saudi Arabia'],\n",
       " ['Talca', 'Chile'],\n",
       " ['Winnipeg', 'Canada'],\n",
       " ['Salta', 'Argentina'],\n",
       " ['Changwon', 'South Korea'],\n",
       " ['Novosibirsk', 'Russia'],\n",
       " ['Helsingborg', 'Sweden'],\n",
       " ['Lausanne', 'Switzerland'],\n",
       " ['Nakuru', 'Kenya'],\n",
       " ['Tbilisi', 'Georgia'],\n",
       " ['Kraków', 'Poland'],\n",
       " ['Gothenburg', 'Sweden'],\n",
       " ['Barisal', 'Bangladesh'],\n",
       " ['Dunedin', 'New Zealand'],\n",
       " ['Da Lat', 'Vietnam'],\n",
       " ['East London', 'South Africa'],\n",
       " ['Haarlem', 'Netherlands'],\n",
       " ['Makati', 'Philippines'],\n",
       " ['Tampere', 'Finland'],\n",
       " ['Siena', 'Italy'],\n",
       " ['Concepción', 'Chile'],\n",
       " ['Muscat', 'Oman'],\n",
       " ['Bloemfontein', 'South Africa'],\n",
       " ['Parañaque', 'Philippines'],\n",
       " ['Dammam', 'Saudi Arabia'],\n",
       " ['New York', 'United States'],\n",
       " ['Doha', 'Qatar'],\n",
       " ['Kyiv', 'Ukraine'],\n",
       " ['Phoenix', 'United States'],\n",
       " ['Fredrikstad', 'Norway'],\n",
       " ['Kimberley', 'South Africa'],\n",
       " ['Port Elizabeth', 'South Africa']]"
      ]
     },
     "execution_count": 32,
     "metadata": {},
     "output_type": "execute_result"
    }
   ],
   "source": [
    "city_country_pairs"
   ]
  },
  {
   "cell_type": "code",
   "execution_count": 191,
   "metadata": {},
   "outputs": [
    {
     "data": {
      "text/plain": [
       "80.99999999999999"
      ]
     },
     "execution_count": 191,
     "metadata": {},
     "output_type": "execute_result"
    }
   ],
   "source": [
    "3000 * 0.3**3"
   ]
  },
  {
   "cell_type": "code",
   "execution_count": 33,
   "metadata": {},
   "outputs": [
    {
     "name": "stderr",
     "output_type": "stream",
     "text": [
      "100%|█████████▉| 99650/100000 [00:15<00:00, 5113.89it/s]"
     ]
    }
   ],
   "source": [
    "\n",
    "n_data = 100000\n",
    "\n",
    "tuples = set()\n",
    "\n",
    "syn_data = []\n",
    "\n",
    "pbar = tqdm(total = n_data)\n",
    "\n",
    "change_loc_probability = 0.3\n",
    "\n",
    "\n",
    "while len(syn_data) < n_data:\n",
    "    \n",
    "    first_name = np.random.choice(first_names)\n",
    "    last_name = np.random.choice(last_names)\n",
    "\n",
    "    gender = np.random.choice(genders)\n",
    "    career = np.random.choice(careers)\n",
    "    \n",
    "    birth_cc = city_country_pairs[np.random.choice(len(city_country_pairs))]\n",
    "    if np.random.rand() < change_loc_probability:\n",
    "        career_cc = birth_cc\n",
    "    else:\n",
    "        career_cc = city_country_pairs[np.random.choice(len(city_country_pairs))]\n",
    "    \n",
    "    if np.random.rand() < change_loc_probability:\n",
    "        death_cc = career_cc\n",
    "    else:\n",
    "        death_cc = city_country_pairs[np.random.choice(len(city_country_pairs))]\n",
    "    \n",
    "    birth_ccc = (*birth_cc, country2continent[birth_cc[1]])\n",
    "    career_ccc = (*career_cc, country2continent[career_cc[1]])\n",
    "    death_ccc = (*death_cc, country2continent[death_cc[1]])\n",
    "    \n",
    "    info_tuple = (first_name, last_name, birth_ccc[0], career_ccc[0], gender, career, death_ccc[0])\n",
    "    \n",
    "    if info_tuple not in tuples:\n",
    "        tuples.add(info_tuple)\n",
    "    else:\n",
    "        continue\n",
    "\n",
    "    text = text_template.format(\n",
    "        first_name=first_name,\n",
    "        last_name=last_name,\n",
    "        birth_place=birth_ccc[0],\n",
    "        gender=gender,\n",
    "        gender_start=gender.capitalize(),\n",
    "        career=career,\n",
    "        career_place=career_ccc[0],\n",
    "        death_place=death_ccc[0],\n",
    "    )\n",
    "    \n",
    "    questions = []\n",
    "    for template_name, templates in [\n",
    "        (\"country\", country_templates), \n",
    "        (\"continent\", continent_templates), \n",
    "        (\"compare-city\", compare_city_templates),\n",
    "        (\"compare-country\", compare_country_templates),\n",
    "        (\"compare-continent\", compare_continent_templates), \n",
    "    ]:\n",
    "        \n",
    "        rand_idx = np.random.choice(range(len(templates)))\n",
    "        \n",
    "        question_template, answer_fn = templates[rand_idx]\n",
    "    \n",
    "        question = question_template.format(\n",
    "            first_name=first_name,\n",
    "            last_name=last_name,\n",
    "            career=career,\n",
    "            gender=gender\n",
    "        )\n",
    "        answer = answer_fn(birth_ccc[0], career_ccc[0], death_ccc[0])\n",
    "        questions.append(\n",
    "            {\n",
    "                \"question_type\": template_name,\n",
    "                \"question\": question,\n",
    "                \"answer\": answer\n",
    "            }\n",
    "        )\n",
    "    syn_data.append(\n",
    "        {\n",
    "            \"text\": text,\n",
    "            \"questions\": questions\n",
    "        }\n",
    "    )\n",
    "    pbar.update(1)\n",
    "        "
   ]
  },
  {
   "cell_type": "code",
   "execution_count": 34,
   "metadata": {},
   "outputs": [
    {
     "data": {
      "text/plain": [
       "100000"
      ]
     },
     "execution_count": 34,
     "metadata": {},
     "output_type": "execute_result"
    }
   ],
   "source": [
    "len(syn_data)"
   ]
  },
  {
   "cell_type": "code",
   "execution_count": null,
   "metadata": {},
   "outputs": [
    {
     "data": {
      "text/plain": [
       "'Russia'"
      ]
     },
     "execution_count": 183,
     "metadata": {},
     "output_type": "execute_result"
    }
   ],
   "source": [
    "city2countries[\"Volgograd\"]"
   ]
  },
  {
   "cell_type": "code",
   "execution_count": null,
   "metadata": {},
   "outputs": [
    {
     "data": {
      "text/plain": [
       "'Finland'"
      ]
     },
     "execution_count": 184,
     "metadata": {},
     "output_type": "execute_result"
    }
   ],
   "source": [
    "city2countries[\"Lappeenranta\"]"
   ]
  },
  {
   "cell_type": "code",
   "execution_count": 185,
   "metadata": {},
   "outputs": [
    {
     "data": {
      "text/plain": [
       "'Portugal'"
      ]
     },
     "execution_count": 185,
     "metadata": {},
     "output_type": "execute_result"
    }
   ],
   "source": [
    "city2countries[\"Lisbon\"]"
   ]
  },
  {
   "cell_type": "code",
   "execution_count": null,
   "metadata": {},
   "outputs": [],
   "source": []
  },
  {
   "cell_type": "code",
   "execution_count": null,
   "metadata": {},
   "outputs": [
    {
     "name": "stderr",
     "output_type": "stream",
     "text": [
      "100%|██████████| 100000/100000 [00:29<00:00, 5113.89it/s]"
     ]
    }
   ],
   "source": [
    "n_test = 100\n",
    "n_dev = 100\n",
    "n_train = n_data - n_test - n_dev\n",
    "\n",
    "rand_shuffle = np.arange(n_data)\n",
    "np.random.shuffle(rand_shuffle)\n",
    "\n",
    "train_data = [syn_data[i] for i in rand_shuffle[:n_train]]\n",
    "dev_data = [syn_data[i] for i in rand_shuffle[n_train:n_train+n_dev]]\n",
    "test_data = [syn_data[i] for i in rand_shuffle[n_train+n_dev:]]\n",
    "\n",
    "# io.dump_jsonlines(train_data, f\"{vars.DATA_DIR}/debug_meta_train/country_syn_data/train.jsonl\")\n",
    "# io.dump_jsonlines(dev_data, f\"{vars.DATA_DIR}/debug_meta_train/country_syn_data/valid.jsonl\")\n",
    "io.dump_jsonlines(test_data, f\"{vars.DATA_DIR}/debug_meta_train/country_syn_data/test_ood.jsonl\")"
   ]
  },
  {
   "cell_type": "code",
   "execution_count": 36,
   "metadata": {},
   "outputs": [
    {
     "data": {
      "text/plain": [
       "100"
      ]
     },
     "execution_count": 36,
     "metadata": {},
     "output_type": "execute_result"
    }
   ],
   "source": [
    "len(test_data)"
   ]
  },
  {
   "cell_type": "code",
   "execution_count": 3,
   "metadata": {},
   "outputs": [],
   "source": [
    "\n",
    "# Define the regex pattern\n",
    "pattern = r\"(?P<first_name>\\w+) (?P<last_name>\\w+) was born in (?P<birth_place>[\\w\\s,'.()-]+)\\. (?P<gender_start>\\w+) started and completed a career of (?P<career>[\\w\\s]+) in (?P<career_place>[\\w\\s,'.()-]+)\\. After retirement, (?P<gender>\\w+) moved to (?P<death_place>[\\w\\s,'.()-]+) and passed away\\.\"\n",
    "\n",
    "# Example function to extract information\n",
    "def extract_person_info_country(text):\n",
    "    match = re.search(pattern, text)\n",
    "    if match:\n",
    "        return match.groupdict()\n",
    "    return None\n",
    "\n",
    "# Example usage\n",
    "# text = \"John Doe was born in New York City. He started and completed a career of engineering in California. After retirement, he moved to Florida and passed away.\"\n",
    "# info = extract_person_info(text)\n",
    "# print(info)"
   ]
  },
  {
   "cell_type": "code",
   "execution_count": 33,
   "metadata": {},
   "outputs": [],
   "source": [
    "template_type2templates = dict([\n",
    "    (\"country\", country_templates), \n",
    "    (\"continent\", continent_templates), \n",
    "    (\"compare-city\", compare_city_templates),\n",
    "    (\"compare-country\", compare_country_templates),\n",
    "    (\"compare-continent\", compare_continent_templates), \n",
    "])\n",
    "test_data = io.load_jsonlines(f\"{vars.DATA_DIR}/debug_meta_train/country_syn_data/test.jsonl\")"
   ]
  },
  {
   "cell_type": "code",
   "execution_count": null,
   "metadata": {},
   "outputs": [],
   "source": []
  },
  {
   "cell_type": "code",
   "execution_count": null,
   "metadata": {},
   "outputs": [],
   "source": [
    "birth_ccc = (*birth_cc, country2continent[birth_cc[1]])\n",
    "career_ccc = (*career_cc, country2continent[career_cc[1]])\n",
    "death_ccc = (*death_cc, country2continent[death_cc[1]])"
   ]
  },
  {
   "cell_type": "code",
   "execution_count": 108,
   "metadata": {},
   "outputs": [
    {
     "data": {
      "text/plain": [
       "'Charlotte Scott was born in Puerto Montt. She started and completed a career of Lawyer in Chelyabinsk. After retirement, she moved to Chelyabinsk and passed away.'"
      ]
     },
     "execution_count": 108,
     "metadata": {},
     "output_type": "execute_result"
    }
   ],
   "source": [
    "test_data[0][\"text\"]"
   ]
  },
  {
   "cell_type": "code",
   "execution_count": 110,
   "metadata": {},
   "outputs": [],
   "source": [
    "syn_info = extract_person_info_country(test_data[0][\"text\"])"
   ]
  },
  {
   "cell_type": "code",
   "execution_count": null,
   "metadata": {},
   "outputs": [],
   "source": []
  },
  {
   "cell_type": "code",
   "execution_count": 130,
   "metadata": {},
   "outputs": [],
   "source": [
    "new_test_data = []\n",
    "\n",
    "for test_datum in test_data: \n",
    "    new_test_datum = deepcopy(test_datum)\n",
    "    syn_info = extract_person_info_country(test_datum[\"text\"])\n",
    "    \n",
    "    alternative_questions = []\n",
    "    # try:\n",
    "    birth_ccc = (syn_info[\"birth_place\"], city2countries[syn_info[\"birth_place\"]], country2continent[city2countries[syn_info[\"birth_place\"]]])\n",
    "    career_ccc = (syn_info[\"career_place\"], city2countries[syn_info[\"career_place\"]], country2continent[city2countries[syn_info[\"career_place\"]]])\n",
    "    death_ccc = (syn_info[\"death_place\"], city2countries[syn_info[\"death_place\"]], country2continent[city2countries[syn_info[\"death_place\"]]])\n",
    "    # except:\n",
    "    #     break\n",
    "    \n",
    "    for q in test_datum[\"questions\"]:\n",
    "        templates = template_type2templates[q[\"question_type\"]]\n",
    "        instantiated_templates = [\n",
    "            template[0].format(first_name=syn_info[\"first_name\"], last_name=syn_info[\"last_name\"], career=syn_info[\"career\"],gender=syn_info[\"gender\"])\n",
    "            for template in templates\n",
    "        ]\n",
    "        \n",
    "        assert len([e_i for e_i, t in enumerate(instantiated_templates) if q[\"question\"] in t]) == 1\n",
    "        assert len([e_i for e_i, t in enumerate(instantiated_templates) if q[\"question\"] not in t]) == 2\n",
    "        \n",
    "        alternative_template_ids = [e_i for e_i, t in enumerate(instantiated_templates) if q[\"question\"] not in t]\n",
    "        alternative_template_idx = np.random.choice(alternative_template_ids)\n",
    "        alternative_template = templates[alternative_template_idx]\n",
    "        alternative_questions.append(\n",
    "            {\n",
    "                \"question_type\": q[\"question_type\"],\n",
    "                \"question\": alternative_template[0].format(\n",
    "                    first_name=syn_info[\"first_name\"],\n",
    "                    last_name=syn_info[\"last_name\"],\n",
    "                    career=syn_info[\"career\"],\n",
    "                    gender=syn_info[\"gender\"],\n",
    "                ),\n",
    "                \"answer\": str(alternative_template[1](birth_ccc[0], career_ccc[0], death_ccc[0]))\n",
    "            }\n",
    "        )\n",
    "    new_test_datum[\"alternative_questions\"] = deepcopy(alternative_questions)\n",
    "    \n",
    "    np.random.shuffle(alternative_questions)\n",
    "    text_w_qas = test_datum[\"text\"] + \"\\n\\n\" + \"\\n\".join(f\"{q['question']} {q['answer']}\" for q in alternative_questions)\n",
    "    new_test_datum[\"text_w_qas\"] = text_w_qas\n",
    "    \n",
    "    new_test_data.append(new_test_datum)"
   ]
  },
  {
   "cell_type": "code",
   "execution_count": 134,
   "metadata": {},
   "outputs": [
    {
     "name": "stdout",
     "output_type": "stream",
     "text": [
      "Charlotte Scott was born in Puerto Montt. She started and completed a career of Lawyer in Chelyabinsk. After retirement, she moved to Chelyabinsk and passed away.\n",
      "\n",
      "Did Charlotte Scott work and die in the same country? Yes\n",
      "Was Charlotte Scott born and died in the same continent? No\n",
      "Which continent did Charlotte Scott die in? Europe\n",
      "Was Charlotte Scott born and worked in the same city? No\n",
      "Which country did Charlotte Scott worked in? Russia\n"
     ]
    }
   ],
   "source": [
    "print(new_test_data[0][\"text_w_qas\"])"
   ]
  },
  {
   "cell_type": "code",
   "execution_count": 135,
   "metadata": {},
   "outputs": [],
   "source": [
    "io.dump_jsonlines(new_test_data, f\"{vars.DATA_DIR}/debug_meta_train/country_syn_data/test.jsonl\")"
   ]
  },
  {
   "cell_type": "code",
   "execution_count": 24,
   "metadata": {},
   "outputs": [],
   "source": [
    "ds = load_from_disk(f\"{vars.DATA_DIR}/debug_meta_train/country_syn_data/border_countries.hf\")"
   ]
  },
  {
   "cell_type": "code",
   "execution_count": 38,
   "metadata": {},
   "outputs": [
    {
     "data": {
      "text/plain": [
       "61"
      ]
     },
     "execution_count": 38,
     "metadata": {},
     "output_type": "execute_result"
    }
   ],
   "source": [
    "country2countries_pairs = {}\n",
    "\n",
    "for i in range(len(ds)):\n",
    "    country = ds[i][\"country\"]\n",
    "    \n",
    "    border_countries = list(set(ds[i][\"bordering_countries\"]))\n",
    "    non_bordering_countries = list(set(ds[i][\"non_bordering_countries\"]))\n",
    "    \n",
    "    if len(border_countries) == 0 or len(non_bordering_countries) == 0:\n",
    "        continue\n",
    "    n_border_country = len(border_countries)\n",
    "    n_non_border_country = len(non_bordering_countries)\n",
    "    \n",
    "    n_country = min(n_border_country, n_non_border_country)\n",
    "    country2countries_pairs[country] = {\n",
    "        \"border\": border_countries[:n_country], \n",
    "        \"non_border\": non_bordering_countries[:n_country]\n",
    "    }\n",
    "len(country2countries_pairs)"
   ]
  },
  {
   "cell_type": "code",
   "execution_count": 46,
   "metadata": {},
   "outputs": [],
   "source": [
    "io.dump_json(country2countries_pairs, f\"{vars.DATA_DIR}/debug_meta_train/country_syn_data/country2countries_pairs.json\")"
   ]
  },
  {
   "cell_type": "code",
   "execution_count": 39,
   "metadata": {},
   "outputs": [],
   "source": [
    "\n",
    "ood_country_events = [\n",
    "    \"{first_name} {last_name} was born\",\n",
    "    \"{first_name} {last_name} worked in\",\n",
    "    \"{first_name} {last_name} died in\",\n",
    "]"
   ]
  },
  {
   "cell_type": "code",
   "execution_count": 40,
   "metadata": {},
   "outputs": [
    {
     "data": {
      "text/plain": [
       "'Is {country} bordering with country where {first_name} {last_name} was born?'"
      ]
     },
     "execution_count": 40,
     "metadata": {},
     "output_type": "execute_result"
    }
   ],
   "source": [
    "\"Is {country} bordering with country where \" + ood_country_events[0] + \"?\""
   ]
  },
  {
   "cell_type": "code",
   "execution_count": null,
   "metadata": {},
   "outputs": [],
   "source": [
    "new_test_data = []\n",
    "\n",
    "for test_datum in test_data[:]: \n",
    "    new_test_datum = deepcopy(test_datum)\n",
    "    syn_info = extract_person_info_country(test_datum[\"text\"])\n",
    "    \n",
    "    alternative_questions = []\n",
    "    # try:\n",
    "    birth_ccc = (syn_info[\"birth_place\"], city2countries[syn_info[\"birth_place\"]], country2continent[city2countries[syn_info[\"birth_place\"]]])\n",
    "    career_ccc = (syn_info[\"career_place\"], city2countries[syn_info[\"career_place\"]], country2continent[city2countries[syn_info[\"career_place\"]]])\n",
    "    death_ccc = (syn_info[\"death_place\"], city2countries[syn_info[\"death_place\"]], country2continent[city2countries[syn_info[\"death_place\"]]])\n",
    "    \n",
    "    ood_qs = []\n",
    "    \n",
    "    for i, ccc in enumerate([birth_ccc, career_ccc, death_ccc]):\n",
    "        \n",
    "        if ccc[1] not in country2countries_pairs:\n",
    "            continue\n",
    "        \n",
    "        border_countries = country2countries_pairs[ccc[1]][\"border\"]\n",
    "        non_border_countries = country2countries_pairs[ccc[1]][\"non_border\"]\n",
    "        ood_birth_template = \"Is {country} bordering with country where \" + ood_country_events[i] + \"?\"\n",
    "        for b, nb in zip(border_countries, non_border_countries):\n",
    "            \n",
    "            b_q = ood_birth_template.format(first_name=syn_info[\"first_name\"], last_name=syn_info[\"last_name\"], country=b)\n",
    "            nb_q = ood_birth_template.format(first_name=syn_info[\"first_name\"], last_name=syn_info[\"last_name\"], country=nb)\n",
    "            ood_qs.append({\"question\": b_q, \"answer\": \"Yes\", \"question_type\": \"border\"})\n",
    "            ood_qs.append({\"question\": nb_q, \"answer\": \"No\", \"question_type\": \"non_border\"})\n",
    "    \n",
    "    new_test_datum[\"ood_questions\"] = deepcopy(ood_qs)\n",
    "    new_test_data.append(new_test_datum)\n",
    "        "
   ]
  },
  {
   "cell_type": "code",
   "execution_count": 61,
   "metadata": {},
   "outputs": [
    {
     "data": {
      "text/plain": [
       "208"
      ]
     },
     "execution_count": 61,
     "metadata": {},
     "output_type": "execute_result"
    }
   ],
   "source": [
    "sum([len(x[\"ood_questions\"]) for x in new_test_data])"
   ]
  },
  {
   "cell_type": "code",
   "execution_count": null,
   "metadata": {},
   "outputs": [],
   "source": [
    "# io.dump_jsonlines(new_test_data, f\"{vars.DATA_DIR}/debug_meta_train/country_syn_data/test_ood.jsonl\")"
   ]
  },
  {
   "cell_type": "code",
   "execution_count": 51,
   "metadata": {},
   "outputs": [
    {
     "data": {
      "text/plain": [
       "100"
      ]
     },
     "execution_count": 51,
     "metadata": {},
     "output_type": "execute_result"
    }
   ],
   "source": [
    "len(new_test_data)"
   ]
  },
  {
   "cell_type": "markdown",
   "metadata": {},
   "source": [
    "# Genereate OOD questions before prompting GPT for answer (v2)"
   ]
  },
  {
   "cell_type": "markdown",
   "metadata": {},
   "source": [
    "## for bio_syn_v2 dataset"
   ]
  },
  {
   "cell_type": "code",
   "execution_count": 15,
   "metadata": {},
   "outputs": [],
   "source": [
    "year_ood_templates = [\n",
    "    \"Who was the U.S. President in {year}?\",\n",
    "    \"Who was the Emperor of Japan in {year}?\",\n",
    "    \"Who was the monarch of the United Kingdom in {year}?\",\n",
    "    \"Who was the Prime Minister of the United Kingdom in {year}?\",\n",
    "    \"Who won the Nobel Peace Prize in {year}?\",\n",
    "    \"Who won the Nobel Prize in Physics in {year}?\",\n",
    "    \"Who was the Pope in {year}?\"\n",
    "]\n",
    "year_ood_templates_alias = [\n",
    "    \"Who was the U.S. President {year}?\",\n",
    "    \"Who was the Emperor of Japan {year}?\",\n",
    "    \"Who was the monarch of the United Kingdom {year}?\",\n",
    "    \"Who was the Prime Minister of the United Kingdom {year}?\",\n",
    "    \"Who won the Nobel Peace Prize {year}?\",\n",
    "    \"Who won the Nobel Prize in Physics {year}?\",\n",
    "    \"Who was the Pope {year}?\"\n",
    "]\n"
   ]
  },
  {
   "cell_type": "code",
   "execution_count": null,
   "metadata": {},
   "outputs": [],
   "source": []
  },
  {
   "cell_type": "code",
   "execution_count": 10,
   "metadata": {},
   "outputs": [],
   "source": [
    "import re\n",
    "\n",
    "year_pattern = r\"(?P<first_name>\\w+) (?P<last_name>\\w+) was born in (?P<birth_year>\\d+) in (?P<birth_place>[\\w\\s]+)\\. (?P<gender_start>\\w+) started the career of (?P<career>[\\w\\s]+) in (?P<career_year>\\d+)\\. In (?P<death_year>\\d+), (?P<gender>\\w+) passed away\\.\"\n",
    "\n",
    "# Example usage\n",
    "def extract_info_year(text):\n",
    "    match = re.search(year_pattern, text)\n",
    "    if match:\n",
    "        return match.groupdict()\n",
    "    return None\n",
    "\n",
    "# Test with example text"
   ]
  },
  {
   "cell_type": "code",
   "execution_count": 4,
   "metadata": {},
   "outputs": [],
   "source": [
    "\n",
    "\n",
    "# Define the regex pattern\n",
    "\n",
    "place_pattern = r\"(?P<first_name>\\w+) (?P<last_name>\\w+) was born in (?P<birth_place>[\\w\\s,'.()-]+)\\. (?P<gender_start>\\w+) started and completed a career of (?P<career>[\\w\\s]+) in (?P<career_place>[\\w\\s,'.()-]+)\\. After retirement, (?P<gender>\\w+) moved to (?P<death_place>[\\w\\s,'.()-]+) and passed away\\.\"\n",
    "\n",
    "# Example function to extract information\n",
    "def extract_info_place(text):\n",
    "    match = re.search(place_pattern, text)\n",
    "    if match:\n",
    "        return match.groupdict()\n",
    "    return None\n",
    "\n",
    "# Example usage\n",
    "# text = \"John Doe was born in 1950 in New York City. He started the career of engineering in 1972. In 2020, he passed away.\"\n",
    "# info = extract_person_info(text)\n",
    "# print(info)"
   ]
  },
  {
   "cell_type": "code",
   "execution_count": 8,
   "metadata": {},
   "outputs": [],
   "source": [
    "bio_syn_data = io.load_jsonlines(f\"{vars.DATA_DIR}/debug_meta_train/bio_syn_data_v2/test.jsonl\")\n",
    "country_syn_data = io.load_jsonlines(f\"{vars.DATA_DIR}/debug_meta_train/country_syn_data/test.jsonl\")\n"
   ]
  },
  {
   "cell_type": "code",
   "execution_count": 9,
   "metadata": {},
   "outputs": [
    {
     "ename": "NameError",
     "evalue": "name 'extract_info_year' is not defined",
     "output_type": "error",
     "traceback": [
      "\u001b[0;31m---------------------------------------------------------------------------\u001b[0m",
      "\u001b[0;31mNameError\u001b[0m                                 Traceback (most recent call last)",
      "Cell \u001b[0;32mIn[9], line 4\u001b[0m\n\u001b[1;32m      2\u001b[0m all_cities \u001b[38;5;241m=\u001b[39m []\n\u001b[1;32m      3\u001b[0m \u001b[38;5;28;01mfor\u001b[39;00m d \u001b[38;5;129;01min\u001b[39;00m bio_syn_data:\n\u001b[0;32m----> 4\u001b[0m     year_data_extraction \u001b[38;5;241m=\u001b[39m \u001b[43mextract_info_year\u001b[49m(d[\u001b[38;5;124m\"\u001b[39m\u001b[38;5;124mtext\u001b[39m\u001b[38;5;124m\"\u001b[39m])\n\u001b[1;32m      5\u001b[0m     all_years\u001b[38;5;241m.\u001b[39mappend(year_data_extraction[\u001b[38;5;124m\"\u001b[39m\u001b[38;5;124mbirth_year\u001b[39m\u001b[38;5;124m\"\u001b[39m])\n\u001b[1;32m      6\u001b[0m     all_years\u001b[38;5;241m.\u001b[39mappend(year_data_extraction[\u001b[38;5;124m\"\u001b[39m\u001b[38;5;124mcareer_year\u001b[39m\u001b[38;5;124m\"\u001b[39m])\n",
      "\u001b[0;31mNameError\u001b[0m: name 'extract_info_year' is not defined"
     ]
    }
   ],
   "source": [
    "all_years = []\n",
    "all_cities = []\n",
    "for d in bio_syn_data:\n",
    "    year_data_extraction = extract_info_year(d[\"text\"])\n",
    "    all_years.append(year_data_extraction[\"birth_year\"])\n",
    "    all_years.append(year_data_extraction[\"career_year\"])\n",
    "    all_years.append(year_data_extraction[\"death_year\"])\n",
    "    all_cities.append(year_data_extraction[\"birth_place\"])\n",
    "\n",
    "for d in country_syn_data:\n",
    "    country_data_extraction = extract_info_place(d[\"text\"])\n",
    "    all_cities.append(country_data_extraction[\"birth_place\"])\n",
    "    all_cities.append(country_data_extraction[\"career_place\"])\n",
    "    all_cities.append(country_data_extraction[\"death_place\"])\n",
    "        \n",
    "\n",
    "all_years = list(set(all_years))\n",
    "all_cities = list(set(all_cities))"
   ]
  },
  {
   "cell_type": "code",
   "execution_count": null,
   "metadata": {},
   "outputs": [],
   "source": []
  },
  {
   "cell_type": "code",
   "execution_count": 6,
   "metadata": {},
   "outputs": [],
   "source": [
    "# io.dump_jsonlines(all_cities, f\"{vars.DATA_DIR}/debug_meta_train/bio_syn_data_v2/test_birth_cities.jsonl\")"
   ]
  },
  {
   "cell_type": "code",
   "execution_count": 24,
   "metadata": {},
   "outputs": [],
   "source": [
    "test_countries = load_from_disk(f\"{vars.DATA_DIR}/debug_meta_train/bio_syn_data_v2/test_birth_country.hf\")"
   ]
  },
  {
   "cell_type": "code",
   "execution_count": 14,
   "metadata": {},
   "outputs": [],
   "source": [
    "test_city2country = dict(zip(test_countries[\"city\"], test_countries[\"country\"]))\n",
    "test_city2country[\"Maldives\"] = \"Maldives\""
   ]
  },
  {
   "cell_type": "code",
   "execution_count": 26,
   "metadata": {},
   "outputs": [],
   "source": [
    "city_country_pairs_train = io.load_json(\"/u/zliu/datastor1/KE-by-CP/data/debug_meta_train/country_syn_data/city_country_pairs_train.json\")\n",
    "city_country_pairs_valid = io.load_json(\"/u/zliu/datastor1/KE-by-CP/data/debug_meta_train/country_syn_data/city_country_pairs_valid.json\")"
   ]
  },
  {
   "cell_type": "code",
   "execution_count": 29,
   "metadata": {},
   "outputs": [],
   "source": [
    "city2country_pairs_train = {}\n",
    "for city, country in city_country_pairs_train:\n",
    "    city2country_pairs_train[city] = country\n",
    "assert len(city2country_pairs_train) == len(city_country_pairs_train)\n",
    "city2country_pairs_valid = {}\n",
    "for city, country in city_country_pairs_valid:\n",
    "    city2country_pairs_valid[city] = country\n",
    "assert len(city2country_pairs_valid) == len(city_country_pairs_valid)"
   ]
  },
  {
   "cell_type": "code",
   "execution_count": 64,
   "metadata": {},
   "outputs": [
    {
     "data": {
      "text/plain": [
       "564"
      ]
     },
     "execution_count": 64,
     "metadata": {},
     "output_type": "execute_result"
    }
   ],
   "source": [
    "len(city2country_pairs_valid)"
   ]
  },
  {
   "cell_type": "code",
   "execution_count": 30,
   "metadata": {},
   "outputs": [],
   "source": [
    "for k, v in city2country_pairs_train.items():\n",
    "    if k in city2country_pairs_valid:\n",
    "        assert v == city2country_pairs_valid[k]\n",
    "    else:\n",
    "        city2country_pairs_valid[k] = v"
   ]
  },
  {
   "cell_type": "code",
   "execution_count": 33,
   "metadata": {},
   "outputs": [],
   "source": [
    "# io.dump_json(city2country_pairs_valid, f\"{vars.DATA_DIR}/debug_meta_train/country_syn_data/city2country.json\")"
   ]
  },
  {
   "cell_type": "code",
   "execution_count": 83,
   "metadata": {},
   "outputs": [],
   "source": [
    "for c in all_cities:\n",
    "    if c not in city2country:\n",
    "        print(c)"
   ]
  },
  {
   "cell_type": "code",
   "execution_count": null,
   "metadata": {},
   "outputs": [],
   "source": [
    "# city2country[\"Reykjavik\"] = \"Iceland\"\n",
    "# city2country[\"Marrakech\"] = \"Morocco\"\n",
    "# city2country[\"Queenstown\"] = \"New Zealand\"\n",
    "# city2country[\"Santorini\"] = \"Greek\"\n",
    "# city2country[\"Machu Picchu\"] = \"Peru\"\n",
    "# city2country[\"Havana\"] = \"Cuba\"\n",
    "# city2country[\"Maldives\"] = \"Maldives\"\n",
    "# city2country[\"New York City\"] = \"United States\"\n",
    "# city2country[\"Bora Bora\"] = \"French Polynesia\"\n"
   ]
  },
  {
   "cell_type": "code",
   "execution_count": null,
   "metadata": {},
   "outputs": [],
   "source": []
  },
  {
   "cell_type": "code",
   "execution_count": 91,
   "metadata": {},
   "outputs": [],
   "source": [
    "# io.dump_json(city2country, f\"{vars.DATA_DIR}/debug_meta_train/country_syn_data/city2country.json\")"
   ]
  },
  {
   "cell_type": "code",
   "execution_count": null,
   "metadata": {},
   "outputs": [],
   "source": [
    "# country2continent[\"French Polynesia\"] = \"Oceania\"\n",
    "# country2continent[\"Greek\"] = \"Europe\""
   ]
  },
  {
   "cell_type": "code",
   "execution_count": null,
   "metadata": {},
   "outputs": [],
   "source": [
    "# io.dump_json(country2continent, f\"{vars.DATA_DIR}/debug_meta_train/country_syn_data/country2continent.json\")"
   ]
  },
  {
   "cell_type": "code",
   "execution_count": 90,
   "metadata": {},
   "outputs": [],
   "source": [
    "# country2continent[\"French Polynesia\"]"
   ]
  },
  {
   "cell_type": "code",
   "execution_count": null,
   "metadata": {},
   "outputs": [],
   "source": [
    "# country2continent = io.load_json(f\"{vars.DATA_DIR}/debug_meta_train/country_syn_data/country2continent_train.json\")\n",
    "# # manually adding some missing ones\n",
    "# country2continent[\"Maldives\"] = \"Asia\"\n",
    "# country2continent[\"Iceland\"] = \"Europe\"\n",
    "# country2continent[\"Cuba\"] = \"North America\"\n",
    "\n",
    "# # io.dump_json(country2continent, f\"{vars.DATA_DIR}/debug_meta_train/country_syn_data/country2continent.json\")"
   ]
  },
  {
   "cell_type": "code",
   "execution_count": 20,
   "metadata": {},
   "outputs": [],
   "source": [
    "# country2continent_valid = io.load_json(f\"{vars.DATA_DIR}/debug_meta_train/country_syn_data/country2continent.json\")"
   ]
  },
  {
   "cell_type": "code",
   "execution_count": 21,
   "metadata": {},
   "outputs": [],
   "source": [
    "# for k, v in country2continent.items():\n",
    "#     if k in country2continent_valid:\n",
    "#         assert v == country2continent_valid[k]\n",
    "#     else:\n",
    "#         country2continent_valid[k] = v"
   ]
  },
  {
   "cell_type": "code",
   "execution_count": 5,
   "metadata": {},
   "outputs": [],
   "source": [
    "# io.dump_json(country2continent_valid, f\"{vars.DATA_DIR}/debug_meta_train/country_syn_data/country2continent.json\")\n",
    "city2country = io.load_json(f\"{vars.DATA_DIR}/debug_meta_train/country_syn_data/city2country.json\")\n",
    "country2continent = io.load_json(f\"{vars.DATA_DIR}/debug_meta_train/country_syn_data/country2continent.json\")"
   ]
  },
  {
   "cell_type": "code",
   "execution_count": 25,
   "metadata": {},
   "outputs": [],
   "source": [
    "# for k in test_city2country.values():\n",
    "#     assert k in country2continent, k"
   ]
  },
  {
   "cell_type": "code",
   "execution_count": 6,
   "metadata": {},
   "outputs": [],
   "source": [
    "place_ood_templates = [\n",
    "    \"What is the capital of {country}?\",\n",
    "    \"What language in {country} has the most speakers?\",\n",
    "    \"What is the currency of {country}?\",\n",
    "    \"Which ethnic group is the largest in {country}?\",\n",
    "    \"Which country is the largest in {continent} by area?\",\n",
    "    \"Which religion has the most followers in {country}?\"\n",
    "]\n",
    "\n",
    "place_ood_templates_v2 = [\n",
    "    \"What type of government (e.g., constitutional monarchy, federal republic) does {country} have?\",\n",
    "    \"What is the national animal of {country}?\",\n",
    "    \"What is the national flower of {country}?\",\n",
    "    \"What is the national anthem of {country} called?\",\n",
    "    \"What is the full official name of {country}?\"\n",
    "]"
   ]
  },
  {
   "cell_type": "code",
   "execution_count": 76,
   "metadata": {},
   "outputs": [
    {
     "ename": "NameError",
     "evalue": "name 'year_ood_templates' is not defined",
     "output_type": "error",
     "traceback": [
      "\u001b[0;31m---------------------------------------------------------------------------\u001b[0m",
      "\u001b[0;31mNameError\u001b[0m                                 Traceback (most recent call last)",
      "Cell \u001b[0;32mIn[76], line 1\u001b[0m\n\u001b[0;32m----> 1\u001b[0m \u001b[38;5;28mlen\u001b[39m(\u001b[43myear_ood_templates\u001b[49m)\n",
      "\u001b[0;31mNameError\u001b[0m: name 'year_ood_templates' is not defined"
     ]
    }
   ],
   "source": [
    "len(year_ood_templates)"
   ]
  },
  {
   "cell_type": "code",
   "execution_count": 11,
   "metadata": {},
   "outputs": [],
   "source": [
    "all_year_question = []\n",
    "all_place_question = []\n",
    "key2questions = defaultdict(list)\n",
    "\n",
    "# for yr in all_years:\n",
    "#     for template in year_ood_templates:\n",
    "#         question = template.format(year=yr)\n",
    "#         key2questions[yr].append((question, template))\n",
    "        \n",
    "#         all_year_question.append(\n",
    "#             {\n",
    "#                 \"question\": question,\n",
    "#             }\n",
    "#         )\n",
    "\n",
    "for city in all_cities:\n",
    "    country = city2country[city]\n",
    "    continent = country2continent[country]\n",
    "    \n",
    "    for template in place_ood_templates_v2:\n",
    "        question = template.format(country=country, continent=continent)\n",
    "        key2questions[country].append((question, template))\n",
    "        all_place_question.append(\n",
    "            {\n",
    "                \"question\": question,\n",
    "            }\n",
    "        )"
   ]
  },
  {
   "cell_type": "code",
   "execution_count": 12,
   "metadata": {},
   "outputs": [
    {
     "data": {
      "text/plain": [
       "0"
      ]
     },
     "execution_count": 12,
     "metadata": {},
     "output_type": "execute_result"
    }
   ],
   "source": [
    "len(all_place_question)"
   ]
  },
  {
   "cell_type": "code",
   "execution_count": 110,
   "metadata": {},
   "outputs": [],
   "source": [
    "key2questions = {k: list(set(v)) for k, v in key2questions.items()}"
   ]
  },
  {
   "cell_type": "code",
   "execution_count": 13,
   "metadata": {},
   "outputs": [],
   "source": [
    "question_df_content = []\n",
    "for k, v in key2questions.items():\n",
    "    for q, t in v:\n",
    "        question_df_content.append(\n",
    "            {\n",
    "                \"question\": q,\n",
    "                \"template\": t,\n",
    "                \"key\": k,\n",
    "                \"domain\": \"country\" if k in country2continent else \"year\",\n",
    "            }\n",
    "        )\n",
    "question_df = pd.DataFrame(question_df_content)"
   ]
  },
  {
   "cell_type": "code",
   "execution_count": 84,
   "metadata": {},
   "outputs": [],
   "source": [
    "question_df.drop_duplicates(subset=[\"question\"]).to_excel(f\"{vars.DATA_DIR}/debug_meta_train/ood_country_question_df_v3.xlsx\", index=False)"
   ]
  },
  {
   "cell_type": "code",
   "execution_count": 332,
   "metadata": {},
   "outputs": [],
   "source": [
    "# io.dump_jsonlines(all_world_knowledge_question, f\"{vars.DATA_DIR}/debug_meta_train/bio_syn_data_v2/popular_ood_questions_v2.jsonl\")\n",
    "popular_ood_questions_ds = load_from_disk(f\"{vars.DATA_DIR}/debug_meta_train/country_knowledge_questions_missing2.hf\")\n",
    "\n",
    "# # len(popular_ood_questions_ds)"
   ]
  },
  {
   "cell_type": "code",
   "execution_count": 333,
   "metadata": {},
   "outputs": [
    {
     "data": {
      "text/plain": [
       "0"
      ]
     },
     "execution_count": 333,
     "metadata": {},
     "output_type": "execute_result"
    }
   ],
   "source": [
    "len([x for x in popular_ood_questions_ds[\"answers\"] if x == [\"I don't know\"]])"
   ]
  },
  {
   "cell_type": "code",
   "execution_count": 334,
   "metadata": {},
   "outputs": [],
   "source": [
    "popular_ood_questions_df = popular_ood_questions_ds.to_pandas()"
   ]
  },
  {
   "cell_type": "code",
   "execution_count": 335,
   "metadata": {},
   "outputs": [
    {
     "data": {
      "text/plain": [
       "['question', 'template', 'key', 'domain', 'answers']"
      ]
     },
     "execution_count": 335,
     "metadata": {},
     "output_type": "execute_result"
    }
   ],
   "source": [
    "popular_ood_questions_ds.column_names"
   ]
  },
  {
   "cell_type": "code",
   "execution_count": 336,
   "metadata": {},
   "outputs": [
    {
     "data": {
      "text/plain": [
       "{'question': 'What is the full official name of Bolivia?',\n",
       " 'template': 'What is the full official name of {country}?',\n",
       " 'key': 'Bolivia',\n",
       " 'domain': 'country',\n",
       " 'answers': ['Plurinational State of Bolivia']}"
      ]
     },
     "execution_count": 336,
     "metadata": {},
     "output_type": "execute_result"
    }
   ],
   "source": [
    "popular_ood_questions_ds[0]"
   ]
  },
  {
   "cell_type": "code",
   "execution_count": 338,
   "metadata": {},
   "outputs": [],
   "source": [
    "# all_questions = popular_ood_questions_ds[\"question\"]\n",
    "# Counter(all_questions)"
   ]
  },
  {
   "cell_type": "code",
   "execution_count": 337,
   "metadata": {},
   "outputs": [],
   "source": [
    "# unique_questions = popular_ood_questions_ds.to_pandas().drop_duplicates(subset=[\"question\",])[\"question\"].tolist()"
   ]
  },
  {
   "cell_type": "code",
   "execution_count": null,
   "metadata": {},
   "outputs": [
    {
     "name": "stdout",
     "output_type": "stream",
     "text": [
      "Count of 'I don't know' answers: 0\n",
      "Count of multiple answers: 0\n"
     ]
    },
    {
     "data": {
      "text/plain": [
       "False"
      ]
     },
     "execution_count": 341,
     "metadata": {},
     "output_type": "execute_result"
    }
   ],
   "source": [
    "question2answers = {}\n",
    "bad_qa = defaultdict(list)\n",
    "popular_ood_questions_df_content_processed = []\n",
    "\n",
    "\n",
    "# for k, vs in zip(popular_ood_questions_ds[\"question\"], popular_ood_questions_ds[\"answers\"]):\n",
    "for i in range(len(popular_ood_questions_ds)):\n",
    "    datum = popular_ood_questions_ds[i]\n",
    "    answers = datum[\"answers\"]\n",
    "    if datum[\"domain\"] == \"year\":\n",
    "        continue\n",
    "    # if datum[\"template\"] == \"What is the full official name of {country}?\":\n",
    "        # continue\n",
    "    if answers == [\"I don't know\"]:\n",
    "        bad_qa[\"I don't know\"].append(datum[\"question\"])\n",
    "        if datum[\"question\"] == \"What language has the most speakers in Greek?\":\n",
    "            datum[\"answers\"] = [\"Greek\"]\n",
    "            # print(datum)\n",
    "        else:\n",
    "            continue\n",
    "        \n",
    "    if datum[\"question\"] in [\"What is the national animal of Israel?\", ]:\n",
    "        continue\n",
    "    elif len(answers) > 1:\n",
    "        \n",
    "        if datum['question'] in [\"What is the national flower of United Kingdom?\", \"What is the full official name of Japan?\", \"What is the national flower of Indonesia?\", \"What is the capital of South Africa?\", \"What is the national flower of China?\", \"What is the national animal of Canada?\", \"What is the national anthem of Denmark called?\", \"What is the full official name of New Zealand?\", \"What is the national anthem of South Africa called?\", \"What is the full official name of Czech Republic?\", \"What is the full official name of Ireland?\", \"What is the currency of Cuba?\", \"What is the capital of Bolivia?\", \"What language has the most speakers in Uganda?\"]:\n",
    "            continue\n",
    "        assert len(answers) == 1, datum[\"question\"] + str(answers)\n",
    "        \n",
    "        bad_qa[\"Multiple Answer\"].append(datum[\"question\"])\n",
    "\n",
    "    # manually fix factual errors\n",
    "    if datum[\"question\"] ==\"Which ethnic group is the largest in South Africa?\":\n",
    "        datum[\"answers\"] = [\"Black African\"]\n",
    "    elif datum[\"question\"] == \"Which ethnic group is the largest in South Korea?\":\n",
    "        datum[\"answers\"] = [\"Korean\"]\n",
    "    elif datum[\"question\"] == \"Which ethnic group is the largest in Morocco?\":\n",
    "        datum[\"answers\"] = [\"Arab\"]\n",
    "    elif datum[\"question\"] == \"Which ethnic group is the largest in Iceland?\":\n",
    "        datum[\"answers\"] = [\"Icelandic\"]\n",
    "    elif datum[\"question\"] == \"Which religion has the most followers in South Korea?\":\n",
    "        datum[\"answers\"] = [\"Christianity\"]  \n",
    "    elif datum[\"question\"] == \"Which religion has the most followers in Nigeria?\":\n",
    "        datum[\"answers\"] = [\"Christianity\"]\n",
    "    elif datum[\"question\"] == \"Which religion has the most followers in Japan?\":\n",
    "        datum[\"answers\"] = [\"Shinto\"]\n",
    "    elif datum[\"question\"] == \"What language has the most speakers in Malaysia?\":\n",
    "        datum[\"answers\"] = [\"Malay\"]\n",
    "    elif datum[\"question\"] == \"What language has the most speakers in Ghana?\":\n",
    "        datum[\"answers\"] = [\"Akan\"]\n",
    "    elif datum[\"question\"] == \"What is the national flower of China?\":\n",
    "        datum[\"answers\"] = [\"Plum Blossom\"]\n",
    "    elif datum[\"question\"] == \"What is the national animal of Canada?\":\n",
    "        datum[\"answers\"] = [\"Beaver\"]\n",
    "    elif datum[\"question\"] == \"What is the full official name of New Zealand?\":\n",
    "        datum[\"answers\"] = [\"New Zealand\"]\n",
    "    elif datum[\"question\"] == \"What is the national animal of Russia?\":\n",
    "        datum[\"answers\"] = [\"Eurasian brown bear\"]\n",
    "    elif datum[\"question\"] == \"What is the national animal of Germany?\":\n",
    "        datum[\"answers\"] = [\"The black eagle (Bundesadler)\"]\n",
    "    elif datum[\"question\"] == \"What is the national animal of Singapore?\":\n",
    "        datum[\"answers\"] = [\"Lion\"]\n",
    "    elif datum[\"question\"] == \"What is the national animal of Greece?\":\n",
    "        datum[\"answers\"] = [\"Dolphin\"]\n",
    "    elif datum[\"question\"] == \"What is the national animal of Armenia?\":\n",
    "        datum[\"answers\"] = [\"the Golden Eagle\"]\n",
    "    elif datum[\"question\"] == \"What is the full official name of Czech Republic?\":\n",
    "        datum[\"answers\"] = [\"the Czech Republic\"]\n",
    "    elif datum[\"question\"] == \"What is the full official name of Ireland?\":\n",
    "        datum[\"answers\"] = [\"the Republic of Ireland\"]\n",
    "    elif datum[\"question\"] == \"What is the full official name of Hungary?\":\n",
    "        datum[\"answers\"] = [\"the Republic of Hungary\"]\n",
    "    elif datum[\"question\"] == \"What is the full official name of Iceland?\":\n",
    "        datum[\"answers\"] = [\"the Republic of Iceland\"]\n",
    "    elif datum[\"question\"] == \"What is the full official name of Malaysia?\":\n",
    "        datum[\"answers\"] = [\"The Federation of Malaya\"]\n",
    "    elif datum[\"question\"] == \"What is the full official name of Canada?\":\n",
    "        datum[\"answers\"] = [\"Dominion of Canada\"]\n",
    "    elif datum[\"question\"] == \"What is the full official name of French Polynesia?\":\n",
    "        datum[\"answers\"] = [\"Overseas Country of French Polynesia\"]\n",
    "    elif datum[\"question\"] == \"What is the currency of Cuba?\":\n",
    "        datum[\"answers\"] = [\"Cuban Peso\"]\n",
    "    elif datum[\"question\"] == \"What is the full official name of Greek?\":\n",
    "        datum[\"answers\"] = [\"the Hellenic Republic\"]\n",
    "    elif datum[\"question\"] == \"Which ethnic group is the largest in Cuba?\":\n",
    "        datum[\"answers\"] = [\"White Cubans\"]\n",
    "    elif datum[\"question\"] == \"Which ethnic group is the largest in French Polynesia?\":\n",
    "        datum[\"answers\"] = [\"Tahitians (Polynesians)\"]\n",
    "    elif datum[\"question\"] == \"Which religion has the most followers in Iceland?\":\n",
    "        datum[\"answers\"] = [\"Church of Iceland (Lutheran)\"]\n",
    "        \n",
    "    elif datum[\"question\"] == \"Which religion has the most followers in Greek?\":\n",
    "        datum[\"answers\"] = [\"Eastern Orthodox Church\"]\n",
    "    elif datum[\"question\"] == \"What language has the most speakers in Uganda?\":\n",
    "        datum[\"answers\"] = [\"English\"]\n",
    "        \n",
    "    \n",
    "    popular_ood_questions_df_content_processed.append(\n",
    "        {\n",
    "            \"question\": datum[\"question\"],\n",
    "            \"answer\": \", \".join(datum[\"answers\"]),\n",
    "            \"template\": datum[\"template\"],\n",
    "            \"key\": datum[\"key\"],\n",
    "            \"domain\": datum[\"domain\"],\n",
    "        }\n",
    "    )\n",
    "    # question2answers[k] = vs\n",
    "# io.dump_json(question2answers, f\"{vars.DATA_DIR}/debug_meta_train/bio_syn_data_v2/popular_ood_question2answers.json\")\n",
    "# question2answers = io.load_json(f\"{vars.DATA_DIR}/debug_meta_train/bio_syn_data_v2/popular_ood_question2answers.json\")\n",
    "print(\"Count of 'I don't know' answers:\", len(bad_qa[\"I don't know\"]))\n",
    "print(\"Count of multiple answers:\", len(bad_qa[\"Multiple Answer\"]))\n",
    "\n",
    "popular_ood_questions_df = pd.DataFrame(popular_ood_questions_df_content_processed)\n",
    "\n",
    "len(popular_ood_questions_df_content_processed) == len(popular_ood_questions_df.drop_duplicates(subset=[\"question\", ]))\n"
   ]
  },
  {
   "cell_type": "code",
   "execution_count": 342,
   "metadata": {},
   "outputs": [],
   "source": [
    "# country_v3_df = pd.read_excel(\"/datastor1/zliu/mend/debug_exp_output/llama3.2-1B-eos-sft/ood_v3_prefilter/base_n=291_prompt=no_w-gen_wo-icl_ice=False.xlsx\")\n",
    "# for r_i, r in country_v3_df[country_v3_df[\"template\"] == \"What is the full official name of {country}?\"].iterrows():\n",
    "#     if r[\"llm_accuracy\"] < 1.0:\n",
    "#         print(r[\"question\"])\n",
    "#         print(r[\"answer\"])\n",
    "#         print()"
   ]
  },
  {
   "cell_type": "code",
   "execution_count": null,
   "metadata": {},
   "outputs": [],
   "source": []
  },
  {
   "cell_type": "code",
   "execution_count": null,
   "metadata": {},
   "outputs": [],
   "source": []
  },
  {
   "cell_type": "code",
   "execution_count": 344,
   "metadata": {},
   "outputs": [
    {
     "name": "stdout",
     "output_type": "stream",
     "text": [
      "What is the full official name of Bolivia?\n",
      "Plurinational State of Bolivia\n",
      "\n",
      "What is the full official name of Democratic Republic of the Congo?\n",
      "Democratic Republic of the Congo\n",
      "\n",
      "What is the full official name of Ethiopia?\n",
      "Federal Democratic Republic of Ethiopia\n",
      "\n",
      "What is the full official name of Georgia?\n",
      "Georgia\n",
      "\n",
      "What is the full official name of Mozambique?\n",
      "Republic of Mozambique\n",
      "\n",
      "What is the full official name of Oman?\n",
      "Sultanate of Oman\n",
      "\n",
      "What is the full official name of Qatar?\n",
      "State of Qatar\n",
      "\n",
      "What is the full official name of Uganda?\n",
      "Republic of Uganda\n",
      "\n",
      "What is the full official name of Uruguay?\n",
      "Oriental Republic of Uruguay\n",
      "\n",
      "What is the full official name of Zambia?\n",
      "Republic of Zambia\n",
      "\n",
      "What is the full official name of Zimbabwe?\n",
      "Republic of Zimbabwe\n",
      "\n"
     ]
    }
   ],
   "source": [
    "\n",
    "for i, r in popular_ood_questions_df[popular_ood_questions_df[\"template\"] == country_knowledge_template_v3[0]].iterrows():\n",
    "    print(r[\"question\"])\n",
    "    print(r[\"answer\"])\n",
    "    print()"
   ]
  },
  {
   "cell_type": "code",
   "execution_count": 281,
   "metadata": {},
   "outputs": [
    {
     "data": {
      "text/plain": [
       "34"
      ]
     },
     "execution_count": 281,
     "metadata": {},
     "output_type": "execute_result"
    }
   ],
   "source": [
    "len(popular_ood_questions_df)"
   ]
  },
  {
   "cell_type": "code",
   "execution_count": 282,
   "metadata": {},
   "outputs": [
    {
     "data": {
      "text/plain": [
       "33"
      ]
     },
     "execution_count": 282,
     "metadata": {},
     "output_type": "execute_result"
    }
   ],
   "source": [
    "len(popular_ood_questions_df.drop_duplicates(subset=['question'], keep='first'))"
   ]
  },
  {
   "cell_type": "code",
   "execution_count": 159,
   "metadata": {},
   "outputs": [],
   "source": [
    "# popular_ood_questions_df[popular_ood_questions_df[\"template\"] == \"What is the full official name of {country}?\"]"
   ]
  },
  {
   "cell_type": "code",
   "execution_count": null,
   "metadata": {},
   "outputs": [],
   "source": [
    "# io.dump_jsonlines(popular_ood_questions_df_content_processed, f\"{vars.DATA_DIR}/debug_meta_train/ood_country_questions_v3_missing2.jsonl\")"
   ]
  },
  {
   "cell_type": "code",
   "execution_count": 180,
   "metadata": {},
   "outputs": [
    {
     "name": "stdout",
     "output_type": "stream",
     "text": [
      "Who was the U.S. President in {year}?\n",
      "# unique answer:  28\n",
      "{'Richard Nixon', 'George H. W. Bush', 'Donald Trump', 'Richard Nixon, Gerald Ford', 'Herbert Hoover', 'John F. Kennedy, Lyndon B. Johnson', 'George W. Bush', 'Franklin D. Roosevelt', 'Franklin D. Roosevelt, Harry S. Truman', 'Lyndon B. Johnson', 'Warren G. Harding, Calvin Coolidge', 'Barack Obama', 'John F. Kennedy', 'Theodore Roosevelt', 'Dwight D. Eisenhower, John F. Kennedy', 'Bill Clinton', 'Jimmy Carter', 'Dwight D. Eisenhower', 'Gerald Ford', 'William Howard Taft', 'William McKinley', 'Harry S. Truman', 'Calvin Coolidge', 'Warren G. Harding', 'Woodrow Wilson', 'Joe Biden', 'William McKinley, Theodore Roosevelt', 'Ronald Reagan'}\n",
      "\n",
      "Who was the Emperor of Japan in {year}?\n",
      "# unique answer:  10\n",
      "{'Emperor Shōwa', 'Emperor Meiji', 'Akihito', 'Emperor Shōwa (Hirohito)', 'Emperor Showa (Hirohito)', 'Emperor Taishō', 'Emperor Akihito', 'Emperor Hirohito', 'Naruhito', 'Hirohito'}\n",
      "\n",
      "Who was the monarch of the United Kingdom in {year}?\n",
      "# unique answer:  12\n",
      "{'King George V', 'Edward VII', 'King George VI, Queen Elizabeth II', 'King George VI', 'King Edward VII', 'Charles III', 'Victoria, Edward VII', 'Queen Elizabeth II', 'Elizabeth II', 'George VI', 'Queen Victoria', 'King George V, King Edward VIII, King George VI'}\n",
      "\n",
      "Who was the Prime Minister of the United Kingdom in {year}?\n",
      "# unique answer:  37\n",
      "{'Clement Attlee, Winston Churchill', 'Gordon Brown', 'Edward Heath', 'James Callaghan', 'Ramsay MacDonald', 'H. H. Asquith', 'Neville Chamberlain', 'John Major', 'Boris Johnson', 'Harold Wilson, James Callaghan', 'Arthur Balfour', 'Anthony Eden', 'Rishi Sunak', 'David Cameron', 'Clement Attlee', 'David Lloyd George', 'David Lloyd George, Andrew Bonar Law', 'Theresa May, Boris Johnson', 'Bonar Law, Stanley Baldwin', 'Tony Blair, Gordon Brown', 'Harold Wilson', 'Robert Gascoyne-Cecil, 3rd Marquess of Salisbury', 'Edward Heath, Harold Wilson', 'Alec Douglas-Home', 'H. H. Asquith, David Lloyd George', 'Lord Salisbury', 'Tony Blair', 'Winston Churchill, Clement Attlee', 'Sir Henry Campbell-Bannerman', 'Harold Macmillan', 'Winston Churchill, Anthony Eden', 'Harold Wilson, Edward Heath', 'Ramsay MacDonald, Stanley Baldwin', 'Winston Churchill', 'Stanley Baldwin', 'Margaret Thatcher', 'Theresa May'}\n",
      "\n",
      "Who won the Nobel Peace Prize in {year}?\n",
      "# unique answer:  79\n",
      "{'Abiy Ahmed', 'Frank B. Kellogg', 'Willy Brandt', 'The United Nations Peacekeeping Forces', 'Ferdinand Buisson, Ludwig Quidde', 'Fridtjof Nansen', 'Shirin Ebadi', 'The Quakers (Friends Service Council and American Friends Service Committee)', 'Aung San Suu Kyi', 'Cordell Hull', 'Henry Dunant, Frédéric Passy', 'Wangari Maathai', 'The International Labour Organization', 'Anwar Sadat, Menachem Begin', 'Doctors Without Borders', 'Desmond Tutu', 'Jimmy Carter', 'The Office of the United Nations High Commissioner for Refugees', 'Linus Pauling', 'Norman Borlaug', 'Yasser Arafat, Shimon Peres, Yitzhak Rabin', 'Maria Ressa, Dmitry Muratov', 'Kailash Satyarthi, Malala Yousafzai', 'Arthur Henderson', 'Carl von Ossietzky', 'Ernesto Teodoro Moneta, Louis Renault', 'Emily Greene Balch, John R. Mott', 'Seán MacBride, Eisaku Sato', 'Léon Bourgeois', 'Office of the United Nations High Commissioner for Refugees (UNHCR)', 'Andrei Sakharov', \"The United Nations International Children's Emergency Fund (UNICEF)\", 'George C. Marshall', 'Martti Ahtisaari', 'Elie Wiesel', 'World Food Programme', 'William Randal Cremer', 'Mohamed Yunus, Grameen Bank', 'Oscar Arias Sánchez', 'United Nations, Kofi Annan', 'Nelson Mandela, F.W. de Klerk', 'Henry Kissinger, Le Duc Tho', 'Philip Noel-Baker', 'Intergovernmental Panel on Climate Change (IPCC), Al Gore', 'John Hume, David Trimble', 'International Campaign to Ban Landmines (ICBL), Jody Williams', 'Tobias Michael Carel Asser, Alfred Hermann Fried', 'The European Union', 'International Committee of the Red Cross', 'Léon Jouhaux', 'Dag Hammarskjöld', 'Élie Ducommun, Charles Albert Gobat', 'Ralph Bunche', 'The International Committee of the Red Cross, The League of Red Cross Societies', 'International Physicians for the Prevention of Nuclear War', 'Albert Schweitzer', 'Woodrow Wilson', 'Aristide Briand, Gustav Stresemann', 'Betty Williams, Mairead Corrigan', 'Mother Teresa', 'Denis Mukwege, Nadia Murad', 'Lech Wałęsa', 'Hjalmar Branting, Christian Lous Lange', 'John Boyd Orr', 'Adolfo Pérez Esquivel', 'Barack Obama', 'National Dialogue Quartet', 'Rigoberta Menchú', 'Joseph Rotblat, Pugwash Conferences on Science and World Affairs', 'Narges Mohammadi', '14th Dalai Lama', 'Martin Luther King Jr.', 'Robert Cecil', 'Institute of International Law', 'Kim Dae-jung', 'Jane Addams, Nicholas Murray Butler', 'Alva Myrdal, Alfonso García Robles', 'International Atomic Energy Agency (IAEA), Mohamed ElBaradei', 'Amnesty International'}\n",
      "\n",
      "Who won the Nobel Prize in Physics in {year}?\n",
      "# unique answer:  93\n",
      "{'Sir Martin Ryle, Antony Hewish', 'Luis Walter Alvarez', 'Charles H. Townes, Nikolay G. Basov, Alexander M. Prokhorov', 'Roy J. Glauber, John L. Hall, Theodor W. Hänsch', 'Lev Davidovich Landau', 'Frits Zernike', 'Cecil Frank Powell', 'Enrico Fermi', 'Hideki Yukawa', 'Ernst Ruska, Gerd Binnig, Heinrich Rohrer', 'Robert Andrews Millikan', 'Yoichiro Nambu, Makoto Kobayashi, Toshihide Maskawa', 'Pierre-Gilles de Gennes', 'Wilhelm Wien', 'John C. Mather, George F. Smoot', 'Aage N. Bohr, Ben R. Mottelson, James Rainwater', 'Bertram Brockhouse, Clifford Shull', 'Raymond Davis Jr., Masatoshi Koshiba, Riccardo Giacconi', 'Klaus von Klitzing', 'Pavel Alekseyevich Cherenkov, Ilya Frank, Igor Tamm', 'Pyotr Kapitsa, Arno Penzias, Robert Woodrow Wilson', 'Niels Bohr', 'Prince Louis-Victor Pierre Raymond de Broglie', 'Roger Penrose, Reinhard Genzel, Andrea Ghez', 'Richard P. Feynman, Julian Schwinger, Sin-Itiro Tomonaga', 'James Peebles, Michel Mayor, Didier Queloz', 'Alexei A. Abrikosov, Vitaly L. Ginzburg, Anthony J. Leggett', 'Johannes Stark', 'Robert B. Laughlin, Horst L. Störmer, Daniel C. Tsui', \"Pierre Agostini, Ferenc Krausz, Anne L'Huillier\", 'Zhores I. Alferov, Herbert Kroemer, Jack S. Kilby', 'David J. Gross, H. David Politzer, Frank Wilczek', 'Edward Victor Appleton', 'Emilio G. Segrè, Owen Chamberlain', 'Willis Eugene Lamb, Polykarp Kusch', 'James Chadwick', 'Max von Laue', 'Syukuro Manabe, Klaus Hasselmann, Giorgio Parisi', 'Wolfgang Pauli', 'William Shockley, John Bardeen, Walter Brattain', 'Norman F. Ramsey, Hans G. Dehmelt, Wolfgang Paul', 'Felix Bloch, Edward Mills Purcell', 'William Lawrence Bragg, Henry Bragg', 'Carlo Rubbia, Simon van der Meer', 'Denis Gabor', 'Lord Rayleigh (John William Strutt)', 'Jean Baptiste Perrin', 'Russell A. Hulse, Joseph H. Taylor Jr.', 'Eugene Wigner, Maria Goeppert Mayer, J. Hans D. Jensen', 'Murray Gell-Mann', 'Sheldon Lee Glashow, Abdus Salam, Steven Weinberg', 'James Cronin, Val Fitch', 'Robert Hofstadter, Rudolf Mössbauer', 'Albert Fert, Peter Grünberg', 'Steven Chu, Claude Cohen-Tannoudji, William D. Phillips', 'Hannes Alfvén, Louis Néel', 'John Bardeen, Leon N. Cooper, Robert Schrieffer', 'Subrahmanyan Chandrasekhar, William A. Fowler', 'Hans Albrecht Bethe', 'Percy Williams Bridgman', 'Max Planck', 'Leon M. Lederman, Melvin Schwartz, Jack Steinberger', 'Philip W. Anderson, Nevill F. Mott, John H. Van Vleck', 'Kenneth G. Wilson', 'Henri Becquerel, Marie Curie, Pierre Curie', 'Charles K. Kao, Willard S. Boyle, George E. Smith', 'Wilhelm Conrad Röntgen', \"Gerardus 't Hooft, Martinus J.G. Veltman\", 'Isamu Akasaki, Hiroshi Amano, Shuji Nakamura', 'Arthur Compton, Charles Thomson Rees Wilson', 'Martin L. Perl, Frederick Reines', 'Albert Einstein', 'Isidor Isaac Rabi', 'Hendrik Lorentz, Pieter Zeeman', 'Clinton Davisson, George Paget Thomson', 'Burton Richter, Samuel C. C. Ting', 'Nicolás Cabrera, Kai M. Siegbahn, Arthur L. Schawlow', 'Georges Charpak', 'Charles Glover Barkla', 'Serge Haroche, David J. Wineland', 'Ernest O. Lawrence', 'John Cockcroft, Ernest Walton', 'Takaaki Kajita, Arthur B. McDonald', 'Leo Esaki, Ivar Giaever, Brian D. Josephson', 'Werner Heisenberg', 'Charles Edouard Guillaume', 'J. Georg Bednorz, K. Alex Müller', 'Eric A. Cornell, Wolfgang Ketterle, Carl E. Wieman', 'Alfred Kastler', 'Carl David Anderson, Victor Francis Hess', 'Arthur Ashkin, Gérard Mourou, Donna Strickland', 'Max Born, Walther Bothe', 'Albert A. Michelson'}\n",
      "\n",
      "Who was the Pope in {year}?\n",
      "# unique answer:  18\n",
      "{'Pope Pius XII, Pope John XXIII', 'John Paul II', 'Pope Paul VI', 'Pope John XXIII', 'Pope Pius XI', 'Pope John XXIII, Pope Paul VI', 'Leo XIII, Pius X', 'Pope Pius X', 'Pope Leo XIII', 'Pope Benedict XVI', 'Paul VI, John Paul I, John Paul II', 'Pope Benedict XV', 'Pope John Paul II, Pope Benedict XVI', 'Pope Pius XII', 'Pope Pius XI, Pope Pius XII', 'Pope John Paul II', 'Pope Francis', 'Pope Pius X, Pope Benedict XV'}\n",
      "\n",
      "What is the capital of {country}?\n",
      "# unique answer:  65\n",
      "{'Budapest', 'Vienna', 'Baku', 'Washington, D.C.', 'Rome', 'Berlin', 'Kuala Lumpur', 'Singapore', 'Copenhagen', 'Beijing', 'Mexico City', 'Bogotá', 'Kuwait City', 'Taipei', 'Accra', 'Manila', 'Bangkok', 'Riyadh', 'Athens', 'Madrid', 'Reykjavik', 'Havana', 'Quito', 'Oslo', 'Bucharest', 'Canberra', 'Bern', 'Pretoria, Cape Town, Bloemfontein', 'Hanoi', 'Dhaka', 'Jerusalem', 'Ottawa', 'Lisbon', 'Tokyo', 'Seoul', 'Brussels', 'Stockholm', 'Dublin', 'Prague', 'Santiago', 'Islamabad', 'Malé', 'Buenos Aires', 'Wellington', 'Kyiv', 'Lima', 'Abu Dhabi', 'Yerevan', 'Abuja', 'Tehran', 'London', 'Rabat', 'Algiers', 'Nairobi', 'Papeete', 'Brasília', 'Moscow', 'Paris', 'Helsinki', 'Warsaw', 'Jakarta', 'Amsterdam', 'Ankara', 'Cairo', 'New Delhi'}\n",
      "\n",
      "What language has the most speakers in {country}?\n",
      "# unique answer:  40\n",
      "{'Dutch', 'Polish', 'Greek', 'French', 'Spanish', 'Italian', 'Arabic', 'Mandarin Chinese', 'Bengali', 'Armenian', 'Malaysian Malay', 'Norwegian', 'Azerbaijani', 'Hungarian', 'Russian', 'Punjabi', 'Czech', 'Swedish', 'Ukrainian', 'Zulu', 'Icelandic', 'Hebrew', 'Danish', 'Filipino', 'Indonesian', 'Korean', 'Portuguese', 'Turkish', 'Dhivehi', 'German', 'Thai', 'Vietnamese', 'Hausa', 'Romanian', 'Japanese', 'English', 'Swahili, English', 'Finnish', 'Persian (Farsi)', 'Hindi'}\n",
      "\n",
      "What is the currency of {country}?\n",
      "# unique answer:  54\n",
      "{'Romanian Leu', 'Pound sterling', 'Pakistani Rupee', 'Kenyan Shilling', 'Euro', 'Chilean Peso', 'Danish Krone', 'Norwegian krone', 'Ruble', 'Australian Dollar', 'Armenian dram', 'Brazilian Real', 'Taka', 'Indonesian Rupiah', 'Israeli Shekel', 'Ghanaian cedi', 'Turkish lira', 'United States Dollar', 'Ukrainian hryvnia', 'Swedish Krona', 'Rial', 'Mexican Peso', 'Azerbaijani manat', 'Yen', 'Indian Rupee', 'Kuwaiti Dinar', 'Saudi Riyal', 'Egyptian Pound (EGP)', 'Nigerian Naira', 'Vietnamese Dong', 'Philippine Peso', 'Maldivian Rufiyaa', 'Canadian Dollar', 'Forint', 'Swiss Franc', 'Renminbi (RMB), Yuan', 'UAE Dirham', 'Czech koruna', 'Cuban Peso (CUP)', 'Algerian dinar', 'Colombian Peso', 'Malaysian Ringgit', 'South African Rand', 'French Pacific Franc', 'Singapore Dollar', 'Icelandic króna', 'Polish złoty', 'Peruvian Sol', 'Thai Baht', 'South Korean Won', 'Moroccan dirham', 'Argentine Peso', 'New Taiwan Dollar', 'New Zealand Dollar'}\n",
      "\n",
      "Which ethnic group is the largest in {country}?\n",
      "# unique answer:  58\n",
      "{'Dutch', 'Polish', 'Greek', 'French', 'Canadians', 'Mestizo (mixed European and African descent)', 'Han Chinese', 'White British', 'Mestizo', 'Armenians', 'Tagalog', 'Italians', 'Kikuyu', 'Swiss', 'Romanians', 'Indo-Aryan', 'Akan', 'Spaniards', 'Bengali', 'Norwegian', 'Chinese', 'Azerbaijani', 'Russian', 'Austrians', 'Punjabis', 'Czech', 'Javanese', 'Vietnamese (Kinh)', 'Malays', 'Danes', 'Persians', 'Polynesians', 'Zulu', 'Flemish', 'White Americans', 'South Asian', 'Icelanders', 'Portuguese', 'White Argentines', 'Maldivians', 'Swedes', 'Hungarians', 'European', 'Turkish', 'Egyptians', 'Ethnic Koreans', 'Thai', 'Hausa', 'Jewish', 'Pardo (Mixed race)', 'Japanese', 'Arab', 'White Irish', 'English', 'Arab-Berber', 'Finnish', 'Germans', 'Ukrainians'}\n",
      "\n",
      "Which country is the largest in {continent} by area?\n",
      "# unique answer:  5\n",
      "{'Australia', 'Russia', 'Brazil', 'Canada', 'Algeria'}\n",
      "\n",
      "Which religion has the most followers in {country}?\n",
      "# unique answer:  16\n",
      "{'Hinduism', 'Buddhism', 'Judaism', 'Islam', 'Eastern Orthodoxy (Romanian Orthodox Church)', 'Roman Catholicism', 'Russian Orthodoxy', 'Christianity', 'Eastern Orthodoxy', 'Lutheran Christianity', 'Shintoism, Buddhism', 'Christianity (Catholicism)', 'Greek Orthodox Christianity', 'Christianity, Islam', 'Christianity, Buddhism', 'Christianity (Roman Catholicism)'}\n",
      "\n"
     ]
    }
   ],
   "source": [
    "for template in (year_ood_templates + place_ood_templates):\n",
    "    print(template)\n",
    "    unique_answeres = set(popular_ood_questions_df[popular_ood_questions_df[\"template\"] == template][\"answer\"].unique())\n",
    "    print(\"# unique answer: \", len(unique_answeres))\n",
    "    print(unique_answeres)\n",
    "    print()"
   ]
  },
  {
   "cell_type": "code",
   "execution_count": 114,
   "metadata": {},
   "outputs": [],
   "source": [
    "# io.dump_jsonlines(popular_ood_questions_df.to_dict('records'), f\"{vars.DATA_DIR}/debug_meta_train/ood_country_questions_v3.jsonl\")"
   ]
  },
  {
   "cell_type": "code",
   "execution_count": 161,
   "metadata": {},
   "outputs": [],
   "source": [
    "country_questions = io.load_jsonlines(\"/u/zliu/datastor1/KE-by-CP/data/debug_meta_train/common_country_data/train_continent.jsonl\") + io.load_jsonlines(\"/u/zliu/datastor1/KE-by-CP/data/debug_meta_train/common_country_data/valid_continent.jsonl\")"
   ]
  },
  {
   "cell_type": "code",
   "execution_count": null,
   "metadata": {},
   "outputs": [],
   "source": []
  },
  {
   "cell_type": "code",
   "execution_count": 167,
   "metadata": {},
   "outputs": [],
   "source": [
    "\n",
    "# Example function to extract information\n",
    "def extract_city(text):\n",
    "    match = re.search(r\"What country is (?P<city>[\\w\\s\\-]+) in\\?\", text)\n",
    "    if match:\n",
    "        return match.groupdict()\n",
    "    return None\n",
    "\n",
    "\n",
    "# Example function to extract information\n",
    "def extract_country(text):\n",
    "    match = re.search(r\"Which continent is (?P<country>[\\w\\s\\-\\'\\.]+) located in\\?\", text)\n",
    "    if match:\n",
    "        return match.groupdict()\n",
    "    return None"
   ]
  },
  {
   "cell_type": "code",
   "execution_count": 168,
   "metadata": {},
   "outputs": [
    {
     "data": {
      "text/plain": [
       "{'question': 'Which continent is Ghana located in?', 'answer': 'Africa'}"
      ]
     },
     "execution_count": 168,
     "metadata": {},
     "output_type": "execute_result"
    }
   ],
   "source": [
    "country_questions[0]"
   ]
  },
  {
   "cell_type": "code",
   "execution_count": 178,
   "metadata": {},
   "outputs": [],
   "source": [
    "# filtered_country_questions = []\n",
    "\n",
    "# for q in country_questions:\n",
    "#     if any(x in q[\"question\"] for x in [\"What country is The CBD (Central Business District) in?\"]):\n",
    "#         continue\n",
    "#     assert extract_city(q[\"question\"]) is not None, q[\"question\"]\n",
    "#     new_q = deepcopy(q)\n",
    "#     city, country = q[\"(city, country)\"] \n",
    "#     new_q[\"template\"] = \"Which country is {city} located in?\"\n",
    "#     new_q[\"domain\"] = \"country\"\n",
    "#     new_q[\"question\"] = f\"Which country is {city} located in?\"\n",
    "    \n",
    "#     new_q[\"key\"] = country\n",
    "#     filtered_country_questions.append(new_q)\n",
    "\n",
    "filtered_continent_questions = []\n",
    "\n",
    "for q in country_questions:\n",
    "    # if any(x in q[\"question\"] for x in [\"What country is The CBD (Central Business District) in?\"]):\n",
    "    #     continue\n",
    "    assert extract_country(q[\"question\"]) is not None, q[\"question\"]\n",
    "    new_q = deepcopy(q)\n",
    "    country =  extract_country(q[\"question\"])[\"country\"]\n",
    "    # city, country = q[\"(city, country)\"] \n",
    "    new_q[\"template\"] = \"Which continent is {country} located in?\"\n",
    "    new_q[\"domain\"] = \"country\"\n",
    "    # new_q[\"question\"] = f\"Which country is {city} located in?\"\n",
    "    \n",
    "    new_q[\"key\"] = country\n",
    "    filtered_continent_questions.append(new_q)\n",
    "    "
   ]
  },
  {
   "cell_type": "markdown",
   "metadata": {},
   "source": [
    "## some additional processing for missing countries\n",
    "\n",
    "mostly just repeat some code above"
   ]
  },
  {
   "cell_type": "code",
   "execution_count": 176,
   "metadata": {},
   "outputs": [
    {
     "data": {
      "text/plain": [
       "100"
      ]
     },
     "execution_count": 176,
     "metadata": {},
     "output_type": "execute_result"
    }
   ],
   "source": [
    "len(filtered_continent_questions)"
   ]
  },
  {
   "cell_type": "code",
   "execution_count": 179,
   "metadata": {},
   "outputs": [
    {
     "data": {
      "text/plain": [
       "72"
      ]
     },
     "execution_count": 179,
     "metadata": {},
     "output_type": "execute_result"
    }
   ],
   "source": [
    "len(pd.DataFrame(filtered_continent_questions)[\"key\"].unique())\n",
    "# TODO: make sure all countries has similar # of questions"
   ]
  },
  {
   "cell_type": "code",
   "execution_count": 180,
   "metadata": {},
   "outputs": [
    {
     "data": {
      "text/plain": [
       "[{'question': 'Which continent is Ghana located in?',\n",
       "  'answer': 'Africa',\n",
       "  'template': 'Which continent is {country} located in?',\n",
       "  'domain': 'country',\n",
       "  'key': 'Ghana'},\n",
       " {'question': 'Which continent is Malaysia located in?',\n",
       "  'answer': 'Asia',\n",
       "  'template': 'Which continent is {country} located in?',\n",
       "  'domain': 'country',\n",
       "  'key': 'Malaysia'},\n",
       " {'question': 'Which continent is Philippines located in?',\n",
       "  'answer': 'Asia',\n",
       "  'template': 'Which continent is {country} located in?',\n",
       "  'domain': 'country',\n",
       "  'key': 'Philippines'},\n",
       " {'question': 'Which continent is Argentina located in?',\n",
       "  'answer': 'South America',\n",
       "  'template': 'Which continent is {country} located in?',\n",
       "  'domain': 'country',\n",
       "  'key': 'Argentina'},\n",
       " {'question': 'Which continent is New Zealand located in?',\n",
       "  'answer': 'Oceania',\n",
       "  'template': 'Which continent is {country} located in?',\n",
       "  'domain': 'country',\n",
       "  'key': 'New Zealand'},\n",
       " {'question': 'Which continent is China located in?',\n",
       "  'answer': 'Asia',\n",
       "  'template': 'Which continent is {country} located in?',\n",
       "  'domain': 'country',\n",
       "  'key': 'China'},\n",
       " {'question': 'Which continent is India located in?',\n",
       "  'answer': 'Asia',\n",
       "  'template': 'Which continent is {country} located in?',\n",
       "  'domain': 'country',\n",
       "  'key': 'India'},\n",
       " {'question': 'Which continent is Brazil located in?',\n",
       "  'answer': 'South America',\n",
       "  'template': 'Which continent is {country} located in?',\n",
       "  'domain': 'country',\n",
       "  'key': 'Brazil'},\n",
       " {'question': 'Which continent is Pakistan located in?',\n",
       "  'answer': 'Asia',\n",
       "  'template': 'Which continent is {country} located in?',\n",
       "  'domain': 'country',\n",
       "  'key': 'Pakistan'},\n",
       " {'question': 'Which continent is Kenya located in?',\n",
       "  'answer': 'Africa',\n",
       "  'template': 'Which continent is {country} located in?',\n",
       "  'domain': 'country',\n",
       "  'key': 'Kenya'},\n",
       " {'question': 'Which continent is United Arab Emirates located in?',\n",
       "  'answer': 'Asia',\n",
       "  'template': 'Which continent is {country} located in?',\n",
       "  'domain': 'country',\n",
       "  'key': 'United Arab Emirates'},\n",
       " {'question': 'Which continent is Egypt located in?',\n",
       "  'answer': 'Africa',\n",
       "  'template': 'Which continent is {country} located in?',\n",
       "  'domain': 'country',\n",
       "  'key': 'Egypt'},\n",
       " {'question': 'Which continent is Romania located in?',\n",
       "  'answer': 'Europe',\n",
       "  'template': 'Which continent is {country} located in?',\n",
       "  'domain': 'country',\n",
       "  'key': 'Romania'},\n",
       " {'question': 'Which continent is Mexico located in?',\n",
       "  'answer': 'North America',\n",
       "  'template': 'Which continent is {country} located in?',\n",
       "  'domain': 'country',\n",
       "  'key': 'Mexico'},\n",
       " {'question': 'Which continent is Sweden located in?',\n",
       "  'answer': 'Europe',\n",
       "  'template': 'Which continent is {country} located in?',\n",
       "  'domain': 'country',\n",
       "  'key': 'Sweden'},\n",
       " {'question': 'Which continent is Finland located in?',\n",
       "  'answer': 'Europe',\n",
       "  'template': 'Which continent is {country} located in?',\n",
       "  'domain': 'country',\n",
       "  'key': 'Finland'},\n",
       " {'question': 'Which continent is France located in?',\n",
       "  'answer': 'Europe',\n",
       "  'template': 'Which continent is {country} located in?',\n",
       "  'domain': 'country',\n",
       "  'key': 'France'},\n",
       " {'question': 'Which continent is Indonesia located in?',\n",
       "  'answer': 'Asia',\n",
       "  'template': 'Which continent is {country} located in?',\n",
       "  'domain': 'country',\n",
       "  'key': 'Indonesia'},\n",
       " {'question': 'Which continent is Norway located in?',\n",
       "  'answer': 'Europe',\n",
       "  'template': 'Which continent is {country} located in?',\n",
       "  'domain': 'country',\n",
       "  'key': 'Norway'},\n",
       " {'question': 'Which continent is Vietnam located in?',\n",
       "  'answer': 'Asia',\n",
       "  'template': 'Which continent is {country} located in?',\n",
       "  'domain': 'country',\n",
       "  'key': 'Vietnam'},\n",
       " {'question': 'Which continent is Hungary located in?',\n",
       "  'answer': 'Europe',\n",
       "  'template': 'Which continent is {country} located in?',\n",
       "  'domain': 'country',\n",
       "  'key': 'Hungary'},\n",
       " {'question': 'Which continent is Greece located in?',\n",
       "  'answer': 'Europe',\n",
       "  'template': 'Which continent is {country} located in?',\n",
       "  'domain': 'country',\n",
       "  'key': 'Greece'},\n",
       " {'question': 'Which continent is Chile located in?',\n",
       "  'answer': 'South America',\n",
       "  'template': 'Which continent is {country} located in?',\n",
       "  'domain': 'country',\n",
       "  'key': 'Chile'},\n",
       " {'question': 'Which continent is Netherlands located in?',\n",
       "  'answer': 'Europe',\n",
       "  'template': 'Which continent is {country} located in?',\n",
       "  'domain': 'country',\n",
       "  'key': 'Netherlands'},\n",
       " {'question': 'Which continent is Japan located in?',\n",
       "  'answer': 'Asia',\n",
       "  'template': 'Which continent is {country} located in?',\n",
       "  'domain': 'country',\n",
       "  'key': 'Japan'},\n",
       " {'question': 'Which continent is Singapore located in?',\n",
       "  'answer': 'Asia',\n",
       "  'template': 'Which continent is {country} located in?',\n",
       "  'domain': 'country',\n",
       "  'key': 'Singapore'},\n",
       " {'question': 'Which continent is United Kingdom located in?',\n",
       "  'answer': 'Europe',\n",
       "  'template': 'Which continent is {country} located in?',\n",
       "  'domain': 'country',\n",
       "  'key': 'United Kingdom'},\n",
       " {'question': 'Which continent is Thailand located in?',\n",
       "  'answer': 'Asia',\n",
       "  'template': 'Which continent is {country} located in?',\n",
       "  'domain': 'country',\n",
       "  'key': 'Thailand'},\n",
       " {'question': 'Which continent is Belgium located in?',\n",
       "  'answer': 'Europe',\n",
       "  'template': 'Which continent is {country} located in?',\n",
       "  'domain': 'country',\n",
       "  'key': 'Belgium'},\n",
       " {'question': 'Which continent is Ukraine located in?',\n",
       "  'answer': 'Europe',\n",
       "  'template': 'Which continent is {country} located in?',\n",
       "  'domain': 'country',\n",
       "  'key': 'Ukraine'},\n",
       " {'question': 'Which continent is United States located in?',\n",
       "  'answer': 'North America',\n",
       "  'template': 'Which continent is {country} located in?',\n",
       "  'domain': 'country',\n",
       "  'key': 'United States'},\n",
       " {'question': 'Which continent is Armenia located in?',\n",
       "  'answer': 'Asia',\n",
       "  'template': 'Which continent is {country} located in?',\n",
       "  'domain': 'country',\n",
       "  'key': 'Armenia'},\n",
       " {'question': 'Which continent is Bangladesh located in?',\n",
       "  'answer': 'Asia',\n",
       "  'template': 'Which continent is {country} located in?',\n",
       "  'domain': 'country',\n",
       "  'key': 'Bangladesh'},\n",
       " {'question': 'Which continent is Israel located in?',\n",
       "  'answer': 'Asia',\n",
       "  'template': 'Which continent is {country} located in?',\n",
       "  'domain': 'country',\n",
       "  'key': 'Israel'},\n",
       " {'question': 'Which continent is Austria located in?',\n",
       "  'answer': 'Europe',\n",
       "  'template': 'Which continent is {country} located in?',\n",
       "  'domain': 'country',\n",
       "  'key': 'Austria'},\n",
       " {'question': 'Which continent is Denmark located in?',\n",
       "  'answer': 'Europe',\n",
       "  'template': 'Which continent is {country} located in?',\n",
       "  'domain': 'country',\n",
       "  'key': 'Denmark'},\n",
       " {'question': 'Which continent is Poland located in?',\n",
       "  'answer': 'Europe',\n",
       "  'template': 'Which continent is {country} located in?',\n",
       "  'domain': 'country',\n",
       "  'key': 'Poland'},\n",
       " {'question': 'Which continent is Czech Republic located in?',\n",
       "  'answer': 'Europe',\n",
       "  'template': 'Which continent is {country} located in?',\n",
       "  'domain': 'country',\n",
       "  'key': 'Czech Republic'},\n",
       " {'question': 'Which continent is Turkey located in?',\n",
       "  'answer': 'Asia',\n",
       "  'template': 'Which continent is {country} located in?',\n",
       "  'domain': 'country',\n",
       "  'key': 'Turkey'},\n",
       " {'question': 'Which continent is Switzerland located in?',\n",
       "  'answer': 'Europe',\n",
       "  'template': 'Which continent is {country} located in?',\n",
       "  'domain': 'country',\n",
       "  'key': 'Switzerland'},\n",
       " {'question': 'Which continent is Germany located in?',\n",
       "  'answer': 'Europe',\n",
       "  'template': 'Which continent is {country} located in?',\n",
       "  'domain': 'country',\n",
       "  'key': 'Germany'},\n",
       " {'question': 'Which continent is Portugal located in?',\n",
       "  'answer': 'Europe',\n",
       "  'template': 'Which continent is {country} located in?',\n",
       "  'domain': 'country',\n",
       "  'key': 'Portugal'},\n",
       " {'question': 'Which continent is Nigeria located in?',\n",
       "  'answer': 'Africa',\n",
       "  'template': 'Which continent is {country} located in?',\n",
       "  'domain': 'country',\n",
       "  'key': 'Nigeria'},\n",
       " {'question': 'Which continent is Saudi Arabia located in?',\n",
       "  'answer': 'Asia',\n",
       "  'template': 'Which continent is {country} located in?',\n",
       "  'domain': 'country',\n",
       "  'key': 'Saudi Arabia'},\n",
       " {'question': 'Which continent is Russia located in?',\n",
       "  'answer': 'Europe',\n",
       "  'template': 'Which continent is {country} located in?',\n",
       "  'domain': 'country',\n",
       "  'key': 'Russia'},\n",
       " {'question': 'Which continent is Spain located in?',\n",
       "  'answer': 'Europe',\n",
       "  'template': 'Which continent is {country} located in?',\n",
       "  'domain': 'country',\n",
       "  'key': 'Spain'},\n",
       " {'question': 'Which continent is Ireland located in?',\n",
       "  'answer': 'Europe',\n",
       "  'template': 'Which continent is {country} located in?',\n",
       "  'domain': 'country',\n",
       "  'key': 'Ireland'},\n",
       " {'question': 'Which continent is South Korea located in?',\n",
       "  'answer': 'Asia',\n",
       "  'template': 'Which continent is {country} located in?',\n",
       "  'domain': 'country',\n",
       "  'key': 'South Korea'},\n",
       " {'question': 'Which continent is Colombia located in?',\n",
       "  'answer': 'South America',\n",
       "  'template': 'Which continent is {country} located in?',\n",
       "  'domain': 'country',\n",
       "  'key': 'Colombia'},\n",
       " {'question': 'Which continent is Canada located in?',\n",
       "  'answer': 'North America',\n",
       "  'template': 'Which continent is {country} located in?',\n",
       "  'domain': 'country',\n",
       "  'key': 'Canada'},\n",
       " {'question': 'Which continent is Australia located in?',\n",
       "  'answer': 'Oceania',\n",
       "  'template': 'Which continent is {country} located in?',\n",
       "  'domain': 'country',\n",
       "  'key': 'Australia'},\n",
       " {'question': 'Which continent is South Africa located in?',\n",
       "  'answer': 'Africa',\n",
       "  'template': 'Which continent is {country} located in?',\n",
       "  'domain': 'country',\n",
       "  'key': 'South Africa'},\n",
       " {'question': 'Which continent is Iran located in?',\n",
       "  'answer': 'Asia',\n",
       "  'template': 'Which continent is {country} located in?',\n",
       "  'domain': 'country',\n",
       "  'key': 'Iran'},\n",
       " {'question': 'Which continent is Zambia located in?',\n",
       "  'answer': 'Africa',\n",
       "  'template': 'Which continent is {country} located in?',\n",
       "  'domain': 'country',\n",
       "  'key': 'Zambia'},\n",
       " {'question': 'Which continent is Italy located in?',\n",
       "  'answer': 'Europe',\n",
       "  'template': 'Which continent is {country} located in?',\n",
       "  'domain': 'country',\n",
       "  'key': 'Italy'},\n",
       " {'question': 'Which continent is Bolivia located in?',\n",
       "  'answer': 'South America',\n",
       "  'template': 'Which continent is {country} located in?',\n",
       "  'domain': 'country',\n",
       "  'key': 'Bolivia'},\n",
       " {'question': 'Which continent is Kuwait located in?',\n",
       "  'answer': 'Asia',\n",
       "  'template': 'Which continent is {country} located in?',\n",
       "  'domain': 'country',\n",
       "  'key': 'Kuwait'},\n",
       " {'question': 'Which continent is Ecuador located in?',\n",
       "  'answer': 'South America',\n",
       "  'template': 'Which continent is {country} located in?',\n",
       "  'domain': 'country',\n",
       "  'key': 'Ecuador'},\n",
       " {'question': 'Which continent is Democratic Republic of the Congo located in?',\n",
       "  'answer': 'Africa',\n",
       "  'template': 'Which continent is {country} located in?',\n",
       "  'domain': 'country',\n",
       "  'key': 'Democratic Republic of the Congo'},\n",
       " {'question': 'Which continent is Taiwan located in?',\n",
       "  'answer': 'Asia',\n",
       "  'template': 'Which continent is {country} located in?',\n",
       "  'domain': 'country',\n",
       "  'key': 'Taiwan'},\n",
       " {'question': 'Which continent is Azerbaijan located in?',\n",
       "  'answer': 'Asia',\n",
       "  'template': 'Which continent is {country} located in?',\n",
       "  'domain': 'country',\n",
       "  'key': 'Azerbaijan'},\n",
       " {'question': 'Which continent is Uganda located in?',\n",
       "  'answer': 'Africa',\n",
       "  'template': 'Which continent is {country} located in?',\n",
       "  'domain': 'country',\n",
       "  'key': 'Uganda'},\n",
       " {'question': 'Which continent is Zimbabwe located in?',\n",
       "  'answer': 'Africa',\n",
       "  'template': 'Which continent is {country} located in?',\n",
       "  'domain': 'country',\n",
       "  'key': 'Zimbabwe'},\n",
       " {'question': 'Which continent is Morocco located in?',\n",
       "  'answer': 'Africa',\n",
       "  'template': 'Which continent is {country} located in?',\n",
       "  'domain': 'country',\n",
       "  'key': 'Morocco'},\n",
       " {'question': 'Which continent is Algeria located in?',\n",
       "  'answer': 'Africa',\n",
       "  'template': 'Which continent is {country} located in?',\n",
       "  'domain': 'country',\n",
       "  'key': 'Algeria'},\n",
       " {'question': 'Which continent is Mozambique located in?',\n",
       "  'answer': 'Africa',\n",
       "  'template': 'Which continent is {country} located in?',\n",
       "  'domain': 'country',\n",
       "  'key': 'Mozambique'},\n",
       " {'question': 'Which continent is Ethiopia located in?',\n",
       "  'answer': 'Africa',\n",
       "  'template': 'Which continent is {country} located in?',\n",
       "  'domain': 'country',\n",
       "  'key': 'Ethiopia'},\n",
       " {'question': 'Which continent is Peru located in?',\n",
       "  'answer': 'South America',\n",
       "  'template': 'Which continent is {country} located in?',\n",
       "  'domain': 'country',\n",
       "  'key': 'Peru'},\n",
       " {'question': 'Which continent is Uruguay located in?',\n",
       "  'answer': 'South America',\n",
       "  'template': 'Which continent is {country} located in?',\n",
       "  'domain': 'country',\n",
       "  'key': 'Uruguay'},\n",
       " {'question': 'Which continent is Bangladesh located in?',\n",
       "  'answer': 'Asia',\n",
       "  'template': 'Which continent is {country} located in?',\n",
       "  'domain': 'country',\n",
       "  'key': 'Bangladesh'},\n",
       " {'question': 'Which continent is Italy located in?',\n",
       "  'answer': 'Europe',\n",
       "  'template': 'Which continent is {country} located in?',\n",
       "  'domain': 'country',\n",
       "  'key': 'Italy'},\n",
       " {'question': 'Which continent is Singapore located in?',\n",
       "  'answer': 'Asia',\n",
       "  'template': 'Which continent is {country} located in?',\n",
       "  'domain': 'country',\n",
       "  'key': 'Singapore'},\n",
       " {'question': 'Which continent is Ireland located in?',\n",
       "  'answer': 'Europe',\n",
       "  'template': 'Which continent is {country} located in?',\n",
       "  'domain': 'country',\n",
       "  'key': 'Ireland'},\n",
       " {'question': 'Which continent is Saudi Arabia located in?',\n",
       "  'answer': 'Asia',\n",
       "  'template': 'Which continent is {country} located in?',\n",
       "  'domain': 'country',\n",
       "  'key': 'Saudi Arabia'},\n",
       " {'question': 'Which continent is United States located in?',\n",
       "  'answer': 'North America',\n",
       "  'template': 'Which continent is {country} located in?',\n",
       "  'domain': 'country',\n",
       "  'key': 'United States'},\n",
       " {'question': 'Which continent is Czech Republic located in?',\n",
       "  'answer': 'Europe',\n",
       "  'template': 'Which continent is {country} located in?',\n",
       "  'domain': 'country',\n",
       "  'key': 'Czech Republic'},\n",
       " {'question': 'Which continent is Austria located in?',\n",
       "  'answer': 'Europe',\n",
       "  'template': 'Which continent is {country} located in?',\n",
       "  'domain': 'country',\n",
       "  'key': 'Austria'},\n",
       " {'question': 'Which continent is Romania located in?',\n",
       "  'answer': 'Europe',\n",
       "  'template': 'Which continent is {country} located in?',\n",
       "  'domain': 'country',\n",
       "  'key': 'Romania'},\n",
       " {'question': 'Which continent is Vietnam located in?',\n",
       "  'answer': 'Asia',\n",
       "  'template': 'Which continent is {country} located in?',\n",
       "  'domain': 'country',\n",
       "  'key': 'Vietnam'},\n",
       " {'question': 'Which continent is Chile located in?',\n",
       "  'answer': 'South America',\n",
       "  'template': 'Which continent is {country} located in?',\n",
       "  'domain': 'country',\n",
       "  'key': 'Chile'},\n",
       " {'question': 'Which continent is Malaysia located in?',\n",
       "  'answer': 'Asia',\n",
       "  'template': 'Which continent is {country} located in?',\n",
       "  'domain': 'country',\n",
       "  'key': 'Malaysia'},\n",
       " {'question': 'Which continent is South Africa located in?',\n",
       "  'answer': 'Africa',\n",
       "  'template': 'Which continent is {country} located in?',\n",
       "  'domain': 'country',\n",
       "  'key': 'South Africa'},\n",
       " {'question': 'Which continent is Pakistan located in?',\n",
       "  'answer': 'Asia',\n",
       "  'template': 'Which continent is {country} located in?',\n",
       "  'domain': 'country',\n",
       "  'key': 'Pakistan'},\n",
       " {'question': 'Which continent is Canada located in?',\n",
       "  'answer': 'North America',\n",
       "  'template': 'Which continent is {country} located in?',\n",
       "  'domain': 'country',\n",
       "  'key': 'Canada'},\n",
       " {'question': 'Which continent is Argentina located in?',\n",
       "  'answer': 'South America',\n",
       "  'template': 'Which continent is {country} located in?',\n",
       "  'domain': 'country',\n",
       "  'key': 'Argentina'},\n",
       " {'question': 'Which continent is South Korea located in?',\n",
       "  'answer': 'Asia',\n",
       "  'template': 'Which continent is {country} located in?',\n",
       "  'domain': 'country',\n",
       "  'key': 'South Korea'},\n",
       " {'question': 'Which continent is Russia located in?',\n",
       "  'answer': 'Europe',\n",
       "  'template': 'Which continent is {country} located in?',\n",
       "  'domain': 'country',\n",
       "  'key': 'Russia'},\n",
       " {'question': 'Which continent is Sweden located in?',\n",
       "  'answer': 'Europe',\n",
       "  'template': 'Which continent is {country} located in?',\n",
       "  'domain': 'country',\n",
       "  'key': 'Sweden'},\n",
       " {'question': 'Which continent is Switzerland located in?',\n",
       "  'answer': 'Europe',\n",
       "  'template': 'Which continent is {country} located in?',\n",
       "  'domain': 'country',\n",
       "  'key': 'Switzerland'},\n",
       " {'question': 'Which continent is Kenya located in?',\n",
       "  'answer': 'Africa',\n",
       "  'template': 'Which continent is {country} located in?',\n",
       "  'domain': 'country',\n",
       "  'key': 'Kenya'},\n",
       " {'question': 'Which continent is Georgia located in?',\n",
       "  'answer': 'Asia',\n",
       "  'template': 'Which continent is {country} located in?',\n",
       "  'domain': 'country',\n",
       "  'key': 'Georgia'},\n",
       " {'question': 'Which continent is Poland located in?',\n",
       "  'answer': 'Europe',\n",
       "  'template': 'Which continent is {country} located in?',\n",
       "  'domain': 'country',\n",
       "  'key': 'Poland'},\n",
       " {'question': 'Which continent is New Zealand located in?',\n",
       "  'answer': 'Oceania',\n",
       "  'template': 'Which continent is {country} located in?',\n",
       "  'domain': 'country',\n",
       "  'key': 'New Zealand'},\n",
       " {'question': 'Which continent is Netherlands located in?',\n",
       "  'answer': 'Europe',\n",
       "  'template': 'Which continent is {country} located in?',\n",
       "  'domain': 'country',\n",
       "  'key': 'Netherlands'},\n",
       " {'question': 'Which continent is Philippines located in?',\n",
       "  'answer': 'Asia',\n",
       "  'template': 'Which continent is {country} located in?',\n",
       "  'domain': 'country',\n",
       "  'key': 'Philippines'},\n",
       " {'question': 'Which continent is Finland located in?',\n",
       "  'answer': 'Europe',\n",
       "  'template': 'Which continent is {country} located in?',\n",
       "  'domain': 'country',\n",
       "  'key': 'Finland'},\n",
       " {'question': 'Which continent is Oman located in?',\n",
       "  'answer': 'Asia',\n",
       "  'template': 'Which continent is {country} located in?',\n",
       "  'domain': 'country',\n",
       "  'key': 'Oman'},\n",
       " {'question': 'Which continent is Qatar located in?',\n",
       "  'answer': 'Asia',\n",
       "  'template': 'Which continent is {country} located in?',\n",
       "  'domain': 'country',\n",
       "  'key': 'Qatar'},\n",
       " {'question': 'Which continent is Ukraine located in?',\n",
       "  'answer': 'Europe',\n",
       "  'template': 'Which continent is {country} located in?',\n",
       "  'domain': 'country',\n",
       "  'key': 'Ukraine'},\n",
       " {'question': 'Which continent is Norway located in?',\n",
       "  'answer': 'Europe',\n",
       "  'template': 'Which continent is {country} located in?',\n",
       "  'domain': 'country',\n",
       "  'key': 'Norway'}]"
      ]
     },
     "execution_count": 180,
     "metadata": {},
     "output_type": "execute_result"
    }
   ],
   "source": [
    "filtered_continent_questions"
   ]
  },
  {
   "cell_type": "code",
   "execution_count": null,
   "metadata": {},
   "outputs": [],
   "source": [
    "# io.dump_jsonlines(filtered_continent_questions, f\"{vars.DATA_DIR}/debug_meta_train/country_syn_data_v2/country2continent_questions.jsonl\")\n",
    "\n",
    "unique_countries = pd.DataFrame(io.load_jsonlines(f\"{vars.DATA_DIR}/debug_meta_train/country_syn_data_v2/city2country_questions.jsonl\"))[\"key\"].unique().tolist()"
   ]
  },
  {
   "cell_type": "code",
   "execution_count": 188,
   "metadata": {},
   "outputs": [],
   "source": [
    "country_knowledge_countries = pd.DataFrame(io.load_jsonlines(f\"{vars.DATA_DIR}/debug_meta_train/country_syn_data_v2/country_knowledge_questions.jsonl\"))[\"key\"].unique().tolist()"
   ]
  },
  {
   "cell_type": "code",
   "execution_count": 195,
   "metadata": {},
   "outputs": [
    {
     "data": {
      "text/plain": [
       "array(['What is the full official name of {country}?',\n",
       "       'What is the capital of {country}?',\n",
       "       'What language has the most speakers in {country}?',\n",
       "       'What is the currency of {country}?',\n",
       "       'Which ethnic group is the largest in {country}?',\n",
       "       'Which country is the largest in {continent} by area?',\n",
       "       'Which religion has the most followers in {country}?'],\n",
       "      dtype=object)"
      ]
     },
     "execution_count": 195,
     "metadata": {},
     "output_type": "execute_result"
    }
   ],
   "source": [
    "pd.DataFrame(io.load_jsonlines(f\"{vars.DATA_DIR}/debug_meta_train/country_syn_data_v2/country_knowledge_questions.jsonl\"))[\"template\"].unique()"
   ]
  },
  {
   "cell_type": "code",
   "execution_count": 190,
   "metadata": {},
   "outputs": [],
   "source": [
    "missing_countries = [x for x in country_knowledge_countries if x not in unique_countries]"
   ]
  },
  {
   "cell_type": "code",
   "execution_count": 191,
   "metadata": {},
   "outputs": [
    {
     "data": {
      "text/plain": [
       "['Iceland', 'Cuba', 'Greek', 'Maldives', 'French Polynesia']"
      ]
     },
     "execution_count": 191,
     "metadata": {},
     "output_type": "execute_result"
    }
   ],
   "source": [
    "missing_countries"
   ]
  },
  {
   "cell_type": "code",
   "execution_count": 202,
   "metadata": {},
   "outputs": [],
   "source": [
    "country_knowledge_template_v3 = [\n",
    "    'What is the full official name of {country}?',\n",
    "    'What is the capital of {country}?',\n",
    "    'What language has the most speakers in {country}?',\n",
    "    'What is the currency of {country}?',\n",
    "    'Which ethnic group is the largest in {country}?',\n",
    "    'Which country is the largest in {continent} by area?',\n",
    "    'Which religion has the most followers in {country}?'\n",
    "]"
   ]
  },
  {
   "cell_type": "code",
   "execution_count": 328,
   "metadata": {},
   "outputs": [],
   "source": [
    "\n",
    "question_df_content = []\n",
    "for c in ['Bolivia',\n",
    " 'Democratic Republic of the Congo',\n",
    " 'Ethiopia',\n",
    " 'Georgia',\n",
    " 'Mozambique',\n",
    " 'Oman',\n",
    " 'Qatar',\n",
    " 'Uganda',\n",
    " 'Uruguay',\n",
    " 'Zambia',\n",
    " 'Zimbabwe']:\n",
    "    continent = country2continent[c]\n",
    "    \n",
    "    for t in country_knowledge_template_v3:\n",
    "        q = t.format(country=c, continent=continent)\n",
    "        question_df_content.append(\n",
    "            {\n",
    "                \"question\": q,\n",
    "                \"template\": t,\n",
    "                \"key\": c,\n",
    "                \"domain\": \"country\",\n",
    "            }\n",
    "        )\n",
    "question_df = pd.DataFrame(question_df_content)"
   ]
  },
  {
   "cell_type": "code",
   "execution_count": 330,
   "metadata": {},
   "outputs": [
    {
     "data": {
      "text/plain": [
       "{'question': 'What is the full official name of Bolivia?',\n",
       " 'template': 'What is the full official name of {country}?',\n",
       " 'key': 'Bolivia',\n",
       " 'domain': 'country'}"
      ]
     },
     "execution_count": 330,
     "metadata": {},
     "output_type": "execute_result"
    }
   ],
   "source": [
    "question_df_content[0]"
   ]
  },
  {
   "cell_type": "code",
   "execution_count": 331,
   "metadata": {},
   "outputs": [],
   "source": [
    "io.dump_jsonlines(question_df_content, f\"{vars.DATA_DIR}/debug_meta_train/country_syn_data_v2/country_knowledge_questions_missing2.jsonl\")\n",
    "\n",
    "# popular_ood_questions_ds = load_from_disk(f\"{vars.DATA_DIR}/debug_meta_train/country_knowledge_questions_missing.hf\")\n",
    "# popular_ood_questions_df = popular_ood_questions_ds.to_pandas()"
   ]
  },
  {
   "cell_type": "code",
   "execution_count": 29,
   "metadata": {},
   "outputs": [],
   "source": [
    "all_data_before_dedup = io.load_jsonlines(f\"{vars.DATA_DIR}/debug_meta_train/country_syn_data_v2/world_knowledge/city2country_questions.jsonl\") + io.load_jsonlines(f\"{vars.DATA_DIR}/debug_meta_train/country_syn_data_v2/world_knowledge/country2continent_questions.jsonl\") + io.load_jsonlines(f\"{vars.DATA_DIR}/debug_meta_train/country_syn_data_v2/world_knowledge/country_knowledge_questions.jsonl\") + io.load_jsonlines(f\"{vars.DATA_DIR}/debug_meta_train/country_syn_data_v2/world_knowledge/missing_entries.jsonl\")\n",
    "# "
   ]
  },
  {
   "cell_type": "code",
   "execution_count": 30,
   "metadata": {},
   "outputs": [
    {
     "data": {
      "text/plain": [
       "1185"
      ]
     },
     "execution_count": 30,
     "metadata": {},
     "output_type": "execute_result"
    }
   ],
   "source": [
    "len(pd.DataFrame(pd.DataFrame(all_data_before_dedup).drop_duplicates(subset=[\"key\", \"question\", ], keep=\"first\", inplace=False)).to_dict(\"records\"))"
   ]
  },
  {
   "cell_type": "code",
   "execution_count": 31,
   "metadata": {},
   "outputs": [],
   "source": [
    "io.dump_jsonlines(pd.DataFrame(pd.DataFrame(all_data_before_dedup).drop_duplicates(subset=[\"key\", \"question\", ], keep=\"first\", inplace=False)).to_dict(\"records\"), f\"{vars.DATA_DIR}/debug_meta_train/country_syn_data_v2/all_country_questions_prefilter.jsonl\")"
   ]
  },
  {
   "cell_type": "code",
   "execution_count": 19,
   "metadata": {},
   "outputs": [
    {
     "data": {
      "text/plain": [
       "1251"
      ]
     },
     "execution_count": 19,
     "metadata": {},
     "output_type": "execute_result"
    }
   ],
   "source": [
    "# country_knowledge_data_v2 = io.load_jsonlines(f\"{vars.DATA_DIR}/debug_meta_train/country_syn_data_v2/all_country_questions.jsonl\")\n",
    "\n",
    "# some weirdly missing entries\n",
    "\n",
    "len(country_knowledge_data_v2)"
   ]
  },
  {
   "cell_type": "code",
   "execution_count": null,
   "metadata": {},
   "outputs": [],
   "source": [
    "# io.dump_jsonlines(country_knowledge_data_v2_missing, f\"{vars.DATA_DIR}/debug_meta_train/country_syn_data_v2/subparts/missing_entries.jsonl\")"
   ]
  },
  {
   "cell_type": "code",
   "execution_count": 505,
   "metadata": {},
   "outputs": [],
   "source": [
    "# remove duplicates after adding missing ones\n",
    "# io.dump_jsonlines(pd.DataFrame(country_knowledge_data_v2).drop_duplicates(subset=[\"key\", \"question\", ]).to_dict(\"records\"), f\"{vars.DATA_DIR}/debug_meta_train/country_syn_data_v2/all_country_questions.jsonl\")"
   ]
  },
  {
   "cell_type": "code",
   "execution_count": null,
   "metadata": {},
   "outputs": [],
   "source": [
    "# io.dump_jsonlines(country_knowledge_data_v2, f\"{vars.DATA_DIR}/debug_meta_train/country_syn_data_v2/all_country_questions.jsonl\")"
   ]
  },
  {
   "cell_type": "code",
   "execution_count": null,
   "metadata": {},
   "outputs": [
    {
     "data": {
      "text/html": [
       "<div>\n",
       "<style scoped>\n",
       "    .dataframe tbody tr th:only-of-type {\n",
       "        vertical-align: middle;\n",
       "    }\n",
       "\n",
       "    .dataframe tbody tr th {\n",
       "        vertical-align: top;\n",
       "    }\n",
       "\n",
       "    .dataframe thead th {\n",
       "        text-align: right;\n",
       "    }\n",
       "</style>\n",
       "<table border=\"1\" class=\"dataframe\">\n",
       "  <thead>\n",
       "    <tr style=\"text-align: right;\">\n",
       "      <th></th>\n",
       "      <th>question</th>\n",
       "      <th>answer</th>\n",
       "      <th>(city, country)</th>\n",
       "      <th>template</th>\n",
       "      <th>domain</th>\n",
       "      <th>key</th>\n",
       "    </tr>\n",
       "  </thead>\n",
       "  <tbody>\n",
       "    <tr>\n",
       "      <th>0</th>\n",
       "      <td>Which country is Accra located in?</td>\n",
       "      <td>Ghana</td>\n",
       "      <td>[Accra, Ghana]</td>\n",
       "      <td>Which country is {city} located in?</td>\n",
       "      <td>country</td>\n",
       "      <td>Ghana</td>\n",
       "    </tr>\n",
       "    <tr>\n",
       "      <th>1</th>\n",
       "      <td>Which country is Kuala Lumpur located in?</td>\n",
       "      <td>Malaysia</td>\n",
       "      <td>[Kuala Lumpur, Malaysia]</td>\n",
       "      <td>Which country is {city} located in?</td>\n",
       "      <td>country</td>\n",
       "      <td>Malaysia</td>\n",
       "    </tr>\n",
       "    <tr>\n",
       "      <th>2</th>\n",
       "      <td>Which country is Quezon City located in?</td>\n",
       "      <td>Philippines</td>\n",
       "      <td>[Quezon City, Philippines]</td>\n",
       "      <td>Which country is {city} located in?</td>\n",
       "      <td>country</td>\n",
       "      <td>Philippines</td>\n",
       "    </tr>\n",
       "    <tr>\n",
       "      <th>3</th>\n",
       "      <td>Which country is Mendoza located in?</td>\n",
       "      <td>Argentina</td>\n",
       "      <td>[Mendoza, Argentina]</td>\n",
       "      <td>Which country is {city} located in?</td>\n",
       "      <td>country</td>\n",
       "      <td>Argentina</td>\n",
       "    </tr>\n",
       "    <tr>\n",
       "      <th>4</th>\n",
       "      <td>Which country is Rotorua located in?</td>\n",
       "      <td>New Zealand</td>\n",
       "      <td>[Rotorua, New Zealand]</td>\n",
       "      <td>Which country is {city} located in?</td>\n",
       "      <td>country</td>\n",
       "      <td>New Zealand</td>\n",
       "    </tr>\n",
       "    <tr>\n",
       "      <th>...</th>\n",
       "      <td>...</td>\n",
       "      <td>...</td>\n",
       "      <td>...</td>\n",
       "      <td>...</td>\n",
       "      <td>...</td>\n",
       "      <td>...</td>\n",
       "    </tr>\n",
       "    <tr>\n",
       "      <th>1246</th>\n",
       "      <td>Which country is Akureyri located in?</td>\n",
       "      <td>Iceland</td>\n",
       "      <td>[Akureyri, Iceland]</td>\n",
       "      <td>Which country is {city} located in?</td>\n",
       "      <td>country</td>\n",
       "      <td>Iceland</td>\n",
       "    </tr>\n",
       "    <tr>\n",
       "      <th>1247</th>\n",
       "      <td>Which continent is French Polynesia located in?</td>\n",
       "      <td>Oceania</td>\n",
       "      <td>NaN</td>\n",
       "      <td>Which continent is {country} located in?</td>\n",
       "      <td>country</td>\n",
       "      <td>French Polynesia</td>\n",
       "    </tr>\n",
       "    <tr>\n",
       "      <th>1248</th>\n",
       "      <td>Which country is Papeete located in?</td>\n",
       "      <td>French Polynesia</td>\n",
       "      <td>[Papeete, French Polynesia]</td>\n",
       "      <td>Which country is {city} located in?</td>\n",
       "      <td>country</td>\n",
       "      <td>French Polynesia</td>\n",
       "    </tr>\n",
       "    <tr>\n",
       "      <th>1249</th>\n",
       "      <td>Which continent is Maldives located in?</td>\n",
       "      <td>Asia</td>\n",
       "      <td>NaN</td>\n",
       "      <td>Which continent is {country} located in?</td>\n",
       "      <td>country</td>\n",
       "      <td>Maldives</td>\n",
       "    </tr>\n",
       "    <tr>\n",
       "      <th>1250</th>\n",
       "      <td>Which country is Malé located in?</td>\n",
       "      <td>Maldives</td>\n",
       "      <td>[Malé, Maldives]</td>\n",
       "      <td>Which country is {city} located in?</td>\n",
       "      <td>country</td>\n",
       "      <td>Maldives</td>\n",
       "    </tr>\n",
       "  </tbody>\n",
       "</table>\n",
       "<p>1189 rows × 6 columns</p>\n",
       "</div>"
      ],
      "text/plain": [
       "                                             question            answer  \\\n",
       "0                  Which country is Accra located in?             Ghana   \n",
       "1           Which country is Kuala Lumpur located in?          Malaysia   \n",
       "2            Which country is Quezon City located in?       Philippines   \n",
       "3                Which country is Mendoza located in?         Argentina   \n",
       "4                Which country is Rotorua located in?       New Zealand   \n",
       "...                                               ...               ...   \n",
       "1246            Which country is Akureyri located in?           Iceland   \n",
       "1247  Which continent is French Polynesia located in?           Oceania   \n",
       "1248             Which country is Papeete located in?  French Polynesia   \n",
       "1249          Which continent is Maldives located in?              Asia   \n",
       "1250                Which country is Malé located in?          Maldives   \n",
       "\n",
       "                  (city, country)                                  template  \\\n",
       "0                  [Accra, Ghana]       Which country is {city} located in?   \n",
       "1        [Kuala Lumpur, Malaysia]       Which country is {city} located in?   \n",
       "2      [Quezon City, Philippines]       Which country is {city} located in?   \n",
       "3            [Mendoza, Argentina]       Which country is {city} located in?   \n",
       "4          [Rotorua, New Zealand]       Which country is {city} located in?   \n",
       "...                           ...                                       ...   \n",
       "1246          [Akureyri, Iceland]       Which country is {city} located in?   \n",
       "1247                          NaN  Which continent is {country} located in?   \n",
       "1248  [Papeete, French Polynesia]       Which country is {city} located in?   \n",
       "1249                          NaN  Which continent is {country} located in?   \n",
       "1250             [Malé, Maldives]       Which country is {city} located in?   \n",
       "\n",
       "       domain               key  \n",
       "0     country             Ghana  \n",
       "1     country          Malaysia  \n",
       "2     country       Philippines  \n",
       "3     country         Argentina  \n",
       "4     country       New Zealand  \n",
       "...       ...               ...  \n",
       "1246  country           Iceland  \n",
       "1247  country  French Polynesia  \n",
       "1248  country  French Polynesia  \n",
       "1249  country          Maldives  \n",
       "1250  country          Maldives  \n",
       "\n",
       "[1189 rows x 6 columns]"
      ]
     },
     "execution_count": 6,
     "metadata": {},
     "output_type": "execute_result"
    }
   ],
   "source": []
  },
  {
   "cell_type": "code",
   "execution_count": 5,
   "metadata": {},
   "outputs": [],
   "source": [
    "country2template_count = defaultdict(lambda : defaultdict(int))\n",
    "for (country, template), df in pd.DataFrame(pd.DataFrame(country_knowledge_data_v2).drop_duplicates(subset=[\"key\", \"question\", ], keep=\"first\", inplace=False)).groupby([\"key\", \"template\"]):\n",
    "    # print((country, template))\n",
    "    # print(df.shape)\n",
    "    country2template_count[country][template] += df.shape[0]"
   ]
  },
  {
   "cell_type": "code",
   "execution_count": 509,
   "metadata": {},
   "outputs": [],
   "source": [
    "# len(pd.DataFrame(country_knowledge_data_v2).drop_duplicates(subset=[\"key\", \"question\", \"answer\", \"template\",  \"domain\", ], keep=\"first\", inplace=False))"
   ]
  },
  {
   "cell_type": "code",
   "execution_count": 510,
   "metadata": {},
   "outputs": [
    {
     "data": {
      "text/plain": [
       "defaultdict(<function __main__.<lambda>()>,\n",
       "            {'Algeria': defaultdict(int,\n",
       "                         {'What is the capital of {country}?': 1,\n",
       "                          'What is the currency of {country}?': 1,\n",
       "                          'What is the full official name of {country}?': 1,\n",
       "                          'What language has the most speakers in {country}?': 1,\n",
       "                          'Which continent is {country} located in?': 1,\n",
       "                          'Which country is the largest in {continent} by area?': 1,\n",
       "                          'Which country is {city} located in?': 1,\n",
       "                          'Which ethnic group is the largest in {country}?': 1,\n",
       "                          'Which religion has the most followers in {country}?': 1}),\n",
       "             'Argentina': defaultdict(int,\n",
       "                         {'What is the capital of {country}?': 1,\n",
       "                          'What is the currency of {country}?': 1,\n",
       "                          'What is the full official name of {country}?': 1,\n",
       "                          'What language has the most speakers in {country}?': 1,\n",
       "                          'Which continent is {country} located in?': 1,\n",
       "                          'Which country is the largest in {continent} by area?': 1,\n",
       "                          'Which country is {city} located in?': 10,\n",
       "                          'Which ethnic group is the largest in {country}?': 1,\n",
       "                          'Which religion has the most followers in {country}?': 1}),\n",
       "             'Armenia': defaultdict(int,\n",
       "                         {'What is the capital of {country}?': 1,\n",
       "                          'What is the currency of {country}?': 1,\n",
       "                          'What is the full official name of {country}?': 1,\n",
       "                          'What language has the most speakers in {country}?': 1,\n",
       "                          'Which continent is {country} located in?': 1,\n",
       "                          'Which country is the largest in {continent} by area?': 1,\n",
       "                          'Which country is {city} located in?': 1,\n",
       "                          'Which ethnic group is the largest in {country}?': 1,\n",
       "                          'Which religion has the most followers in {country}?': 1}),\n",
       "             'Australia': defaultdict(int,\n",
       "                         {'What is the capital of {country}?': 1,\n",
       "                          'What is the currency of {country}?': 1,\n",
       "                          'What is the full official name of {country}?': 1,\n",
       "                          'What language has the most speakers in {country}?': 1,\n",
       "                          'Which continent is {country} located in?': 1,\n",
       "                          'Which country is the largest in {continent} by area?': 1,\n",
       "                          'Which country is {city} located in?': 8,\n",
       "                          'Which ethnic group is the largest in {country}?': 1,\n",
       "                          'Which religion has the most followers in {country}?': 1}),\n",
       "             'Austria': defaultdict(int,\n",
       "                         {'What is the capital of {country}?': 1,\n",
       "                          'What is the currency of {country}?': 1,\n",
       "                          'What is the full official name of {country}?': 1,\n",
       "                          'What language has the most speakers in {country}?': 1,\n",
       "                          'Which continent is {country} located in?': 1,\n",
       "                          'Which country is the largest in {continent} by area?': 1,\n",
       "                          'Which country is {city} located in?': 10,\n",
       "                          'Which ethnic group is the largest in {country}?': 1,\n",
       "                          'Which religion has the most followers in {country}?': 1}),\n",
       "             'Azerbaijan': defaultdict(int,\n",
       "                         {'What is the capital of {country}?': 1,\n",
       "                          'What is the currency of {country}?': 1,\n",
       "                          'What is the full official name of {country}?': 1,\n",
       "                          'What language has the most speakers in {country}?': 1,\n",
       "                          'Which continent is {country} located in?': 1,\n",
       "                          'Which country is the largest in {continent} by area?': 1,\n",
       "                          'Which country is {city} located in?': 1,\n",
       "                          'Which ethnic group is the largest in {country}?': 1,\n",
       "                          'Which religion has the most followers in {country}?': 1}),\n",
       "             'Bangladesh': defaultdict(int,\n",
       "                         {'What is the capital of {country}?': 1,\n",
       "                          'What is the currency of {country}?': 1,\n",
       "                          'What is the full official name of {country}?': 1,\n",
       "                          'What language has the most speakers in {country}?': 1,\n",
       "                          'Which continent is {country} located in?': 1,\n",
       "                          'Which country is the largest in {continent} by area?': 1,\n",
       "                          'Which country is {city} located in?': 10,\n",
       "                          'Which ethnic group is the largest in {country}?': 1,\n",
       "                          'Which religion has the most followers in {country}?': 1}),\n",
       "             'Belgium': defaultdict(int,\n",
       "                         {'What is the capital of {country}?': 1,\n",
       "                          'What is the currency of {country}?': 1,\n",
       "                          'What is the full official name of {country}?': 1,\n",
       "                          'What language has the most speakers in {country}?': 1,\n",
       "                          'Which continent is {country} located in?': 1,\n",
       "                          'Which country is the largest in {continent} by area?': 1,\n",
       "                          'Which country is {city} located in?': 10,\n",
       "                          'Which ethnic group is the largest in {country}?': 1,\n",
       "                          'Which religion has the most followers in {country}?': 1}),\n",
       "             'Bolivia': defaultdict(int,\n",
       "                         {'What is the currency of {country}?': 1,\n",
       "                          'What is the full official name of {country}?': 1,\n",
       "                          'What language has the most speakers in {country}?': 1,\n",
       "                          'Which continent is {country} located in?': 1,\n",
       "                          'Which country is the largest in {continent} by area?': 1,\n",
       "                          'Which country is {city} located in?': 1,\n",
       "                          'Which ethnic group is the largest in {country}?': 1,\n",
       "                          'Which religion has the most followers in {country}?': 1}),\n",
       "             'Brazil': defaultdict(int,\n",
       "                         {'What is the capital of {country}?': 1,\n",
       "                          'What is the currency of {country}?': 1,\n",
       "                          'What is the full official name of {country}?': 1,\n",
       "                          'What language has the most speakers in {country}?': 1,\n",
       "                          'Which continent is {country} located in?': 1,\n",
       "                          'Which country is the largest in {continent} by area?': 1,\n",
       "                          'Which country is {city} located in?': 10,\n",
       "                          'Which ethnic group is the largest in {country}?': 1,\n",
       "                          'Which religion has the most followers in {country}?': 1}),\n",
       "             'Canada': defaultdict(int,\n",
       "                         {'What is the capital of {country}?': 1,\n",
       "                          'What is the currency of {country}?': 1,\n",
       "                          'What is the full official name of {country}?': 1,\n",
       "                          'What language has the most speakers in {country}?': 1,\n",
       "                          'Which continent is {country} located in?': 1,\n",
       "                          'Which country is the largest in {continent} by area?': 1,\n",
       "                          'Which country is {city} located in?': 10,\n",
       "                          'Which ethnic group is the largest in {country}?': 1,\n",
       "                          'Which religion has the most followers in {country}?': 1}),\n",
       "             'Chile': defaultdict(int,\n",
       "                         {'What is the capital of {country}?': 1,\n",
       "                          'What is the currency of {country}?': 1,\n",
       "                          'What is the full official name of {country}?': 1,\n",
       "                          'What language has the most speakers in {country}?': 1,\n",
       "                          'Which continent is {country} located in?': 1,\n",
       "                          'Which country is the largest in {continent} by area?': 1,\n",
       "                          'Which country is {city} located in?': 15,\n",
       "                          'Which ethnic group is the largest in {country}?': 1,\n",
       "                          'Which religion has the most followers in {country}?': 1}),\n",
       "             'China': defaultdict(int,\n",
       "                         {'What is the capital of {country}?': 1,\n",
       "                          'What is the currency of {country}?': 1,\n",
       "                          'What is the full official name of {country}?': 1,\n",
       "                          'What language has the most speakers in {country}?': 1,\n",
       "                          'Which continent is {country} located in?': 1,\n",
       "                          'Which country is the largest in {continent} by area?': 1,\n",
       "                          'Which country is {city} located in?': 11,\n",
       "                          'Which ethnic group is the largest in {country}?': 1,\n",
       "                          'Which religion has the most followers in {country}?': 1}),\n",
       "             'Colombia': defaultdict(int,\n",
       "                         {'What is the capital of {country}?': 1,\n",
       "                          'What is the currency of {country}?': 1,\n",
       "                          'What is the full official name of {country}?': 1,\n",
       "                          'What language has the most speakers in {country}?': 1,\n",
       "                          'Which continent is {country} located in?': 1,\n",
       "                          'Which country is the largest in {continent} by area?': 1,\n",
       "                          'Which country is {city} located in?': 10,\n",
       "                          'Which ethnic group is the largest in {country}?': 1,\n",
       "                          'Which religion has the most followers in {country}?': 1}),\n",
       "             'Cuba': defaultdict(int,\n",
       "                         {'What is the capital of {country}?': 1,\n",
       "                          'What is the currency of {country}?': 1,\n",
       "                          'What is the full official name of {country}?': 1,\n",
       "                          'What language has the most speakers in {country}?': 1,\n",
       "                          'Which continent is {country} located in?': 1,\n",
       "                          'Which country is the largest in {continent} by area?': 1,\n",
       "                          'Which country is {city} located in?': 2,\n",
       "                          'Which ethnic group is the largest in {country}?': 1,\n",
       "                          'Which religion has the most followers in {country}?': 1}),\n",
       "             'Czech Republic': defaultdict(int,\n",
       "                         {'What is the capital of {country}?': 1,\n",
       "                          'What is the currency of {country}?': 1,\n",
       "                          'What is the full official name of {country}?': 1,\n",
       "                          'What language has the most speakers in {country}?': 1,\n",
       "                          'Which continent is {country} located in?': 1,\n",
       "                          'Which country is the largest in {continent} by area?': 1,\n",
       "                          'Which country is {city} located in?': 10,\n",
       "                          'Which ethnic group is the largest in {country}?': 1,\n",
       "                          'Which religion has the most followers in {country}?': 1}),\n",
       "             'Democratic Republic of the Congo': defaultdict(int,\n",
       "                         {'What is the capital of {country}?': 1,\n",
       "                          'What is the currency of {country}?': 1,\n",
       "                          'What is the full official name of {country}?': 1,\n",
       "                          'What language has the most speakers in {country}?': 1,\n",
       "                          'Which continent is {country} located in?': 1,\n",
       "                          'Which country is the largest in {continent} by area?': 1,\n",
       "                          'Which country is {city} located in?': 1,\n",
       "                          'Which ethnic group is the largest in {country}?': 1,\n",
       "                          'Which religion has the most followers in {country}?': 1}),\n",
       "             'Denmark': defaultdict(int,\n",
       "                         {'What is the capital of {country}?': 1,\n",
       "                          'What is the currency of {country}?': 1,\n",
       "                          'What is the full official name of {country}?': 1,\n",
       "                          'What language has the most speakers in {country}?': 1,\n",
       "                          'Which continent is {country} located in?': 1,\n",
       "                          'Which country is the largest in {continent} by area?': 1,\n",
       "                          'Which country is {city} located in?': 10,\n",
       "                          'Which ethnic group is the largest in {country}?': 1,\n",
       "                          'Which religion has the most followers in {country}?': 1}),\n",
       "             'Ecuador': defaultdict(int,\n",
       "                         {'What is the capital of {country}?': 1,\n",
       "                          'What is the currency of {country}?': 1,\n",
       "                          'What is the full official name of {country}?': 1,\n",
       "                          'What language has the most speakers in {country}?': 1,\n",
       "                          'Which continent is {country} located in?': 1,\n",
       "                          'Which country is the largest in {continent} by area?': 1,\n",
       "                          'Which country is {city} located in?': 1,\n",
       "                          'Which ethnic group is the largest in {country}?': 1,\n",
       "                          'Which religion has the most followers in {country}?': 1}),\n",
       "             'Egypt': defaultdict(int,\n",
       "                         {'What is the capital of {country}?': 1,\n",
       "                          'What is the currency of {country}?': 1,\n",
       "                          'What is the full official name of {country}?': 1,\n",
       "                          'What language has the most speakers in {country}?': 1,\n",
       "                          'Which continent is {country} located in?': 1,\n",
       "                          'Which country is the largest in {continent} by area?': 1,\n",
       "                          'Which country is {city} located in?': 12,\n",
       "                          'Which ethnic group is the largest in {country}?': 1,\n",
       "                          'Which religion has the most followers in {country}?': 1}),\n",
       "             'Ethiopia': defaultdict(int,\n",
       "                         {'What is the capital of {country}?': 1,\n",
       "                          'What is the currency of {country}?': 1,\n",
       "                          'What is the full official name of {country}?': 1,\n",
       "                          'What language has the most speakers in {country}?': 1,\n",
       "                          'Which continent is {country} located in?': 1,\n",
       "                          'Which country is the largest in {continent} by area?': 1,\n",
       "                          'Which country is {city} located in?': 1,\n",
       "                          'Which ethnic group is the largest in {country}?': 1,\n",
       "                          'Which religion has the most followers in {country}?': 1}),\n",
       "             'Finland': defaultdict(int,\n",
       "                         {'What is the capital of {country}?': 1,\n",
       "                          'What is the currency of {country}?': 1,\n",
       "                          'What is the full official name of {country}?': 1,\n",
       "                          'What language has the most speakers in {country}?': 1,\n",
       "                          'Which continent is {country} located in?': 1,\n",
       "                          'Which country is the largest in {continent} by area?': 1,\n",
       "                          'Which country is {city} located in?': 15,\n",
       "                          'Which ethnic group is the largest in {country}?': 1,\n",
       "                          'Which religion has the most followers in {country}?': 1}),\n",
       "             'France': defaultdict(int,\n",
       "                         {'What is the capital of {country}?': 1,\n",
       "                          'What is the currency of {country}?': 1,\n",
       "                          'What is the full official name of {country}?': 1,\n",
       "                          'What language has the most speakers in {country}?': 1,\n",
       "                          'Which continent is {country} located in?': 1,\n",
       "                          'Which country is the largest in {continent} by area?': 1,\n",
       "                          'Which country is {city} located in?': 10,\n",
       "                          'Which ethnic group is the largest in {country}?': 1,\n",
       "                          'Which religion has the most followers in {country}?': 1}),\n",
       "             'French Polynesia': defaultdict(int,\n",
       "                         {'What is the capital of {country}?': 1,\n",
       "                          'What is the currency of {country}?': 1,\n",
       "                          'What is the full official name of {country}?': 1,\n",
       "                          'What language has the most speakers in {country}?': 1,\n",
       "                          'Which continent is {country} located in?': 1,\n",
       "                          'Which country is the largest in {continent} by area?': 1,\n",
       "                          'Which country is {city} located in?': 1,\n",
       "                          'Which ethnic group is the largest in {country}?': 1,\n",
       "                          'Which religion has the most followers in {country}?': 1}),\n",
       "             'Georgia': defaultdict(int,\n",
       "                         {'What is the capital of {country}?': 1,\n",
       "                          'What is the currency of {country}?': 1,\n",
       "                          'What is the full official name of {country}?': 1,\n",
       "                          'What language has the most speakers in {country}?': 1,\n",
       "                          'Which continent is {country} located in?': 1,\n",
       "                          'Which country is the largest in {continent} by area?': 1,\n",
       "                          'Which country is {city} located in?': 1,\n",
       "                          'Which ethnic group is the largest in {country}?': 1,\n",
       "                          'Which religion has the most followers in {country}?': 1}),\n",
       "             'Germany': defaultdict(int,\n",
       "                         {'What is the capital of {country}?': 1,\n",
       "                          'What is the currency of {country}?': 1,\n",
       "                          'What is the full official name of {country}?': 1,\n",
       "                          'What language has the most speakers in {country}?': 1,\n",
       "                          'Which continent is {country} located in?': 1,\n",
       "                          'Which country is the largest in {continent} by area?': 1,\n",
       "                          'Which country is {city} located in?': 10,\n",
       "                          'Which ethnic group is the largest in {country}?': 1,\n",
       "                          'Which religion has the most followers in {country}?': 1}),\n",
       "             'Ghana': defaultdict(int,\n",
       "                         {'What is the capital of {country}?': 1,\n",
       "                          'What is the currency of {country}?': 1,\n",
       "                          'What is the full official name of {country}?': 1,\n",
       "                          'What language has the most speakers in {country}?': 1,\n",
       "                          'Which continent is {country} located in?': 1,\n",
       "                          'Which country is the largest in {continent} by area?': 1,\n",
       "                          'Which country is {city} located in?': 1,\n",
       "                          'Which ethnic group is the largest in {country}?': 1,\n",
       "                          'Which religion has the most followers in {country}?': 1}),\n",
       "             'Greece': defaultdict(int,\n",
       "                         {'What is the capital of {country}?': 1,\n",
       "                          'What is the currency of {country}?': 1,\n",
       "                          'What is the full official name of {country}?': 1,\n",
       "                          'What language has the most speakers in {country}?': 1,\n",
       "                          'Which continent is {country} located in?': 1,\n",
       "                          'Which country is the largest in {continent} by area?': 1,\n",
       "                          'Which country is {city} located in?': 10,\n",
       "                          'Which ethnic group is the largest in {country}?': 1,\n",
       "                          'Which religion has the most followers in {country}?': 1}),\n",
       "             'Greek': defaultdict(int,\n",
       "                         {'What is the capital of {country}?': 1,\n",
       "                          'What is the currency of {country}?': 1,\n",
       "                          'What is the full official name of {country}?': 1,\n",
       "                          'What language has the most speakers in {country}?': 1,\n",
       "                          'Which continent is {country} located in?': 1,\n",
       "                          'Which country is the largest in {continent} by area?': 1,\n",
       "                          'Which country is {city} located in?': 5,\n",
       "                          'Which ethnic group is the largest in {country}?': 1,\n",
       "                          'Which religion has the most followers in {country}?': 1}),\n",
       "             'Hungary': defaultdict(int,\n",
       "                         {'What is the capital of {country}?': 1,\n",
       "                          'What is the currency of {country}?': 1,\n",
       "                          'What is the full official name of {country}?': 1,\n",
       "                          'What language has the most speakers in {country}?': 1,\n",
       "                          'Which continent is {country} located in?': 1,\n",
       "                          'Which country is the largest in {continent} by area?': 1,\n",
       "                          'Which country is {city} located in?': 10,\n",
       "                          'Which ethnic group is the largest in {country}?': 1,\n",
       "                          'Which religion has the most followers in {country}?': 1}),\n",
       "             'Iceland': defaultdict(int,\n",
       "                         {'What is the capital of {country}?': 1,\n",
       "                          'What is the currency of {country}?': 1,\n",
       "                          'What is the full official name of {country}?': 1,\n",
       "                          'What language has the most speakers in {country}?': 1,\n",
       "                          'Which continent is {country} located in?': 1,\n",
       "                          'Which country is the largest in {continent} by area?': 1,\n",
       "                          'Which country is {city} located in?': 2,\n",
       "                          'Which ethnic group is the largest in {country}?': 1,\n",
       "                          'Which religion has the most followers in {country}?': 1}),\n",
       "             'India': defaultdict(int,\n",
       "                         {'What is the capital of {country}?': 1,\n",
       "                          'What is the currency of {country}?': 1,\n",
       "                          'What is the full official name of {country}?': 1,\n",
       "                          'What language has the most speakers in {country}?': 1,\n",
       "                          'Which continent is {country} located in?': 1,\n",
       "                          'Which country is the largest in {continent} by area?': 1,\n",
       "                          'Which country is {city} located in?': 12,\n",
       "                          'Which ethnic group is the largest in {country}?': 1,\n",
       "                          'Which religion has the most followers in {country}?': 1}),\n",
       "             'Indonesia': defaultdict(int,\n",
       "                         {'What is the capital of {country}?': 1,\n",
       "                          'What is the currency of {country}?': 1,\n",
       "                          'What is the full official name of {country}?': 1,\n",
       "                          'What language has the most speakers in {country}?': 1,\n",
       "                          'Which continent is {country} located in?': 1,\n",
       "                          'Which country is the largest in {continent} by area?': 1,\n",
       "                          'Which country is {city} located in?': 10,\n",
       "                          'Which ethnic group is the largest in {country}?': 1,\n",
       "                          'Which religion has the most followers in {country}?': 1}),\n",
       "             'Iran': defaultdict(int,\n",
       "                         {'What is the capital of {country}?': 1,\n",
       "                          'What is the currency of {country}?': 1,\n",
       "                          'What is the full official name of {country}?': 1,\n",
       "                          'What language has the most speakers in {country}?': 1,\n",
       "                          'Which continent is {country} located in?': 1,\n",
       "                          'Which country is the largest in {continent} by area?': 1,\n",
       "                          'Which country is {city} located in?': 1,\n",
       "                          'Which ethnic group is the largest in {country}?': 1,\n",
       "                          'Which religion has the most followers in {country}?': 1}),\n",
       "             'Ireland': defaultdict(int,\n",
       "                         {'What is the capital of {country}?': 1,\n",
       "                          'What is the currency of {country}?': 1,\n",
       "                          'What is the full official name of {country}?': 1,\n",
       "                          'What language has the most speakers in {country}?': 1,\n",
       "                          'Which continent is {country} located in?': 1,\n",
       "                          'Which country is the largest in {continent} by area?': 1,\n",
       "                          'Which country is {city} located in?': 7,\n",
       "                          'Which ethnic group is the largest in {country}?': 1,\n",
       "                          'Which religion has the most followers in {country}?': 1}),\n",
       "             'Israel': defaultdict(int,\n",
       "                         {'What is the capital of {country}?': 1,\n",
       "                          'What is the currency of {country}?': 1,\n",
       "                          'What is the full official name of {country}?': 1,\n",
       "                          'What language has the most speakers in {country}?': 1,\n",
       "                          'Which continent is {country} located in?': 1,\n",
       "                          'Which country is the largest in {continent} by area?': 1,\n",
       "                          'Which country is {city} located in?': 10,\n",
       "                          'Which ethnic group is the largest in {country}?': 1,\n",
       "                          'Which religion has the most followers in {country}?': 1}),\n",
       "             'Italy': defaultdict(int,\n",
       "                         {'What is the capital of {country}?': 1,\n",
       "                          'What is the currency of {country}?': 1,\n",
       "                          'What is the full official name of {country}?': 1,\n",
       "                          'What language has the most speakers in {country}?': 1,\n",
       "                          'Which continent is {country} located in?': 1,\n",
       "                          'Which country is the largest in {continent} by area?': 1,\n",
       "                          'Which country is {city} located in?': 10,\n",
       "                          'Which ethnic group is the largest in {country}?': 1,\n",
       "                          'Which religion has the most followers in {country}?': 1}),\n",
       "             'Japan': defaultdict(int,\n",
       "                         {'What is the capital of {country}?': 1,\n",
       "                          'What is the currency of {country}?': 1,\n",
       "                          'What is the full official name of {country}?': 1,\n",
       "                          'What language has the most speakers in {country}?': 1,\n",
       "                          'Which continent is {country} located in?': 1,\n",
       "                          'Which country is the largest in {continent} by area?': 1,\n",
       "                          'Which country is {city} located in?': 10,\n",
       "                          'Which ethnic group is the largest in {country}?': 1,\n",
       "                          'Which religion has the most followers in {country}?': 1}),\n",
       "             'Kenya': defaultdict(int,\n",
       "                         {'What is the capital of {country}?': 1,\n",
       "                          'What is the currency of {country}?': 1,\n",
       "                          'What is the full official name of {country}?': 1,\n",
       "                          'What language has the most speakers in {country}?': 1,\n",
       "                          'Which continent is {country} located in?': 1,\n",
       "                          'Which country is the largest in {continent} by area?': 1,\n",
       "                          'Which country is {city} located in?': 5,\n",
       "                          'Which ethnic group is the largest in {country}?': 1,\n",
       "                          'Which religion has the most followers in {country}?': 1}),\n",
       "             'Kuwait': defaultdict(int,\n",
       "                         {'What is the capital of {country}?': 1,\n",
       "                          'What is the currency of {country}?': 1,\n",
       "                          'What is the full official name of {country}?': 1,\n",
       "                          'What language has the most speakers in {country}?': 1,\n",
       "                          'Which continent is {country} located in?': 1,\n",
       "                          'Which country is the largest in {continent} by area?': 1,\n",
       "                          'Which country is {city} located in?': 1,\n",
       "                          'Which ethnic group is the largest in {country}?': 1,\n",
       "                          'Which religion has the most followers in {country}?': 1}),\n",
       "             'Malaysia': defaultdict(int,\n",
       "                         {'What is the capital of {country}?': 1,\n",
       "                          'What is the currency of {country}?': 1,\n",
       "                          'What is the full official name of {country}?': 1,\n",
       "                          'What language has the most speakers in {country}?': 1,\n",
       "                          'Which continent is {country} located in?': 1,\n",
       "                          'Which country is the largest in {continent} by area?': 1,\n",
       "                          'Which country is {city} located in?': 10,\n",
       "                          'Which ethnic group is the largest in {country}?': 1,\n",
       "                          'Which religion has the most followers in {country}?': 1}),\n",
       "             'Maldives': defaultdict(int,\n",
       "                         {'What is the capital of {country}?': 1,\n",
       "                          'What is the currency of {country}?': 1,\n",
       "                          'What is the full official name of {country}?': 1,\n",
       "                          'What language has the most speakers in {country}?': 1,\n",
       "                          'Which continent is {country} located in?': 1,\n",
       "                          'Which country is the largest in {continent} by area?': 1,\n",
       "                          'Which country is {city} located in?': 1,\n",
       "                          'Which ethnic group is the largest in {country}?': 1,\n",
       "                          'Which religion has the most followers in {country}?': 1}),\n",
       "             'Mexico': defaultdict(int,\n",
       "                         {'What is the capital of {country}?': 1,\n",
       "                          'What is the currency of {country}?': 1,\n",
       "                          'What is the full official name of {country}?': 1,\n",
       "                          'What language has the most speakers in {country}?': 1,\n",
       "                          'Which continent is {country} located in?': 1,\n",
       "                          'Which country is the largest in {continent} by area?': 1,\n",
       "                          'Which country is {city} located in?': 12,\n",
       "                          'Which ethnic group is the largest in {country}?': 1,\n",
       "                          'Which religion has the most followers in {country}?': 1}),\n",
       "             'Morocco': defaultdict(int,\n",
       "                         {'What is the capital of {country}?': 1,\n",
       "                          'What is the currency of {country}?': 1,\n",
       "                          'What is the full official name of {country}?': 1,\n",
       "                          'What language has the most speakers in {country}?': 1,\n",
       "                          'Which continent is {country} located in?': 1,\n",
       "                          'Which country is the largest in {continent} by area?': 1,\n",
       "                          'Which country is {city} located in?': 1,\n",
       "                          'Which ethnic group is the largest in {country}?': 1,\n",
       "                          'Which religion has the most followers in {country}?': 1}),\n",
       "             'Mozambique': defaultdict(int,\n",
       "                         {'What is the capital of {country}?': 1,\n",
       "                          'What is the currency of {country}?': 1,\n",
       "                          'What is the full official name of {country}?': 1,\n",
       "                          'What language has the most speakers in {country}?': 1,\n",
       "                          'Which continent is {country} located in?': 1,\n",
       "                          'Which country is the largest in {continent} by area?': 1,\n",
       "                          'Which country is {city} located in?': 1,\n",
       "                          'Which ethnic group is the largest in {country}?': 1,\n",
       "                          'Which religion has the most followers in {country}?': 1}),\n",
       "             'Netherlands': defaultdict(int,\n",
       "                         {'What is the capital of {country}?': 1,\n",
       "                          'What is the currency of {country}?': 1,\n",
       "                          'What is the full official name of {country}?': 1,\n",
       "                          'What language has the most speakers in {country}?': 1,\n",
       "                          'Which continent is {country} located in?': 1,\n",
       "                          'Which country is the largest in {continent} by area?': 1,\n",
       "                          'Which country is {city} located in?': 10,\n",
       "                          'Which ethnic group is the largest in {country}?': 1,\n",
       "                          'Which religion has the most followers in {country}?': 1}),\n",
       "             'New Zealand': defaultdict(int,\n",
       "                         {'What is the capital of {country}?': 1,\n",
       "                          'What is the currency of {country}?': 1,\n",
       "                          'What is the full official name of {country}?': 1,\n",
       "                          'What language has the most speakers in {country}?': 1,\n",
       "                          'Which continent is {country} located in?': 1,\n",
       "                          'Which country is the largest in {continent} by area?': 1,\n",
       "                          'Which country is {city} located in?': 10,\n",
       "                          'Which ethnic group is the largest in {country}?': 1,\n",
       "                          'Which religion has the most followers in {country}?': 1}),\n",
       "             'Nigeria': defaultdict(int,\n",
       "                         {'What is the capital of {country}?': 1,\n",
       "                          'What is the currency of {country}?': 1,\n",
       "                          'What is the full official name of {country}?': 1,\n",
       "                          'What language has the most speakers in {country}?': 1,\n",
       "                          'Which continent is {country} located in?': 1,\n",
       "                          'Which country is the largest in {continent} by area?': 1,\n",
       "                          'Which country is {city} located in?': 10,\n",
       "                          'Which ethnic group is the largest in {country}?': 1,\n",
       "                          'Which religion has the most followers in {country}?': 1}),\n",
       "             'Norway': defaultdict(int,\n",
       "                         {'What is the capital of {country}?': 1,\n",
       "                          'What is the currency of {country}?': 1,\n",
       "                          'What is the full official name of {country}?': 1,\n",
       "                          'What language has the most speakers in {country}?': 1,\n",
       "                          'Which continent is {country} located in?': 1,\n",
       "                          'Which country is the largest in {continent} by area?': 1,\n",
       "                          'Which country is {city} located in?': 10,\n",
       "                          'Which ethnic group is the largest in {country}?': 1,\n",
       "                          'Which religion has the most followers in {country}?': 1}),\n",
       "             'Oman': defaultdict(int,\n",
       "                         {'What is the capital of {country}?': 1,\n",
       "                          'What is the currency of {country}?': 1,\n",
       "                          'What is the full official name of {country}?': 1,\n",
       "                          'What language has the most speakers in {country}?': 1,\n",
       "                          'Which continent is {country} located in?': 1,\n",
       "                          'Which country is the largest in {continent} by area?': 1,\n",
       "                          'Which country is {city} located in?': 1,\n",
       "                          'Which ethnic group is the largest in {country}?': 1,\n",
       "                          'Which religion has the most followers in {country}?': 1}),\n",
       "             'Pakistan': defaultdict(int,\n",
       "                         {'What is the capital of {country}?': 1,\n",
       "                          'What is the currency of {country}?': 1,\n",
       "                          'What is the full official name of {country}?': 1,\n",
       "                          'What language has the most speakers in {country}?': 1,\n",
       "                          'Which continent is {country} located in?': 1,\n",
       "                          'Which country is the largest in {continent} by area?': 1,\n",
       "                          'Which country is {city} located in?': 10,\n",
       "                          'Which ethnic group is the largest in {country}?': 1,\n",
       "                          'Which religion has the most followers in {country}?': 1}),\n",
       "             'Peru': defaultdict(int,\n",
       "                         {'What is the capital of {country}?': 1,\n",
       "                          'What is the currency of {country}?': 1,\n",
       "                          'What is the full official name of {country}?': 1,\n",
       "                          'What language has the most speakers in {country}?': 1,\n",
       "                          'Which continent is {country} located in?': 1,\n",
       "                          'Which country is the largest in {continent} by area?': 1,\n",
       "                          'Which country is {city} located in?': 1,\n",
       "                          'Which ethnic group is the largest in {country}?': 1,\n",
       "                          'Which religion has the most followers in {country}?': 1}),\n",
       "             'Philippines': defaultdict(int,\n",
       "                         {'What is the capital of {country}?': 1,\n",
       "                          'What is the currency of {country}?': 1,\n",
       "                          'What is the full official name of {country}?': 1,\n",
       "                          'What language has the most speakers in {country}?': 1,\n",
       "                          'Which continent is {country} located in?': 1,\n",
       "                          'Which country is the largest in {continent} by area?': 1,\n",
       "                          'Which country is {city} located in?': 20,\n",
       "                          'Which ethnic group is the largest in {country}?': 1,\n",
       "                          'Which religion has the most followers in {country}?': 1}),\n",
       "             'Poland': defaultdict(int,\n",
       "                         {'What is the capital of {country}?': 1,\n",
       "                          'What is the currency of {country}?': 1,\n",
       "                          'What is the full official name of {country}?': 1,\n",
       "                          'What language has the most speakers in {country}?': 1,\n",
       "                          'Which continent is {country} located in?': 1,\n",
       "                          'Which country is the largest in {continent} by area?': 1,\n",
       "                          'Which country is {city} located in?': 10,\n",
       "                          'Which ethnic group is the largest in {country}?': 1,\n",
       "                          'Which religion has the most followers in {country}?': 1}),\n",
       "             'Portugal': defaultdict(int,\n",
       "                         {'What is the capital of {country}?': 1,\n",
       "                          'What is the currency of {country}?': 1,\n",
       "                          'What is the full official name of {country}?': 1,\n",
       "                          'What language has the most speakers in {country}?': 1,\n",
       "                          'Which continent is {country} located in?': 1,\n",
       "                          'Which country is the largest in {continent} by area?': 1,\n",
       "                          'Which country is {city} located in?': 10,\n",
       "                          'Which ethnic group is the largest in {country}?': 1,\n",
       "                          'Which religion has the most followers in {country}?': 1}),\n",
       "             'Qatar': defaultdict(int,\n",
       "                         {'What is the capital of {country}?': 1,\n",
       "                          'What is the currency of {country}?': 1,\n",
       "                          'What is the full official name of {country}?': 1,\n",
       "                          'What language has the most speakers in {country}?': 1,\n",
       "                          'Which continent is {country} located in?': 1,\n",
       "                          'Which country is the largest in {continent} by area?': 1,\n",
       "                          'Which country is {city} located in?': 1,\n",
       "                          'Which ethnic group is the largest in {country}?': 1,\n",
       "                          'Which religion has the most followers in {country}?': 1}),\n",
       "             'Romania': defaultdict(int,\n",
       "                         {'What is the capital of {country}?': 1,\n",
       "                          'What is the currency of {country}?': 1,\n",
       "                          'What is the full official name of {country}?': 1,\n",
       "                          'What language has the most speakers in {country}?': 1,\n",
       "                          'Which continent is {country} located in?': 1,\n",
       "                          'Which country is the largest in {continent} by area?': 1,\n",
       "                          'Which country is {city} located in?': 10,\n",
       "                          'Which ethnic group is the largest in {country}?': 1,\n",
       "                          'Which religion has the most followers in {country}?': 1}),\n",
       "             'Russia': defaultdict(int,\n",
       "                         {'What is the capital of {country}?': 1,\n",
       "                          'What is the currency of {country}?': 1,\n",
       "                          'What is the full official name of {country}?': 1,\n",
       "                          'What language has the most speakers in {country}?': 1,\n",
       "                          'Which continent is {country} located in?': 1,\n",
       "                          'Which country is the largest in {continent} by area?': 1,\n",
       "                          'Which country is {city} located in?': 16,\n",
       "                          'Which ethnic group is the largest in {country}?': 1,\n",
       "                          'Which religion has the most followers in {country}?': 1}),\n",
       "             'Saudi Arabia': defaultdict(int,\n",
       "                         {'What is the capital of {country}?': 1,\n",
       "                          'What is the currency of {country}?': 1,\n",
       "                          'What is the full official name of {country}?': 1,\n",
       "                          'What language has the most speakers in {country}?': 1,\n",
       "                          'Which continent is {country} located in?': 1,\n",
       "                          'Which country is the largest in {continent} by area?': 1,\n",
       "                          'Which country is {city} located in?': 10,\n",
       "                          'Which ethnic group is the largest in {country}?': 1,\n",
       "                          'Which religion has the most followers in {country}?': 1}),\n",
       "             'Singapore': defaultdict(int,\n",
       "                         {'What is the capital of {country}?': 1,\n",
       "                          'What is the currency of {country}?': 1,\n",
       "                          'What is the full official name of {country}?': 1,\n",
       "                          'What language has the most speakers in {country}?': 1,\n",
       "                          'Which continent is {country} located in?': 1,\n",
       "                          'Which country is the largest in {continent} by area?': 1,\n",
       "                          'Which country is {city} located in?': 10,\n",
       "                          'Which ethnic group is the largest in {country}?': 1,\n",
       "                          'Which religion has the most followers in {country}?': 1}),\n",
       "             'South Africa': defaultdict(int,\n",
       "                         {'What is the currency of {country}?': 1,\n",
       "                          'What is the full official name of {country}?': 1,\n",
       "                          'What language has the most speakers in {country}?': 1,\n",
       "                          'Which continent is {country} located in?': 1,\n",
       "                          'Which country is the largest in {continent} by area?': 1,\n",
       "                          'Which country is {city} located in?': 10,\n",
       "                          'Which ethnic group is the largest in {country}?': 1,\n",
       "                          'Which religion has the most followers in {country}?': 1}),\n",
       "             'South Korea': defaultdict(int,\n",
       "                         {'What is the capital of {country}?': 1,\n",
       "                          'What is the currency of {country}?': 1,\n",
       "                          'What is the full official name of {country}?': 1,\n",
       "                          'What language has the most speakers in {country}?': 1,\n",
       "                          'Which continent is {country} located in?': 1,\n",
       "                          'Which country is the largest in {continent} by area?': 1,\n",
       "                          'Which country is {city} located in?': 11,\n",
       "                          'Which ethnic group is the largest in {country}?': 1,\n",
       "                          'Which religion has the most followers in {country}?': 1}),\n",
       "             'Spain': defaultdict(int,\n",
       "                         {'What is the capital of {country}?': 1,\n",
       "                          'What is the currency of {country}?': 1,\n",
       "                          'What is the full official name of {country}?': 1,\n",
       "                          'What language has the most speakers in {country}?': 1,\n",
       "                          'Which continent is {country} located in?': 1,\n",
       "                          'Which country is the largest in {continent} by area?': 1,\n",
       "                          'Which country is {city} located in?': 10,\n",
       "                          'Which ethnic group is the largest in {country}?': 1,\n",
       "                          'Which religion has the most followers in {country}?': 1}),\n",
       "             'Sweden': defaultdict(int,\n",
       "                         {'What is the capital of {country}?': 1,\n",
       "                          'What is the currency of {country}?': 1,\n",
       "                          'What is the full official name of {country}?': 1,\n",
       "                          'What language has the most speakers in {country}?': 1,\n",
       "                          'Which continent is {country} located in?': 1,\n",
       "                          'Which country is the largest in {continent} by area?': 1,\n",
       "                          'Which country is {city} located in?': 10,\n",
       "                          'Which ethnic group is the largest in {country}?': 1,\n",
       "                          'Which religion has the most followers in {country}?': 1}),\n",
       "             'Switzerland': defaultdict(int,\n",
       "                         {'What is the capital of {country}?': 1,\n",
       "                          'What is the currency of {country}?': 1,\n",
       "                          'What is the full official name of {country}?': 1,\n",
       "                          'What language has the most speakers in {country}?': 1,\n",
       "                          'Which continent is {country} located in?': 1,\n",
       "                          'Which country is the largest in {continent} by area?': 1,\n",
       "                          'Which country is {city} located in?': 10,\n",
       "                          'Which ethnic group is the largest in {country}?': 1,\n",
       "                          'Which religion has the most followers in {country}?': 1}),\n",
       "             'Taiwan': defaultdict(int,\n",
       "                         {'What is the capital of {country}?': 1,\n",
       "                          'What is the currency of {country}?': 1,\n",
       "                          'What is the full official name of {country}?': 1,\n",
       "                          'What language has the most speakers in {country}?': 1,\n",
       "                          'Which continent is {country} located in?': 1,\n",
       "                          'Which country is the largest in {continent} by area?': 1,\n",
       "                          'Which country is {city} located in?': 1,\n",
       "                          'Which ethnic group is the largest in {country}?': 1,\n",
       "                          'Which religion has the most followers in {country}?': 1}),\n",
       "             'Thailand': defaultdict(int,\n",
       "                         {'What is the capital of {country}?': 1,\n",
       "                          'What is the currency of {country}?': 1,\n",
       "                          'What is the full official name of {country}?': 1,\n",
       "                          'What language has the most speakers in {country}?': 1,\n",
       "                          'Which continent is {country} located in?': 1,\n",
       "                          'Which country is the largest in {continent} by area?': 1,\n",
       "                          'Which country is {city} located in?': 11,\n",
       "                          'Which ethnic group is the largest in {country}?': 1,\n",
       "                          'Which religion has the most followers in {country}?': 1}),\n",
       "             'Turkey': defaultdict(int,\n",
       "                         {'What is the capital of {country}?': 1,\n",
       "                          'What is the currency of {country}?': 1,\n",
       "                          'What is the full official name of {country}?': 1,\n",
       "                          'What language has the most speakers in {country}?': 1,\n",
       "                          'Which continent is {country} located in?': 1,\n",
       "                          'Which country is the largest in {continent} by area?': 1,\n",
       "                          'Which country is {city} located in?': 10,\n",
       "                          'Which ethnic group is the largest in {country}?': 1,\n",
       "                          'Which religion has the most followers in {country}?': 1}),\n",
       "             'Uganda': defaultdict(int,\n",
       "                         {'What is the capital of {country}?': 1,\n",
       "                          'What is the currency of {country}?': 1,\n",
       "                          'What is the full official name of {country}?': 1,\n",
       "                          'What language has the most speakers in {country}?': 1,\n",
       "                          'Which continent is {country} located in?': 1,\n",
       "                          'Which country is the largest in {continent} by area?': 1,\n",
       "                          'Which country is {city} located in?': 1,\n",
       "                          'Which ethnic group is the largest in {country}?': 1,\n",
       "                          'Which religion has the most followers in {country}?': 1}),\n",
       "             'Ukraine': defaultdict(int,\n",
       "                         {'What is the capital of {country}?': 1,\n",
       "                          'What is the currency of {country}?': 1,\n",
       "                          'What is the full official name of {country}?': 1,\n",
       "                          'What language has the most speakers in {country}?': 1,\n",
       "                          'Which continent is {country} located in?': 1,\n",
       "                          'Which country is the largest in {continent} by area?': 1,\n",
       "                          'Which country is {city} located in?': 10,\n",
       "                          'Which ethnic group is the largest in {country}?': 1,\n",
       "                          'Which religion has the most followers in {country}?': 1}),\n",
       "             'United Arab Emirates': defaultdict(int,\n",
       "                         {'What is the capital of {country}?': 1,\n",
       "                          'What is the currency of {country}?': 1,\n",
       "                          'What is the full official name of {country}?': 1,\n",
       "                          'What language has the most speakers in {country}?': 1,\n",
       "                          'Which continent is {country} located in?': 1,\n",
       "                          'Which country is the largest in {continent} by area?': 1,\n",
       "                          'Which country is {city} located in?': 7,\n",
       "                          'Which ethnic group is the largest in {country}?': 1,\n",
       "                          'Which religion has the most followers in {country}?': 1}),\n",
       "             'United Kingdom': defaultdict(int,\n",
       "                         {'What is the capital of {country}?': 1,\n",
       "                          'What is the currency of {country}?': 1,\n",
       "                          'What is the full official name of {country}?': 1,\n",
       "                          'What language has the most speakers in {country}?': 1,\n",
       "                          'Which continent is {country} located in?': 1,\n",
       "                          'Which country is the largest in {continent} by area?': 1,\n",
       "                          'Which country is {city} located in?': 15,\n",
       "                          'Which ethnic group is the largest in {country}?': 1,\n",
       "                          'Which religion has the most followers in {country}?': 1}),\n",
       "             'United States': defaultdict(int,\n",
       "                         {'What is the capital of {country}?': 1,\n",
       "                          'What is the currency of {country}?': 1,\n",
       "                          'What is the full official name of {country}?': 1,\n",
       "                          'What language has the most speakers in {country}?': 1,\n",
       "                          'Which continent is {country} located in?': 1,\n",
       "                          'Which country is the largest in {continent} by area?': 1,\n",
       "                          'Which country is {city} located in?': 16,\n",
       "                          'Which ethnic group is the largest in {country}?': 1,\n",
       "                          'Which religion has the most followers in {country}?': 1}),\n",
       "             'Uruguay': defaultdict(int,\n",
       "                         {'What is the capital of {country}?': 1,\n",
       "                          'What is the currency of {country}?': 1,\n",
       "                          'What is the full official name of {country}?': 1,\n",
       "                          'What language has the most speakers in {country}?': 1,\n",
       "                          'Which continent is {country} located in?': 1,\n",
       "                          'Which country is the largest in {continent} by area?': 1,\n",
       "                          'Which country is {city} located in?': 1,\n",
       "                          'Which ethnic group is the largest in {country}?': 1,\n",
       "                          'Which religion has the most followers in {country}?': 1}),\n",
       "             'Vietnam': defaultdict(int,\n",
       "                         {'What is the capital of {country}?': 1,\n",
       "                          'What is the currency of {country}?': 1,\n",
       "                          'What is the full official name of {country}?': 1,\n",
       "                          'What language has the most speakers in {country}?': 1,\n",
       "                          'Which continent is {country} located in?': 1,\n",
       "                          'Which country is the largest in {continent} by area?': 1,\n",
       "                          'Which country is {city} located in?': 10,\n",
       "                          'Which ethnic group is the largest in {country}?': 1,\n",
       "                          'Which religion has the most followers in {country}?': 1}),\n",
       "             'Zambia': defaultdict(int,\n",
       "                         {'What is the capital of {country}?': 1,\n",
       "                          'What is the currency of {country}?': 1,\n",
       "                          'What is the full official name of {country}?': 1,\n",
       "                          'What language has the most speakers in {country}?': 1,\n",
       "                          'Which continent is {country} located in?': 1,\n",
       "                          'Which country is the largest in {continent} by area?': 1,\n",
       "                          'Which country is {city} located in?': 1,\n",
       "                          'Which ethnic group is the largest in {country}?': 1,\n",
       "                          'Which religion has the most followers in {country}?': 1}),\n",
       "             'Zimbabwe': defaultdict(int,\n",
       "                         {'What is the capital of {country}?': 1,\n",
       "                          'What is the currency of {country}?': 1,\n",
       "                          'What is the full official name of {country}?': 1,\n",
       "                          'What language has the most speakers in {country}?': 1,\n",
       "                          'Which continent is {country} located in?': 1,\n",
       "                          'Which country is the largest in {continent} by area?': 1,\n",
       "                          'Which country is {city} located in?': 1,\n",
       "                          'Which ethnic group is the largest in {country}?': 1,\n",
       "                          'Which religion has the most followers in {country}?': 1})})"
      ]
     },
     "execution_count": 510,
     "metadata": {},
     "output_type": "execute_result"
    }
   ],
   "source": [
    "country2template_count"
   ]
  },
  {
   "cell_type": "code",
   "execution_count": 473,
   "metadata": {},
   "outputs": [],
   "source": [
    "# pd.DataFrame(country_knowledge_data_v2,).dropna(subset=[\"answer\"])"
   ]
  },
  {
   "cell_type": "code",
   "execution_count": 474,
   "metadata": {},
   "outputs": [],
   "source": [
    "# io.dump_jsonlines(df.dropna().to_dict(\"records\"), \"/u/zliu/datastor1/KE-by-CP/data/debug_meta_train/country_syn_data_v2/country_knowledge_questions.jsonl\")"
   ]
  },
  {
   "cell_type": "code",
   "execution_count": 475,
   "metadata": {},
   "outputs": [],
   "source": [
    "# country2template_count"
   ]
  },
  {
   "cell_type": "code",
   "execution_count": 511,
   "metadata": {},
   "outputs": [
    {
     "data": {
      "text/plain": [
       "['Bolivia', 'South Africa']"
      ]
     },
     "execution_count": 511,
     "metadata": {},
     "output_type": "execute_result"
    }
   ],
   "source": [
    "\n",
    "# for i, r in popular_ood_questions_df[popular_ood_questions_df[\"template\"] == place_ood_templates_v2[-1]].iterrows():\n",
    "#     print(r[\"question\"])\n",
    "#     print(r[\"answer\"])\n",
    "#     print()\n",
    "# all([all(v == 1 for v in vs.values()) for k, vs in country2template_count.items()]) # each template has 1 instance for each country\n",
    "\n",
    "[k  for k, vs in country2template_count.items() if len(vs) < 9] # each template has 1 instance for each country"
   ]
  },
  {
   "cell_type": "code",
   "execution_count": null,
   "metadata": {},
   "outputs": [
    {
     "data": {
      "text/plain": [
       "[{'question': 'What is the full official name of Japan?',\n",
       "  'answer': 'Nippon-koku',\n",
       "  'template': 'What is the full official name of {country}?',\n",
       "  'key': 'Japan',\n",
       "  'domain': 'country'},\n",
       " {'question': 'What is the full official name of New Zealand?',\n",
       "  'answer': 'New Zealand (Aotearoa)',\n",
       "  'template': 'What is the full official name of {country}?',\n",
       "  'key': 'New Zealand',\n",
       "  'domain': 'country'},\n",
       " {'question': 'What is the full official name of Ireland?',\n",
       "  'answer': 'Republic of Ireland',\n",
       "  'template': 'What is the full official name of {country}?',\n",
       "  'key': 'Ireland',\n",
       "  'domain': 'country'},\n",
       " {'question': 'What language has the most speakers in Uganda?',\n",
       "  'answer': 'English',\n",
       "  'template': 'What language has the most speakers in {country}?',\n",
       "  'key': 'Uganda',\n",
       "  'domain': 'country'},\n",
       " {'question': 'Which continent is Cuba located in?',\n",
       "  'answer': 'North America',\n",
       "  'template': 'Which continent is {country} located in?',\n",
       "  'key': 'Cuba',\n",
       "  'domain': 'country'},\n",
       " {'question': 'Which country is Havana located in?',\n",
       "  'answer': 'Cuba',\n",
       "  'template': 'Which country is {city} located in?',\n",
       "  'key': 'Cuba',\n",
       "  'domain': 'country',\n",
       "  '(city, country)': ['Havana', 'Cuba']},\n",
       " {'question': 'Which country is Santiago de Cuba located in?',\n",
       "  'answer': 'Cuba',\n",
       "  'template': 'Which country is {city} located in?',\n",
       "  'key': 'Cuba',\n",
       "  'domain': 'country',\n",
       "  '(city, country)': ['Santiago de Cuba', 'Cuba']},\n",
       " {'question': 'Which continent is Greek located in?',\n",
       "  'answer': 'Europe',\n",
       "  'template': 'Which continent is {country} located in?',\n",
       "  'key': 'Greek',\n",
       "  'domain': 'country'},\n",
       " {'question': 'Which country is Athens located in?',\n",
       "  'answer': 'Greek',\n",
       "  'template': 'Which country is {city} located in?',\n",
       "  'key': 'Greek',\n",
       "  'domain': 'country',\n",
       "  '(city, country)': ['Athens', 'Greek']},\n",
       " {'question': 'Which country is Thessaloniki located in?',\n",
       "  'answer': 'Greek',\n",
       "  'template': 'Which country is {city} located in?',\n",
       "  'key': 'Greek',\n",
       "  'domain': 'country',\n",
       "  '(city, country)': ['Thessaloniki', 'Greek']},\n",
       " {'question': 'Which continent is Iceland located in?',\n",
       "  'answer': 'Europe',\n",
       "  'template': 'Which continent is {country} located in?',\n",
       "  'key': 'Iceland',\n",
       "  'domain': 'country'},\n",
       " {'question': 'Which country is Reykjavik located in?',\n",
       "  'answer': 'Iceland',\n",
       "  'template': 'Which country is {city} located in?',\n",
       "  'key': 'Iceland',\n",
       "  'domain': 'country',\n",
       "  '(city, country)': ['Reykjavik', 'Iceland']},\n",
       " {'question': 'Which country is Akureyri located in?',\n",
       "  'answer': 'Iceland',\n",
       "  'template': 'Which country is {city} located in?',\n",
       "  'key': 'Iceland',\n",
       "  'domain': 'country',\n",
       "  '(city, country)': ['Akureyri', 'Iceland']}]"
      ]
     },
     "execution_count": 460,
     "metadata": {},
     "output_type": "execute_result"
    }
   ],
   "source": []
  },
  {
   "cell_type": "code",
   "execution_count": null,
   "metadata": {},
   "outputs": [
    {
     "data": {
      "text/plain": [
       "566"
      ]
     },
     "execution_count": 443,
     "metadata": {},
     "output_type": "execute_result"
    }
   ],
   "source": [
    "# df = pd.DataFrame(io.load_jsonlines(\"/u/zliu/datastor1/KE-by-CP/data/debug_meta_train/country_syn_data_v2/country_knowledge_questions.jsonl\"))\n",
    "len(df)"
   ]
  },
  {
   "cell_type": "code",
   "execution_count": null,
   "metadata": {},
   "outputs": [],
   "source": []
  },
  {
   "cell_type": "code",
   "execution_count": 371,
   "metadata": {},
   "outputs": [],
   "source": [
    "# len(df.drop_duplicates(subset=[\"key\", \"template\",], keep=\"first\"))"
   ]
  },
  {
   "cell_type": "markdown",
   "metadata": {},
   "source": [
    "# add OOD_V2 questions to year_data"
   ]
  },
  {
   "cell_type": "code",
   "execution_count": 39,
   "metadata": {},
   "outputs": [],
   "source": [
    "df = pd.read_excel(\"/datastor1/zliu/mend/debug_exp_output/llama3.2-1B-common-date-year-after-eos-sft/ood_v2_prefilter/base_n=1085_prompt=no_w-gen_wo-icl_ice=False.xlsx\")\n",
    "known_knowledge = set(df[df[\"llm_accuracy\"] > 0.5][\"question\"].to_list())\n",
    "question2answers = {}\n",
    "for i, r in popular_ood_questions_df.iterrows():\n",
    "    if r[\"question\"] in known_knowledge:\n",
    "        question2answers[r[\"question\"]] = r[\"answer\"]"
   ]
  },
  {
   "cell_type": "code",
   "execution_count": 41,
   "metadata": {},
   "outputs": [],
   "source": [
    "# known_knowledge"
   ]
  },
  {
   "cell_type": "code",
   "execution_count": 274,
   "metadata": {},
   "outputs": [],
   "source": [
    "# df[df[\"llm_accuracy\"] > 0.5].describe()"
   ]
  },
  {
   "cell_type": "code",
   "execution_count": 42,
   "metadata": {},
   "outputs": [],
   "source": [
    "events = [\n",
    "    \"{first_name} {last_name} was born\",\n",
    "    \"{first_name} {last_name} started the career of {career}\", \n",
    "    \"{first_name} {last_name} passed away\",\n",
    "]\n",
    "\n",
    "ood_arithmetic_offsets = [4, 5, 11, 13, 14, 15, 16]\n",
    "\n",
    "year_ood_arithmetic_templates = [\n",
    "    \n",
    "]\n",
    "\n",
    "def h(i, rel, memo=None):\n",
    "    assert type(memo) == int\n",
    "    if rel == \"before\":\n",
    "        return lambda *x: x[i] - memo\n",
    "    else:\n",
    "        assert rel == \"after\"\n",
    "        return lambda *x: x[i] + memo\n",
    "        \n",
    "for offset in ood_arithmetic_offsets:\n",
    "    o = deepcopy(offset)\n",
    "    \n",
    "    year_ood_arithmetic_templates.extend(\n",
    "        [\n",
    "            (f\"plus_{o}\", f\"When was {o} years after the year that \" + events[0] + \"?\", h(0, rel=\"after\", memo=deepcopy(offset))),\n",
    "            (f\"plus_{o}\", f\"When was {o} years after the year that \" + events[1] + \"?\", h(1, rel=\"after\", memo=deepcopy(offset))),\n",
    "            (f\"plus_{o}\", f\"When was {o} years after the year that \" + events[2] + \"?\", h(2, rel=\"after\", memo=deepcopy(offset))),\n",
    "        ] + [\n",
    "            (f\"minus_{o}\", f\"When was {o} years before the year that \" + events[0] + \"?\", h(0, rel=\"before\", memo=deepcopy(offset))),\n",
    "            (f\"minus_{o}\", f\"When was {o} years before the year that \" + events[1] + \"?\", h(1, rel=\"before\", memo=deepcopy(offset))),\n",
    "            (f\"minus_{o}\", f\"When was {o} years before the year that \" + events[2] + \"?\", h(2, rel=\"before\", memo=deepcopy(offset))),\n",
    "        ]\n",
    "    )\n",
    "    "
   ]
  },
  {
   "cell_type": "code",
   "execution_count": 58,
   "metadata": {},
   "outputs": [],
   "source": [
    "\n",
    "\n",
    "bio_syn_data = io.load_jsonlines(f\"{vars.DATA_DIR}/debug_meta_train/bio_syn_data_v2/test.jsonl\")\n",
    "bio_syn_data_w_ood = []\n",
    "\n",
    "unanswerable_questions = set()\n",
    "year_questions = []\n",
    "place_questions = []\n",
    "# dup_questions = set()\n",
    "\n",
    "for t_d in bio_syn_data[:]:\n",
    "    year_data_extraction = extract_info_year(t_d[\"text\"])\n",
    "    ood_questions = []\n",
    "    for t in year_ood_arithmetic_templates:\n",
    "        question = t[1].format(first_name=year_data_extraction[\"first_name\"], last_name=year_data_extraction[\"last_name\"], career=year_data_extraction[\"career\"])\n",
    "        answer = t[-1](\n",
    "            int(year_data_extraction[\"birth_year\"]),\n",
    "            int(year_data_extraction[\"career_year\"]),\n",
    "            int(year_data_extraction[\"death_year\"])\n",
    "        )\n",
    "        if \"plus\" in t[0]:\n",
    "            rel = \"after\"\n",
    "        else:\n",
    "            assert \"minus\" in t[0]\n",
    "            rel = \"before\"\n",
    "        \n",
    "        \n",
    "        if \"born\" in question:\n",
    "            yr = year_data_extraction[\"birth_year\"]\n",
    "        elif \"career\" in question:\n",
    "            yr = year_data_extraction[\"career_year\"]\n",
    "        else:\n",
    "            assert \"passed away\" in question, question\n",
    "            yr = year_data_extraction[\"death_year\"]\n",
    "        \n",
    "        offset = answer - int(yr) if rel == \"after\" else int(yr) - answer\n",
    "        unaliased_question = \"When is \" + str(offset) + \" years \" + rel + \" the year \" + yr + \"?\"\n",
    "        ood_questions.append({\"question\": question, \"answer\": str(answer), \"question_type\": t[0], \"unaliased_question\": unaliased_question})\n",
    "    year_tmp = []\n",
    "    for y_i, yr_type in enumerate([\"birth_year\", \"career_year\", \"death_year\"]):\n",
    "        for t_i, t in enumerate(year_ood_templates):\n",
    "            \n",
    "            question = t.format(year=year_data_extraction[yr_type])\n",
    "            if question not in question2answers:\n",
    "                unanswerable_questions.add(question)\n",
    "                continue\n",
    "            answers = question2answers[question]\n",
    "            alias_yr = \"when \" + events[y_i].format(first_name=year_data_extraction[\"first_name\"], last_name=year_data_extraction[\"last_name\"], career=year_data_extraction[\"career\"])\n",
    "            \n",
    "            aliased_question = year_ood_templates_alias[t_i].format(year=alias_yr)\n",
    "            ood_questions.append({\"question\": aliased_question, \"answer\": answers, \"question_type\": f\"common_fact_{yr_type}\", \"unaliased_question\": question})\n",
    "            year_tmp.append(1)\n",
    "    year_questions.append(year_tmp)\n",
    "    \n",
    "    birth_country = city2country[year_data_extraction[\"birth_place\"]]\n",
    "    continent = country2continent[birth_country]\n",
    "    place_tmp = []\n",
    "    for t in place_ood_templates:\n",
    "        \n",
    "        question = t.format(country=birth_country, continent=continent)\n",
    "        if question not in question2answers:\n",
    "            \n",
    "            continue\n",
    "        answers = question2answers[question]\n",
    "        aliased_country = \"the country where \" + events[0].format(first_name=year_data_extraction[\"first_name\"], last_name=year_data_extraction[\"last_name\"])\n",
    "        \n",
    "        aliased_continent = \"the continent where \" + events[0].format(first_name=year_data_extraction[\"first_name\"], last_name=year_data_extraction[\"last_name\"])\n",
    "        aliased_question = t.format(country=aliased_country, continent=aliased_continent)\n",
    "        ood_questions.append({\"question\": aliased_question, \"answer\": answers, \"question_type\": f\"common_fact_birth_place\", \"unaliased_question\": question})\n",
    "        place_tmp.append(1)\n",
    "    place_questions.append(place_tmp)\n",
    "    \n",
    "    t_d[\"ood_questions\"] = ood_questions\n",
    "    assert all(\"unaliased_question\" in q for q in ood_questions)\n",
    "    bio_syn_data_w_ood.append(t_d)\n",
    "    \n",
    "    "
   ]
  },
  {
   "cell_type": "code",
   "execution_count": 48,
   "metadata": {},
   "outputs": [
    {
     "data": {
      "text/plain": [
       "DescribeResult(nobs=100, minmax=(np.int64(51), np.int64(61)), mean=np.float64(56.84), variance=np.float64(3.933737373737373), skewness=np.float64(-0.3469730446776399), kurtosis=np.float64(0.24761999447704097))"
      ]
     },
     "execution_count": 48,
     "metadata": {},
     "output_type": "execute_result"
    }
   ],
   "source": [
    "describe([len(x[\"ood_questions\"]) for x in bio_syn_data_w_ood])"
   ]
  },
  {
   "cell_type": "code",
   "execution_count": 60,
   "metadata": {},
   "outputs": [
    {
     "data": {
      "text/plain": [
       "DescribeResult(nobs=100, minmax=(np.int64(1), np.int64(4)), mean=np.float64(2.99), variance=np.float64(0.49484848484848487), skewness=np.float64(-0.33626036599700865), kurtosis=np.float64(0.02119957245358073))"
      ]
     },
     "execution_count": 60,
     "metadata": {},
     "output_type": "execute_result"
    }
   ],
   "source": [
    "describe([len(x) for x in place_questions])"
   ]
  },
  {
   "cell_type": "code",
   "execution_count": 62,
   "metadata": {},
   "outputs": [
    {
     "data": {
      "text/plain": [
       "299"
      ]
     },
     "execution_count": 62,
     "metadata": {},
     "output_type": "execute_result"
    }
   ],
   "source": [
    "sum([len(x) for x in place_questions])"
   ]
  },
  {
   "cell_type": "code",
   "execution_count": 61,
   "metadata": {},
   "outputs": [
    {
     "data": {
      "text/plain": [
       "DescribeResult(nobs=100, minmax=(np.int64(7), np.int64(16)), mean=np.float64(11.85), variance=np.float64(3.3207070707070705), skewness=np.float64(-0.22937669443659287), kurtosis=np.float64(-0.11266434385346047))"
      ]
     },
     "execution_count": 61,
     "metadata": {},
     "output_type": "execute_result"
    }
   ],
   "source": [
    "describe([len(x) for x in year_questions])"
   ]
  },
  {
   "cell_type": "code",
   "execution_count": 63,
   "metadata": {},
   "outputs": [
    {
     "data": {
      "text/plain": [
       "1185"
      ]
     },
     "execution_count": 63,
     "metadata": {},
     "output_type": "execute_result"
    }
   ],
   "source": [
    "sum([len(x) for x in year_questions])"
   ]
  },
  {
   "cell_type": "code",
   "execution_count": 307,
   "metadata": {},
   "outputs": [
    {
     "data": {
      "text/plain": [
       "100"
      ]
     },
     "execution_count": 307,
     "metadata": {},
     "output_type": "execute_result"
    }
   ],
   "source": [
    "# bio_syn_data_w_ood[0][\"questions\"]\n",
    "len(bio_syn_data_w_ood)"
   ]
  },
  {
   "cell_type": "code",
   "execution_count": null,
   "metadata": {},
   "outputs": [],
   "source": [
    "# io.dump_jsonlines(bio_syn_data_w_ood, f\"{vars.DATA_DIR}/debug_meta_train/bio_syn_data_v2/test_ood.jsonl\")"
   ]
  },
  {
   "cell_type": "code",
   "execution_count": 55,
   "metadata": {},
   "outputs": [
    {
     "data": {
      "text/plain": [
       "[{'question': 'When was 4 years after the year that Laura Roberts was born?',\n",
       "  'answer': '1941',\n",
       "  'question_type': 'plus_4',\n",
       "  'unaliased_question': 'When is 4 years after the year 1937?'},\n",
       " {'question': 'When was 4 years after the year that Laura Roberts started the career of Physical Therapist?',\n",
       "  'answer': '1959',\n",
       "  'question_type': 'plus_4',\n",
       "  'unaliased_question': 'When is 4 years after the year 1955?'},\n",
       " {'question': 'When was 4 years after the year that Laura Roberts passed away?',\n",
       "  'answer': '1997',\n",
       "  'question_type': 'plus_4',\n",
       "  'unaliased_question': 'When is 4 years after the year 1993?'},\n",
       " {'question': 'When was 4 years before the year that Laura Roberts was born?',\n",
       "  'answer': '1933',\n",
       "  'question_type': 'minus_4',\n",
       "  'unaliased_question': 'When is 4 years before the year 1937?'},\n",
       " {'question': 'When was 4 years before the year that Laura Roberts started the career of Physical Therapist?',\n",
       "  'answer': '1951',\n",
       "  'question_type': 'minus_4',\n",
       "  'unaliased_question': 'When is 4 years before the year 1955?'},\n",
       " {'question': 'When was 4 years before the year that Laura Roberts passed away?',\n",
       "  'answer': '1989',\n",
       "  'question_type': 'minus_4',\n",
       "  'unaliased_question': 'When is 4 years before the year 1993?'},\n",
       " {'question': 'When was 5 years after the year that Laura Roberts was born?',\n",
       "  'answer': '1942',\n",
       "  'question_type': 'plus_5',\n",
       "  'unaliased_question': 'When is 5 years after the year 1937?'},\n",
       " {'question': 'When was 5 years after the year that Laura Roberts started the career of Physical Therapist?',\n",
       "  'answer': '1960',\n",
       "  'question_type': 'plus_5',\n",
       "  'unaliased_question': 'When is 5 years after the year 1955?'},\n",
       " {'question': 'When was 5 years after the year that Laura Roberts passed away?',\n",
       "  'answer': '1998',\n",
       "  'question_type': 'plus_5',\n",
       "  'unaliased_question': 'When is 5 years after the year 1993?'},\n",
       " {'question': 'When was 5 years before the year that Laura Roberts was born?',\n",
       "  'answer': '1932',\n",
       "  'question_type': 'minus_5',\n",
       "  'unaliased_question': 'When is 5 years before the year 1937?'},\n",
       " {'question': 'When was 5 years before the year that Laura Roberts started the career of Physical Therapist?',\n",
       "  'answer': '1950',\n",
       "  'question_type': 'minus_5',\n",
       "  'unaliased_question': 'When is 5 years before the year 1955?'},\n",
       " {'question': 'When was 5 years before the year that Laura Roberts passed away?',\n",
       "  'answer': '1988',\n",
       "  'question_type': 'minus_5',\n",
       "  'unaliased_question': 'When is 5 years before the year 1993?'},\n",
       " {'question': 'When was 11 years after the year that Laura Roberts was born?',\n",
       "  'answer': '1948',\n",
       "  'question_type': 'plus_11',\n",
       "  'unaliased_question': 'When is 11 years after the year 1937?'},\n",
       " {'question': 'When was 11 years after the year that Laura Roberts started the career of Physical Therapist?',\n",
       "  'answer': '1966',\n",
       "  'question_type': 'plus_11',\n",
       "  'unaliased_question': 'When is 11 years after the year 1955?'},\n",
       " {'question': 'When was 11 years after the year that Laura Roberts passed away?',\n",
       "  'answer': '2004',\n",
       "  'question_type': 'plus_11',\n",
       "  'unaliased_question': 'When is 11 years after the year 1993?'},\n",
       " {'question': 'When was 11 years before the year that Laura Roberts was born?',\n",
       "  'answer': '1926',\n",
       "  'question_type': 'minus_11',\n",
       "  'unaliased_question': 'When is 11 years before the year 1937?'},\n",
       " {'question': 'When was 11 years before the year that Laura Roberts started the career of Physical Therapist?',\n",
       "  'answer': '1944',\n",
       "  'question_type': 'minus_11',\n",
       "  'unaliased_question': 'When is 11 years before the year 1955?'},\n",
       " {'question': 'When was 11 years before the year that Laura Roberts passed away?',\n",
       "  'answer': '1982',\n",
       "  'question_type': 'minus_11',\n",
       "  'unaliased_question': 'When is 11 years before the year 1993?'},\n",
       " {'question': 'When was 13 years after the year that Laura Roberts was born?',\n",
       "  'answer': '1950',\n",
       "  'question_type': 'plus_13',\n",
       "  'unaliased_question': 'When is 13 years after the year 1937?'},\n",
       " {'question': 'When was 13 years after the year that Laura Roberts started the career of Physical Therapist?',\n",
       "  'answer': '1968',\n",
       "  'question_type': 'plus_13',\n",
       "  'unaliased_question': 'When is 13 years after the year 1955?'},\n",
       " {'question': 'When was 13 years after the year that Laura Roberts passed away?',\n",
       "  'answer': '2006',\n",
       "  'question_type': 'plus_13',\n",
       "  'unaliased_question': 'When is 13 years after the year 1993?'},\n",
       " {'question': 'When was 13 years before the year that Laura Roberts was born?',\n",
       "  'answer': '1924',\n",
       "  'question_type': 'minus_13',\n",
       "  'unaliased_question': 'When is 13 years before the year 1937?'},\n",
       " {'question': 'When was 13 years before the year that Laura Roberts started the career of Physical Therapist?',\n",
       "  'answer': '1942',\n",
       "  'question_type': 'minus_13',\n",
       "  'unaliased_question': 'When is 13 years before the year 1955?'},\n",
       " {'question': 'When was 13 years before the year that Laura Roberts passed away?',\n",
       "  'answer': '1980',\n",
       "  'question_type': 'minus_13',\n",
       "  'unaliased_question': 'When is 13 years before the year 1993?'},\n",
       " {'question': 'When was 14 years after the year that Laura Roberts was born?',\n",
       "  'answer': '1951',\n",
       "  'question_type': 'plus_14',\n",
       "  'unaliased_question': 'When is 14 years after the year 1937?'},\n",
       " {'question': 'When was 14 years after the year that Laura Roberts started the career of Physical Therapist?',\n",
       "  'answer': '1969',\n",
       "  'question_type': 'plus_14',\n",
       "  'unaliased_question': 'When is 14 years after the year 1955?'},\n",
       " {'question': 'When was 14 years after the year that Laura Roberts passed away?',\n",
       "  'answer': '2007',\n",
       "  'question_type': 'plus_14',\n",
       "  'unaliased_question': 'When is 14 years after the year 1993?'},\n",
       " {'question': 'When was 14 years before the year that Laura Roberts was born?',\n",
       "  'answer': '1923',\n",
       "  'question_type': 'minus_14',\n",
       "  'unaliased_question': 'When is 14 years before the year 1937?'},\n",
       " {'question': 'When was 14 years before the year that Laura Roberts started the career of Physical Therapist?',\n",
       "  'answer': '1941',\n",
       "  'question_type': 'minus_14',\n",
       "  'unaliased_question': 'When is 14 years before the year 1955?'},\n",
       " {'question': 'When was 14 years before the year that Laura Roberts passed away?',\n",
       "  'answer': '1979',\n",
       "  'question_type': 'minus_14',\n",
       "  'unaliased_question': 'When is 14 years before the year 1993?'},\n",
       " {'question': 'When was 15 years after the year that Laura Roberts was born?',\n",
       "  'answer': '1952',\n",
       "  'question_type': 'plus_15',\n",
       "  'unaliased_question': 'When is 15 years after the year 1937?'},\n",
       " {'question': 'When was 15 years after the year that Laura Roberts started the career of Physical Therapist?',\n",
       "  'answer': '1970',\n",
       "  'question_type': 'plus_15',\n",
       "  'unaliased_question': 'When is 15 years after the year 1955?'},\n",
       " {'question': 'When was 15 years after the year that Laura Roberts passed away?',\n",
       "  'answer': '2008',\n",
       "  'question_type': 'plus_15',\n",
       "  'unaliased_question': 'When is 15 years after the year 1993?'},\n",
       " {'question': 'When was 15 years before the year that Laura Roberts was born?',\n",
       "  'answer': '1922',\n",
       "  'question_type': 'minus_15',\n",
       "  'unaliased_question': 'When is 15 years before the year 1937?'},\n",
       " {'question': 'When was 15 years before the year that Laura Roberts started the career of Physical Therapist?',\n",
       "  'answer': '1940',\n",
       "  'question_type': 'minus_15',\n",
       "  'unaliased_question': 'When is 15 years before the year 1955?'},\n",
       " {'question': 'When was 15 years before the year that Laura Roberts passed away?',\n",
       "  'answer': '1978',\n",
       "  'question_type': 'minus_15',\n",
       "  'unaliased_question': 'When is 15 years before the year 1993?'},\n",
       " {'question': 'When was 16 years after the year that Laura Roberts was born?',\n",
       "  'answer': '1953',\n",
       "  'question_type': 'plus_16',\n",
       "  'unaliased_question': 'When is 16 years after the year 1937?'},\n",
       " {'question': 'When was 16 years after the year that Laura Roberts started the career of Physical Therapist?',\n",
       "  'answer': '1971',\n",
       "  'question_type': 'plus_16',\n",
       "  'unaliased_question': 'When is 16 years after the year 1955?'},\n",
       " {'question': 'When was 16 years after the year that Laura Roberts passed away?',\n",
       "  'answer': '2009',\n",
       "  'question_type': 'plus_16',\n",
       "  'unaliased_question': 'When is 16 years after the year 1993?'},\n",
       " {'question': 'When was 16 years before the year that Laura Roberts was born?',\n",
       "  'answer': '1921',\n",
       "  'question_type': 'minus_16',\n",
       "  'unaliased_question': 'When is 16 years before the year 1937?'},\n",
       " {'question': 'When was 16 years before the year that Laura Roberts started the career of Physical Therapist?',\n",
       "  'answer': '1939',\n",
       "  'question_type': 'minus_16',\n",
       "  'unaliased_question': 'When is 16 years before the year 1955?'},\n",
       " {'question': 'When was 16 years before the year that Laura Roberts passed away?',\n",
       "  'answer': '1977',\n",
       "  'question_type': 'minus_16',\n",
       "  'unaliased_question': 'When is 16 years before the year 1993?'},\n",
       " {'question': 'Who was the Emperor of Japan when Laura Roberts was born?',\n",
       "  'answer': 'Hirohito',\n",
       "  'question_type': 'common_fact_birth_year',\n",
       "  'unaliased_question': 'Who was the Emperor of Japan in 1937?'},\n",
       " {'question': 'Who was the monarch of the United Kingdom when Laura Roberts was born?',\n",
       "  'answer': 'King George VI',\n",
       "  'question_type': 'common_fact_birth_year',\n",
       "  'unaliased_question': 'Who was the monarch of the United Kingdom in 1937?'},\n",
       " {'question': 'Who was the U.S. President when Laura Roberts started the career of Physical Therapist?',\n",
       "  'answer': 'Dwight D. Eisenhower',\n",
       "  'question_type': 'common_fact_career_year',\n",
       "  'unaliased_question': 'Who was the U.S. President in 1955?'},\n",
       " {'question': 'Who was the Emperor of Japan when Laura Roberts started the career of Physical Therapist?',\n",
       "  'answer': 'Hirohito',\n",
       "  'question_type': 'common_fact_career_year',\n",
       "  'unaliased_question': 'Who was the Emperor of Japan in 1955?'},\n",
       " {'question': 'Who was the monarch of the United Kingdom when Laura Roberts started the career of Physical Therapist?',\n",
       "  'answer': 'Queen Elizabeth II',\n",
       "  'question_type': 'common_fact_career_year',\n",
       "  'unaliased_question': 'Who was the monarch of the United Kingdom in 1955?'},\n",
       " {'question': 'Who was the U.S. President when Laura Roberts passed away?',\n",
       "  'answer': 'Bill Clinton',\n",
       "  'question_type': 'common_fact_death_year',\n",
       "  'unaliased_question': 'Who was the U.S. President in 1993?'},\n",
       " {'question': 'Who was the Prime Minister of the United Kingdom when Laura Roberts passed away?',\n",
       "  'answer': 'John Major',\n",
       "  'question_type': 'common_fact_death_year',\n",
       "  'unaliased_question': 'Who was the Prime Minister of the United Kingdom in 1993?'},\n",
       " {'question': 'Who was the Pope when Laura Roberts passed away?',\n",
       "  'answer': 'Pope John Paul II',\n",
       "  'question_type': 'common_fact_death_year',\n",
       "  'unaliased_question': 'Who was the Pope in 1993?'},\n",
       " {'question': 'What is the capital of the country where Laura Roberts was born?',\n",
       "  'answer': 'Washington, D.C.',\n",
       "  'question_type': 'common_fact_birth_place',\n",
       "  'unaliased_question': 'What is the capital of United States?'},\n",
       " {'question': 'What is the currency of the country where Laura Roberts was born?',\n",
       "  'answer': 'United States Dollar',\n",
       "  'question_type': 'common_fact_birth_place',\n",
       "  'unaliased_question': 'What is the currency of United States?'},\n",
       " {'question': 'Which religion has the most followers in the country where Laura Roberts was born?',\n",
       "  'answer': 'Christianity',\n",
       "  'question_type': 'common_fact_birth_place',\n",
       "  'unaliased_question': 'Which religion has the most followers in United States?'}]"
      ]
     },
     "execution_count": 55,
     "metadata": {},
     "output_type": "execute_result"
    }
   ],
   "source": [
    "bio_syn_data_w_ood[0][\"ood_questions\"]"
   ]
  },
  {
   "cell_type": "code",
   "execution_count": null,
   "metadata": {},
   "outputs": [],
   "source": []
  },
  {
   "cell_type": "code",
   "execution_count": 251,
   "metadata": {},
   "outputs": [
    {
     "data": {
      "text/plain": [
       "('minus_4',\n",
       " 'When was 4 years before the year that {first_name} {last_name} was born?',\n",
       " <function __main__.h.<locals>.<lambda>(*x)>)"
      ]
     },
     "execution_count": 251,
     "metadata": {},
     "output_type": "execute_result"
    }
   ],
   "source": [
    "year_ood_arithmetic_templates[3]"
   ]
  },
  {
   "cell_type": "code",
   "execution_count": 252,
   "metadata": {},
   "outputs": [
    {
     "data": {
      "text/plain": [
       "2019"
      ]
     },
     "execution_count": 252,
     "metadata": {},
     "output_type": "execute_result"
    }
   ],
   "source": [
    "year_ood_arithmetic_templates[3][-1](2023, 2024, 2025)"
   ]
  },
  {
   "cell_type": "code",
   "execution_count": 303,
   "metadata": {},
   "outputs": [],
   "source": [
    "\n",
    "\n",
    "# bio_syn_data = io.load_jsonlines(f\"{vars.DATA_DIR}/debug_meta_train/bio_syn_data_v2/test.jsonl\")\n",
    "# bio_syn_data_w_ood = []\n",
    "\n",
    "# unanswerable_questions = set()\n",
    "\n",
    "# for t_d in bio_syn_data[:]:\n",
    "#     year_data_extraction = extract_info_year(t_d[\"text\"])\n",
    "#     ood_questions = []\n",
    "#     for t in year_ood_arithmetic_templates:\n",
    "#         question = t[1].format(first_name=year_data_extraction[\"first_name\"], last_name=year_data_extraction[\"last_name\"], career=year_data_extraction[\"career\"])\n",
    "#         answer = t[-1](\n",
    "#             int(year_data_extraction[\"birth_year\"]),\n",
    "#             int(year_data_extraction[\"career_year\"]),\n",
    "#             int(year_data_extraction[\"death_year\"])\n",
    "#         )\n",
    "#         if \"plus\" in t[0]:\n",
    "#             rel = \"after\"\n",
    "#         else:\n",
    "#             assert \"minus\" in t[0]\n",
    "#             rel = \"before\"\n",
    "        \n",
    "        \n",
    "#         if \"born\" in question:\n",
    "#             yr = year_data_extraction[\"birth_year\"]\n",
    "#         elif \"career\" in question:\n",
    "#             yr = year_data_extraction[\"career_year\"]\n",
    "#         else:\n",
    "#             assert \"passed away\" in question, question\n",
    "#             yr = year_data_extraction[\"death_year\"]\n",
    "        \n",
    "#         offset = answer - int(yr) if rel == \"after\" else int(yr) - answer\n",
    "#         unaliased_question = \"When is \" + str(offset) + \" years \" + rel + \" the year \" + yr + \"?\"\n",
    "#         ood_questions.append({\"question\": question, \"answer\": str(answer), \"question_type\": t[0], \"unaliased_question\": unaliased_question})\n",
    "    \n",
    "#     for y_i, yr_type in enumerate([\"birth_year\", \"career_year\", \"death_year\"]):\n",
    "#         for t in year_ood_templates:\n",
    "            \n",
    "#             question = t.format(year=year_data_extraction[yr_type])\n",
    "#             if question not in question2answers:\n",
    "#                 unanswerable_questions.add(question)\n",
    "#                 continue\n",
    "#             answers = question2answers[question]\n",
    "#             alias_yr = \"when \" + events[y_i].format(first_name=year_data_extraction[\"first_name\"], last_name=year_data_extraction[\"last_name\"], career=year_data_extraction[\"career\"])\n",
    "            \n",
    "#             aliased_question = t.format(year=alias_yr)\n",
    "#             ood_questions.append({\"question\": aliased_question, \"answer\": answers, \"question_type\": f\"common_fact_{yr_type}\", \"unaliased_question\": question})\n",
    "    \n",
    "#     birth_country = test_city2country[year_data_extraction[\"birth_place\"]]\n",
    "#     continent = country2continent[birth_country]\n",
    "    \n",
    "#     for t in place_ood_templates:\n",
    "        \n",
    "#         question = t.format(country=birth_country, continent=continent)\n",
    "#         if question not in question2answers:\n",
    "            \n",
    "#             continue\n",
    "#         answers = question2answers[question]\n",
    "#         aliased_country = \"the country where \" + events[0].format(first_name=year_data_extraction[\"first_name\"], last_name=year_data_extraction[\"last_name\"])\n",
    "        \n",
    "#         aliased_continent = \"the continent where \" + events[0].format(first_name=year_data_extraction[\"first_name\"], last_name=year_data_extraction[\"last_name\"])\n",
    "#         aliased_question = t.format(country=aliased_country, continent=aliased_continent)\n",
    "#         ood_questions.append({\"question\": aliased_question, \"answer\": answers, \"question_type\": f\"common_fact_birth_place\", \"unaliased_question\": question})\n",
    "    \n",
    "#     t_d[\"ood_questions\"] = ood_questions\n",
    "#     assert all(\"unaliased_question\" in q for q in ood_questions)\n",
    "#     bio_syn_data_w_ood.append(t_d)\n",
    "    \n",
    "    "
   ]
  },
  {
   "cell_type": "code",
   "execution_count": 255,
   "metadata": {},
   "outputs": [
    {
     "data": {
      "text/plain": [
       "[{'question': 'When was 4 years after the year that Laura Roberts was born?',\n",
       "  'answer': '1941',\n",
       "  'question_type': 'plus_4',\n",
       "  'unaliased_question': 'When is 4 years after the year 1937?'},\n",
       " {'question': 'When was 4 years after the year that Laura Roberts started the career of Physical Therapist?',\n",
       "  'answer': '1959',\n",
       "  'question_type': 'plus_4',\n",
       "  'unaliased_question': 'When is 4 years after the year 1955?'},\n",
       " {'question': 'When was 4 years after the year that Laura Roberts passed away?',\n",
       "  'answer': '1997',\n",
       "  'question_type': 'plus_4',\n",
       "  'unaliased_question': 'When is 4 years after the year 1993?'},\n",
       " {'question': 'When was 4 years before the year that Laura Roberts was born?',\n",
       "  'answer': '1933',\n",
       "  'question_type': 'minus_4',\n",
       "  'unaliased_question': 'When is 4 years before the year 1937?'},\n",
       " {'question': 'When was 4 years before the year that Laura Roberts started the career of Physical Therapist?',\n",
       "  'answer': '1951',\n",
       "  'question_type': 'minus_4',\n",
       "  'unaliased_question': 'When is 4 years before the year 1955?'},\n",
       " {'question': 'When was 4 years before the year that Laura Roberts passed away?',\n",
       "  'answer': '1989',\n",
       "  'question_type': 'minus_4',\n",
       "  'unaliased_question': 'When is 4 years before the year 1993?'},\n",
       " {'question': 'When was 5 years after the year that Laura Roberts was born?',\n",
       "  'answer': '1942',\n",
       "  'question_type': 'plus_5',\n",
       "  'unaliased_question': 'When is 5 years after the year 1937?'},\n",
       " {'question': 'When was 5 years after the year that Laura Roberts started the career of Physical Therapist?',\n",
       "  'answer': '1960',\n",
       "  'question_type': 'plus_5',\n",
       "  'unaliased_question': 'When is 5 years after the year 1955?'},\n",
       " {'question': 'When was 5 years after the year that Laura Roberts passed away?',\n",
       "  'answer': '1998',\n",
       "  'question_type': 'plus_5',\n",
       "  'unaliased_question': 'When is 5 years after the year 1993?'},\n",
       " {'question': 'When was 5 years before the year that Laura Roberts was born?',\n",
       "  'answer': '1932',\n",
       "  'question_type': 'minus_5',\n",
       "  'unaliased_question': 'When is 5 years before the year 1937?'},\n",
       " {'question': 'When was 5 years before the year that Laura Roberts started the career of Physical Therapist?',\n",
       "  'answer': '1950',\n",
       "  'question_type': 'minus_5',\n",
       "  'unaliased_question': 'When is 5 years before the year 1955?'},\n",
       " {'question': 'When was 5 years before the year that Laura Roberts passed away?',\n",
       "  'answer': '1988',\n",
       "  'question_type': 'minus_5',\n",
       "  'unaliased_question': 'When is 5 years before the year 1993?'},\n",
       " {'question': 'When was 11 years after the year that Laura Roberts was born?',\n",
       "  'answer': '1948',\n",
       "  'question_type': 'plus_11',\n",
       "  'unaliased_question': 'When is 11 years after the year 1937?'},\n",
       " {'question': 'When was 11 years after the year that Laura Roberts started the career of Physical Therapist?',\n",
       "  'answer': '1966',\n",
       "  'question_type': 'plus_11',\n",
       "  'unaliased_question': 'When is 11 years after the year 1955?'},\n",
       " {'question': 'When was 11 years after the year that Laura Roberts passed away?',\n",
       "  'answer': '2004',\n",
       "  'question_type': 'plus_11',\n",
       "  'unaliased_question': 'When is 11 years after the year 1993?'},\n",
       " {'question': 'When was 11 years before the year that Laura Roberts was born?',\n",
       "  'answer': '1926',\n",
       "  'question_type': 'minus_11',\n",
       "  'unaliased_question': 'When is 11 years before the year 1937?'},\n",
       " {'question': 'When was 11 years before the year that Laura Roberts started the career of Physical Therapist?',\n",
       "  'answer': '1944',\n",
       "  'question_type': 'minus_11',\n",
       "  'unaliased_question': 'When is 11 years before the year 1955?'},\n",
       " {'question': 'When was 11 years before the year that Laura Roberts passed away?',\n",
       "  'answer': '1982',\n",
       "  'question_type': 'minus_11',\n",
       "  'unaliased_question': 'When is 11 years before the year 1993?'},\n",
       " {'question': 'When was 13 years after the year that Laura Roberts was born?',\n",
       "  'answer': '1950',\n",
       "  'question_type': 'plus_13',\n",
       "  'unaliased_question': 'When is 13 years after the year 1937?'},\n",
       " {'question': 'When was 13 years after the year that Laura Roberts started the career of Physical Therapist?',\n",
       "  'answer': '1968',\n",
       "  'question_type': 'plus_13',\n",
       "  'unaliased_question': 'When is 13 years after the year 1955?'},\n",
       " {'question': 'When was 13 years after the year that Laura Roberts passed away?',\n",
       "  'answer': '2006',\n",
       "  'question_type': 'plus_13',\n",
       "  'unaliased_question': 'When is 13 years after the year 1993?'},\n",
       " {'question': 'When was 13 years before the year that Laura Roberts was born?',\n",
       "  'answer': '1924',\n",
       "  'question_type': 'minus_13',\n",
       "  'unaliased_question': 'When is 13 years before the year 1937?'},\n",
       " {'question': 'When was 13 years before the year that Laura Roberts started the career of Physical Therapist?',\n",
       "  'answer': '1942',\n",
       "  'question_type': 'minus_13',\n",
       "  'unaliased_question': 'When is 13 years before the year 1955?'},\n",
       " {'question': 'When was 13 years before the year that Laura Roberts passed away?',\n",
       "  'answer': '1980',\n",
       "  'question_type': 'minus_13',\n",
       "  'unaliased_question': 'When is 13 years before the year 1993?'},\n",
       " {'question': 'When was 14 years after the year that Laura Roberts was born?',\n",
       "  'answer': '1951',\n",
       "  'question_type': 'plus_14',\n",
       "  'unaliased_question': 'When is 14 years after the year 1937?'},\n",
       " {'question': 'When was 14 years after the year that Laura Roberts started the career of Physical Therapist?',\n",
       "  'answer': '1969',\n",
       "  'question_type': 'plus_14',\n",
       "  'unaliased_question': 'When is 14 years after the year 1955?'},\n",
       " {'question': 'When was 14 years after the year that Laura Roberts passed away?',\n",
       "  'answer': '2007',\n",
       "  'question_type': 'plus_14',\n",
       "  'unaliased_question': 'When is 14 years after the year 1993?'},\n",
       " {'question': 'When was 14 years before the year that Laura Roberts was born?',\n",
       "  'answer': '1923',\n",
       "  'question_type': 'minus_14',\n",
       "  'unaliased_question': 'When is 14 years before the year 1937?'},\n",
       " {'question': 'When was 14 years before the year that Laura Roberts started the career of Physical Therapist?',\n",
       "  'answer': '1941',\n",
       "  'question_type': 'minus_14',\n",
       "  'unaliased_question': 'When is 14 years before the year 1955?'},\n",
       " {'question': 'When was 14 years before the year that Laura Roberts passed away?',\n",
       "  'answer': '1979',\n",
       "  'question_type': 'minus_14',\n",
       "  'unaliased_question': 'When is 14 years before the year 1993?'},\n",
       " {'question': 'When was 15 years after the year that Laura Roberts was born?',\n",
       "  'answer': '1952',\n",
       "  'question_type': 'plus_15',\n",
       "  'unaliased_question': 'When is 15 years after the year 1937?'},\n",
       " {'question': 'When was 15 years after the year that Laura Roberts started the career of Physical Therapist?',\n",
       "  'answer': '1970',\n",
       "  'question_type': 'plus_15',\n",
       "  'unaliased_question': 'When is 15 years after the year 1955?'},\n",
       " {'question': 'When was 15 years after the year that Laura Roberts passed away?',\n",
       "  'answer': '2008',\n",
       "  'question_type': 'plus_15',\n",
       "  'unaliased_question': 'When is 15 years after the year 1993?'},\n",
       " {'question': 'When was 15 years before the year that Laura Roberts was born?',\n",
       "  'answer': '1922',\n",
       "  'question_type': 'minus_15',\n",
       "  'unaliased_question': 'When is 15 years before the year 1937?'},\n",
       " {'question': 'When was 15 years before the year that Laura Roberts started the career of Physical Therapist?',\n",
       "  'answer': '1940',\n",
       "  'question_type': 'minus_15',\n",
       "  'unaliased_question': 'When is 15 years before the year 1955?'},\n",
       " {'question': 'When was 15 years before the year that Laura Roberts passed away?',\n",
       "  'answer': '1978',\n",
       "  'question_type': 'minus_15',\n",
       "  'unaliased_question': 'When is 15 years before the year 1993?'},\n",
       " {'question': 'When was 16 years after the year that Laura Roberts was born?',\n",
       "  'answer': '1953',\n",
       "  'question_type': 'plus_16',\n",
       "  'unaliased_question': 'When is 16 years after the year 1937?'},\n",
       " {'question': 'When was 16 years after the year that Laura Roberts started the career of Physical Therapist?',\n",
       "  'answer': '1971',\n",
       "  'question_type': 'plus_16',\n",
       "  'unaliased_question': 'When is 16 years after the year 1955?'},\n",
       " {'question': 'When was 16 years after the year that Laura Roberts passed away?',\n",
       "  'answer': '2009',\n",
       "  'question_type': 'plus_16',\n",
       "  'unaliased_question': 'When is 16 years after the year 1993?'},\n",
       " {'question': 'When was 16 years before the year that Laura Roberts was born?',\n",
       "  'answer': '1921',\n",
       "  'question_type': 'minus_16',\n",
       "  'unaliased_question': 'When is 16 years before the year 1937?'},\n",
       " {'question': 'When was 16 years before the year that Laura Roberts started the career of Physical Therapist?',\n",
       "  'answer': '1939',\n",
       "  'question_type': 'minus_16',\n",
       "  'unaliased_question': 'When is 16 years before the year 1955?'},\n",
       " {'question': 'When was 16 years before the year that Laura Roberts passed away?',\n",
       "  'answer': '1977',\n",
       "  'question_type': 'minus_16',\n",
       "  'unaliased_question': 'When is 16 years before the year 1993?'}]"
      ]
     },
     "execution_count": 255,
     "metadata": {},
     "output_type": "execute_result"
    }
   ],
   "source": [
    "bio_syn_data_w_ood[0][\"ood_questions\"]"
   ]
  },
  {
   "cell_type": "code",
   "execution_count": null,
   "metadata": {},
   "outputs": [],
   "source": []
  },
  {
   "cell_type": "code",
   "execution_count": 77,
   "metadata": {},
   "outputs": [
    {
     "data": {
      "text/plain": [
       "103"
      ]
     },
     "execution_count": 77,
     "metadata": {},
     "output_type": "execute_result"
    }
   ],
   "source": [
    "len(all_years)"
   ]
  },
  {
   "cell_type": "code",
   "execution_count": 78,
   "metadata": {},
   "outputs": [
    {
     "data": {
      "text/plain": [
       "6.223300970873787"
      ]
     },
     "execution_count": 78,
     "metadata": {},
     "output_type": "execute_result"
    }
   ],
   "source": [
    "641 / 103"
   ]
  },
  {
   "cell_type": "code",
   "execution_count": 52,
   "metadata": {},
   "outputs": [
    {
     "data": {
      "text/plain": [
       "True"
      ]
     },
     "execution_count": 52,
     "metadata": {},
     "output_type": "execute_result"
    }
   ],
   "source": [
    "\"2003\" in all_years"
   ]
  },
  {
   "cell_type": "code",
   "execution_count": 79,
   "metadata": {},
   "outputs": [
    {
     "data": {
      "text/plain": [
       "0"
      ]
     },
     "execution_count": 79,
     "metadata": {},
     "output_type": "execute_result"
    }
   ],
   "source": [
    "len(unanswerable_questions)"
   ]
  },
  {
   "cell_type": "code",
   "execution_count": 84,
   "metadata": {},
   "outputs": [],
   "source": [
    "# question2answers"
   ]
  },
  {
   "cell_type": "code",
   "execution_count": 85,
   "metadata": {},
   "outputs": [
    {
     "data": {
      "text/plain": [
       "100"
      ]
     },
     "execution_count": 85,
     "metadata": {},
     "output_type": "execute_result"
    }
   ],
   "source": [
    "len(bio_syn_data_w_ood)"
   ]
  },
  {
   "cell_type": "code",
   "execution_count": null,
   "metadata": {},
   "outputs": [],
   "source": [
    "# io.dump_jsonlines(bio_syn_data_w_ood, f\"{vars.DATA_DIR}/debug_meta_train/bio_syn_data_v2/test_ood.jsonl\")"
   ]
  },
  {
   "cell_type": "code",
   "execution_count": 216,
   "metadata": {},
   "outputs": [],
   "source": [
    "# bio_syn_data_w_ood[0]"
   ]
  },
  {
   "cell_type": "markdown",
   "metadata": {},
   "source": [
    "## for Country_syn OOD v2"
   ]
  },
  {
   "cell_type": "code",
   "execution_count": 356,
   "metadata": {},
   "outputs": [],
   "source": [
    "df = pd.read_excel(\"/datastor1/zliu/mend/debug_exp_output/llama3.2-1B-common-country-eos-sft/ood_v2_prefilter/base_n=1085_prompt=no_w-gen_wo-icl_ice=False.xlsx\")\n",
    "known_knowledge = set(df[df[\"llm_accuracy\"] > 0.5][\"question\"].to_list())\n",
    "question2answers = {}\n",
    "for i, r in popular_ood_questions_df.iterrows():\n",
    "    if r[\"question\"] in known_knowledge:\n",
    "        question2answers[r[\"question\"]] = r[\"answer\"]"
   ]
  },
  {
   "cell_type": "code",
   "execution_count": 291,
   "metadata": {},
   "outputs": [],
   "source": [
    "# question2answers"
   ]
  },
  {
   "cell_type": "code",
   "execution_count": 360,
   "metadata": {},
   "outputs": [],
   "source": [
    "\n",
    "country_syn_data = io.load_jsonlines(f\"{vars.DATA_DIR}/debug_meta_train/country_syn_data/test.jsonl\")\n",
    "# country_syn_data = io.load_jsonlines(f\"{vars.DATA_DIR}/debug_meta_train/country_syn_data/test_w_ood_country.jsonl\")\n",
    "\n",
    "city2country = dict(io.load_json(f\"{vars.DATA_DIR}/debug_meta_train/country_syn_data/city2country.json\"))\n",
    "country2continent = io.load_json(f\"{vars.DATA_DIR}/debug_meta_train/country_syn_data/country2continent.json\")"
   ]
  },
  {
   "cell_type": "code",
   "execution_count": 301,
   "metadata": {},
   "outputs": [],
   "source": [
    "# Counter(city2country.values())"
   ]
  },
  {
   "cell_type": "code",
   "execution_count": 361,
   "metadata": {},
   "outputs": [],
   "source": [
    "country_syn_data_w_ood = []\n",
    "count = 0\n",
    "for t_d in country_syn_data[:]:\n",
    "    place_data_extraction = extract_info_place(t_d[\"text\"])\n",
    "    assert place_data_extraction[\"birth_place\"] in city2country\n",
    "    assert place_data_extraction[\"career_place\"] in city2country\n",
    "    assert place_data_extraction[\"death_place\"] in city2country\n",
    "    birth_country = city2country[place_data_extraction[\"birth_place\"]]\n",
    "    career_country = city2country[place_data_extraction[\"career_place\"]]\n",
    "    death_country = city2country[place_data_extraction[\"death_place\"]]\n",
    "    \n",
    "    assert birth_country in country2continent\n",
    "    assert career_country in country2continent\n",
    "    assert death_country in country2continent\n",
    "    \n",
    "    birth_continent = country2continent[birth_country]\n",
    "    career_continent = country2continent[career_country]\n",
    "    death_continent = country2continent[death_country]\n",
    "    ood_questions = []\n",
    "    dup_questions = set()\n",
    "    \n",
    "    for p_i, (p_name, ctry, cont) in enumerate([(\"birth_place\", birth_country, birth_continent), (\"career_place\", career_country, career_continent), (\"death_place\", death_country, death_continent)]):\n",
    "        for t in place_ood_templates:\n",
    "        \n",
    "            question = t.format(country=ctry, continent=cont)\n",
    "            if question not in question2answers:\n",
    "                count += 1\n",
    "                continue\n",
    "            answers = question2answers[question]\n",
    "            aliased_country = \"the country where \" + events[p_i].format(first_name=place_data_extraction[\"first_name\"], last_name=place_data_extraction[\"last_name\"], career=place_data_extraction[\"career\"])\n",
    "            \n",
    "            aliased_continent = \"the continent where \" + events[p_i].format(first_name=place_data_extraction[\"first_name\"], last_name=place_data_extraction[\"last_name\"], career=place_data_extraction[\"career\"])\n",
    "            aliased_question = t.format(country=aliased_country, continent=aliased_continent)\n",
    "            if aliased_question in dup_questions:\n",
    "                continue\n",
    "            dup_questions.add(aliased_question)\n",
    "            ood_questions.append({\"question\": aliased_question, \"answer\": answers, \"question_type\": f\"common_fact_{p_name}\", \"unaliased_question\": question})\n",
    "    \n",
    "    t_d[\"ood_questions\"] = ood_questions\n",
    "    country_syn_data_w_ood.append(t_d)\n",
    "    \n",
    "# io.dump_jsonlines(country_syn_data_w_ood, f\"{vars.DATA_DIR}/debug_meta_train/country_syn_data/test_ood_w_ood_country.jsonl\")\n",
    "# io.dump_jsonlines(country_syn_data_w_ood, f\"{vars.DATA_DIR}/debug_meta_train/country_syn_data/test_ood.jsonl\")"
   ]
  },
  {
   "cell_type": "code",
   "execution_count": 362,
   "metadata": {},
   "outputs": [
    {
     "data": {
      "text/plain": [
       "DescribeResult(nobs=100, minmax=(np.int64(8), np.int64(15)), mean=np.float64(11.23), variance=np.float64(2.1990909090909097), skewness=np.float64(-0.11965404846728482), kurtosis=np.float64(-0.2973747929382853))"
      ]
     },
     "execution_count": 362,
     "metadata": {},
     "output_type": "execute_result"
    }
   ],
   "source": [
    "describe([len(x[\"ood_questions\"]) for x in country_syn_data_w_ood])"
   ]
  },
  {
   "cell_type": "code",
   "execution_count": 371,
   "metadata": {},
   "outputs": [
    {
     "data": {
      "text/plain": [
       "[{'question': 'When was 4 years after the year that Laura Roberts was born?',\n",
       "  'answer': '1941',\n",
       "  'question_type': 'plus_4',\n",
       "  'unaliased_question': 'When is 4 years after the year 1937?'},\n",
       " {'question': 'When was 4 years after the year that Laura Roberts started the career of Physical Therapist?',\n",
       "  'answer': '1959',\n",
       "  'question_type': 'plus_4',\n",
       "  'unaliased_question': 'When is 4 years after the year 1955?'},\n",
       " {'question': 'When was 4 years after the year that Laura Roberts passed away?',\n",
       "  'answer': '1997',\n",
       "  'question_type': 'plus_4',\n",
       "  'unaliased_question': 'When is 4 years after the year 1993?'},\n",
       " {'question': 'When was 4 years before the year that Laura Roberts was born?',\n",
       "  'answer': '1933',\n",
       "  'question_type': 'minus_4',\n",
       "  'unaliased_question': 'When is 4 years before the year 1937?'},\n",
       " {'question': 'When was 4 years before the year that Laura Roberts started the career of Physical Therapist?',\n",
       "  'answer': '1951',\n",
       "  'question_type': 'minus_4',\n",
       "  'unaliased_question': 'When is 4 years before the year 1955?'},\n",
       " {'question': 'When was 4 years before the year that Laura Roberts passed away?',\n",
       "  'answer': '1989',\n",
       "  'question_type': 'minus_4',\n",
       "  'unaliased_question': 'When is 4 years before the year 1993?'},\n",
       " {'question': 'When was 5 years after the year that Laura Roberts was born?',\n",
       "  'answer': '1942',\n",
       "  'question_type': 'plus_5',\n",
       "  'unaliased_question': 'When is 5 years after the year 1937?'},\n",
       " {'question': 'When was 5 years after the year that Laura Roberts started the career of Physical Therapist?',\n",
       "  'answer': '1960',\n",
       "  'question_type': 'plus_5',\n",
       "  'unaliased_question': 'When is 5 years after the year 1955?'},\n",
       " {'question': 'When was 5 years after the year that Laura Roberts passed away?',\n",
       "  'answer': '1998',\n",
       "  'question_type': 'plus_5',\n",
       "  'unaliased_question': 'When is 5 years after the year 1993?'},\n",
       " {'question': 'When was 5 years before the year that Laura Roberts was born?',\n",
       "  'answer': '1932',\n",
       "  'question_type': 'minus_5',\n",
       "  'unaliased_question': 'When is 5 years before the year 1937?'},\n",
       " {'question': 'When was 5 years before the year that Laura Roberts started the career of Physical Therapist?',\n",
       "  'answer': '1950',\n",
       "  'question_type': 'minus_5',\n",
       "  'unaliased_question': 'When is 5 years before the year 1955?'},\n",
       " {'question': 'When was 5 years before the year that Laura Roberts passed away?',\n",
       "  'answer': '1988',\n",
       "  'question_type': 'minus_5',\n",
       "  'unaliased_question': 'When is 5 years before the year 1993?'},\n",
       " {'question': 'When was 11 years after the year that Laura Roberts was born?',\n",
       "  'answer': '1948',\n",
       "  'question_type': 'plus_11',\n",
       "  'unaliased_question': 'When is 11 years after the year 1937?'},\n",
       " {'question': 'When was 11 years after the year that Laura Roberts started the career of Physical Therapist?',\n",
       "  'answer': '1966',\n",
       "  'question_type': 'plus_11',\n",
       "  'unaliased_question': 'When is 11 years after the year 1955?'},\n",
       " {'question': 'When was 11 years after the year that Laura Roberts passed away?',\n",
       "  'answer': '2004',\n",
       "  'question_type': 'plus_11',\n",
       "  'unaliased_question': 'When is 11 years after the year 1993?'},\n",
       " {'question': 'When was 11 years before the year that Laura Roberts was born?',\n",
       "  'answer': '1926',\n",
       "  'question_type': 'minus_11',\n",
       "  'unaliased_question': 'When is 11 years before the year 1937?'},\n",
       " {'question': 'When was 11 years before the year that Laura Roberts started the career of Physical Therapist?',\n",
       "  'answer': '1944',\n",
       "  'question_type': 'minus_11',\n",
       "  'unaliased_question': 'When is 11 years before the year 1955?'},\n",
       " {'question': 'When was 11 years before the year that Laura Roberts passed away?',\n",
       "  'answer': '1982',\n",
       "  'question_type': 'minus_11',\n",
       "  'unaliased_question': 'When is 11 years before the year 1993?'},\n",
       " {'question': 'When was 13 years after the year that Laura Roberts was born?',\n",
       "  'answer': '1950',\n",
       "  'question_type': 'plus_13',\n",
       "  'unaliased_question': 'When is 13 years after the year 1937?'},\n",
       " {'question': 'When was 13 years after the year that Laura Roberts started the career of Physical Therapist?',\n",
       "  'answer': '1968',\n",
       "  'question_type': 'plus_13',\n",
       "  'unaliased_question': 'When is 13 years after the year 1955?'},\n",
       " {'question': 'When was 13 years after the year that Laura Roberts passed away?',\n",
       "  'answer': '2006',\n",
       "  'question_type': 'plus_13',\n",
       "  'unaliased_question': 'When is 13 years after the year 1993?'},\n",
       " {'question': 'When was 13 years before the year that Laura Roberts was born?',\n",
       "  'answer': '1924',\n",
       "  'question_type': 'minus_13',\n",
       "  'unaliased_question': 'When is 13 years before the year 1937?'},\n",
       " {'question': 'When was 13 years before the year that Laura Roberts started the career of Physical Therapist?',\n",
       "  'answer': '1942',\n",
       "  'question_type': 'minus_13',\n",
       "  'unaliased_question': 'When is 13 years before the year 1955?'},\n",
       " {'question': 'When was 13 years before the year that Laura Roberts passed away?',\n",
       "  'answer': '1980',\n",
       "  'question_type': 'minus_13',\n",
       "  'unaliased_question': 'When is 13 years before the year 1993?'},\n",
       " {'question': 'When was 14 years after the year that Laura Roberts was born?',\n",
       "  'answer': '1951',\n",
       "  'question_type': 'plus_14',\n",
       "  'unaliased_question': 'When is 14 years after the year 1937?'},\n",
       " {'question': 'When was 14 years after the year that Laura Roberts started the career of Physical Therapist?',\n",
       "  'answer': '1969',\n",
       "  'question_type': 'plus_14',\n",
       "  'unaliased_question': 'When is 14 years after the year 1955?'},\n",
       " {'question': 'When was 14 years after the year that Laura Roberts passed away?',\n",
       "  'answer': '2007',\n",
       "  'question_type': 'plus_14',\n",
       "  'unaliased_question': 'When is 14 years after the year 1993?'},\n",
       " {'question': 'When was 14 years before the year that Laura Roberts was born?',\n",
       "  'answer': '1923',\n",
       "  'question_type': 'minus_14',\n",
       "  'unaliased_question': 'When is 14 years before the year 1937?'},\n",
       " {'question': 'When was 14 years before the year that Laura Roberts started the career of Physical Therapist?',\n",
       "  'answer': '1941',\n",
       "  'question_type': 'minus_14',\n",
       "  'unaliased_question': 'When is 14 years before the year 1955?'},\n",
       " {'question': 'When was 14 years before the year that Laura Roberts passed away?',\n",
       "  'answer': '1979',\n",
       "  'question_type': 'minus_14',\n",
       "  'unaliased_question': 'When is 14 years before the year 1993?'},\n",
       " {'question': 'When was 15 years after the year that Laura Roberts was born?',\n",
       "  'answer': '1952',\n",
       "  'question_type': 'plus_15',\n",
       "  'unaliased_question': 'When is 15 years after the year 1937?'},\n",
       " {'question': 'When was 15 years after the year that Laura Roberts started the career of Physical Therapist?',\n",
       "  'answer': '1970',\n",
       "  'question_type': 'plus_15',\n",
       "  'unaliased_question': 'When is 15 years after the year 1955?'},\n",
       " {'question': 'When was 15 years after the year that Laura Roberts passed away?',\n",
       "  'answer': '2008',\n",
       "  'question_type': 'plus_15',\n",
       "  'unaliased_question': 'When is 15 years after the year 1993?'},\n",
       " {'question': 'When was 15 years before the year that Laura Roberts was born?',\n",
       "  'answer': '1922',\n",
       "  'question_type': 'minus_15',\n",
       "  'unaliased_question': 'When is 15 years before the year 1937?'},\n",
       " {'question': 'When was 15 years before the year that Laura Roberts started the career of Physical Therapist?',\n",
       "  'answer': '1940',\n",
       "  'question_type': 'minus_15',\n",
       "  'unaliased_question': 'When is 15 years before the year 1955?'},\n",
       " {'question': 'When was 15 years before the year that Laura Roberts passed away?',\n",
       "  'answer': '1978',\n",
       "  'question_type': 'minus_15',\n",
       "  'unaliased_question': 'When is 15 years before the year 1993?'},\n",
       " {'question': 'When was 16 years after the year that Laura Roberts was born?',\n",
       "  'answer': '1953',\n",
       "  'question_type': 'plus_16',\n",
       "  'unaliased_question': 'When is 16 years after the year 1937?'},\n",
       " {'question': 'When was 16 years after the year that Laura Roberts started the career of Physical Therapist?',\n",
       "  'answer': '1971',\n",
       "  'question_type': 'plus_16',\n",
       "  'unaliased_question': 'When is 16 years after the year 1955?'},\n",
       " {'question': 'When was 16 years after the year that Laura Roberts passed away?',\n",
       "  'answer': '2009',\n",
       "  'question_type': 'plus_16',\n",
       "  'unaliased_question': 'When is 16 years after the year 1993?'},\n",
       " {'question': 'When was 16 years before the year that Laura Roberts was born?',\n",
       "  'answer': '1921',\n",
       "  'question_type': 'minus_16',\n",
       "  'unaliased_question': 'When is 16 years before the year 1937?'},\n",
       " {'question': 'When was 16 years before the year that Laura Roberts started the career of Physical Therapist?',\n",
       "  'answer': '1939',\n",
       "  'question_type': 'minus_16',\n",
       "  'unaliased_question': 'When is 16 years before the year 1955?'},\n",
       " {'question': 'When was 16 years before the year that Laura Roberts passed away?',\n",
       "  'answer': '1977',\n",
       "  'question_type': 'minus_16',\n",
       "  'unaliased_question': 'When is 16 years before the year 1993?'},\n",
       " {'question': 'Who was the U.S. President in when Laura Roberts was born?',\n",
       "  'answer': 'Franklin D. Roosevelt',\n",
       "  'question_type': 'common_fact_birth_year',\n",
       "  'unaliased_question': 'Who was the U.S. President in 1937?'},\n",
       " {'question': 'Who was the Emperor of Japan in when Laura Roberts was born?',\n",
       "  'answer': 'Hirohito',\n",
       "  'question_type': 'common_fact_birth_year',\n",
       "  'unaliased_question': 'Who was the Emperor of Japan in 1937?'},\n",
       " {'question': 'Who was the monarch of the United Kingdom in when Laura Roberts was born?',\n",
       "  'answer': 'King George VI',\n",
       "  'question_type': 'common_fact_birth_year',\n",
       "  'unaliased_question': 'Who was the monarch of the United Kingdom in 1937?'},\n",
       " {'question': 'Who was the Prime Minister of the United Kingdom in when Laura Roberts was born?',\n",
       "  'answer': 'Neville Chamberlain',\n",
       "  'question_type': 'common_fact_birth_year',\n",
       "  'unaliased_question': 'Who was the Prime Minister of the United Kingdom in 1937?'},\n",
       " {'question': 'Who was the Pope in when Laura Roberts was born?',\n",
       "  'answer': 'Pope Pius XI',\n",
       "  'question_type': 'common_fact_birth_year',\n",
       "  'unaliased_question': 'Who was the Pope in 1937?'},\n",
       " {'question': 'Who was the U.S. President in when Laura Roberts started the career of Physical Therapist?',\n",
       "  'answer': 'Dwight D. Eisenhower',\n",
       "  'question_type': 'common_fact_career_year',\n",
       "  'unaliased_question': 'Who was the U.S. President in 1955?'},\n",
       " {'question': 'Who was the monarch of the United Kingdom in when Laura Roberts started the career of Physical Therapist?',\n",
       "  'answer': 'Queen Elizabeth II',\n",
       "  'question_type': 'common_fact_career_year',\n",
       "  'unaliased_question': 'Who was the monarch of the United Kingdom in 1955?'},\n",
       " {'question': 'Who was the Prime Minister of the United Kingdom in when Laura Roberts started the career of Physical Therapist?',\n",
       "  'answer': 'Winston Churchill, Anthony Eden',\n",
       "  'question_type': 'common_fact_career_year',\n",
       "  'unaliased_question': 'Who was the Prime Minister of the United Kingdom in 1955?'},\n",
       " {'question': 'Who was the U.S. President in when Laura Roberts passed away?',\n",
       "  'answer': 'Bill Clinton',\n",
       "  'question_type': 'common_fact_death_year',\n",
       "  'unaliased_question': 'Who was the U.S. President in 1993?'},\n",
       " {'question': 'Who was the Prime Minister of the United Kingdom in when Laura Roberts passed away?',\n",
       "  'answer': 'John Major',\n",
       "  'question_type': 'common_fact_death_year',\n",
       "  'unaliased_question': 'Who was the Prime Minister of the United Kingdom in 1993?'},\n",
       " {'question': 'Who was the Pope in when Laura Roberts passed away?',\n",
       "  'answer': 'Pope John Paul II',\n",
       "  'question_type': 'common_fact_death_year',\n",
       "  'unaliased_question': 'Who was the Pope in 1993?'},\n",
       " {'question': 'What is the capital of the country where Laura Roberts was born?',\n",
       "  'answer': 'Washington, D.C.',\n",
       "  'question_type': 'common_fact_birth_place',\n",
       "  'unaliased_question': 'What is the capital of United States?'},\n",
       " {'question': 'What language has the most speakers in the country where Laura Roberts was born?',\n",
       "  'answer': 'English',\n",
       "  'question_type': 'common_fact_birth_place',\n",
       "  'unaliased_question': 'What language has the most speakers in United States?'},\n",
       " {'question': 'What is the currency of the country where Laura Roberts was born?',\n",
       "  'answer': 'United States Dollar',\n",
       "  'question_type': 'common_fact_birth_place',\n",
       "  'unaliased_question': 'What is the currency of United States?'},\n",
       " {'question': 'Which religion has the most followers in the country where Laura Roberts was born?',\n",
       "  'answer': 'Christianity',\n",
       "  'question_type': 'common_fact_birth_place',\n",
       "  'unaliased_question': 'Which religion has the most followers in United States?'}]"
      ]
     },
     "execution_count": 371,
     "metadata": {},
     "output_type": "execute_result"
    }
   ],
   "source": [
    "io.load_jsonlines(\"/u/zliu/datastor1/KE-by-CP/data/debug_meta_train/bio_syn_data_v2/test_ood.jsonl\")[0][\"ood_questions\"]"
   ]
  },
  {
   "cell_type": "code",
   "execution_count": null,
   "metadata": {},
   "outputs": [],
   "source": [
    "    \n",
    "country_syn_all_question = []\n",
    "country_key2questions = defaultdict(list)\n",
    "dup_questions = set()\n",
    "\n",
    "for t_d in country_syn_data[:]:\n",
    "    place_data_extraction = extract_person_info_country(t_d[\"text\"])\n",
    "    assert place_data_extraction[\"birth_place\"] in city2country\n",
    "    assert place_data_extraction[\"career_place\"] in city2country\n",
    "    assert place_data_extraction[\"death_place\"] in city2country\n",
    "    birth_country = city2country[place_data_extraction[\"birth_place\"]]\n",
    "    career_country = city2country[place_data_extraction[\"career_place\"]]\n",
    "    death_country = city2country[place_data_extraction[\"death_place\"]]\n",
    "    \n",
    "    assert birth_country in country2continent\n",
    "    assert career_country in country2continent\n",
    "    assert death_country in country2continent\n",
    "    \n",
    "    birth_continent = country2continent[birth_country]\n",
    "    career_continent = country2continent[career_country]\n",
    "    death_continent = country2continent[death_country]\n",
    "    \n",
    "    for ctry, cont in [ (birth_country, birth_continent), (career_country, career_continent), (death_country, death_continent)]:\n",
    "\n",
    "        for template in place_ood_templates:\n",
    "            question = template.format(country=ctry, continent=cont)\n",
    "            country_key2questions[ctry].append(template)\n",
    "            if question in dup_questions:\n",
    "                continue\n",
    "            \n",
    "            dup_questions.add(question)\n",
    "            country_syn_all_question.append(\n",
    "                {\n",
    "                    \"question\": question,\n",
    "                }\n",
    "            )\n",
    "    "
   ]
  },
  {
   "cell_type": "code",
   "execution_count": 298,
   "metadata": {},
   "outputs": [
    {
     "ename": "NameError",
     "evalue": "name 'country_syn_all_question' is not defined",
     "output_type": "error",
     "traceback": [
      "\u001b[0;31m---------------------------------------------------------------------------\u001b[0m",
      "\u001b[0;31mNameError\u001b[0m                                 Traceback (most recent call last)",
      "Cell \u001b[0;32mIn[298], line 1\u001b[0m\n\u001b[0;32m----> 1\u001b[0m \u001b[43mcountry_syn_all_question\u001b[49m\n",
      "\u001b[0;31mNameError\u001b[0m: name 'country_syn_all_question' is not defined"
     ]
    }
   ],
   "source": [
    "country_syn_all_question"
   ]
  },
  {
   "cell_type": "code",
   "execution_count": 67,
   "metadata": {},
   "outputs": [],
   "source": [
    "# len(country_syn_all_question)"
   ]
  },
  {
   "cell_type": "code",
   "execution_count": 293,
   "metadata": {},
   "outputs": [
    {
     "data": {
      "text/plain": [
       "378"
      ]
     },
     "execution_count": 293,
     "metadata": {},
     "output_type": "execute_result"
    }
   ],
   "source": [
    "len(set([x[\"question\"] for x in country_syn_all_question]))"
   ]
  },
  {
   "cell_type": "code",
   "execution_count": null,
   "metadata": {},
   "outputs": [],
   "source": [
    "\n",
    "# io.dump_jsonlines(country_syn_all_question, f\"{vars.DATA_DIR}/debug_meta_train/country_syn_data/popular_ood_questions_valid.jsonl\")"
   ]
  },
  {
   "cell_type": "code",
   "execution_count": 56,
   "metadata": {},
   "outputs": [],
   "source": [
    "popular_ood_questions_ds = load_from_disk(f\"{vars.DATA_DIR}/debug_meta_train/country_syn_data/popular_ood_questions_answers_valid.hf\")"
   ]
  },
  {
   "cell_type": "code",
   "execution_count": 57,
   "metadata": {},
   "outputs": [
    {
     "data": {
      "text/plain": [
       "4"
      ]
     },
     "execution_count": 57,
     "metadata": {},
     "output_type": "execute_result"
    }
   ],
   "source": [
    "len([x[\"question\"] for x in popular_ood_questions_ds if x[\"answers\"] == [\"I don't know\"]])"
   ]
  },
  {
   "cell_type": "code",
   "execution_count": 79,
   "metadata": {},
   "outputs": [],
   "source": [
    "question2answers = {}\n",
    "\n",
    "# for k, vs in zip(popular_ood_questions_ds[\"question\"], popular_ood_questions_ds[\"answers\"]):\n",
    "#     if vs == [\"I don't know\"]:\n",
    "#         continue\n",
    "#     question2answers[k] = vs\n",
    "# io.dump_json(question2answers, f\"{vars.DATA_DIR}/debug_meta_train/country_syn_data/popular_ood_question2answers_valid.json\")\n",
    "question2answers = io.load_json(f\"{vars.DATA_DIR}/debug_meta_train/country_syn_data/popular_ood_question2answers_train.json\")"
   ]
  },
  {
   "cell_type": "code",
   "execution_count": null,
   "metadata": {},
   "outputs": [],
   "source": []
  },
  {
   "cell_type": "code",
   "execution_count": 64,
   "metadata": {},
   "outputs": [],
   "source": [
    "# country_syn_data_w_ood[0]"
   ]
  },
  {
   "cell_type": "code",
   "execution_count": null,
   "metadata": {},
   "outputs": [
    {
     "data": {
      "text/plain": [
       "'Elizabeth Harris was born in Nakuru. She started and completed a career of Veterinarian in East London. After retirement, she moved to Nakuru and passed away.'"
      ]
     },
     "execution_count": 310,
     "metadata": {},
     "output_type": "execute_result"
    }
   ],
   "source": [
    "# country_syn_data_w_ood[0][\"text\"]"
   ]
  },
  {
   "cell_type": "code",
   "execution_count": 32,
   "metadata": {},
   "outputs": [
    {
     "data": {
      "text/plain": [
       "True"
      ]
     },
     "execution_count": 32,
     "metadata": {},
     "output_type": "execute_result"
    }
   ],
   "source": [
    "common_question_train_qa = io.load_jsonlines(f\"{vars.DATA_DIR}/debug_meta_train/common_country_data/valid.jsonl\")\n",
    "country2continent = io.load_json(f\"{vars.DATA_DIR}/debug_meta_train/country_syn_data/country2continent_valid.json\")\n",
    "all([q[\"(city, country)\"][-1] in country2continent for q in common_question_train_qa])"
   ]
  },
  {
   "cell_type": "code",
   "execution_count": null,
   "metadata": {},
   "outputs": [],
   "source": []
  },
  {
   "cell_type": "code",
   "execution_count": 33,
   "metadata": {},
   "outputs": [
    {
     "data": {
      "text/plain": [
       "Counter({'Europe': 13,\n",
       "         'Asia': 11,\n",
       "         'South America': 2,\n",
       "         'North America': 2,\n",
       "         'Africa': 2,\n",
       "         'Oceania': 1})"
      ]
     },
     "execution_count": 33,
     "metadata": {},
     "output_type": "execute_result"
    }
   ],
   "source": [
    "Counter(country2continent.values())"
   ]
  },
  {
   "cell_type": "code",
   "execution_count": 34,
   "metadata": {},
   "outputs": [
    {
     "data": {
      "text/plain": [
       "{'question': 'What country is Rajshahi in?',\n",
       " 'answer': 'Bangladesh',\n",
       " '(city, country)': ['Rajshahi', 'Bangladesh']}"
      ]
     },
     "execution_count": 34,
     "metadata": {},
     "output_type": "execute_result"
    }
   ],
   "source": [
    "common_question_train_qa[0]"
   ]
  },
  {
   "cell_type": "code",
   "execution_count": 36,
   "metadata": {},
   "outputs": [
    {
     "data": {
      "text/plain": [
       "31"
      ]
     },
     "execution_count": 36,
     "metadata": {},
     "output_type": "execute_result"
    }
   ],
   "source": [
    "common_question_continent_train_qa = []\n",
    "tmp_qs = set()\n",
    "for q in common_question_train_qa:\n",
    "    country = q['(city, country)'][-1]\n",
    "\n",
    "    if country in tmp_qs:\n",
    "        continue\n",
    "    common_question_continent_train_qa.append(\n",
    "        {\n",
    "            \"question\": f\"Which continent is {country} located in?\",\n",
    "            \"answer\": country2continent[country],\n",
    "        }\n",
    "    )\n",
    "    tmp_qs.add(country)\n",
    "len(common_question_continent_train_qa)\n"
   ]
  },
  {
   "cell_type": "code",
   "execution_count": 37,
   "metadata": {},
   "outputs": [],
   "source": [
    "io.dump_jsonlines(common_question_continent_train_qa, f\"{vars.DATA_DIR}/debug_meta_train/common_country_data/valid_continent.jsonl\")"
   ]
  },
  {
   "cell_type": "code",
   "execution_count": null,
   "metadata": {},
   "outputs": [],
   "source": []
  }
 ],
 "metadata": {
  "kernelspec": {
   "display_name": "cpt",
   "language": "python",
   "name": "python3"
  },
  "language_info": {
   "codemirror_mode": {
    "name": "ipython",
    "version": 3
   },
   "file_extension": ".py",
   "mimetype": "text/x-python",
   "name": "python",
   "nbconvert_exporter": "python",
   "pygments_lexer": "ipython3",
   "version": "3.11.0"
  }
 },
 "nbformat": 4,
 "nbformat_minor": 2
}
